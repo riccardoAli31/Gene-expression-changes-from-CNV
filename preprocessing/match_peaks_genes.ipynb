{
 "cells": [
  {
   "cell_type": "markdown",
   "metadata": {},
   "source": [
    "From episcanpy use epi.tl.find_genes to find the peaks"
   ]
  },
  {
   "cell_type": "markdown",
   "metadata": {},
   "source": [
    "# File opening(skip)"
   ]
  },
  {
   "cell_type": "code",
   "execution_count": 3,
   "metadata": {},
   "outputs": [],
   "source": [
    "#edit based on your file path\n",
    "\n",
    "file_path1 = \"/Users/gajaj/Downloads/H_Kidney_Cancer_Chromium_Nuc_Iso_vs_SaltyEZ_vs_ComplexTissueDP_raw_feature_bc_matrix.tar.gz\"\n",
    "output_dir1 = \"/Users/gajaj/OneDrive/Documents/TUM/computational_single_cell/Gene-expression-changes-from-CNV/preprocessing/Multiome\""
   ]
  },
  {
   "cell_type": "code",
   "execution_count": 4,
   "metadata": {},
   "outputs": [
    {
     "name": "stdout",
     "output_type": "stream",
     "text": [
      "Files extracted successfully\n"
     ]
    }
   ],
   "source": [
    "with tarfile.open(file_path1, \"r\") as tar:\n",
    "    tar.extractall(path=output_dir1)\n",
    "    print(\"Files extracted successfully\")"
   ]
  },
  {
   "cell_type": "code",
   "execution_count": 5,
   "metadata": {},
   "outputs": [],
   "source": [
    "#edit your file paths\n",
    "input_file_barcodes1 = \"Multiome/raw_feature_bc_matrix/barcodes.tsv.gz\"\n",
    "input_file_features1 = \"Multiome/raw_feature_bc_matrix/features.tsv.gz\"\n",
    "input_file_matrix1 = \"Multiome/raw_feature_bc_matrix/matrix.mtx.gz\""
   ]
  },
  {
   "cell_type": "code",
   "execution_count": 6,
   "metadata": {},
   "outputs": [],
   "source": [
    "#edit your file paths\n",
    "output_file_barcodes1 = \"Multiome/raw_feature_bc_matrix/barcodes.tsv\"\n",
    "output_file_features1 = \"Multiome/raw_feature_bc_matrix/features.tsv\"\n",
    "output_file_matrix1 = \"Multiome/raw_feature_bc_matrix/matrix.mtx\"\n"
   ]
  },
  {
   "cell_type": "code",
   "execution_count": 7,
   "metadata": {},
   "outputs": [],
   "source": [
    "import gzip\n",
    "\n",
    "with gzip.open(input_file_barcodes1, \"rt\") as gz_file:  \n",
    "    with open(output_file_barcodes1, \"w\") as out_file:\n",
    "        out_file.write(gz_file.read())"
   ]
  },
  {
   "cell_type": "code",
   "execution_count": 8,
   "metadata": {},
   "outputs": [],
   "source": [
    "with gzip.open(input_file_features1, \"rt\") as gz_file:  \n",
    "    with open(output_file_features1, \"w\") as out_file:\n",
    "        out_file.write(gz_file.read())"
   ]
  },
  {
   "cell_type": "code",
   "execution_count": 9,
   "metadata": {},
   "outputs": [],
   "source": [
    "with gzip.open(input_file_matrix1, \"rt\") as gz_file:  \n",
    "    with open(output_file_matrix1, \"w\") as out_file:\n",
    "        out_file.write(gz_file.read())"
   ]
  },
  {
   "cell_type": "markdown",
   "metadata": {},
   "source": [
    "# Overlaps for batch 1 data"
   ]
  },
  {
   "cell_type": "code",
   "execution_count": 1,
   "metadata": {},
   "outputs": [],
   "source": [
    "import pandas as pd\n",
    "import pandas as pd\n",
    "import pyranges as pr"
   ]
  },
  {
   "cell_type": "markdown",
   "metadata": {},
   "source": [
    "### Load the preprocessed data for genes"
   ]
  },
  {
   "cell_type": "code",
   "execution_count": 74,
   "metadata": {},
   "outputs": [],
   "source": [
    "rna_batch1_test = pd.read_csv('../data/splits/batch2_test_filtered.tsv', sep='\\t')\n",
    "rna_batch1_val = pd.read_csv('../data/splits/batch2_val_filtered.tsv', sep='\\t')\n",
    "rna_batch1_train = pd.read_csv('../data/splits/batch2_training_filtered.tsv', sep='\\t')"
   ]
  },
  {
   "cell_type": "code",
   "execution_count": 77,
   "metadata": {},
   "outputs": [
    {
     "name": "stdout",
     "output_type": "stream",
     "text": [
      "                  barcode          gene_id\n",
      "0      AACAAAGGTGTAACCA-2  ENSG00000187583\n",
      "1      AACAAAGGTGTAACCA-2  ENSG00000130775\n",
      "2      AACAAAGGTGTAACCA-2  ENSG00000117395\n",
      "3      AACAAAGGTGTAACCA-2  ENSG00000269113\n",
      "4      AACAAAGGTGTAACCA-2  ENSG00000186094\n",
      "...                   ...              ...\n",
      "34422  TTTGTGGCATGAATAG-2  ENSG00000130254\n",
      "34423  TTTGTGGCATGAATAG-2  ENSG00000080573\n",
      "34424  TTTGTGGCATGAATAG-2  ENSG00000167615\n",
      "34425  TTTGTGGCATGAATAG-2  ENSG00000225377\n",
      "34426  TTTGTGGCATGAATAG-2  ENSG00000198712\n",
      "\n",
      "[34427 rows x 2 columns]\n"
     ]
    }
   ],
   "source": [
    "# Merge all the datasets\n",
    "# List of DataFrames\n",
    "df_list = [rna_batch1_test, rna_batch1_train, rna_batch1_val]\n",
    "\n",
    "# Concatenate vertically (stack on top of each other)\n",
    "rna_df = pd.concat(df_list, ignore_index=True)\n",
    "\n",
    "# Keep only first two columns\n",
    "rna_df = rna_df[['barcode', 'gene_id']]\n",
    "\n",
    "print(rna_df)"
   ]
  },
  {
   "cell_type": "markdown",
   "metadata": {},
   "source": [
    "### Load the preprocessed atac data"
   ]
  },
  {
   "cell_type": "code",
   "execution_count": 60,
   "metadata": {},
   "outputs": [],
   "source": [
    "atac_batch1 = pd.read_csv('../data/preprocessing/atac_batch2.tsv', sep='\\t')"
   ]
  },
  {
   "cell_type": "code",
   "execution_count": 61,
   "metadata": {},
   "outputs": [
    {
     "name": "stdout",
     "output_type": "stream",
     "text": [
      "                      barcode               peak region\n",
      "24         AAACAGCCAAACGCGA-2       chr1:999931-1000736\n",
      "26         AAACAGCCAAACGCGA-2      chr1:1006265-1007161\n",
      "50         AAACAGCCAAACGCGA-2      chr1:1231651-1232570\n",
      "51         AAACAGCCAAACGCGA-2      chr1:1243919-1244727\n",
      "96         AAACAGCCAAACGCGA-2      chr1:1674708-1675636\n",
      "...                       ...                       ...\n",
      "394602888  TTTGTTGGTTAGCTGA-2  chrX:135051785-135052578\n",
      "394602900  TTTGTTGGTTAGCTGA-2  chrX:136146969-136147876\n",
      "394603039  TTTGTTGGTTAGCTGA-2  chrX:153708167-153709083\n",
      "394603049  TTTGTTGGTTAGCTGA-2  chrX:153934635-153935533\n",
      "394603188  TTTGTTGGTTAGCTGA-2    GL000195.1:74770-75538\n",
      "\n",
      "[15951195 rows x 2 columns]\n"
     ]
    }
   ],
   "source": [
    "atac_df = atac_batch1\n",
    "\n",
    "# Filter for nonzero expression\n",
    "atac_df = atac_df[atac_df['opennes'] != 0]\n",
    "\n",
    "# Keep only first two columns\n",
    "atac_df = atac_df[['barcode', 'peak region']]\n",
    "\n",
    "print(atac_df)"
   ]
  },
  {
   "cell_type": "code",
   "execution_count": 62,
   "metadata": {},
   "outputs": [
    {
     "name": "stdout",
     "output_type": "stream",
     "text": [
      "                      barcode  Chromosome      Start        End\n",
      "24         AAACAGCCAAACGCGA-2           1     999931    1000736\n",
      "26         AAACAGCCAAACGCGA-2           1    1006265    1007161\n",
      "50         AAACAGCCAAACGCGA-2           1    1231651    1232570\n",
      "51         AAACAGCCAAACGCGA-2           1    1243919    1244727\n",
      "96         AAACAGCCAAACGCGA-2           1    1674708    1675636\n",
      "...                       ...         ...        ...        ...\n",
      "394602888  TTTGTTGGTTAGCTGA-2           X  135051785  135052578\n",
      "394602900  TTTGTTGGTTAGCTGA-2           X  136146969  136147876\n",
      "394603039  TTTGTTGGTTAGCTGA-2           X  153708167  153709083\n",
      "394603049  TTTGTTGGTTAGCTGA-2           X  153934635  153935533\n",
      "394603188  TTTGTTGGTTAGCTGA-2  GL000195.1      74770      75538\n",
      "\n",
      "[15951195 rows x 4 columns]\n"
     ]
    }
   ],
   "source": [
    "# Split the column peak regions and rename chromosomes\n",
    "\n",
    "# Step 1: Split 'peak region' into Chromosome and Positions\n",
    "atac_df[['Chromosome', 'Positions']] = atac_df['peak region'].str.split(':', expand=True)\n",
    "\n",
    "# Step 2: Strip 'chr' from Chromosome values\n",
    "atac_df['Chromosome'] = atac_df['Chromosome'].str.lstrip('chr')\n",
    "\n",
    "# Step 3: Split Positions into Start and End\n",
    "atac_df[['Start', 'End']] = atac_df['Positions'].str.split('-', expand=True)\n",
    "\n",
    "# Step 4: Convert Start and End to integers\n",
    "atac_df['Start'] = atac_df['Start'].astype(int)\n",
    "atac_df['End'] = atac_df['End'].astype(int)\n",
    "\n",
    "# Step 5: Drop the original 'peak region' and 'Positions' columns\n",
    "atac_df = atac_df.drop(columns=['peak region', 'Positions'])\n",
    "\n",
    "# Display the transformed DataFrame\n",
    "print(atac_df)\n"
   ]
  },
  {
   "cell_type": "markdown",
   "metadata": {},
   "source": [
    "### Load the dataset of gene positions created in `get_gene_position.r`"
   ]
  },
  {
   "cell_type": "code",
   "execution_count": 63,
   "metadata": {},
   "outputs": [],
   "source": [
    "# Load gene regions dataset\n",
    "gene_position_df = pd.read_csv(\"../data/gene_positions_and_overlaps/gene_positions.csv\")"
   ]
  },
  {
   "cell_type": "code",
   "execution_count": 64,
   "metadata": {},
   "outputs": [],
   "source": [
    "gene_position_df.columns = [\"seqnames\", \"start\", \"end\", \"gene_id\"]"
   ]
  },
  {
   "cell_type": "code",
   "execution_count": 65,
   "metadata": {},
   "outputs": [
    {
     "data": {
      "text/html": [
       "<div>\n",
       "<style scoped>\n",
       "    .dataframe tbody tr th:only-of-type {\n",
       "        vertical-align: middle;\n",
       "    }\n",
       "\n",
       "    .dataframe tbody tr th {\n",
       "        vertical-align: top;\n",
       "    }\n",
       "\n",
       "    .dataframe thead th {\n",
       "        text-align: right;\n",
       "    }\n",
       "</style>\n",
       "<table border=\"1\" class=\"dataframe\">\n",
       "  <thead>\n",
       "    <tr style=\"text-align: right;\">\n",
       "      <th></th>\n",
       "      <th>Chromosome</th>\n",
       "      <th>Start</th>\n",
       "      <th>End</th>\n",
       "      <th>gene_id</th>\n",
       "    </tr>\n",
       "  </thead>\n",
       "  <tbody>\n",
       "    <tr>\n",
       "      <th>0</th>\n",
       "      <td>1</td>\n",
       "      <td>3069168</td>\n",
       "      <td>3438621</td>\n",
       "      <td>ENSG00000142611</td>\n",
       "    </tr>\n",
       "    <tr>\n",
       "      <th>1</th>\n",
       "      <td>1</td>\n",
       "      <td>5301928</td>\n",
       "      <td>5307394</td>\n",
       "      <td>ENSG00000284616</td>\n",
       "    </tr>\n",
       "    <tr>\n",
       "      <th>2</th>\n",
       "      <td>1</td>\n",
       "      <td>2403964</td>\n",
       "      <td>2413797</td>\n",
       "      <td>ENSG00000157911</td>\n",
       "    </tr>\n",
       "    <tr>\n",
       "      <th>3</th>\n",
       "      <td>1</td>\n",
       "      <td>5492978</td>\n",
       "      <td>5494674</td>\n",
       "      <td>ENSG00000260972</td>\n",
       "    </tr>\n",
       "    <tr>\n",
       "      <th>4</th>\n",
       "      <td>1</td>\n",
       "      <td>10054445</td>\n",
       "      <td>10054781</td>\n",
       "      <td>ENSG00000224340</td>\n",
       "    </tr>\n",
       "    <tr>\n",
       "      <th>...</th>\n",
       "      <td>...</td>\n",
       "      <td>...</td>\n",
       "      <td>...</td>\n",
       "      <td>...</td>\n",
       "    </tr>\n",
       "    <tr>\n",
       "      <th>78927</th>\n",
       "      <td>KI270717.1</td>\n",
       "      <td>15119</td>\n",
       "      <td>17798</td>\n",
       "      <td>ENSG00000307722</td>\n",
       "    </tr>\n",
       "    <tr>\n",
       "      <th>78928</th>\n",
       "      <td>KI270717.1</td>\n",
       "      <td>24947</td>\n",
       "      <td>37269</td>\n",
       "      <td>ENSG00000310401</td>\n",
       "    </tr>\n",
       "    <tr>\n",
       "      <th>78929</th>\n",
       "      <td>KI270720.1</td>\n",
       "      <td>3633</td>\n",
       "      <td>31375</td>\n",
       "      <td>ENSG00000302039</td>\n",
       "    </tr>\n",
       "    <tr>\n",
       "      <th>78930</th>\n",
       "      <td>KI270718.1</td>\n",
       "      <td>6913</td>\n",
       "      <td>19848</td>\n",
       "      <td>ENSG00000309831</td>\n",
       "    </tr>\n",
       "    <tr>\n",
       "      <th>78931</th>\n",
       "      <td>KI270755.1</td>\n",
       "      <td>26350</td>\n",
       "      <td>27723</td>\n",
       "      <td>ENSG00000309258</td>\n",
       "    </tr>\n",
       "  </tbody>\n",
       "</table>\n",
       "<p>78932 rows × 4 columns</p>\n",
       "</div>"
      ],
      "text/plain": [
       "       Chromosome     Start       End          gene_id\n",
       "0               1   3069168   3438621  ENSG00000142611\n",
       "1               1   5301928   5307394  ENSG00000284616\n",
       "2               1   2403964   2413797  ENSG00000157911\n",
       "3               1   5492978   5494674  ENSG00000260972\n",
       "4               1  10054445  10054781  ENSG00000224340\n",
       "...           ...       ...       ...              ...\n",
       "78927  KI270717.1     15119     17798  ENSG00000307722\n",
       "78928  KI270717.1     24947     37269  ENSG00000310401\n",
       "78929  KI270720.1      3633     31375  ENSG00000302039\n",
       "78930  KI270718.1      6913     19848  ENSG00000309831\n",
       "78931  KI270755.1     26350     27723  ENSG00000309258\n",
       "\n",
       "[78932 rows x 4 columns]"
      ]
     },
     "execution_count": 65,
     "metadata": {},
     "output_type": "execute_result"
    }
   ],
   "source": [
    "# Rename the columns\n",
    "gene_position_df = gene_position_df.rename(columns={\n",
    "    \"seqnames\": \"Chromosome\",  # Rename seqnames to Chromosome\n",
    "    \"start\": \"Start\",          # Rename start to Start\n",
    "    \"end\": \"End\"               # Rename end to End\n",
    "})\n",
    "gene_position_df"
   ]
  },
  {
   "cell_type": "markdown",
   "metadata": {},
   "source": [
    "### Merge the dataset of positions with rna"
   ]
  },
  {
   "cell_type": "code",
   "execution_count": 66,
   "metadata": {},
   "outputs": [
    {
     "name": "stdout",
     "output_type": "stream",
     "text": [
      "                  barcode          gene_id Chromosome     Start       End\n",
      "0      AACAAAGGTGTAACCA-2  ENSG00000187583          1    966482    975865\n",
      "1      AACAAAGGTGTAACCA-2  ENSG00000130775          1  27872543  27886685\n",
      "2      AACAAAGGTGTAACCA-2  ENSG00000117395          1  43164175  43270936\n",
      "3      AACAAAGGTGTAACCA-2  ENSG00000269113          1  47760528  47997385\n",
      "4      AACAAAGGTGTAACCA-2  ENSG00000186094          1  48532854  50023954\n",
      "...                   ...              ...        ...       ...       ...\n",
      "33752  TTTGTGGCATGAATAG-2  ENSG00000130254         19   5586981   5624046\n",
      "33753  TTTGTGGCATGAATAG-2  ENSG00000080573         19   9959561  10010504\n",
      "33754  TTTGTGGCATGAATAG-2  ENSG00000167615         19  54449190  54462016\n",
      "33755  TTTGTGGCATGAATAG-2  ENSG00000225377         20    316860    348490\n",
      "33756  TTTGTGGCATGAATAG-2  ENSG00000198712         MT      7586      8269\n",
      "\n",
      "[33757 rows x 5 columns]\n"
     ]
    }
   ],
   "source": [
    "# Merge on 'gene_id', keeping only matches (inner join)\n",
    "rna_positions_df = pd.merge(rna_df, gene_position_df, on=\"gene_id\", how=\"inner\")\n",
    "\n",
    "# Display result\n",
    "print(rna_positions_df)\n"
   ]
  },
  {
   "cell_type": "markdown",
   "metadata": {},
   "source": [
    "Create a buffer on gene regions"
   ]
  },
  {
   "cell_type": "code",
   "execution_count": 67,
   "metadata": {},
   "outputs": [
    {
     "data": {
      "text/html": [
       "<div>\n",
       "<style scoped>\n",
       "    .dataframe tbody tr th:only-of-type {\n",
       "        vertical-align: middle;\n",
       "    }\n",
       "\n",
       "    .dataframe tbody tr th {\n",
       "        vertical-align: top;\n",
       "    }\n",
       "\n",
       "    .dataframe thead th {\n",
       "        text-align: right;\n",
       "    }\n",
       "</style>\n",
       "<table border=\"1\" class=\"dataframe\">\n",
       "  <thead>\n",
       "    <tr style=\"text-align: right;\">\n",
       "      <th></th>\n",
       "      <th>barcode</th>\n",
       "      <th>gene_id</th>\n",
       "      <th>Chromosome</th>\n",
       "      <th>Start</th>\n",
       "      <th>End</th>\n",
       "    </tr>\n",
       "  </thead>\n",
       "  <tbody>\n",
       "    <tr>\n",
       "      <th>0</th>\n",
       "      <td>AACAAAGGTGTAACCA-2</td>\n",
       "      <td>ENSG00000187583</td>\n",
       "      <td>1</td>\n",
       "      <td>964482</td>\n",
       "      <td>977865</td>\n",
       "    </tr>\n",
       "    <tr>\n",
       "      <th>1</th>\n",
       "      <td>AACAAAGGTGTAACCA-2</td>\n",
       "      <td>ENSG00000130775</td>\n",
       "      <td>1</td>\n",
       "      <td>27870543</td>\n",
       "      <td>27888685</td>\n",
       "    </tr>\n",
       "    <tr>\n",
       "      <th>2</th>\n",
       "      <td>AACAAAGGTGTAACCA-2</td>\n",
       "      <td>ENSG00000117395</td>\n",
       "      <td>1</td>\n",
       "      <td>43162175</td>\n",
       "      <td>43272936</td>\n",
       "    </tr>\n",
       "    <tr>\n",
       "      <th>3</th>\n",
       "      <td>AACAAAGGTGTAACCA-2</td>\n",
       "      <td>ENSG00000269113</td>\n",
       "      <td>1</td>\n",
       "      <td>47758528</td>\n",
       "      <td>47999385</td>\n",
       "    </tr>\n",
       "    <tr>\n",
       "      <th>4</th>\n",
       "      <td>AACAAAGGTGTAACCA-2</td>\n",
       "      <td>ENSG00000186094</td>\n",
       "      <td>1</td>\n",
       "      <td>48530854</td>\n",
       "      <td>50025954</td>\n",
       "    </tr>\n",
       "    <tr>\n",
       "      <th>...</th>\n",
       "      <td>...</td>\n",
       "      <td>...</td>\n",
       "      <td>...</td>\n",
       "      <td>...</td>\n",
       "      <td>...</td>\n",
       "    </tr>\n",
       "    <tr>\n",
       "      <th>33752</th>\n",
       "      <td>TTTGTGGCATGAATAG-2</td>\n",
       "      <td>ENSG00000130254</td>\n",
       "      <td>19</td>\n",
       "      <td>5584981</td>\n",
       "      <td>5626046</td>\n",
       "    </tr>\n",
       "    <tr>\n",
       "      <th>33753</th>\n",
       "      <td>TTTGTGGCATGAATAG-2</td>\n",
       "      <td>ENSG00000080573</td>\n",
       "      <td>19</td>\n",
       "      <td>9957561</td>\n",
       "      <td>10012504</td>\n",
       "    </tr>\n",
       "    <tr>\n",
       "      <th>33754</th>\n",
       "      <td>TTTGTGGCATGAATAG-2</td>\n",
       "      <td>ENSG00000167615</td>\n",
       "      <td>19</td>\n",
       "      <td>54447190</td>\n",
       "      <td>54464016</td>\n",
       "    </tr>\n",
       "    <tr>\n",
       "      <th>33755</th>\n",
       "      <td>TTTGTGGCATGAATAG-2</td>\n",
       "      <td>ENSG00000225377</td>\n",
       "      <td>20</td>\n",
       "      <td>314860</td>\n",
       "      <td>350490</td>\n",
       "    </tr>\n",
       "    <tr>\n",
       "      <th>33756</th>\n",
       "      <td>TTTGTGGCATGAATAG-2</td>\n",
       "      <td>ENSG00000198712</td>\n",
       "      <td>MT</td>\n",
       "      <td>5586</td>\n",
       "      <td>10269</td>\n",
       "    </tr>\n",
       "  </tbody>\n",
       "</table>\n",
       "<p>33757 rows × 5 columns</p>\n",
       "</div>"
      ],
      "text/plain": [
       "                  barcode          gene_id Chromosome     Start       End\n",
       "0      AACAAAGGTGTAACCA-2  ENSG00000187583          1    964482    977865\n",
       "1      AACAAAGGTGTAACCA-2  ENSG00000130775          1  27870543  27888685\n",
       "2      AACAAAGGTGTAACCA-2  ENSG00000117395          1  43162175  43272936\n",
       "3      AACAAAGGTGTAACCA-2  ENSG00000269113          1  47758528  47999385\n",
       "4      AACAAAGGTGTAACCA-2  ENSG00000186094          1  48530854  50025954\n",
       "...                   ...              ...        ...       ...       ...\n",
       "33752  TTTGTGGCATGAATAG-2  ENSG00000130254         19   5584981   5626046\n",
       "33753  TTTGTGGCATGAATAG-2  ENSG00000080573         19   9957561  10012504\n",
       "33754  TTTGTGGCATGAATAG-2  ENSG00000167615         19  54447190  54464016\n",
       "33755  TTTGTGGCATGAATAG-2  ENSG00000225377         20    314860    350490\n",
       "33756  TTTGTGGCATGAATAG-2  ENSG00000198712         MT      5586     10269\n",
       "\n",
       "[33757 rows x 5 columns]"
      ]
     },
     "execution_count": 67,
     "metadata": {},
     "output_type": "execute_result"
    }
   ],
   "source": [
    "rna_positions_df['Start'] = rna_positions_df['Start'] - 2000\n",
    "rna_positions_df['End'] = rna_positions_df['End'] + 2000\n",
    "rna_positions_df"
   ]
  },
  {
   "cell_type": "markdown",
   "metadata": {},
   "source": [
    "### Merge using PyRanges"
   ]
  },
  {
   "cell_type": "code",
   "execution_count": 68,
   "metadata": {},
   "outputs": [
    {
     "name": "stdout",
     "output_type": "stream",
     "text": [
      "barcode       object\n",
      "gene_id       object\n",
      "Chromosome    object\n",
      "Start          int64\n",
      "End            int64\n",
      "dtype: object\n",
      "barcode       object\n",
      "Chromosome    object\n",
      "Start          int64\n",
      "End            int64\n",
      "dtype: object\n"
     ]
    }
   ],
   "source": [
    "# Convert 'Start' and 'End' to integers\n",
    "rna_positions_df[\"Start\"] = rna_positions_df[\"Start\"].astype(int)\n",
    "rna_positions_df[\"End\"] = rna_positions_df[\"End\"].astype(int)\n",
    "\n",
    "atac_df[\"Start\"] = atac_df[\"Start\"].astype(int)\n",
    "atac_df[\"End\"] = atac_df[\"End\"].astype(int)\n",
    "\n",
    "# Verify column types\n",
    "print(rna_positions_df.dtypes)\n",
    "print(atac_df.dtypes)\n"
   ]
  },
  {
   "cell_type": "code",
   "execution_count": 69,
   "metadata": {},
   "outputs": [],
   "source": [
    "# Convert dataframes to PyRanges format\n",
    "rna_ranges = pr.PyRanges(rna_positions_df)\n",
    "atac_ranges = pr.PyRanges(atac_df)"
   ]
  },
  {
   "cell_type": "code",
   "execution_count": 14,
   "metadata": {},
   "outputs": [
    {
     "name": "stdout",
     "output_type": "stream",
     "text": [
      "+--------------------+-----------------+--------------+-----------+-----------+\n",
      "| barcode            | gene_id         | Chromosome   | Start     | End       |\n",
      "| (object)           | (object)        | (category)   | (int64)   | (int64)   |\n",
      "|--------------------+-----------------+--------------+-----------+-----------|\n",
      "| AAACCGAAGGCGCATC-1 | ENSG00000269113 | 1            | 47758528  | 47999385  |\n",
      "| AAACCGAAGGCGCATC-1 | ENSG00000231252 | 1            | 60657631  | 60870041  |\n",
      "| AAACCGAAGGCGCATC-1 | ENSG00000188641 | 1            | 97075743  | 97997000  |\n",
      "| AAACCGAAGGCGCATC-1 | ENSG00000265972 | 1            | 145990435 | 145998579 |\n",
      "| ...                | ...             | ...          | ...       | ...       |\n",
      "| TGATGAACAAGGCCAA-1 | ENSG00000176728 | Y            | 18770706  | 19079555  |\n",
      "| TGGCCTTTCTTAATGG-1 | ENSG00000114374 | Y            | 12535650  | 12862839  |\n",
      "| TGGCCTTTCTTAATGG-1 | ENSG00000183878 | Y            | 13232577  | 13482673  |\n",
      "| TTCTTAGGTCACACCC-1 | ENSG00000183878 | Y            | 13232577  | 13482673  |\n",
      "+--------------------+-----------------+--------------+-----------+-----------+\n",
      "Unstranded PyRanges object has 85,531 rows and 5 columns from 25 chromosomes.\n",
      "For printing, the PyRanges was sorted on Chromosome.\n",
      "+--------------------+--------------+-----------+-----------+\n",
      "| barcode            | Chromosome   | Start     | End       |\n",
      "| (object)           | (category)   | (int64)   | (int64)   |\n",
      "|--------------------+--------------+-----------+-----------|\n",
      "| AAACAGCCACAATACT-1 | 1            | 958883    | 959800    |\n",
      "| AAACAGCCACAATACT-1 | 1            | 1115835   | 1116732   |\n",
      "| AAACAGCCACAATACT-1 | 1            | 1324352   | 1325255   |\n",
      "| AAACAGCCACAATACT-1 | 1            | 1349022   | 1350001   |\n",
      "| ...                | ...          | ...       | ...       |\n",
      "| TTTGGCTGTTGCACGG-1 | Y            | 11332807  | 11333567  |\n",
      "| TTTGTCCCAATGCCCG-1 | Y            | 56870767  | 56871793  |\n",
      "| TTTGTCCCATAAGTTC-1 | Y            | 11304900  | 11305637  |\n",
      "| TTTGTCTAGTCACTAA-1 | Y            | 56836481  | 56837334  |\n",
      "+--------------------+--------------+-----------+-----------+\n",
      "Unstranded PyRanges object has 11,633,502 rows and 4 columns from 34 chromosomes.\n",
      "For printing, the PyRanges was sorted on Chromosome.\n"
     ]
    }
   ],
   "source": [
    "print(rna_ranges)\n",
    "print(atac_ranges)"
   ]
  },
  {
   "cell_type": "code",
   "execution_count": 70,
   "metadata": {},
   "outputs": [],
   "source": [
    "# Perform overlap-based merging\n",
    "merged_df = atac_ranges.join(rna_ranges).df"
   ]
  },
  {
   "cell_type": "code",
   "execution_count": 71,
   "metadata": {},
   "outputs": [],
   "source": [
    "# Keep only rows where barcode matches barcode_b\n",
    "merged_df = merged_df[merged_df[\"barcode\"] == merged_df[\"barcode_b\"]]\n",
    "merged_df = merged_df.drop(columns=['barcode_b'])\n",
    "\n",
    "# Rename the columns\n",
    "merged_df = merged_df.rename(columns={\n",
    "    \"Start\": \"Start peak\",          \n",
    "    \"End\": \"End peak\",\n",
    "    \"Start_b\": \"Start gene\",          \n",
    "    \"End_b\": \"End gene\"                  \n",
    "})"
   ]
  },
  {
   "cell_type": "code",
   "execution_count": 72,
   "metadata": {},
   "outputs": [
    {
     "name": "stdout",
     "output_type": "stream",
     "text": [
      "                     barcode Chromosome  Start peak   End peak  \\\n",
      "12392     AAAGCACCAACAGCCT-2          1    47894501   47895341   \n",
      "12656     AAAGCACCAACAGCCT-2          1   145996332  145997192   \n",
      "12749     AAAGCACCAACAGCCT-2          1   245370903  245371717   \n",
      "12816     AAAGCACCAACAGCCT-2          1   245583275  245584148   \n",
      "12883     AAAGCACCAACAGCCT-2          1   245585086  245585913   \n",
      "...                      ...        ...         ...        ...   \n",
      "69241125  TTGTTTGGTTTGGTTC-2          X    56099086   56099949   \n",
      "69242846  TTTACGCGTCCCGAAG-2          X    57286358   57287219   \n",
      "69243045  TTTACGCGTCCCGAAG-2          X   139126243  139127132   \n",
      "69244368  TTTATGGAGCGGTTAT-2          X   132217837  132218484   \n",
      "69248342  TTTCTTGCAAACCTTG-2          X   139204768  139205644   \n",
      "\n",
      "                  gene_id  Start gene   End gene  \n",
      "12392     ENSG00000269113    47758528   47999385  \n",
      "12656     ENSG00000265972   145990435  145998579  \n",
      "12749     ENSG00000162849   245152985  245711432  \n",
      "12816     ENSG00000162849   245152985  245711432  \n",
      "12883     ENSG00000162849   245152985  245711432  \n",
      "...                   ...         ...        ...  \n",
      "69241125  ENSG00000227486    55906037   56211271  \n",
      "69242846  ENSG00000165591    57284706   57491193  \n",
      "69243045  ENSG00000129682   138612727  139224777  \n",
      "69244368  ENSG00000232160   132159687  132434862  \n",
      "69248342  ENSG00000129682   138612727  139224777  \n",
      "\n",
      "[25296 rows x 7 columns]\n"
     ]
    }
   ],
   "source": [
    "print(merged_df)"
   ]
  },
  {
   "cell_type": "markdown",
   "metadata": {},
   "source": [
    "### Create a tsv file"
   ]
  },
  {
   "cell_type": "code",
   "execution_count": 73,
   "metadata": {},
   "outputs": [
    {
     "name": "stdout",
     "output_type": "stream",
     "text": [
      "TSV file created successfully!\n"
     ]
    }
   ],
   "source": [
    "# Save as a TSV file\n",
    "merged_df.to_csv(\"../data/gene_positions_and_overlaps/overlaps_batch2.tsv\", sep=\"\\t\", index=False)\n",
    "\n",
    "# Confirm file creation\n",
    "print(\"TSV file created successfully!\")"
   ]
  },
  {
   "cell_type": "code",
   "execution_count": null,
   "metadata": {},
   "outputs": [],
   "source": []
  }
 ],
 "metadata": {
  "kernelspec": {
   "display_name": "ssb",
   "language": "python",
   "name": "python3"
  },
  "language_info": {
   "codemirror_mode": {
    "name": "ipython",
    "version": 3
   },
   "file_extension": ".py",
   "mimetype": "text/x-python",
   "name": "python",
   "nbconvert_exporter": "python",
   "pygments_lexer": "ipython3",
   "version": "3.12.9"
  }
 },
 "nbformat": 4,
 "nbformat_minor": 2
}
