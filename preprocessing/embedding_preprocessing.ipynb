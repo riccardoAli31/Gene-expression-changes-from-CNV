{
 "cells": [
  {
   "cell_type": "markdown",
   "metadata": {},
   "source": [
    "# Embedding Preprocessing\n",
    "Preprocessings for computing and developing embeddings"
   ]
  },
  {
   "cell_type": "code",
   "execution_count": 1,
   "metadata": {},
   "outputs": [],
   "source": [
    "import pandas as pd\n",
    "import numpy as np\n",
    "from plotnine import ggplot, aes, geom_histogram, labs\n",
    "import os\n",
    "from pathlib import Path\n",
    "import sys\n",
    "sys.path.append('..')\n",
    "\n",
    "%load_ext autoreload\n",
    "%autoreload 2"
   ]
  },
  {
   "cell_type": "code",
   "execution_count": 2,
   "metadata": {},
   "outputs": [],
   "source": [
    "data_root = Path('..') / 'data'\n",
    "plot_root = Path('..') / 'out' / 'plots'\n",
    "assert all([os.path.isdir(x) for x in [data_root, plot_root]])"
   ]
  },
  {
   "cell_type": "markdown",
   "metadata": {},
   "source": [
    "## Embedding Computation\n",
    "Compute embeddings for each dataset."
   ]
  },
  {
   "cell_type": "code",
   "execution_count": 3,
   "metadata": {},
   "outputs": [],
   "source": [
    "from src.data.dataset import CopyNumerDNADataset"
   ]
  },
  {
   "cell_type": "code",
   "execution_count": 4,
   "metadata": {},
   "outputs": [],
   "source": [
    "b1_train_path = data_root / 'batch1_train.tsv'\n",
    "b1_val_path = data_root / 'batch1_val.tsv'\n",
    "b1_test_path = data_root / 'batch1_test.tsv'"
   ]
  },
  {
   "cell_type": "code",
   "execution_count": 5,
   "metadata": {},
   "outputs": [],
   "source": [
    "for path in [b1_val_path]:\n",
    "    df = pd.read_csv(path, sep='\\t')\n",
    "    df['barcode'].unique()"
   ]
  },
  {
   "cell_type": "code",
   "execution_count": 6,
   "metadata": {},
   "outputs": [],
   "source": [
    "df = pd.read_csv(b1_val_path, sep='\\t')"
   ]
  },
  {
   "cell_type": "code",
   "execution_count": 7,
   "metadata": {},
   "outputs": [
    {
     "data": {
      "text/plain": [
       "barcode             AAACATGCAGGATGGC-1\n",
       "gene_id                ENSG00000269113\n",
       "expression_count              1.179453\n",
       "classification                    high\n",
       "Name: 2, dtype: object"
      ]
     },
     "execution_count": 7,
     "metadata": {},
     "output_type": "execute_result"
    }
   ],
   "source": [
    "df.loc[2]"
   ]
  },
  {
   "cell_type": "code",
   "execution_count": 15,
   "metadata": {},
   "outputs": [],
   "source": [
    "# test paths\n",
    "test_df_path = data_root / 'testing' / 'test_set.tsv'\n",
    "atac_test_path = data_root / 'testing' / 'atac_test_data.tsv'\n",
    "cnv_test_path = data_root / 'testing' / 'cnv_test_data.csv'\n",
    "test_df = pd.read_csv(test_df_path, sep='\\t')"
   ]
  },
  {
   "cell_type": "code",
   "execution_count": 16,
   "metadata": {},
   "outputs": [
    {
     "data": {
      "text/html": [
       "<div>\n",
       "<style scoped>\n",
       "    .dataframe tbody tr th:only-of-type {\n",
       "        vertical-align: middle;\n",
       "    }\n",
       "\n",
       "    .dataframe tbody tr th {\n",
       "        vertical-align: top;\n",
       "    }\n",
       "\n",
       "    .dataframe thead th {\n",
       "        text-align: right;\n",
       "    }\n",
       "</style>\n",
       "<table border=\"1\" class=\"dataframe\">\n",
       "  <thead>\n",
       "    <tr style=\"text-align: right;\">\n",
       "      <th></th>\n",
       "      <th>barcode</th>\n",
       "      <th>gene_id</th>\n",
       "      <th>expression_count</th>\n",
       "      <th>classification</th>\n",
       "    </tr>\n",
       "  </thead>\n",
       "  <tbody>\n",
       "    <tr>\n",
       "      <th>0</th>\n",
       "      <td>cell-GCGCAATGTTGCGGAT-3</td>\n",
       "      <td>ENSG00000269113</td>\n",
       "      <td>0.74</td>\n",
       "      <td>low</td>\n",
       "    </tr>\n",
       "    <tr>\n",
       "      <th>1</th>\n",
       "      <td>cell-CTAGTGAGTCACCTAT-3</td>\n",
       "      <td>ENSG00000269113</td>\n",
       "      <td>0.65</td>\n",
       "      <td>low</td>\n",
       "    </tr>\n",
       "    <tr>\n",
       "      <th>2</th>\n",
       "      <td>cell-AATCATGTCGATCAGT-1</td>\n",
       "      <td>ENSG00000269113</td>\n",
       "      <td>0.99</td>\n",
       "      <td>low</td>\n",
       "    </tr>\n",
       "    <tr>\n",
       "      <th>3</th>\n",
       "      <td>cell-TCCTTAGTCGGGACTC-4</td>\n",
       "      <td>ENSG00000269113</td>\n",
       "      <td>1.82</td>\n",
       "      <td>high</td>\n",
       "    </tr>\n",
       "    <tr>\n",
       "      <th>4</th>\n",
       "      <td>cell-ACTATCCGTCTAACCT-1</td>\n",
       "      <td>ENSG00000269113</td>\n",
       "      <td>0.75</td>\n",
       "      <td>low</td>\n",
       "    </tr>\n",
       "    <tr>\n",
       "      <th>5</th>\n",
       "      <td>cell-GTGCACGGTCACAAAT-3</td>\n",
       "      <td>ENSG00000269113</td>\n",
       "      <td>0.77</td>\n",
       "      <td>low</td>\n",
       "    </tr>\n",
       "    <tr>\n",
       "      <th>6</th>\n",
       "      <td>cell-TACGTAATCGTTTCGC-3</td>\n",
       "      <td>ENSG00000269113</td>\n",
       "      <td>0.32</td>\n",
       "      <td>low</td>\n",
       "    </tr>\n",
       "    <tr>\n",
       "      <th>7</th>\n",
       "      <td>cell-GCGCAATGTTGCGGAT-3</td>\n",
       "      <td>ENSG00000114423</td>\n",
       "      <td>0.26</td>\n",
       "      <td>low</td>\n",
       "    </tr>\n",
       "    <tr>\n",
       "      <th>8</th>\n",
       "      <td>cell-CTAGTGAGTCACCTAT-3</td>\n",
       "      <td>ENSG00000114423</td>\n",
       "      <td>1.01</td>\n",
       "      <td>high</td>\n",
       "    </tr>\n",
       "    <tr>\n",
       "      <th>9</th>\n",
       "      <td>cell-AATCATGTCGATCAGT-1</td>\n",
       "      <td>ENSG00000114423</td>\n",
       "      <td>0.41</td>\n",
       "      <td>low</td>\n",
       "    </tr>\n",
       "    <tr>\n",
       "      <th>10</th>\n",
       "      <td>cell-TCCTTAGTCGGGACTC-4</td>\n",
       "      <td>ENSG00000114423</td>\n",
       "      <td>0.22</td>\n",
       "      <td>low</td>\n",
       "    </tr>\n",
       "    <tr>\n",
       "      <th>11</th>\n",
       "      <td>cell-ACTATCCGTCTAACCT-1</td>\n",
       "      <td>ENSG00000114423</td>\n",
       "      <td>1.20</td>\n",
       "      <td>high</td>\n",
       "    </tr>\n",
       "    <tr>\n",
       "      <th>12</th>\n",
       "      <td>cell-GTGCACGGTCACAAAT-3</td>\n",
       "      <td>ENSG00000114423</td>\n",
       "      <td>0.19</td>\n",
       "      <td>low</td>\n",
       "    </tr>\n",
       "    <tr>\n",
       "      <th>13</th>\n",
       "      <td>cell-TACGTAATCGTTTCGC-3</td>\n",
       "      <td>ENSG00000114423</td>\n",
       "      <td>0.55</td>\n",
       "      <td>low</td>\n",
       "    </tr>\n",
       "    <tr>\n",
       "      <th>14</th>\n",
       "      <td>cell-GCGCAATGTTGCGGAT-3</td>\n",
       "      <td>ENSG00000106258</td>\n",
       "      <td>1.75</td>\n",
       "      <td>high</td>\n",
       "    </tr>\n",
       "    <tr>\n",
       "      <th>15</th>\n",
       "      <td>cell-CTAGTGAGTCACCTAT-3</td>\n",
       "      <td>ENSG00000106258</td>\n",
       "      <td>1.51</td>\n",
       "      <td>high</td>\n",
       "    </tr>\n",
       "    <tr>\n",
       "      <th>16</th>\n",
       "      <td>cell-AATCATGTCGATCAGT-1</td>\n",
       "      <td>ENSG00000106258</td>\n",
       "      <td>1.43</td>\n",
       "      <td>high</td>\n",
       "    </tr>\n",
       "    <tr>\n",
       "      <th>17</th>\n",
       "      <td>cell-TCCTTAGTCGGGACTC-4</td>\n",
       "      <td>ENSG00000106258</td>\n",
       "      <td>0.94</td>\n",
       "      <td>low</td>\n",
       "    </tr>\n",
       "    <tr>\n",
       "      <th>18</th>\n",
       "      <td>cell-ACTATCCGTCTAACCT-1</td>\n",
       "      <td>ENSG00000106258</td>\n",
       "      <td>1.33</td>\n",
       "      <td>high</td>\n",
       "    </tr>\n",
       "    <tr>\n",
       "      <th>19</th>\n",
       "      <td>cell-GTGCACGGTCACAAAT-3</td>\n",
       "      <td>ENSG00000106258</td>\n",
       "      <td>0.75</td>\n",
       "      <td>low</td>\n",
       "    </tr>\n",
       "    <tr>\n",
       "      <th>20</th>\n",
       "      <td>cell-TACGTAATCGTTTCGC-3</td>\n",
       "      <td>ENSG00000106258</td>\n",
       "      <td>1.69</td>\n",
       "      <td>high</td>\n",
       "    </tr>\n",
       "  </tbody>\n",
       "</table>\n",
       "</div>"
      ],
      "text/plain": [
       "                    barcode          gene_id  expression_count classification\n",
       "0   cell-GCGCAATGTTGCGGAT-3  ENSG00000269113              0.74            low\n",
       "1   cell-CTAGTGAGTCACCTAT-3  ENSG00000269113              0.65            low\n",
       "2   cell-AATCATGTCGATCAGT-1  ENSG00000269113              0.99            low\n",
       "3   cell-TCCTTAGTCGGGACTC-4  ENSG00000269113              1.82           high\n",
       "4   cell-ACTATCCGTCTAACCT-1  ENSG00000269113              0.75            low\n",
       "5   cell-GTGCACGGTCACAAAT-3  ENSG00000269113              0.77            low\n",
       "6   cell-TACGTAATCGTTTCGC-3  ENSG00000269113              0.32            low\n",
       "7   cell-GCGCAATGTTGCGGAT-3  ENSG00000114423              0.26            low\n",
       "8   cell-CTAGTGAGTCACCTAT-3  ENSG00000114423              1.01           high\n",
       "9   cell-AATCATGTCGATCAGT-1  ENSG00000114423              0.41            low\n",
       "10  cell-TCCTTAGTCGGGACTC-4  ENSG00000114423              0.22            low\n",
       "11  cell-ACTATCCGTCTAACCT-1  ENSG00000114423              1.20           high\n",
       "12  cell-GTGCACGGTCACAAAT-3  ENSG00000114423              0.19            low\n",
       "13  cell-TACGTAATCGTTTCGC-3  ENSG00000114423              0.55            low\n",
       "14  cell-GCGCAATGTTGCGGAT-3  ENSG00000106258              1.75           high\n",
       "15  cell-CTAGTGAGTCACCTAT-3  ENSG00000106258              1.51           high\n",
       "16  cell-AATCATGTCGATCAGT-1  ENSG00000106258              1.43           high\n",
       "17  cell-TCCTTAGTCGGGACTC-4  ENSG00000106258              0.94            low\n",
       "18  cell-ACTATCCGTCTAACCT-1  ENSG00000106258              1.33           high\n",
       "19  cell-GTGCACGGTCACAAAT-3  ENSG00000106258              0.75            low\n",
       "20  cell-TACGTAATCGTTTCGC-3  ENSG00000106258              1.69           high"
      ]
     },
     "execution_count": 16,
     "metadata": {},
     "output_type": "execute_result"
    }
   ],
   "source": [
    "test_df"
   ]
  },
  {
   "cell_type": "code",
   "execution_count": 17,
   "metadata": {},
   "outputs": [
    {
     "name": "stdout",
     "output_type": "stream",
     "text": [
      "{'cell-TCCTTAGTCGGGACTC-4', 'cell-CTAGTGAGTCACCTAT-3', 'cell-ACTATCCGTCTAACCT-1', 'cell-AATCATGTCGATCAGT-1', 'cell-GCGCAATGTTGCGGAT-3', 'cell-GTGCACGGTCACAAAT-3', 'cell-TACGTAATCGTTTCGC-3'}\n",
      "{'ENSG00000114423', 'ENSG00000106258', 'ENSG00000269113'}\n",
      "Recomputing embeddings:  True\n",
      "0\n",
      "0\n",
      "(21, 4)\n"
     ]
    },
    {
     "ename": "ValueError",
     "evalue": "Length of values (0) does not match length of index (21)",
     "output_type": "error",
     "traceback": [
      "\u001b[0;31m---------------------------------------------------------------------------\u001b[0m",
      "\u001b[0;31mValueError\u001b[0m                                Traceback (most recent call last)",
      "Cell \u001b[0;32mIn[17], line 1\u001b[0m\n\u001b[0;32m----> 1\u001b[0m val_dataset \u001b[38;5;241m=\u001b[39m \u001b[43mCopyNumerDNADataset\u001b[49m\u001b[43m(\u001b[49m\n\u001b[1;32m      2\u001b[0m \u001b[43m    \u001b[49m\u001b[43mroot\u001b[49m\u001b[38;5;241;43m=\u001b[39;49m\u001b[43mdata_root\u001b[49m\u001b[43m \u001b[49m\u001b[38;5;241;43m/\u001b[39;49m\u001b[43m \u001b[49m\u001b[38;5;124;43m'\u001b[39;49m\u001b[38;5;124;43mtesting\u001b[39;49m\u001b[38;5;124;43m'\u001b[39;49m\u001b[43m \u001b[49m\u001b[38;5;241;43m/\u001b[39;49m\u001b[43m \u001b[49m\u001b[38;5;124;43m'\u001b[39;49m\u001b[38;5;124;43membeddings\u001b[39;49m\u001b[38;5;124;43m'\u001b[39;49m\u001b[43m,\u001b[49m\n\u001b[1;32m      3\u001b[0m \u001b[43m    \u001b[49m\u001b[43mdata_df\u001b[49m\u001b[38;5;241;43m=\u001b[39;49m\u001b[43mtest_df\u001b[49m\u001b[43m,\u001b[49m\n\u001b[1;32m      4\u001b[0m \u001b[43m    \u001b[49m\u001b[43mfasta_path\u001b[49m\u001b[38;5;241;43m=\u001b[39;49m\u001b[43mdata_root\u001b[49m\u001b[43m \u001b[49m\u001b[38;5;241;43m/\u001b[39;49m\u001b[43m \u001b[49m\u001b[38;5;124;43m'\u001b[39;49m\u001b[38;5;124;43mGRCh38.d1.vd1.fa\u001b[39;49m\u001b[38;5;124;43m'\u001b[39;49m\u001b[43m,\u001b[49m\n\u001b[1;32m      5\u001b[0m \u001b[43m    \u001b[49m\u001b[43matac_path\u001b[49m\u001b[38;5;241;43m=\u001b[39;49m\u001b[43matac_test_path\u001b[49m\u001b[43m,\u001b[49m\n\u001b[1;32m      6\u001b[0m \u001b[43m    \u001b[49m\u001b[43mcnv_path\u001b[49m\u001b[38;5;241;43m=\u001b[39;49m\u001b[43mcnv_test_path\u001b[49m\u001b[43m,\u001b[49m\n\u001b[1;32m      7\u001b[0m \u001b[43m    \u001b[49m\u001b[43mforce_recompute\u001b[49m\u001b[38;5;241;43m=\u001b[39;49m\u001b[38;5;28;43;01mTrue\u001b[39;49;00m\n\u001b[1;32m      8\u001b[0m \u001b[43m)\u001b[49m\n",
      "File \u001b[0;32m~/study/bioinformatics/modules/cmscb-TUM/project/preprocessing/../src/data/dataset.py:94\u001b[0m, in \u001b[0;36mCopyNumerDNADataset.__init__\u001b[0;34m(self, root, data_df, force_recompute, embedding_mode, *args, **kwargs)\u001b[0m\n\u001b[1;32m     92\u001b[0m \u001b[38;5;28mprint\u001b[39m(\u001b[38;5;28mlen\u001b[39m(file_paths))\n\u001b[1;32m     93\u001b[0m \u001b[38;5;28mprint\u001b[39m(\u001b[38;5;28mself\u001b[39m\u001b[38;5;241m.\u001b[39mdata_df\u001b[38;5;241m.\u001b[39mshape)\n\u001b[0;32m---> 94\u001b[0m \u001b[38;5;28;43mself\u001b[39;49m\u001b[38;5;241;43m.\u001b[39;49m\u001b[43mdata_df\u001b[49m\u001b[43m[\u001b[49m\u001b[38;5;124;43m'\u001b[39;49m\u001b[38;5;124;43membedding_path\u001b[39;49m\u001b[38;5;124;43m'\u001b[39;49m\u001b[43m]\u001b[49m \u001b[38;5;241m=\u001b[39m file_paths\n",
      "File \u001b[0;32m~/miniforge3/envs/cmscb/lib/python3.12/site-packages/pandas/core/frame.py:4311\u001b[0m, in \u001b[0;36mDataFrame.__setitem__\u001b[0;34m(self, key, value)\u001b[0m\n\u001b[1;32m   4308\u001b[0m     \u001b[38;5;28mself\u001b[39m\u001b[38;5;241m.\u001b[39m_setitem_array([key], value)\n\u001b[1;32m   4309\u001b[0m \u001b[38;5;28;01melse\u001b[39;00m:\n\u001b[1;32m   4310\u001b[0m     \u001b[38;5;66;03m# set column\u001b[39;00m\n\u001b[0;32m-> 4311\u001b[0m     \u001b[38;5;28;43mself\u001b[39;49m\u001b[38;5;241;43m.\u001b[39;49m\u001b[43m_set_item\u001b[49m\u001b[43m(\u001b[49m\u001b[43mkey\u001b[49m\u001b[43m,\u001b[49m\u001b[43m \u001b[49m\u001b[43mvalue\u001b[49m\u001b[43m)\u001b[49m\n",
      "File \u001b[0;32m~/miniforge3/envs/cmscb/lib/python3.12/site-packages/pandas/core/frame.py:4524\u001b[0m, in \u001b[0;36mDataFrame._set_item\u001b[0;34m(self, key, value)\u001b[0m\n\u001b[1;32m   4514\u001b[0m \u001b[38;5;28;01mdef\u001b[39;00m \u001b[38;5;21m_set_item\u001b[39m(\u001b[38;5;28mself\u001b[39m, key, value) \u001b[38;5;241m-\u001b[39m\u001b[38;5;241m>\u001b[39m \u001b[38;5;28;01mNone\u001b[39;00m:\n\u001b[1;32m   4515\u001b[0m \u001b[38;5;250m    \u001b[39m\u001b[38;5;124;03m\"\"\"\u001b[39;00m\n\u001b[1;32m   4516\u001b[0m \u001b[38;5;124;03m    Add series to DataFrame in specified column.\u001b[39;00m\n\u001b[1;32m   4517\u001b[0m \n\u001b[0;32m   (...)\u001b[0m\n\u001b[1;32m   4522\u001b[0m \u001b[38;5;124;03m    ensure homogeneity.\u001b[39;00m\n\u001b[1;32m   4523\u001b[0m \u001b[38;5;124;03m    \"\"\"\u001b[39;00m\n\u001b[0;32m-> 4524\u001b[0m     value, refs \u001b[38;5;241m=\u001b[39m \u001b[38;5;28;43mself\u001b[39;49m\u001b[38;5;241;43m.\u001b[39;49m\u001b[43m_sanitize_column\u001b[49m\u001b[43m(\u001b[49m\u001b[43mvalue\u001b[49m\u001b[43m)\u001b[49m\n\u001b[1;32m   4526\u001b[0m     \u001b[38;5;28;01mif\u001b[39;00m (\n\u001b[1;32m   4527\u001b[0m         key \u001b[38;5;129;01min\u001b[39;00m \u001b[38;5;28mself\u001b[39m\u001b[38;5;241m.\u001b[39mcolumns\n\u001b[1;32m   4528\u001b[0m         \u001b[38;5;129;01mand\u001b[39;00m value\u001b[38;5;241m.\u001b[39mndim \u001b[38;5;241m==\u001b[39m \u001b[38;5;241m1\u001b[39m\n\u001b[1;32m   4529\u001b[0m         \u001b[38;5;129;01mand\u001b[39;00m \u001b[38;5;129;01mnot\u001b[39;00m \u001b[38;5;28misinstance\u001b[39m(value\u001b[38;5;241m.\u001b[39mdtype, ExtensionDtype)\n\u001b[1;32m   4530\u001b[0m     ):\n\u001b[1;32m   4531\u001b[0m         \u001b[38;5;66;03m# broadcast across multiple columns if necessary\u001b[39;00m\n\u001b[1;32m   4532\u001b[0m         \u001b[38;5;28;01mif\u001b[39;00m \u001b[38;5;129;01mnot\u001b[39;00m \u001b[38;5;28mself\u001b[39m\u001b[38;5;241m.\u001b[39mcolumns\u001b[38;5;241m.\u001b[39mis_unique \u001b[38;5;129;01mor\u001b[39;00m \u001b[38;5;28misinstance\u001b[39m(\u001b[38;5;28mself\u001b[39m\u001b[38;5;241m.\u001b[39mcolumns, MultiIndex):\n",
      "File \u001b[0;32m~/miniforge3/envs/cmscb/lib/python3.12/site-packages/pandas/core/frame.py:5266\u001b[0m, in \u001b[0;36mDataFrame._sanitize_column\u001b[0;34m(self, value)\u001b[0m\n\u001b[1;32m   5263\u001b[0m     \u001b[38;5;28;01mreturn\u001b[39;00m _reindex_for_setitem(value, \u001b[38;5;28mself\u001b[39m\u001b[38;5;241m.\u001b[39mindex)\n\u001b[1;32m   5265\u001b[0m \u001b[38;5;28;01mif\u001b[39;00m is_list_like(value):\n\u001b[0;32m-> 5266\u001b[0m     \u001b[43mcom\u001b[49m\u001b[38;5;241;43m.\u001b[39;49m\u001b[43mrequire_length_match\u001b[49m\u001b[43m(\u001b[49m\u001b[43mvalue\u001b[49m\u001b[43m,\u001b[49m\u001b[43m \u001b[49m\u001b[38;5;28;43mself\u001b[39;49m\u001b[38;5;241;43m.\u001b[39;49m\u001b[43mindex\u001b[49m\u001b[43m)\u001b[49m\n\u001b[1;32m   5267\u001b[0m arr \u001b[38;5;241m=\u001b[39m sanitize_array(value, \u001b[38;5;28mself\u001b[39m\u001b[38;5;241m.\u001b[39mindex, copy\u001b[38;5;241m=\u001b[39m\u001b[38;5;28;01mTrue\u001b[39;00m, allow_2d\u001b[38;5;241m=\u001b[39m\u001b[38;5;28;01mTrue\u001b[39;00m)\n\u001b[1;32m   5268\u001b[0m \u001b[38;5;28;01mif\u001b[39;00m (\n\u001b[1;32m   5269\u001b[0m     \u001b[38;5;28misinstance\u001b[39m(value, Index)\n\u001b[1;32m   5270\u001b[0m     \u001b[38;5;129;01mand\u001b[39;00m value\u001b[38;5;241m.\u001b[39mdtype \u001b[38;5;241m==\u001b[39m \u001b[38;5;124m\"\u001b[39m\u001b[38;5;124mobject\u001b[39m\u001b[38;5;124m\"\u001b[39m\n\u001b[0;32m   (...)\u001b[0m\n\u001b[1;32m   5273\u001b[0m     \u001b[38;5;66;03m# TODO: Remove kludge in sanitize_array for string mode when enforcing\u001b[39;00m\n\u001b[1;32m   5274\u001b[0m     \u001b[38;5;66;03m# this deprecation\u001b[39;00m\n",
      "File \u001b[0;32m~/miniforge3/envs/cmscb/lib/python3.12/site-packages/pandas/core/common.py:573\u001b[0m, in \u001b[0;36mrequire_length_match\u001b[0;34m(data, index)\u001b[0m\n\u001b[1;32m    569\u001b[0m \u001b[38;5;250m\u001b[39m\u001b[38;5;124;03m\"\"\"\u001b[39;00m\n\u001b[1;32m    570\u001b[0m \u001b[38;5;124;03mCheck the length of data matches the length of the index.\u001b[39;00m\n\u001b[1;32m    571\u001b[0m \u001b[38;5;124;03m\"\"\"\u001b[39;00m\n\u001b[1;32m    572\u001b[0m \u001b[38;5;28;01mif\u001b[39;00m \u001b[38;5;28mlen\u001b[39m(data) \u001b[38;5;241m!=\u001b[39m \u001b[38;5;28mlen\u001b[39m(index):\n\u001b[0;32m--> 573\u001b[0m     \u001b[38;5;28;01mraise\u001b[39;00m \u001b[38;5;167;01mValueError\u001b[39;00m(\n\u001b[1;32m    574\u001b[0m         \u001b[38;5;124m\"\u001b[39m\u001b[38;5;124mLength of values \u001b[39m\u001b[38;5;124m\"\u001b[39m\n\u001b[1;32m    575\u001b[0m         \u001b[38;5;124mf\u001b[39m\u001b[38;5;124m\"\u001b[39m\u001b[38;5;124m(\u001b[39m\u001b[38;5;132;01m{\u001b[39;00m\u001b[38;5;28mlen\u001b[39m(data)\u001b[38;5;132;01m}\u001b[39;00m\u001b[38;5;124m) \u001b[39m\u001b[38;5;124m\"\u001b[39m\n\u001b[1;32m    576\u001b[0m         \u001b[38;5;124m\"\u001b[39m\u001b[38;5;124mdoes not match length of index \u001b[39m\u001b[38;5;124m\"\u001b[39m\n\u001b[1;32m    577\u001b[0m         \u001b[38;5;124mf\u001b[39m\u001b[38;5;124m\"\u001b[39m\u001b[38;5;124m(\u001b[39m\u001b[38;5;132;01m{\u001b[39;00m\u001b[38;5;28mlen\u001b[39m(index)\u001b[38;5;132;01m}\u001b[39;00m\u001b[38;5;124m)\u001b[39m\u001b[38;5;124m\"\u001b[39m\n\u001b[1;32m    578\u001b[0m     )\n",
      "\u001b[0;31mValueError\u001b[0m: Length of values (0) does not match length of index (21)"
     ]
    }
   ],
   "source": [
    "val_dataset = CopyNumerDNADataset(\n",
    "    root=data_root / 'testing' / 'embeddings',\n",
    "    data_df=test_df,\n",
    "    fasta_path=data_root / 'GRCh38.d1.vd1.fa',\n",
    "    atac_path=atac_test_path,\n",
    "    cnv_path=cnv_test_path,\n",
    "    force_recompute=True\n",
    ")"
   ]
  },
  {
   "cell_type": "code",
   "execution_count": 11,
   "metadata": {},
   "outputs": [
    {
     "data": {
      "text/plain": [
       "['atac_test_data.tsv',\n",
       " 'test_set.tsv',\n",
       " 'embeddings',\n",
       " 'test_ids.txt',\n",
       " 'cnv_test_data.csv']"
      ]
     },
     "execution_count": 11,
     "metadata": {},
     "output_type": "execute_result"
    }
   ],
   "source": [
    "os.listdir('../data/testing/')"
   ]
  },
  {
   "cell_type": "code",
   "execution_count": null,
   "metadata": {},
   "outputs": [],
   "source": []
  },
  {
   "cell_type": "code",
   "execution_count": 11,
   "metadata": {},
   "outputs": [
    {
     "data": {
      "text/plain": [
       "533968"
      ]
     },
     "execution_count": 11,
     "metadata": {},
     "output_type": "execute_result"
    }
   ],
   "source": [
    "len(df['barcode'].unique()) * len(df['gene_id'].unique())"
   ]
  },
  {
   "cell_type": "code",
   "execution_count": 7,
   "metadata": {},
   "outputs": [
    {
     "data": {
      "text/plain": [
       "(49316, 4)"
      ]
     },
     "execution_count": 7,
     "metadata": {},
     "output_type": "execute_result"
    }
   ],
   "source": [
    "df.shape"
   ]
  },
  {
   "cell_type": "markdown",
   "metadata": {},
   "source": [
    "## Embedding Developement\n",
    "This file contains investigations to develope embeddings.\n",
    "First check is regarding the gene length distribution in our dataset."
   ]
  },
  {
   "cell_type": "code",
   "execution_count": null,
   "metadata": {},
   "outputs": [],
   "source": [
    "from src.data import generate_fasta_entries, standard_chromosomes"
   ]
  },
  {
   "cell_type": "code",
   "execution_count": null,
   "metadata": {},
   "outputs": [],
   "source": [
    "most_changed_path = data_root + 'most_expression_changed_genes.txt'\n",
    "overlap_path = data_root + 'overlap_genes_peaks.tsv'"
   ]
  },
  {
   "cell_type": "markdown",
   "metadata": {},
   "source": [
    "### Gene length distribution\n",
    "To find a suitable cutoff for receiving the 2000 smallest genes in our dataset, we first have a look at the distribution of gene lengths."
   ]
  },
  {
   "cell_type": "markdown",
   "metadata": {},
   "source": [
    "### 2000 most changed genes"
   ]
  },
  {
   "cell_type": "code",
   "execution_count": 3,
   "metadata": {},
   "outputs": [
    {
     "data": {
      "text/plain": [
       "['ENSG00000000971',\n",
       " 'ENSG00000002587',\n",
       " 'ENSG00000002745',\n",
       " 'ENSG00000002933',\n",
       " 'ENSG00000003096',\n",
       " 'ENSG00000004468',\n",
       " 'ENSG00000004846',\n",
       " 'ENSG00000004948',\n",
       " 'ENSG00000005187',\n",
       " 'ENSG00000005884']"
      ]
     },
     "execution_count": 3,
     "metadata": {},
     "output_type": "execute_result"
    }
   ],
   "source": [
    "most_changed_genes = None\n",
    "with open(most_changed_path, 'r') as in_file:\n",
    "    most_changed_genes = [line.strip() for line in in_file]\n",
    "most_changed_genes[:10]"
   ]
  },
  {
   "cell_type": "code",
   "execution_count": 6,
   "metadata": {},
   "outputs": [],
   "source": [
    "df = pd.read_csv(overlap_path, sep='\\t')\n",
    "df[['Start_peak', 'End_peak', 'Start_gene', 'End_gene']] = df[['Start_peak', 'End_peak', 'Start_gene', 'End_gene']].astype(int)\n",
    "df['gene_len'] = df['End_gene'] - df['Start_gene']"
   ]
  },
  {
   "cell_type": "code",
   "execution_count": 7,
   "metadata": {},
   "outputs": [],
   "source": [
    "df = df[df['gene_id'].isin(most_changed_genes)]"
   ]
  },
  {
   "cell_type": "code",
   "execution_count": 13,
   "metadata": {},
   "outputs": [
    {
     "name": "stderr",
     "output_type": "stream",
     "text": [
      "/home/mpjw/miniforge3/envs/cmscb/lib/python3.12/site-packages/plotnine/ggplot.py:615: PlotnineWarning: Saving 6.4 x 4.8 in image.\n",
      "/home/mpjw/miniforge3/envs/cmscb/lib/python3.12/site-packages/plotnine/ggplot.py:616: PlotnineWarning: Filename: ../../out/plots/most_changed_genes_len_hist.png\n",
      "/home/mpjw/miniforge3/envs/cmscb/lib/python3.12/site-packages/plotnine/stats/stat_bin.py:109: PlotnineWarning: 'stat_bin()' using 'bins = 44'. Pick better value with 'binwidth'.\n",
      "/home/mpjw/miniforge3/envs/cmscb/lib/python3.12/site-packages/plotnine/stats/stat_bin.py:109: PlotnineWarning: 'stat_bin()' using 'bins = 44'. Pick better value with 'binwidth'.\n"
     ]
    },
    {
     "data": {
      "image/png": "[encoded data removed]"
     },
     "metadata": {
      "image/png": {
       "height": 480,
       "width": 640
      }
     },
     "output_type": "display_data"
    }
   ],
   "source": [
    "plot_df = df[['gene_id', 'gene_len']].drop_duplicates()\n",
    "p = ggplot(plot_df, aes(x='gene_len')) + \\\n",
    "    geom_histogram() + \\\n",
    "    labs(title='Length of genes with most expression change (n={})'.format(plot_df.shape[0]), x='Gene length', y='Count')\n",
    "p.save(filename='most_changed_genes_len_hist.png', format='png', path=plot_root, dpi=300)\n",
    "p.show()"
   ]
  },
  {
   "cell_type": "code",
   "execution_count": 9,
   "metadata": {},
   "outputs": [
    {
     "data": {
      "text/html": [
       "<div>\n",
       "<style scoped>\n",
       "    .dataframe tbody tr th:only-of-type {\n",
       "        vertical-align: middle;\n",
       "    }\n",
       "\n",
       "    .dataframe tbody tr th {\n",
       "        vertical-align: top;\n",
       "    }\n",
       "\n",
       "    .dataframe thead th {\n",
       "        text-align: right;\n",
       "    }\n",
       "</style>\n",
       "<table border=\"1\" class=\"dataframe\">\n",
       "  <thead>\n",
       "    <tr style=\"text-align: right;\">\n",
       "      <th></th>\n",
       "      <th>Chromosome</th>\n",
       "      <th>Start_peak</th>\n",
       "      <th>End_peak</th>\n",
       "      <th>Start_gene</th>\n",
       "      <th>End_gene</th>\n",
       "      <th>gene_id</th>\n",
       "      <th>gene_len</th>\n",
       "    </tr>\n",
       "  </thead>\n",
       "  <tbody>\n",
       "    <tr>\n",
       "      <th>91289</th>\n",
       "      <td>X</td>\n",
       "      <td>31266497</td>\n",
       "      <td>31267324</td>\n",
       "      <td>31095677</td>\n",
       "      <td>33341609</td>\n",
       "      <td>ENSG00000198947</td>\n",
       "      <td>2245932</td>\n",
       "    </tr>\n",
       "    <tr>\n",
       "      <th>91290</th>\n",
       "      <td>X</td>\n",
       "      <td>31420332</td>\n",
       "      <td>31421239</td>\n",
       "      <td>31095677</td>\n",
       "      <td>33341609</td>\n",
       "      <td>ENSG00000198947</td>\n",
       "      <td>2245932</td>\n",
       "    </tr>\n",
       "    <tr>\n",
       "      <th>18011</th>\n",
       "      <td>3</td>\n",
       "      <td>117358547</td>\n",
       "      <td>117359433</td>\n",
       "      <td>115800374</td>\n",
       "      <td>117999592</td>\n",
       "      <td>ENSG00000185565</td>\n",
       "      <td>2199218</td>\n",
       "    </tr>\n",
       "    <tr>\n",
       "      <th>18010</th>\n",
       "      <td>3</td>\n",
       "      <td>117278560</td>\n",
       "      <td>117279448</td>\n",
       "      <td>115800374</td>\n",
       "      <td>117999592</td>\n",
       "      <td>ENSG00000185565</td>\n",
       "      <td>2199218</td>\n",
       "    </tr>\n",
       "    <tr>\n",
       "      <th>17994</th>\n",
       "      <td>3</td>\n",
       "      <td>116757912</td>\n",
       "      <td>116758804</td>\n",
       "      <td>115800374</td>\n",
       "      <td>117999592</td>\n",
       "      <td>ENSG00000185565</td>\n",
       "      <td>2199218</td>\n",
       "    </tr>\n",
       "    <tr>\n",
       "      <th>17996</th>\n",
       "      <td>3</td>\n",
       "      <td>116770556</td>\n",
       "      <td>116771424</td>\n",
       "      <td>115800374</td>\n",
       "      <td>117999592</td>\n",
       "      <td>ENSG00000185565</td>\n",
       "      <td>2199218</td>\n",
       "    </tr>\n",
       "    <tr>\n",
       "      <th>18012</th>\n",
       "      <td>3</td>\n",
       "      <td>117997120</td>\n",
       "      <td>117997902</td>\n",
       "      <td>115800374</td>\n",
       "      <td>117999592</td>\n",
       "      <td>ENSG00000185565</td>\n",
       "      <td>2199218</td>\n",
       "    </tr>\n",
       "    <tr>\n",
       "      <th>17993</th>\n",
       "      <td>3</td>\n",
       "      <td>116486533</td>\n",
       "      <td>116487423</td>\n",
       "      <td>115800374</td>\n",
       "      <td>117999592</td>\n",
       "      <td>ENSG00000185565</td>\n",
       "      <td>2199218</td>\n",
       "    </tr>\n",
       "    <tr>\n",
       "      <th>18005</th>\n",
       "      <td>3</td>\n",
       "      <td>117126774</td>\n",
       "      <td>117127634</td>\n",
       "      <td>115800374</td>\n",
       "      <td>117999592</td>\n",
       "      <td>ENSG00000185565</td>\n",
       "      <td>2199218</td>\n",
       "    </tr>\n",
       "    <tr>\n",
       "      <th>18003</th>\n",
       "      <td>3</td>\n",
       "      <td>117102095</td>\n",
       "      <td>117102973</td>\n",
       "      <td>115800374</td>\n",
       "      <td>117999592</td>\n",
       "      <td>ENSG00000185565</td>\n",
       "      <td>2199218</td>\n",
       "    </tr>\n",
       "  </tbody>\n",
       "</table>\n",
       "</div>"
      ],
      "text/plain": [
       "      Chromosome  Start_peak   End_peak  Start_gene   End_gene  \\\n",
       "91289          X    31266497   31267324    31095677   33341609   \n",
       "91290          X    31420332   31421239    31095677   33341609   \n",
       "18011          3   117358547  117359433   115800374  117999592   \n",
       "18010          3   117278560  117279448   115800374  117999592   \n",
       "17994          3   116757912  116758804   115800374  117999592   \n",
       "17996          3   116770556  116771424   115800374  117999592   \n",
       "18012          3   117997120  117997902   115800374  117999592   \n",
       "17993          3   116486533  116487423   115800374  117999592   \n",
       "18005          3   117126774  117127634   115800374  117999592   \n",
       "18003          3   117102095  117102973   115800374  117999592   \n",
       "\n",
       "               gene_id  gene_len  \n",
       "91289  ENSG00000198947   2245932  \n",
       "91290  ENSG00000198947   2245932  \n",
       "18011  ENSG00000185565   2199218  \n",
       "18010  ENSG00000185565   2199218  \n",
       "17994  ENSG00000185565   2199218  \n",
       "17996  ENSG00000185565   2199218  \n",
       "18012  ENSG00000185565   2199218  \n",
       "17993  ENSG00000185565   2199218  \n",
       "18005  ENSG00000185565   2199218  \n",
       "18003  ENSG00000185565   2199218  "
      ]
     },
     "execution_count": 9,
     "metadata": {},
     "output_type": "execute_result"
    }
   ],
   "source": [
    "df = df.sort_values(by=['gene_len'], ascending=False)\n",
    "df[:10]"
   ]
  },
  {
   "cell_type": "code",
   "execution_count": 15,
   "metadata": {},
   "outputs": [
    {
     "data": {
      "text/html": [
       "<div>\n",
       "<style scoped>\n",
       "    .dataframe tbody tr th:only-of-type {\n",
       "        vertical-align: middle;\n",
       "    }\n",
       "\n",
       "    .dataframe tbody tr th {\n",
       "        vertical-align: top;\n",
       "    }\n",
       "\n",
       "    .dataframe thead th {\n",
       "        text-align: right;\n",
       "    }\n",
       "</style>\n",
       "<table border=\"1\" class=\"dataframe\">\n",
       "  <thead>\n",
       "    <tr style=\"text-align: right;\">\n",
       "      <th></th>\n",
       "      <th>Chromosome</th>\n",
       "      <th>Start_peak</th>\n",
       "      <th>End_peak</th>\n",
       "      <th>Start_gene</th>\n",
       "      <th>End_gene</th>\n",
       "      <th>gene_id</th>\n",
       "      <th>gene_len</th>\n",
       "    </tr>\n",
       "  </thead>\n",
       "  <tbody>\n",
       "    <tr>\n",
       "      <th>15170</th>\n",
       "      <td>3</td>\n",
       "      <td>4986557</td>\n",
       "      <td>4987470</td>\n",
       "      <td>4977437</td>\n",
       "      <td>4987323</td>\n",
       "      <td>ENSG00000134107</td>\n",
       "      <td>9886</td>\n",
       "    </tr>\n",
       "    <tr>\n",
       "      <th>15166</th>\n",
       "      <td>3</td>\n",
       "      <td>4978319</td>\n",
       "      <td>4979012</td>\n",
       "      <td>4977437</td>\n",
       "      <td>4987323</td>\n",
       "      <td>ENSG00000134107</td>\n",
       "      <td>9886</td>\n",
       "    </tr>\n",
       "    <tr>\n",
       "      <th>15167</th>\n",
       "      <td>3</td>\n",
       "      <td>4985399</td>\n",
       "      <td>4986112</td>\n",
       "      <td>4977437</td>\n",
       "      <td>4987323</td>\n",
       "      <td>ENSG00000134107</td>\n",
       "      <td>9886</td>\n",
       "    </tr>\n",
       "    <tr>\n",
       "      <th>32587</th>\n",
       "      <td>6</td>\n",
       "      <td>106972219</td>\n",
       "      <td>106972873</td>\n",
       "      <td>106967831</td>\n",
       "      <td>106977627</td>\n",
       "      <td>ENSG00000272398</td>\n",
       "      <td>9796</td>\n",
       "    </tr>\n",
       "    <tr>\n",
       "      <th>32589</th>\n",
       "      <td>6</td>\n",
       "      <td>106976362</td>\n",
       "      <td>106977040</td>\n",
       "      <td>106967831</td>\n",
       "      <td>106977627</td>\n",
       "      <td>ENSG00000272398</td>\n",
       "      <td>9796</td>\n",
       "    </tr>\n",
       "    <tr>\n",
       "      <th>...</th>\n",
       "      <td>...</td>\n",
       "      <td>...</td>\n",
       "      <td>...</td>\n",
       "      <td>...</td>\n",
       "      <td>...</td>\n",
       "      <td>...</td>\n",
       "      <td>...</td>\n",
       "    </tr>\n",
       "    <tr>\n",
       "      <th>30403</th>\n",
       "      <td>6</td>\n",
       "      <td>27807497</td>\n",
       "      <td>27808324</td>\n",
       "      <td>27806173</td>\n",
       "      <td>27810667</td>\n",
       "      <td>ENSG00000196747</td>\n",
       "      <td>4494</td>\n",
       "    </tr>\n",
       "    <tr>\n",
       "      <th>30406</th>\n",
       "      <td>6</td>\n",
       "      <td>27809741</td>\n",
       "      <td>27810594</td>\n",
       "      <td>27806173</td>\n",
       "      <td>27810667</td>\n",
       "      <td>ENSG00000196747</td>\n",
       "      <td>4494</td>\n",
       "    </tr>\n",
       "    <tr>\n",
       "      <th>1897</th>\n",
       "      <td>1</td>\n",
       "      <td>28246850</td>\n",
       "      <td>28247735</td>\n",
       "      <td>28245144</td>\n",
       "      <td>28249568</td>\n",
       "      <td>ENSG00000271398</td>\n",
       "      <td>4424</td>\n",
       "    </tr>\n",
       "    <tr>\n",
       "      <th>78977</th>\n",
       "      <td>18</td>\n",
       "      <td>11857081</td>\n",
       "      <td>11857993</td>\n",
       "      <td>11855155</td>\n",
       "      <td>11859554</td>\n",
       "      <td>ENSG00000272703</td>\n",
       "      <td>4399</td>\n",
       "    </tr>\n",
       "    <tr>\n",
       "      <th>81604</th>\n",
       "      <td>19</td>\n",
       "      <td>12723704</td>\n",
       "      <td>12724462</td>\n",
       "      <td>12723517</td>\n",
       "      <td>12727886</td>\n",
       "      <td>ENSG00000267004</td>\n",
       "      <td>4369</td>\n",
       "    </tr>\n",
       "  </tbody>\n",
       "</table>\n",
       "<p>272 rows × 7 columns</p>\n",
       "</div>"
      ],
      "text/plain": [
       "      Chromosome  Start_peak   End_peak  Start_gene   End_gene  \\\n",
       "15170          3     4986557    4987470     4977437    4987323   \n",
       "15166          3     4978319    4979012     4977437    4987323   \n",
       "15167          3     4985399    4986112     4977437    4987323   \n",
       "32587          6   106972219  106972873   106967831  106977627   \n",
       "32589          6   106976362  106977040   106967831  106977627   \n",
       "...          ...         ...        ...         ...        ...   \n",
       "30403          6    27807497   27808324    27806173   27810667   \n",
       "30406          6    27809741   27810594    27806173   27810667   \n",
       "1897           1    28246850   28247735    28245144   28249568   \n",
       "78977         18    11857081   11857993    11855155   11859554   \n",
       "81604         19    12723704   12724462    12723517   12727886   \n",
       "\n",
       "               gene_id  gene_len  \n",
       "15170  ENSG00000134107      9886  \n",
       "15166  ENSG00000134107      9886  \n",
       "15167  ENSG00000134107      9886  \n",
       "32587  ENSG00000272398      9796  \n",
       "32589  ENSG00000272398      9796  \n",
       "...                ...       ...  \n",
       "30403  ENSG00000196747      4494  \n",
       "30406  ENSG00000196747      4494  \n",
       "1897   ENSG00000271398      4424  \n",
       "78977  ENSG00000272703      4399  \n",
       "81604  ENSG00000267004      4369  \n",
       "\n",
       "[272 rows x 7 columns]"
      ]
     },
     "execution_count": 15,
     "metadata": {},
     "output_type": "execute_result"
    }
   ],
   "source": [
    "df[df['gene_len'] < 10000]"
   ]
  },
  {
   "cell_type": "markdown",
   "metadata": {},
   "source": [
    "With the genes, that show most expression changes, we observe the problem of long sequence length.\n",
    "I suggest we first filter for feasable embedding length and afterwards for most expression change."
   ]
  },
  {
   "cell_type": "markdown",
   "metadata": {},
   "source": [
    "#### All genes"
   ]
  },
  {
   "cell_type": "code",
   "execution_count": 12,
   "metadata": {},
   "outputs": [],
   "source": [
    "df = pd.read_csv('data/overlap_genes_peaks.tsv', sep='\\t')\n",
    "df[['Start_peak', 'End_peak', 'Start_gene', 'End_gene']] = df[['Start_peak', 'End_peak', 'Start_gene', 'End_gene']].astype(int)\n",
    "df['gene_len'] = df['End_gene'] - df['Start_gene']"
   ]
  },
  {
   "cell_type": "code",
   "execution_count": 13,
   "metadata": {},
   "outputs": [
    {
     "name": "stderr",
     "output_type": "stream",
     "text": [
      "/home/mpjw/miniforge3/envs/cmscb/lib/python3.12/site-packages/plotnine/stats/stat_bin.py:109: PlotnineWarning: 'stat_bin()' using 'bins = 804'. Pick better value with 'binwidth'.\n"
     ]
    },
    {
     "data": {
      "image/png": "[encoded data removed]"
     },
     "metadata": {
      "image/png": {
       "height": 480,
       "width": 640
      }
     },
     "output_type": "display_data"
    }
   ],
   "source": [
    "plot_df = df[['gene_id', 'gene_len']].drop_duplicates()\n",
    "ggplot(plot_df, aes(x='gene_len')) + \\\n",
    "    geom_histogram() + \\\n",
    "    labs(title='Pre filter gene length distribution (n={})'.format(plot_df.shape[0]), x='Gene length', y='Count')"
   ]
  },
  {
   "cell_type": "markdown",
   "metadata": {},
   "source": [
    "We see some very long outliers in the sizes of gigabases.\n",
    "This seems to be unrealistic, since introns should not be that long.\n",
    "Also we see a lot of genes (36,749) present in our data.\n",
    "Let's filter this down to the smallest 2000. "
   ]
  },
  {
   "cell_type": "code",
   "execution_count": 14,
   "metadata": {},
   "outputs": [
    {
     "name": "stderr",
     "output_type": "stream",
     "text": [
      "/home/mpjw/miniforge3/envs/cmscb/lib/python3.12/site-packages/plotnine/stats/stat_bin.py:109: PlotnineWarning: 'stat_bin()' using 'bins = 13'. Pick better value with 'binwidth'.\n"
     ]
    },
    {
     "data": {
      "image/png": "[encoded data removed]"
     },
     "metadata": {
      "image/png": {
       "height": 480,
       "width": 640
      }
     },
     "output_type": "display_data"
    }
   ],
   "source": [
    "df = df.sort_values(by=['gene_len'])\n",
    "df_small = df[:4000].copy()\n",
    "plot_df = df_small[['gene_id', 'gene_len']].drop_duplicates()\n",
    "ggplot(plot_df, aes(x='gene_len')) + \\\n",
    "    geom_histogram() + \\\n",
    "    labs(title='Pre filter gene length distribution (n={})'.format(plot_df.shape[0]), x='Gene length', y='Count')"
   ]
  },
  {
   "cell_type": "markdown",
   "metadata": {},
   "source": [
    "Nice, let's see how these genes distribute across the chromosomes."
   ]
  },
  {
   "cell_type": "code",
   "execution_count": 15,
   "metadata": {},
   "outputs": [
    {
     "data": {
      "text/plain": [
       "20062             3\n",
       "11124             2\n",
       "66026            14\n",
       "76922            17\n",
       "83378            19\n",
       "79769            18\n",
       "87094            20\n",
       "41078             7\n",
       "66338            15\n",
       "69390            16\n",
       "33819             6\n",
       "90163            22\n",
       "49047            10\n",
       "54663            11\n",
       "25079             5\n",
       "48517             9\n",
       "41927             8\n",
       "2343              1\n",
       "88200            21\n",
       "24432             4\n",
       "57756            12\n",
       "90970             X\n",
       "62805            13\n",
       "90922    KI270713.1\n",
       "92618             Y\n",
       "Name: Chromosome, dtype: object"
      ]
     },
     "execution_count": 15,
     "metadata": {},
     "output_type": "execute_result"
    }
   ],
   "source": [
    "df_small[:2001]['Chromosome'].drop_duplicates()"
   ]
  },
  {
   "cell_type": "markdown",
   "metadata": {},
   "source": [
    "Since, we only want to work with genes on the standard chromosomes, we need to ignore matches to the KI270713.1 chromosome."
   ]
  },
  {
   "cell_type": "code",
   "execution_count": 23,
   "metadata": {},
   "outputs": [
    {
     "data": {
      "text/html": [
       "<div>\n",
       "<style scoped>\n",
       "    .dataframe tbody tr th:only-of-type {\n",
       "        vertical-align: middle;\n",
       "    }\n",
       "\n",
       "    .dataframe tbody tr th {\n",
       "        vertical-align: top;\n",
       "    }\n",
       "\n",
       "    .dataframe thead th {\n",
       "        text-align: right;\n",
       "    }\n",
       "</style>\n",
       "<table border=\"1\" class=\"dataframe\">\n",
       "  <thead>\n",
       "    <tr style=\"text-align: right;\">\n",
       "      <th></th>\n",
       "      <th>gene_id</th>\n",
       "      <th>gene_len</th>\n",
       "    </tr>\n",
       "  </thead>\n",
       "  <tbody>\n",
       "    <tr>\n",
       "      <th>20062</th>\n",
       "      <td>ENSG00000239255</td>\n",
       "      <td>4024</td>\n",
       "    </tr>\n",
       "    <tr>\n",
       "      <th>11124</th>\n",
       "      <td>ENSG00000211593</td>\n",
       "      <td>4037</td>\n",
       "    </tr>\n",
       "    <tr>\n",
       "      <th>66026</th>\n",
       "      <td>ENSG00000270705</td>\n",
       "      <td>4041</td>\n",
       "    </tr>\n",
       "    <tr>\n",
       "      <th>76922</th>\n",
       "      <td>ENSG00000264399</td>\n",
       "      <td>4046</td>\n",
       "    </tr>\n",
       "    <tr>\n",
       "      <th>83378</th>\n",
       "      <td>ENSG00000283673</td>\n",
       "      <td>4046</td>\n",
       "    </tr>\n",
       "    <tr>\n",
       "      <th>...</th>\n",
       "      <td>...</td>\n",
       "      <td>...</td>\n",
       "    </tr>\n",
       "    <tr>\n",
       "      <th>87698</th>\n",
       "      <td>ENSG00000300782</td>\n",
       "      <td>4350</td>\n",
       "    </tr>\n",
       "    <tr>\n",
       "      <th>9066</th>\n",
       "      <td>ENSG00000290108</td>\n",
       "      <td>4350</td>\n",
       "    </tr>\n",
       "    <tr>\n",
       "      <th>63913</th>\n",
       "      <td>ENSG00000258968</td>\n",
       "      <td>4350</td>\n",
       "    </tr>\n",
       "    <tr>\n",
       "      <th>6069</th>\n",
       "      <td>ENSG00000250762</td>\n",
       "      <td>4350</td>\n",
       "    </tr>\n",
       "    <tr>\n",
       "      <th>69601</th>\n",
       "      <td>ENSG00000255513</td>\n",
       "      <td>4350</td>\n",
       "    </tr>\n",
       "  </tbody>\n",
       "</table>\n",
       "<p>2000 rows × 2 columns</p>\n",
       "</div>"
      ],
      "text/plain": [
       "               gene_id  gene_len\n",
       "20062  ENSG00000239255      4024\n",
       "11124  ENSG00000211593      4037\n",
       "66026  ENSG00000270705      4041\n",
       "76922  ENSG00000264399      4046\n",
       "83378  ENSG00000283673      4046\n",
       "...                ...       ...\n",
       "87698  ENSG00000300782      4350\n",
       "9066   ENSG00000290108      4350\n",
       "63913  ENSG00000258968      4350\n",
       "6069   ENSG00000250762      4350\n",
       "69601  ENSG00000255513      4350\n",
       "\n",
       "[2000 rows x 2 columns]"
      ]
     },
     "execution_count": 23,
     "metadata": {},
     "output_type": "execute_result"
    }
   ],
   "source": [
    "df_small[df_small['Chromosome'] != 'KI270713.1'][['gene_id', 'gene_len']].drop_duplicates()[:2000]"
   ]
  },
  {
   "cell_type": "markdown",
   "metadata": {},
   "source": [
    "Great, now we see that our threshold should be 4350."
   ]
  },
  {
   "cell_type": "code",
   "execution_count": 25,
   "metadata": {},
   "outputs": [
    {
     "name": "stderr",
     "output_type": "stream",
     "text": [
      "/tmp/ipykernel_430502/3407888067.py:2: UserWarning: Boolean Series key will be reindexed to match DataFrame index.\n"
     ]
    },
    {
     "data": {
      "text/html": [
       "<div>\n",
       "<style scoped>\n",
       "    .dataframe tbody tr th:only-of-type {\n",
       "        vertical-align: middle;\n",
       "    }\n",
       "\n",
       "    .dataframe tbody tr th {\n",
       "        vertical-align: top;\n",
       "    }\n",
       "\n",
       "    .dataframe thead th {\n",
       "        text-align: right;\n",
       "    }\n",
       "</style>\n",
       "<table border=\"1\" class=\"dataframe\">\n",
       "  <thead>\n",
       "    <tr style=\"text-align: right;\">\n",
       "      <th></th>\n",
       "      <th>gene_id</th>\n",
       "      <th>gene_len</th>\n",
       "    </tr>\n",
       "  </thead>\n",
       "  <tbody>\n",
       "    <tr>\n",
       "      <th>20062</th>\n",
       "      <td>ENSG00000239255</td>\n",
       "      <td>4024</td>\n",
       "    </tr>\n",
       "    <tr>\n",
       "      <th>11124</th>\n",
       "      <td>ENSG00000211593</td>\n",
       "      <td>4037</td>\n",
       "    </tr>\n",
       "    <tr>\n",
       "      <th>66026</th>\n",
       "      <td>ENSG00000270705</td>\n",
       "      <td>4041</td>\n",
       "    </tr>\n",
       "    <tr>\n",
       "      <th>76922</th>\n",
       "      <td>ENSG00000264399</td>\n",
       "      <td>4046</td>\n",
       "    </tr>\n",
       "    <tr>\n",
       "      <th>83378</th>\n",
       "      <td>ENSG00000283673</td>\n",
       "      <td>4046</td>\n",
       "    </tr>\n",
       "    <tr>\n",
       "      <th>...</th>\n",
       "      <td>...</td>\n",
       "      <td>...</td>\n",
       "    </tr>\n",
       "    <tr>\n",
       "      <th>87698</th>\n",
       "      <td>ENSG00000300782</td>\n",
       "      <td>4350</td>\n",
       "    </tr>\n",
       "    <tr>\n",
       "      <th>9066</th>\n",
       "      <td>ENSG00000290108</td>\n",
       "      <td>4350</td>\n",
       "    </tr>\n",
       "    <tr>\n",
       "      <th>63913</th>\n",
       "      <td>ENSG00000258968</td>\n",
       "      <td>4350</td>\n",
       "    </tr>\n",
       "    <tr>\n",
       "      <th>6069</th>\n",
       "      <td>ENSG00000250762</td>\n",
       "      <td>4350</td>\n",
       "    </tr>\n",
       "    <tr>\n",
       "      <th>69601</th>\n",
       "      <td>ENSG00000255513</td>\n",
       "      <td>4350</td>\n",
       "    </tr>\n",
       "  </tbody>\n",
       "</table>\n",
       "<p>2000 rows × 2 columns</p>\n",
       "</div>"
      ],
      "text/plain": [
       "               gene_id  gene_len\n",
       "20062  ENSG00000239255      4024\n",
       "11124  ENSG00000211593      4037\n",
       "66026  ENSG00000270705      4041\n",
       "76922  ENSG00000264399      4046\n",
       "83378  ENSG00000283673      4046\n",
       "...                ...       ...\n",
       "87698  ENSG00000300782      4350\n",
       "9066   ENSG00000290108      4350\n",
       "63913  ENSG00000258968      4350\n",
       "6069   ENSG00000250762      4350\n",
       "69601  ENSG00000255513      4350\n",
       "\n",
       "[2000 rows x 2 columns]"
      ]
     },
     "execution_count": 25,
     "metadata": {},
     "output_type": "execute_result"
    }
   ],
   "source": [
    "threshold = 4350\n",
    "df_final = df[df['Chromosome'] != 'KI270713.1'][df['gene_len'] <= threshold].copy()\n",
    "df_final[['gene_id', 'gene_len']].drop_duplicates()"
   ]
  },
  {
   "cell_type": "code",
   "execution_count": 26,
   "metadata": {},
   "outputs": [
    {
     "data": {
      "text/html": [
       "<div>\n",
       "<style scoped>\n",
       "    .dataframe tbody tr th:only-of-type {\n",
       "        vertical-align: middle;\n",
       "    }\n",
       "\n",
       "    .dataframe tbody tr th {\n",
       "        vertical-align: top;\n",
       "    }\n",
       "\n",
       "    .dataframe thead th {\n",
       "        text-align: right;\n",
       "    }\n",
       "</style>\n",
       "<table border=\"1\" class=\"dataframe\">\n",
       "  <thead>\n",
       "    <tr style=\"text-align: right;\">\n",
       "      <th></th>\n",
       "      <th>Chromosome</th>\n",
       "      <th>Start_peak</th>\n",
       "      <th>End_peak</th>\n",
       "      <th>Start_gene</th>\n",
       "      <th>End_gene</th>\n",
       "      <th>gene_id</th>\n",
       "      <th>gene_len</th>\n",
       "    </tr>\n",
       "  </thead>\n",
       "  <tbody>\n",
       "    <tr>\n",
       "      <th>20062</th>\n",
       "      <td>3</td>\n",
       "      <td>179450968</td>\n",
       "      <td>179451903</td>\n",
       "      <td>179450395</td>\n",
       "      <td>179454419</td>\n",
       "      <td>ENSG00000239255</td>\n",
       "      <td>4024</td>\n",
       "    </tr>\n",
       "    <tr>\n",
       "      <th>11124</th>\n",
       "      <td>2</td>\n",
       "      <td>88857898</td>\n",
       "      <td>88858638</td>\n",
       "      <td>88858568</td>\n",
       "      <td>88862605</td>\n",
       "      <td>ENSG00000211593</td>\n",
       "      <td>4037</td>\n",
       "    </tr>\n",
       "    <tr>\n",
       "      <th>66026</th>\n",
       "      <td>14</td>\n",
       "      <td>103206974</td>\n",
       "      <td>103207786</td>\n",
       "      <td>103205748</td>\n",
       "      <td>103209789</td>\n",
       "      <td>ENSG00000270705</td>\n",
       "      <td>4041</td>\n",
       "    </tr>\n",
       "    <tr>\n",
       "      <th>66022</th>\n",
       "      <td>14</td>\n",
       "      <td>103205636</td>\n",
       "      <td>103206385</td>\n",
       "      <td>103205748</td>\n",
       "      <td>103209789</td>\n",
       "      <td>ENSG00000270705</td>\n",
       "      <td>4041</td>\n",
       "    </tr>\n",
       "    <tr>\n",
       "      <th>66030</th>\n",
       "      <td>14</td>\n",
       "      <td>103209014</td>\n",
       "      <td>103209756</td>\n",
       "      <td>103205748</td>\n",
       "      <td>103209789</td>\n",
       "      <td>ENSG00000270705</td>\n",
       "      <td>4041</td>\n",
       "    </tr>\n",
       "    <tr>\n",
       "      <th>...</th>\n",
       "      <td>...</td>\n",
       "      <td>...</td>\n",
       "      <td>...</td>\n",
       "      <td>...</td>\n",
       "      <td>...</td>\n",
       "      <td>...</td>\n",
       "      <td>...</td>\n",
       "    </tr>\n",
       "    <tr>\n",
       "      <th>87696</th>\n",
       "      <td>21</td>\n",
       "      <td>27572452</td>\n",
       "      <td>27573325</td>\n",
       "      <td>27570454</td>\n",
       "      <td>27574804</td>\n",
       "      <td>ENSG00000300782</td>\n",
       "      <td>4350</td>\n",
       "    </tr>\n",
       "    <tr>\n",
       "      <th>63913</th>\n",
       "      <td>14</td>\n",
       "      <td>31018081</td>\n",
       "      <td>31018893</td>\n",
       "      <td>31016446</td>\n",
       "      <td>31020796</td>\n",
       "      <td>ENSG00000258968</td>\n",
       "      <td>4350</td>\n",
       "    </tr>\n",
       "    <tr>\n",
       "      <th>6069</th>\n",
       "      <td>1</td>\n",
       "      <td>167819854</td>\n",
       "      <td>167820761</td>\n",
       "      <td>167817898</td>\n",
       "      <td>167822248</td>\n",
       "      <td>ENSG00000250762</td>\n",
       "      <td>4350</td>\n",
       "    </tr>\n",
       "    <tr>\n",
       "      <th>87694</th>\n",
       "      <td>21</td>\n",
       "      <td>27570004</td>\n",
       "      <td>27570906</td>\n",
       "      <td>27570454</td>\n",
       "      <td>27574804</td>\n",
       "      <td>ENSG00000300782</td>\n",
       "      <td>4350</td>\n",
       "    </tr>\n",
       "    <tr>\n",
       "      <th>69601</th>\n",
       "      <td>16</td>\n",
       "      <td>1964457</td>\n",
       "      <td>1965362</td>\n",
       "      <td>1961745</td>\n",
       "      <td>1966095</td>\n",
       "      <td>ENSG00000255513</td>\n",
       "      <td>4350</td>\n",
       "    </tr>\n",
       "  </tbody>\n",
       "</table>\n",
       "<p>2406 rows × 7 columns</p>\n",
       "</div>"
      ],
      "text/plain": [
       "      Chromosome  Start_peak   End_peak  Start_gene   End_gene  \\\n",
       "20062          3   179450968  179451903   179450395  179454419   \n",
       "11124          2    88857898   88858638    88858568   88862605   \n",
       "66026         14   103206974  103207786   103205748  103209789   \n",
       "66022         14   103205636  103206385   103205748  103209789   \n",
       "66030         14   103209014  103209756   103205748  103209789   \n",
       "...          ...         ...        ...         ...        ...   \n",
       "87696         21    27572452   27573325    27570454   27574804   \n",
       "63913         14    31018081   31018893    31016446   31020796   \n",
       "6069           1   167819854  167820761   167817898  167822248   \n",
       "87694         21    27570004   27570906    27570454   27574804   \n",
       "69601         16     1964457    1965362     1961745    1966095   \n",
       "\n",
       "               gene_id  gene_len  \n",
       "20062  ENSG00000239255      4024  \n",
       "11124  ENSG00000211593      4037  \n",
       "66026  ENSG00000270705      4041  \n",
       "66022  ENSG00000270705      4041  \n",
       "66030  ENSG00000270705      4041  \n",
       "...                ...       ...  \n",
       "87696  ENSG00000300782      4350  \n",
       "63913  ENSG00000258968      4350  \n",
       "6069   ENSG00000250762      4350  \n",
       "87694  ENSG00000300782      4350  \n",
       "69601  ENSG00000255513      4350  \n",
       "\n",
       "[2406 rows x 7 columns]"
      ]
     },
     "execution_count": 26,
     "metadata": {},
     "output_type": "execute_result"
    }
   ],
   "source": [
    "df_final"
   ]
  },
  {
   "cell_type": "code",
   "execution_count": 27,
   "metadata": {},
   "outputs": [
    {
     "name": "stderr",
     "output_type": "stream",
     "text": [
      "/home/mpjw/miniforge3/envs/cmscb/lib/python3.12/site-packages/plotnine/stats/stat_bin.py:109: PlotnineWarning: 'stat_bin()' using 'bins = 14'. Pick better value with 'binwidth'.\n"
     ]
    },
    {
     "data": {
      "image/png": "[encoded data removed]"
     },
     "metadata": {
      "image/png": {
       "height": 480,
       "width": 640
      }
     },
     "output_type": "display_data"
    }
   ],
   "source": [
    "plot_df = df_final[['gene_id', 'gene_len']].drop_duplicates()\n",
    "ggplot(plot_df, aes(x='gene_len')) +\\\n",
    "    geom_histogram() + \\\n",
    "    labs(title='Post filter gene length distribution (n={})'.format(plot_df.shape[0]), x='Gene length', y='Count')"
   ]
  },
  {
   "cell_type": "markdown",
   "metadata": {},
   "source": [
    "### Amino acid composition in fasta file"
   ]
  },
  {
   "cell_type": "code",
   "execution_count": 8,
   "metadata": {},
   "outputs": [],
   "source": [
    "from src.data import generate_fasta_entries\n",
    "from src.data.genome import standard_chromosomes\n",
    "#__package__ = 'src.data.fasta'\n",
    "fasta_generator = generate_fasta_entries(\n",
    "    fasta_path=data_root + 'GRCh38.d1.vd1.fa',\n",
    "    only_standard_chrom=False\n",
    ")"
   ]
  },
  {
   "cell_type": "code",
   "execution_count": 5,
   "metadata": {},
   "outputs": [],
   "source": [
    "chrom_base_counts = {}\n",
    "for chrom, seq in fasta_generator:\n",
    "    base_counts = {base: seq.count(base) for base in set(seq)}\n",
    "    chrom_base_counts[chrom] = base_counts\n"
   ]
  },
  {
   "cell_type": "code",
   "execution_count": 9,
   "metadata": {},
   "outputs": [
    {
     "name": "stdout",
     "output_type": "stream",
     "text": [
      "Chromosome 1\n",
      "{'N': 18475408, 'R': 1, 'A': 67070277, 'C': 48055043, 'T': 67244164, 'G': 48111528, 'M': 1}\n",
      "Chromosome 2\n",
      "{'N': 1645292, 'K': 1, 'R': 1, 'A': 71791213, 'T': 71987932, 'C': 48318180, 'G': 48450903, 'Y': 4, 'M': 1, 'W': 2}\n",
      "Chromosome 3\n",
      "{'N': 195417, 'R': 1, 'B': 1, 'A': 59689091, 'T': 59833302, 'C': 39233483, 'G': 39344259, 'Y': 3, 'W': 2}\n",
      "Chromosome 4\n",
      "{'N': 461888, 'A': 58561236, 'T': 58623430, 'C': 36236976, 'G': 36331025}\n",
      "Chromosome 5\n",
      "{'N': 2555066, 'A': 54053328, 'C': 35315012, 'T': 54213385, 'G': 35401468}\n",
      "Chromosome 6\n",
      "{'N': 727456, 'A': 51345477, 'C': 33646690, 'T': 51373025, 'G': 33713330, 'Y': 1}\n",
      "Chromosome 7\n",
      "{'N': 375838, 'S': 1, 'R': 1, 'A': 47058248, 'T': 47215040, 'C': 32317984, 'G': 32378859, 'Y': 2}\n",
      "Chromosome 8\n",
      "{'N': 370500, 'A': 43333530, 'T': 43300646, 'C': 29030173, 'G': 29103787}\n",
      "Chromosome 9\n",
      "{'N': 16604164, 'R': 1, 'A': 35736329, 'C': 25099811, 'T': 35783748, 'G': 25170662, 'Y': 2}\n",
      "Chromosome 10\n",
      "{'N': 534424, 'K': 4, 'S': 1, 'R': 13, 'B': 1, 'A': 38875926, 'T': 39027555, 'C': 27639505, 'G': 27719976, 'Y': 8, 'M': 3, 'W': 6}\n",
      "Chromosome 11\n",
      "{'N': 552880, 'A': 39286730, 'C': 27903257, 'T': 39361954, 'G': 27981801}\n",
      "Chromosome 12\n",
      "{'N': 137490, 'A': 39370109, 'T': 39492225, 'C': 27092804, 'G': 27182678, 'Y': 2, 'M': 1}\n",
      "Chromosome 13\n",
      "{'N': 16381200, 'K': 1, 'A': 30047611, 'T': 30162717, 'C': 18839192, 'G': 18933605, 'Y': 2}\n",
      "Chromosome 14\n",
      "{'N': 18525617, 'A': 26056965, 'C': 18075658, 'T': 26268099, 'G': 18117379}\n",
      "Chromosome 15\n",
      "{'N': 17349864, 'A': 24508669, 'T': 24553812, 'C': 17752941, 'G': 17825903}\n",
      "Chromosome 16\n",
      "{'N': 8532401, 'R': 1, 'A': 22558319, 'C': 18172742, 'T': 22774906, 'G': 18299976}\n",
      "Chromosome 17\n",
      "{'N': 337225, 'K': 2, 'S': 1, 'R': 3, 'A': 22639499, 'C': 18723944, 'T': 22705261, 'G': 18851500, 'Y': 5, 'W': 1}\n",
      "Chromosome 18\n",
      "{'N': 283680, 'A': 24050680, 'T': 24182819, 'C': 15794455, 'G': 16061651}\n",
      "Chromosome 19\n",
      "{'N': 2851219, 'A': 14380791, 'C': 13467225, 'T': 14418925, 'G': 13499456}\n",
      "Chromosome 20\n",
      "{'N': 499910, 'A': 17867246, 'C': 13916133, 'T': 18066406, 'G': 14094472}\n",
      "Chromosome 21\n",
      "{'N': 8671409, 'R': 1, 'A': 11204214, 'C': 7837144, 'T': 11212486, 'G': 7784727, 'M': 2}\n",
      "Chromosome X\n",
      "{'N': 1147861, 'S': 1, 'R': 1, 'A': 46754807, 'T': 46916701, 'C': 30523780, 'G': 30697741, 'Y': 2, 'W': 1}\n",
      "Chromosome Y\n",
      "{'N': 33591060, 'A': 7155845, 'T': 7217789, 'C': 4632232, 'G': 4630489}\n"
     ]
    }
   ],
   "source": [
    "for chrom, counts in chrom_base_counts.items():\n",
    "    if chrom in standard_chromosomes:\n",
    "        print(\"Chromosome\", chrom)\n",
    "        print(counts)"
   ]
  }
 ],
 "metadata": {
  "kernelspec": {
   "display_name": "cmscb",
   "language": "python",
   "name": "python3"
  },
  "language_info": {
   "codemirror_mode": {
    "name": "ipython",
    "version": 3
   },
   "file_extension": ".py",
   "mimetype": "text/x-python",
   "name": "python",
   "nbconvert_exporter": "python",
   "pygments_lexer": "ipython3",
   "version": "3.12.8"
  }
 },
 "nbformat": 4,
 "nbformat_minor": 2
}
