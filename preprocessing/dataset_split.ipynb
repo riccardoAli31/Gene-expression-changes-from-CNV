{
 "cells": [
  {
   "cell_type": "markdown",
   "metadata": {},
   "source": [
    "# Split the preprocessed datasets into training,validation and test sets."
   ]
  },
  {
   "cell_type": "code",
   "execution_count": 1,
   "metadata": {},
   "outputs": [],
   "source": [
    "import pandas as pd\n",
    "from sklearn.model_selection import train_test_split"
   ]
  },
  {
   "cell_type": "markdown",
   "metadata": {},
   "source": [
    "# Batch 1"
   ]
  },
  {
   "cell_type": "code",
   "execution_count": 2,
   "metadata": {},
   "outputs": [],
   "source": [
    "df1 = pd.read_csv(\"../data/preprocessing/classification_median_batch_1.tsv\", sep=\"\\t\")\n",
    "df2 = pd.read_csv(\"../data/preprocessing/batch_1_clustering.tsv\", sep=\"\\t\")\n",
    "best_barcodes_1 = pd.read_csv('../data/preprocessing/batch_1_best_quality_barcodes.tsv').columns\n"
   ]
  },
  {
   "cell_type": "code",
   "execution_count": 3,
   "metadata": {},
   "outputs": [],
   "source": [
    "df2 = df2.rename(columns={'barcodes': 'barcode'})"
   ]
  },
  {
   "cell_type": "code",
   "execution_count": 4,
   "metadata": {},
   "outputs": [],
   "source": [
    "df1 = df1[df1['barcode'].isin(best_barcodes_1)]\n",
    "df2 = df2[df2['barcode'].isin(best_barcodes_1)]"
   ]
  },
  {
   "cell_type": "code",
   "execution_count": 5,
   "metadata": {},
   "outputs": [],
   "source": [
    "df1 = df1[df1['expression_count'] != 0]"
   ]
  },
  {
   "cell_type": "code",
   "execution_count": 6,
   "metadata": {},
   "outputs": [],
   "source": [
    "train_barcodes, test_barcodes = train_test_split(best_barcodes_1, test_size=0.2, random_state=2)"
   ]
  },
  {
   "cell_type": "code",
   "execution_count": 7,
   "metadata": {},
   "outputs": [],
   "source": [
    "train_df = df1[df1['barcode'].isin(train_barcodes)]\n",
    "test_df = df1[df1['barcode'].isin(test_barcodes)]"
   ]
  },
  {
   "cell_type": "markdown",
   "metadata": {},
   "source": [
    "The non-zero training set contains 70% of the non-zero entire set"
   ]
  },
  {
   "cell_type": "code",
   "execution_count": 44,
   "metadata": {},
   "outputs": [
    {
     "data": {
      "text/plain": [
       "(classification\n",
       " low     37640\n",
       " high    30655\n",
       " Name: count, dtype: int64,\n",
       " classification\n",
       " low     11310\n",
       " high     7325\n",
       " Name: count, dtype: int64)"
      ]
     },
     "execution_count": 44,
     "metadata": {},
     "output_type": "execute_result"
    }
   ],
   "source": [
    "train_df['classification'].value_counts(), test_df['classification'].value_counts()"
   ]
  },
  {
   "cell_type": "code",
   "execution_count": 8,
   "metadata": {},
   "outputs": [],
   "source": [
    "test_train = df2[df2['barcode'].isin(train_barcodes)]\n",
    "test_test = df2[df2['barcode'].isin(test_barcodes)]"
   ]
  },
  {
   "cell_type": "code",
   "execution_count": 47,
   "metadata": {},
   "outputs": [
    {
     "data": {
      "text/plain": [
       "(celltype\n",
       " cancer     449\n",
       " APC's       46\n",
       " T cells     14\n",
       " Name: count, dtype: int64,\n",
       " celltype\n",
       " cancer     359\n",
       " APC's       37\n",
       " T cells     11\n",
       " Name: count, dtype: int64,\n",
       " celltype\n",
       " cancer     90\n",
       " APC's       9\n",
       " T cells     3\n",
       " Name: count, dtype: int64)"
      ]
     },
     "execution_count": 47,
     "metadata": {},
     "output_type": "execute_result"
    }
   ],
   "source": [
    "df2['celltype'].value_counts(), test_train['celltype'].value_counts(), test_test['celltype'].value_counts()"
   ]
  },
  {
   "cell_type": "markdown",
   "metadata": {},
   "source": [
    "Now split the training set into 'actual' training set and validation set, such that we have splits 70%:10%:20%."
   ]
  },
  {
   "cell_type": "code",
   "execution_count": 9,
   "metadata": {},
   "outputs": [],
   "source": [
    "training_barcodes, val_barcodes = train_test_split(train_barcodes, test_size=10/80, random_state=2)"
   ]
  },
  {
   "cell_type": "code",
   "execution_count": 10,
   "metadata": {},
   "outputs": [],
   "source": [
    "training_df = train_df[train_df['barcode'].isin(training_barcodes)]\n",
    "val_df = train_df[train_df['barcode'].isin(val_barcodes)]"
   ]
  },
  {
   "cell_type": "code",
   "execution_count": 50,
   "metadata": {},
   "outputs": [
    {
     "data": {
      "text/plain": [
       "(classification\n",
       " low     32885\n",
       " high    26456\n",
       " Name: count, dtype: int64,\n",
       " classification\n",
       " low     4755\n",
       " high    4199\n",
       " Name: count, dtype: int64,\n",
       " classification\n",
       " low     11310\n",
       " high     7325\n",
       " Name: count, dtype: int64)"
      ]
     },
     "execution_count": 50,
     "metadata": {},
     "output_type": "execute_result"
    }
   ],
   "source": [
    "training_df['classification'].value_counts(), val_df['classification'].value_counts(), test_df['classification'].value_counts()"
   ]
  },
  {
   "cell_type": "code",
   "execution_count": 11,
   "metadata": {},
   "outputs": [],
   "source": [
    "test_training = df2[df2['barcode'].isin(training_barcodes)]\n",
    "test_val = df2[df2['barcode'].isin(val_barcodes)]\n",
    "test_test = df2[df2['barcode'].isin(test_barcodes)]\n"
   ]
  },
  {
   "cell_type": "code",
   "execution_count": 53,
   "metadata": {},
   "outputs": [
    {
     "data": {
      "text/plain": [
       "(celltype\n",
       " cancer     317\n",
       " APC's       32\n",
       " T cells      7\n",
       " Name: count, dtype: int64,\n",
       " celltype\n",
       " cancer     42\n",
       " APC's       5\n",
       " T cells     4\n",
       " Name: count, dtype: int64,\n",
       " celltype\n",
       " cancer     90\n",
       " APC's       9\n",
       " T cells     3\n",
       " Name: count, dtype: int64)"
      ]
     },
     "execution_count": 53,
     "metadata": {},
     "output_type": "execute_result"
    }
   ],
   "source": [
    "test_training['celltype'].value_counts(), test_val['celltype'].value_counts(), test_test['celltype'].value_counts()"
   ]
  },
  {
   "cell_type": "code",
   "execution_count": 54,
   "metadata": {},
   "outputs": [],
   "source": [
    "test_df.to_csv('/Users/isabelgiray/Desktop/batch1_test_filtered.tsv', sep='\\t', index=False)\n",
    "training_df.to_csv('/Users/isabelgiray/Desktop/batch1_training_filtered.tsv', sep='\\t', index=False)\n",
    "val_df.to_csv('/Users/isabelgiray/Desktop/batch1_val_filtered.tsv', sep='\\t', index=False)"
   ]
  },
  {
   "cell_type": "markdown",
   "metadata": {},
   "source": [
    "# Batch 2"
   ]
  },
  {
   "cell_type": "code",
   "execution_count": 2,
   "metadata": {},
   "outputs": [],
   "source": [
    "df3 = pd.read_csv(\"../data/preprocessing/classification_median_batch_2.tsv\", sep=\"\\t\")\n",
    "df4 = pd.read_csv(\"../data/preprocessing/batch_2_clustering.tsv\", sep=\"\\t\")\n",
    "best_barcodes_2 = pd.read_csv('../data/preprocessing/batch_2_best_quality_barcodes.tsv').columns"
   ]
  },
  {
   "cell_type": "code",
   "execution_count": 3,
   "metadata": {},
   "outputs": [],
   "source": [
    "df4 = df4.rename(columns={'barcodes':'barcode'})"
   ]
  },
  {
   "cell_type": "code",
   "execution_count": 4,
   "metadata": {},
   "outputs": [],
   "source": [
    "df3 = df3[df3['barcode'].isin(best_barcodes_2)]\n",
    "df4 = df4[df4['barcode'].isin(best_barcodes_2)]"
   ]
  },
  {
   "cell_type": "code",
   "execution_count": 5,
   "metadata": {},
   "outputs": [],
   "source": [
    "df3 = df3[df3['expression_count'] != 0]"
   ]
  },
  {
   "cell_type": "code",
   "execution_count": 6,
   "metadata": {},
   "outputs": [],
   "source": [
    "train_barcodes, test_barcodes = train_test_split(best_barcodes_2, test_size=0.2, random_state=2)"
   ]
  },
  {
   "cell_type": "code",
   "execution_count": 7,
   "metadata": {},
   "outputs": [],
   "source": [
    "train_df = df3[df3['barcode'].isin(train_barcodes)]\n",
    "test_df = df3[df3['barcode'].isin(test_barcodes)]"
   ]
  },
  {
   "cell_type": "code",
   "execution_count": 8,
   "metadata": {},
   "outputs": [
    {
     "data": {
      "text/plain": [
       "(classification\n",
       " high    16839\n",
       " low     10260\n",
       " Name: count, dtype: int64,\n",
       " classification\n",
       " high    3907\n",
       " low     3421\n",
       " Name: count, dtype: int64)"
      ]
     },
     "execution_count": 8,
     "metadata": {},
     "output_type": "execute_result"
    }
   ],
   "source": [
    "train_df['classification'].value_counts(), test_df['classification'].value_counts()"
   ]
  },
  {
   "cell_type": "code",
   "execution_count": 9,
   "metadata": {},
   "outputs": [],
   "source": [
    "test_train = df4[df4['barcode'].isin(train_barcodes)]\n",
    "test_test = df4[df4['barcode'].isin(test_barcodes)]"
   ]
  },
  {
   "cell_type": "code",
   "execution_count": 10,
   "metadata": {},
   "outputs": [
    {
     "data": {
      "text/plain": [
       "(celltype\n",
       " cancer     299\n",
       " healthy     44\n",
       " Name: count, dtype: int64,\n",
       " celltype\n",
       " cancer     237\n",
       " healthy     37\n",
       " Name: count, dtype: int64,\n",
       " celltype\n",
       " cancer     62\n",
       " healthy     7\n",
       " Name: count, dtype: int64)"
      ]
     },
     "execution_count": 10,
     "metadata": {},
     "output_type": "execute_result"
    }
   ],
   "source": [
    "df4['celltype'].value_counts(), test_train['celltype'].value_counts(), test_test['celltype'].value_counts()"
   ]
  },
  {
   "cell_type": "code",
   "execution_count": 11,
   "metadata": {},
   "outputs": [],
   "source": [
    "training_barcodes, val_barcodes = train_test_split(train_barcodes, test_size=10/80, random_state=2)"
   ]
  },
  {
   "cell_type": "code",
   "execution_count": 12,
   "metadata": {},
   "outputs": [],
   "source": [
    "training_df = train_df[train_df['barcode'].isin(training_barcodes)]\n",
    "val_df = train_df[train_df['barcode'].isin(val_barcodes)]"
   ]
  },
  {
   "cell_type": "code",
   "execution_count": 13,
   "metadata": {},
   "outputs": [
    {
     "data": {
      "text/plain": [
       "(classification\n",
       " high    14425\n",
       " low      9071\n",
       " Name: count, dtype: int64,\n",
       " classification\n",
       " high    2414\n",
       " low     1189\n",
       " Name: count, dtype: int64,\n",
       " classification\n",
       " high    3907\n",
       " low     3421\n",
       " Name: count, dtype: int64)"
      ]
     },
     "execution_count": 13,
     "metadata": {},
     "output_type": "execute_result"
    }
   ],
   "source": [
    "training_df['classification'].value_counts(), val_df['classification'].value_counts(), test_df['classification'].value_counts()"
   ]
  },
  {
   "cell_type": "code",
   "execution_count": 14,
   "metadata": {},
   "outputs": [],
   "source": [
    "test_training = df4[df4['barcode'].isin(training_barcodes)]\n",
    "test_val = df4[df4['barcode'].isin(val_barcodes)]\n",
    "test_test = df4[df4['barcode'].isin(test_barcodes)]"
   ]
  },
  {
   "cell_type": "code",
   "execution_count": 15,
   "metadata": {},
   "outputs": [
    {
     "data": {
      "text/plain": [
       "(celltype\n",
       " cancer     210\n",
       " healthy     29\n",
       " Name: count, dtype: int64,\n",
       " celltype\n",
       " cancer     27\n",
       " healthy     8\n",
       " Name: count, dtype: int64,\n",
       " celltype\n",
       " cancer     62\n",
       " healthy     7\n",
       " Name: count, dtype: int64)"
      ]
     },
     "execution_count": 15,
     "metadata": {},
     "output_type": "execute_result"
    }
   ],
   "source": [
    "test_training['celltype'].value_counts(), test_val['celltype'].value_counts(), test_test['celltype'].value_counts()"
   ]
  },
  {
   "cell_type": "code",
   "execution_count": 16,
   "metadata": {},
   "outputs": [],
   "source": [
    "test_df.to_csv('../data/splits/batch2_test_filtered.tsv', sep='\\t', index=False)\n",
    "training_df.to_csv('../data/splits/batch2_training_filtered.tsv', sep='\\t', index=False)\n",
    "val_df.to_csv('../data/splits/batch2_val_filtered.tsv', sep='\\t', index=False)"
   ]
  },
  {
   "cell_type": "markdown",
   "metadata": {},
   "source": [
    "# Try undersampling the training set"
   ]
  },
  {
   "cell_type": "code",
   "execution_count": 2,
   "metadata": {},
   "outputs": [],
   "source": [
    "import os\n",
    "os.environ[\"SCIPY_ARRAY_API\"] = \"1\"\n",
    "\n",
    "import sklearn\n",
    "import scipy\n",
    "import pandas as pd "
   ]
  },
  {
   "cell_type": "code",
   "execution_count": 3,
   "metadata": {},
   "outputs": [],
   "source": [
    "clas = pd.read_csv('../data/preprocessing/classification_median_batch_1.tsv',sep='\\t')"
   ]
  },
  {
   "cell_type": "code",
   "execution_count": 4,
   "metadata": {},
   "outputs": [],
   "source": [
    "best_barcodes_1 = pd.read_csv('../data/preprocessing/batch_1_best_quality_barcodes.tsv').columns"
   ]
  },
  {
   "cell_type": "code",
   "execution_count": 5,
   "metadata": {},
   "outputs": [
    {
     "data": {
      "text/plain": [
       "classification\n",
       "zero    6863458\n",
       "low      249335\n",
       "high     249207\n",
       "Name: count, dtype: int64"
      ]
     },
     "execution_count": 5,
     "metadata": {},
     "output_type": "execute_result"
    }
   ],
   "source": [
    "# Distribution before splitting\n",
    "clas['classification'].value_counts()"
   ]
  },
  {
   "cell_type": "code",
   "execution_count": 6,
   "metadata": {},
   "outputs": [],
   "source": [
    "clas = clas[clas['barcode'].isin(best_barcodes_1)]\n",
    "clas = clas[clas['expression_count'] != 0]"
   ]
  },
  {
   "cell_type": "code",
   "execution_count": 7,
   "metadata": {},
   "outputs": [
    {
     "data": {
      "text/plain": [
       "classification\n",
       "low     48950\n",
       "high    37980\n",
       "Name: count, dtype: int64"
      ]
     },
     "execution_count": 7,
     "metadata": {},
     "output_type": "execute_result"
    }
   ],
   "source": [
    "# Distrubution after filtering for EpiAneufinder results\n",
    "clas['classification'].value_counts()"
   ]
  },
  {
   "cell_type": "code",
   "execution_count": 35,
   "metadata": {},
   "outputs": [
    {
     "data": {
      "text/plain": [
       "509"
      ]
     },
     "execution_count": 35,
     "metadata": {},
     "output_type": "execute_result"
    }
   ],
   "source": [
    "len(best_barcodes_1)"
   ]
  },
  {
   "cell_type": "code",
   "execution_count": 8,
   "metadata": {},
   "outputs": [],
   "source": [
    "clas_train = pd.read_csv('../data/splits/batch1_training_filtered.tsv',sep='\\t')"
   ]
  },
  {
   "cell_type": "code",
   "execution_count": 9,
   "metadata": {},
   "outputs": [
    {
     "data": {
      "text/plain": [
       "classification\n",
       "low     32885\n",
       "high    26456\n",
       "Name: count, dtype: int64"
      ]
     },
     "execution_count": 9,
     "metadata": {},
     "output_type": "execute_result"
    }
   ],
   "source": [
    "# Distribution of classes in filtered training set\n",
    "clas_train['classification'].value_counts()"
   ]
  },
  {
   "cell_type": "code",
   "execution_count": 23,
   "metadata": {},
   "outputs": [
    {
     "data": {
      "text/plain": [
       "0.44583003319795755"
      ]
     },
     "execution_count": 23,
     "metadata": {},
     "output_type": "execute_result"
    }
   ],
   "source": [
    "26456/(26456+32885)"
   ]
  },
  {
   "cell_type": "markdown",
   "metadata": {},
   "source": [
    "Perform subsampling on the training set."
   ]
  },
  {
   "cell_type": "code",
   "execution_count": 10,
   "metadata": {},
   "outputs": [],
   "source": [
    "from imblearn.under_sampling import RandomUnderSampler"
   ]
  },
  {
   "cell_type": "code",
   "execution_count": 11,
   "metadata": {},
   "outputs": [
    {
     "name": "stdout",
     "output_type": "stream",
     "text": [
      "Undersampled Train class distribution:\n",
      " classification\n",
      "high    0.5\n",
      "low     0.5\n",
      "Name: proportion, dtype: float64\n"
     ]
    }
   ],
   "source": [
    "# Define feature columns (excluding classification)\n",
    "feature_cols = [col for col in clas_train.columns if col not in ['classification']]\n",
    "\n",
    "# Apply RandomUnderSampler on full barcode-gene dataset\n",
    "rus = RandomUnderSampler(random_state=42)\n",
    "train_resampled, y_train_resampled = rus.fit_resample(\n",
    "    clas_train[feature_cols],  # Features (all except classification)\n",
    "    clas_train['classification']  # Labels (classification column)\n",
    ")\n",
    "\n",
    "# Convert back to a DataFrame\n",
    "clas_train_resampled = pd.DataFrame(train_resampled, columns=feature_cols)\n",
    "clas_train_resampled['classification'] = y_train_resampled  # Add classification back\n",
    "\n",
    "# 4Print new class distribution\n",
    "print(\"Undersampled Train class distribution:\\n\", clas_train_resampled['classification'].value_counts(normalize=True))\n"
   ]
  },
  {
   "cell_type": "code",
   "execution_count": 12,
   "metadata": {},
   "outputs": [
    {
     "data": {
      "text/plain": [
       "classification\n",
       "high    26456\n",
       "low     26456\n",
       "Name: count, dtype: int64"
      ]
     },
     "execution_count": 12,
     "metadata": {},
     "output_type": "execute_result"
    }
   ],
   "source": [
    "# Distribution of subsampled training set\n",
    "clas_train_resampled['classification'].value_counts()"
   ]
  },
  {
   "cell_type": "markdown",
   "metadata": {},
   "source": [
    "Check if it is balanced in annotation"
   ]
  },
  {
   "cell_type": "code",
   "execution_count": 16,
   "metadata": {},
   "outputs": [],
   "source": [
    "barcodes = clas_train_resampled['barcode'].drop_duplicates() #Checked that these are the same as before, we just removed genes."
   ]
  },
  {
   "cell_type": "code",
   "execution_count": 24,
   "metadata": {},
   "outputs": [],
   "source": [
    "anno = pd.read_csv('../data/preprocessing/batch_1_clustering.tsv',sep='\\t')"
   ]
  },
  {
   "cell_type": "code",
   "execution_count": 25,
   "metadata": {},
   "outputs": [],
   "source": [
    "anno = anno[anno['barcodes'].isin(barcodes)]"
   ]
  },
  {
   "cell_type": "code",
   "execution_count": 26,
   "metadata": {},
   "outputs": [
    {
     "data": {
      "text/plain": [
       "celltype\n",
       "cancer     317\n",
       "APC's       32\n",
       "T cells      7\n",
       "Name: count, dtype: int64"
      ]
     },
     "execution_count": 26,
     "metadata": {},
     "output_type": "execute_result"
    }
   ],
   "source": [
    "anno['celltype'].value_counts()"
   ]
  },
  {
   "cell_type": "code",
   "execution_count": null,
   "metadata": {},
   "outputs": [],
   "source": [
    "clas_train_resampled.to_csv('../data/splits/batch1_train_subsampled',sep='\\t',index=False)"
   ]
  }
 ],
 "metadata": {
  "kernelspec": {
   "display_name": "Python 3",
   "language": "python",
   "name": "python3"
  },
  "language_info": {
   "codemirror_mode": {
    "name": "ipython",
    "version": 3
   },
   "file_extension": ".py",
   "mimetype": "text/x-python",
   "name": "python",
   "nbconvert_exporter": "python",
   "pygments_lexer": "ipython3",
   "version": "3.12.9"
  }
 },
 "nbformat": 4,
 "nbformat_minor": 2
}
