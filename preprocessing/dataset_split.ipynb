{
 "cells": [
  {
   "cell_type": "markdown",
   "metadata": {},
   "source": [
    "# Split the preprocessed datasets into training,validation and test sets."
   ]
  },
  {
   "cell_type": "code",
   "execution_count": 1,
   "metadata": {},
   "outputs": [],
   "source": [
    "import pandas as pd\n",
    "from sklearn.model_selection import train_test_split"
   ]
  },
  {
   "cell_type": "markdown",
   "metadata": {},
   "source": [
    "# Batch 1"
   ]
  },
  {
   "cell_type": "code",
   "execution_count": 2,
   "metadata": {},
   "outputs": [],
   "source": [
    "df1 = pd.read_csv(\"/Users/isabelgiray/Desktop/classification_median_batch_1.tsv\", sep=\"\\t\")\n",
    "df2 = pd.read_csv(\"/Users/isabelgiray/Desktop/batch_1_clustering.tsv\", sep=\"\\t\")\n"
   ]
  },
  {
   "cell_type": "code",
   "execution_count": 3,
   "metadata": {},
   "outputs": [],
   "source": [
    "barcodes_unique = df1['barcode'].unique()"
   ]
  },
  {
   "cell_type": "code",
   "execution_count": 4,
   "metadata": {},
   "outputs": [],
   "source": [
    "train_barcodes, test_barcodes = train_test_split(barcodes_unique, test_size=0.2, random_state=2)"
   ]
  },
  {
   "cell_type": "code",
   "execution_count": 5,
   "metadata": {},
   "outputs": [],
   "source": [
    "train_df = df1[df1['barcode'].isin(train_barcodes)]\n",
    "test_df = df1[df1['barcode'].isin(test_barcodes)]"
   ]
  },
  {
   "cell_type": "code",
   "execution_count": 6,
   "metadata": {},
   "outputs": [],
   "source": [
    "train_df = train_df[train_df['expression_count'] != 0]"
   ]
  },
  {
   "cell_type": "markdown",
   "metadata": {},
   "source": [
    "The non-zero training set contains 70% of the non-zero entire set"
   ]
  },
  {
   "cell_type": "code",
   "execution_count": 7,
   "metadata": {},
   "outputs": [
    {
     "data": {
      "text/plain": [
       "(classification\n",
       " low     198570\n",
       " high    198470\n",
       " Name: count, dtype: int64,\n",
       " classification\n",
       " zero    1372498\n",
       " low       50765\n",
       " high      50737\n",
       " Name: count, dtype: int64)"
      ]
     },
     "execution_count": 7,
     "metadata": {},
     "output_type": "execute_result"
    }
   ],
   "source": [
    "train_df['classification'].value_counts(), test_df['classification'].value_counts()"
   ]
  },
  {
   "cell_type": "code",
   "execution_count": 8,
   "metadata": {},
   "outputs": [],
   "source": [
    "test_train = df2[df2['barcodes'].isin(train_barcodes)]\n",
    "test_test = df2[df2['barcodes'].isin(test_barcodes)]"
   ]
  },
  {
   "cell_type": "code",
   "execution_count": 9,
   "metadata": {},
   "outputs": [
    {
     "data": {
      "text/plain": [
       "(celltype\n",
       " cancer     4002\n",
       " APC's       155\n",
       " T cells      55\n",
       " Name: count, dtype: int64,\n",
       " celltype\n",
       " cancer     2798\n",
       " APC's       107\n",
       " T cells      39\n",
       " Name: count, dtype: int64,\n",
       " celltype\n",
       " cancer     698\n",
       " APC's       30\n",
       " T cells      9\n",
       " Name: count, dtype: int64)"
      ]
     },
     "execution_count": 9,
     "metadata": {},
     "output_type": "execute_result"
    }
   ],
   "source": [
    "df2['celltype'].value_counts(), test_train['celltype'].value_counts(), test_test['celltype'].value_counts()"
   ]
  },
  {
   "cell_type": "markdown",
   "metadata": {},
   "source": [
    "Now split the training set into 'actual' training set and validation set, such that we have splits 70%:10%:20%."
   ]
  },
  {
   "cell_type": "code",
   "execution_count": 10,
   "metadata": {},
   "outputs": [],
   "source": [
    "training_barcodes, val_barcodes = train_test_split(train_barcodes, test_size=10/80, random_state=2)"
   ]
  },
  {
   "cell_type": "code",
   "execution_count": 11,
   "metadata": {},
   "outputs": [],
   "source": [
    "training_df = train_df[train_df['barcode'].isin(training_barcodes)]\n",
    "val_df = train_df[train_df['barcode'].isin(val_barcodes)]"
   ]
  },
  {
   "cell_type": "code",
   "execution_count": 12,
   "metadata": {},
   "outputs": [
    {
     "data": {
      "text/plain": [
       "(classification\n",
       " high    174324\n",
       " low     173400\n",
       " Name: count, dtype: int64,\n",
       " classification\n",
       " low     25170\n",
       " high    24146\n",
       " Name: count, dtype: int64,\n",
       " classification\n",
       " zero    1372498\n",
       " low       50765\n",
       " high      50737\n",
       " Name: count, dtype: int64)"
      ]
     },
     "execution_count": 12,
     "metadata": {},
     "output_type": "execute_result"
    }
   ],
   "source": [
    "training_df['classification'].value_counts(), val_df['classification'].value_counts(), test_df['classification'].value_counts()"
   ]
  },
  {
   "cell_type": "code",
   "execution_count": 13,
   "metadata": {},
   "outputs": [],
   "source": [
    "test_training = df2[df2['barcodes'].isin(training_barcodes)]\n",
    "test_val = df2[df2['barcodes'].isin(val_barcodes)]\n",
    "test_test = df2[df2['barcodes'].isin(test_barcodes)]\n"
   ]
  },
  {
   "cell_type": "code",
   "execution_count": 14,
   "metadata": {},
   "outputs": [
    {
     "data": {
      "text/plain": [
       "(celltype\n",
       " cancer     2448\n",
       " APC's        93\n",
       " T cells      35\n",
       " Name: count, dtype: int64,\n",
       " celltype\n",
       " cancer     350\n",
       " APC's       14\n",
       " T cells      4\n",
       " Name: count, dtype: int64,\n",
       " celltype\n",
       " cancer     698\n",
       " APC's       30\n",
       " T cells      9\n",
       " Name: count, dtype: int64)"
      ]
     },
     "execution_count": 14,
     "metadata": {},
     "output_type": "execute_result"
    }
   ],
   "source": [
    "test_training['celltype'].value_counts(), test_val['celltype'].value_counts(), test_test['celltype'].value_counts()"
   ]
  },
  {
   "cell_type": "code",
   "execution_count": 15,
   "metadata": {},
   "outputs": [],
   "source": [
    "test_df.to_csv('/Users/isabelgiray/Desktop/batch1_test.tsv', sep='\\t', index=False)\n",
    "training_df.to_csv('/Users/isabelgiray/Desktop/batch1_training.tsv', sep='\\t', index=False)\n",
    "val_df.to_csv('/Users/isabelgiray/Desktop/batch1_val.tsv', sep='\\t', index=False)"
   ]
  },
  {
   "cell_type": "markdown",
   "metadata": {},
   "source": [
    "# Batch 2"
   ]
  },
  {
   "cell_type": "code",
   "execution_count": 18,
   "metadata": {},
   "outputs": [],
   "source": [
    "df3 = pd.read_csv(\"/Users/isabelgiray/Desktop/classification_median_batch_2.tsv\", sep=\"\\t\")\n",
    "df4 = pd.read_csv(\"/Users/isabelgiray/Desktop/batch_2_clustering.tsv\", sep=\"\\t\")"
   ]
  },
  {
   "cell_type": "code",
   "execution_count": 19,
   "metadata": {},
   "outputs": [],
   "source": [
    "barcodes_unique = df3['barcode'].unique()"
   ]
  },
  {
   "cell_type": "code",
   "execution_count": 20,
   "metadata": {},
   "outputs": [],
   "source": [
    "train_barcodes, test_barcodes = train_test_split(barcodes_unique, test_size=0.2, random_state=2)"
   ]
  },
  {
   "cell_type": "code",
   "execution_count": 21,
   "metadata": {},
   "outputs": [],
   "source": [
    "train_df = df3[df3['barcode'].isin(train_barcodes)]\n",
    "test_df = df3[df3['barcode'].isin(test_barcodes)]"
   ]
  },
  {
   "cell_type": "code",
   "execution_count": 22,
   "metadata": {},
   "outputs": [],
   "source": [
    "train_df = train_df[train_df['expression_count'] != 0]"
   ]
  },
  {
   "cell_type": "code",
   "execution_count": 23,
   "metadata": {},
   "outputs": [
    {
     "data": {
      "text/plain": [
       "(classification\n",
       " low     241458\n",
       " high    238440\n",
       " Name: count, dtype: int64,\n",
       " classification\n",
       " zero    2170155\n",
       " high      61332\n",
       " low       58513\n",
       " Name: count, dtype: int64)"
      ]
     },
     "execution_count": 23,
     "metadata": {},
     "output_type": "execute_result"
    }
   ],
   "source": [
    "train_df['classification'].value_counts(), test_df['classification'].value_counts()"
   ]
  },
  {
   "cell_type": "code",
   "execution_count": 24,
   "metadata": {},
   "outputs": [],
   "source": [
    "test_train = df4[df4['barcodes'].isin(train_barcodes)]\n",
    "test_test = df4[df4['barcodes'].isin(test_barcodes)]"
   ]
  },
  {
   "cell_type": "code",
   "execution_count": 25,
   "metadata": {},
   "outputs": [
    {
     "data": {
      "text/plain": [
       "(celltype\n",
       " cancer     6357\n",
       " healthy     192\n",
       " Name: count, dtype: int64,\n",
       " celltype\n",
       " cancer     4450\n",
       " healthy     128\n",
       " Name: count, dtype: int64,\n",
       " celltype\n",
       " cancer     1112\n",
       " healthy      33\n",
       " Name: count, dtype: int64)"
      ]
     },
     "execution_count": 25,
     "metadata": {},
     "output_type": "execute_result"
    }
   ],
   "source": [
    "df4['celltype'].value_counts(), test_train['celltype'].value_counts(), test_test['celltype'].value_counts()"
   ]
  },
  {
   "cell_type": "code",
   "execution_count": 26,
   "metadata": {},
   "outputs": [],
   "source": [
    "training_barcodes, val_barcodes = train_test_split(train_barcodes, test_size=10/80, random_state=2)"
   ]
  },
  {
   "cell_type": "code",
   "execution_count": 27,
   "metadata": {},
   "outputs": [],
   "source": [
    "training_df = train_df[train_df['barcode'].isin(training_barcodes)]\n",
    "val_df = train_df[train_df['barcode'].isin(val_barcodes)]"
   ]
  },
  {
   "cell_type": "code",
   "execution_count": 28,
   "metadata": {},
   "outputs": [
    {
     "data": {
      "text/plain": [
       "(classification\n",
       " low     211456\n",
       " high    208559\n",
       " Name: count, dtype: int64,\n",
       " classification\n",
       " low     30002\n",
       " high    29881\n",
       " Name: count, dtype: int64,\n",
       " classification\n",
       " zero    2170155\n",
       " high      61332\n",
       " low       58513\n",
       " Name: count, dtype: int64)"
      ]
     },
     "execution_count": 28,
     "metadata": {},
     "output_type": "execute_result"
    }
   ],
   "source": [
    "training_df['classification'].value_counts(), val_df['classification'].value_counts(), test_df['classification'].value_counts()"
   ]
  },
  {
   "cell_type": "code",
   "execution_count": 29,
   "metadata": {},
   "outputs": [],
   "source": [
    "test_training = df4[df4['barcodes'].isin(training_barcodes)]\n",
    "test_val = df4[df4['barcodes'].isin(val_barcodes)]\n",
    "test_test = df4[df4['barcodes'].isin(test_barcodes)]"
   ]
  },
  {
   "cell_type": "code",
   "execution_count": 30,
   "metadata": {},
   "outputs": [
    {
     "data": {
      "text/plain": [
       "(celltype\n",
       " cancer     3893\n",
       " healthy     112\n",
       " Name: count, dtype: int64,\n",
       " celltype\n",
       " cancer     557\n",
       " healthy     16\n",
       " Name: count, dtype: int64,\n",
       " celltype\n",
       " cancer     1112\n",
       " healthy      33\n",
       " Name: count, dtype: int64)"
      ]
     },
     "execution_count": 30,
     "metadata": {},
     "output_type": "execute_result"
    }
   ],
   "source": [
    "test_training['celltype'].value_counts(), test_val['celltype'].value_counts(), test_test['celltype'].value_counts()"
   ]
  },
  {
   "cell_type": "code",
   "execution_count": 31,
   "metadata": {},
   "outputs": [],
   "source": [
    "test_df.to_csv('/Users/isabelgiray/Desktop/batch2_test.tsv', sep='\\t', index=False)\n",
    "training_df.to_csv('/Users/isabelgiray/Desktop/batch2_training.tsv', sep='\\t', index=False)\n",
    "val_df.to_csv('/Users/isabelgiray/Desktop/batch2_val.tsv', sep='\\t', index=False)"
   ]
  }
 ],
 "metadata": {
  "kernelspec": {
   "display_name": "Python 3",
   "language": "python",
   "name": "python3"
  },
  "language_info": {
   "codemirror_mode": {
    "name": "ipython",
    "version": 3
   },
   "file_extension": ".py",
   "mimetype": "text/x-python",
   "name": "python",
   "nbconvert_exporter": "python",
   "pygments_lexer": "ipython3",
   "version": "3.12.1"
  }
 },
 "nbformat": 4,
 "nbformat_minor": 2
}
