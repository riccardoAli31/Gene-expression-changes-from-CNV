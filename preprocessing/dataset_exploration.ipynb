{
 "cells": [
  {
   "cell_type": "markdown",
   "metadata": {},
   "source": [
    "# Dataset Exploration\n",
    "This notebook serves to dive deeper into the properties of our data."
   ]
  },
  {
   "cell_type": "code",
   "execution_count": 2,
   "metadata": {},
   "outputs": [],
   "source": [
    "import pandas as pd\n",
    "from pathlib import Path\n",
    "\n",
    "%load_ext autoreload\n",
    "%autoreload 2"
   ]
  },
  {
   "cell_type": "code",
   "execution_count": 3,
   "metadata": {},
   "outputs": [],
   "source": [
    "# directories we will need\n",
    "git_root = Path('..')\n",
    "data_root = git_root / 'data'\n",
    "assert data_root.exists()\n",
    "\n",
    "# dataset split files\n",
    "b1_train_path = data_root / 'splits' / 'batch1_training_filtered.tsv'\n",
    "b1_val_path = data_root / 'splits' / 'batch1_val_filtered.tsv'\n",
    "b1_test_path = data_root / 'splits' / 'batch1_test_filtered.tsv'\n",
    "b2_train_path = data_root / 'splits' / 'batch2_training_filtered.tsv'\n",
    "b2_val_path = data_root / 'splits' / 'batch2_val_filtered.tsv'\n",
    "b2_test_path = data_root / 'splits' / 'batch2_test_filtered.tsv'"
   ]
  },
  {
   "cell_type": "code",
   "execution_count": 4,
   "metadata": {},
   "outputs": [],
   "source": [
    "b1_full_data = data_root / 'preprocessing' / 'classification_median_batch_1.tsv'\n",
    "b2_full_data = data_root / 'preprocessing' / 'classification_median_batch_2.tsv'"
   ]
  },
  {
   "cell_type": "markdown",
   "metadata": {},
   "source": [
    "## Barcode - gene pairs\n",
    "Previously, we noticed during embedding calculation, that not all barcodes have targets/labels all genes, which is required for supervised learning. \n",
    "Thus, we analyse the barcode - gene pairs in the data here.\n",
    "In particular, we want to identify the minimal gene set, that is shared among all barcodes of a batch."
   ]
  },
  {
   "cell_type": "code",
   "execution_count": null,
   "metadata": {},
   "outputs": [],
   "source": [
    "# algoritm idea make iterative intersections.\n",
    "# 1. start will a set of all uniq genes\n",
    "# 2. for each uniq barcode intersect the uniq gene ids associated to this barcode\n",
    "# 3. return the result of all intersections"
   ]
  },
  {
   "cell_type": "code",
   "execution_count": 13,
   "metadata": {},
   "outputs": [],
   "source": [
    "def find_minimal_gene_set(df: pd.DataFrame):\n",
    "    uniq_gene_ids = set(df['gene_id'])\n",
    "    uniq_barodes = set(df['barcode'])\n",
    "    minimal_gene_set = uniq_gene_ids\n",
    "    for barcode in uniq_barodes:\n",
    "        minimal_gene_set = minimal_gene_set.intersection(\n",
    "            set(df[df['barcode'] == barcode]['gene_id'])\n",
    "        )\n",
    "    return minimal_gene_set"
   ]
  },
  {
   "cell_type": "code",
   "execution_count": 8,
   "metadata": {},
   "outputs": [
    {
     "data": {
      "text/plain": [
       "['ENSG00000186047',\n",
       " 'ENSG00000188001',\n",
       " 'ENSG00000233008',\n",
       " 'ENSG00000154485',\n",
       " 'ENSG00000196787',\n",
       " 'ENSG00000287200',\n",
       " 'ENSG00000224982',\n",
       " 'ENSG00000130844',\n",
       " 'ENSG00000152583',\n",
       " 'ENSG00000053254']"
      ]
     },
     "execution_count": 8,
     "metadata": {},
     "output_type": "execute_result"
    }
   ],
   "source": [
    "uniq_gene_ids = set(b1_df['gene_id'])\n",
    "len(uniq_gene_ids)\n",
    "list(uniq_gene_ids)[:10]"
   ]
  },
  {
   "cell_type": "code",
   "execution_count": 9,
   "metadata": {},
   "outputs": [
    {
     "data": {
      "text/plain": [
       "['ACCCTGTTCCAGGAAA-1',\n",
       " 'TATATCCTCCTGGTCT-1',\n",
       " 'TTCGGTACAAATTGCT-1',\n",
       " 'GTACTGGTCATGTGGT-1',\n",
       " 'CTTGCGCGTTTATGGG-1',\n",
       " 'GCACTAAGTTTACGTC-1',\n",
       " 'GCCTTAACATTGACAT-1',\n",
       " 'TGAAGGATCATTTGCT-1',\n",
       " 'CTCCTGAGTTGTGACA-1',\n",
       " 'TTAAGTGTCAGGTCCA-1']"
      ]
     },
     "execution_count": 9,
     "metadata": {},
     "output_type": "execute_result"
    }
   ],
   "source": [
    "uniq_barodes = set(b1_df['barcode'])\n",
    "len(uniq_barodes)\n",
    "list(uniq_barodes)[:10]"
   ]
  },
  {
   "cell_type": "code",
   "execution_count": 10,
   "metadata": {},
   "outputs": [
    {
     "data": {
      "text/plain": [
       "2000"
      ]
     },
     "execution_count": 10,
     "metadata": {},
     "output_type": "execute_result"
    }
   ],
   "source": [
    "minimal_gene_overlap = uniq_gene_ids\n",
    "for barcode in uniq_barodes:\n",
    "    minimal_gene_overlap = minimal_gene_overlap.intersection(\n",
    "        set(b1_df[b1_df['barcode'] == barcode]['gene_id'])\n",
    "    )\n",
    "len(minimal_gene_overlap)"
   ]
  },
  {
   "cell_type": "code",
   "execution_count": null,
   "metadata": {},
   "outputs": [],
   "source": [
    "b1_min_gene_set = find_minimal_gene_set(\n",
    "    b1_df = pd.read_csv(b1_full_data, sep='\\t')\n",
    ")\n",
    "len(b1_min_gene_set)"
   ]
  },
  {
   "cell_type": "markdown",
   "metadata": {},
   "source": [
    "In vestigate minimal gene set for batch 2."
   ]
  },
  {
   "cell_type": "code",
   "execution_count": 12,
   "metadata": {},
   "outputs": [],
   "source": [
    "b2_df = pd.read_csv(b2_full_data, sep='\\t')"
   ]
  },
  {
   "cell_type": "code",
   "execution_count": 14,
   "metadata": {},
   "outputs": [
    {
     "data": {
      "text/plain": [
       "2000"
      ]
     },
     "execution_count": 14,
     "metadata": {},
     "output_type": "execute_result"
    }
   ],
   "source": [
    "b2_min_gene_set = find_minimal_gene_set(b2_df)\n",
    "len(b2_min_gene_set)"
   ]
  },
  {
   "cell_type": "markdown",
   "metadata": {},
   "source": [
    "### Minimal gene set of splits\n",
    "As we see, the minimal gene overlap contains all 2000 genes we selected for our analysis.\n",
    "Thus, check if the error arrises from the split data."
   ]
  },
  {
   "cell_type": "markdown",
   "metadata": {},
   "source": [
    "#### Batch 1 train\n",
    "Minimal gene overlap set for training split of batch 1."
   ]
  },
  {
   "cell_type": "code",
   "execution_count": 15,
   "metadata": {},
   "outputs": [
    {
     "data": {
      "text/plain": [
       "0"
      ]
     },
     "execution_count": 15,
     "metadata": {},
     "output_type": "execute_result"
    }
   ],
   "source": [
    "b1_train_min_gene_set = find_minimal_gene_set(\n",
    "    pd.read_csv(b1_train_path, sep='\\t')\n",
    ")\n",
    "len(b1_train_min_gene_set)"
   ]
  },
  {
   "cell_type": "markdown",
   "metadata": {},
   "source": [
    "#### Batch 1 validation\n",
    "Minimal gene overlap set for training split of batch 1."
   ]
  },
  {
   "cell_type": "code",
   "execution_count": 16,
   "metadata": {},
   "outputs": [
    {
     "data": {
      "text/plain": [
       "0"
      ]
     },
     "execution_count": 16,
     "metadata": {},
     "output_type": "execute_result"
    }
   ],
   "source": [
    "b1_val_min_gene_set = find_minimal_gene_set(\n",
    "    pd.read_csv(b1_val_path, sep='\\t')\n",
    ")\n",
    "len(b1_val_min_gene_set)"
   ]
  },
  {
   "cell_type": "markdown",
   "metadata": {},
   "source": [
    "#### Batch 1 test\n",
    "Minimal gene overlap set for training split of batch 1."
   ]
  },
  {
   "cell_type": "code",
   "execution_count": 17,
   "metadata": {},
   "outputs": [
    {
     "data": {
      "text/plain": [
       "0"
      ]
     },
     "execution_count": 17,
     "metadata": {},
     "output_type": "execute_result"
    }
   ],
   "source": [
    "b1_test_min_gene_set = find_minimal_gene_set(\n",
    "    pd.read_csv(b1_test_path, sep='\\t')\n",
    ")\n",
    "len(b1_test_min_gene_set)"
   ]
  },
  {
   "cell_type": "markdown",
   "metadata": {},
   "source": [
    "#### Batch 2 train"
   ]
  },
  {
   "cell_type": "code",
   "execution_count": 18,
   "metadata": {},
   "outputs": [
    {
     "data": {
      "text/plain": [
       "0"
      ]
     },
     "execution_count": 18,
     "metadata": {},
     "output_type": "execute_result"
    }
   ],
   "source": [
    "b2_train_min_gene_set = find_minimal_gene_set(\n",
    "    pd.read_csv(b2_train_path, sep='\\t')\n",
    ")\n",
    "len(b2_train_min_gene_set)"
   ]
  },
  {
   "cell_type": "markdown",
   "metadata": {},
   "source": [
    "#### Batch 2 validation"
   ]
  },
  {
   "cell_type": "code",
   "execution_count": 19,
   "metadata": {},
   "outputs": [
    {
     "data": {
      "text/plain": [
       "0"
      ]
     },
     "execution_count": 19,
     "metadata": {},
     "output_type": "execute_result"
    }
   ],
   "source": [
    "b2_val_min_gene_set = find_minimal_gene_set(\n",
    "    pd.read_csv(b2_val_path, sep='\\t')\n",
    ")\n",
    "len(b2_val_min_gene_set)"
   ]
  },
  {
   "cell_type": "markdown",
   "metadata": {},
   "source": [
    "#### Batch 2 test"
   ]
  },
  {
   "cell_type": "code",
   "execution_count": 20,
   "metadata": {},
   "outputs": [
    {
     "data": {
      "text/plain": [
       "0"
      ]
     },
     "execution_count": 20,
     "metadata": {},
     "output_type": "execute_result"
    }
   ],
   "source": [
    "b2_test_min_gene_set = find_minimal_gene_set(\n",
    "    pd.read_csv(b2_test_path, sep='\\t')\n",
    ")\n",
    "len(b2_test_min_gene_set)"
   ]
  },
  {
   "cell_type": "markdown",
   "metadata": {},
   "source": [
    "## Dataset class\n",
    "This section tests the dataset class `CnvDataset` from `src/data/dataset.py`."
   ]
  },
  {
   "cell_type": "code",
   "execution_count": 5,
   "metadata": {},
   "outputs": [],
   "source": [
    "import sys\n",
    "sys.path.append('..') # add the parent directory to system path\n",
    "from src.data.dataset import CnvDataset"
   ]
  },
  {
   "cell_type": "code",
   "execution_count": 13,
   "metadata": {},
   "outputs": [],
   "source": [
    "# directories we will need\n",
    "out_root = git_root / 'out'\n",
    "\n",
    "# files we will need\n",
    "genome_fasta = data_root / 'reference' / 'GRCh38.d1.vd1.fa'\n",
    "assert genome_fasta.exists()\n",
    "overlap_path = data_root / 'overlap_genes_peaks.tsv'\n",
    "assert overlap_path.exists()\n",
    "epiAneufinder_path = out_root / 'epiAneufinder' / 'epiAneuFinder_results.tsv'\n",
    "assert epiAneufinder_path.exists()"
   ]
  },
  {
   "cell_type": "markdown",
   "metadata": {},
   "source": [
    "### File format benchmark\n",
    "We discussed multiple file formats to use in the backend for storing computed embeddings on the disk. Suggestions were the vanilla pytorch format `.pt`, pickle files `.pkl` and the scipy matrix format `.mtx`.\n",
    "Since pytorch is using pickle in the backend for creating `.pt` files, we decided to only use the `.pt` and `.mtx` formats.\n",
    "In the following we benchmark reading from these file types, as this could be a bottleneck during training. "
   ]
  },
  {
   "cell_type": "code",
   "execution_count": 7,
   "metadata": {},
   "outputs": [
    {
     "name": "stdout",
     "output_type": "stream",
     "text": [
      "Using 51 barcodes\n",
      "Using 1093 genes\n",
      "No embedding files for 932 data points in ../data/embeddings/batch_1/val/single_gene_barcode!\n",
      "../data/embeddings/batch_1/val/single_gene_barcode/AAAGGTTAGGGTGGAT-1/ENSG00000173372.mtx\n"
     ]
    }
   ],
   "source": [
    "b1_val_path = data_root / 'splits' / 'batch1_val_filtered.tsv'\n",
    "b1_val_dataset = CnvDataset(\n",
    "    root=data_root / 'embeddings' / 'batch_1' / 'val',\n",
    "    data_df=pd.read_csv(b1_val_path, sep='\\t'),\n",
    "    embedding_mode='single_gene_barcode',\n",
    "    file_format='mtx',\n",
    "    verbose=2\n",
    ")"
   ]
  },
  {
   "cell_type": "code",
   "execution_count": 67,
   "metadata": {},
   "outputs": [
    {
     "name": "stdout",
     "output_type": "stream",
     "text": [
      "Using 51 barcodes\n",
      "Using 1093 genes\n",
      "Recomputing embeddings:  True\n",
      "[embed]: Iterating over custom barcode to genes mapping\n",
      "[embed]: Computing 8954 Embeddings with mode: \"single_gene_barcode\"\n",
      "[embed]: Using 51 barcodes\n",
      "[embed]: Using 1093 genes\n"
     ]
    },
    {
     "name": "stderr",
     "output_type": "stream",
     "text": [
      "[embed]: Computing embeddings (# genes done):   0%|                                            | 0/1093 [00:00<?, ?it/s]"
     ]
    },
    {
     "name": "stdout",
     "output_type": "stream",
     "text": [
      "emb_df\n",
      " Empty DataFrame\n",
      "Columns: [barcode, gene_id, embedding_path]\n",
      "Index: []\n"
     ]
    },
    {
     "name": "stderr",
     "output_type": "stream",
     "text": [
      "\n"
     ]
    },
    {
     "ename": "RuntimeError",
     "evalue": "No embedding files found!",
     "output_type": "error",
     "traceback": [
      "\u001b[0;31m---------------------------------------------------------------------------\u001b[0m",
      "\u001b[0;31mRuntimeError\u001b[0m                              Traceback (most recent call last)",
      "Cell \u001b[0;32mIn[67], line 1\u001b[0m\n\u001b[0;32m----> 1\u001b[0m b1_val_redo \u001b[38;5;241m=\u001b[39m \u001b[43mCnvDataset\u001b[49m\u001b[43m(\u001b[49m\n\u001b[1;32m      2\u001b[0m \u001b[43m    \u001b[49m\u001b[43mroot\u001b[49m\u001b[38;5;241;43m=\u001b[39;49m\u001b[43mdata_root\u001b[49m\u001b[43m \u001b[49m\u001b[38;5;241;43m/\u001b[39;49m\u001b[43m \u001b[49m\u001b[38;5;124;43m'\u001b[39;49m\u001b[38;5;124;43membeddings\u001b[39;49m\u001b[38;5;124;43m'\u001b[39;49m\u001b[43m \u001b[49m\u001b[38;5;241;43m/\u001b[39;49m\u001b[43m \u001b[49m\u001b[38;5;124;43m'\u001b[39;49m\u001b[38;5;124;43mbatch_1\u001b[39;49m\u001b[38;5;124;43m'\u001b[39;49m\u001b[43m \u001b[49m\u001b[38;5;241;43m/\u001b[39;49m\u001b[43m \u001b[49m\u001b[38;5;124;43m'\u001b[39;49m\u001b[38;5;124;43mval_redo_2\u001b[39;49m\u001b[38;5;124;43m'\u001b[39;49m\u001b[43m,\u001b[49m\n\u001b[1;32m      3\u001b[0m \u001b[43m    \u001b[49m\u001b[43mdata_df\u001b[49m\u001b[38;5;241;43m=\u001b[39;49m\u001b[43mpd\u001b[49m\u001b[38;5;241;43m.\u001b[39;49m\u001b[43mread_csv\u001b[49m\u001b[43m(\u001b[49m\u001b[43mb1_val_path\u001b[49m\u001b[43m,\u001b[49m\u001b[43m \u001b[49m\u001b[43msep\u001b[49m\u001b[38;5;241;43m=\u001b[39;49m\u001b[38;5;124;43m'\u001b[39;49m\u001b[38;5;130;43;01m\\t\u001b[39;49;00m\u001b[38;5;124;43m'\u001b[39;49m\u001b[43m)\u001b[49m\u001b[43m,\u001b[49m\n\u001b[1;32m      4\u001b[0m \u001b[43m    \u001b[49m\u001b[43mfasta_path\u001b[49m\u001b[38;5;241;43m=\u001b[39;49m\u001b[43mgenome_fasta\u001b[49m\u001b[43m,\u001b[49m\n\u001b[1;32m      5\u001b[0m \u001b[43m    \u001b[49m\u001b[43matac_path\u001b[49m\u001b[38;5;241;43m=\u001b[39;49m\u001b[43moverlap_path\u001b[49m\u001b[43m,\u001b[49m\n\u001b[1;32m      6\u001b[0m \u001b[43m    \u001b[49m\u001b[43mcnv_path\u001b[49m\u001b[38;5;241;43m=\u001b[39;49m\u001b[43mepiAneufinder_path\u001b[49m\u001b[43m,\u001b[49m\n\u001b[1;32m      7\u001b[0m \u001b[43m    \u001b[49m\u001b[43mverbose\u001b[49m\u001b[38;5;241;43m=\u001b[39;49m\u001b[38;5;241;43m2\u001b[39;49m\u001b[43m,\u001b[49m\n\u001b[1;32m      8\u001b[0m \u001b[43m    \u001b[49m\u001b[43mforce_recompute\u001b[49m\u001b[38;5;241;43m=\u001b[39;49m\u001b[38;5;28;43;01mTrue\u001b[39;49;00m\n\u001b[1;32m      9\u001b[0m \u001b[43m)\u001b[49m\n",
      "File \u001b[0;32m~/cmscb8/preprocessing/../src/data/dataset.py:214\u001b[0m, in \u001b[0;36mCnvDataset.__init__\u001b[0;34m(self, root, data_df, force_recompute, embedding_mode, file_format, use_gzip, verbose, dtype, target_type, *args, **kwargs)\u001b[0m\n\u001b[1;32m    212\u001b[0m         \u001b[38;5;28mprint\u001b[39m(missing_df[\u001b[38;5;124m'\u001b[39m\u001b[38;5;124membedding_path\u001b[39m\u001b[38;5;124m'\u001b[39m][\u001b[38;5;241m0\u001b[39m])\n\u001b[1;32m    213\u001b[0m \u001b[38;5;28;01melif\u001b[39;00m missing_df\u001b[38;5;241m.\u001b[39mshape[\u001b[38;5;241m0\u001b[39m] \u001b[38;5;241m==\u001b[39m \u001b[38;5;28mself\u001b[39m\u001b[38;5;241m.\u001b[39mdata_df\u001b[38;5;241m.\u001b[39mshape[\u001b[38;5;241m0\u001b[39m]:\n\u001b[0;32m--> 214\u001b[0m     \u001b[38;5;28;01mraise\u001b[39;00m \u001b[38;5;167;01mRuntimeError\u001b[39;00m(\u001b[38;5;124m'\u001b[39m\u001b[38;5;124mNo embedding files found!\u001b[39m\u001b[38;5;124m'\u001b[39m)\n\u001b[1;32m    216\u001b[0m \u001b[38;5;28mself\u001b[39m\u001b[38;5;241m.\u001b[39mdata_df \u001b[38;5;241m=\u001b[39m \u001b[38;5;28mself\u001b[39m\u001b[38;5;241m.\u001b[39mdata_df\u001b[38;5;241m.\u001b[39mdrop(missing_df\u001b[38;5;241m.\u001b[39mindex)\n",
      "\u001b[0;31mRuntimeError\u001b[0m: No embedding files found!"
     ]
    }
   ],
   "source": [
    "b1_val_redo = CnvDataset(\n",
    "    root=data_root / 'embeddings' / 'batch_1' / 'val_redo_2',\n",
    "    data_df=pd.read_csv(b1_val_path, sep='\\t'),\n",
    "    fasta_path=genome_fasta,\n",
    "    atac_path=overlap_path,\n",
    "    cnv_path=epiAneufinder_path,\n",
    "    verbose=2,\n",
    "    force_recompute=True\n",
    ")"
   ]
  },
  {
   "cell_type": "code",
   "execution_count": 16,
   "metadata": {},
   "outputs": [],
   "source": [
    "b1_val_df = pd.read_csv(b1_val_path, sep='\\t')"
   ]
  },
  {
   "cell_type": "code",
   "execution_count": 21,
   "metadata": {},
   "outputs": [
    {
     "data": {
      "text/plain": [
       "(8954, 5)"
      ]
     },
     "execution_count": 21,
     "metadata": {},
     "output_type": "execute_result"
    }
   ],
   "source": [
    "b1_val_df.shape"
   ]
  },
  {
   "cell_type": "code",
   "execution_count": 20,
   "metadata": {},
   "outputs": [],
   "source": [
    "b1_val_df['embedding_path'] = [\n",
    "    b1_val_redo.ids_to_emb_path(b, g) for b, g in \n",
    "    b1_val_df[['barcode', 'gene_id']].itertuples(index=False)\n",
    "]"
   ]
  },
  {
   "cell_type": "code",
   "execution_count": 23,
   "metadata": {},
   "outputs": [],
   "source": [
    "missing_df = b1_val_df[~b1_val_df['embedding_path'].isin(b1_val_redo.data_df['embedding_path'])]"
   ]
  },
  {
   "cell_type": "code",
   "execution_count": 35,
   "metadata": {},
   "outputs": [
    {
     "data": {
      "text/plain": [
       "barcode\n",
       "AATGCATGTTCACCCA-1    39\n",
       "CTTTAGGCAGCACGAA-1    39\n",
       "GCGCCTTGTAACAGGG-1    38\n",
       "ACCCTGTTCATAGCCG-1    37\n",
       "GACGTAAAGCATGTTA-1    37\n",
       "TACGGTTAGCACAGCC-1    36\n",
       "TACTGACAGAATCTCA-1    33\n",
       "TTCTTAGGTCACACCC-1    30\n",
       "TGATGAACAAGGCCAA-1    30\n",
       "TGGCCTTTCTTAATGG-1    27\n",
       "GATTTGCAGCCTGTTC-1    20\n",
       "CGCTTAACATCACAGC-1    19\n",
       "CTGGACCAGTTGGGCC-1    19\n",
       "CGATTTGCACGAATCC-1    19\n",
       "CTGGTTACATTTAAGC-1    19\n",
       "GTAGTTTCAGGCGAGT-1    19\n",
       "TGCTAGCCAATTAACC-1    19\n",
       "GCTATCCTCCCTCGCA-1    19\n",
       "CACTTTGTCTAACTGA-1    19\n",
       "TACTAAGTCAGCAAAG-1    18\n",
       "CAAGGTAAGGTCCAAT-1    18\n",
       "TCGTTAAAGGTTAGCT-1    17\n",
       "TCTCGCCCAGGCGATA-1    17\n",
       "CCATAAGGTGGTTATG-1    17\n",
       "AAAGGTTAGGGTGGAT-1    17\n",
       "ATTGAAGCAAATGCCC-1    17\n",
       "ACTATCCGTTTAACGG-1    17\n",
       "GGGCTAACAGCATGTC-1    16\n",
       "TAGTAAGCATGTTGCA-1    16\n",
       "ATAGGTACAGGTTAAA-1    15\n",
       "GGACCGAAGCGATAAG-1    15\n",
       "TGTGGCCAGGAGGACT-1    15\n",
       "TTGGCTACATAAGTTC-1    14\n",
       "AAGCCTCCACGAACAG-1    13\n",
       "CAGCCTAAGTGAAGTG-1    13\n",
       "TCGTTATTCCTTGCAC-1    13\n",
       "ATAGATGCACCTCACC-1    13\n",
       "CACAAGCGTAAATTGC-1    13\n",
       "ACTAACCAGTTGGGCC-1    13\n",
       "ACCCGTAAGGGACCTC-1    12\n",
       "CGTTAGTAGTTCCCGT-1    11\n",
       "TTGACGTAGCTGTACG-1    11\n",
       "AACAGCAAGCAGGTGG-1    11\n",
       "GGTCTTGAGGAGCACG-1    11\n",
       "AGGATTGAGCATTATG-1    10\n",
       "ATCACACAGTTTCCGC-1    10\n",
       "CCTTAACGTCGTAAAT-1     8\n",
       "GAGCTTGTCACGCCAA-1     8\n",
       "GAAGCTAAGGGACGCA-1     6\n",
       "TCTCAAGCAACCCTCC-1     5\n",
       "GAAGGAACAGGTTCAC-1     4\n",
       "Name: count, dtype: int64"
      ]
     },
     "execution_count": 35,
     "metadata": {},
     "output_type": "execute_result"
    }
   ],
   "source": [
    "missing_df['barcode'].value_counts()"
   ]
  },
  {
   "cell_type": "code",
   "execution_count": 29,
   "metadata": {},
   "outputs": [
    {
     "data": {
      "text/html": [
       "<div>\n",
       "<style scoped>\n",
       "    .dataframe tbody tr th:only-of-type {\n",
       "        vertical-align: middle;\n",
       "    }\n",
       "\n",
       "    .dataframe tbody tr th {\n",
       "        vertical-align: top;\n",
       "    }\n",
       "\n",
       "    .dataframe thead th {\n",
       "        text-align: right;\n",
       "    }\n",
       "</style>\n",
       "<table border=\"1\" class=\"dataframe\">\n",
       "  <thead>\n",
       "    <tr style=\"text-align: right;\">\n",
       "      <th></th>\n",
       "      <th>barcode</th>\n",
       "      <th>gene_id</th>\n",
       "      <th>expression_count</th>\n",
       "      <th>classification</th>\n",
       "      <th>embedding_path</th>\n",
       "    </tr>\n",
       "  </thead>\n",
       "  <tbody>\n",
       "    <tr>\n",
       "      <th>0</th>\n",
       "      <td>GACGTAAAGCATGTTA-1</td>\n",
       "      <td>ENSG00000069424</td>\n",
       "      <td>0.606885</td>\n",
       "      <td>low</td>\n",
       "      <td>../data/embeddings/batch_1/val_redo/single_gen...</td>\n",
       "    </tr>\n",
       "    <tr>\n",
       "      <th>1</th>\n",
       "      <td>CCTTAACGTCGTAAAT-1</td>\n",
       "      <td>ENSG00000215788</td>\n",
       "      <td>0.638693</td>\n",
       "      <td>low</td>\n",
       "      <td>../data/embeddings/batch_1/val_redo/single_gen...</td>\n",
       "    </tr>\n",
       "    <tr>\n",
       "      <th>2</th>\n",
       "      <td>GCTATCCTCCCTCGCA-1</td>\n",
       "      <td>ENSG00000215788</td>\n",
       "      <td>0.216336</td>\n",
       "      <td>low</td>\n",
       "      <td>../data/embeddings/batch_1/val_redo/single_gen...</td>\n",
       "    </tr>\n",
       "    <tr>\n",
       "      <th>3</th>\n",
       "      <td>TACGGTTAGCACAGCC-1</td>\n",
       "      <td>ENSG00000215788</td>\n",
       "      <td>0.569907</td>\n",
       "      <td>low</td>\n",
       "      <td>../data/embeddings/batch_1/val_redo/single_gen...</td>\n",
       "    </tr>\n",
       "    <tr>\n",
       "      <th>4</th>\n",
       "      <td>GATTTGCAGCCTGTTC-1</td>\n",
       "      <td>ENSG00000171621</td>\n",
       "      <td>0.346812</td>\n",
       "      <td>low</td>\n",
       "      <td>../data/embeddings/batch_1/val_redo/single_gen...</td>\n",
       "    </tr>\n",
       "    <tr>\n",
       "      <th>...</th>\n",
       "      <td>...</td>\n",
       "      <td>...</td>\n",
       "      <td>...</td>\n",
       "      <td>...</td>\n",
       "      <td>...</td>\n",
       "    </tr>\n",
       "    <tr>\n",
       "      <th>8017</th>\n",
       "      <td>AAGCCTCCACGAACAG-1</td>\n",
       "      <td>ENSG00000287918</td>\n",
       "      <td>0.744612</td>\n",
       "      <td>low</td>\n",
       "      <td>../data/embeddings/batch_1/val_redo/single_gen...</td>\n",
       "    </tr>\n",
       "    <tr>\n",
       "      <th>8018</th>\n",
       "      <td>ACCCTGTTCATAGCCG-1</td>\n",
       "      <td>ENSG00000160219</td>\n",
       "      <td>0.267540</td>\n",
       "      <td>low</td>\n",
       "      <td>../data/embeddings/batch_1/val_redo/single_gen...</td>\n",
       "    </tr>\n",
       "    <tr>\n",
       "      <th>8019</th>\n",
       "      <td>GACGTAAAGCATGTTA-1</td>\n",
       "      <td>ENSG00000160219</td>\n",
       "      <td>0.981858</td>\n",
       "      <td>high</td>\n",
       "      <td>../data/embeddings/batch_1/val_redo/single_gen...</td>\n",
       "    </tr>\n",
       "    <tr>\n",
       "      <th>8020</th>\n",
       "      <td>GGTCTTGAGGAGCACG-1</td>\n",
       "      <td>ENSG00000160219</td>\n",
       "      <td>0.728388</td>\n",
       "      <td>low</td>\n",
       "      <td>../data/embeddings/batch_1/val_redo/single_gen...</td>\n",
       "    </tr>\n",
       "    <tr>\n",
       "      <th>8021</th>\n",
       "      <td>TGGCCTTTCTTAATGG-1</td>\n",
       "      <td>ENSG00000160219</td>\n",
       "      <td>0.558048</td>\n",
       "      <td>low</td>\n",
       "      <td>../data/embeddings/batch_1/val_redo/single_gen...</td>\n",
       "    </tr>\n",
       "  </tbody>\n",
       "</table>\n",
       "<p>8022 rows × 5 columns</p>\n",
       "</div>"
      ],
      "text/plain": [
       "                 barcode          gene_id  expression_count classification  \\\n",
       "0     GACGTAAAGCATGTTA-1  ENSG00000069424          0.606885            low   \n",
       "1     CCTTAACGTCGTAAAT-1  ENSG00000215788          0.638693            low   \n",
       "2     GCTATCCTCCCTCGCA-1  ENSG00000215788          0.216336            low   \n",
       "3     TACGGTTAGCACAGCC-1  ENSG00000215788          0.569907            low   \n",
       "4     GATTTGCAGCCTGTTC-1  ENSG00000171621          0.346812            low   \n",
       "...                  ...              ...               ...            ...   \n",
       "8017  AAGCCTCCACGAACAG-1  ENSG00000287918          0.744612            low   \n",
       "8018  ACCCTGTTCATAGCCG-1  ENSG00000160219          0.267540            low   \n",
       "8019  GACGTAAAGCATGTTA-1  ENSG00000160219          0.981858           high   \n",
       "8020  GGTCTTGAGGAGCACG-1  ENSG00000160219          0.728388            low   \n",
       "8021  TGGCCTTTCTTAATGG-1  ENSG00000160219          0.558048            low   \n",
       "\n",
       "                                         embedding_path  \n",
       "0     ../data/embeddings/batch_1/val_redo/single_gen...  \n",
       "1     ../data/embeddings/batch_1/val_redo/single_gen...  \n",
       "2     ../data/embeddings/batch_1/val_redo/single_gen...  \n",
       "3     ../data/embeddings/batch_1/val_redo/single_gen...  \n",
       "4     ../data/embeddings/batch_1/val_redo/single_gen...  \n",
       "...                                                 ...  \n",
       "8017  ../data/embeddings/batch_1/val_redo/single_gen...  \n",
       "8018  ../data/embeddings/batch_1/val_redo/single_gen...  \n",
       "8019  ../data/embeddings/batch_1/val_redo/single_gen...  \n",
       "8020  ../data/embeddings/batch_1/val_redo/single_gen...  \n",
       "8021  ../data/embeddings/batch_1/val_redo/single_gen...  \n",
       "\n",
       "[8022 rows x 5 columns]"
      ]
     },
     "execution_count": 29,
     "metadata": {},
     "output_type": "execute_result"
    }
   ],
   "source": [
    "b1_val_redo.data_df"
   ]
  },
  {
   "cell_type": "markdown",
   "metadata": {},
   "source": [
    "Check if there are duplicate barcode - gene pairs in the val data frame."
   ]
  },
  {
   "cell_type": "code",
   "execution_count": 30,
   "metadata": {},
   "outputs": [
    {
     "data": {
      "text/plain": [
       "(8954, 2)"
      ]
     },
     "execution_count": 30,
     "metadata": {},
     "output_type": "execute_result"
    }
   ],
   "source": [
    "b1_val_df[['barcode', 'gene_id']].drop_duplicates().shape"
   ]
  },
  {
   "cell_type": "code",
   "execution_count": 31,
   "metadata": {},
   "outputs": [
    {
     "data": {
      "text/plain": [
       "(8954, 5)"
      ]
     },
     "execution_count": 31,
     "metadata": {},
     "output_type": "execute_result"
    }
   ],
   "source": [
    "b1_val_df.shape"
   ]
  },
  {
   "cell_type": "code",
   "execution_count": 32,
   "metadata": {},
   "outputs": [
    {
     "data": {
      "text/plain": [
       "(192, 5)"
      ]
     },
     "execution_count": 32,
     "metadata": {},
     "output_type": "execute_result"
    }
   ],
   "source": [
    "b1_val_df[b1_val_df['barcode'] == 'AAAGGTTAGGGTGGAT-1'].shape"
   ]
  },
  {
   "cell_type": "code",
   "execution_count": 41,
   "metadata": {},
   "outputs": [],
   "source": [
    "barcode_to_genes = {\n",
    "    barcode: list(set(b1_val_df[b1_val_df['barcode'] == barcode]['gene_id']))\n",
    "    for barcode in set(b1_val_df['barcode'])\n",
    "}"
   ]
  },
  {
   "cell_type": "code",
   "execution_count": 42,
   "metadata": {},
   "outputs": [
    {
     "data": {
      "text/plain": [
       "8954"
      ]
     },
     "execution_count": 42,
     "metadata": {},
     "output_type": "execute_result"
    }
   ],
   "source": [
    "n_embeddings = sum(map(len, barcode_to_genes.values()))\n",
    "n_embeddings"
   ]
  },
  {
   "cell_type": "code",
   "execution_count": 48,
   "metadata": {},
   "outputs": [],
   "source": [
    "cnv_df = pd.read_csv(out_root / 'epiAneufinder/epiAneuFinder_results.tsv', sep=' ')"
   ]
  },
  {
   "cell_type": "code",
   "execution_count": 49,
   "metadata": {},
   "outputs": [
    {
     "data": {
      "text/html": [
       "<div>\n",
       "<style scoped>\n",
       "    .dataframe tbody tr th:only-of-type {\n",
       "        vertical-align: middle;\n",
       "    }\n",
       "\n",
       "    .dataframe tbody tr th {\n",
       "        vertical-align: top;\n",
       "    }\n",
       "\n",
       "    .dataframe thead th {\n",
       "        text-align: right;\n",
       "    }\n",
       "</style>\n",
       "<table border=\"1\" class=\"dataframe\">\n",
       "  <thead>\n",
       "    <tr style=\"text-align: right;\">\n",
       "      <th></th>\n",
       "      <th>idx</th>\n",
       "      <th>seq</th>\n",
       "      <th>start</th>\n",
       "      <th>end</th>\n",
       "      <th>GCGCAATGTTGCGGAT-3</th>\n",
       "      <th>CTAGTGAGTCACCTAT-3</th>\n",
       "      <th>AATCATGTCGATCAGT-1</th>\n",
       "      <th>TCCTTAGTCGGGACTC-4</th>\n",
       "      <th>ACTATCCGTCTAACCT-1</th>\n",
       "      <th>GTGCACGGTCACAAAT-3</th>\n",
       "      <th>...</th>\n",
       "      <th>AGTGTGGCAATTATGC-1</th>\n",
       "      <th>AGAGAGGAGCAGGCCT-2</th>\n",
       "      <th>ATCCACCTCAACAAGG-1</th>\n",
       "      <th>GGTTGAGCATAGGCGA-1</th>\n",
       "      <th>GTACTTAAGACACCGC-1</th>\n",
       "      <th>CGTAGCGGTAGGTTGC-1</th>\n",
       "      <th>TGCTATGCAAGGACCA-1</th>\n",
       "      <th>CAGGGCTTCCAAGTGT-2</th>\n",
       "      <th>CAAGTAACAGGTTACC-2</th>\n",
       "      <th>TGATTCAAGTTCCTGC-1</th>\n",
       "    </tr>\n",
       "  </thead>\n",
       "  <tbody>\n",
       "    <tr>\n",
       "      <th>0</th>\n",
       "      <td>1</td>\n",
       "      <td>chr1</td>\n",
       "      <td>800001</td>\n",
       "      <td>900000</td>\n",
       "      <td>1</td>\n",
       "      <td>1</td>\n",
       "      <td>1</td>\n",
       "      <td>1</td>\n",
       "      <td>1</td>\n",
       "      <td>1</td>\n",
       "      <td>...</td>\n",
       "      <td>1</td>\n",
       "      <td>1</td>\n",
       "      <td>1</td>\n",
       "      <td>0</td>\n",
       "      <td>1</td>\n",
       "      <td>1</td>\n",
       "      <td>1</td>\n",
       "      <td>1</td>\n",
       "      <td>0</td>\n",
       "      <td>1</td>\n",
       "    </tr>\n",
       "    <tr>\n",
       "      <th>1</th>\n",
       "      <td>2</td>\n",
       "      <td>chr1</td>\n",
       "      <td>900001</td>\n",
       "      <td>1000000</td>\n",
       "      <td>1</td>\n",
       "      <td>1</td>\n",
       "      <td>1</td>\n",
       "      <td>1</td>\n",
       "      <td>1</td>\n",
       "      <td>1</td>\n",
       "      <td>...</td>\n",
       "      <td>1</td>\n",
       "      <td>1</td>\n",
       "      <td>1</td>\n",
       "      <td>0</td>\n",
       "      <td>1</td>\n",
       "      <td>1</td>\n",
       "      <td>1</td>\n",
       "      <td>1</td>\n",
       "      <td>0</td>\n",
       "      <td>1</td>\n",
       "    </tr>\n",
       "    <tr>\n",
       "      <th>2</th>\n",
       "      <td>3</td>\n",
       "      <td>chr1</td>\n",
       "      <td>1000001</td>\n",
       "      <td>1100000</td>\n",
       "      <td>1</td>\n",
       "      <td>1</td>\n",
       "      <td>1</td>\n",
       "      <td>1</td>\n",
       "      <td>1</td>\n",
       "      <td>1</td>\n",
       "      <td>...</td>\n",
       "      <td>1</td>\n",
       "      <td>1</td>\n",
       "      <td>1</td>\n",
       "      <td>0</td>\n",
       "      <td>1</td>\n",
       "      <td>1</td>\n",
       "      <td>1</td>\n",
       "      <td>1</td>\n",
       "      <td>0</td>\n",
       "      <td>1</td>\n",
       "    </tr>\n",
       "    <tr>\n",
       "      <th>3</th>\n",
       "      <td>4</td>\n",
       "      <td>chr1</td>\n",
       "      <td>1100001</td>\n",
       "      <td>1200000</td>\n",
       "      <td>1</td>\n",
       "      <td>1</td>\n",
       "      <td>1</td>\n",
       "      <td>1</td>\n",
       "      <td>1</td>\n",
       "      <td>1</td>\n",
       "      <td>...</td>\n",
       "      <td>1</td>\n",
       "      <td>1</td>\n",
       "      <td>1</td>\n",
       "      <td>0</td>\n",
       "      <td>1</td>\n",
       "      <td>1</td>\n",
       "      <td>1</td>\n",
       "      <td>1</td>\n",
       "      <td>0</td>\n",
       "      <td>1</td>\n",
       "    </tr>\n",
       "    <tr>\n",
       "      <th>4</th>\n",
       "      <td>5</td>\n",
       "      <td>chr1</td>\n",
       "      <td>1200001</td>\n",
       "      <td>1300000</td>\n",
       "      <td>1</td>\n",
       "      <td>1</td>\n",
       "      <td>1</td>\n",
       "      <td>1</td>\n",
       "      <td>1</td>\n",
       "      <td>1</td>\n",
       "      <td>...</td>\n",
       "      <td>1</td>\n",
       "      <td>1</td>\n",
       "      <td>1</td>\n",
       "      <td>0</td>\n",
       "      <td>1</td>\n",
       "      <td>1</td>\n",
       "      <td>1</td>\n",
       "      <td>1</td>\n",
       "      <td>0</td>\n",
       "      <td>1</td>\n",
       "    </tr>\n",
       "    <tr>\n",
       "      <th>...</th>\n",
       "      <td>...</td>\n",
       "      <td>...</td>\n",
       "      <td>...</td>\n",
       "      <td>...</td>\n",
       "      <td>...</td>\n",
       "      <td>...</td>\n",
       "      <td>...</td>\n",
       "      <td>...</td>\n",
       "      <td>...</td>\n",
       "      <td>...</td>\n",
       "      <td>...</td>\n",
       "      <td>...</td>\n",
       "      <td>...</td>\n",
       "      <td>...</td>\n",
       "      <td>...</td>\n",
       "      <td>...</td>\n",
       "      <td>...</td>\n",
       "      <td>...</td>\n",
       "      <td>...</td>\n",
       "      <td>...</td>\n",
       "      <td>...</td>\n",
       "    </tr>\n",
       "    <tr>\n",
       "      <th>26009</th>\n",
       "      <td>26010</td>\n",
       "      <td>chr22</td>\n",
       "      <td>50100001</td>\n",
       "      <td>50200000</td>\n",
       "      <td>1</td>\n",
       "      <td>0</td>\n",
       "      <td>0</td>\n",
       "      <td>1</td>\n",
       "      <td>1</td>\n",
       "      <td>1</td>\n",
       "      <td>...</td>\n",
       "      <td>1</td>\n",
       "      <td>1</td>\n",
       "      <td>1</td>\n",
       "      <td>0</td>\n",
       "      <td>1</td>\n",
       "      <td>1</td>\n",
       "      <td>2</td>\n",
       "      <td>1</td>\n",
       "      <td>1</td>\n",
       "      <td>1</td>\n",
       "    </tr>\n",
       "    <tr>\n",
       "      <th>26010</th>\n",
       "      <td>26011</td>\n",
       "      <td>chr22</td>\n",
       "      <td>50200001</td>\n",
       "      <td>50300000</td>\n",
       "      <td>1</td>\n",
       "      <td>0</td>\n",
       "      <td>0</td>\n",
       "      <td>1</td>\n",
       "      <td>1</td>\n",
       "      <td>1</td>\n",
       "      <td>...</td>\n",
       "      <td>1</td>\n",
       "      <td>1</td>\n",
       "      <td>1</td>\n",
       "      <td>0</td>\n",
       "      <td>1</td>\n",
       "      <td>1</td>\n",
       "      <td>2</td>\n",
       "      <td>1</td>\n",
       "      <td>1</td>\n",
       "      <td>1</td>\n",
       "    </tr>\n",
       "    <tr>\n",
       "      <th>26011</th>\n",
       "      <td>26012</td>\n",
       "      <td>chr22</td>\n",
       "      <td>50300001</td>\n",
       "      <td>50400000</td>\n",
       "      <td>1</td>\n",
       "      <td>0</td>\n",
       "      <td>0</td>\n",
       "      <td>1</td>\n",
       "      <td>1</td>\n",
       "      <td>1</td>\n",
       "      <td>...</td>\n",
       "      <td>1</td>\n",
       "      <td>1</td>\n",
       "      <td>1</td>\n",
       "      <td>0</td>\n",
       "      <td>1</td>\n",
       "      <td>1</td>\n",
       "      <td>2</td>\n",
       "      <td>1</td>\n",
       "      <td>1</td>\n",
       "      <td>1</td>\n",
       "    </tr>\n",
       "    <tr>\n",
       "      <th>26012</th>\n",
       "      <td>26013</td>\n",
       "      <td>chr22</td>\n",
       "      <td>50400001</td>\n",
       "      <td>50500000</td>\n",
       "      <td>1</td>\n",
       "      <td>0</td>\n",
       "      <td>0</td>\n",
       "      <td>1</td>\n",
       "      <td>1</td>\n",
       "      <td>1</td>\n",
       "      <td>...</td>\n",
       "      <td>1</td>\n",
       "      <td>1</td>\n",
       "      <td>1</td>\n",
       "      <td>0</td>\n",
       "      <td>1</td>\n",
       "      <td>1</td>\n",
       "      <td>2</td>\n",
       "      <td>1</td>\n",
       "      <td>1</td>\n",
       "      <td>1</td>\n",
       "    </tr>\n",
       "    <tr>\n",
       "      <th>26013</th>\n",
       "      <td>26014</td>\n",
       "      <td>chr22</td>\n",
       "      <td>50500001</td>\n",
       "      <td>50600000</td>\n",
       "      <td>1</td>\n",
       "      <td>0</td>\n",
       "      <td>0</td>\n",
       "      <td>1</td>\n",
       "      <td>1</td>\n",
       "      <td>1</td>\n",
       "      <td>...</td>\n",
       "      <td>1</td>\n",
       "      <td>1</td>\n",
       "      <td>1</td>\n",
       "      <td>0</td>\n",
       "      <td>1</td>\n",
       "      <td>1</td>\n",
       "      <td>2</td>\n",
       "      <td>1</td>\n",
       "      <td>1</td>\n",
       "      <td>1</td>\n",
       "    </tr>\n",
       "  </tbody>\n",
       "</table>\n",
       "<p>26014 rows × 5782 columns</p>\n",
       "</div>"
      ],
      "text/plain": [
       "         idx    seq     start       end  GCGCAATGTTGCGGAT-3  \\\n",
       "0          1   chr1    800001    900000                   1   \n",
       "1          2   chr1    900001   1000000                   1   \n",
       "2          3   chr1   1000001   1100000                   1   \n",
       "3          4   chr1   1100001   1200000                   1   \n",
       "4          5   chr1   1200001   1300000                   1   \n",
       "...      ...    ...       ...       ...                 ...   \n",
       "26009  26010  chr22  50100001  50200000                   1   \n",
       "26010  26011  chr22  50200001  50300000                   1   \n",
       "26011  26012  chr22  50300001  50400000                   1   \n",
       "26012  26013  chr22  50400001  50500000                   1   \n",
       "26013  26014  chr22  50500001  50600000                   1   \n",
       "\n",
       "       CTAGTGAGTCACCTAT-3  AATCATGTCGATCAGT-1  TCCTTAGTCGGGACTC-4  \\\n",
       "0                       1                   1                   1   \n",
       "1                       1                   1                   1   \n",
       "2                       1                   1                   1   \n",
       "3                       1                   1                   1   \n",
       "4                       1                   1                   1   \n",
       "...                   ...                 ...                 ...   \n",
       "26009                   0                   0                   1   \n",
       "26010                   0                   0                   1   \n",
       "26011                   0                   0                   1   \n",
       "26012                   0                   0                   1   \n",
       "26013                   0                   0                   1   \n",
       "\n",
       "       ACTATCCGTCTAACCT-1  GTGCACGGTCACAAAT-3  ...  AGTGTGGCAATTATGC-1  \\\n",
       "0                       1                   1  ...                   1   \n",
       "1                       1                   1  ...                   1   \n",
       "2                       1                   1  ...                   1   \n",
       "3                       1                   1  ...                   1   \n",
       "4                       1                   1  ...                   1   \n",
       "...                   ...                 ...  ...                 ...   \n",
       "26009                   1                   1  ...                   1   \n",
       "26010                   1                   1  ...                   1   \n",
       "26011                   1                   1  ...                   1   \n",
       "26012                   1                   1  ...                   1   \n",
       "26013                   1                   1  ...                   1   \n",
       "\n",
       "       AGAGAGGAGCAGGCCT-2  ATCCACCTCAACAAGG-1  GGTTGAGCATAGGCGA-1  \\\n",
       "0                       1                   1                   0   \n",
       "1                       1                   1                   0   \n",
       "2                       1                   1                   0   \n",
       "3                       1                   1                   0   \n",
       "4                       1                   1                   0   \n",
       "...                   ...                 ...                 ...   \n",
       "26009                   1                   1                   0   \n",
       "26010                   1                   1                   0   \n",
       "26011                   1                   1                   0   \n",
       "26012                   1                   1                   0   \n",
       "26013                   1                   1                   0   \n",
       "\n",
       "       GTACTTAAGACACCGC-1  CGTAGCGGTAGGTTGC-1  TGCTATGCAAGGACCA-1  \\\n",
       "0                       1                   1                   1   \n",
       "1                       1                   1                   1   \n",
       "2                       1                   1                   1   \n",
       "3                       1                   1                   1   \n",
       "4                       1                   1                   1   \n",
       "...                   ...                 ...                 ...   \n",
       "26009                   1                   1                   2   \n",
       "26010                   1                   1                   2   \n",
       "26011                   1                   1                   2   \n",
       "26012                   1                   1                   2   \n",
       "26013                   1                   1                   2   \n",
       "\n",
       "       CAGGGCTTCCAAGTGT-2  CAAGTAACAGGTTACC-2  TGATTCAAGTTCCTGC-1  \n",
       "0                       1                   0                   1  \n",
       "1                       1                   0                   1  \n",
       "2                       1                   0                   1  \n",
       "3                       1                   0                   1  \n",
       "4                       1                   0                   1  \n",
       "...                   ...                 ...                 ...  \n",
       "26009                   1                   1                   1  \n",
       "26010                   1                   1                   1  \n",
       "26011                   1                   1                   1  \n",
       "26012                   1                   1                   1  \n",
       "26013                   1                   1                   1  \n",
       "\n",
       "[26014 rows x 5782 columns]"
      ]
     },
     "execution_count": 49,
     "metadata": {},
     "output_type": "execute_result"
    }
   ],
   "source": [
    "cnv_df"
   ]
  },
  {
   "cell_type": "markdown",
   "metadata": {},
   "source": [
    "Debug stepwise the mapping dict reshaping code:"
   ]
  },
  {
   "cell_type": "markdown",
   "metadata": {},
   "source": [
    "1. check barcodes"
   ]
  },
  {
   "cell_type": "code",
   "execution_count": 50,
   "metadata": {},
   "outputs": [
    {
     "data": {
      "text/plain": [
       "5778"
      ]
     },
     "execution_count": 50,
     "metadata": {},
     "output_type": "execute_result"
    }
   ],
   "source": [
    "uniq_barcodes = set(cnv_df.columns[4:])\n",
    "len(uniq_barcodes)"
   ]
  },
  {
   "cell_type": "code",
   "execution_count": 54,
   "metadata": {},
   "outputs": [
    {
     "name": "stdout",
     "output_type": "stream",
     "text": [
      "51\n"
     ]
    },
    {
     "data": {
      "text/plain": [
       "51"
      ]
     },
     "execution_count": 54,
     "metadata": {},
     "output_type": "execute_result"
    }
   ],
   "source": [
    "b1_val_uniq_barcodes = set(b1_val_df['barcode'])\n",
    "print(len(b1_val_uniq_barcodes))\n",
    "len(b1_val_uniq_barcodes.intersection(uniq_barcodes))"
   ]
  },
  {
   "cell_type": "code",
   "execution_count": 55,
   "metadata": {},
   "outputs": [
    {
     "data": {
      "text/plain": [
       "51"
      ]
     },
     "execution_count": 55,
     "metadata": {},
     "output_type": "execute_result"
    }
   ],
   "source": [
    "iter_barcode_set = set(barcode_to_genes.keys())\n",
    "uniq_barcodes = uniq_barcodes.intersection(iter_barcode_set)\n",
    "len(uniq_barcodes)"
   ]
  },
  {
   "cell_type": "markdown",
   "metadata": {},
   "source": [
    "2. check genes"
   ]
  },
  {
   "cell_type": "code",
   "execution_count": 57,
   "metadata": {},
   "outputs": [
    {
     "data": {
      "text/html": [
       "<div>\n",
       "<style scoped>\n",
       "    .dataframe tbody tr th:only-of-type {\n",
       "        vertical-align: middle;\n",
       "    }\n",
       "\n",
       "    .dataframe tbody tr th {\n",
       "        vertical-align: top;\n",
       "    }\n",
       "\n",
       "    .dataframe thead th {\n",
       "        text-align: right;\n",
       "    }\n",
       "</style>\n",
       "<table border=\"1\" class=\"dataframe\">\n",
       "  <thead>\n",
       "    <tr style=\"text-align: right;\">\n",
       "      <th></th>\n",
       "      <th>Chromosome</th>\n",
       "      <th>Start_peak</th>\n",
       "      <th>End_peak</th>\n",
       "      <th>Start_gene</th>\n",
       "      <th>End_gene</th>\n",
       "      <th>gene_id</th>\n",
       "    </tr>\n",
       "  </thead>\n",
       "  <tbody>\n",
       "    <tr>\n",
       "      <th>0</th>\n",
       "      <td>1</td>\n",
       "      <td>9855</td>\n",
       "      <td>10676</td>\n",
       "      <td>9121</td>\n",
       "      <td>26894</td>\n",
       "      <td>ENSG00000290825</td>\n",
       "    </tr>\n",
       "    <tr>\n",
       "      <th>1</th>\n",
       "      <td>1</td>\n",
       "      <td>9855</td>\n",
       "      <td>10676</td>\n",
       "      <td>10010</td>\n",
       "      <td>15670</td>\n",
       "      <td>ENSG00000223972</td>\n",
       "    </tr>\n",
       "    <tr>\n",
       "      <th>2</th>\n",
       "      <td>1</td>\n",
       "      <td>181027</td>\n",
       "      <td>181582</td>\n",
       "      <td>87295</td>\n",
       "      <td>183719</td>\n",
       "      <td>ENSG00000241860</td>\n",
       "    </tr>\n",
       "    <tr>\n",
       "      <th>3</th>\n",
       "      <td>1</td>\n",
       "      <td>181027</td>\n",
       "      <td>181582</td>\n",
       "      <td>144386</td>\n",
       "      <td>201861</td>\n",
       "      <td>ENSG00000310528</td>\n",
       "    </tr>\n",
       "    <tr>\n",
       "      <th>4</th>\n",
       "      <td>1</td>\n",
       "      <td>181027</td>\n",
       "      <td>181582</td>\n",
       "      <td>178931</td>\n",
       "      <td>186937</td>\n",
       "      <td>ENSG00000308415</td>\n",
       "    </tr>\n",
       "    <tr>\n",
       "      <th>...</th>\n",
       "      <td>...</td>\n",
       "      <td>...</td>\n",
       "      <td>...</td>\n",
       "      <td>...</td>\n",
       "      <td>...</td>\n",
       "      <td>...</td>\n",
       "    </tr>\n",
       "    <tr>\n",
       "      <th>92630</th>\n",
       "      <td>Y</td>\n",
       "      <td>11332807</td>\n",
       "      <td>11333567</td>\n",
       "      <td>11330329</td>\n",
       "      <td>11335595</td>\n",
       "      <td>ENSG00000258991</td>\n",
       "    </tr>\n",
       "    <tr>\n",
       "      <th>92631</th>\n",
       "      <td>Y</td>\n",
       "      <td>11333695</td>\n",
       "      <td>11334440</td>\n",
       "      <td>11330329</td>\n",
       "      <td>11335595</td>\n",
       "      <td>ENSG00000258991</td>\n",
       "    </tr>\n",
       "    <tr>\n",
       "      <th>92632</th>\n",
       "      <td>Y</td>\n",
       "      <td>11333695</td>\n",
       "      <td>11334440</td>\n",
       "      <td>11333627</td>\n",
       "      <td>11339693</td>\n",
       "      <td>ENSG00000270455</td>\n",
       "    </tr>\n",
       "    <tr>\n",
       "      <th>92633</th>\n",
       "      <td>Y</td>\n",
       "      <td>56855391</td>\n",
       "      <td>56856232</td>\n",
       "      <td>56853244</td>\n",
       "      <td>56857488</td>\n",
       "      <td>ENSG00000235857</td>\n",
       "    </tr>\n",
       "    <tr>\n",
       "      <th>92634</th>\n",
       "      <td>Y</td>\n",
       "      <td>56879609</td>\n",
       "      <td>56880338</td>\n",
       "      <td>56879849</td>\n",
       "      <td>56884115</td>\n",
       "      <td>ENSG00000305394</td>\n",
       "    </tr>\n",
       "  </tbody>\n",
       "</table>\n",
       "<p>92635 rows × 6 columns</p>\n",
       "</div>"
      ],
      "text/plain": [
       "      Chromosome  Start_peak  End_peak  Start_gene  End_gene          gene_id\n",
       "0              1        9855     10676        9121     26894  ENSG00000290825\n",
       "1              1        9855     10676       10010     15670  ENSG00000223972\n",
       "2              1      181027    181582       87295    183719  ENSG00000241860\n",
       "3              1      181027    181582      144386    201861  ENSG00000310528\n",
       "4              1      181027    181582      178931    186937  ENSG00000308415\n",
       "...          ...         ...       ...         ...       ...              ...\n",
       "92630          Y    11332807  11333567    11330329  11335595  ENSG00000258991\n",
       "92631          Y    11333695  11334440    11330329  11335595  ENSG00000258991\n",
       "92632          Y    11333695  11334440    11333627  11339693  ENSG00000270455\n",
       "92633          Y    56855391  56856232    56853244  56857488  ENSG00000235857\n",
       "92634          Y    56879609  56880338    56879849  56884115  ENSG00000305394\n",
       "\n",
       "[92635 rows x 6 columns]"
      ]
     },
     "execution_count": 57,
     "metadata": {},
     "output_type": "execute_result"
    }
   ],
   "source": [
    "atac_df = pd.read_csv(data_root / 'overlap_genes_peaks.tsv', sep='\\t')\n",
    "atac_df"
   ]
  },
  {
   "cell_type": "code",
   "execution_count": 58,
   "metadata": {},
   "outputs": [
    {
     "data": {
      "text/plain": [
       "36749"
      ]
     },
     "execution_count": 58,
     "metadata": {},
     "output_type": "execute_result"
    }
   ],
   "source": [
    "uniq_gene_ids = set(atac_df['gene_id'].unique())\n",
    "len(uniq_gene_ids)"
   ]
  },
  {
   "cell_type": "code",
   "execution_count": 59,
   "metadata": {},
   "outputs": [
    {
     "data": {
      "text/plain": [
       "910"
      ]
     },
     "execution_count": 59,
     "metadata": {},
     "output_type": "execute_result"
    }
   ],
   "source": [
    "iter_gene_set = {\n",
    "    gene for vals in barcode_to_genes.values() for gene in vals\n",
    "}\n",
    "uniq_gene_overlap = uniq_gene_ids.intersection(iter_gene_set)\n",
    "len(uniq_gene_overlap)"
   ]
  },
  {
   "cell_type": "code",
   "execution_count": 60,
   "metadata": {},
   "outputs": [
    {
     "name": "stdout",
     "output_type": "stream",
     "text": [
      "1093\n",
      "910\n"
     ]
    }
   ],
   "source": [
    "b1_val_uniq_gene_ids = set(b1_val_df['gene_id'])\n",
    "print(len(b1_val_uniq_gene_ids))\n",
    "print(len(b1_val_uniq_gene_ids.intersection(uniq_gene_ids)))"
   ]
  },
  {
   "cell_type": "markdown",
   "metadata": {},
   "source": [
    "This means, we filter genes based on the atac peaks file."
   ]
  },
  {
   "cell_type": "code",
   "execution_count": 61,
   "metadata": {},
   "outputs": [
    {
     "data": {
      "text/plain": [
       "35839"
      ]
     },
     "execution_count": 61,
     "metadata": {},
     "output_type": "execute_result"
    }
   ],
   "source": [
    "len([gid for gid in uniq_gene_ids if gid not in uniq_gene_overlap])"
   ]
  },
  {
   "cell_type": "code",
   "execution_count": 62,
   "metadata": {},
   "outputs": [],
   "source": [
    "new_uniq_gene_ids = uniq_gene_overlap\n",
    "\n",
    "# sort uniq barcodes for alphabetical iteration order\n",
    "uniq_barcodes = sorted(list(uniq_barcodes))\n",
    "\n",
    "# create a mapping from gene to barcode to serve for iteration later\n",
    "gene_to_barcodes = {gene: list() for gene in new_uniq_gene_ids}\n",
    "# TODO: use boolean map to encode barcodes per gene for saving memory\n",
    "for cnv_barcode in uniq_barcodes:\n",
    "    for gene in barcode_to_genes[cnv_barcode]:\n",
    "        if gene in new_uniq_gene_ids:\n",
    "            gene_to_barcodes[gene].append(cnv_barcode)"
   ]
  },
  {
   "cell_type": "code",
   "execution_count": 65,
   "metadata": {},
   "outputs": [
    {
     "ename": "AssertionError",
     "evalue": "Not some # embeddings: 8049 != 8954",
     "output_type": "error",
     "traceback": [
      "\u001b[0;31m---------------------------------------------------------------------------\u001b[0m",
      "\u001b[0;31mAssertionError\u001b[0m                            Traceback (most recent call last)",
      "Cell \u001b[0;32mIn[65], line 2\u001b[0m\n\u001b[1;32m      1\u001b[0m new_n_embeddings \u001b[38;5;241m=\u001b[39m \u001b[38;5;28msum\u001b[39m(\u001b[38;5;28mmap\u001b[39m(\u001b[38;5;28mlen\u001b[39m, gene_to_barcodes\u001b[38;5;241m.\u001b[39mvalues()))\n\u001b[0;32m----> 2\u001b[0m \u001b[38;5;28;01massert\u001b[39;00m new_n_embeddings \u001b[38;5;241m==\u001b[39m n_embeddings, \u001b[38;5;124m'\u001b[39m\u001b[38;5;124mNot some # embeddings: \u001b[39m\u001b[38;5;132;01m{}\u001b[39;00m\u001b[38;5;124m != \u001b[39m\u001b[38;5;132;01m{}\u001b[39;00m\u001b[38;5;124m'\u001b[39m\u001b[38;5;241m.\u001b[39mformat(\n\u001b[1;32m      3\u001b[0m     new_n_embeddings, n_embeddings\n\u001b[1;32m      4\u001b[0m )\n",
      "\u001b[0;31mAssertionError\u001b[0m: Not some # embeddings: 8049 != 8954"
     ]
    }
   ],
   "source": [
    "new_n_embeddings = sum(map(len, gene_to_barcodes.values()))\n",
    "assert new_n_embeddings == n_embeddings, 'Not some # embeddings: {} != {}'.format(\n",
    "    new_n_embeddings, n_embeddings\n",
    ")"
   ]
  },
  {
   "cell_type": "code",
   "execution_count": 6,
   "metadata": {},
   "outputs": [
    {
     "data": {
      "text/plain": [
       "<class 'src.data.dataset.CnvDataset'> with 8022 datapoints"
      ]
     },
     "execution_count": 6,
     "metadata": {},
     "output_type": "execute_result"
    }
   ],
   "source": [
    "b1_val_dataset"
   ]
  },
  {
   "cell_type": "code",
   "execution_count": 7,
   "metadata": {},
   "outputs": [
    {
     "name": "stdout",
     "output_type": "stream",
     "text": [
      "Using 35 barcodes\n",
      "Using 621 genes\n",
      "No embedding files for 3603 data points in ../data/embeddings/batch_2/single_gene_barcode!\n"
     ]
    }
   ],
   "source": [
    "b2_val_path = data_root / 'splits' / 'batch2_val_filtered.tsv'\n",
    "b2_val_dataset = CnvDataset(\n",
    "    root=data_root / 'embeddings' / 'batch_2',\n",
    "    data_df=pd.read_csv(b2_val_path, sep='\\t'),\n",
    "    embedding_mode='single_gene_barcode',\n",
    "    file_format='pt'\n",
    ")"
   ]
  },
  {
   "cell_type": "code",
   "execution_count": 8,
   "metadata": {},
   "outputs": [
    {
     "data": {
      "text/plain": [
       "<class 'src.data.dataset.CnvDataset'> with 0 datapoints"
      ]
     },
     "execution_count": 8,
     "metadata": {},
     "output_type": "execute_result"
    }
   ],
   "source": [
    "b2_val_dataset"
   ]
  },
  {
   "cell_type": "code",
   "execution_count": null,
   "metadata": {},
   "outputs": [
    {
     "name": "stdout",
     "output_type": "stream",
     "text": [
      "../data/embeddings/batch_1/val/single_gene_barcode/AAAGGTTAGGGTGGAT-1/ENSG00000117984.mtx\n",
      "../data/embeddings/batch_2/single_gene_barcode/AAACCAACATTGCGGT-2/ENSG00000172985.pt\n"
     ]
    }
   ],
   "source": [
    "b1_test_path = b1_val_dataset.data_df['embedding_path'].iloc[42]\n",
    "b2_test_path = b2_val_dataset.data_df['embedding_path'].iloc[42]\n",
    "print(b1_test_path)\n",
    "print(b2_test_path)"
   ]
  },
  {
   "cell_type": "code",
   "execution_count": null,
   "metadata": {},
   "outputs": [],
   "source": [
    "from torch import load as pyt_load\n",
    "from scipy.io import mmread"
   ]
  },
  {
   "cell_type": "code",
   "execution_count": null,
   "metadata": {},
   "outputs": [
    {
     "name": "stdout",
     "output_type": "stream",
     "text": [
      "3.93 ms ± 40.5 μs per loop (mean ± std. dev. of 7 runs, 100 loops each)\n"
     ]
    }
   ],
   "source": [
    "%%timeit\n",
    "t = mmread(b1_test_path)"
   ]
  },
  {
   "cell_type": "code",
   "execution_count": null,
   "metadata": {},
   "outputs": [
    {
     "name": "stdout",
     "output_type": "stream",
     "text": [
      "257 μs ± 646 ns per loop (mean ± std. dev. of 7 runs, 1,000 loops each)\n"
     ]
    }
   ],
   "source": [
    "%%timeit\n",
    "t = pyt_load(b2_test_path)"
   ]
  },
  {
   "cell_type": "code",
   "execution_count": null,
   "metadata": {},
   "outputs": [
    {
     "name": "stdout",
     "output_type": "stream",
     "text": [
      "5.16 ms ± 204 μs per loop (mean ± std. dev. of 7 runs, 100 loops each)\n"
     ]
    }
   ],
   "source": [
    "%%timeit\n",
    "t = b1_val_dataset[42]"
   ]
  },
  {
   "cell_type": "code",
   "execution_count": null,
   "metadata": {},
   "outputs": [
    {
     "name": "stdout",
     "output_type": "stream",
     "text": [
      "511 μs ± 25.1 μs per loop (mean ± std. dev. of 7 runs, 1,000 loops each)\n"
     ]
    }
   ],
   "source": [
    "%%timeit\n",
    "t = b2_val_dataset[42]"
   ]
  },
  {
   "cell_type": "markdown",
   "metadata": {},
   "source": [
    "This means, using the `mtx` format is `# samples * # iterations * 1000 μs` longer"
   ]
  },
  {
   "cell_type": "markdown",
   "metadata": {},
   "source": [
    "Now, let's gauge the disk space required for only the embedding of specific \n",
    "barcode, gene pairs described in the dataset splits.\n",
    "One embedding has roughly a size of 550Kb:\n",
    "```sh\n",
    "(ssb) marw@goodmosquito-0dcaa:~/cmscb8$ ll -h data/embeddings/file_type_test/\n",
    "-rw-rw-r-- 1 marw student 549K Feb 27 08:03 ENSG00000090104.pt\n",
    "```\n",
    "\n",
    "With this, we can extrapolate the required space from the number of embeddings \n",
    "per split as an upper bound.\n",
    "```sh\n",
    "(ssb) marw@goodmosquito-0dcaa:~/cmscb8$ wc -l data/splits/*\n",
    "  18636 data/splits/batch1_test_filtered.tsv\n",
    "  59342 data/splits/batch1_training_filtered.tsv\n",
    "   8955 data/splits/batch1_val_filtered.tsv\n",
    "   7329 data/splits/batch2_test_filtered.tsv\n",
    "  23497 data/splits/batch2_training_filtered.tsv\n",
    "   3604 data/splits/batch2_val_filtered.tsv\n",
    "wc: data/splits/old_splits: Is a directory\n",
    "      0 data/splits/old_splits\n",
    " 121363 total\n",
    "```\n",
    "For each of these files, we need to subtract 1 for the header.\n",
    "After that we can calculate the expected size in Mb by `# embeddings * 550Kb / 1000`."
   ]
  },
  {
   "cell_type": "code",
   "execution_count": 2,
   "metadata": {},
   "outputs": [
    {
     "data": {
      "text/plain": [
       "47811.5"
      ]
     },
     "execution_count": 2,
     "metadata": {},
     "output_type": "execute_result"
    }
   ],
   "source": [
    "# space required for batch 1\n",
    "(18636 - 1 + 59342 - 1 + 8955 - 1) * 550 / 1000"
   ]
  },
  {
   "cell_type": "code",
   "execution_count": 3,
   "metadata": {},
   "outputs": [
    {
     "data": {
      "text/plain": [
       "18934.85"
      ]
     },
     "execution_count": 3,
     "metadata": {},
     "output_type": "execute_result"
    }
   ],
   "source": [
    "# space required for batch 1\n",
    "(7329 - 1 + 23497 - 1 + 3604 - 1) * 550 / 1000"
   ]
  },
  {
   "cell_type": "code",
   "execution_count": 5,
   "metadata": {},
   "outputs": [
    {
     "data": {
      "text/plain": [
       "66.74635"
      ]
     },
     "execution_count": 5,
     "metadata": {},
     "output_type": "execute_result"
    }
   ],
   "source": [
    "# space required for all embeddings in Gb\n",
    "(121363 - 6) * 550 / 1_000_000"
   ]
  },
  {
   "cell_type": "markdown",
   "metadata": {},
   "source": [
    "## Loading Batch 2\n",
    "Next we try to load batch 2, which is currently saved as `.pt` file in `data/embeddings/batch_2`."
   ]
  },
  {
   "cell_type": "code",
   "execution_count": null,
   "metadata": {},
   "outputs": [],
   "source": [
    "b2_val_data_root = data_root / 'embeddings' / 'batch_2'\n",
    "b2_train_path = data_root / 'splits' / 'batch2_training_filtered.tsv'\n",
    "b2_val_path = data_root / 'splits' / 'batch2_val_filtered.tsv'\n",
    "b2_test_path = data_root / 'splits' / 'batch2_test_filtered.tsv'"
   ]
  },
  {
   "cell_type": "code",
   "execution_count": null,
   "metadata": {},
   "outputs": [],
   "source": [
    "b2_val_df = pd.read_csv(b2_val_path, sep='\\t')"
   ]
  },
  {
   "cell_type": "code",
   "execution_count": null,
   "metadata": {},
   "outputs": [
    {
     "name": "stdout",
     "output_type": "stream",
     "text": [
      "Using 35 barcodes\n",
      "Using 621 genes\n",
      "emb_on_disk_df\n",
      "                   barcode          gene_id  \\\n",
      "0       CCTGTATGTGGTTCTT-2  ENSG00000172578   \n",
      "1       CCTGTATGTGGTTCTT-2  ENSG00000114450   \n",
      "2       CCTGTATGTGGTTCTT-2  ENSG00000136297   \n",
      "3       CCTGTATGTGGTTCTT-2  ENSG00000104783   \n",
      "4       CCTGTATGTGGTTCTT-2  ENSG00000188676   \n",
      "...                    ...              ...   \n",
      "427373  GAGGACTAGTATCGCG-2  ENSG00000287493   \n",
      "427374  GAGGACTAGTATCGCG-2  ENSG00000122025   \n",
      "427375  GAGGACTAGTATCGCG-2  ENSG00000125851   \n",
      "427376  GAGGACTAGTATCGCG-2  ENSG00000267421   \n",
      "427377  GAGGACTAGTATCGCG-2  ENSG00000285592   \n",
      "\n",
      "                                           embedding_path  \n",
      "0       ../data/embeddings/batch_2/single_gene_barcode...  \n",
      "1       ../data/embeddings/batch_2/single_gene_barcode...  \n",
      "2       ../data/embeddings/batch_2/single_gene_barcode...  \n",
      "3       ../data/embeddings/batch_2/single_gene_barcode...  \n",
      "4       ../data/embeddings/batch_2/single_gene_barcode...  \n",
      "...                                                   ...  \n",
      "427373  ../data/embeddings/batch_2/single_gene_barcode...  \n",
      "427374  ../data/embeddings/batch_2/single_gene_barcode...  \n",
      "427375  ../data/embeddings/batch_2/single_gene_barcode...  \n",
      "427376  ../data/embeddings/batch_2/single_gene_barcode...  \n",
      "427377  ../data/embeddings/batch_2/single_gene_barcode...  \n",
      "\n",
      "[427378 rows x 3 columns]\n",
      "CnVDataset.data_df\n",
      "                 barcode          gene_id  expression_count classification\n",
      "0     AAACCAACATTGCGGT-2  ENSG00000162512          1.024897           high\n",
      "1     AAACCAACATTGCGGT-2  ENSG00000186094          1.850096           high\n",
      "2     AAACCAACATTGCGGT-2  ENSG00000231252          1.024897           high\n",
      "3     AAACCAACATTGCGGT-2  ENSG00000183023          1.024897           high\n",
      "4     AAACCAACATTGCGGT-2  ENSG00000115355          1.024897           high\n",
      "...                  ...              ...               ...            ...\n",
      "3598  TTTGTGGCATGAATAG-2  ENSG00000130254          1.790029           high\n",
      "3599  TTTGTGGCATGAATAG-2  ENSG00000080573          1.790029           high\n",
      "3600  TTTGTGGCATGAATAG-2  ENSG00000167615          1.790029           high\n",
      "3601  TTTGTGGCATGAATAG-2  ENSG00000225377          1.790029           high\n",
      "3602  TTTGTGGCATGAATAG-2  ENSG00000198712          1.790029           high\n",
      "\n",
      "[3603 rows x 4 columns]\n",
      "merge_df\n",
      "                   barcode          gene_id  expression_count classification  \\\n",
      "0       AAACCAACATTGCGGT-2  ENSG00000000938               NaN            NaN   \n",
      "1       AAACCAACATTGCGGT-2  ENSG00000002587          1.024897           high   \n",
      "2       AAACCAACATTGCGGT-2  ENSG00000002745               NaN            NaN   \n",
      "3       AAACCAACATTGCGGT-2  ENSG00000003137               NaN            NaN   \n",
      "4       AAACCAACATTGCGGT-2  ENSG00000004399               NaN            NaN   \n",
      "...                    ...              ...               ...            ...   \n",
      "427816  TTTGTGGCATGAATAG-2  ENSG00000287938               NaN            NaN   \n",
      "427817  TTTGTGGCATGAATAG-2  ENSG00000287946               NaN            NaN   \n",
      "427818  TTTGTGGCATGAATAG-2  ENSG00000288080               NaN            NaN   \n",
      "427819  TTTGTGGCATGAATAG-2  ENSG00000288083               NaN            NaN   \n",
      "427820  TTTGTGGCATGAATAG-2  ENSG00000288098               NaN            NaN   \n",
      "\n",
      "                                           embedding_path  \n",
      "0       ../data/embeddings/batch_2/single_gene_barcode...  \n",
      "1       ../data/embeddings/batch_2/single_gene_barcode...  \n",
      "2       ../data/embeddings/batch_2/single_gene_barcode...  \n",
      "3       ../data/embeddings/batch_2/single_gene_barcode...  \n",
      "4       ../data/embeddings/batch_2/single_gene_barcode...  \n",
      "...                                                   ...  \n",
      "427816  ../data/embeddings/batch_2/single_gene_barcode...  \n",
      "427817  ../data/embeddings/batch_2/single_gene_barcode...  \n",
      "427818  ../data/embeddings/batch_2/single_gene_barcode...  \n",
      "427819  ../data/embeddings/batch_2/single_gene_barcode...  \n",
      "427820  ../data/embeddings/batch_2/single_gene_barcode...  \n",
      "\n",
      "[427821 rows x 5 columns]\n",
      "No embedding files for 443 data points in ../data/embeddings/batch_2/single_gene_barcode!\n",
      "Found 424218 embedding files with no target value in ../data/embeddings/batch_2/single_gene_barcode!\n"
     ]
    }
   ],
   "source": [
    "b2_val_dataset = CnvDataset(\n",
    "    root=b2_val_data_root,\n",
    "    data_df=b2_val_df,\n",
    "    embedding_mode='single_gene_barcode',\n",
    "    verbose=2,\n",
    "    file_format='pt'\n",
    ")"
   ]
  },
  {
   "cell_type": "code",
   "execution_count": null,
   "metadata": {},
   "outputs": [
    {
     "data": {
      "text/plain": [
       "<class 'src.data.dataset.CnvDataset'> with 3160 datapoints"
      ]
     },
     "metadata": {},
     "output_type": "display_data"
    }
   ],
   "source": [
    "b2_val_dataset"
   ]
  },
  {
   "cell_type": "code",
   "execution_count": null,
   "metadata": {},
   "outputs": [
    {
     "data": {
      "text/plain": [
       "<class 'src.data.dataset.CnvDataset'> with 8022 datapoints"
      ]
     },
     "metadata": {},
     "output_type": "display_data"
    }
   ],
   "source": [
    "b1_val_dataset"
   ]
  },
  {
   "cell_type": "code",
   "execution_count": null,
   "metadata": {},
   "outputs": [],
   "source": [
    "%%time\n",
    "t_list = [b1_val_dataset[i] for i in range(3_100)]"
   ]
  },
  {
   "cell_type": "code",
   "execution_count": null,
   "metadata": {},
   "outputs": [],
   "source": [
    "%%time\n",
    "t_list = [b2_val_dataset[i] for i in range(3_100)]"
   ]
  },
  {
   "cell_type": "code",
   "execution_count": null,
   "metadata": {},
   "outputs": [
    {
     "data": {
      "text/html": [
       "<div>\n",
       "<style scoped>\n",
       "    .dataframe tbody tr th:only-of-type {\n",
       "        vertical-align: middle;\n",
       "    }\n",
       "\n",
       "    .dataframe tbody tr th {\n",
       "        vertical-align: top;\n",
       "    }\n",
       "\n",
       "    .dataframe thead th {\n",
       "        text-align: right;\n",
       "    }\n",
       "</style>\n",
       "<table border=\"1\" class=\"dataframe\">\n",
       "  <thead>\n",
       "    <tr style=\"text-align: right;\">\n",
       "      <th></th>\n",
       "      <th>barcode</th>\n",
       "      <th>gene_id</th>\n",
       "      <th>expression_count</th>\n",
       "      <th>classification</th>\n",
       "    </tr>\n",
       "  </thead>\n",
       "  <tbody>\n",
       "    <tr>\n",
       "      <th>0</th>\n",
       "      <td>AAACCAACATTGCGGT-2</td>\n",
       "      <td>ENSG00000162512</td>\n",
       "      <td>1.024897</td>\n",
       "      <td>high</td>\n",
       "    </tr>\n",
       "    <tr>\n",
       "      <th>1</th>\n",
       "      <td>AAACCAACATTGCGGT-2</td>\n",
       "      <td>ENSG00000186094</td>\n",
       "      <td>1.850096</td>\n",
       "      <td>high</td>\n",
       "    </tr>\n",
       "    <tr>\n",
       "      <th>2</th>\n",
       "      <td>AAACCAACATTGCGGT-2</td>\n",
       "      <td>ENSG00000231252</td>\n",
       "      <td>1.024897</td>\n",
       "      <td>high</td>\n",
       "    </tr>\n",
       "    <tr>\n",
       "      <th>3</th>\n",
       "      <td>AAACCAACATTGCGGT-2</td>\n",
       "      <td>ENSG00000183023</td>\n",
       "      <td>1.024897</td>\n",
       "      <td>high</td>\n",
       "    </tr>\n",
       "    <tr>\n",
       "      <th>4</th>\n",
       "      <td>AAACCAACATTGCGGT-2</td>\n",
       "      <td>ENSG00000115355</td>\n",
       "      <td>1.024897</td>\n",
       "      <td>high</td>\n",
       "    </tr>\n",
       "    <tr>\n",
       "      <th>...</th>\n",
       "      <td>...</td>\n",
       "      <td>...</td>\n",
       "      <td>...</td>\n",
       "      <td>...</td>\n",
       "    </tr>\n",
       "    <tr>\n",
       "      <th>3598</th>\n",
       "      <td>TTTGTGGCATGAATAG-2</td>\n",
       "      <td>ENSG00000130254</td>\n",
       "      <td>1.790029</td>\n",
       "      <td>high</td>\n",
       "    </tr>\n",
       "    <tr>\n",
       "      <th>3599</th>\n",
       "      <td>TTTGTGGCATGAATAG-2</td>\n",
       "      <td>ENSG00000080573</td>\n",
       "      <td>1.790029</td>\n",
       "      <td>high</td>\n",
       "    </tr>\n",
       "    <tr>\n",
       "      <th>3600</th>\n",
       "      <td>TTTGTGGCATGAATAG-2</td>\n",
       "      <td>ENSG00000167615</td>\n",
       "      <td>1.790029</td>\n",
       "      <td>high</td>\n",
       "    </tr>\n",
       "    <tr>\n",
       "      <th>3601</th>\n",
       "      <td>TTTGTGGCATGAATAG-2</td>\n",
       "      <td>ENSG00000225377</td>\n",
       "      <td>1.790029</td>\n",
       "      <td>high</td>\n",
       "    </tr>\n",
       "    <tr>\n",
       "      <th>3602</th>\n",
       "      <td>TTTGTGGCATGAATAG-2</td>\n",
       "      <td>ENSG00000198712</td>\n",
       "      <td>1.790029</td>\n",
       "      <td>high</td>\n",
       "    </tr>\n",
       "  </tbody>\n",
       "</table>\n",
       "<p>3603 rows × 4 columns</p>\n",
       "</div>"
      ],
      "text/plain": [
       "                 barcode          gene_id  expression_count classification\n",
       "0     AAACCAACATTGCGGT-2  ENSG00000162512          1.024897           high\n",
       "1     AAACCAACATTGCGGT-2  ENSG00000186094          1.850096           high\n",
       "2     AAACCAACATTGCGGT-2  ENSG00000231252          1.024897           high\n",
       "3     AAACCAACATTGCGGT-2  ENSG00000183023          1.024897           high\n",
       "4     AAACCAACATTGCGGT-2  ENSG00000115355          1.024897           high\n",
       "...                  ...              ...               ...            ...\n",
       "3598  TTTGTGGCATGAATAG-2  ENSG00000130254          1.790029           high\n",
       "3599  TTTGTGGCATGAATAG-2  ENSG00000080573          1.790029           high\n",
       "3600  TTTGTGGCATGAATAG-2  ENSG00000167615          1.790029           high\n",
       "3601  TTTGTGGCATGAATAG-2  ENSG00000225377          1.790029           high\n",
       "3602  TTTGTGGCATGAATAG-2  ENSG00000198712          1.790029           high\n",
       "\n",
       "[3603 rows x 4 columns]"
      ]
     },
     "metadata": {},
     "output_type": "display_data"
    }
   ],
   "source": [
    "b2_val_df"
   ]
  },
  {
   "cell_type": "code",
   "execution_count": null,
   "metadata": {},
   "outputs": [
    {
     "data": {
      "text/plain": [
       "[('AAACCAACATTGCGGT-2', 'ENSG00000162512'),\n",
       " ('AAACCAACATTGCGGT-2', 'ENSG00000186094'),\n",
       " ('AAACCAACATTGCGGT-2', 'ENSG00000231252'),\n",
       " ('AAACCAACATTGCGGT-2', 'ENSG00000183023'),\n",
       " ('AAACCAACATTGCGGT-2', 'ENSG00000115355'),\n",
       " ('AAACCAACATTGCGGT-2', 'ENSG00000172005'),\n",
       " ('AAACCAACATTGCGGT-2', 'ENSG00000172985'),\n",
       " ('AAACCAACATTGCGGT-2', 'ENSG00000152127'),\n",
       " ('AAACCAACATTGCGGT-2', 'ENSG00000157827'),\n",
       " ('AAACCAACATTGCGGT-2', 'ENSG00000236283')]"
      ]
     },
     "metadata": {},
     "output_type": "display_data"
    }
   ],
   "source": [
    "[(b, g) for b, g in b2_val_df[['barcode', 'gene_id']].itertuples(index=False)][:10]"
   ]
  },
  {
   "cell_type": "code",
   "execution_count": null,
   "metadata": {},
   "outputs": [],
   "source": [
    "b1_val_df['embedding_path'] = [b1_val_dataset.ids_to_emb_path(b, g) for b, g in b1_val_df[['barcode', 'gene_id']].itertuples(index=False)]"
   ]
  },
  {
   "cell_type": "code",
   "execution_count": null,
   "metadata": {},
   "outputs": [
    {
     "data": {
      "text/html": [
       "<div>\n",
       "<style scoped>\n",
       "    .dataframe tbody tr th:only-of-type {\n",
       "        vertical-align: middle;\n",
       "    }\n",
       "\n",
       "    .dataframe tbody tr th {\n",
       "        vertical-align: top;\n",
       "    }\n",
       "\n",
       "    .dataframe thead th {\n",
       "        text-align: right;\n",
       "    }\n",
       "</style>\n",
       "<table border=\"1\" class=\"dataframe\">\n",
       "  <thead>\n",
       "    <tr style=\"text-align: right;\">\n",
       "      <th></th>\n",
       "      <th>barcode</th>\n",
       "      <th>gene_id</th>\n",
       "      <th>expression_count</th>\n",
       "      <th>classification</th>\n",
       "      <th>embedding_path</th>\n",
       "    </tr>\n",
       "  </thead>\n",
       "  <tbody>\n",
       "    <tr>\n",
       "      <th>0</th>\n",
       "      <td>AAAGGTTAGGGTGGAT-1</td>\n",
       "      <td>ENSG00000173372</td>\n",
       "      <td>0.407756</td>\n",
       "      <td>low</td>\n",
       "      <td>../data/embeddings/batch_1/val/single_gene_bar...</td>\n",
       "    </tr>\n",
       "    <tr>\n",
       "      <th>1</th>\n",
       "      <td>AAAGGTTAGGGTGGAT-1</td>\n",
       "      <td>ENSG00000226476</td>\n",
       "      <td>1.103188</td>\n",
       "      <td>high</td>\n",
       "      <td>../data/embeddings/batch_1/val/single_gene_bar...</td>\n",
       "    </tr>\n",
       "    <tr>\n",
       "      <th>89</th>\n",
       "      <td>AAAGGTTAGGGTGGAT-1</td>\n",
       "      <td>ENSG00000287523</td>\n",
       "      <td>0.920410</td>\n",
       "      <td>high</td>\n",
       "      <td>../data/embeddings/batch_1/val/single_gene_bar...</td>\n",
       "    </tr>\n",
       "    <tr>\n",
       "      <th>97</th>\n",
       "      <td>AAAGGTTAGGGTGGAT-1</td>\n",
       "      <td>ENSG00000038945</td>\n",
       "      <td>0.407756</td>\n",
       "      <td>low</td>\n",
       "      <td>../data/embeddings/batch_1/val/single_gene_bar...</td>\n",
       "    </tr>\n",
       "    <tr>\n",
       "      <th>146</th>\n",
       "      <td>AAAGGTTAGGGTGGAT-1</td>\n",
       "      <td>ENSG00000258081</td>\n",
       "      <td>0.920410</td>\n",
       "      <td>high</td>\n",
       "      <td>../data/embeddings/batch_1/val/single_gene_bar...</td>\n",
       "    </tr>\n",
       "    <tr>\n",
       "      <th>...</th>\n",
       "      <td>...</td>\n",
       "      <td>...</td>\n",
       "      <td>...</td>\n",
       "      <td>...</td>\n",
       "      <td>...</td>\n",
       "    </tr>\n",
       "    <tr>\n",
       "      <th>8949</th>\n",
       "      <td>TTGGCTACATAAGTTC-1</td>\n",
       "      <td>ENSG00000198938</td>\n",
       "      <td>2.065108</td>\n",
       "      <td>high</td>\n",
       "      <td>../data/embeddings/batch_1/val/single_gene_bar...</td>\n",
       "    </tr>\n",
       "    <tr>\n",
       "      <th>8950</th>\n",
       "      <td>TTGGCTACATAAGTTC-1</td>\n",
       "      <td>ENSG00000198840</td>\n",
       "      <td>1.721116</td>\n",
       "      <td>high</td>\n",
       "      <td>../data/embeddings/batch_1/val/single_gene_bar...</td>\n",
       "    </tr>\n",
       "    <tr>\n",
       "      <th>8951</th>\n",
       "      <td>TTGGCTACATAAGTTC-1</td>\n",
       "      <td>ENSG00000198886</td>\n",
       "      <td>2.611877</td>\n",
       "      <td>high</td>\n",
       "      <td>../data/embeddings/batch_1/val/single_gene_bar...</td>\n",
       "    </tr>\n",
       "    <tr>\n",
       "      <th>8952</th>\n",
       "      <td>TTGGCTACATAAGTTC-1</td>\n",
       "      <td>ENSG00000198786</td>\n",
       "      <td>1.907831</td>\n",
       "      <td>high</td>\n",
       "      <td>../data/embeddings/batch_1/val/single_gene_bar...</td>\n",
       "    </tr>\n",
       "    <tr>\n",
       "      <th>8953</th>\n",
       "      <td>TTGGCTACATAAGTTC-1</td>\n",
       "      <td>ENSG00000198727</td>\n",
       "      <td>1.721116</td>\n",
       "      <td>high</td>\n",
       "      <td>../data/embeddings/batch_1/val/single_gene_bar...</td>\n",
       "    </tr>\n",
       "  </tbody>\n",
       "</table>\n",
       "<p>932 rows × 5 columns</p>\n",
       "</div>"
      ],
      "text/plain": [
       "                 barcode          gene_id  expression_count classification  \\\n",
       "0     AAAGGTTAGGGTGGAT-1  ENSG00000173372          0.407756            low   \n",
       "1     AAAGGTTAGGGTGGAT-1  ENSG00000226476          1.103188           high   \n",
       "89    AAAGGTTAGGGTGGAT-1  ENSG00000287523          0.920410           high   \n",
       "97    AAAGGTTAGGGTGGAT-1  ENSG00000038945          0.407756            low   \n",
       "146   AAAGGTTAGGGTGGAT-1  ENSG00000258081          0.920410           high   \n",
       "...                  ...              ...               ...            ...   \n",
       "8949  TTGGCTACATAAGTTC-1  ENSG00000198938          2.065108           high   \n",
       "8950  TTGGCTACATAAGTTC-1  ENSG00000198840          1.721116           high   \n",
       "8951  TTGGCTACATAAGTTC-1  ENSG00000198886          2.611877           high   \n",
       "8952  TTGGCTACATAAGTTC-1  ENSG00000198786          1.907831           high   \n",
       "8953  TTGGCTACATAAGTTC-1  ENSG00000198727          1.721116           high   \n",
       "\n",
       "                                         embedding_path  \n",
       "0     ../data/embeddings/batch_1/val/single_gene_bar...  \n",
       "1     ../data/embeddings/batch_1/val/single_gene_bar...  \n",
       "89    ../data/embeddings/batch_1/val/single_gene_bar...  \n",
       "97    ../data/embeddings/batch_1/val/single_gene_bar...  \n",
       "146   ../data/embeddings/batch_1/val/single_gene_bar...  \n",
       "...                                                 ...  \n",
       "8949  ../data/embeddings/batch_1/val/single_gene_bar...  \n",
       "8950  ../data/embeddings/batch_1/val/single_gene_bar...  \n",
       "8951  ../data/embeddings/batch_1/val/single_gene_bar...  \n",
       "8952  ../data/embeddings/batch_1/val/single_gene_bar...  \n",
       "8953  ../data/embeddings/batch_1/val/single_gene_bar...  \n",
       "\n",
       "[932 rows x 5 columns]"
      ]
     },
     "metadata": {},
     "output_type": "display_data"
    }
   ],
   "source": [
    "b1_val_df[b1_val_df.apply(lambda x: not x['embedding_path'].exists(), axis=1)]"
   ]
  },
  {
   "cell_type": "code",
   "execution_count": null,
   "metadata": {},
   "outputs": [
    {
     "data": {
      "text/plain": [
       "False"
      ]
     },
     "metadata": {},
     "output_type": "display_data"
    }
   ],
   "source": [
    "b1_val_df.loc[0]['embedding_path'].exists()"
   ]
  },
  {
   "cell_type": "code",
   "execution_count": null,
   "metadata": {},
   "outputs": [
    {
     "data": {
      "text/plain": [
       "False"
      ]
     },
     "metadata": {},
     "output_type": "display_data"
    }
   ],
   "source": [
    "any([p.exists() for p in b2_val_paths])"
   ]
  },
  {
   "cell_type": "code",
   "execution_count": null,
   "metadata": {},
   "outputs": [
    {
     "name": "stdout",
     "output_type": "stream",
     "text": [
      "../data/embeddings/batch_1/val/single_gene_barcode/AAACCAACATTGCGGT-2/ENSG00000162512.pt\n"
     ]
    },
    {
     "data": {
      "text/plain": [
       "False"
      ]
     },
     "metadata": {},
     "output_type": "display_data"
    }
   ],
   "source": [
    "p_dir = b2_val_paths[0].parent\n",
    "p_name = b2_val_paths[0].name.split('.')[0] + '.pt'\n",
    "p = p_dir / p_name\n",
    "print(p)\n",
    "p.exists()"
   ]
  }
 ],
 "metadata": {
  "kernelspec": {
   "display_name": "ssb",
   "language": "python",
   "name": "python3"
  },
  "language_info": {
   "codemirror_mode": {
    "name": "ipython",
    "version": 3
   },
   "file_extension": ".py",
   "mimetype": "text/x-python",
   "name": "python",
   "nbconvert_exporter": "python",
   "pygments_lexer": "ipython3",
   "version": "3.12.9"
  }
 },
 "nbformat": 4,
 "nbformat_minor": 2
}
