{
 "cells": [
  {
   "cell_type": "markdown",
   "metadata": {},
   "source": [
    "# Dataset Tutorial\n",
    "This notebook gives a short tutorial on how to use the pytorch dataset I implemented.\n",
    "You find the code in `src/data/dataset.py` in the `CnvDataset` class. "
   ]
  },
  {
   "cell_type": "markdown",
   "metadata": {},
   "source": [
    "Let's first start by importing some packages we might need"
   ]
  },
  {
   "cell_type": "code",
   "execution_count": 1,
   "metadata": {},
   "outputs": [],
   "source": [
    "import pandas as pd\n",
    "from pathlib import Path\n",
    "\n",
    "# add this to you notebook so it automatically reloads code you changed in a\n",
    "# python file after importing this code\n",
    "%load_ext autoreload\n",
    "%autoreload 2"
   ]
  },
  {
   "cell_type": "markdown",
   "metadata": {},
   "source": [
    "Now we also need to import the `CnvDataset` class.\n",
    "Since the path (relative to the git repository root) to this notebook is `preprocessing/dataset_example.ipynb`, we need to add the parent directory to our system path in order to import software from there.\n",
    "Think of it like this: We need to tell the notebook the relative path to the software folder `src` in order to import software from there."
   ]
  },
  {
   "cell_type": "code",
   "execution_count": 2,
   "metadata": {},
   "outputs": [],
   "source": [
    "import sys\n",
    "sys.path.append('..') # add the parent directory to system path\n",
    "from src.data.dataset import CnvDataset"
   ]
  },
  {
   "cell_type": "markdown",
   "metadata": {},
   "source": [
    "Great :)\n",
    "Now that this is out of the way, let's define some important paths for files we need to work with."
   ]
  },
  {
   "cell_type": "code",
   "execution_count": 3,
   "metadata": {},
   "outputs": [],
   "source": [
    "# directories we will need\n",
    "git_root = Path('..')\n",
    "data_root = git_root / 'data'\n",
    "assert data_root.exists()\n",
    "\n",
    "# dataset split files\n",
    "b1_train_path = data_root / 'splits' / 'batch1_training_filtered.tsv'\n",
    "b1_val_path = data_root / 'splits' / 'batch1_val_filtered.tsv'\n",
    "b1_test_path = data_root / 'splits' / 'batch1_test_filtered.tsv'"
   ]
  },
  {
   "cell_type": "markdown",
   "metadata": {},
   "source": [
    "Alright, now we are almost ready to use the `CnvDataset`.\n",
    "One last thing thats is missing, is the path to the directory that stores the embedding files for the dataset we want to use.\n",
    "All dataset paths follow the same pattern:\n",
    "```\n",
    "data/embeddings/batch_<batch_number>/<dataset_type>/<embedding_mode>\n",
    "```\n",
    "where:\n",
    "* `batch_<batch_number>` is either `batch_1` or `batch_2`\n",
    "* `<dataset_type>` is one of `train`, `val` or `test`\n",
    "* `<embedding_mode>` is one of `single_gene_barcode`, `gene_concat` or `barcode_channel`\n",
    "\n",
    "Please note, that the `<embedding_mode>` will be added automatically.\n",
    "You don't need to add it to the dataset path, just change the `embedding_mode` parameter for the `CnvDataset` class.\n",
    "Also, please make sure that the directory actually exists.\n",
    "However, the python code will raise an exception if does not find any embedding files.\n",
    "\n",
    "OK. Now let's define the dataset we want to use.\n",
    "In this example I chose the validation set of batch 1."
   ]
  },
  {
   "cell_type": "code",
   "execution_count": 4,
   "metadata": {},
   "outputs": [],
   "source": [
    "dataset_root = data_root / 'embeddings' / 'batch_1' / 'val'"
   ]
  },
  {
   "cell_type": "markdown",
   "metadata": {},
   "source": [
    "Next, we read the validation split data frame using pandas."
   ]
  },
  {
   "cell_type": "code",
   "execution_count": 5,
   "metadata": {},
   "outputs": [],
   "source": [
    "b1_val_df = pd.read_csv(b1_val_path, sep='\\t')"
   ]
  },
  {
   "cell_type": "code",
   "execution_count": 6,
   "metadata": {},
   "outputs": [
    {
     "name": "stdout",
     "output_type": "stream",
     "text": [
      "Using 51 barcodes\n",
      "Using 1093 genes\n",
      "No embedding files for 932 data points in ../data/embeddings/batch_1/val/single_gene_barcode!\n",
      "Found 38082 embedding files with no target value in ../data/embeddings/batch_1/val/single_gene_barcode!\n"
     ]
    }
   ],
   "source": [
    "b1_val_dataset = CnvDataset(\n",
    "    root=dataset_root,\n",
    "    data_df=b1_val_df,\n",
    "    embedding_mode='single_gene_barcode'\n",
    ")"
   ]
  },
  {
   "cell_type": "markdown",
   "metadata": {},
   "source": [
    "Your output should look something like:\n",
    "```\n",
    "Using 51 barcodes\n",
    "Using 1093 genes\n",
    "No embedding files for 932 data points in ../data/embeddings/batch_1/val/single_gene_barcode!\n",
    "Found 38082 embedding files with no target value in ../data/embeddings/batch_1/val/single_gene_barcode!\n",
    "```\n",
    "\n",
    "This means that from the datapoint with target values in the dataset, we are missing 932 embedding files.\n",
    "On the other hand, there are 38082 embedding files with no target value associated."
   ]
  },
  {
   "cell_type": "markdown",
   "metadata": {},
   "source": [
    "Now you should be able to get the number of data points and the first rows of the data frame by using the string representaiton of the dataset variable."
   ]
  },
  {
   "cell_type": "code",
   "execution_count": 34,
   "metadata": {},
   "outputs": [
    {
     "name": "stdout",
     "output_type": "stream",
     "text": [
      "<class 'src.data.dataset.CnvDataset'> with 8022 datapoints\n",
      "               barcode          gene_id  expression_count classification  \\\n",
      "15  AAAGGTTAGGGTGGAT-1  ENSG00000020577          0.407756            low   \n",
      "17  AAAGGTTAGGGTGGAT-1  ENSG00000021645          2.146118           high   \n",
      "26  AAAGGTTAGGGTGGAT-1  ENSG00000030582          0.407756            low   \n",
      "27  AAAGGTTAGGGTGGAT-1  ENSG00000033327          0.696581            low   \n",
      "32  AAAGGTTAGGGTGGAT-1  ENSG00000038427          1.103188           high   \n",
      "\n",
      "                                       embedding_path  \n",
      "15  ../data/embeddings/batch_1/val/single_gene_bar...  \n",
      "17  ../data/embeddings/batch_1/val/single_gene_bar...  \n",
      "26  ../data/embeddings/batch_1/val/single_gene_bar...  \n",
      "27  ../data/embeddings/batch_1/val/single_gene_bar...  \n",
      "32  ../data/embeddings/batch_1/val/single_gene_bar...  \n"
     ]
    }
   ],
   "source": [
    "print(str(b1_val_dataset))"
   ]
  },
  {
   "cell_type": "markdown",
   "metadata": {},
   "source": [
    "Also we should be able to get the embedding and the classification label from the dataset using an index (just like a list)."
   ]
  },
  {
   "cell_type": "code",
   "execution_count": 35,
   "metadata": {},
   "outputs": [
    {
     "data": {
      "text/plain": [
       "{'embedding': tensor([[0, 0, 0,  ..., 0, 0, 0],\n",
       "         [0, 0, 0,  ..., 0, 0, 0],\n",
       "         [0, 0, 1,  ..., 0, 1, 0],\n",
       "         ...,\n",
       "         [0, 0, 0,  ..., 0, 0, 0],\n",
       "         [0, 0, 0,  ..., 0, 0, 0],\n",
       "         [0, 0, 0,  ..., 0, 0, 0]], dtype=torch.uint8),\n",
       " 'label': 'low'}"
      ]
     },
     "execution_count": 35,
     "metadata": {},
     "output_type": "execute_result"
    }
   ],
   "source": [
    "b1_val_dataset[0]"
   ]
  },
  {
   "cell_type": "markdown",
   "metadata": {},
   "source": [
    "To use the dataset for regression you need to set the `target_type` parameter for the `CnvDataset` class to `'regression'`."
   ]
  },
  {
   "cell_type": "code",
   "execution_count": 7,
   "metadata": {},
   "outputs": [
    {
     "name": "stdout",
     "output_type": "stream",
     "text": [
      "Using 51 barcodes\n",
      "Using 1093 genes\n",
      "No embedding files for 932 data points in ../data/embeddings/batch_1/val/single_gene_barcode!\n",
      "Found 38082 embedding files with no target value in ../data/embeddings/batch_1/val/single_gene_barcode!\n"
     ]
    }
   ],
   "source": [
    "b1_val_dataset = CnvDataset(\n",
    "    root=dataset_root,\n",
    "    data_df=b1_val_df,\n",
    "    target_type='regression'\n",
    ")"
   ]
  },
  {
   "cell_type": "code",
   "execution_count": 8,
   "metadata": {},
   "outputs": [
    {
     "data": {
      "text/plain": [
       "{'embedding': tensor([[0, 0, 0,  ..., 0, 0, 0],\n",
       "         [0, 0, 0,  ..., 0, 0, 0],\n",
       "         [0, 0, 1,  ..., 0, 1, 0],\n",
       "         ...,\n",
       "         [0, 0, 0,  ..., 0, 0, 0],\n",
       "         [0, 0, 0,  ..., 0, 0, 0],\n",
       "         [0, 0, 0,  ..., 0, 0, 0]], dtype=torch.uint8),\n",
       " 'target': np.float64(0.40775576)}"
      ]
     },
     "execution_count": 8,
     "metadata": {},
     "output_type": "execute_result"
    }
   ],
   "source": [
    "b1_val_dataset[0]"
   ]
  },
  {
   "cell_type": "markdown",
   "metadata": {},
   "source": [
    "Now let's load the training set for a regression use case."
   ]
  },
  {
   "cell_type": "code",
   "execution_count": 13,
   "metadata": {},
   "outputs": [
    {
     "name": "stdout",
     "output_type": "stream",
     "text": [
      "Using 356 barcodes\n",
      "Using 1595 genes\n",
      "No embedding files for 6207 data points in ../data/embeddings/batch_1/training/single_gene_barcode!\n",
      "Found 386170 embedding files with no target value in ../data/embeddings/batch_1/training/single_gene_barcode!\n"
     ]
    }
   ],
   "source": [
    "train_set_root = data_root / 'embeddings' / 'batch_1' / 'training'\n",
    "b1_train_df = pd.read_csv(b1_train_path, sep='\\t')\n",
    "b1_train_dataset = CnvDataset(\n",
    "    root=train_set_root,\n",
    "    data_df=b1_train_df,\n",
    "    target_type='regression'\n",
    ")"
   ]
  },
  {
   "cell_type": "code",
   "execution_count": 14,
   "metadata": {},
   "outputs": [
    {
     "data": {
      "text/plain": [
       "<class 'src.data.dataset.CnvDataset'> with 53134 datapoints"
      ]
     },
     "execution_count": 14,
     "metadata": {},
     "output_type": "execute_result"
    }
   ],
   "source": [
    "b1_train_dataset"
   ]
  },
  {
   "cell_type": "markdown",
   "metadata": {},
   "source": [
    "And here a example using the test dataset for classification."
   ]
  },
  {
   "cell_type": "code",
   "execution_count": 10,
   "metadata": {},
   "outputs": [
    {
     "name": "stdout",
     "output_type": "stream",
     "text": [
      "Using 102 barcodes\n",
      "Using 1235 genes\n",
      "No embedding files for 1966 data points in ../data/embeddings/batch_1/test/single_gene_barcode!\n",
      "Found 87575 embedding files with no target value in ../data/embeddings/batch_1/test/single_gene_barcode!\n"
     ]
    }
   ],
   "source": [
    "test_set_root = data_root / 'embeddings' / 'batch_1' / 'test'\n",
    "b1_test_df = pd.read_csv(b1_test_path, sep='\\t')\n",
    "b1_test_dataset = CnvDataset(\n",
    "    root=test_set_root,\n",
    "    data_df=b1_test_df,\n",
    "    target_type='regression'\n",
    ")"
   ]
  },
  {
   "cell_type": "code",
   "execution_count": 15,
   "metadata": {},
   "outputs": [
    {
     "data": {
      "text/plain": [
       "<class 'src.data.dataset.CnvDataset'> with 16669 datapoints"
      ]
     },
     "execution_count": 15,
     "metadata": {},
     "output_type": "execute_result"
    }
   ],
   "source": [
    "b1_test_dataset"
   ]
  },
  {
   "cell_type": "markdown",
   "metadata": {},
   "source": [
    "## Computing Embeddings from scratch\n",
    "This section covers (re-)computing embeddings using the `CnvDataset`.\n",
    "For this we need a little bit more information than before.\n",
    "Like previouly, let's start by defining some paths to relevant files and directories. "
   ]
  },
  {
   "cell_type": "code",
   "execution_count": 9,
   "metadata": {},
   "outputs": [],
   "source": [
    "# directories we will need\n",
    "out_root = git_root / 'out'\n",
    "\n",
    "# files we will need\n",
    "genome_fasta = data_root / 'reference' / 'GRCh38.d1.vd1.fa'\n",
    "assert genome_fasta.exists()\n",
    "overlap_path = data_root / 'overlap_genes_peaks.tsv'\n",
    "assert overlap_path.exists()\n",
    "epiAneufinder_path = out_root / 'epiAneufinder' / 'epiAneuFinder_results.tsv'\n",
    "assert epiAneufinder_path.exists()"
   ]
  },
  {
   "cell_type": "code",
   "execution_count": 7,
   "metadata": {},
   "outputs": [],
   "source": [
    "b1_df = pd.read_csv(b1_val_path, sep='\\t')"
   ]
  },
  {
   "cell_type": "code",
   "execution_count": null,
   "metadata": {},
   "outputs": [],
   "source": [
    "# compute all embeddings for batch 1\n",
    "b1_dataset = CnvDataset(\n",
    "    root=data_root / 'embeddings' / 'batch_1' / 'val' ,\n",
    "    data_df=b1_df,\n",
    "    fasta_path=genome_fasta,\n",
    "    atac_path=overlap_path,\n",
    "    cnv_path=epiAneufinder_path,\n",
    "    embedding_mode='single_gene_barcode',\n",
    "    force_recompute=True\n",
    ")"
   ]
  },
  {
   "cell_type": "code",
   "execution_count": null,
   "metadata": {},
   "outputs": [],
   "source": [
    "b1_dataset[0]"
   ]
  },
  {
   "cell_type": "code",
   "execution_count": null,
   "metadata": {},
   "outputs": [
    {
     "data": {
      "text/html": [
       "<div>\n",
       "<style scoped>\n",
       "    .dataframe tbody tr th:only-of-type {\n",
       "        vertical-align: middle;\n",
       "    }\n",
       "\n",
       "    .dataframe tbody tr th {\n",
       "        vertical-align: top;\n",
       "    }\n",
       "\n",
       "    .dataframe thead th {\n",
       "        text-align: right;\n",
       "    }\n",
       "</style>\n",
       "<table border=\"1\" class=\"dataframe\">\n",
       "  <thead>\n",
       "    <tr style=\"text-align: right;\">\n",
       "      <th></th>\n",
       "      <th>barcode</th>\n",
       "      <th>gene_id</th>\n",
       "      <th>expression_count</th>\n",
       "      <th>classification</th>\n",
       "      <th>embedding_path</th>\n",
       "    </tr>\n",
       "  </thead>\n",
       "  <tbody>\n",
       "    <tr>\n",
       "      <th>0</th>\n",
       "      <td>AAACATGCAGGATGGC-1</td>\n",
       "      <td>ENSG00000084070</td>\n",
       "      <td>0.371921</td>\n",
       "      <td>low</td>\n",
       "      <td>../data/embeddings/batch_1/val/single_gene_bar...</td>\n",
       "    </tr>\n",
       "    <tr>\n",
       "      <th>1</th>\n",
       "      <td>AAACATGCAGGATGGC-1</td>\n",
       "      <td>ENSG00000127124</td>\n",
       "      <td>0.642400</td>\n",
       "      <td>low</td>\n",
       "      <td>../data/embeddings/batch_1/val/single_gene_bar...</td>\n",
       "    </tr>\n",
       "    <tr>\n",
       "      <th>2</th>\n",
       "      <td>AAACATGCAGGATGGC-1</td>\n",
       "      <td>ENSG00000269113</td>\n",
       "      <td>1.179453</td>\n",
       "      <td>high</td>\n",
       "      <td>../data/embeddings/batch_1/val/single_gene_bar...</td>\n",
       "    </tr>\n",
       "    <tr>\n",
       "      <th>3</th>\n",
       "      <td>AAACATGCAGGATGGC-1</td>\n",
       "      <td>ENSG00000173406</td>\n",
       "      <td>0.371921</td>\n",
       "      <td>low</td>\n",
       "      <td>../data/embeddings/batch_1/val/single_gene_bar...</td>\n",
       "    </tr>\n",
       "    <tr>\n",
       "      <th>4</th>\n",
       "      <td>AAACATGCAGGATGGC-1</td>\n",
       "      <td>ENSG00000226476</td>\n",
       "      <td>0.371921</td>\n",
       "      <td>low</td>\n",
       "      <td>../data/embeddings/batch_1/val/single_gene_bar...</td>\n",
       "    </tr>\n",
       "    <tr>\n",
       "      <th>...</th>\n",
       "      <td>...</td>\n",
       "      <td>...</td>\n",
       "      <td>...</td>\n",
       "      <td>...</td>\n",
       "      <td>...</td>\n",
       "    </tr>\n",
       "    <tr>\n",
       "      <th>49311</th>\n",
       "      <td>TTTGTTGGTACCAGGT-1</td>\n",
       "      <td>ENSG00000198899</td>\n",
       "      <td>2.295555</td>\n",
       "      <td>high</td>\n",
       "      <td>../data/embeddings/batch_1/val/single_gene_bar...</td>\n",
       "    </tr>\n",
       "    <tr>\n",
       "      <th>49312</th>\n",
       "      <td>TTTGTTGGTACCAGGT-1</td>\n",
       "      <td>ENSG00000198938</td>\n",
       "      <td>1.884219</td>\n",
       "      <td>high</td>\n",
       "      <td>../data/embeddings/batch_1/val/single_gene_bar...</td>\n",
       "    </tr>\n",
       "    <tr>\n",
       "      <th>49313</th>\n",
       "      <td>TTTGTTGGTACCAGGT-1</td>\n",
       "      <td>ENSG00000198840</td>\n",
       "      <td>0.749642</td>\n",
       "      <td>low</td>\n",
       "      <td>../data/embeddings/batch_1/val/single_gene_bar...</td>\n",
       "    </tr>\n",
       "    <tr>\n",
       "      <th>49314</th>\n",
       "      <td>TTTGTTGGTACCAGGT-1</td>\n",
       "      <td>ENSG00000198886</td>\n",
       "      <td>1.698359</td>\n",
       "      <td>high</td>\n",
       "      <td>../data/embeddings/batch_1/val/single_gene_bar...</td>\n",
       "    </tr>\n",
       "    <tr>\n",
       "      <th>49315</th>\n",
       "      <td>TTTGTTGGTACCAGGT-1</td>\n",
       "      <td>ENSG00000198727</td>\n",
       "      <td>1.173251</td>\n",
       "      <td>high</td>\n",
       "      <td>../data/embeddings/batch_1/val/single_gene_bar...</td>\n",
       "    </tr>\n",
       "  </tbody>\n",
       "</table>\n",
       "<p>49316 rows × 5 columns</p>\n",
       "</div>"
      ],
      "text/plain": [
       "                  barcode          gene_id  expression_count classification  \\\n",
       "0      AAACATGCAGGATGGC-1  ENSG00000084070          0.371921            low   \n",
       "1      AAACATGCAGGATGGC-1  ENSG00000127124          0.642400            low   \n",
       "2      AAACATGCAGGATGGC-1  ENSG00000269113          1.179453           high   \n",
       "3      AAACATGCAGGATGGC-1  ENSG00000173406          0.371921            low   \n",
       "4      AAACATGCAGGATGGC-1  ENSG00000226476          0.371921            low   \n",
       "...                   ...              ...               ...            ...   \n",
       "49311  TTTGTTGGTACCAGGT-1  ENSG00000198899          2.295555           high   \n",
       "49312  TTTGTTGGTACCAGGT-1  ENSG00000198938          1.884219           high   \n",
       "49313  TTTGTTGGTACCAGGT-1  ENSG00000198840          0.749642            low   \n",
       "49314  TTTGTTGGTACCAGGT-1  ENSG00000198886          1.698359           high   \n",
       "49315  TTTGTTGGTACCAGGT-1  ENSG00000198727          1.173251           high   \n",
       "\n",
       "                                          embedding_path  \n",
       "0      ../data/embeddings/batch_1/val/single_gene_bar...  \n",
       "1      ../data/embeddings/batch_1/val/single_gene_bar...  \n",
       "2      ../data/embeddings/batch_1/val/single_gene_bar...  \n",
       "3      ../data/embeddings/batch_1/val/single_gene_bar...  \n",
       "4      ../data/embeddings/batch_1/val/single_gene_bar...  \n",
       "...                                                  ...  \n",
       "49311  ../data/embeddings/batch_1/val/single_gene_bar...  \n",
       "49312  ../data/embeddings/batch_1/val/single_gene_bar...  \n",
       "49313  ../data/embeddings/batch_1/val/single_gene_bar...  \n",
       "49314  ../data/embeddings/batch_1/val/single_gene_bar...  \n",
       "49315  ../data/embeddings/batch_1/val/single_gene_bar...  \n",
       "\n",
       "[49316 rows x 5 columns]"
      ]
     },
     "metadata": {},
     "output_type": "display_data"
    }
   ],
   "source": [
    "b1_df"
   ]
  },
  {
   "cell_type": "code",
   "execution_count": null,
   "metadata": {},
   "outputs": [
    {
     "data": {
      "text/html": [
       "<div>\n",
       "<style scoped>\n",
       "    .dataframe tbody tr th:only-of-type {\n",
       "        vertical-align: middle;\n",
       "    }\n",
       "\n",
       "    .dataframe tbody tr th {\n",
       "        vertical-align: top;\n",
       "    }\n",
       "\n",
       "    .dataframe thead th {\n",
       "        text-align: right;\n",
       "    }\n",
       "</style>\n",
       "<table border=\"1\" class=\"dataframe\">\n",
       "  <thead>\n",
       "    <tr style=\"text-align: right;\">\n",
       "      <th></th>\n",
       "      <th>barcode</th>\n",
       "      <th>gene_id</th>\n",
       "      <th>expression_count</th>\n",
       "      <th>classification</th>\n",
       "      <th>embedding_path</th>\n",
       "    </tr>\n",
       "  </thead>\n",
       "  <tbody>\n",
       "  </tbody>\n",
       "</table>\n",
       "</div>"
      ],
      "text/plain": [
       "Empty DataFrame\n",
       "Columns: [barcode, gene_id, expression_count, classification, embedding_path]\n",
       "Index: []"
      ]
     },
     "metadata": {},
     "output_type": "display_data"
    }
   ],
   "source": [
    "b1_dataset.data_df"
   ]
  },
  {
   "cell_type": "code",
   "execution_count": null,
   "metadata": {},
   "outputs": [
    {
     "data": {
      "text/plain": [
       "[PosixPath('../data/embeddings/batch_1/val/single_gene_barcode/AGCCGCTAGAATGACG-1'),\n",
       " PosixPath('../data/embeddings/batch_1/val/single_gene_barcode/CATTATCTCGCGACAC-1'),\n",
       " PosixPath('../data/embeddings/batch_1/val/single_gene_barcode/CATGAGGCACGGTTTA-1'),\n",
       " PosixPath('../data/embeddings/batch_1/val/single_gene_barcode/GCTAAGTTCGGGCCAT-1'),\n",
       " PosixPath('../data/embeddings/batch_1/val/single_gene_barcode/AGTTGCGTCGATATTG-1'),\n",
       " PosixPath('../data/embeddings/batch_1/val/single_gene_barcode/AATTACCCAGCAAGTG-1'),\n",
       " PosixPath('../data/embeddings/batch_1/val/single_gene_barcode/GGACCGAAGCGATAAG-1'),\n",
       " PosixPath('../data/embeddings/batch_1/val/single_gene_barcode/ACCTACCTCGGCTAGC-1'),\n",
       " PosixPath('../data/embeddings/batch_1/val/single_gene_barcode/TGATGAACAAGGCCAA-1'),\n",
       " PosixPath('../data/embeddings/batch_1/val/single_gene_barcode/TGAACAGAGCACTTGG-1')]"
      ]
     },
     "metadata": {},
     "output_type": "display_data"
    }
   ],
   "source": [
    "[d for d in b1_dataset.root_path.iterdir()][:10]"
   ]
  },
  {
   "cell_type": "code",
   "execution_count": null,
   "metadata": {},
   "outputs": [
    {
     "name": "stdout",
     "output_type": "stream",
     "text": [
      "<class 'src.data.dataset.CnvDataset'> with 0 datapoints\n"
     ]
    }
   ],
   "source": [
    "print(b1_dataset)"
   ]
  },
  {
   "cell_type": "code",
   "execution_count": null,
   "metadata": {},
   "outputs": [
    {
     "data": {
      "text/plain": [
       "PosixPath('../data/embeddings/batch_1/val/single_gene_barcode/AAACATGCAGGATGGC-1/ENSG00000084070.mtx')"
      ]
     },
     "metadata": {},
     "output_type": "display_data"
    }
   ],
   "source": [
    "b1_df.iloc[0]['embedding_path']"
   ]
  }
 ],
 "metadata": {
  "kernelspec": {
   "display_name": "ssb",
   "language": "python",
   "name": "python3"
  },
  "language_info": {
   "codemirror_mode": {
    "name": "ipython",
    "version": 3
   },
   "file_extension": ".py",
   "mimetype": "text/x-python",
   "name": "python",
   "nbconvert_exporter": "python",
   "pygments_lexer": "ipython3",
   "version": "3.12.9"
  }
 },
 "nbformat": 4,
 "nbformat_minor": 2
}
