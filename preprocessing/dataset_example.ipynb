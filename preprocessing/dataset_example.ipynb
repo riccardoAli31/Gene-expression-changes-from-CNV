{
 "cells": [
  {
   "cell_type": "markdown",
   "metadata": {},
   "source": [
    "# Dataset Tutorial\n",
    "This notebook gives a short tutorial on how to use the pytorch dataset I implemented.\n",
    "You find the code in `src/data/dataset.py` in the `CnvDataset` class. "
   ]
  },
  {
   "cell_type": "markdown",
   "metadata": {},
   "source": [
    "Let's first start by importing some packages we might need"
   ]
  },
  {
   "cell_type": "code",
   "execution_count": 1,
   "metadata": {},
   "outputs": [],
   "source": [
    "import pandas as pd\n",
    "from pathlib import Path\n",
    "\n",
    "# add this to you notebook so it automatically reloads code you changed in a\n",
    "# python file after importing this code\n",
    "%load_ext autoreload\n",
    "%autoreload 2"
   ]
  },
  {
   "cell_type": "markdown",
   "metadata": {},
   "source": [
    "Now we also need to import the `CnvDataset` class.\n",
    "Since the path (relative to the git repository root) to this notebook is `preprocessing/dataset_example.ipynb`, we need to add the parent directory to our system path in order to import software from there.\n",
    "Think of it like this: We need to tell the notebook the relative path to the software folder `src` in order to import software from there."
   ]
  },
  {
   "cell_type": "code",
   "execution_count": 2,
   "metadata": {},
   "outputs": [],
   "source": [
    "import sys\n",
    "sys.path.append('..') # add the parent directory to system path\n",
    "from src.data.dataset import CnvDataset"
   ]
  },
  {
   "cell_type": "markdown",
   "metadata": {},
   "source": [
    "Great :)\n",
    "Now that this is out of the way, let's define some important paths for files we need to work with."
   ]
  },
  {
   "cell_type": "code",
   "execution_count": 3,
   "metadata": {},
   "outputs": [],
   "source": [
    "# directories we will need\n",
    "git_root = Path('..')\n",
    "data_root = git_root / 'data'\n",
    "assert data_root.exists()\n",
    "\n",
    "# dataset split files\n",
    "b1_train_path = data_root / 'splits' / 'batch1_training_filtered.tsv'\n",
    "b1_val_path = data_root / 'splits' / 'batch1_val_filtered.tsv'\n",
    "b1_test_path = data_root / 'splits' / 'batch1_test_filtered.tsv'"
   ]
  },
  {
   "cell_type": "markdown",
   "metadata": {},
   "source": [
    "Alright, now we are almost ready to use the `CnvDataset`.\n",
    "One last thing thats is missing, is the path to the directory that stores the embedding files for the dataset we want to use.\n",
    "All dataset paths follow the same pattern:\n",
    "```\n",
    "data/embeddings/batch_<batch_number>/<dataset_type>/<embedding_mode>\n",
    "```\n",
    "where:\n",
    "* `batch_<batch_number>` is either `batch_1` or `batch_2`\n",
    "* `<dataset_type>` is one of `train`, `val` or `test`\n",
    "* `<embedding_mode>` is one of `single_gene_barcode`, `gene_concat` or `barcode_channel`\n",
    "\n",
    "Please note, that the `<embedding_mode>` will be added automatically.\n",
    "You don't need to add it to the dataset path, just change the `embedding_mode` parameter for the `CnvDataset` class.\n",
    "Also, please make sure that the directory actually exists.\n",
    "However, the python code will raise an exception if does not find any embedding files.\n",
    "\n",
    "OK. Now let's define the dataset we want to use.\n",
    "In this example I chose the validation set of batch 1."
   ]
  },
  {
   "cell_type": "code",
   "execution_count": 4,
   "metadata": {},
   "outputs": [],
   "source": [
    "dataset_root = data_root / 'embeddings' / 'batch_1' / 'val'"
   ]
  },
  {
   "cell_type": "markdown",
   "metadata": {},
   "source": [
    "Next, we read the validation split data frame using pandas."
   ]
  },
  {
   "cell_type": "code",
   "execution_count": 5,
   "metadata": {},
   "outputs": [],
   "source": [
    "b1_val_df = pd.read_csv(b1_val_path, sep='\\t')"
   ]
  },
  {
   "cell_type": "code",
   "execution_count": 6,
   "metadata": {},
   "outputs": [
    {
     "name": "stdout",
     "output_type": "stream",
     "text": [
      "Using 51 barcodes\n",
      "Using 1093 genes\n",
      "No embedding files for 932 data points in ../data/embeddings/batch_1/val/single_gene_barcode!\n",
      "Found 38082 embedding files with no target value in ../data/embeddings/batch_1/val/single_gene_barcode!\n"
     ]
    }
   ],
   "source": [
    "b1_val_dataset = CnvDataset(\n",
    "    root=dataset_root,\n",
    "    data_df=b1_val_df,\n",
    "    embedding_mode='single_gene_barcode'\n",
    ")"
   ]
  },
  {
   "cell_type": "markdown",
   "metadata": {},
   "source": [
    "Your output should look something like:\n",
    "```\n",
    "Using 51 barcodes\n",
    "Using 1093 genes\n",
    "No embedding files for 932 data points in ../data/embeddings/batch_1/val/single_gene_barcode!\n",
    "Found 38082 embedding files with no target value in ../data/embeddings/batch_1/val/single_gene_barcode!\n",
    "```\n",
    "\n",
    "This means that from the datapoint with target values in the dataset, we are missing 932 embedding files.\n",
    "On the other hand, there are 38082 embedding files with no target value associated."
   ]
  },
  {
   "cell_type": "markdown",
   "metadata": {},
   "source": [
    "Now you should be able to get the number of data points and the first rows of the data frame by using the string representaiton of the dataset variable."
   ]
  },
  {
   "cell_type": "code",
   "execution_count": 7,
   "metadata": {},
   "outputs": [
    {
     "name": "stdout",
     "output_type": "stream",
     "text": [
      "<class 'src.data.dataset.CnvDataset'> with 8022 datapoints\n",
      "               barcode          gene_id  expression_count classification  \\\n",
      "15  AAAGGTTAGGGTGGAT-1  ENSG00000020577          0.407756            low   \n",
      "17  AAAGGTTAGGGTGGAT-1  ENSG00000021645          2.146118           high   \n",
      "26  AAAGGTTAGGGTGGAT-1  ENSG00000030582          0.407756            low   \n",
      "27  AAAGGTTAGGGTGGAT-1  ENSG00000033327          0.696581            low   \n",
      "32  AAAGGTTAGGGTGGAT-1  ENSG00000038427          1.103188           high   \n",
      "\n",
      "                                       embedding_path  \n",
      "15  ../data/embeddings/batch_1/val/single_gene_bar...  \n",
      "17  ../data/embeddings/batch_1/val/single_gene_bar...  \n",
      "26  ../data/embeddings/batch_1/val/single_gene_bar...  \n",
      "27  ../data/embeddings/batch_1/val/single_gene_bar...  \n",
      "32  ../data/embeddings/batch_1/val/single_gene_bar...  \n"
     ]
    }
   ],
   "source": [
    "print(str(b1_val_dataset))"
   ]
  },
  {
   "cell_type": "markdown",
   "metadata": {},
   "source": [
    "Also we should be able to get the embedding and the classification label from the dataset using an index (just like a list)."
   ]
  },
  {
   "cell_type": "code",
   "execution_count": 8,
   "metadata": {},
   "outputs": [
    {
     "data": {
      "text/plain": [
       "{'embedding': tensor([[0, 0, 0,  ..., 0, 0, 0],\n",
       "         [0, 0, 0,  ..., 0, 0, 0],\n",
       "         [0, 0, 1,  ..., 0, 1, 0],\n",
       "         ...,\n",
       "         [0, 0, 0,  ..., 0, 0, 0],\n",
       "         [0, 0, 0,  ..., 0, 0, 0],\n",
       "         [0, 0, 0,  ..., 0, 0, 0]], dtype=torch.uint8),\n",
       " 'target': 'low'}"
      ]
     },
     "execution_count": 8,
     "metadata": {},
     "output_type": "execute_result"
    }
   ],
   "source": [
    "b1_val_dataset[0]"
   ]
  },
  {
   "cell_type": "markdown",
   "metadata": {},
   "source": [
    "To use the dataset for regression you need to set the `target_type` parameter for the `CnvDataset` class to `'regression'`."
   ]
  },
  {
   "cell_type": "code",
   "execution_count": 9,
   "metadata": {},
   "outputs": [
    {
     "name": "stdout",
     "output_type": "stream",
     "text": [
      "Using 51 barcodes\n",
      "Using 1093 genes\n",
      "No embedding files for 932 data points in ../data/embeddings/batch_1/val/single_gene_barcode!\n",
      "Found 38082 embedding files with no target value in ../data/embeddings/batch_1/val/single_gene_barcode!\n"
     ]
    }
   ],
   "source": [
    "b1_val_dataset = CnvDataset(\n",
    "    root=dataset_root,\n",
    "    data_df=b1_val_df,\n",
    "    target_type='regression'\n",
    ")"
   ]
  },
  {
   "cell_type": "code",
   "execution_count": 10,
   "metadata": {},
   "outputs": [
    {
     "data": {
      "text/plain": [
       "{'embedding': tensor([[0, 0, 0,  ..., 0, 0, 0],\n",
       "         [0, 0, 0,  ..., 0, 0, 0],\n",
       "         [0, 0, 1,  ..., 0, 1, 0],\n",
       "         ...,\n",
       "         [0, 0, 0,  ..., 0, 0, 0],\n",
       "         [0, 0, 0,  ..., 0, 0, 0],\n",
       "         [0, 0, 0,  ..., 0, 0, 0]], dtype=torch.uint8),\n",
       " 'target': np.float64(0.40775576)}"
      ]
     },
     "execution_count": 10,
     "metadata": {},
     "output_type": "execute_result"
    }
   ],
   "source": [
    "b1_val_dataset[0]"
   ]
  },
  {
   "cell_type": "markdown",
   "metadata": {},
   "source": [
    "Now let's load the training set for a regression use case."
   ]
  },
  {
   "cell_type": "code",
   "execution_count": 11,
   "metadata": {},
   "outputs": [
    {
     "name": "stdout",
     "output_type": "stream",
     "text": [
      "Using 356 barcodes\n",
      "Using 1595 genes\n",
      "No embedding files for 6207 data points in ../data/embeddings/batch_1/training/single_gene_barcode!\n",
      "Found 386170 embedding files with no target value in ../data/embeddings/batch_1/training/single_gene_barcode!\n"
     ]
    }
   ],
   "source": [
    "train_set_root = data_root / 'embeddings' / 'batch_1' / 'training'\n",
    "b1_train_df = pd.read_csv(b1_train_path, sep='\\t')\n",
    "b1_train_dataset = CnvDataset(\n",
    "    root=train_set_root,\n",
    "    data_df=b1_train_df,\n",
    "    target_type='regression'\n",
    ")"
   ]
  },
  {
   "cell_type": "code",
   "execution_count": 12,
   "metadata": {},
   "outputs": [
    {
     "data": {
      "text/plain": [
       "<class 'src.data.dataset.CnvDataset'> with 53134 datapoints"
      ]
     },
     "execution_count": 12,
     "metadata": {},
     "output_type": "execute_result"
    }
   ],
   "source": [
    "b1_train_dataset"
   ]
  },
  {
   "cell_type": "markdown",
   "metadata": {},
   "source": [
    "And here a example using the test dataset for classification."
   ]
  },
  {
   "cell_type": "code",
   "execution_count": 13,
   "metadata": {},
   "outputs": [
    {
     "name": "stdout",
     "output_type": "stream",
     "text": [
      "Using 102 barcodes\n",
      "Using 1235 genes\n",
      "No embedding files for 1966 data points in ../data/embeddings/batch_1/test/single_gene_barcode!\n",
      "Found 87575 embedding files with no target value in ../data/embeddings/batch_1/test/single_gene_barcode!\n"
     ]
    }
   ],
   "source": [
    "test_set_root = data_root / 'embeddings' / 'batch_1' / 'test'\n",
    "b1_test_df = pd.read_csv(b1_test_path, sep='\\t')\n",
    "b1_test_dataset = CnvDataset(\n",
    "    root=test_set_root,\n",
    "    data_df=b1_test_df,\n",
    "    target_type='regression'\n",
    ")"
   ]
  },
  {
   "cell_type": "code",
   "execution_count": 14,
   "metadata": {},
   "outputs": [
    {
     "data": {
      "text/plain": [
       "<class 'src.data.dataset.CnvDataset'> with 16669 datapoints"
      ]
     },
     "execution_count": 14,
     "metadata": {},
     "output_type": "execute_result"
    }
   ],
   "source": [
    "b1_test_dataset"
   ]
  },
  {
   "cell_type": "markdown",
   "metadata": {},
   "source": [
    "## Computing Embeddings from scratch\n",
    "This section covers (re-)computing embeddings using the `CnvDataset`.\n",
    "For this we need a little bit more information than before.\n",
    "Like previouly, let's start by defining some paths to relevant files and directories. "
   ]
  },
  {
   "cell_type": "code",
   "execution_count": 15,
   "metadata": {},
   "outputs": [],
   "source": [
    "# directories we will need\n",
    "out_root = git_root / 'out'\n",
    "\n",
    "# files we will need\n",
    "genome_fasta = data_root / 'reference' / 'GRCh38.d1.vd1.fa'\n",
    "assert genome_fasta.exists()\n",
    "overlap_path = data_root / 'overlap_genes_peaks.tsv'\n",
    "assert overlap_path.exists()\n",
    "epiAneufinder_path = out_root / 'epiAneufinder' / 'epiAneuFinder_results.tsv'\n",
    "assert epiAneufinder_path.exists()"
   ]
  },
  {
   "cell_type": "code",
   "execution_count": 16,
   "metadata": {},
   "outputs": [],
   "source": [
    "b1_df = pd.read_csv(b1_val_path, sep='\\t')"
   ]
  },
  {
   "cell_type": "code",
   "execution_count": 19,
   "metadata": {},
   "outputs": [
    {
     "name": "stdout",
     "output_type": "stream",
     "text": [
      "Using 51 barcodes\n",
      "Using 1093 genes\n",
      "Recomputing embeddings:  True\n",
      "[embed]: Filtering out 34914 genes based on gene_set param\n",
      "[embed]: Iterating over all possible barcode-gene combinations\n",
      "[embed]: Computing 46104 Embeddings with mode: \"single_gene_barcode\"\n",
      "[embed]: Using 51 barcodes\n",
      "[embed]: Using 904 genes\n"
     ]
    },
    {
     "name": "stderr",
     "output_type": "stream",
     "text": [
      "[embed]: Computing embeddings (# genes done): 100%|███████████████████████████████████| 904/904 [05:29<00:00,  2.75it/s]\n"
     ]
    },
    {
     "name": "stdout",
     "output_type": "stream",
     "text": [
      "Found 38082 embedding files with no target value in ../data/embeddings/batch_1/val_redo2/single_gene_barcode!\n"
     ]
    }
   ],
   "source": [
    "# compute all embeddings for batch 1\n",
    "b1_dataset = CnvDataset(\n",
    "    root=data_root / 'embeddings' / 'batch_1' / 'val_redo2' ,\n",
    "    data_df=b1_df,\n",
    "    fasta_path=genome_fasta,\n",
    "    atac_path=overlap_path,\n",
    "    cnv_path=epiAneufinder_path,\n",
    "    embedding_mode='single_gene_barcode',\n",
    "    force_recompute=True\n",
    ")"
   ]
  },
  {
   "cell_type": "markdown",
   "metadata": {},
   "source": [
    "Just like with precomputed dataset, you can no access any data point by index."
   ]
  },
  {
   "cell_type": "code",
   "execution_count": 20,
   "metadata": {},
   "outputs": [
    {
     "data": {
      "text/plain": [
       "{'embedding': tensor([[0, 1, 0,  ..., 0, 1, 0],\n",
       "         [0, 0, 1,  ..., 0, 0, 0],\n",
       "         [1, 0, 0,  ..., 1, 0, 1],\n",
       "         ...,\n",
       "         [0, 0, 0,  ..., 0, 0, 0],\n",
       "         [0, 0, 0,  ..., 0, 0, 0],\n",
       "         [0, 0, 0,  ..., 0, 0, 0]], dtype=torch.uint8),\n",
       " 'target': 'low'}"
      ]
     },
     "execution_count": 20,
     "metadata": {},
     "output_type": "execute_result"
    }
   ],
   "source": [
    "b1_dataset[0]"
   ]
  },
  {
   "cell_type": "markdown",
   "metadata": {},
   "source": [
    "You'll also get a brief overview of the dataset when printing."
   ]
  },
  {
   "cell_type": "code",
   "execution_count": 21,
   "metadata": {},
   "outputs": [
    {
     "name": "stdout",
     "output_type": "stream",
     "text": [
      "<class 'src.data.dataset.CnvDataset'> with 8022 datapoints\n",
      "                barcode          gene_id  expression_count classification  \\\n",
      "27   GACGTAAAGCATGTTA-1  ENSG00000069424          0.606885            low   \n",
      "69   CCTTAACGTCGTAAAT-1  ENSG00000215788          0.638693            low   \n",
      "82   GCTATCCTCCCTCGCA-1  ENSG00000215788          0.216336            low   \n",
      "87   TACGGTTAGCACAGCC-1  ENSG00000215788          0.569907            low   \n",
      "131  GATTTGCAGCCTGTTC-1  ENSG00000171621          0.346812            low   \n",
      "\n",
      "                                        embedding_path  \n",
      "27   ../data/embeddings/batch_1/val_redo2/single_ge...  \n",
      "69   ../data/embeddings/batch_1/val_redo2/single_ge...  \n",
      "82   ../data/embeddings/batch_1/val_redo2/single_ge...  \n",
      "87   ../data/embeddings/batch_1/val_redo2/single_ge...  \n",
      "131  ../data/embeddings/batch_1/val_redo2/single_ge...  \n"
     ]
    }
   ],
   "source": [
    "print(b1_dataset)"
   ]
  }
 ],
 "metadata": {
  "kernelspec": {
   "display_name": "ssb",
   "language": "python",
   "name": "python3"
  },
  "language_info": {
   "codemirror_mode": {
    "name": "ipython",
    "version": 3
   },
   "file_extension": ".py",
   "mimetype": "text/x-python",
   "name": "python",
   "nbconvert_exporter": "python",
   "pygments_lexer": "ipython3",
   "version": "3.12.9"
  }
 },
 "nbformat": 4,
 "nbformat_minor": 2
}
