{
 "cells": [
  {
   "cell_type": "markdown",
   "metadata": {},
   "source": [
    "# Dataset Tutorial\n",
    "This notebook gives a short tutorial on how to use the pytorch dataset I implemented.\n",
    "You find the code in `src/data/dataset.py` in the `CnvDataset` class. "
   ]
  },
  {
   "cell_type": "markdown",
   "metadata": {},
   "source": [
    "Let's first start by importing some packages we might need"
   ]
  },
  {
   "cell_type": "code",
   "execution_count": 1,
   "metadata": {},
   "outputs": [],
   "source": [
    "import pandas as pd\n",
    "import numpy as np\n",
    "from pathlib import Path\n",
    "\n",
    "# add this to you notebook so it automatically reloads code you changed in a\n",
    "# python file after importing this code\n",
    "%load_ext autoreload\n",
    "%autoreload 2"
   ]
  },
  {
   "cell_type": "markdown",
   "metadata": {},
   "source": [
    "Now we also need to import the `CnvDataset` class.\n",
    "Since the path (relative to the git repository root) to this notebook is `preprocessing/dataset_example.ipynb`, we need to add the parent directory to our system path in order to import software from there.\n",
    "Think of it like this: We need to tell the notebook the relative path to the software folder `src` in order to import software from there."
   ]
  },
  {
   "cell_type": "code",
   "execution_count": 2,
   "metadata": {},
   "outputs": [],
   "source": [
    "import sys\n",
    "sys.path.append('..') # add the parent directory to system path\n",
    "from src.data.dataset import CnvDataset"
   ]
  },
  {
   "cell_type": "markdown",
   "metadata": {},
   "source": [
    "Great :)\n",
    "Now that this is out of the way, let's define some important paths for file we need to work with."
   ]
  },
  {
   "cell_type": "code",
   "execution_count": 3,
   "metadata": {},
   "outputs": [],
   "source": [
    "# directories we will need\n",
    "git_root = Path('..')\n",
    "data_root = git_root / 'data'\n",
    "assert data_root.exists()\n",
    "\n",
    "# dataset split files\n",
    "b1_train_path = data_root / 'splits' / 'batch1_training_filtered.tsv'\n",
    "b1_val_path = data_root / 'splits' / 'batch1_val_filtered.tsv'\n",
    "b1_test_path = data_root / 'splits' / 'batch1_test_filtered.tsv'"
   ]
  },
  {
   "cell_type": "markdown",
   "metadata": {},
   "source": [
    "Alright, now we are almost ready to use the `CnvDataset`.\n",
    "One last thing thats is missing, is the path to the directory that stores the embedding files for the dataset we want to use.\n",
    "All dataset paths follow the same pattern:\n",
    "```\n",
    "data/embeddings/batch_<batch_number>/<dataset_type>/<embedding_mode>\n",
    "```\n",
    "where:\n",
    "* `batch_<batch_number>` is either `batch_1` or `batch_2`\n",
    "* `<dataset_type>` is one of `train`, `val` or `test`\n",
    "* `<embedding_mode>` is one of `single_gene_barcode`, `gene_concat` or `barcode_channel`\n",
    "\n",
    "Please note, that the `<embedding_mode>` will be added automatically.\n",
    "You don't need to add it to the dataset path, just change the `\"embedding_mode\"` parameter for the `CnvDataset` class.\n",
    "Also, please make sure that the directory actually exists.\n",
    "However, the python code will raise an exception if does not find any embedding files.\n",
    "\n",
    "OK. Now let's define the dataset we want to use.\n",
    "In this example I chose the validation set of batch 1."
   ]
  },
  {
   "cell_type": "code",
   "execution_count": 4,
   "metadata": {},
   "outputs": [],
   "source": [
    "dataset_root = data_root / 'embeddings' / 'batch_1' / 'val'"
   ]
  },
  {
   "cell_type": "markdown",
   "metadata": {},
   "source": [
    "Next, we read the validation split data frame using pandas."
   ]
  },
  {
   "cell_type": "code",
   "execution_count": 5,
   "metadata": {},
   "outputs": [],
   "source": [
    "b1_val_df = pd.read_csv(b1_val_path, sep='\\t')"
   ]
  },
  {
   "cell_type": "code",
   "execution_count": 6,
   "metadata": {},
   "outputs": [
    {
     "name": "stdout",
     "output_type": "stream",
     "text": [
      "Using 51 barcodes\n",
      "Using 1093 genes\n"
     ]
    },
    {
     "ename": "KeyError",
     "evalue": "'barcode'",
     "output_type": "error",
     "traceback": [
      "\u001b[0;31m---------------------------------------------------------------------------\u001b[0m",
      "\u001b[0;31mKeyError\u001b[0m                                  Traceback (most recent call last)",
      "\u001b[0;32m/tmp/ipykernel_3543831/2276739975.py\u001b[0m in \u001b[0;36m?\u001b[0;34m()\u001b[0m\n\u001b[1;32m      1\u001b[0m \u001b[0;31m# compute all embeddings for batch 1\u001b[0m\u001b[0;34m\u001b[0m\u001b[0;34m\u001b[0m\u001b[0m\n\u001b[0;32m----> 2\u001b[0;31m b1_val_dataset = CnvDataset(\n\u001b[0m\u001b[1;32m      3\u001b[0m     \u001b[0mroot\u001b[0m\u001b[0;34m=\u001b[0m\u001b[0mdataset_root\u001b[0m\u001b[0;34m,\u001b[0m\u001b[0;34m\u001b[0m\u001b[0;34m\u001b[0m\u001b[0m\n\u001b[1;32m      4\u001b[0m     \u001b[0mdata_df\u001b[0m\u001b[0;34m=\u001b[0m\u001b[0mb1_val_df\u001b[0m\u001b[0;34m,\u001b[0m\u001b[0;34m\u001b[0m\u001b[0;34m\u001b[0m\u001b[0m\n\u001b[1;32m      5\u001b[0m     \u001b[0membedding_mode\u001b[0m\u001b[0;34m=\u001b[0m\u001b[0;34m'single_gene_barcode'\u001b[0m \u001b[0;31m# if you want a different embedding mode, change the parameter here\u001b[0m\u001b[0;34m\u001b[0m\u001b[0;34m\u001b[0m\u001b[0m\n",
      "\u001b[0;32m~/cmscb8/preprocessing/../src/data/dataset.py\u001b[0m in \u001b[0;36m?\u001b[0;34m(self, root, data_df, force_recompute, embedding_mode, file_format, use_gzip, verbose, dtype, *args, **kwargs)\u001b[0m\n\u001b[1;32m    146\u001b[0m             \u001b[0;34m}\u001b[0m\u001b[0;34m)\u001b[0m\u001b[0;34m\u001b[0m\u001b[0;34m\u001b[0m\u001b[0m\n\u001b[1;32m    147\u001b[0m             \u001b[0memb_on_disk_df\u001b[0m\u001b[0;34m[\u001b[0m\u001b[0;34m'embedding_path'\u001b[0m\u001b[0;34m]\u001b[0m \u001b[0;34m=\u001b[0m \u001b[0mfile_list\u001b[0m\u001b[0;34m\u001b[0m\u001b[0;34m\u001b[0m\u001b[0m\n\u001b[1;32m    148\u001b[0m \u001b[0;34m\u001b[0m\u001b[0m\n\u001b[1;32m    149\u001b[0m             \u001b[0;31m# merge data\u001b[0m\u001b[0;34m\u001b[0m\u001b[0;34m\u001b[0m\u001b[0m\n\u001b[0;32m--> 150\u001b[0;31m             merge_df = merge(\n\u001b[0m\u001b[1;32m    151\u001b[0m                 \u001b[0mself\u001b[0m\u001b[0;34m.\u001b[0m\u001b[0mdata_df\u001b[0m\u001b[0;34m,\u001b[0m\u001b[0;34m\u001b[0m\u001b[0;34m\u001b[0m\u001b[0m\n\u001b[1;32m    152\u001b[0m                 \u001b[0memb_on_disk_df\u001b[0m\u001b[0;34m,\u001b[0m\u001b[0;34m\u001b[0m\u001b[0;34m\u001b[0m\u001b[0m\n\u001b[1;32m    153\u001b[0m                 \u001b[0mhow\u001b[0m\u001b[0;34m=\u001b[0m\u001b[0;34m'outer'\u001b[0m\u001b[0;34m,\u001b[0m\u001b[0;34m\u001b[0m\u001b[0;34m\u001b[0m\u001b[0m\n",
      "\u001b[0;32m/vol/storage/shared/miniforge3/envs/ssb/lib/python3.12/site-packages/pandas/core/reshape/merge.py\u001b[0m in \u001b[0;36m?\u001b[0;34m(left, right, how, on, left_on, right_on, left_index, right_index, sort, suffixes, copy, indicator, validate)\u001b[0m\n\u001b[1;32m    166\u001b[0m             \u001b[0mvalidate\u001b[0m\u001b[0;34m=\u001b[0m\u001b[0mvalidate\u001b[0m\u001b[0;34m,\u001b[0m\u001b[0;34m\u001b[0m\u001b[0;34m\u001b[0m\u001b[0m\n\u001b[1;32m    167\u001b[0m             \u001b[0mcopy\u001b[0m\u001b[0;34m=\u001b[0m\u001b[0mcopy\u001b[0m\u001b[0;34m,\u001b[0m\u001b[0;34m\u001b[0m\u001b[0;34m\u001b[0m\u001b[0m\n\u001b[1;32m    168\u001b[0m         \u001b[0;34m)\u001b[0m\u001b[0;34m\u001b[0m\u001b[0;34m\u001b[0m\u001b[0m\n\u001b[1;32m    169\u001b[0m     \u001b[0;32melse\u001b[0m\u001b[0;34m:\u001b[0m\u001b[0;34m\u001b[0m\u001b[0;34m\u001b[0m\u001b[0m\n\u001b[0;32m--> 170\u001b[0;31m         op = _MergeOperation(\n\u001b[0m\u001b[1;32m    171\u001b[0m             \u001b[0mleft_df\u001b[0m\u001b[0;34m,\u001b[0m\u001b[0;34m\u001b[0m\u001b[0;34m\u001b[0m\u001b[0m\n\u001b[1;32m    172\u001b[0m             \u001b[0mright_df\u001b[0m\u001b[0;34m,\u001b[0m\u001b[0;34m\u001b[0m\u001b[0;34m\u001b[0m\u001b[0m\n\u001b[1;32m    173\u001b[0m             \u001b[0mhow\u001b[0m\u001b[0;34m=\u001b[0m\u001b[0mhow\u001b[0m\u001b[0;34m,\u001b[0m\u001b[0;34m\u001b[0m\u001b[0;34m\u001b[0m\u001b[0m\n",
      "\u001b[0;32m/vol/storage/shared/miniforge3/envs/ssb/lib/python3.12/site-packages/pandas/core/reshape/merge.py\u001b[0m in \u001b[0;36m?\u001b[0;34m(self, left, right, how, on, left_on, right_on, left_index, right_index, sort, suffixes, indicator, validate)\u001b[0m\n\u001b[1;32m    790\u001b[0m             \u001b[0mself\u001b[0m\u001b[0;34m.\u001b[0m\u001b[0mright_join_keys\u001b[0m\u001b[0;34m,\u001b[0m\u001b[0;34m\u001b[0m\u001b[0;34m\u001b[0m\u001b[0m\n\u001b[1;32m    791\u001b[0m             \u001b[0mself\u001b[0m\u001b[0;34m.\u001b[0m\u001b[0mjoin_names\u001b[0m\u001b[0;34m,\u001b[0m\u001b[0;34m\u001b[0m\u001b[0;34m\u001b[0m\u001b[0m\n\u001b[1;32m    792\u001b[0m             \u001b[0mleft_drop\u001b[0m\u001b[0;34m,\u001b[0m\u001b[0;34m\u001b[0m\u001b[0;34m\u001b[0m\u001b[0m\n\u001b[1;32m    793\u001b[0m             \u001b[0mright_drop\u001b[0m\u001b[0;34m,\u001b[0m\u001b[0;34m\u001b[0m\u001b[0;34m\u001b[0m\u001b[0m\n\u001b[0;32m--> 794\u001b[0;31m         \u001b[0;34m)\u001b[0m \u001b[0;34m=\u001b[0m \u001b[0mself\u001b[0m\u001b[0;34m.\u001b[0m\u001b[0m_get_merge_keys\u001b[0m\u001b[0;34m(\u001b[0m\u001b[0;34m)\u001b[0m\u001b[0;34m\u001b[0m\u001b[0;34m\u001b[0m\u001b[0m\n\u001b[0m\u001b[1;32m    795\u001b[0m \u001b[0;34m\u001b[0m\u001b[0m\n\u001b[1;32m    796\u001b[0m         \u001b[0;32mif\u001b[0m \u001b[0mleft_drop\u001b[0m\u001b[0;34m:\u001b[0m\u001b[0;34m\u001b[0m\u001b[0;34m\u001b[0m\u001b[0m\n\u001b[1;32m    797\u001b[0m             \u001b[0mself\u001b[0m\u001b[0;34m.\u001b[0m\u001b[0mleft\u001b[0m \u001b[0;34m=\u001b[0m \u001b[0mself\u001b[0m\u001b[0;34m.\u001b[0m\u001b[0mleft\u001b[0m\u001b[0;34m.\u001b[0m\u001b[0m_drop_labels_or_levels\u001b[0m\u001b[0;34m(\u001b[0m\u001b[0mleft_drop\u001b[0m\u001b[0;34m)\u001b[0m\u001b[0;34m\u001b[0m\u001b[0;34m\u001b[0m\u001b[0m\n",
      "\u001b[0;32m/vol/storage/shared/miniforge3/envs/ssb/lib/python3.12/site-packages/pandas/core/reshape/merge.py\u001b[0m in \u001b[0;36m?\u001b[0;34m(self)\u001b[0m\n\u001b[1;32m   1293\u001b[0m                         \u001b[0;31m# Then we're either Hashable or a wrong-length arraylike,\u001b[0m\u001b[0;34m\u001b[0m\u001b[0;34m\u001b[0m\u001b[0m\n\u001b[1;32m   1294\u001b[0m                         \u001b[0;31m#  the latter of which will raise\u001b[0m\u001b[0;34m\u001b[0m\u001b[0;34m\u001b[0m\u001b[0m\n\u001b[1;32m   1295\u001b[0m                         \u001b[0mrk\u001b[0m \u001b[0;34m=\u001b[0m \u001b[0mcast\u001b[0m\u001b[0;34m(\u001b[0m\u001b[0mHashable\u001b[0m\u001b[0;34m,\u001b[0m \u001b[0mrk\u001b[0m\u001b[0;34m)\u001b[0m\u001b[0;34m\u001b[0m\u001b[0;34m\u001b[0m\u001b[0m\n\u001b[1;32m   1296\u001b[0m                         \u001b[0;32mif\u001b[0m \u001b[0mrk\u001b[0m \u001b[0;32mis\u001b[0m \u001b[0;32mnot\u001b[0m \u001b[0;32mNone\u001b[0m\u001b[0;34m:\u001b[0m\u001b[0;34m\u001b[0m\u001b[0;34m\u001b[0m\u001b[0m\n\u001b[0;32m-> 1297\u001b[0;31m                             \u001b[0mright_keys\u001b[0m\u001b[0;34m.\u001b[0m\u001b[0mappend\u001b[0m\u001b[0;34m(\u001b[0m\u001b[0mright\u001b[0m\u001b[0;34m.\u001b[0m\u001b[0m_get_label_or_level_values\u001b[0m\u001b[0;34m(\u001b[0m\u001b[0mrk\u001b[0m\u001b[0;34m)\u001b[0m\u001b[0;34m)\u001b[0m\u001b[0;34m\u001b[0m\u001b[0;34m\u001b[0m\u001b[0m\n\u001b[0m\u001b[1;32m   1298\u001b[0m                         \u001b[0;32melse\u001b[0m\u001b[0;34m:\u001b[0m\u001b[0;34m\u001b[0m\u001b[0;34m\u001b[0m\u001b[0m\n\u001b[1;32m   1299\u001b[0m                             \u001b[0;31m# work-around for merge_asof(right_index=True)\u001b[0m\u001b[0;34m\u001b[0m\u001b[0;34m\u001b[0m\u001b[0m\n\u001b[1;32m   1300\u001b[0m                             \u001b[0mright_keys\u001b[0m\u001b[0;34m.\u001b[0m\u001b[0mappend\u001b[0m\u001b[0;34m(\u001b[0m\u001b[0mright\u001b[0m\u001b[0;34m.\u001b[0m\u001b[0mindex\u001b[0m\u001b[0;34m.\u001b[0m\u001b[0m_values\u001b[0m\u001b[0;34m)\u001b[0m\u001b[0;34m\u001b[0m\u001b[0;34m\u001b[0m\u001b[0m\n",
      "\u001b[0;32m/vol/storage/shared/miniforge3/envs/ssb/lib/python3.12/site-packages/pandas/core/generic.py\u001b[0m in \u001b[0;36m?\u001b[0;34m(self, key, axis)\u001b[0m\n\u001b[1;32m   1907\u001b[0m             \u001b[0mvalues\u001b[0m \u001b[0;34m=\u001b[0m \u001b[0mself\u001b[0m\u001b[0;34m.\u001b[0m\u001b[0mxs\u001b[0m\u001b[0;34m(\u001b[0m\u001b[0mkey\u001b[0m\u001b[0;34m,\u001b[0m \u001b[0maxis\u001b[0m\u001b[0;34m=\u001b[0m\u001b[0mother_axes\u001b[0m\u001b[0;34m[\u001b[0m\u001b[0;36m0\u001b[0m\u001b[0;34m]\u001b[0m\u001b[0;34m)\u001b[0m\u001b[0;34m.\u001b[0m\u001b[0m_values\u001b[0m\u001b[0;34m\u001b[0m\u001b[0;34m\u001b[0m\u001b[0m\n\u001b[1;32m   1908\u001b[0m         \u001b[0;32melif\u001b[0m \u001b[0mself\u001b[0m\u001b[0;34m.\u001b[0m\u001b[0m_is_level_reference\u001b[0m\u001b[0;34m(\u001b[0m\u001b[0mkey\u001b[0m\u001b[0;34m,\u001b[0m \u001b[0maxis\u001b[0m\u001b[0;34m=\u001b[0m\u001b[0maxis\u001b[0m\u001b[0;34m)\u001b[0m\u001b[0;34m:\u001b[0m\u001b[0;34m\u001b[0m\u001b[0;34m\u001b[0m\u001b[0m\n\u001b[1;32m   1909\u001b[0m             \u001b[0mvalues\u001b[0m \u001b[0;34m=\u001b[0m \u001b[0mself\u001b[0m\u001b[0;34m.\u001b[0m\u001b[0maxes\u001b[0m\u001b[0;34m[\u001b[0m\u001b[0maxis\u001b[0m\u001b[0;34m]\u001b[0m\u001b[0;34m.\u001b[0m\u001b[0mget_level_values\u001b[0m\u001b[0;34m(\u001b[0m\u001b[0mkey\u001b[0m\u001b[0;34m)\u001b[0m\u001b[0;34m.\u001b[0m\u001b[0m_values\u001b[0m\u001b[0;34m\u001b[0m\u001b[0;34m\u001b[0m\u001b[0m\n\u001b[1;32m   1910\u001b[0m         \u001b[0;32melse\u001b[0m\u001b[0;34m:\u001b[0m\u001b[0;34m\u001b[0m\u001b[0;34m\u001b[0m\u001b[0m\n\u001b[0;32m-> 1911\u001b[0;31m             \u001b[0;32mraise\u001b[0m \u001b[0mKeyError\u001b[0m\u001b[0;34m(\u001b[0m\u001b[0mkey\u001b[0m\u001b[0;34m)\u001b[0m\u001b[0;34m\u001b[0m\u001b[0;34m\u001b[0m\u001b[0m\n\u001b[0m\u001b[1;32m   1912\u001b[0m \u001b[0;34m\u001b[0m\u001b[0m\n\u001b[1;32m   1913\u001b[0m         \u001b[0;31m# Check for duplicates\u001b[0m\u001b[0;34m\u001b[0m\u001b[0;34m\u001b[0m\u001b[0m\n\u001b[1;32m   1914\u001b[0m         \u001b[0;32mif\u001b[0m \u001b[0mvalues\u001b[0m\u001b[0;34m.\u001b[0m\u001b[0mndim\u001b[0m \u001b[0;34m>\u001b[0m \u001b[0;36m1\u001b[0m\u001b[0;34m:\u001b[0m\u001b[0;34m\u001b[0m\u001b[0;34m\u001b[0m\u001b[0m\n",
      "\u001b[0;31mKeyError\u001b[0m: 'barcode'"
     ]
    }
   ],
   "source": [
    "# compute all embeddings for batch 1\n",
    "b1_val_dataset = CnvDataset(\n",
    "    root=dataset_root,\n",
    "    data_df=b1_val_df,\n",
    "    embedding_mode='single_gene_barcode' # if you want a different embedding mode, change the parameter here\n",
    ")"
   ]
  },
  {
   "cell_type": "markdown",
   "metadata": {},
   "source": [
    "Now you should be able to get the number of data points and the first rows of the data frame by using the string representaiton of the dataset variable."
   ]
  },
  {
   "cell_type": "code",
   "execution_count": null,
   "metadata": {},
   "outputs": [],
   "source": [
    "str(b1_val_dataset)"
   ]
  },
  {
   "cell_type": "markdown",
   "metadata": {},
   "source": [
    "Also we should be able to get the embedding and the classification label from the dataset using an index (just like a list)."
   ]
  },
  {
   "cell_type": "code",
   "execution_count": null,
   "metadata": {},
   "outputs": [],
   "source": [
    "b1_val_dataset[0]"
   ]
  },
  {
   "cell_type": "markdown",
   "metadata": {},
   "source": [
    "## Computing Embeddings from scratch\n",
    "This section covers (re-)computing embeddings using the `CnvDataset`.\n",
    "For this we need a little bit more information than before.\n",
    "Like previouly, let's start by defining some paths to relevant files and directories. "
   ]
  },
  {
   "cell_type": "code",
   "execution_count": null,
   "metadata": {},
   "outputs": [],
   "source": [
    "# directories we will need\n",
    "out_root = git_root / 'out'\n",
    "\n",
    "# files we will need\n",
    "genome_fasta = data_root / 'reference' / 'GRCh38.d1.vd1.fa'\n",
    "assert genome_fasta.exists()\n",
    "overlap_path = data_root / 'overlap_genes_peaks.tsv'\n",
    "assert overlap_path.exists()\n",
    "epiAneufinder_path = out_root / 'epiAneufinder' / 'epiAneuFinder_results.tsv'\n",
    "assert epiAneufinder_path.exists()"
   ]
  },
  {
   "cell_type": "code",
   "execution_count": null,
   "metadata": {},
   "outputs": [],
   "source": [
    "b1_df = pd.read_csv(b1_val_path, sep='\\t')"
   ]
  },
  {
   "cell_type": "code",
   "execution_count": null,
   "metadata": {},
   "outputs": [
    {
     "name": "stdout",
     "output_type": "stream",
     "text": [
      "Using 368 barcodes\n",
      "Using 1451 genes\n",
      "Recomputing embeddings:  True\n"
     ]
    },
    {
     "name": "stderr",
     "output_type": "stream",
     "text": [
      "/vol/storage/shared/cmscb8/preprocessing/../src/data/embedding.py:386: UserWarning: [embed]: No CNV data for CAACAGGCATGGCCCA-1,TCCCTCACATTAGCGC-1,CACAGGCTCTGGCAAT-1,GTCTTGCTCAATGAGG-1,GCCTTAACATTGTGCA-1,GGCGGTAAGTGAACAG-1,GAGCCACTCTTTGAGA-1,ACCGGTTCAGTAATAG-1,GGTACCGGTTAAGCCA-1,GTGGATGCATTTAAGC-1,TTATCCTAGAACCTAC-1,ACCAGGCTCGATATTG-1,ACTTATGAGGATCACT-1,AACAAGCCACGCAACT-1,TCGTTATTCATCGTTT-1,CTAGCTTGTTGTTGGA-1,ACCATTAAGGCAGGTG-1,GCAAACCGTGCCGCAA-1,TGGAACAAGGATTGAG-1,TTAGTCAAGTAAGTGG-1,GGACATAAGGGACCTC-1,GTTGGCCAGATGGACA-1,AATCTCAAGGGTCCAC-1,CAATAGCTCGTAACGT-1,ATGCAGGCATACCCGG-1,GTGAGCGAGCGTGCGT-1,AACTGTTCATAAAGCA-1,TAGGGTTTCACGTTAA-1,GTAGCGCTCGATTTAG-1,TCAAGGTTCAAACTCA-1,CCCAAATAGGGCTAAA-1,CTCACAACAGTTAAAG-1,ACAGGCTGTCCTCCAA-1,GTTCGCGCATCTAGCA-1,CATTTGTTCACTAATG-1,GCTTTATTCTTTGAGA-1,AATTACCCATTAGGTT-1,GGACAGCCAATCCTAG-1,TACCCGGCACAACAGG-1,GTTTGTAAGGTCCTGA-1,GAGGTACAGCGGATAA-1,CCTATAGCATTAGGTT-1,GCCTAATAGTTAGTGC-1,AAGGTATAGGCATGAA-1,GTTCTCATCGTTATAG-1,AATGAAGGTAATCCCT-1,GGTGTGACACTGACCG-1,CCGCAAATCGATTCTT-1,CCGCACACAACTAACT-1,TCATCCATCCTAGTTT-1,CCAGGATGTGTTGCAA-1,CGTGCTGCAAACCTAT-1,GTTGCGGGTTTGCGCC-1,CCCGTTGTCGAAGTGA-1,TGTAAGTGTTCATCTA-1,TCATCCATCAGTTCCC-1,GGTTATATCATTCATC-1,ATTTGCAAGGAGGTTA-1,TTTAACCTCGGTTCCT-1,AATTTCCTCCTTAGGG-1,CAACTAATCAGGCCTA-1,CCTATTGTCAAGGACA-1,ATTACTGAGTAATCCA-1,GGGAGTAGTATTTGGG-1,ACAGGATCAGTTTGTG-1,TCGTGCTTCAGAAACG-1,TGTGAAACACCTAAGC-1,ATCCTTAGTGTCCTGC-1,AGGTTAACATGATTGT-1,ATAGATGCATCAATCG-1,GTGTGTTAGCCTGAGC-1,GTCCAGGGTATTGAGT-1,TCACTGACAAAGCTAA-1,GTAAGCGCACACTAAT-1,CATTCATTCACACAGT-1,TATGAAGCATAATGAG-1,GTCGAAGCAGATTCAT-1,TTGGCTGAGGAGGGTT-1,GTACTTAAGCCGCTAA-1,CGCTAATAGTCCTTCA-1,GCGAGTGAGGGCCATC-1,TGTCAATCATAAGGAC-1,CCTAAGCCACGGTACT-1,TATCGCGAGGTGTCCA-1,GATTCAGGTATTCGTC-1,GCTAAGAAGGCTTAAC-1,GACTCACCAAATGCCC-1,CTGGTTACAAATACCT-1,TCCATATTCCTAGTTT-1,TCATTTGGTAATGGCC-1,TTATCCGTCCGGTTAG-1,GGTTGACGTGGTGAGA-1,ATCCGTGAGCTGAGGG-1,AAGTTACGTGTCCAAA-1,TGTGGCCAGTTGCGTG-1,GTCATCACAGAGGCTA-1,TTGTGTGCAAAGCGGC-1,CGTCCTAGTTAAATGC-1,TGGTTCTGTTTATTCG-1,CGGGCTTAGGATCACT-1,GGACATAAGGACAATG-1,CATTGCGAGGGACCTC-1,GTTGCATAGCATGCAT-1,ATGGTCTAGGTAACGA-1,CACTTTGTCTATCGCC-1,CACTTTGTCAAGCTAC-1,GCTGACCAGGCGCATC-1,AAGGTGCAGTTGCGTG-1,CCTGGATCAGCTAATT-1,TAACCTAAGTGTTGTA-1,CCGATGCAGCTAAGTC-1,TGACTCCTCATAGCCG-1,TGAACAACAGGCTACT-1,CAGTATGGTTAGTGAT-1,TTAAGGACACCTAAGC-1,GATTGCAGTTGTCCAT-1,TATATCCTCCTGATTT-1,GCATTGCCACTGACCG-1,TAGCGGCTCCCGTTGT-1,CACAATATCTTGCAGG-1,CCTCAAACACTAAGCC-1,GGTTACTAGGCTGGCT-1,TGGCGGTTCTTGCAAA-1,CGGATTAGTGTGAGAG-1,CAGGATGCACAATACT-1,CATAGACTCGAGGTGG-1,TACTGGCCACATTGCA-1,TACCTCATCCTCCCTC-1,CGCAATAGTATTGGTG-1,CTGGTTTGTAACAGGG-1,GGAGCGATCTCATCAT-1,TACTGACAGTTTGCGG-1,GTATTCAAGGCATTAC-1,GAGTGATCATATTGAC-1,TAGCTAGGTGTGTGGT-1,CCGGTTAAGGTATTGC-1,GGGTCAACAGGCCTTG-1,CGGTGAACATGTCAGC-1,GATGCGACAATAACGA-1,CGGTTCCGTAGTTAAC-1,ACACCTTGTCATGCAA-1,GATTCGCCATTGCAGC-1,CTAGTGAGTTGTAAAC-1,GGCTAGACATCCATCT-1,GCAATCTAGTCACTAA-1,CAACAGGCAGAACCGA-1,TAGGGTTTCAGCTAAC-1,AAGCATGAGTAAGGGC-1,TTTGTGTTCGTTCACC-1,ATGTTCAAGCACTTGG-1,TTACGTTTCGCTAAAC-1,AAACATGCAGGATGGC-1,CTCCTGAGTGCGCAAT-1,AGCCGCTAGTCACCTC-1,GCATGAGCATAATCAC-1,ATGACTCAGCTATATG-1,TTAGGCTAGCGCCTAA-1,TGCTTAAAGAGGAGTC-1,AATCGCCCAGTTAGCC-1,AATCCATCAATAACGA-1,ATCAAGACACAGGGAC-1,ACGCTTGAGAAAGCAT-1,AAGGCCCTCGTGCCTT-1,GTAGGTGCAGCTAACC-1,GATAAAGGTCCTAAGA-1,AATTGGACAATAGTCT-1,GTGCTTACATTGTGTG-1,ATGCCTGAGCGCATTG-1,CCAGGAACATCACTTC-1,TATTAGGTCTAGCGTG-1,GAGCTTGTCAGGATGA-1,TCGACAAGTTGCGGAT-1,CCCAATTGTACTTCAC-1,GATGAGGGTTGGTGAC-1,GTTTGTTTCCCTGGTT-1,AATTGACGTGCGCATG-1,ATGTCAATCCTCCCTC-1,ACTCAGTAGTTGTCCC-1,TTGTCCGGTTATGTGG-1,GCCTATTGTAATCACG-1,TGGGCATGTACGCGCA-1,CCACACAAGACAAAGT-1,AAGCATGAGCGGCTGT-1,CGGTAACGTGCTTAGA-1,TAGCGCGGTCTTTGAC-1,CACGCAATCCGGCTAA-1,TACTTGTTCTGTGAGT-1,ACACTAATCCACCTGT-1,CCAATATCAAGGTACG-1,TCCATAAAGGCAATAG-1,CATTCCTCAGCATGTC-1,GATTCGCCAATACTGT-1,GCCACAATCTTGATGA-1,TGGCTAAGTATTACCC-1,TCACCGGCAGATTCAT-1,AATAGAGGTGCATTTC-1,GCAAGTGCAACCTGGT-1,CAAACGCGTCACCAAA-1,GGCGTTATCACAGCGC-1,GTAGGCGAGGTGAAGC-1,CGTTGCGCAGCTAACC-1,GGGTCAACAATTTGGT-1,ATGTGAGAGTCACTCC-1,CGTGACATCCTTGTTG-1,TTAACTGAGACAACAG-1,CTATAACCAGAGGGAG-1,GCTTTACGTAAGCTCA-1,CCGGTTAAGCTGTACG-1,TTTGGCTGTTACAACG-1,GCTTTATTCGGCCAGT-1,TTTGTTGGTACCAGGT-1,GGCTAGTGTTTATTCG-1,AGTCCTGAGGATTTGC-1,GTAGGTGCACATACTG-1,GTCCATTGTAGGTTTG-1,ATTACTGAGCCTGTTC-1,CATCAATCATTCCTCG-1,GGTGTTGTCATTGTCT-1,ACACGGACAAATACCT-1,AAGCCACGTCCTTTAA-1,TGTCAGTAGCCGCAGT-1,TCCTTGCAGACACTTA-1,CGCCTGTGTACGCGCA-1,CCTATATTCATAACTG-1,ACTGAAACAAACGCGA-1,AGTCAATGTGTCCTGC-1,TGCACACCAGTCTAGC-1,TTTGACCGTGTTGCTT-1,ACGACTTAGGACACTT-1,ACGTCAAGTAGCAGCT-1,TAACCGGTCTACCTGC-1,ATTAGCTCATCGCTCC-1,ACAACAGAGCATGACT-1,GTTACTCGTTCGCTCA-1,GAACCTTAGTTGTCAA-1,TCAAGGTTCGCGCTAA-1,CACCGGTAGGTCCAAT-1,ACCGGCTAGCTATTGA-1,ACTTTGTTCACGTTAA-1,TTCAACCGTCCTAATC-1,TATCACAAGCTGCACA-1,TGTGGCCAGAATCGCT-1,ATTGTGATCAGGTTTA-1,GCGATATTCTAGCGTG-1,GATTAGTGTTGGCGTG-1,TCCTTAGTCGGTACGC-1,GTTTAACCAAGCTAAA-1,TAGGAACCATTAGGTT-1,GCGGGTTTCCTGTTCA-1,AATCATCCAGGAACTG-1,GCTTACCTCAAACACC-1,GAATTTGTCTAGCGAT-1,CTGTACCTCACCGGTA-1,AGAGGATGTTGCATCT-1,TGTTATGAGGGTCCAC-1,GTGGACACAGGAACCA-1,GCCAATAGTGTTAAAC-1,TACGGATTCTCGCCTG-1,AGCTTGGTCGTTAAGC-1,GTCATGCCATGTGGGA-1,TAGGTTGGTTGCTTCG-1,ATAGATGCAATTAAGG-1,AATTACCCATAAAGCA-1,GGAGGTTAGGCTTAGT-1,CATATCGCAGCTAATT-1,GCGTGCTAGTTTAACG-1,CGGTTTCTCGCTATAA-1,CGTTTGGAGGGACTAA-1,TTGTCCATCGCTAAAC-1,TCAGGTTAGTTTGCGG-1,ACTCCTCAGACCATAC-1,TTGCCCGTCCTTCGTA-1,TCTAGCCTCTTGTCTG-1,AGAGAAGCAGAAATGC-1,CATGGATTCCAAATCA-1,TTTAACGAGGCGCTTA-1,ACCCTGTTCCCGTTTA-1,GCTGCAATCCTGGTCT-1,ATCTATGAGGTGAAAT-1,GAAAGCCAGCTCAAAC-1,AAGTTACGTTACTTGC-1,AGCTTCCTCATTGCGG-1,CTAATCGCAATTTGGT-1,CTATGTTTCCAGGTCA-1,AAGCTTGGTGAGCAAG-1,ATGTGAGAGGAAACTG-1,GAACCGCTCACGAATC-1,GTAGGATCATTGCAGC-1,ACTTGAATCGAGGAAC-1,ATGGCCCAGTAGGCGG-1,TATGTGATCAAGTGTC-1,GCTGAGGAGGGCCACT-1,AATCTCAAGGAGTCTT-1,ACCAGGCTCACATTGA-1,TTCTTAGGTAATCGGC-1,CTCATTTAGCAGGTTT-1,TAAACAGCATCTAGCA-1,GGCTTCAAGGGATGCG-1,CATAATGTCTGGCATG-1,ACGGTTAGTGATGAAA-1,GACTTGGTCTGGTCCT-1,ACTAACTCAGTTAAAG-1,CTCACTCAGGGACCTC-1,TTTCAGTTCCTTAAGA-1,CAGCTAAGTAACAGGG-1,AGCTTTAAGCATGTTA-1,GTCCAAGTCCCGAACA-1,TTGTCCCAGGACTTAC-1,TTTGCATTCACTCAAA-1,AGCACTAGTCAATACG-1,GATCGAGCATCATGGC-1,CGCAATCCAGGCTAAG-1,GTACTGGTCATGTGGT-1,GACTATTCATATAACC-1,AGGTCCGGTTACGCGG-1,AGCGCCTAGGACGTAA-1,GCCTACTTCAAGCGCC-1,CAATCTAAGGGACGCA-1,CTAGTAATCCTGGTGA-1\n"
     ]
    },
    {
     "name": "stdout",
     "output_type": "stream",
     "text": [
      "[embed]: Iterating over all possible barcode-gene combinations\n",
      "[embed]: Computing Embeddings with mode: \"single_gene_barcode\"\n",
      "[embed]: Using 49 barcodes\n",
      "[embed]:Using 1153 genes\n"
     ]
    },
    {
     "name": "stderr",
     "output_type": "stream",
     "text": [
      "[embed]: Computing embeddings:   2%|▉                                            | 1153/56497 [06:10<4:56:35,  3.11it/s]\n"
     ]
    }
   ],
   "source": [
    "# compute all embeddings for batch 1\n",
    "b1_dataset = CnvDataset(\n",
    "    root=data_root / 'embeddings' / 'batch_1' / 'validation' ,\n",
    "    data_df=b1_df,\n",
    "    fasta_path=genome_fasta,\n",
    "    atac_path=overlap_path,\n",
    "    cnv_path=epiAneufinder_path,\n",
    "    embedding_mode='single_gene_barcode'\n",
    ")"
   ]
  },
  {
   "cell_type": "code",
   "execution_count": null,
   "metadata": {},
   "outputs": [
    {
     "name": "stderr",
     "output_type": "stream",
     "text": [
      "[autoreload of src.data.dataset failed: Traceback (most recent call last):\n",
      "  File \"/vol/storage/shared/miniforge3/envs/cmscb/lib/python3.12/site-packages/IPython/extensions/autoreload.py\", line 276, in check\n",
      "    superreload(m, reload, self.old_objects)\n",
      "  File \"/vol/storage/shared/miniforge3/envs/cmscb/lib/python3.12/site-packages/IPython/extensions/autoreload.py\", line 475, in superreload\n",
      "    module = reload(module)\n",
      "             ^^^^^^^^^^^^^^\n",
      "  File \"/vol/storage/shared/miniforge3/envs/cmscb/lib/python3.12/importlib/__init__.py\", line 131, in reload\n",
      "    _bootstrap._exec(spec, module)\n",
      "  File \"<frozen importlib._bootstrap>\", line 866, in _exec\n",
      "  File \"<frozen importlib._bootstrap_external>\", line 999, in exec_module\n",
      "  File \"<frozen importlib._bootstrap>\", line 488, in _call_with_frames_removed\n",
      "  File \"/vol/storage/shared/cmscb8/preprocessing/../src/data/dataset.py\", line 19, in <module>\n",
      "    class CnvDataset(torch.utils.data.Dataset):\n",
      "  File \"/vol/storage/shared/cmscb8/preprocessing/../src/data/dataset.py\", line 178, in CnvDataset\n",
      "    def emb_path_to_ids(self, emb_path: Path) -> Dict[str: str]:\n",
      "                                                 ~~~~^^^^^^^^^^\n",
      "  File \"/vol/storage/shared/miniforge3/envs/cmscb/lib/python3.12/typing.py\", line 398, in inner\n",
      "    return func(*args, **kwds)\n",
      "           ^^^^^^^^^^^^^^^^^^^\n",
      "  File \"/vol/storage/shared/miniforge3/envs/cmscb/lib/python3.12/typing.py\", line 1482, in __getitem__\n",
      "    _check_generic(self, params, self._nparams)\n",
      "TypeError: Too few arguments for typing.Dict; actual 1, expected 2\n",
      "]\n"
     ]
    },
    {
     "data": {
      "text/plain": [
       "<class 'src.data.dataset.CnvDataset'> with 56497 datapoints"
      ]
     },
     "metadata": {},
     "output_type": "display_data"
    }
   ],
   "source": [
    "b1_dataset"
   ]
  },
  {
   "cell_type": "code",
   "execution_count": null,
   "metadata": {},
   "outputs": [
    {
     "data": {
      "text/plain": [
       "533968"
      ]
     },
     "metadata": {},
     "output_type": "display_data"
    }
   ],
   "source": [
    "368 * 1451"
   ]
  },
  {
   "cell_type": "code",
   "execution_count": null,
   "metadata": {},
   "outputs": [
    {
     "data": {
      "text/plain": [
       "56497"
      ]
     },
     "metadata": {},
     "output_type": "display_data"
    }
   ],
   "source": [
    "49 * 1153"
   ]
  },
  {
   "cell_type": "code",
   "execution_count": null,
   "metadata": {},
   "outputs": [
    {
     "data": {
      "text/html": [
       "<div>\n",
       "<style scoped>\n",
       "    .dataframe tbody tr th:only-of-type {\n",
       "        vertical-align: middle;\n",
       "    }\n",
       "\n",
       "    .dataframe tbody tr th {\n",
       "        vertical-align: top;\n",
       "    }\n",
       "\n",
       "    .dataframe thead th {\n",
       "        text-align: right;\n",
       "    }\n",
       "</style>\n",
       "<table border=\"1\" class=\"dataframe\">\n",
       "  <thead>\n",
       "    <tr style=\"text-align: right;\">\n",
       "      <th></th>\n",
       "      <th>barcode</th>\n",
       "      <th>gene_id</th>\n",
       "      <th>expression_count</th>\n",
       "      <th>classification</th>\n",
       "      <th>embedding_path</th>\n",
       "    </tr>\n",
       "  </thead>\n",
       "  <tbody>\n",
       "    <tr>\n",
       "      <th>0</th>\n",
       "      <td>AAACATGCAGGATGGC-1</td>\n",
       "      <td>ENSG00000084070</td>\n",
       "      <td>0.371921</td>\n",
       "      <td>low</td>\n",
       "      <td>../data/embeddings/batch_1/val/single_gene_bar...</td>\n",
       "    </tr>\n",
       "    <tr>\n",
       "      <th>1</th>\n",
       "      <td>AAACATGCAGGATGGC-1</td>\n",
       "      <td>ENSG00000127124</td>\n",
       "      <td>0.642400</td>\n",
       "      <td>low</td>\n",
       "      <td>../data/embeddings/batch_1/val/single_gene_bar...</td>\n",
       "    </tr>\n",
       "    <tr>\n",
       "      <th>2</th>\n",
       "      <td>AAACATGCAGGATGGC-1</td>\n",
       "      <td>ENSG00000269113</td>\n",
       "      <td>1.179453</td>\n",
       "      <td>high</td>\n",
       "      <td>../data/embeddings/batch_1/val/single_gene_bar...</td>\n",
       "    </tr>\n",
       "    <tr>\n",
       "      <th>3</th>\n",
       "      <td>AAACATGCAGGATGGC-1</td>\n",
       "      <td>ENSG00000173406</td>\n",
       "      <td>0.371921</td>\n",
       "      <td>low</td>\n",
       "      <td>../data/embeddings/batch_1/val/single_gene_bar...</td>\n",
       "    </tr>\n",
       "    <tr>\n",
       "      <th>4</th>\n",
       "      <td>AAACATGCAGGATGGC-1</td>\n",
       "      <td>ENSG00000226476</td>\n",
       "      <td>0.371921</td>\n",
       "      <td>low</td>\n",
       "      <td>../data/embeddings/batch_1/val/single_gene_bar...</td>\n",
       "    </tr>\n",
       "    <tr>\n",
       "      <th>...</th>\n",
       "      <td>...</td>\n",
       "      <td>...</td>\n",
       "      <td>...</td>\n",
       "      <td>...</td>\n",
       "      <td>...</td>\n",
       "    </tr>\n",
       "    <tr>\n",
       "      <th>49311</th>\n",
       "      <td>TTTGTTGGTACCAGGT-1</td>\n",
       "      <td>ENSG00000198899</td>\n",
       "      <td>2.295555</td>\n",
       "      <td>high</td>\n",
       "      <td>../data/embeddings/batch_1/val/single_gene_bar...</td>\n",
       "    </tr>\n",
       "    <tr>\n",
       "      <th>49312</th>\n",
       "      <td>TTTGTTGGTACCAGGT-1</td>\n",
       "      <td>ENSG00000198938</td>\n",
       "      <td>1.884219</td>\n",
       "      <td>high</td>\n",
       "      <td>../data/embeddings/batch_1/val/single_gene_bar...</td>\n",
       "    </tr>\n",
       "    <tr>\n",
       "      <th>49313</th>\n",
       "      <td>TTTGTTGGTACCAGGT-1</td>\n",
       "      <td>ENSG00000198840</td>\n",
       "      <td>0.749642</td>\n",
       "      <td>low</td>\n",
       "      <td>../data/embeddings/batch_1/val/single_gene_bar...</td>\n",
       "    </tr>\n",
       "    <tr>\n",
       "      <th>49314</th>\n",
       "      <td>TTTGTTGGTACCAGGT-1</td>\n",
       "      <td>ENSG00000198886</td>\n",
       "      <td>1.698359</td>\n",
       "      <td>high</td>\n",
       "      <td>../data/embeddings/batch_1/val/single_gene_bar...</td>\n",
       "    </tr>\n",
       "    <tr>\n",
       "      <th>49315</th>\n",
       "      <td>TTTGTTGGTACCAGGT-1</td>\n",
       "      <td>ENSG00000198727</td>\n",
       "      <td>1.173251</td>\n",
       "      <td>high</td>\n",
       "      <td>../data/embeddings/batch_1/val/single_gene_bar...</td>\n",
       "    </tr>\n",
       "  </tbody>\n",
       "</table>\n",
       "<p>49316 rows × 5 columns</p>\n",
       "</div>"
      ],
      "text/plain": [
       "                  barcode          gene_id  expression_count classification  \\\n",
       "0      AAACATGCAGGATGGC-1  ENSG00000084070          0.371921            low   \n",
       "1      AAACATGCAGGATGGC-1  ENSG00000127124          0.642400            low   \n",
       "2      AAACATGCAGGATGGC-1  ENSG00000269113          1.179453           high   \n",
       "3      AAACATGCAGGATGGC-1  ENSG00000173406          0.371921            low   \n",
       "4      AAACATGCAGGATGGC-1  ENSG00000226476          0.371921            low   \n",
       "...                   ...              ...               ...            ...   \n",
       "49311  TTTGTTGGTACCAGGT-1  ENSG00000198899          2.295555           high   \n",
       "49312  TTTGTTGGTACCAGGT-1  ENSG00000198938          1.884219           high   \n",
       "49313  TTTGTTGGTACCAGGT-1  ENSG00000198840          0.749642            low   \n",
       "49314  TTTGTTGGTACCAGGT-1  ENSG00000198886          1.698359           high   \n",
       "49315  TTTGTTGGTACCAGGT-1  ENSG00000198727          1.173251           high   \n",
       "\n",
       "                                          embedding_path  \n",
       "0      ../data/embeddings/batch_1/val/single_gene_bar...  \n",
       "1      ../data/embeddings/batch_1/val/single_gene_bar...  \n",
       "2      ../data/embeddings/batch_1/val/single_gene_bar...  \n",
       "3      ../data/embeddings/batch_1/val/single_gene_bar...  \n",
       "4      ../data/embeddings/batch_1/val/single_gene_bar...  \n",
       "...                                                  ...  \n",
       "49311  ../data/embeddings/batch_1/val/single_gene_bar...  \n",
       "49312  ../data/embeddings/batch_1/val/single_gene_bar...  \n",
       "49313  ../data/embeddings/batch_1/val/single_gene_bar...  \n",
       "49314  ../data/embeddings/batch_1/val/single_gene_bar...  \n",
       "49315  ../data/embeddings/batch_1/val/single_gene_bar...  \n",
       "\n",
       "[49316 rows x 5 columns]"
      ]
     },
     "metadata": {},
     "output_type": "display_data"
    }
   ],
   "source": [
    "b1_df"
   ]
  },
  {
   "cell_type": "code",
   "execution_count": null,
   "metadata": {},
   "outputs": [
    {
     "data": {
      "text/html": [
       "<div>\n",
       "<style scoped>\n",
       "    .dataframe tbody tr th:only-of-type {\n",
       "        vertical-align: middle;\n",
       "    }\n",
       "\n",
       "    .dataframe tbody tr th {\n",
       "        vertical-align: top;\n",
       "    }\n",
       "\n",
       "    .dataframe thead th {\n",
       "        text-align: right;\n",
       "    }\n",
       "</style>\n",
       "<table border=\"1\" class=\"dataframe\">\n",
       "  <thead>\n",
       "    <tr style=\"text-align: right;\">\n",
       "      <th></th>\n",
       "      <th>barcode</th>\n",
       "      <th>gene_id</th>\n",
       "      <th>expression_count</th>\n",
       "      <th>classification</th>\n",
       "      <th>embedding_path</th>\n",
       "    </tr>\n",
       "  </thead>\n",
       "  <tbody>\n",
       "  </tbody>\n",
       "</table>\n",
       "</div>"
      ],
      "text/plain": [
       "Empty DataFrame\n",
       "Columns: [barcode, gene_id, expression_count, classification, embedding_path]\n",
       "Index: []"
      ]
     },
     "metadata": {},
     "output_type": "display_data"
    }
   ],
   "source": [
    "b1_dataset.data_df"
   ]
  },
  {
   "cell_type": "code",
   "execution_count": null,
   "metadata": {},
   "outputs": [
    {
     "data": {
      "text/plain": [
       "[PosixPath('../data/embeddings/batch_1/val/single_gene_barcode/AGCCGCTAGAATGACG-1'),\n",
       " PosixPath('../data/embeddings/batch_1/val/single_gene_barcode/CATTATCTCGCGACAC-1'),\n",
       " PosixPath('../data/embeddings/batch_1/val/single_gene_barcode/CATGAGGCACGGTTTA-1'),\n",
       " PosixPath('../data/embeddings/batch_1/val/single_gene_barcode/GCTAAGTTCGGGCCAT-1'),\n",
       " PosixPath('../data/embeddings/batch_1/val/single_gene_barcode/AGTTGCGTCGATATTG-1'),\n",
       " PosixPath('../data/embeddings/batch_1/val/single_gene_barcode/AATTACCCAGCAAGTG-1'),\n",
       " PosixPath('../data/embeddings/batch_1/val/single_gene_barcode/GGACCGAAGCGATAAG-1'),\n",
       " PosixPath('../data/embeddings/batch_1/val/single_gene_barcode/ACCTACCTCGGCTAGC-1'),\n",
       " PosixPath('../data/embeddings/batch_1/val/single_gene_barcode/TGATGAACAAGGCCAA-1'),\n",
       " PosixPath('../data/embeddings/batch_1/val/single_gene_barcode/TGAACAGAGCACTTGG-1')]"
      ]
     },
     "metadata": {},
     "output_type": "display_data"
    }
   ],
   "source": [
    "[d for d in b1_dataset.root_path.iterdir()][:10]"
   ]
  },
  {
   "cell_type": "code",
   "execution_count": null,
   "metadata": {},
   "outputs": [
    {
     "name": "stdout",
     "output_type": "stream",
     "text": [
      "<class 'src.data.dataset.CnvDataset'> with 0 datapoints\n"
     ]
    }
   ],
   "source": [
    "print(b1_dataset)"
   ]
  },
  {
   "cell_type": "code",
   "execution_count": null,
   "metadata": {},
   "outputs": [
    {
     "data": {
      "text/plain": [
       "PosixPath('../data/embeddings/batch_1/val/single_gene_barcode/AAACATGCAGGATGGC-1/ENSG00000084070.mtx')"
      ]
     },
     "metadata": {},
     "output_type": "display_data"
    }
   ],
   "source": [
    "b1_df.iloc[0]['embedding_path']"
   ]
  }
 ],
 "metadata": {
  "kernelspec": {
   "display_name": "ssb",
   "language": "python",
   "name": "python3"
  },
  "language_info": {
   "codemirror_mode": {
    "name": "ipython",
    "version": 3
   },
   "file_extension": ".py",
   "mimetype": "text/x-python",
   "name": "python",
   "nbconvert_exporter": "python",
   "pygments_lexer": "ipython3",
   "version": "3.12.9"
  }
 },
 "nbformat": 4,
 "nbformat_minor": 2
}
