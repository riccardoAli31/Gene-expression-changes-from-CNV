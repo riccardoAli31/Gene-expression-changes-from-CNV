{
 "cells": [
  {
   "cell_type": "markdown",
   "metadata": {},
   "source": [
    "# Dataset Tutorial\n",
    "This notebook gives a short tutorial on how to use the pytorch dataset I implemented.\n",
    "You find the code in `src/data/dataset.py` in the `CnvDataset` class. "
   ]
  },
  {
   "cell_type": "markdown",
   "metadata": {},
   "source": [
    "Let's first start by importing some packages we might need"
   ]
  },
  {
   "cell_type": "code",
   "execution_count": 44,
   "metadata": {},
   "outputs": [
    {
     "name": "stdout",
     "output_type": "stream",
     "text": [
      "The autoreload extension is already loaded. To reload it, use:\n",
      "  %reload_ext autoreload\n"
     ]
    }
   ],
   "source": [
    "import pandas as pd\n",
    "from pathlib import Path\n",
    "\n",
    "# add this to you notebook so it automatically reloads code you changed in a\n",
    "# python file after importing this code\n",
    "%load_ext autoreload\n",
    "%autoreload 2"
   ]
  },
  {
   "cell_type": "markdown",
   "metadata": {},
   "source": [
    "Now we also need to import the `CnvDataset` class.\n",
    "Since the path (relative to the git repository root) to this notebook is `preprocessing/dataset_example.ipynb`, we need to add the parent directory to our system path in order to import software from there.\n",
    "Think of it like this: We need to tell the notebook the relative path to the software folder `src` in order to import software from there."
   ]
  },
  {
   "cell_type": "code",
   "execution_count": 45,
   "metadata": {},
   "outputs": [],
   "source": [
    "import sys\n",
    "sys.path.append('..') # add the parent directory to system path\n",
    "from src.data.dataset import CnvDataset"
   ]
  },
  {
   "cell_type": "markdown",
   "metadata": {},
   "source": [
    "Great :)\n",
    "Now that this is out of the way, let's define some important paths for files we need to work with."
   ]
  },
  {
   "cell_type": "code",
   "execution_count": 46,
   "metadata": {},
   "outputs": [],
   "source": [
    "# directories we will need\n",
    "git_root = Path('..')\n",
    "data_root = git_root / 'data'\n",
    "assert data_root.exists()\n",
    "\n",
    "# dataset split files\n",
    "b1_train_path = data_root / 'splits' / 'batch1_training_filtered.tsv'\n",
    "b1_val_path = data_root / 'splits' / 'batch1_val_filtered.tsv'\n",
    "b1_test_path = data_root / 'splits' / 'batch1_test_filtered.tsv'"
   ]
  },
  {
   "cell_type": "markdown",
   "metadata": {},
   "source": [
    "Alright, now we are almost ready to use the `CnvDataset`.\n",
    "One last thing thats is missing, is the path to the directory that stores the embedding files for the dataset we want to use.\n",
    "All dataset paths follow the same pattern:\n",
    "```\n",
    "data/embeddings/batch_<batch_number>/<dataset_type>/<embedding_mode>\n",
    "```\n",
    "where:\n",
    "* `batch_<batch_number>` is either `batch_1` or `batch_2`\n",
    "* `<dataset_type>` is one of `train`, `val` or `test`\n",
    "* `<embedding_mode>` is one of `single_gene_barcode`, `gene_concat` or `barcode_channel`\n",
    "\n",
    "Please note, that the `<embedding_mode>` will be added automatically.\n",
    "You don't need to add it to the dataset path, just change the `embedding_mode` parameter for the `CnvDataset` class.\n",
    "Also, please make sure that the directory actually exists.\n",
    "However, the python code will raise an exception if does not find any embedding files.\n",
    "\n",
    "OK. Now let's define the dataset we want to use.\n",
    "In this example I chose the validation set of batch 1."
   ]
  },
  {
   "cell_type": "code",
   "execution_count": 47,
   "metadata": {},
   "outputs": [
    {
     "data": {
      "text/plain": [
       "PosixPath('../data/embeddings/batch_1/validation')"
      ]
     },
     "execution_count": 47,
     "metadata": {},
     "output_type": "execute_result"
    }
   ],
   "source": [
    "dataset_root = data_root / 'embeddings' / 'batch_1' / 'validation'\n",
    "dataset_root"
   ]
  },
  {
   "cell_type": "markdown",
   "metadata": {},
   "source": [
    "Next, we read the validation split data frame using pandas."
   ]
  },
  {
   "cell_type": "code",
   "execution_count": 48,
   "metadata": {},
   "outputs": [
    {
     "data": {
      "text/html": [
       "<div>\n",
       "<style scoped>\n",
       "    .dataframe tbody tr th:only-of-type {\n",
       "        vertical-align: middle;\n",
       "    }\n",
       "\n",
       "    .dataframe tbody tr th {\n",
       "        vertical-align: top;\n",
       "    }\n",
       "\n",
       "    .dataframe thead th {\n",
       "        text-align: right;\n",
       "    }\n",
       "</style>\n",
       "<table border=\"1\" class=\"dataframe\">\n",
       "  <thead>\n",
       "    <tr style=\"text-align: right;\">\n",
       "      <th></th>\n",
       "      <th>barcode</th>\n",
       "      <th>gene_id</th>\n",
       "      <th>expression_count</th>\n",
       "      <th>classification</th>\n",
       "    </tr>\n",
       "  </thead>\n",
       "  <tbody>\n",
       "    <tr>\n",
       "      <th>0</th>\n",
       "      <td>AAAGGTTAGGGTGGAT-1</td>\n",
       "      <td>ENSG00000173372</td>\n",
       "      <td>0.407756</td>\n",
       "      <td>low</td>\n",
       "    </tr>\n",
       "    <tr>\n",
       "      <th>1</th>\n",
       "      <td>AAAGGTTAGGGTGGAT-1</td>\n",
       "      <td>ENSG00000226476</td>\n",
       "      <td>1.103188</td>\n",
       "      <td>high</td>\n",
       "    </tr>\n",
       "    <tr>\n",
       "      <th>2</th>\n",
       "      <td>AAAGGTTAGGGTGGAT-1</td>\n",
       "      <td>ENSG00000231252</td>\n",
       "      <td>1.257665</td>\n",
       "      <td>high</td>\n",
       "    </tr>\n",
       "    <tr>\n",
       "      <th>3</th>\n",
       "      <td>AAAGGTTAGGGTGGAT-1</td>\n",
       "      <td>ENSG00000229956</td>\n",
       "      <td>0.696581</td>\n",
       "      <td>low</td>\n",
       "    </tr>\n",
       "    <tr>\n",
       "      <th>4</th>\n",
       "      <td>AAAGGTTAGGGTGGAT-1</td>\n",
       "      <td>ENSG00000188641</td>\n",
       "      <td>0.407756</td>\n",
       "      <td>low</td>\n",
       "    </tr>\n",
       "    <tr>\n",
       "      <th>...</th>\n",
       "      <td>...</td>\n",
       "      <td>...</td>\n",
       "      <td>...</td>\n",
       "      <td>...</td>\n",
       "    </tr>\n",
       "    <tr>\n",
       "      <th>8949</th>\n",
       "      <td>TTGGCTACATAAGTTC-1</td>\n",
       "      <td>ENSG00000198938</td>\n",
       "      <td>2.065108</td>\n",
       "      <td>high</td>\n",
       "    </tr>\n",
       "    <tr>\n",
       "      <th>8950</th>\n",
       "      <td>TTGGCTACATAAGTTC-1</td>\n",
       "      <td>ENSG00000198840</td>\n",
       "      <td>1.721116</td>\n",
       "      <td>high</td>\n",
       "    </tr>\n",
       "    <tr>\n",
       "      <th>8951</th>\n",
       "      <td>TTGGCTACATAAGTTC-1</td>\n",
       "      <td>ENSG00000198886</td>\n",
       "      <td>2.611877</td>\n",
       "      <td>high</td>\n",
       "    </tr>\n",
       "    <tr>\n",
       "      <th>8952</th>\n",
       "      <td>TTGGCTACATAAGTTC-1</td>\n",
       "      <td>ENSG00000198786</td>\n",
       "      <td>1.907831</td>\n",
       "      <td>high</td>\n",
       "    </tr>\n",
       "    <tr>\n",
       "      <th>8953</th>\n",
       "      <td>TTGGCTACATAAGTTC-1</td>\n",
       "      <td>ENSG00000198727</td>\n",
       "      <td>1.721116</td>\n",
       "      <td>high</td>\n",
       "    </tr>\n",
       "  </tbody>\n",
       "</table>\n",
       "<p>8954 rows × 4 columns</p>\n",
       "</div>"
      ],
      "text/plain": [
       "                 barcode          gene_id  expression_count classification\n",
       "0     AAAGGTTAGGGTGGAT-1  ENSG00000173372          0.407756            low\n",
       "1     AAAGGTTAGGGTGGAT-1  ENSG00000226476          1.103188           high\n",
       "2     AAAGGTTAGGGTGGAT-1  ENSG00000231252          1.257665           high\n",
       "3     AAAGGTTAGGGTGGAT-1  ENSG00000229956          0.696581            low\n",
       "4     AAAGGTTAGGGTGGAT-1  ENSG00000188641          0.407756            low\n",
       "...                  ...              ...               ...            ...\n",
       "8949  TTGGCTACATAAGTTC-1  ENSG00000198938          2.065108           high\n",
       "8950  TTGGCTACATAAGTTC-1  ENSG00000198840          1.721116           high\n",
       "8951  TTGGCTACATAAGTTC-1  ENSG00000198886          2.611877           high\n",
       "8952  TTGGCTACATAAGTTC-1  ENSG00000198786          1.907831           high\n",
       "8953  TTGGCTACATAAGTTC-1  ENSG00000198727          1.721116           high\n",
       "\n",
       "[8954 rows x 4 columns]"
      ]
     },
     "execution_count": 48,
     "metadata": {},
     "output_type": "execute_result"
    }
   ],
   "source": [
    "b1_val_path = data_root / 'splits' / 'batch1_val_filtered.tsv'\n",
    "b1_val_df = pd.read_csv(b1_val_path, sep='\\t')\n",
    "b1_val_df"
   ]
  },
  {
   "cell_type": "code",
   "execution_count": 49,
   "metadata": {},
   "outputs": [
    {
     "name": "stdout",
     "output_type": "stream",
     "text": [
      "Using 51 barcodes\n",
      "Using 1093 genes\n",
      "No embedding files for 988 data points in ../data/embeddings/batch_1/validation/single_gene_barcode!\n"
     ]
    }
   ],
   "source": [
    "b1_val_dataset = CnvDataset(\n",
    "    root=dataset_root,\n",
    "    data_df=b1_val_df\n",
    ")"
   ]
  },
  {
   "cell_type": "markdown",
   "metadata": {},
   "source": [
    "Your output should look something like:\n",
    "```\n",
    "Using 51 barcodes\n",
    "Using 1093 genes\n",
    "No embedding files for 932 data points in ../data/embeddings/batch_1/val/single_gene_barcode!\n",
    "```\n",
    "\n",
    "This means that from the datapoint with target values in the dataset, we are missing 932 embedding files."
   ]
  },
  {
   "cell_type": "markdown",
   "metadata": {},
   "source": [
    "Now you should be able to get the number of data points and the first rows of the data frame by using the string representaiton of the dataset variable."
   ]
  },
  {
   "cell_type": "code",
   "execution_count": 50,
   "metadata": {},
   "outputs": [
    {
     "name": "stdout",
     "output_type": "stream",
     "text": [
      "<class 'src.data.dataset.CnvDataset'> with 7966 datapoints\n",
      "              barcode          gene_id  expression_count classification  \\\n",
      "0  AAAGGTTAGGGTGGAT-1  ENSG00000173372          0.407756            low   \n",
      "1  AAAGGTTAGGGTGGAT-1  ENSG00000226476          1.103188           high   \n",
      "2  AAAGGTTAGGGTGGAT-1  ENSG00000231252          1.257665           high   \n",
      "3  AAAGGTTAGGGTGGAT-1  ENSG00000229956          0.696581            low   \n",
      "4  AAAGGTTAGGGTGGAT-1  ENSG00000188641          0.407756            low   \n",
      "\n",
      "                                      embedding_path  \n",
      "0  ../data/embeddings/batch_1/validation/single_g...  \n",
      "1  ../data/embeddings/batch_1/validation/single_g...  \n",
      "2  ../data/embeddings/batch_1/validation/single_g...  \n",
      "3  ../data/embeddings/batch_1/validation/single_g...  \n",
      "4  ../data/embeddings/batch_1/validation/single_g...  \n"
     ]
    }
   ],
   "source": [
    "print(str(b1_val_dataset))"
   ]
  },
  {
   "cell_type": "markdown",
   "metadata": {},
   "source": [
    "Also we should be able to get the embedding and the classification label from the dataset using an index (just like a list)."
   ]
  },
  {
   "cell_type": "code",
   "execution_count": 8,
   "metadata": {},
   "outputs": [
    {
     "data": {
      "text/plain": [
       "(tensor([[0., 0., 1.,  ..., 1., 0., 1.],\n",
       "         [0., 1., 0.,  ..., 0., 0., 0.],\n",
       "         [1., 0., 0.,  ..., 0., 0., 0.],\n",
       "         ...,\n",
       "         [0., 0., 0.,  ..., 0., 0., 0.],\n",
       "         [0., 0., 0.,  ..., 0., 0., 0.],\n",
       "         [0., 0., 0.,  ..., 0., 0., 0.]]),\n",
       " tensor([0.]))"
      ]
     },
     "execution_count": 8,
     "metadata": {},
     "output_type": "execute_result"
    }
   ],
   "source": [
    "b1_val_dataset[0]"
   ]
  },
  {
   "cell_type": "code",
   "execution_count": 9,
   "metadata": {},
   "outputs": [
    {
     "name": "stdout",
     "output_type": "stream",
     "text": [
      "<class 'torch.Tensor'>\n",
      "<class 'torch.Tensor'>\n"
     ]
    }
   ],
   "source": [
    "embedding, target = b1_val_dataset[0]\n",
    "print(type(embedding))\n",
    "print(type(target))"
   ]
  },
  {
   "cell_type": "markdown",
   "metadata": {},
   "source": [
    "To use the dataset for regression you need to set the `target_type` parameter for the `CnvDataset` class to `'regression'`."
   ]
  },
  {
   "cell_type": "code",
   "execution_count": 10,
   "metadata": {},
   "outputs": [
    {
     "name": "stdout",
     "output_type": "stream",
     "text": [
      "Using 51 barcodes\n",
      "Using 1093 genes\n",
      "No embedding files for 932 data points in ../data/embeddings/batch_1/val/single_gene_barcode!\n"
     ]
    }
   ],
   "source": [
    "b1_val_dataset = CnvDataset(\n",
    "    root=dataset_root,\n",
    "    data_df=b1_val_df,\n",
    "    target_type='regression'\n",
    ")"
   ]
  },
  {
   "cell_type": "code",
   "execution_count": 51,
   "metadata": {},
   "outputs": [
    {
     "data": {
      "text/plain": [
       "(tensor([[0., 0., 0.,  ..., 1., 1., 1.],\n",
       "         [0., 1., 0.,  ..., 1., 1., 1.],\n",
       "         [0., 0., 0.,  ..., 1., 1., 1.],\n",
       "         ...,\n",
       "         [0., 0., 0.,  ..., 0., 0., 0.],\n",
       "         [0., 0., 0.,  ..., 0., 0., 0.],\n",
       "         [0., 0., 0.,  ..., 0., 0., 0.]]),\n",
       " tensor([0.]))"
      ]
     },
     "execution_count": 51,
     "metadata": {},
     "output_type": "execute_result"
    }
   ],
   "source": [
    "b1_val_dataset[0]"
   ]
  },
  {
   "cell_type": "markdown",
   "metadata": {},
   "source": [
    "Now let's load the training set for a regression use case."
   ]
  },
  {
   "cell_type": "code",
   "execution_count": 22,
   "metadata": {},
   "outputs": [
    {
     "name": "stdout",
     "output_type": "stream",
     "text": [
      "Using 356 barcodes\n",
      "Using 1595 genes\n",
      "No embedding files for 5153 data points in ../data/embeddings/batch_1/training/single_gene_barcode!\n"
     ]
    }
   ],
   "source": [
    "b1_train_path = data_root / 'splits' / 'batch1_training_filtered.tsv'\n",
    "train_set_root = data_root / 'embeddings' / 'batch_1' / 'training'\n",
    "b1_train_df = pd.read_csv(b1_train_path, sep='\\t')\n",
    "b1_train_dataset = CnvDataset(\n",
    "    root=train_set_root,\n",
    "    data_df=b1_train_df,\n",
    "    target_type='regression'\n",
    ")"
   ]
  },
  {
   "cell_type": "code",
   "execution_count": 23,
   "metadata": {},
   "outputs": [
    {
     "data": {
      "text/plain": [
       "<class 'src.data.dataset.CnvDataset'> with 54188 datapoints"
      ]
     },
     "execution_count": 23,
     "metadata": {},
     "output_type": "execute_result"
    }
   ],
   "source": [
    "b1_train_dataset"
   ]
  },
  {
   "cell_type": "code",
   "execution_count": 35,
   "metadata": {},
   "outputs": [
    {
     "data": {
      "text/plain": [
       "(tensor([[1., 0., 0.,  ..., 0., 0., 1.],\n",
       "         [0., 1., 0.,  ..., 0., 1., 0.],\n",
       "         [0., 0., 0.,  ..., 0., 0., 0.],\n",
       "         ...,\n",
       "         [0., 0., 0.,  ..., 0., 0., 0.],\n",
       "         [0., 0., 0.,  ..., 0., 0., 0.],\n",
       "         [0., 0., 0.,  ..., 0., 0., 0.]]),\n",
       " tensor([0.7499]))"
      ]
     },
     "execution_count": 35,
     "metadata": {},
     "output_type": "execute_result"
    }
   ],
   "source": [
    "b1_train_dataset[42]"
   ]
  },
  {
   "cell_type": "markdown",
   "metadata": {},
   "source": [
    "And here a example using the test dataset for classification."
   ]
  },
  {
   "cell_type": "code",
   "execution_count": 14,
   "metadata": {},
   "outputs": [
    {
     "name": "stdout",
     "output_type": "stream",
     "text": [
      "Using 102 barcodes\n",
      "Using 1235 genes\n",
      "No embedding files for 3795 data points in ../data/embeddings/batch_1/test/single_gene_barcode!\n"
     ]
    }
   ],
   "source": [
    "test_set_root = data_root / 'embeddings' / 'batch_1' / 'test'\n",
    "b1_test_df = pd.read_csv(b1_test_path, sep='\\t')\n",
    "b1_test_dataset = CnvDataset(\n",
    "    root=test_set_root,\n",
    "    data_df=b1_test_df,\n",
    "    target_type='regression'\n",
    ")"
   ]
  },
  {
   "cell_type": "code",
   "execution_count": 15,
   "metadata": {},
   "outputs": [
    {
     "data": {
      "text/plain": [
       "<class 'src.data.dataset.CnvDataset'> with 14840 datapoints"
      ]
     },
     "execution_count": 15,
     "metadata": {},
     "output_type": "execute_result"
    }
   ],
   "source": [
    "b1_test_dataset"
   ]
  },
  {
   "cell_type": "markdown",
   "metadata": {},
   "source": [
    "## Iterating over the Dataset\n",
    "There are two common ways to iterate over a Dataset.\n",
    "1. use a for-loop over the dataset\n",
    "2. use a for-loop over `range(len(dataset))` and get the data point per index.\n",
    "3. use a DataLoader from `pytorch.utils.data.DataLoader`.\n",
    "\n",
    "Let's start by using the same dataset as in the beginning of this tutorial."
   ]
  },
  {
   "cell_type": "code",
   "execution_count": 53,
   "metadata": {},
   "outputs": [
    {
     "name": "stdout",
     "output_type": "stream",
     "text": [
      "Using 51 barcodes\n",
      "Using 1093 genes\n",
      "No embedding files for 988 data points in ../data/embeddings/batch_1/validation/single_gene_barcode!\n"
     ]
    }
   ],
   "source": [
    "# this time I am specifically requsting numpy results from the dataset\n",
    "b1_val_dataset = CnvDataset(\n",
    "    root=data_root / 'embeddings' / 'batch_1' / 'validation',\n",
    "    data_df=pd.read_csv(data_root / 'splits' / 'batch1_val_filtered.tsv', sep='\\t'),\n",
    "    return_numpy=True\n",
    ")"
   ]
  },
  {
   "cell_type": "markdown",
   "metadata": {},
   "source": [
    "Now, let's start by making a for loop over the Dataset."
   ]
  },
  {
   "cell_type": "code",
   "execution_count": 54,
   "metadata": {},
   "outputs": [
    {
     "name": "stdout",
     "output_type": "stream",
     "text": [
      "[ 2990  2003  1999  3008     0 10000     0]\n",
      "[ 7168  7450  7334  7113 10000     0     0]\n",
      "[4260 4412 4196 4284 1822    0    0]\n",
      "[ 2312  2492  2553  2643 10000     0     0]\n",
      "[ 2789  2188  2130  2893     0     0 10000]\n",
      "[ 2976  1906  1958  3160     0     0 10000]\n",
      "[2998 3817 4065 3152 2488    0    0]\n",
      "[2641 2308 2475 2576 1748    0    0]\n"
     ]
    }
   ],
   "source": [
    "# this code prints the row sum for the first 8 embeddings with either ATAC,\n",
    "#  CNV loss or CNV gain\n",
    "i = 0\n",
    "for embedding, target in b1_val_dataset:\n",
    "    t_sum = embedding.sum(axis=1)\n",
    "    if any(t_sum[4:] > 0):\n",
    "        i += 1\n",
    "        print(t_sum)\n",
    "    if i > 7:\n",
    "        break"
   ]
  },
  {
   "cell_type": "markdown",
   "metadata": {},
   "source": [
    "Next, let's use the the index specific access with a range in the for loop.\n",
    "This you can also use to iterate over a specific set of indices in the dataset."
   ]
  },
  {
   "cell_type": "code",
   "execution_count": 43,
   "metadata": {},
   "outputs": [
    {
     "name": "stdout",
     "output_type": "stream",
     "text": [
      "(7, 10000)\n",
      "[1.]\n",
      "(7, 10000)\n",
      "[0.]\n",
      "(7, 10000)\n",
      "[0.]\n",
      "(7, 10000)\n",
      "[0.]\n",
      "(7, 10000)\n",
      "[1.]\n",
      "(7, 10000)\n",
      "[0.]\n",
      "(7, 10000)\n",
      "[0.]\n",
      "(7, 10000)\n",
      "[0.]\n",
      "(7, 10000)\n",
      "[1.]\n"
     ]
    }
   ],
   "source": [
    "start = 42\n",
    "for i in range(start, len(b1_val_dataset)):\n",
    "    embedding, target = b1_val_dataset[i]\n",
    "    print(embedding.shape)\n",
    "    print(target)\n",
    "    if i > 7 + start:\n",
    "        break"
   ]
  },
  {
   "cell_type": "markdown",
   "metadata": {},
   "source": [
    "Lastly, you can use a `pytorch.utils.data.DataLoader` to iterate through the dataset.\n",
    "This is possible, because the `CnvDataset` class inherits from `pytorch.utils.data.Dataset`.\n",
    "See an example usage of a dataloader below."
   ]
  },
  {
   "cell_type": "code",
   "execution_count": 18,
   "metadata": {},
   "outputs": [],
   "source": [
    "from torch.utils.data import DataLoader"
   ]
  },
  {
   "cell_type": "code",
   "execution_count": 19,
   "metadata": {},
   "outputs": [],
   "source": [
    "# the batch size determines the group size per iteration\n",
    "b1_val_loader = DataLoader(b1_val_dataset, batch_size=3)"
   ]
  },
  {
   "cell_type": "code",
   "execution_count": 20,
   "metadata": {},
   "outputs": [
    {
     "name": "stdout",
     "output_type": "stream",
     "text": [
      "torch.Size([3, 7, 10000])\n",
      "torch.Size([3, 1])\n",
      "torch.Size([3, 7, 10000])\n",
      "torch.Size([3, 1])\n",
      "torch.Size([3, 7, 10000])\n",
      "torch.Size([3, 1])\n",
      "torch.Size([3, 7, 10000])\n",
      "torch.Size([3, 1])\n",
      "torch.Size([3, 7, 10000])\n",
      "torch.Size([3, 1])\n",
      "torch.Size([3, 7, 10000])\n",
      "torch.Size([3, 1])\n",
      "torch.Size([3, 7, 10000])\n",
      "torch.Size([3, 1])\n",
      "torch.Size([3, 7, 10000])\n",
      "torch.Size([3, 1])\n",
      "torch.Size([3, 7, 10000])\n",
      "torch.Size([3, 1])\n"
     ]
    }
   ],
   "source": [
    "for i, batch in enumerate(b1_val_loader):\n",
    "    embeddings, targets = batch\n",
    "    print(embeddings.shape)\n",
    "    print(targets.shape)\n",
    "    if i > 7:\n",
    "        break"
   ]
  },
  {
   "cell_type": "markdown",
   "metadata": {},
   "source": [
    "As you can see, even though `CnvDataset` returns numpy arrays, the Dataloader converts thess into pytorch tensors."
   ]
  },
  {
   "cell_type": "markdown",
   "metadata": {},
   "source": [
    "## Computing Embeddings from scratch\n",
    "This section covers (re-)computing embeddings using the `CnvDataset`.\n",
    "For this we need a little bit more information than before.\n",
    "Like previouly, let's start by defining some paths to relevant files and directories. "
   ]
  },
  {
   "cell_type": "code",
   "execution_count": 6,
   "metadata": {},
   "outputs": [],
   "source": [
    "# directories we will need\n",
    "out_root = git_root / 'out'\n",
    "\n",
    "# files we will need\n",
    "genome_fasta = data_root / 'reference' / 'GRCh38.d1.vd1.fa'\n",
    "assert genome_fasta.exists()\n",
    "gtf_path=data_root / 'gene_positions_and_overlaps' / 'gene_positions.csv'\n",
    "assert gtf_path.exists()\n",
    "overlap_path = data_root / 'gene_positions_and_overlaps' / 'overlaps_batch1.tsv'\n",
    "assert overlap_path.exists()\n",
    "epiAneufinder_path = out_root / 'epiAneufinder' / 'epiAneuFinder_results.tsv'\n",
    "assert epiAneufinder_path.exists()"
   ]
  },
  {
   "cell_type": "code",
   "execution_count": 11,
   "metadata": {},
   "outputs": [],
   "source": [
    "b2_train_path = data_root / 'splits' / 'batch2_training_filtered.tsv'\n",
    "b2_val_path = data_root / 'splits' / 'batch2_val_filtered.tsv'\n",
    "b2_test_path = data_root / 'splits' / 'batch2_test_filtered.tsv'"
   ]
  },
  {
   "cell_type": "code",
   "execution_count": 16,
   "metadata": {},
   "outputs": [],
   "source": [
    "b2_df = pd.read_csv(b2_val_path, sep='\\t')"
   ]
  },
  {
   "cell_type": "code",
   "execution_count": 17,
   "metadata": {},
   "outputs": [
    {
     "name": "stdout",
     "output_type": "stream",
     "text": [
      "Using 35 barcodes\n",
      "GCTAGCTCATCCCGCT-2,AAACCAACATTGCGGT-2,ACTAACTCATAAGTTC-2,CTGTACCTCATTGCGG-2,TACGGATTCGGTCAGC-2,CCTTCAATCTCACACC-2,TTAGGCCCAGACAAAC-2,TATATCCTCGTTACTT-2,TTTAACCTCCTGGTGA-2,ACTTTGTTCTCAATTC-2,TATGACATCAAACACC-2,TTTGTGGCATGAATAG-2,CGGAGTCTCCTCATCA-2,GGACAGCCATCCATCT-2,CAGCCTTTCCCTGGAA-2,GACGCAACATTAGGTT-2,TACGCTTGTTAAATGC-2,TCAAGAACAGCAAGAT-2,GGTCAGGAGTTCCCGT-2,TCTTCAAGTGACCTGG-2,AATTGCTCAGGAATCG-2,ACGCCTAAGCCTGGTA-2,GACCTGCAGATAACCC-2,CTGAAACTCATTTGCT-2,GGAACAATCTTGTCCA-2,TCCATTGTCCCTCACG-2,AGGCTAGCAAACCCTA-2,TACTTCGTCCCATAAA-2,GCGTTTCTCTGCAACG-2,CACTTTGTCTAATCAG-2,GCACGAACAACCTAAT-2,GCTAATATCAAGCCTG-2,GTCCTCCCATAGCTGC-2,TCAACAATCTTAGGAC-2,AGGCGGATCATGAAGG-2\n",
      "Using 621 genes\n",
      "ENSG00000153208,ENSG00000253868,ENSG00000175175,ENSG00000184828,ENSG00000154655,ENSG00000228142,ENSG00000176771,ENSG00000167978,ENSG00000004846,ENSG00000135821,ENSG00000162946,ENSG00000130653,ENSG00000166926,ENSG00000127946,ENSG00000140284,ENSG00000127507,ENSG00000184226,ENSG00000107611,ENSG00000165029,ENSG00000010327,ENSG00000171105,ENSG00000054611,ENSG00000140836,ENSG00000100600,ENSG00000248143,ENSG00000150672,ENSG00000135175,ENSG00000066813,ENSG00000130475,ENSG00000232931,ENSG00000105855,ENSG00000285875,ENSG00000149781,ENSG00000168542,ENSG00000235034,ENSG00000183049,ENSG00000107719,ENSG00000236283,ENSG00000009950,ENSG00000237356,ENSG00000117395,ENSG00000269900,ENSG00000155307,ENSG00000170962,ENSG00000135838,ENSG00000080573,ENSG00000267121,ENSG00000170525,ENSG00000228340,ENSG00000079308,ENSG00000223351,ENSG00000129151,ENSG00000171234,ENSG00000227036,ENSG00000230140,ENSG00000218018,ENSG00000028137,ENSG00000119771,ENSG00000140986,ENSG00000180448,ENSG00000167654,ENSG00000173068,ENSG00000128805,ENSG00000048740,ENSG00000157654,ENSG00000231274,ENSG00000145284,ENSG00000198727,ENSG00000104059,ENSG00000260785,ENSG00000169760,ENSG00000125844,ENSG00000229005,ENSG00000123338,ENSG00000129682,ENSG00000136237,ENSG00000174501,ENSG00000261075,ENSG00000137834,ENSG00000156113,ENSG00000198712,ENSG00000110446,ENSG00000155657,ENSG00000242593,ENSG00000140937,ENSG00000187837,ENSG00000121594,ENSG00000144959,ENSG00000228412,ENSG00000226337,ENSG00000101336,ENSG00000138621,ENSG00000172578,ENSG00000134574,ENSG00000130844,ENSG00000263551,ENSG00000223865,ENSG00000183020,ENSG00000127152,ENSG00000198673,ENSG00000119535,ENSG00000175779,ENSG00000137266,ENSG00000081479,ENSG00000135636,ENSG00000152270,ENSG00000119707,ENSG00000185386,ENSG00000258181,ENSG00000099331,ENSG00000144218,ENSG00000100644,ENSG00000179715,ENSG00000112799,ENSG00000115414,ENSG00000130254,ENSG00000253438,ENSG00000004399,ENSG00000090316,ENSG00000125730,ENSG00000105642,ENSG00000232160,ENSG00000152127,ENSG00000113532,ENSG00000225689,ENSG00000234323,ENSG00000258096,ENSG00000157933,ENSG00000248515,ENSG00000185737,ENSG00000237978,ENSG00000113504,ENSG00000114013,ENSG00000258689,ENSG00000229528,ENSG00000173372,ENSG00000269113,ENSG00000139832,ENSG00000135679,ENSG00000282951,ENSG00000156475,ENSG00000119125,ENSG00000163131,ENSG00000131016,ENSG00000245832,ENSG00000005884,ENSG00000198286,ENSG00000137674,ENSG00000135094,ENSG00000107263,ENSG00000122254,ENSG00000114374,ENSG00000198879,ENSG00000137393,ENSG00000117643,ENSG00000179583,ENSG00000176046,ENSG00000248939,ENSG00000106948,ENSG00000165449,ENSG00000136250,ENSG00000283154,ENSG00000112394,ENSG00000122862,ENSG00000198604,ENSG00000241743,ENSG00000261000,ENSG00000119042,ENSG00000155511,ENSG00000165591,ENSG00000171643,ENSG00000204971,ENSG00000128815,ENSG00000249378,ENSG00000116701,ENSG00000138031,ENSG00000182578,ENSG00000181171,ENSG00000196498,ENSG00000285809,ENSG00000260017,ENSG00000171044,ENSG00000197746,ENSG00000253496,ENSG00000137841,ENSG00000157107,ENSG00000233969,ENSG00000140416,ENSG00000287493,ENSG00000265972,ENSG00000150625,ENSG00000138653,ENSG00000155849,ENSG00000167261,ENSG00000234705,ENSG00000019582,ENSG00000131149,ENSG00000186439,ENSG00000142634,ENSG00000130640,ENSG00000198846,ENSG00000059377,ENSG00000163630,ENSG00000131370,ENSG00000225087,ENSG00000235009,ENSG00000140548,ENSG00000182240,ENSG00000165246,ENSG00000007237,ENSG00000176728,ENSG00000160179,ENSG00000043462,ENSG00000115355,ENSG00000177103,ENSG00000154589,ENSG00000130508,ENSG00000215067,ENSG00000256925,ENSG00000168685,ENSG00000183643,ENSG00000198899,ENSG00000198786,ENSG00000170579,ENSG00000188511,ENSG00000255050,ENSG00000287292,ENSG00000077152,ENSG00000259200,ENSG00000185532,ENSG00000187239,ENSG00000260840,ENSG00000159842,ENSG00000213578,ENSG00000226791,ENSG00000287440,ENSG00000018280,ENSG00000172985,ENSG00000157827,ENSG00000129993,ENSG00000143226,ENSG00000067057,ENSG00000171310,ENSG00000137491,ENSG00000253773,ENSG00000232212,ENSG00000142405,ENSG00000118257,ENSG00000124507,ENSG00000145703,ENSG00000203710,ENSG00000198771,ENSG00000139970,ENSG00000185052,ENSG00000081248,ENSG00000081189,ENSG00000267627,ENSG00000079215,ENSG00000090376,ENSG00000266256,ENSG00000185942,ENSG00000231969,ENSG00000119408,ENSG00000072778,ENSG00000182022,ENSG00000010610,ENSG00000236469,ENSG00000142185,ENSG00000132530,ENSG00000258569,ENSG00000183878,ENSG00000253100,ENSG00000196511,ENSG00000269821,ENSG00000105609,ENSG00000110077,ENSG00000115919,ENSG00000134532,ENSG00000027075,ENSG00000134245,ENSG00000188001,ENSG00000261371,ENSG00000260517,ENSG00000145708,ENSG00000053918,ENSG00000276476,ENSG00000197548,ENSG00000183023,ENSG00000250137,ENSG00000174945,ENSG00000136295,ENSG00000159110,ENSG00000171115,ENSG00000141905,ENSG00000106991,ENSG00000254361,ENSG00000163046,ENSG00000253335,ENSG00000287083,ENSG00000104419,ENSG00000005187,ENSG00000196576,ENSG00000173157,ENSG00000105122,ENSG00000057019,ENSG00000038427,ENSG00000241388,ENSG00000012124,ENSG00000256870,ENSG00000255028,ENSG00000176788,ENSG00000286010,ENSG00000197461,ENSG00000189067,ENSG00000068383,ENSG00000255496,ENSG00000262655,ENSG00000196196,ENSG00000119508,ENSG00000106258,ENSG00000109667,ENSG00000002587,ENSG00000135253,ENSG00000205670,ENSG00000071242,ENSG00000155926,ENSG00000104921,ENSG00000134873,ENSG00000117501,ENSG00000185774,ENSG00000112902,ENSG00000171848,ENSG00000225377,ENSG00000134955,ENSG00000015475,ENSG00000101198,ENSG00000150938,ENSG00000137648,ENSG00000103257,ENSG00000269043,ENSG00000169660,ENSG00000255026,ENSG00000184156,ENSG00000226476,ENSG00000058085,ENSG00000065809,ENSG00000100678,ENSG00000011422,ENSG00000187912,ENSG00000114450,ENSG00000129824,ENSG00000134516,ENSG00000185811,ENSG00000151490,ENSG00000124942,ENSG00000235271,ENSG00000198804,ENSG00000184905,ENSG00000065833,ENSG00000132128,ENSG00000235568,ENSG00000021645,ENSG00000229246,ENSG00000104432,ENSG00000159216,ENSG00000164741,ENSG00000125900,ENSG00000167693,ENSG00000101347,ENSG00000112576,ENSG00000108846,ENSG00000256915,ENSG00000174429,ENSG00000074416,ENSG00000153162,ENSG00000170873,ENSG00000282998,ENSG00000154217,ENSG00000248905,ENSG00000106366,ENSG00000176533,ENSG00000121281,ENSG00000250954,ENSG00000179399,ENSG00000183775,ENSG00000231131,ENSG00000079805,ENSG00000130584,ENSG00000242732,ENSG00000141485,ENSG00000196639,ENSG00000140678,ENSG00000242908,ENSG00000142102,ENSG00000111962,ENSG00000262801,ENSG00000128918,ENSG00000124491,ENSG00000185305,ENSG00000198938,ENSG00000104998,ENSG00000152583,ENSG00000196628,ENSG00000168280,ENSG00000073849,ENSG00000184305,ENSG00000138964,ENSG00000145335,ENSG00000123384,ENSG00000269028,ENSG00000197872,ENSG00000147570,ENSG00000198223,ENSG00000124253,ENSG00000285744,ENSG00000084070,ENSG00000153317,ENSG00000254987,ENSG00000121966,ENSG00000285731,ENSG00000136231,ENSG00000162511,ENSG00000135905,ENSG00000226605,ENSG00000162849,ENSG00000157168,ENSG00000096060,ENSG00000280560,ENSG00000215474,ENSG00000167615,ENSG00000249592,ENSG00000081800,ENSG00000231535,ENSG00000137486,ENSG00000170382,ENSG00000109323,ENSG00000157551,ENSG00000266714,ENSG00000234277,ENSG00000177706,ENSG00000110079,ENSG00000100345,ENSG00000088538,ENSG00000159189,ENSG00000168918,ENSG00000166923,ENSG00000170396,ENSG00000154978,ENSG00000249252,ENSG00000198763,ENSG00000151474,ENSG00000053254,ENSG00000135540,ENSG00000250974,ENSG00000227258,ENSG00000162772,ENSG00000141968,ENSG00000089012,ENSG00000140968,ENSG00000174600,ENSG00000075884,ENSG00000072694,ENSG00000136235,ENSG00000251675,ENSG00000119772,ENSG00000117115,ENSG00000103227,ENSG00000223392,ENSG00000164733,ENSG00000233723,ENSG00000106665,ENSG00000000938,ENSG00000145819,ENSG00000205111,ENSG00000198840,ENSG00000168675,ENSG00000187474,ENSG00000072274,ENSG00000185046,ENSG00000241684,ENSG00000244694,ENSG00000227110,ENSG00000136155,ENSG00000205784,ENSG00000106617,ENSG00000162444,ENSG00000169744,ENSG00000072786,ENSG00000237515,ENSG00000112137,ENSG00000177575,ENSG00000026508,ENSG00000128512,ENSG00000226965,ENSG00000213373,ENSG00000162512,ENSG00000072840,ENSG00000138623,ENSG00000185008,ENSG00000018236,ENSG00000285686,ENSG00000258168,ENSG00000231252,ENSG00000257553,ENSG00000166948,ENSG00000169896,ENSG00000227486,ENSG00000271605,ENSG00000145536,ENSG00000100593,ENSG00000149256,ENSG00000183486,ENSG00000285741,ENSG00000160282,ENSG00000142347,ENSG00000166268,ENSG00000182674,ENSG00000231424,ENSG00000089327,ENSG00000120738,ENSG00000020577,ENSG00000101096,ENSG00000121895,ENSG00000183580,ENSG00000239498,ENSG00000250775,ENSG00000101333,ENSG00000169495,ENSG00000258826,ENSG00000090104,ENSG00000100311,ENSG00000145623,ENSG00000088726,ENSG00000239642,ENSG00000143995,ENSG00000023171,ENSG00000166016,ENSG00000124126,ENSG00000287523,ENSG00000136490,ENSG00000198886,ENSG00000008196,ENSG00000281131,ENSG00000168461,ENSG00000188191,ENSG00000131378,ENSG00000286099,ENSG00000264125,ENSG00000124575,ENSG00000011201,ENSG00000132334,ENSG00000131171,ENSG00000287682,ENSG00000186469,ENSG00000048052,ENSG00000230046,ENSG00000069020,ENSG00000173436,ENSG00000251200,ENSG00000151702,ENSG00000196126,ENSG00000110328,ENSG00000171798,ENSG00000253177,ENSG00000091428,ENSG00000231776,ENSG00000115232,ENSG00000259380,ENSG00000231304,ENSG00000101463,ENSG00000203635,ENSG00000140945,ENSG00000108465,ENSG00000174145,ENSG00000212907,ENSG00000267761,ENSG00000136167,ENSG00000117154,ENSG00000059804,ENSG00000281491,ENSG00000143702,ENSG00000101265,ENSG00000206579,ENSG00000186094,ENSG00000113361,ENSG00000184672,ENSG00000167772,ENSG00000178878,ENSG00000109158,ENSG00000184588,ENSG00000161791,ENSG00000164808,ENSG00000105220,ENSG00000141506,ENSG00000174469,ENSG00000250938,ENSG00000183454,ENSG00000104237,ENSG00000152213,ENSG00000198888,ENSG00000153815,ENSG00000141002,ENSG00000130775,ENSG00000162687,ENSG00000106415,ENSG00000152527,ENSG00000229981,ENSG00000142871,ENSG00000066336,ENSG00000152315,ENSG00000141161,ENSG00000081237,ENSG00000133800,ENSG00000115896,ENSG00000187583,ENSG00000111252,ENSG00000172005,ENSG00000141503,ENSG00000226497,ENSG00000158258,ENSG00000258394\n",
      "Recomputing embeddings:  True\n",
      "[Embedder]: No GTF annot. for 33 genes from barcode_to_genes\n",
      "ENSG00000054611,ENSG00000285875,ENSG00000237356,ENSG00000269900,ENSG00000198727,ENSG00000198712,ENSG00000185386,ENSG00000215067,ENSG00000198899,ENSG00000198786,ENSG00000188511,ENSG00000287440,ENSG00000260517,ENSG00000196576,ENSG00000255028,ENSG00000015475,ENSG00000235271,ENSG00000198804,ENSG00000235568,ENSG00000198938,ENSG00000138964,ENSG00000269028,ENSG00000280560,ENSG00000100345,ENSG00000198763,ENSG00000198840,ENSG00000239498,ENSG00000100311,ENSG00000287523,ENSG00000198886,ENSG00000287682,ENSG00000212907,ENSG00000198888\n",
      "[Embedder]:\n",
      " +--------------+--------------+------------+-----------------+-------+\n",
      "| Chromosome   | Gene_Start   | Gene_End   | gene_id         | +3    |\n",
      "| (category)   | (int64)      | (int64)    | (object)        | ...   |\n",
      "|--------------+--------------+------------+-----------------+-------|\n",
      "| 1            | 9997206      | 10016021   | ENSG00000162444 | ...   |\n",
      "| 1            | 12166991     | 12209228   | ENSG00000028137 | ...   |\n",
      "| 1            | 18107798     | 18378483   | ENSG00000117154 | ...   |\n",
      "| 1            | 167630093    | 167708696  | ENSG00000198771 | ...   |\n",
      "| ...          | ...          | ...        | ...             | ...   |\n",
      "| Y            | 13234577     | 13480673   | ENSG00000183878 | ...   |\n",
      "| Y            | 14522573     | 14845654   | ENSG00000165246 | ...   |\n",
      "| Y            | 3002887      | 3200509    | ENSG00000231535 | ...   |\n",
      "| Y            | 18772706     | 19077555   | ENSG00000176728 | ...   |\n",
      "+--------------+--------------+------------+-----------------+-------+\n",
      "Unstranded PyRanges object has 588 rows and 7 columns from 23 chromosomes.\n",
      "For printing, the PyRanges was sorted on Chromosome.\n",
      "3 hidden columns: Start, End, Sequence\n"
     ]
    },
    {
     "ename": "KeyboardInterrupt",
     "evalue": "",
     "output_type": "error",
     "traceback": [
      "\u001b[0;31m---------------------------------------------------------------------------\u001b[0m",
      "\u001b[0;31mKeyboardInterrupt\u001b[0m                         Traceback (most recent call last)",
      "Cell \u001b[0;32mIn[17], line 2\u001b[0m\n\u001b[1;32m      1\u001b[0m \u001b[38;5;66;03m# compute all embeddings for batch 1\u001b[39;00m\n\u001b[0;32m----> 2\u001b[0m b1_dataset \u001b[38;5;241m=\u001b[39m \u001b[43mCnvDataset\u001b[49m\u001b[43m(\u001b[49m\n\u001b[1;32m      3\u001b[0m \u001b[43m    \u001b[49m\u001b[43mroot\u001b[49m\u001b[38;5;241;43m=\u001b[39;49m\u001b[43mdata_root\u001b[49m\u001b[43m \u001b[49m\u001b[38;5;241;43m/\u001b[39;49m\u001b[43m \u001b[49m\u001b[38;5;124;43m'\u001b[39;49m\u001b[38;5;124;43membeddings\u001b[39;49m\u001b[38;5;124;43m'\u001b[39;49m\u001b[43m \u001b[49m\u001b[38;5;241;43m/\u001b[39;49m\u001b[43m \u001b[49m\u001b[38;5;124;43m'\u001b[39;49m\u001b[38;5;124;43mbatch_2\u001b[39;49m\u001b[38;5;124;43m'\u001b[39;49m\u001b[43m \u001b[49m\u001b[38;5;241;43m/\u001b[39;49m\u001b[43m \u001b[49m\u001b[38;5;124;43m'\u001b[39;49m\u001b[38;5;124;43mval_pt\u001b[39;49m\u001b[38;5;124;43m'\u001b[39;49m\u001b[43m \u001b[49m\u001b[43m,\u001b[49m\n\u001b[1;32m      4\u001b[0m \u001b[43m    \u001b[49m\u001b[43mdata_df\u001b[49m\u001b[38;5;241;43m=\u001b[39;49m\u001b[43mb2_df\u001b[49m\u001b[43m,\u001b[49m\n\u001b[1;32m      5\u001b[0m \u001b[43m    \u001b[49m\u001b[43mfasta_path\u001b[49m\u001b[38;5;241;43m=\u001b[39;49m\u001b[43mgenome_fasta\u001b[49m\u001b[43m,\u001b[49m\n\u001b[1;32m      6\u001b[0m \u001b[43m    \u001b[49m\u001b[43mgtf_path\u001b[49m\u001b[38;5;241;43m=\u001b[39;49m\u001b[43mgtf_path\u001b[49m\u001b[43m,\u001b[49m\n\u001b[1;32m      7\u001b[0m \u001b[43m    \u001b[49m\u001b[43matac_path\u001b[49m\u001b[38;5;241;43m=\u001b[39;49m\u001b[43moverlap_path\u001b[49m\u001b[43m,\u001b[49m\n\u001b[1;32m      8\u001b[0m \u001b[43m    \u001b[49m\u001b[43mcnv_path\u001b[49m\u001b[38;5;241;43m=\u001b[39;49m\u001b[43mepiAneufinder_path\u001b[49m\u001b[43m,\u001b[49m\n\u001b[1;32m      9\u001b[0m \u001b[43m    \u001b[49m\u001b[43mforce_recompute\u001b[49m\u001b[38;5;241;43m=\u001b[39;49m\u001b[38;5;28;43;01mTrue\u001b[39;49;00m\u001b[43m,\u001b[49m\n\u001b[1;32m     10\u001b[0m \u001b[43m    \u001b[49m\u001b[43mfile_format\u001b[49m\u001b[38;5;241;43m=\u001b[39;49m\u001b[38;5;124;43m'\u001b[39;49m\u001b[38;5;124;43mpt\u001b[39;49m\u001b[38;5;124;43m'\u001b[39;49m\u001b[43m,\u001b[49m\n\u001b[1;32m     11\u001b[0m \u001b[43m    \u001b[49m\u001b[43mverbose\u001b[49m\u001b[38;5;241;43m=\u001b[39;49m\u001b[38;5;241;43m3\u001b[39;49m\n\u001b[1;32m     12\u001b[0m \u001b[43m)\u001b[49m\n",
      "File \u001b[0;32m~/cmscb8/preprocessing/../src/data/dataset.py:106\u001b[0m, in \u001b[0;36mCnvDataset.__init__\u001b[0;34m(self, root, data_df, force_recompute, embedding_mode, file_format, use_gzip, verbose, dtype, target_type, *args, **kwargs)\u001b[0m\n\u001b[1;32m     97\u001b[0m     \u001b[38;5;28mprint\u001b[39m(\u001b[38;5;124m'\u001b[39m\u001b[38;5;124mRecomputing embeddings: \u001b[39m\u001b[38;5;124m'\u001b[39m, recompute)\n\u001b[1;32m     99\u001b[0m barcodes_to_genes \u001b[38;5;241m=\u001b[39m {\n\u001b[1;32m    100\u001b[0m     barcode: \u001b[38;5;28mlist\u001b[39m(\u001b[38;5;28mset\u001b[39m(\n\u001b[1;32m    101\u001b[0m         data_df[data_df[\u001b[38;5;124m'\u001b[39m\u001b[38;5;124mbarcode\u001b[39m\u001b[38;5;124m'\u001b[39m] \u001b[38;5;241m==\u001b[39m barcode][\u001b[38;5;124m'\u001b[39m\u001b[38;5;124mgene_id\u001b[39m\u001b[38;5;124m'\u001b[39m]\n\u001b[1;32m    102\u001b[0m     ))\n\u001b[1;32m    103\u001b[0m     \u001b[38;5;28;01mfor\u001b[39;00m barcode \u001b[38;5;129;01min\u001b[39;00m \u001b[38;5;28mset\u001b[39m(data_df[\u001b[38;5;124m'\u001b[39m\u001b[38;5;124mbarcode\u001b[39m\u001b[38;5;124m'\u001b[39m])\n\u001b[1;32m    104\u001b[0m }\n\u001b[0;32m--> 106\u001b[0m embedder \u001b[38;5;241m=\u001b[39m \u001b[43mEmbedder\u001b[49m\u001b[43m(\u001b[49m\n\u001b[1;32m    107\u001b[0m \u001b[43m    \u001b[49m\u001b[43mfasta_path\u001b[49m\u001b[38;5;241;43m=\u001b[39;49m\u001b[43mkwargs\u001b[49m\u001b[38;5;241;43m.\u001b[39;49m\u001b[43mget\u001b[49m\u001b[43m(\u001b[49m\u001b[38;5;124;43m'\u001b[39;49m\u001b[38;5;124;43mfasta_path\u001b[39;49m\u001b[38;5;124;43m'\u001b[39;49m\u001b[43m)\u001b[49m\u001b[43m,\u001b[49m\n\u001b[1;32m    108\u001b[0m \u001b[43m    \u001b[49m\u001b[43mgtf_path\u001b[49m\u001b[38;5;241;43m=\u001b[39;49m\u001b[43mkwargs\u001b[49m\u001b[38;5;241;43m.\u001b[39;49m\u001b[43mget\u001b[49m\u001b[43m(\u001b[49m\u001b[38;5;124;43m'\u001b[39;49m\u001b[38;5;124;43mgtf_path\u001b[39;49m\u001b[38;5;124;43m'\u001b[39;49m\u001b[43m)\u001b[49m\u001b[43m,\u001b[49m\n\u001b[1;32m    109\u001b[0m \u001b[43m    \u001b[49m\u001b[43matac_path\u001b[49m\u001b[38;5;241;43m=\u001b[39;49m\u001b[43mkwargs\u001b[49m\u001b[38;5;241;43m.\u001b[39;49m\u001b[43mget\u001b[49m\u001b[43m(\u001b[49m\u001b[38;5;124;43m'\u001b[39;49m\u001b[38;5;124;43matac_path\u001b[39;49m\u001b[38;5;124;43m'\u001b[39;49m\u001b[43m)\u001b[49m\u001b[43m,\u001b[49m\n\u001b[1;32m    110\u001b[0m \u001b[43m    \u001b[49m\u001b[43mcnv_path\u001b[49m\u001b[38;5;241;43m=\u001b[39;49m\u001b[43mkwargs\u001b[49m\u001b[38;5;241;43m.\u001b[39;49m\u001b[43mget\u001b[49m\u001b[43m(\u001b[49m\u001b[38;5;124;43m'\u001b[39;49m\u001b[38;5;124;43mcnv_path\u001b[39;49m\u001b[38;5;124;43m'\u001b[39;49m\u001b[43m)\u001b[49m\u001b[43m,\u001b[49m\n\u001b[1;32m    111\u001b[0m \u001b[43m    \u001b[49m\u001b[38;5;66;43;03m# gene_set=gene_ids,\u001b[39;49;00m\n\u001b[1;32m    112\u001b[0m \u001b[43m    \u001b[49m\u001b[38;5;66;43;03m# barcode_set=barcode_ids,\u001b[39;49;00m\n\u001b[1;32m    113\u001b[0m \u001b[43m    \u001b[49m\u001b[43mbarcodes_to_genes\u001b[49m\u001b[38;5;241;43m=\u001b[39;49m\u001b[43mbarcodes_to_genes\u001b[49m\u001b[43m,\u001b[49m\n\u001b[1;32m    114\u001b[0m \u001b[43m    \u001b[49m\u001b[43mverbose\u001b[49m\u001b[38;5;241;43m=\u001b[39;49m\u001b[43m(\u001b[49m\u001b[43mverbose\u001b[49m\u001b[43m \u001b[49m\u001b[38;5;241;43m>\u001b[39;49m\u001b[43m \u001b[49m\u001b[38;5;241;43m2\u001b[39;49m\u001b[43m)\u001b[49m\n\u001b[1;32m    115\u001b[0m \u001b[43m\u001b[49m\u001b[43m)\u001b[49m\n\u001b[1;32m    117\u001b[0m path_list \u001b[38;5;241m=\u001b[39m \u001b[38;5;28mlist\u001b[39m()\n\u001b[1;32m    118\u001b[0m barcode_list \u001b[38;5;241m=\u001b[39m \u001b[38;5;28mlist\u001b[39m()\n",
      "File \u001b[0;32m~/cmscb8/preprocessing/../src/data/embedding.py:974\u001b[0m, in \u001b[0;36mEmbedder.__init__\u001b[0;34m(self, fasta_path, gtf_path, atac_path, cnv_path, mode, barcodes_to_genes, barcode_set, gene_set, verbose, pad_dna, n_upstream, n_downstream, dtype)\u001b[0m\n\u001b[1;32m    970\u001b[0m \u001b[38;5;28mself\u001b[39m\u001b[38;5;241m.\u001b[39matac_pr \u001b[38;5;241m=\u001b[39m pr\u001b[38;5;241m.\u001b[39mPyRanges(atac_df)\n\u001b[1;32m    972\u001b[0m \u001b[38;5;66;03m# ==== CNV ====\u001b[39;00m\n\u001b[1;32m    973\u001b[0m \u001b[38;5;66;03m# load EpiAneufinder result table \u001b[39;00m\n\u001b[0;32m--> 974\u001b[0m cnv_df \u001b[38;5;241m=\u001b[39m \u001b[43mread_csv\u001b[49m\u001b[43m(\u001b[49m\u001b[43mcnv_path\u001b[49m\u001b[43m,\u001b[49m\u001b[43m \u001b[49m\u001b[43msep\u001b[49m\u001b[38;5;241;43m=\u001b[39;49m\u001b[38;5;124;43m'\u001b[39;49m\u001b[38;5;124;43m \u001b[39;49m\u001b[38;5;124;43m'\u001b[39;49m\u001b[43m)\u001b[49m\n\u001b[1;32m    975\u001b[0m \u001b[38;5;28;01massert\u001b[39;00m \u001b[38;5;28mall\u001b[39m(cnv_df\u001b[38;5;241m.\u001b[39mcolumns[\u001b[38;5;241m1\u001b[39m:\u001b[38;5;241m4\u001b[39m] \u001b[38;5;241m==\u001b[39m [\u001b[38;5;124m'\u001b[39m\u001b[38;5;124mseq\u001b[39m\u001b[38;5;124m'\u001b[39m, \u001b[38;5;124m'\u001b[39m\u001b[38;5;124mstart\u001b[39m\u001b[38;5;124m'\u001b[39m, \u001b[38;5;124m'\u001b[39m\u001b[38;5;124mend\u001b[39m\u001b[38;5;124m'\u001b[39m]),\\\n\u001b[1;32m    976\u001b[0m \t\u001b[38;5;124m'\u001b[39m\u001b[38;5;124mColumn name Mismatch, please prepend \u001b[39m\u001b[38;5;130;01m\\'\u001b[39;00m\u001b[38;5;124midx \u001b[39m\u001b[38;5;130;01m\\'\u001b[39;00m\u001b[38;5;124m to the first line.\u001b[39m\u001b[38;5;124m'\u001b[39m\n\u001b[1;32m    978\u001b[0m \u001b[38;5;66;03m# define unique barcodes to use for embedding computation\u001b[39;00m\n",
      "File \u001b[0;32m/vol/storage/shared/miniforge3/envs/ssb/lib/python3.12/site-packages/pandas/io/parsers/readers.py:1026\u001b[0m, in \u001b[0;36mread_csv\u001b[0;34m(filepath_or_buffer, sep, delimiter, header, names, index_col, usecols, dtype, engine, converters, true_values, false_values, skipinitialspace, skiprows, skipfooter, nrows, na_values, keep_default_na, na_filter, verbose, skip_blank_lines, parse_dates, infer_datetime_format, keep_date_col, date_parser, date_format, dayfirst, cache_dates, iterator, chunksize, compression, thousands, decimal, lineterminator, quotechar, quoting, doublequote, escapechar, comment, encoding, encoding_errors, dialect, on_bad_lines, delim_whitespace, low_memory, memory_map, float_precision, storage_options, dtype_backend)\u001b[0m\n\u001b[1;32m   1013\u001b[0m kwds_defaults \u001b[38;5;241m=\u001b[39m _refine_defaults_read(\n\u001b[1;32m   1014\u001b[0m     dialect,\n\u001b[1;32m   1015\u001b[0m     delimiter,\n\u001b[0;32m   (...)\u001b[0m\n\u001b[1;32m   1022\u001b[0m     dtype_backend\u001b[38;5;241m=\u001b[39mdtype_backend,\n\u001b[1;32m   1023\u001b[0m )\n\u001b[1;32m   1024\u001b[0m kwds\u001b[38;5;241m.\u001b[39mupdate(kwds_defaults)\n\u001b[0;32m-> 1026\u001b[0m \u001b[38;5;28;01mreturn\u001b[39;00m \u001b[43m_read\u001b[49m\u001b[43m(\u001b[49m\u001b[43mfilepath_or_buffer\u001b[49m\u001b[43m,\u001b[49m\u001b[43m \u001b[49m\u001b[43mkwds\u001b[49m\u001b[43m)\u001b[49m\n",
      "File \u001b[0;32m/vol/storage/shared/miniforge3/envs/ssb/lib/python3.12/site-packages/pandas/io/parsers/readers.py:626\u001b[0m, in \u001b[0;36m_read\u001b[0;34m(filepath_or_buffer, kwds)\u001b[0m\n\u001b[1;32m    623\u001b[0m     \u001b[38;5;28;01mreturn\u001b[39;00m parser\n\u001b[1;32m    625\u001b[0m \u001b[38;5;28;01mwith\u001b[39;00m parser:\n\u001b[0;32m--> 626\u001b[0m     \u001b[38;5;28;01mreturn\u001b[39;00m \u001b[43mparser\u001b[49m\u001b[38;5;241;43m.\u001b[39;49m\u001b[43mread\u001b[49m\u001b[43m(\u001b[49m\u001b[43mnrows\u001b[49m\u001b[43m)\u001b[49m\n",
      "File \u001b[0;32m/vol/storage/shared/miniforge3/envs/ssb/lib/python3.12/site-packages/pandas/io/parsers/readers.py:1923\u001b[0m, in \u001b[0;36mTextFileReader.read\u001b[0;34m(self, nrows)\u001b[0m\n\u001b[1;32m   1916\u001b[0m nrows \u001b[38;5;241m=\u001b[39m validate_integer(\u001b[38;5;124m\"\u001b[39m\u001b[38;5;124mnrows\u001b[39m\u001b[38;5;124m\"\u001b[39m, nrows)\n\u001b[1;32m   1917\u001b[0m \u001b[38;5;28;01mtry\u001b[39;00m:\n\u001b[1;32m   1918\u001b[0m     \u001b[38;5;66;03m# error: \"ParserBase\" has no attribute \"read\"\u001b[39;00m\n\u001b[1;32m   1919\u001b[0m     (\n\u001b[1;32m   1920\u001b[0m         index,\n\u001b[1;32m   1921\u001b[0m         columns,\n\u001b[1;32m   1922\u001b[0m         col_dict,\n\u001b[0;32m-> 1923\u001b[0m     ) \u001b[38;5;241m=\u001b[39m \u001b[38;5;28;43mself\u001b[39;49m\u001b[38;5;241;43m.\u001b[39;49m\u001b[43m_engine\u001b[49m\u001b[38;5;241;43m.\u001b[39;49m\u001b[43mread\u001b[49m\u001b[43m(\u001b[49m\u001b[43m  \u001b[49m\u001b[38;5;66;43;03m# type: ignore[attr-defined]\u001b[39;49;00m\n\u001b[1;32m   1924\u001b[0m \u001b[43m        \u001b[49m\u001b[43mnrows\u001b[49m\n\u001b[1;32m   1925\u001b[0m \u001b[43m    \u001b[49m\u001b[43m)\u001b[49m\n\u001b[1;32m   1926\u001b[0m \u001b[38;5;28;01mexcept\u001b[39;00m \u001b[38;5;167;01mException\u001b[39;00m:\n\u001b[1;32m   1927\u001b[0m     \u001b[38;5;28mself\u001b[39m\u001b[38;5;241m.\u001b[39mclose()\n",
      "File \u001b[0;32m/vol/storage/shared/miniforge3/envs/ssb/lib/python3.12/site-packages/pandas/io/parsers/c_parser_wrapper.py:234\u001b[0m, in \u001b[0;36mCParserWrapper.read\u001b[0;34m(self, nrows)\u001b[0m\n\u001b[1;32m    232\u001b[0m \u001b[38;5;28;01mtry\u001b[39;00m:\n\u001b[1;32m    233\u001b[0m     \u001b[38;5;28;01mif\u001b[39;00m \u001b[38;5;28mself\u001b[39m\u001b[38;5;241m.\u001b[39mlow_memory:\n\u001b[0;32m--> 234\u001b[0m         chunks \u001b[38;5;241m=\u001b[39m \u001b[38;5;28;43mself\u001b[39;49m\u001b[38;5;241;43m.\u001b[39;49m\u001b[43m_reader\u001b[49m\u001b[38;5;241;43m.\u001b[39;49m\u001b[43mread_low_memory\u001b[49m\u001b[43m(\u001b[49m\u001b[43mnrows\u001b[49m\u001b[43m)\u001b[49m\n\u001b[1;32m    235\u001b[0m         \u001b[38;5;66;03m# destructive to chunks\u001b[39;00m\n\u001b[1;32m    236\u001b[0m         data \u001b[38;5;241m=\u001b[39m _concatenate_chunks(chunks)\n",
      "File \u001b[0;32mparsers.pyx:838\u001b[0m, in \u001b[0;36mpandas._libs.parsers.TextReader.read_low_memory\u001b[0;34m()\u001b[0m\n",
      "File \u001b[0;32mparsers.pyx:905\u001b[0m, in \u001b[0;36mpandas._libs.parsers.TextReader._read_rows\u001b[0;34m()\u001b[0m\n",
      "File \u001b[0;32mparsers.pyx:874\u001b[0m, in \u001b[0;36mpandas._libs.parsers.TextReader._tokenize_rows\u001b[0;34m()\u001b[0m\n",
      "File \u001b[0;32mparsers.pyx:891\u001b[0m, in \u001b[0;36mpandas._libs.parsers.TextReader._check_tokenize_status\u001b[0;34m()\u001b[0m\n",
      "File \u001b[0;32mparsers.pyx:2053\u001b[0m, in \u001b[0;36mpandas._libs.parsers.raise_parser_error\u001b[0;34m()\u001b[0m\n",
      "File \u001b[0;32m<frozen codecs>:331\u001b[0m, in \u001b[0;36mgetstate\u001b[0;34m(self)\u001b[0m\n",
      "\u001b[0;31mKeyboardInterrupt\u001b[0m: "
     ]
    }
   ],
   "source": [
    "# compute all embeddings for batch 1\n",
    "b1_dataset = CnvDataset(\n",
    "    root=data_root / 'embeddings' / 'batch_2' / 'val_pt' ,\n",
    "    data_df=b2_df,\n",
    "    fasta_path=genome_fasta,\n",
    "    gtf_path=gtf_path,\n",
    "    atac_path=overlap_path,\n",
    "    cnv_path=epiAneufinder_path,\n",
    "    force_recompute=True,\n",
    "    file_format='pt',\n",
    "    verbose=3\n",
    ")"
   ]
  },
  {
   "cell_type": "markdown",
   "metadata": {},
   "source": [
    "Just like with precomputed dataset, you can no access any data point by index."
   ]
  },
  {
   "cell_type": "code",
   "execution_count": 20,
   "metadata": {},
   "outputs": [
    {
     "data": {
      "text/plain": [
       "{'embedding': tensor([[0, 1, 0,  ..., 0, 1, 0],\n",
       "         [0, 0, 1,  ..., 0, 0, 0],\n",
       "         [1, 0, 0,  ..., 1, 0, 1],\n",
       "         ...,\n",
       "         [0, 0, 0,  ..., 0, 0, 0],\n",
       "         [0, 0, 0,  ..., 0, 0, 0],\n",
       "         [0, 0, 0,  ..., 0, 0, 0]], dtype=torch.uint8),\n",
       " 'target': 'low'}"
      ]
     },
     "execution_count": 20,
     "metadata": {},
     "output_type": "execute_result"
    }
   ],
   "source": [
    "b1_dataset[0]"
   ]
  },
  {
   "cell_type": "markdown",
   "metadata": {},
   "source": [
    "You'll also get a brief overview of the dataset when printing."
   ]
  },
  {
   "cell_type": "code",
   "execution_count": 21,
   "metadata": {},
   "outputs": [
    {
     "name": "stdout",
     "output_type": "stream",
     "text": [
      "<class 'src.data.dataset.CnvDataset'> with 8022 datapoints\n",
      "                barcode          gene_id  expression_count classification  \\\n",
      "27   GACGTAAAGCATGTTA-1  ENSG00000069424          0.606885            low   \n",
      "69   CCTTAACGTCGTAAAT-1  ENSG00000215788          0.638693            low   \n",
      "82   GCTATCCTCCCTCGCA-1  ENSG00000215788          0.216336            low   \n",
      "87   TACGGTTAGCACAGCC-1  ENSG00000215788          0.569907            low   \n",
      "131  GATTTGCAGCCTGTTC-1  ENSG00000171621          0.346812            low   \n",
      "\n",
      "                                        embedding_path  \n",
      "27   ../data/embeddings/batch_1/val_redo2/single_ge...  \n",
      "69   ../data/embeddings/batch_1/val_redo2/single_ge...  \n",
      "82   ../data/embeddings/batch_1/val_redo2/single_ge...  \n",
      "87   ../data/embeddings/batch_1/val_redo2/single_ge...  \n",
      "131  ../data/embeddings/batch_1/val_redo2/single_ge...  \n"
     ]
    }
   ],
   "source": [
    "print(b1_dataset)"
   ]
  }
 ],
 "metadata": {
  "kernelspec": {
   "display_name": "ssb",
   "language": "python",
   "name": "python3"
  },
  "language_info": {
   "codemirror_mode": {
    "name": "ipython",
    "version": 3
   },
   "file_extension": ".py",
   "mimetype": "text/x-python",
   "name": "python",
   "nbconvert_exporter": "python",
   "pygments_lexer": "ipython3",
   "version": "3.12.9"
  }
 },
 "nbformat": 4,
 "nbformat_minor": 2
}
