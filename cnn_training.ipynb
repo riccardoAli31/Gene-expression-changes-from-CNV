{
 "cells": [
  {
   "cell_type": "markdown",
   "metadata": {},
   "source": [
    "# Building a CNN"
   ]
  },
  {
   "cell_type": "code",
   "execution_count": 1,
   "metadata": {},
   "outputs": [],
   "source": [
    "from pathlib import Path\n",
    "import pandas as pd\n",
    "# import numpy as np\n",
    "import torch\n",
    "from torch.utils.data import DataLoader\n",
    "from plotnine import *\n",
    "%load_ext autoreload\n",
    "%autoreload 2"
   ]
  },
  {
   "cell_type": "code",
   "execution_count": 2,
   "metadata": {},
   "outputs": [],
   "source": [
    "from src.data.dataset import CnvDataset, CnvMemoryDataset"
   ]
  },
  {
   "cell_type": "code",
   "execution_count": 3,
   "metadata": {},
   "outputs": [
    {
     "name": "stdout",
     "output_type": "stream",
     "text": [
      "CNN training script running for batch 1\n"
     ]
    }
   ],
   "source": [
    "# global variables\n",
    "MODEL_NAME = 'ModChrCNN'\n",
    "BATCH = '1'\n",
    "EPOCHS = 20\n",
    "INCLUDE_DNA = False\n",
    "INCLUDE_ATAC = True\n",
    "INCLUDE_CNV = True\n",
    "SEQ_LEN = 10_000\n",
    "IN_DIM = len(CnvDataset._subset_embedding_rows(\n",
    "    dna=INCLUDE_DNA, atac=INCLUDE_ATAC, cnv=INCLUDE_CNV\n",
    "    ))\n",
    "OUT_DIM = 1\n",
    "print('CNN training script running for batch {}'.format(BATCH))\n",
    "assert BATCH in ('1', '2'), 'Batch number not known: {}'.format(BATCH)"
   ]
  },
  {
   "cell_type": "code",
   "execution_count": 4,
   "metadata": {},
   "outputs": [],
   "source": [
    "# paths\n",
    "git_root = Path('.')\n",
    "data_root = git_root / 'data'\n",
    "assert data_root.exists(), \\\n",
    "    'Data directory not found!\\n{} does not exist'.format(data_root.absolute())\n",
    "model_path = git_root / 'model'\n",
    "assert model_path.is_dir(), 'Directory for saving models does not exist'\n",
    "plot_path = git_root / 'out' / 'plots' / 'cnn_training'\n",
    "if not plot_path.exists():\n",
    "    plot_path.mkdir(parents=True)\n",
    "tb_log_path = Path('log') / 'tensorboard'\n",
    "assert tb_log_path.is_dir(), 'Tensorboard logging directory does not exist!'"
   ]
  },
  {
   "cell_type": "code",
   "execution_count": 5,
   "metadata": {},
   "outputs": [
    {
     "name": "stdout",
     "output_type": "stream",
     "text": [
      "Using 356 barcodes\n",
      "Using 1595 genes\n",
      "No embedding files for 4335 data points in data/embeddings/batch_1/train/single_gene_barcode!\n",
      "Batch 1 train loaded: 55006 data points\n",
      "Using 51 barcodes\n",
      "Using 1093 genes\n",
      "No embedding files for 988 data points in data/embeddings/batch_1/val/single_gene_barcode!\n",
      "Batch 1 val loaded: 7966 data points\n"
     ]
    }
   ],
   "source": [
    "# read dataset\n",
    "batch_name = 'batch_' + BATCH\n",
    "train_data_root = data_root / 'embeddings' / batch_name / 'train'\n",
    "assert train_data_root.is_dir(), \\\n",
    "    'Training data not found: \"{}\" not a directory'.format(train_data_root)\n",
    "val_data_root = data_root / 'embeddings' / batch_name / 'val'\n",
    "assert val_data_root.is_dir(), \\\n",
    "    'Training data not found: \"{}\" not a directory'.format(val_data_root)\n",
    "\n",
    "train_df = pd.read_csv(\n",
    "    data_root / 'splits' / 'batch{}_training_filtered.tsv'.format(BATCH),\n",
    "    sep='\\t'\n",
    "    ) #.head(700)\n",
    "train_dataset = CnvMemoryDataset(\n",
    "    root=train_data_root, data_df=train_df, include_dna=INCLUDE_DNA,\n",
    "    include_atac=INCLUDE_ATAC, include_cnv=INCLUDE_CNV\n",
    "    )\n",
    "print('Batch {} train loaded: {} data points'.format(BATCH, len(train_dataset)))\n",
    "\n",
    "val_df = pd.read_csv(\n",
    "    data_root / 'splits' / 'batch{}_val_filtered.tsv'.format(BATCH), sep='\\t'\n",
    "    ) #.head(100)\n",
    "val_dataset = CnvMemoryDataset(\n",
    "    root=val_data_root, data_df=val_df, include_dna=INCLUDE_DNA,\n",
    "    include_atac=INCLUDE_ATAC, include_cnv=INCLUDE_CNV\n",
    "    )\n",
    "print('Batch {} val loaded: {} data points'.format(BATCH, len(val_dataset)))"
   ]
  },
  {
   "cell_type": "code",
   "execution_count": 6,
   "metadata": {},
   "outputs": [
    {
     "name": "stdout",
     "output_type": "stream",
     "text": [
      "Using device: cpu\n"
     ]
    }
   ],
   "source": [
    "# hyper parameters\n",
    "hparams = {\n",
    "    'batch_size': 32,\n",
    "    'epochs': EPOCHS,\n",
    "    'lr': 1e-6,\n",
    "    'in_dim': IN_DIM\n",
    "}\n",
    "device = torch.device('cuda:0' if torch.cuda.is_available() else 'cpu')\n",
    "print('Using device:', device)"
   ]
  },
  {
   "cell_type": "code",
   "execution_count": 7,
   "metadata": {},
   "outputs": [],
   "source": [
    "# define dataloaders\n",
    "batch_size = hparams.get('batch_size', 32)\n",
    "train_loader = DataLoader(train_dataset, batch_size=batch_size, shuffle=True, drop_last=True)\n",
    "val_loader = DataLoader(val_dataset, batch_size=batch_size, shuffle=True, drop_last=True)"
   ]
  },
  {
   "cell_type": "markdown",
   "metadata": {},
   "source": [
    "## Model selection\n",
    "Select the model to train here."
   ]
  },
  {
   "cell_type": "code",
   "execution_count": 8,
   "metadata": {},
   "outputs": [],
   "source": [
    "from src.network.chromosome_cnn import ChromosomeCNN, ModifiedChromosomeCNN\n",
    "from src.network.simple_nn import SimpleCNN, DeepCNN\n",
    "from src.network.promoter_nn import PromoterCNN"
   ]
  },
  {
   "cell_type": "code",
   "execution_count": 9,
   "metadata": {},
   "outputs": [
    {
     "data": {
      "text/plain": [
       "torch.Size([32, 3, 10000])"
      ]
     },
     "execution_count": 9,
     "metadata": {},
     "output_type": "execute_result"
    }
   ],
   "source": [
    "x1, y1 = next(iter(train_loader))\n",
    "x1.size()"
   ]
  },
  {
   "cell_type": "code",
   "execution_count": 10,
   "metadata": {},
   "outputs": [
    {
     "data": {
      "text/plain": [
       "torch.Size([32, 1])"
      ]
     },
     "execution_count": 10,
     "metadata": {},
     "output_type": "execute_result"
    }
   ],
   "source": [
    "y1.size()"
   ]
  },
  {
   "cell_type": "code",
   "execution_count": 11,
   "metadata": {},
   "outputs": [],
   "source": [
    "# define model\n",
    "# cnn_model = SimpleCNN(hparams=hparams)\n",
    "cnn_model = ModifiedChromosomeCNN(input_dim=IN_DIM, seq_len=SEQ_LEN, output_dim=OUT_DIM)"
   ]
  },
  {
   "cell_type": "code",
   "execution_count": 12,
   "metadata": {},
   "outputs": [
    {
     "data": {
      "text/plain": [
       "tensor([[-0.0033],\n",
       "        [-0.0033],\n",
       "        [-0.0033],\n",
       "        [-0.0033],\n",
       "        [-0.0033],\n",
       "        [-0.0033],\n",
       "        [-0.0033],\n",
       "        [-0.0033],\n",
       "        [-0.0033],\n",
       "        [ 0.2290],\n",
       "        [-0.0033],\n",
       "        [ 1.0916],\n",
       "        [-0.0033],\n",
       "        [ 0.0161],\n",
       "        [-0.0033],\n",
       "        [-0.0033],\n",
       "        [ 0.1919],\n",
       "        [-0.0033],\n",
       "        [-0.0033],\n",
       "        [-0.0608],\n",
       "        [-0.0033],\n",
       "        [-0.0033],\n",
       "        [-0.0033],\n",
       "        [ 0.6848],\n",
       "        [ 0.0161],\n",
       "        [-0.0033],\n",
       "        [ 0.1972],\n",
       "        [-0.0033],\n",
       "        [-0.0033],\n",
       "        [-0.0033],\n",
       "        [-0.0033],\n",
       "        [-0.0033]], grad_fn=<AddmmBackward0>)"
      ]
     },
     "execution_count": 12,
     "metadata": {},
     "output_type": "execute_result"
    }
   ],
   "source": [
    "cnn_model(x1)"
   ]
  },
  {
   "cell_type": "code",
   "execution_count": 13,
   "metadata": {},
   "outputs": [],
   "source": [
    "tb_log_path = Path('log') / 'tensorboard'\n",
    "assert tb_log_path.is_dir(), 'Tensorboard logging directory does not exist!'\n",
    "model_name = '_'.join([MODEL_NAME, 'batch' + BATCH])\n",
    "if not INCLUDE_DNA:\n",
    "    model_name += '_noDNA'\n",
    "if not INCLUDE_ATAC:\n",
    "    model_name += '_noATAC'\n",
    "if not INCLUDE_CNV:\n",
    "    model_name += '_noCNV'\n",
    "# define tensorboard logger\n",
    "from torch.utils.tensorboard import SummaryWriter\n",
    "run_number = len([\n",
    "    d for d in tb_log_path.iterdir() \\\n",
    "        if d.is_dir() and d.name.startswith(model_name)\n",
    "    ])\n",
    "model_name = '_'.join([model_name, 'run' + str(run_number)])\n",
    "tb_log_path = tb_log_path / model_name\n",
    "tb_logger = SummaryWriter(tb_log_path)\n"
   ]
  },
  {
   "cell_type": "code",
   "execution_count": 14,
   "metadata": {},
   "outputs": [
    {
     "data": {
      "text/plain": [
       "'ModChrCNN_batch1_noDNA_run0'"
      ]
     },
     "execution_count": 14,
     "metadata": {},
     "output_type": "execute_result"
    }
   ],
   "source": [
    "model_name"
   ]
  },
  {
   "cell_type": "code",
   "execution_count": 15,
   "metadata": {},
   "outputs": [],
   "source": [
    "# define training function\n",
    "from src.network.training import train_model\n",
    "model_dir = model_path / '_'.join([MODEL_NAME, 'batch' + BATCH])\n",
    "if not model_dir.exists():\n",
    "    model_dir.mkdir()"
   ]
  },
  {
   "cell_type": "code",
   "execution_count": 16,
   "metadata": {},
   "outputs": [
    {
     "name": "stderr",
     "output_type": "stream",
     "text": [
      "Training Epoch [1/20]:  38%|█████████████▉                       | 647/1718 [15:25:26<25:31:54, 85.82s/it, train_loss=0.69996662, val_loss=0.00000000]\n"
     ]
    },
    {
     "ename": "KeyboardInterrupt",
     "evalue": "",
     "output_type": "error",
     "traceback": [
      "\u001b[0;31m---------------------------------------------------------------------------\u001b[0m",
      "\u001b[0;31mKeyboardInterrupt\u001b[0m                         Traceback (most recent call last)",
      "Cell \u001b[0;32mIn[16], line 1\u001b[0m\n\u001b[0;32m----> 1\u001b[0m avg_val_loss, best_model \u001b[38;5;241m=\u001b[39m \u001b[43mtrain_model\u001b[49m\u001b[43m(\u001b[49m\n\u001b[1;32m      2\u001b[0m \u001b[43m    \u001b[49m\u001b[43mmodel\u001b[49m\u001b[38;5;241;43m=\u001b[39;49m\u001b[43mcnn_model\u001b[49m\u001b[43m,\u001b[49m\u001b[43m \u001b[49m\u001b[43mhparams\u001b[49m\u001b[38;5;241;43m=\u001b[39;49m\u001b[43mhparams\u001b[49m\u001b[43m,\u001b[49m\u001b[43m \u001b[49m\u001b[43mtrain_loader\u001b[49m\u001b[38;5;241;43m=\u001b[39;49m\u001b[43mtrain_loader\u001b[49m\u001b[43m,\u001b[49m\n\u001b[1;32m      3\u001b[0m \u001b[43m    \u001b[49m\u001b[43mval_loader\u001b[49m\u001b[38;5;241;43m=\u001b[39;49m\u001b[43mval_loader\u001b[49m\u001b[43m,\u001b[49m\u001b[43m \u001b[49m\u001b[43mtb_logger\u001b[49m\u001b[38;5;241;43m=\u001b[39;49m\u001b[43mtb_logger\u001b[49m\u001b[43m,\u001b[49m\u001b[43m \u001b[49m\u001b[43mdevice\u001b[49m\u001b[38;5;241;43m=\u001b[39;49m\u001b[43mdevice\u001b[49m\u001b[43m,\u001b[49m\n\u001b[1;32m      4\u001b[0m \u001b[43m    \u001b[49m\u001b[43mmodel_path\u001b[49m\u001b[38;5;241;43m=\u001b[39;49m\u001b[43mmodel_dir\u001b[49m\u001b[43m,\u001b[49m\u001b[43m \u001b[49m\u001b[43mmodel_name\u001b[49m\u001b[38;5;241;43m=\u001b[39;49m\u001b[43mmodel_name\u001b[49m\u001b[43m,\u001b[49m\u001b[43m \u001b[49m\u001b[43mplot_path\u001b[49m\u001b[38;5;241;43m=\u001b[39;49m\u001b[43mplot_path\u001b[49m\n\u001b[1;32m      5\u001b[0m \u001b[43m)\u001b[49m\n",
      "File \u001b[0;32m~/cmscb8/src/network/training.py:91\u001b[0m, in \u001b[0;36mtrain_model\u001b[0;34m(model, hparams, train_loader, val_loader, tb_logger, device, model_path, model_name, plot_path, stop_early)\u001b[0m\n\u001b[1;32m     88\u001b[0m     outputs \u001b[38;5;241m=\u001b[39m model(stacked_inputs_batch)\n\u001b[1;32m     89\u001b[0m     loss \u001b[38;5;241m=\u001b[39m criterion(outputs, y_batch)\n\u001b[0;32m---> 91\u001b[0m \u001b[43mloss\u001b[49m\u001b[38;5;241;43m.\u001b[39;49m\u001b[43mbackward\u001b[49m\u001b[43m(\u001b[49m\u001b[43m)\u001b[49m\n\u001b[1;32m     92\u001b[0m optimizer\u001b[38;5;241m.\u001b[39mstep()\n\u001b[1;32m     93\u001b[0m scheduler\u001b[38;5;241m.\u001b[39mstep()\n",
      "File \u001b[0;32m/vol/storage/shared/miniforge3/envs/ssb/lib/python3.12/site-packages/torch/_tensor.py:626\u001b[0m, in \u001b[0;36mTensor.backward\u001b[0;34m(self, gradient, retain_graph, create_graph, inputs)\u001b[0m\n\u001b[1;32m    616\u001b[0m \u001b[38;5;28;01mif\u001b[39;00m has_torch_function_unary(\u001b[38;5;28mself\u001b[39m):\n\u001b[1;32m    617\u001b[0m     \u001b[38;5;28;01mreturn\u001b[39;00m handle_torch_function(\n\u001b[1;32m    618\u001b[0m         Tensor\u001b[38;5;241m.\u001b[39mbackward,\n\u001b[1;32m    619\u001b[0m         (\u001b[38;5;28mself\u001b[39m,),\n\u001b[0;32m   (...)\u001b[0m\n\u001b[1;32m    624\u001b[0m         inputs\u001b[38;5;241m=\u001b[39minputs,\n\u001b[1;32m    625\u001b[0m     )\n\u001b[0;32m--> 626\u001b[0m \u001b[43mtorch\u001b[49m\u001b[38;5;241;43m.\u001b[39;49m\u001b[43mautograd\u001b[49m\u001b[38;5;241;43m.\u001b[39;49m\u001b[43mbackward\u001b[49m\u001b[43m(\u001b[49m\n\u001b[1;32m    627\u001b[0m \u001b[43m    \u001b[49m\u001b[38;5;28;43mself\u001b[39;49m\u001b[43m,\u001b[49m\u001b[43m \u001b[49m\u001b[43mgradient\u001b[49m\u001b[43m,\u001b[49m\u001b[43m \u001b[49m\u001b[43mretain_graph\u001b[49m\u001b[43m,\u001b[49m\u001b[43m \u001b[49m\u001b[43mcreate_graph\u001b[49m\u001b[43m,\u001b[49m\u001b[43m \u001b[49m\u001b[43minputs\u001b[49m\u001b[38;5;241;43m=\u001b[39;49m\u001b[43minputs\u001b[49m\n\u001b[1;32m    628\u001b[0m \u001b[43m\u001b[49m\u001b[43m)\u001b[49m\n",
      "File \u001b[0;32m/vol/storage/shared/miniforge3/envs/ssb/lib/python3.12/site-packages/torch/autograd/__init__.py:347\u001b[0m, in \u001b[0;36mbackward\u001b[0;34m(tensors, grad_tensors, retain_graph, create_graph, grad_variables, inputs)\u001b[0m\n\u001b[1;32m    342\u001b[0m     retain_graph \u001b[38;5;241m=\u001b[39m create_graph\n\u001b[1;32m    344\u001b[0m \u001b[38;5;66;03m# The reason we repeat the same comment below is that\u001b[39;00m\n\u001b[1;32m    345\u001b[0m \u001b[38;5;66;03m# some Python versions print out the first line of a multi-line function\u001b[39;00m\n\u001b[1;32m    346\u001b[0m \u001b[38;5;66;03m# calls in the traceback and some print out the last line\u001b[39;00m\n\u001b[0;32m--> 347\u001b[0m \u001b[43m_engine_run_backward\u001b[49m\u001b[43m(\u001b[49m\n\u001b[1;32m    348\u001b[0m \u001b[43m    \u001b[49m\u001b[43mtensors\u001b[49m\u001b[43m,\u001b[49m\n\u001b[1;32m    349\u001b[0m \u001b[43m    \u001b[49m\u001b[43mgrad_tensors_\u001b[49m\u001b[43m,\u001b[49m\n\u001b[1;32m    350\u001b[0m \u001b[43m    \u001b[49m\u001b[43mretain_graph\u001b[49m\u001b[43m,\u001b[49m\n\u001b[1;32m    351\u001b[0m \u001b[43m    \u001b[49m\u001b[43mcreate_graph\u001b[49m\u001b[43m,\u001b[49m\n\u001b[1;32m    352\u001b[0m \u001b[43m    \u001b[49m\u001b[43minputs\u001b[49m\u001b[43m,\u001b[49m\n\u001b[1;32m    353\u001b[0m \u001b[43m    \u001b[49m\u001b[43mallow_unreachable\u001b[49m\u001b[38;5;241;43m=\u001b[39;49m\u001b[38;5;28;43;01mTrue\u001b[39;49;00m\u001b[43m,\u001b[49m\n\u001b[1;32m    354\u001b[0m \u001b[43m    \u001b[49m\u001b[43maccumulate_grad\u001b[49m\u001b[38;5;241;43m=\u001b[39;49m\u001b[38;5;28;43;01mTrue\u001b[39;49;00m\u001b[43m,\u001b[49m\n\u001b[1;32m    355\u001b[0m \u001b[43m\u001b[49m\u001b[43m)\u001b[49m\n",
      "File \u001b[0;32m/vol/storage/shared/miniforge3/envs/ssb/lib/python3.12/site-packages/torch/autograd/graph.py:823\u001b[0m, in \u001b[0;36m_engine_run_backward\u001b[0;34m(t_outputs, *args, **kwargs)\u001b[0m\n\u001b[1;32m    821\u001b[0m     unregister_hooks \u001b[38;5;241m=\u001b[39m _register_logging_hooks_on_whole_graph(t_outputs)\n\u001b[1;32m    822\u001b[0m \u001b[38;5;28;01mtry\u001b[39;00m:\n\u001b[0;32m--> 823\u001b[0m     \u001b[38;5;28;01mreturn\u001b[39;00m \u001b[43mVariable\u001b[49m\u001b[38;5;241;43m.\u001b[39;49m\u001b[43m_execution_engine\u001b[49m\u001b[38;5;241;43m.\u001b[39;49m\u001b[43mrun_backward\u001b[49m\u001b[43m(\u001b[49m\u001b[43m  \u001b[49m\u001b[38;5;66;43;03m# Calls into the C++ engine to run the backward pass\u001b[39;49;00m\n\u001b[1;32m    824\u001b[0m \u001b[43m        \u001b[49m\u001b[43mt_outputs\u001b[49m\u001b[43m,\u001b[49m\u001b[43m \u001b[49m\u001b[38;5;241;43m*\u001b[39;49m\u001b[43margs\u001b[49m\u001b[43m,\u001b[49m\u001b[43m \u001b[49m\u001b[38;5;241;43m*\u001b[39;49m\u001b[38;5;241;43m*\u001b[39;49m\u001b[43mkwargs\u001b[49m\n\u001b[1;32m    825\u001b[0m \u001b[43m    \u001b[49m\u001b[43m)\u001b[49m  \u001b[38;5;66;03m# Calls into the C++ engine to run the backward pass\u001b[39;00m\n\u001b[1;32m    826\u001b[0m \u001b[38;5;28;01mfinally\u001b[39;00m:\n\u001b[1;32m    827\u001b[0m     \u001b[38;5;28;01mif\u001b[39;00m attach_logging_hooks:\n",
      "\u001b[0;31mKeyboardInterrupt\u001b[0m: "
     ]
    }
   ],
   "source": [
    "avg_val_loss, best_model = train_model(\n",
    "    model=cnn_model, hparams=hparams, train_loader=train_loader,\n",
    "    val_loader=val_loader, tb_logger=tb_logger, device=device,\n",
    "    model_path=model_dir, model_name=model_name, plot_path=plot_path\n",
    ")"
   ]
  },
  {
   "cell_type": "code",
   "execution_count": 83,
   "metadata": {},
   "outputs": [
    {
     "name": "stderr",
     "output_type": "stream",
     "text": [
      "Training Epoch [1/12]: 100%|████████████████████████████████████████████| 645/645 [01:05<00:00,  9.88it/s, train_loss=0.69047892, val_loss=0.00000000]\n",
      "Validation Epoch [1/12]: 100%|███████████████████████████████████████████████████████████████████| 99/99 [00:05<00:00, 18.90it/s, val_loss=0.69671094]\n",
      "Training Epoch [2/12]: 100%|████████████████████████████████████████████| 645/645 [01:03<00:00, 10.22it/s, train_loss=0.69046490, val_loss=0.69671094]\n",
      "Validation Epoch [2/12]: 100%|███████████████████████████████████████████████████████████████████| 99/99 [00:05<00:00, 18.63it/s, val_loss=0.69671574]\n",
      "Training Epoch [3/12]: 100%|████████████████████████████████████████████| 645/645 [01:07<00:00,  9.55it/s, train_loss=0.69046743, val_loss=0.69671574]\n",
      "Validation Epoch [3/12]: 100%|███████████████████████████████████████████████████████████████████| 99/99 [00:04<00:00, 21.65it/s, val_loss=0.69673104]\n",
      "Training Epoch [4/12]: 100%|████████████████████████████████████████████| 645/645 [01:02<00:00, 10.32it/s, train_loss=0.69046877, val_loss=0.69673104]\n",
      "Validation Epoch [4/12]: 100%|███████████████████████████████████████████████████████████████████| 99/99 [00:05<00:00, 18.16it/s, val_loss=0.69673594]\n",
      "Training Epoch [5/12]: 100%|████████████████████████████████████████████| 645/645 [01:01<00:00, 10.50it/s, train_loss=0.69048360, val_loss=0.69673594]\n",
      "Validation Epoch [5/12]: 100%|███████████████████████████████████████████████████████████████████| 99/99 [00:05<00:00, 19.27it/s, val_loss=0.69673589]\n",
      "Training Epoch [6/12]: 100%|████████████████████████████████████████████| 645/645 [00:59<00:00, 10.80it/s, train_loss=0.69047841, val_loss=0.69673589]\n",
      "Validation Epoch [6/12]: 100%|███████████████████████████████████████████████████████████████████| 99/99 [00:05<00:00, 17.79it/s, val_loss=0.69674384]\n",
      "Training Epoch [7/12]: 100%|████████████████████████████████████████████| 645/645 [01:02<00:00, 10.25it/s, train_loss=0.69045952, val_loss=0.69674384]\n",
      "Validation Epoch [7/12]: 100%|███████████████████████████████████████████████████████████████████| 99/99 [00:05<00:00, 17.80it/s, val_loss=0.69673729]\n",
      "Training Epoch [8/12]: 100%|████████████████████████████████████████████| 645/645 [01:01<00:00, 10.46it/s, train_loss=0.69047101, val_loss=0.69673729]\n",
      "Validation Epoch [8/12]: 100%|███████████████████████████████████████████████████████████████████| 99/99 [00:04<00:00, 21.30it/s, val_loss=0.69674213]\n",
      "Training Epoch [9/12]: 100%|████████████████████████████████████████████| 645/645 [01:04<00:00, 10.07it/s, train_loss=0.69046989, val_loss=0.69674213]\n",
      "Validation Epoch [9/12]: 100%|███████████████████████████████████████████████████████████████████| 99/99 [00:05<00:00, 17.28it/s, val_loss=0.69672707]\n",
      "Training Epoch [10/12]: 100%|███████████████████████████████████████████| 645/645 [01:04<00:00,  9.95it/s, train_loss=0.69046727, val_loss=0.69672707]\n",
      "Validation Epoch [10/12]: 100%|██████████████████████████████████████████████████████████████████| 99/99 [00:04<00:00, 22.79it/s, val_loss=0.69672424]\n",
      "Training Epoch [11/12]: 100%|███████████████████████████████████████████| 645/645 [01:01<00:00, 10.50it/s, train_loss=0.69046854, val_loss=0.69672424]\n",
      "Validation Epoch [11/12]: 100%|██████████████████████████████████████████████████████████████████| 99/99 [00:03<00:00, 26.04it/s, val_loss=0.69675008]\n",
      "Training Epoch [12/12]: 100%|███████████████████████████████████████████| 645/645 [01:01<00:00, 10.49it/s, train_loss=0.69046450, val_loss=0.69675008]\n",
      "Validation Epoch [12/12]: 100%|██████████████████████████████████████████████████████████████████| 99/99 [00:04<00:00, 19.99it/s, val_loss=0.69672272]\n",
      "/vol/storage/shared/miniforge3/envs/ssb/lib/python3.12/site-packages/plotnine/ggplot.py:615: PlotnineWarning: Saving 6.4 x 4.8 in image.\n",
      "/vol/storage/shared/miniforge3/envs/ssb/lib/python3.12/site-packages/plotnine/ggplot.py:616: PlotnineWarning: Filename: out/plots/cnn_training/promotor-dev_batch2_noDNA_run0_avg_loss.png\n"
     ]
    },
    {
     "name": "stdout",
     "output_type": "stream",
     "text": [
      "Early stopping after epoch 11\n"
     ]
    },
    {
     "data": {
      "image/png": "[encoded data removed]"
     },
     "metadata": {
      "image/png": {
       "height": 480,
       "width": 640
      }
     },
     "output_type": "display_data"
    }
   ],
   "source": [
    "# lr = 1e-4 run\n",
    "hparams['lr'] = 1e-4\n",
    "avg_val_loss, best_model = train_model(\n",
    "    model=cnn_model, hparams=hparams, train_loader=train_loader,\n",
    "    val_loader=val_loader, tb_logger=tb_logger, device=device,\n",
    "    model_path=model_dir, model_name=model_name, plot_path=plot_path\n",
    ")"
   ]
  }
 ],
 "metadata": {
  "kernelspec": {
   "display_name": "ssb",
   "language": "python",
   "name": "python3"
  },
  "language_info": {
   "codemirror_mode": {
    "name": "ipython",
    "version": 3
   },
   "file_extension": ".py",
   "mimetype": "text/x-python",
   "name": "python",
   "nbconvert_exporter": "python",
   "pygments_lexer": "ipython3",
   "version": "3.12.9"
  }
 },
 "nbformat": 4,
 "nbformat_minor": 2
}
