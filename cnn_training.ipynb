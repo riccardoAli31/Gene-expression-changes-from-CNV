{
 "cells": [
  {
   "cell_type": "markdown",
   "metadata": {},
   "source": [
    "# Building a CNN"
   ]
  },
  {
   "cell_type": "code",
   "execution_count": 1,
   "metadata": {},
   "outputs": [],
   "source": [
    "from pathlib import Path\n",
    "import pandas as pd\n",
    "# import numpy as np\n",
    "import torch\n",
    "from torch.utils.data import DataLoader\n",
    "from plotnine import *\n",
    "%load_ext autoreload\n",
    "%autoreload 2"
   ]
  },
  {
   "cell_type": "code",
   "execution_count": 2,
   "metadata": {},
   "outputs": [],
   "source": [
    "from src.data.dataset import CnvDataset, CnvMemoryDataset"
   ]
  },
  {
   "cell_type": "code",
   "execution_count": 20,
   "metadata": {},
   "outputs": [
    {
     "name": "stdout",
     "output_type": "stream",
     "text": [
      "CNN training script running for batch 1\n"
     ]
    }
   ],
   "source": [
    "# global variables\n",
    "MODEL_NAME = 'PromoterCNN'\n",
    "BATCH = '1'\n",
    "EPOCHS = 20\n",
    "INCLUDE_DNA = False\n",
    "INCLUDE_ATAC = True\n",
    "INCLUDE_CNV = True\n",
    "SEQ_LEN = 10_000\n",
    "IN_DIM = len(CnvDataset._subset_embedding_rows(\n",
    "    dna=INCLUDE_DNA, atac=INCLUDE_ATAC, cnv=INCLUDE_CNV\n",
    "    ))\n",
    "OUT_DIM = 1\n",
    "print('CNN training script running for batch {}'.format(BATCH))\n",
    "assert BATCH in ('1', '2'), 'Batch number not known: {}'.format(BATCH)"
   ]
  },
  {
   "cell_type": "code",
   "execution_count": 4,
   "metadata": {},
   "outputs": [],
   "source": [
    "# paths\n",
    "git_root = Path('.')\n",
    "data_root = git_root / 'data'\n",
    "assert data_root.exists(), \\\n",
    "    'Data directory not found!\\n{} does not exist'.format(data_root.absolute())\n",
    "model_path = git_root / 'model'\n",
    "assert model_path.is_dir(), 'Directory for saving models does not exist'\n",
    "plot_path = git_root / 'out' / 'plots' / 'cnn_training'\n",
    "if not plot_path.exists():\n",
    "    plot_path.mkdir(parents=True)\n",
    "tb_log_path = Path('log') / 'tensorboard'\n",
    "assert tb_log_path.is_dir(), 'Tensorboard logging directory does not exist!'"
   ]
  },
  {
   "cell_type": "code",
   "execution_count": 5,
   "metadata": {},
   "outputs": [
    {
     "name": "stdout",
     "output_type": "stream",
     "text": [
      "Using 356 barcodes\n",
      "Using 1595 genes\n",
      "No embedding files for 4335 data points in data/embeddings/batch_1/train/single_gene_barcode!\n",
      "Batch 1 train loaded: 55006 data points\n",
      "Using 51 barcodes\n",
      "Using 1093 genes\n",
      "No embedding files for 988 data points in data/embeddings/batch_1/val/single_gene_barcode!\n",
      "Batch 1 val loaded: 7966 data points\n"
     ]
    }
   ],
   "source": [
    "# read dataset\n",
    "batch_name = 'batch_' + BATCH\n",
    "train_data_root = data_root / 'embeddings' / batch_name / 'train'\n",
    "assert train_data_root.is_dir(), \\\n",
    "    'Training data not found: \"{}\" not a directory'.format(train_data_root)\n",
    "val_data_root = data_root / 'embeddings' / batch_name / 'val'\n",
    "assert val_data_root.is_dir(), \\\n",
    "    'Training data not found: \"{}\" not a directory'.format(val_data_root)\n",
    "\n",
    "train_df = pd.read_csv(\n",
    "    data_root / 'splits' / 'batch{}_training_filtered.tsv'.format(BATCH),\n",
    "    sep='\\t'\n",
    "    ) #.head(700)\n",
    "train_dataset = CnvMemoryDataset(\n",
    "    root=train_data_root, data_df=train_df, include_dna=INCLUDE_DNA,\n",
    "    include_atac=INCLUDE_ATAC, include_cnv=INCLUDE_CNV\n",
    "    )\n",
    "print('Batch {} train loaded: {} data points'.format(BATCH, len(train_dataset)))\n",
    "\n",
    "val_df = pd.read_csv(\n",
    "    data_root / 'splits' / 'batch{}_val_filtered.tsv'.format(BATCH), sep='\\t'\n",
    "    ) #.head(100)\n",
    "val_dataset = CnvMemoryDataset(\n",
    "    root=val_data_root, data_df=val_df, include_dna=INCLUDE_DNA,\n",
    "    include_atac=INCLUDE_ATAC, include_cnv=INCLUDE_CNV\n",
    "    )\n",
    "print('Batch {} val loaded: {} data points'.format(BATCH, len(val_dataset)))"
   ]
  },
  {
   "cell_type": "code",
   "execution_count": 21,
   "metadata": {},
   "outputs": [
    {
     "name": "stdout",
     "output_type": "stream",
     "text": [
      "Using device: cpu\n"
     ]
    }
   ],
   "source": [
    "# hyper parameters\n",
    "hparams = {\n",
    "    'batch_size': 32,\n",
    "    'epochs': EPOCHS,\n",
    "    'lr': 1e-4,\n",
    "    'in_dim': IN_DIM\n",
    "}\n",
    "device = torch.device('cuda:0' if torch.cuda.is_available() else 'cpu')\n",
    "print('Using device:', device)"
   ]
  },
  {
   "cell_type": "code",
   "execution_count": 7,
   "metadata": {},
   "outputs": [],
   "source": [
    "# define dataloaders\n",
    "batch_size = hparams.get('batch_size', 32)\n",
    "train_loader = DataLoader(train_dataset, batch_size=batch_size, shuffle=True, drop_last=True)\n",
    "val_loader = DataLoader(val_dataset, batch_size=batch_size, shuffle=True, drop_last=True)"
   ]
  },
  {
   "cell_type": "markdown",
   "metadata": {},
   "source": [
    "## Model selection\n",
    "Select the model to train here."
   ]
  },
  {
   "cell_type": "code",
   "execution_count": 8,
   "metadata": {},
   "outputs": [],
   "source": [
    "from src.network.chromosome_cnn import ChromosomeCNN, ModifiedChromosomeCNN\n",
    "from src.network.simple_nn import SimpleCNN, DeepCNN\n",
    "from src.network.promoter_nn import PromoterCNN"
   ]
  },
  {
   "cell_type": "code",
   "execution_count": 10,
   "metadata": {},
   "outputs": [
    {
     "data": {
      "text/plain": [
       "torch.Size([32, 3, 10000])"
      ]
     },
     "execution_count": 10,
     "metadata": {},
     "output_type": "execute_result"
    }
   ],
   "source": [
    "x1, y1 = next(iter(train_loader))\n",
    "x1.size()"
   ]
  },
  {
   "cell_type": "code",
   "execution_count": 11,
   "metadata": {},
   "outputs": [
    {
     "data": {
      "text/plain": [
       "torch.Size([32, 1])"
      ]
     },
     "execution_count": 11,
     "metadata": {},
     "output_type": "execute_result"
    }
   ],
   "source": [
    "y1.size()"
   ]
  },
  {
   "cell_type": "code",
   "execution_count": 22,
   "metadata": {},
   "outputs": [],
   "source": [
    "# define model\n",
    "cnn_model = PromoterCNN(hparams=hparams)\n",
    "# cnn_model = ModifiedChromosomeCNN(input_dim=IN_DIM, seq_len=SEQ_LEN, output_dim=OUT_DIM)"
   ]
  },
  {
   "cell_type": "code",
   "execution_count": 23,
   "metadata": {},
   "outputs": [
    {
     "data": {
      "text/plain": [
       "tensor([[0.0087],\n",
       "        [0.0089],\n",
       "        [0.0085],\n",
       "        [0.0088],\n",
       "        [0.0090],\n",
       "        [0.0086],\n",
       "        [0.0087],\n",
       "        [0.0087],\n",
       "        [0.0087],\n",
       "        [0.0085],\n",
       "        [0.0085],\n",
       "        [0.0087],\n",
       "        [0.0087],\n",
       "        [0.0085],\n",
       "        [0.0087],\n",
       "        [0.0086],\n",
       "        [0.0087],\n",
       "        [0.0087],\n",
       "        [0.0086],\n",
       "        [0.0083],\n",
       "        [0.0089],\n",
       "        [0.0088],\n",
       "        [0.0122],\n",
       "        [0.0100],\n",
       "        [0.0088],\n",
       "        [0.0086],\n",
       "        [0.0137],\n",
       "        [0.0084],\n",
       "        [0.0090],\n",
       "        [0.0085],\n",
       "        [0.0088],\n",
       "        [0.0083]], grad_fn=<AddmmBackward0>)"
      ]
     },
     "execution_count": 23,
     "metadata": {},
     "output_type": "execute_result"
    }
   ],
   "source": [
    "y1_hat = cnn_model(x1)\n",
    "y1_hat"
   ]
  },
  {
   "cell_type": "code",
   "execution_count": 13,
   "metadata": {},
   "outputs": [],
   "source": [
    "from torchviz import make_dot"
   ]
  },
  {
   "cell_type": "code",
   "execution_count": 14,
   "metadata": {},
   "outputs": [
    {
     "data": {
      "image/svg+xml": [
       "<?xml version=\"1.0\" encoding=\"UTF-8\" standalone=\"no\"?>\n",
       "<!DOCTYPE svg PUBLIC \"-//W3C//DTD SVG 1.1//EN\"\n",
       " \"http://www.w3.org/Graphics/SVG/1.1/DTD/svg11.dtd\">\n",
       "<!-- Generated by graphviz version 2.43.0 (0)\n",
       " -->\n",
       "<!-- Title: %3 Pages: 1 -->\n",
       "<svg width=\"338pt\" height=\"732pt\"\n",
       " viewBox=\"0.00 0.00 338.00 732.00\" xmlns=\"http://www.w3.org/2000/svg\" xmlns:xlink=\"http://www.w3.org/1999/xlink\">\n",
       "<g id=\"graph0\" class=\"graph\" transform=\"scale(1 1) rotate(0) translate(4 728)\">\n",
       "<title>%3</title>\n",
       "<polygon fill=\"white\" stroke=\"transparent\" points=\"-4,4 -4,-728 334,-728 334,4 -4,4\"/>\n",
       "<!-- 133967484843456 -->\n",
       "<g id=\"node1\" class=\"node\">\n",
       "<title>133967484843456</title>\n",
       "<polygon fill=\"#caff70\" stroke=\"black\" points=\"199,-31 134,-31 134,0 199,0 199,-31\"/>\n",
       "<text text-anchor=\"middle\" x=\"166.5\" y=\"-7\" font-family=\"monospace\" font-size=\"10.00\"> (32, 1)</text>\n",
       "</g>\n",
       "<!-- 133967465593008 -->\n",
       "<g id=\"node2\" class=\"node\">\n",
       "<title>133967465593008</title>\n",
       "<polygon fill=\"lightgrey\" stroke=\"black\" points=\"217,-86 116,-86 116,-67 217,-67 217,-86\"/>\n",
       "<text text-anchor=\"middle\" x=\"166.5\" y=\"-74\" font-family=\"monospace\" font-size=\"10.00\">RoundBackward0</text>\n",
       "</g>\n",
       "<!-- 133967465593008&#45;&gt;133967484843456 -->\n",
       "<g id=\"edge19\" class=\"edge\">\n",
       "<title>133967465593008&#45;&gt;133967484843456</title>\n",
       "<path fill=\"none\" stroke=\"black\" d=\"M166.5,-66.79C166.5,-60.07 166.5,-50.4 166.5,-41.34\"/>\n",
       "<polygon fill=\"black\" stroke=\"black\" points=\"170,-41.19 166.5,-31.19 163,-41.19 170,-41.19\"/>\n",
       "</g>\n",
       "<!-- 133967471149008 -->\n",
       "<g id=\"node3\" class=\"node\">\n",
       "<title>133967471149008</title>\n",
       "<polygon fill=\"lightgrey\" stroke=\"black\" points=\"223,-141 110,-141 110,-122 223,-122 223,-141\"/>\n",
       "<text text-anchor=\"middle\" x=\"166.5\" y=\"-129\" font-family=\"monospace\" font-size=\"10.00\">SigmoidBackward0</text>\n",
       "</g>\n",
       "<!-- 133967471149008&#45;&gt;133967465593008 -->\n",
       "<g id=\"edge1\" class=\"edge\">\n",
       "<title>133967471149008&#45;&gt;133967465593008</title>\n",
       "<path fill=\"none\" stroke=\"black\" d=\"M166.5,-121.75C166.5,-114.8 166.5,-104.85 166.5,-96.13\"/>\n",
       "<polygon fill=\"black\" stroke=\"black\" points=\"170,-96.09 166.5,-86.09 163,-96.09 170,-96.09\"/>\n",
       "</g>\n",
       "<!-- 133967465583648 -->\n",
       "<g id=\"node4\" class=\"node\">\n",
       "<title>133967465583648</title>\n",
       "<polygon fill=\"lightgrey\" stroke=\"black\" points=\"217,-196 116,-196 116,-177 217,-177 217,-196\"/>\n",
       "<text text-anchor=\"middle\" x=\"166.5\" y=\"-184\" font-family=\"monospace\" font-size=\"10.00\">AddmmBackward0</text>\n",
       "</g>\n",
       "<!-- 133967465583648&#45;&gt;133967471149008 -->\n",
       "<g id=\"edge2\" class=\"edge\">\n",
       "<title>133967465583648&#45;&gt;133967471149008</title>\n",
       "<path fill=\"none\" stroke=\"black\" d=\"M166.5,-176.75C166.5,-169.8 166.5,-159.85 166.5,-151.13\"/>\n",
       "<polygon fill=\"black\" stroke=\"black\" points=\"170,-151.09 166.5,-141.09 163,-151.09 170,-151.09\"/>\n",
       "</g>\n",
       "<!-- 133967363550480 -->\n",
       "<g id=\"node5\" class=\"node\">\n",
       "<title>133967363550480</title>\n",
       "<polygon fill=\"lightgrey\" stroke=\"black\" points=\"101,-251 0,-251 0,-232 101,-232 101,-251\"/>\n",
       "<text text-anchor=\"middle\" x=\"50.5\" y=\"-239\" font-family=\"monospace\" font-size=\"10.00\">AccumulateGrad</text>\n",
       "</g>\n",
       "<!-- 133967363550480&#45;&gt;133967465583648 -->\n",
       "<g id=\"edge3\" class=\"edge\">\n",
       "<title>133967363550480&#45;&gt;133967465583648</title>\n",
       "<path fill=\"none\" stroke=\"black\" d=\"M69.14,-231.98C87.8,-223.46 116.75,-210.23 138.24,-200.41\"/>\n",
       "<polygon fill=\"black\" stroke=\"black\" points=\"139.88,-203.51 147.52,-196.17 136.97,-197.14 139.88,-203.51\"/>\n",
       "</g>\n",
       "<!-- 133967384156496 -->\n",
       "<g id=\"node6\" class=\"node\">\n",
       "<title>133967384156496</title>\n",
       "<polygon fill=\"lightblue\" stroke=\"black\" points=\"80,-317 21,-317 21,-287 80,-287 80,-317\"/>\n",
       "<text text-anchor=\"middle\" x=\"50.5\" y=\"-305\" font-family=\"monospace\" font-size=\"10.00\">fc.bias</text>\n",
       "<text text-anchor=\"middle\" x=\"50.5\" y=\"-294\" font-family=\"monospace\" font-size=\"10.00\"> (1)</text>\n",
       "</g>\n",
       "<!-- 133967384156496&#45;&gt;133967363550480 -->\n",
       "<g id=\"edge4\" class=\"edge\">\n",
       "<title>133967384156496&#45;&gt;133967363550480</title>\n",
       "<path fill=\"none\" stroke=\"black\" d=\"M50.5,-286.84C50.5,-279.21 50.5,-269.7 50.5,-261.45\"/>\n",
       "<polygon fill=\"black\" stroke=\"black\" points=\"54,-261.27 50.5,-251.27 47,-261.27 54,-261.27\"/>\n",
       "</g>\n",
       "<!-- 133967363550528 -->\n",
       "<g id=\"node7\" class=\"node\">\n",
       "<title>133967363550528</title>\n",
       "<polygon fill=\"lightgrey\" stroke=\"black\" points=\"214,-251 119,-251 119,-232 214,-232 214,-251\"/>\n",
       "<text text-anchor=\"middle\" x=\"166.5\" y=\"-239\" font-family=\"monospace\" font-size=\"10.00\">ViewBackward0</text>\n",
       "</g>\n",
       "<!-- 133967363550528&#45;&gt;133967465583648 -->\n",
       "<g id=\"edge5\" class=\"edge\">\n",
       "<title>133967363550528&#45;&gt;133967465583648</title>\n",
       "<path fill=\"none\" stroke=\"black\" d=\"M166.5,-231.75C166.5,-224.8 166.5,-214.85 166.5,-206.13\"/>\n",
       "<polygon fill=\"black\" stroke=\"black\" points=\"170,-206.09 166.5,-196.09 163,-206.09 170,-206.09\"/>\n",
       "</g>\n",
       "<!-- 133967465679504 -->\n",
       "<g id=\"node8\" class=\"node\">\n",
       "<title>133967465679504</title>\n",
       "<polygon fill=\"lightgrey\" stroke=\"black\" points=\"211,-311.5 116,-311.5 116,-292.5 211,-292.5 211,-311.5\"/>\n",
       "<text text-anchor=\"middle\" x=\"163.5\" y=\"-299.5\" font-family=\"monospace\" font-size=\"10.00\">ReluBackward0</text>\n",
       "</g>\n",
       "<!-- 133967465679504&#45;&gt;133967363550528 -->\n",
       "<g id=\"edge6\" class=\"edge\">\n",
       "<title>133967465679504&#45;&gt;133967363550528</title>\n",
       "<path fill=\"none\" stroke=\"black\" d=\"M163.94,-292.37C164.36,-284.25 165,-271.81 165.53,-261.39\"/>\n",
       "<polygon fill=\"black\" stroke=\"black\" points=\"169.04,-261.33 166.06,-251.17 162.05,-260.97 169.04,-261.33\"/>\n",
       "</g>\n",
       "<!-- 133967363550672 -->\n",
       "<g id=\"node9\" class=\"node\">\n",
       "<title>133967363550672</title>\n",
       "<polygon fill=\"lightgrey\" stroke=\"black\" points=\"220,-377.5 107,-377.5 107,-358.5 220,-358.5 220,-377.5\"/>\n",
       "<text text-anchor=\"middle\" x=\"163.5\" y=\"-365.5\" font-family=\"monospace\" font-size=\"10.00\">SqueezeBackward1</text>\n",
       "</g>\n",
       "<!-- 133967363550672&#45;&gt;133967465679504 -->\n",
       "<g id=\"edge7\" class=\"edge\">\n",
       "<title>133967363550672&#45;&gt;133967465679504</title>\n",
       "<path fill=\"none\" stroke=\"black\" d=\"M163.5,-358.37C163.5,-349.16 163.5,-334.29 163.5,-322.27\"/>\n",
       "<polygon fill=\"black\" stroke=\"black\" points=\"167,-321.91 163.5,-311.91 160,-321.91 167,-321.91\"/>\n",
       "</g>\n",
       "<!-- 133967426865424 -->\n",
       "<g id=\"node10\" class=\"node\">\n",
       "<title>133967426865424</title>\n",
       "<polygon fill=\"lightgrey\" stroke=\"black\" points=\"259,-438 68,-438 68,-419 259,-419 259,-438\"/>\n",
       "<text text-anchor=\"middle\" x=\"163.5\" y=\"-426\" font-family=\"monospace\" font-size=\"10.00\">MaxPool2DWithIndicesBackward0</text>\n",
       "</g>\n",
       "<!-- 133967426865424&#45;&gt;133967363550672 -->\n",
       "<g id=\"edge8\" class=\"edge\">\n",
       "<title>133967426865424&#45;&gt;133967363550672</title>\n",
       "<path fill=\"none\" stroke=\"black\" d=\"M163.5,-418.87C163.5,-410.75 163.5,-398.31 163.5,-387.89\"/>\n",
       "<polygon fill=\"black\" stroke=\"black\" points=\"167,-387.67 163.5,-377.67 160,-387.67 167,-387.67\"/>\n",
       "</g>\n",
       "<!-- 133967363550864 -->\n",
       "<g id=\"node11\" class=\"node\">\n",
       "<title>133967363550864</title>\n",
       "<polygon fill=\"lightgrey\" stroke=\"black\" points=\"226,-493 101,-493 101,-474 226,-474 226,-493\"/>\n",
       "<text text-anchor=\"middle\" x=\"163.5\" y=\"-481\" font-family=\"monospace\" font-size=\"10.00\">UnsqueezeBackward0</text>\n",
       "</g>\n",
       "<!-- 133967363550864&#45;&gt;133967426865424 -->\n",
       "<g id=\"edge9\" class=\"edge\">\n",
       "<title>133967363550864&#45;&gt;133967426865424</title>\n",
       "<path fill=\"none\" stroke=\"black\" d=\"M163.5,-473.75C163.5,-466.8 163.5,-456.85 163.5,-448.13\"/>\n",
       "<polygon fill=\"black\" stroke=\"black\" points=\"167,-448.09 163.5,-438.09 160,-448.09 167,-448.09\"/>\n",
       "</g>\n",
       "<!-- 133967363550960 -->\n",
       "<g id=\"node12\" class=\"node\">\n",
       "<title>133967363550960</title>\n",
       "<polygon fill=\"lightgrey\" stroke=\"black\" points=\"211,-548 116,-548 116,-529 211,-529 211,-548\"/>\n",
       "<text text-anchor=\"middle\" x=\"163.5\" y=\"-536\" font-family=\"monospace\" font-size=\"10.00\">ReluBackward0</text>\n",
       "</g>\n",
       "<!-- 133967363550960&#45;&gt;133967363550864 -->\n",
       "<g id=\"edge10\" class=\"edge\">\n",
       "<title>133967363550960&#45;&gt;133967363550864</title>\n",
       "<path fill=\"none\" stroke=\"black\" d=\"M163.5,-528.75C163.5,-521.8 163.5,-511.85 163.5,-503.13\"/>\n",
       "<polygon fill=\"black\" stroke=\"black\" points=\"167,-503.09 163.5,-493.09 160,-503.09 167,-503.09\"/>\n",
       "</g>\n",
       "<!-- 133967363551056 -->\n",
       "<g id=\"node13\" class=\"node\">\n",
       "<title>133967363551056</title>\n",
       "<polygon fill=\"lightgrey\" stroke=\"black\" points=\"232,-603 95,-603 95,-584 232,-584 232,-603\"/>\n",
       "<text text-anchor=\"middle\" x=\"163.5\" y=\"-591\" font-family=\"monospace\" font-size=\"10.00\">ConvolutionBackward0</text>\n",
       "</g>\n",
       "<!-- 133967363551056&#45;&gt;133967363550960 -->\n",
       "<g id=\"edge11\" class=\"edge\">\n",
       "<title>133967363551056&#45;&gt;133967363550960</title>\n",
       "<path fill=\"none\" stroke=\"black\" d=\"M163.5,-583.75C163.5,-576.8 163.5,-566.85 163.5,-558.13\"/>\n",
       "<polygon fill=\"black\" stroke=\"black\" points=\"167,-558.09 163.5,-548.09 160,-558.09 167,-558.09\"/>\n",
       "</g>\n",
       "<!-- 133967363551152 -->\n",
       "<g id=\"node14\" class=\"node\">\n",
       "<title>133967363551152</title>\n",
       "<polygon fill=\"lightgrey\" stroke=\"black\" points=\"155,-658 54,-658 54,-639 155,-639 155,-658\"/>\n",
       "<text text-anchor=\"middle\" x=\"104.5\" y=\"-646\" font-family=\"monospace\" font-size=\"10.00\">AccumulateGrad</text>\n",
       "</g>\n",
       "<!-- 133967363551152&#45;&gt;133967363551056 -->\n",
       "<g id=\"edge12\" class=\"edge\">\n",
       "<title>133967363551152&#45;&gt;133967363551056</title>\n",
       "<path fill=\"none\" stroke=\"black\" d=\"M113.98,-638.98C122.7,-631.15 135.84,-619.34 146.4,-609.86\"/>\n",
       "<polygon fill=\"black\" stroke=\"black\" points=\"148.75,-612.46 153.85,-603.17 144.07,-607.25 148.75,-612.46\"/>\n",
       "</g>\n",
       "<!-- 133967484835696 -->\n",
       "<g id=\"node15\" class=\"node\">\n",
       "<title>133967484835696</title>\n",
       "<polygon fill=\"lightblue\" stroke=\"black\" points=\"155,-724 54,-724 54,-694 155,-694 155,-724\"/>\n",
       "<text text-anchor=\"middle\" x=\"104.5\" y=\"-712\" font-family=\"monospace\" font-size=\"10.00\">conv1.weight</text>\n",
       "<text text-anchor=\"middle\" x=\"104.5\" y=\"-701\" font-family=\"monospace\" font-size=\"10.00\"> (16, 3, 5000)</text>\n",
       "</g>\n",
       "<!-- 133967484835696&#45;&gt;133967363551152 -->\n",
       "<g id=\"edge13\" class=\"edge\">\n",
       "<title>133967484835696&#45;&gt;133967363551152</title>\n",
       "<path fill=\"none\" stroke=\"black\" d=\"M104.5,-693.84C104.5,-686.21 104.5,-676.7 104.5,-668.45\"/>\n",
       "<polygon fill=\"black\" stroke=\"black\" points=\"108,-668.27 104.5,-658.27 101,-668.27 108,-668.27\"/>\n",
       "</g>\n",
       "<!-- 133967363551200 -->\n",
       "<g id=\"node16\" class=\"node\">\n",
       "<title>133967363551200</title>\n",
       "<polygon fill=\"lightgrey\" stroke=\"black\" points=\"274,-658 173,-658 173,-639 274,-639 274,-658\"/>\n",
       "<text text-anchor=\"middle\" x=\"223.5\" y=\"-646\" font-family=\"monospace\" font-size=\"10.00\">AccumulateGrad</text>\n",
       "</g>\n",
       "<!-- 133967363551200&#45;&gt;133967363551056 -->\n",
       "<g id=\"edge14\" class=\"edge\">\n",
       "<title>133967363551200&#45;&gt;133967363551056</title>\n",
       "<path fill=\"none\" stroke=\"black\" d=\"M213.86,-638.98C204.99,-631.15 191.63,-619.34 180.89,-609.86\"/>\n",
       "<polygon fill=\"black\" stroke=\"black\" points=\"183.13,-607.17 173.32,-603.17 178.49,-612.41 183.13,-607.17\"/>\n",
       "</g>\n",
       "<!-- 133967484836656 -->\n",
       "<g id=\"node17\" class=\"node\">\n",
       "<title>133967484836656</title>\n",
       "<polygon fill=\"lightblue\" stroke=\"black\" points=\"262,-724 185,-724 185,-694 262,-694 262,-724\"/>\n",
       "<text text-anchor=\"middle\" x=\"223.5\" y=\"-712\" font-family=\"monospace\" font-size=\"10.00\">conv1.bias</text>\n",
       "<text text-anchor=\"middle\" x=\"223.5\" y=\"-701\" font-family=\"monospace\" font-size=\"10.00\"> (16)</text>\n",
       "</g>\n",
       "<!-- 133967484836656&#45;&gt;133967363551200 -->\n",
       "<g id=\"edge15\" class=\"edge\">\n",
       "<title>133967484836656&#45;&gt;133967363551200</title>\n",
       "<path fill=\"none\" stroke=\"black\" d=\"M223.5,-693.84C223.5,-686.21 223.5,-676.7 223.5,-668.45\"/>\n",
       "<polygon fill=\"black\" stroke=\"black\" points=\"227,-668.27 223.5,-658.27 220,-668.27 227,-668.27\"/>\n",
       "</g>\n",
       "<!-- 133967363550288 -->\n",
       "<g id=\"node18\" class=\"node\">\n",
       "<title>133967363550288</title>\n",
       "<polygon fill=\"lightgrey\" stroke=\"black\" points=\"312,-251 235,-251 235,-232 312,-232 312,-251\"/>\n",
       "<text text-anchor=\"middle\" x=\"273.5\" y=\"-239\" font-family=\"monospace\" font-size=\"10.00\">TBackward0</text>\n",
       "</g>\n",
       "<!-- 133967363550288&#45;&gt;133967465583648 -->\n",
       "<g id=\"edge16\" class=\"edge\">\n",
       "<title>133967363550288&#45;&gt;133967465583648</title>\n",
       "<path fill=\"none\" stroke=\"black\" d=\"M256.31,-231.98C239.25,-223.54 212.87,-210.47 193.1,-200.68\"/>\n",
       "<polygon fill=\"black\" stroke=\"black\" points=\"194.52,-197.47 184,-196.17 191.41,-203.75 194.52,-197.47\"/>\n",
       "</g>\n",
       "<!-- 133967466257552 -->\n",
       "<g id=\"node19\" class=\"node\">\n",
       "<title>133967466257552</title>\n",
       "<polygon fill=\"lightgrey\" stroke=\"black\" points=\"330,-311.5 229,-311.5 229,-292.5 330,-292.5 330,-311.5\"/>\n",
       "<text text-anchor=\"middle\" x=\"279.5\" y=\"-299.5\" font-family=\"monospace\" font-size=\"10.00\">AccumulateGrad</text>\n",
       "</g>\n",
       "<!-- 133967466257552&#45;&gt;133967363550288 -->\n",
       "<g id=\"edge17\" class=\"edge\">\n",
       "<title>133967466257552&#45;&gt;133967363550288</title>\n",
       "<path fill=\"none\" stroke=\"black\" d=\"M278.61,-292.37C277.78,-284.25 276.51,-271.81 275.44,-261.39\"/>\n",
       "<polygon fill=\"black\" stroke=\"black\" points=\"278.89,-260.76 274.39,-251.17 271.93,-261.47 278.89,-260.76\"/>\n",
       "</g>\n",
       "<!-- 133967484835616 -->\n",
       "<g id=\"node20\" class=\"node\">\n",
       "<title>133967484835616</title>\n",
       "<polygon fill=\"lightblue\" stroke=\"black\" points=\"315,-383 244,-383 244,-353 315,-353 315,-383\"/>\n",
       "<text text-anchor=\"middle\" x=\"279.5\" y=\"-371\" font-family=\"monospace\" font-size=\"10.00\">fc.weight</text>\n",
       "<text text-anchor=\"middle\" x=\"279.5\" y=\"-360\" font-family=\"monospace\" font-size=\"10.00\"> (1, 128)</text>\n",
       "</g>\n",
       "<!-- 133967484835616&#45;&gt;133967466257552 -->\n",
       "<g id=\"edge18\" class=\"edge\">\n",
       "<title>133967484835616&#45;&gt;133967466257552</title>\n",
       "<path fill=\"none\" stroke=\"black\" d=\"M279.5,-352.8C279.5,-343.7 279.5,-331.79 279.5,-321.9\"/>\n",
       "<polygon fill=\"black\" stroke=\"black\" points=\"283,-321.84 279.5,-311.84 276,-321.84 283,-321.84\"/>\n",
       "</g>\n",
       "</g>\n",
       "</svg>\n"
      ],
      "text/plain": [
       "<graphviz.graphs.Digraph at 0x79d7b65ba960>"
      ]
     },
     "execution_count": 14,
     "metadata": {},
     "output_type": "execute_result"
    }
   ],
   "source": [
    "make_dot(y1_hat.round(), params=dict(cnn_model.named_parameters()))"
   ]
  },
  {
   "cell_type": "code",
   "execution_count": 24,
   "metadata": {},
   "outputs": [],
   "source": [
    "tb_log_path = Path('log') / 'tensorboard'\n",
    "assert tb_log_path.is_dir(), 'Tensorboard logging directory does not exist!'\n",
    "model_name = '_'.join([MODEL_NAME, 'batch' + BATCH])\n",
    "if not INCLUDE_DNA:\n",
    "    model_name += '_noDNA'\n",
    "if not INCLUDE_ATAC:\n",
    "    model_name += '_noATAC'\n",
    "if not INCLUDE_CNV:\n",
    "    model_name += '_noCNV'\n",
    "# define tensorboard logger\n",
    "from torch.utils.tensorboard import SummaryWriter\n",
    "run_number = len([\n",
    "    d for d in tb_log_path.iterdir() \\\n",
    "        if d.is_dir() and d.name.startswith(model_name)\n",
    "    ])\n",
    "model_name = '_'.join([model_name, 'run' + str(run_number)])\n",
    "tb_log_path = tb_log_path / model_name\n",
    "tb_logger = SummaryWriter(tb_log_path)\n"
   ]
  },
  {
   "cell_type": "code",
   "execution_count": 25,
   "metadata": {},
   "outputs": [
    {
     "data": {
      "text/plain": [
       "'PromoterCNN_batch1_noDNA_run0'"
      ]
     },
     "execution_count": 25,
     "metadata": {},
     "output_type": "execute_result"
    }
   ],
   "source": [
    "model_name"
   ]
  },
  {
   "cell_type": "code",
   "execution_count": 26,
   "metadata": {},
   "outputs": [],
   "source": [
    "# define training function\n",
    "from src.network.training import train_model\n",
    "model_dir = model_path / '_'.join([MODEL_NAME, 'batch' + BATCH])\n",
    "if not model_dir.exists():\n",
    "    model_dir.mkdir()"
   ]
  },
  {
   "cell_type": "code",
   "execution_count": 27,
   "metadata": {},
   "outputs": [
    {
     "name": "stderr",
     "output_type": "stream",
     "text": [
      "Training Epoch [1/20]:   0%|                                                                                                 | 0/1718 [00:00<?, ?it/s]"
     ]
    },
    {
     "name": "stderr",
     "output_type": "stream",
     "text": [
      "Training Epoch [1/20]: 100%|██████████████████████████████████████████| 1718/1718 [06:18<00:00,  4.54it/s, train_loss=0.69344745, val_loss=0.00000000]\n",
      "Validation Epoch [1/20]: 100%|█████████████████████████████████████████████████████████████████| 248/248 [00:25<00:00,  9.74it/s, val_loss=0.69348232]\n",
      "Training Epoch [2/20]: 100%|██████████████████████████████████████████| 1718/1718 [06:47<00:00,  4.22it/s, train_loss=0.69344592, val_loss=0.69348232]\n",
      "Validation Epoch [2/20]: 100%|█████████████████████████████████████████████████████████████████| 248/248 [00:23<00:00, 10.43it/s, val_loss=0.69347887]\n",
      "Training Epoch [3/20]: 100%|██████████████████████████████████████████| 1718/1718 [09:13<00:00,  3.10it/s, train_loss=0.69344836, val_loss=0.69347887]\n",
      "Validation Epoch [3/20]: 100%|█████████████████████████████████████████████████████████████████| 248/248 [00:22<00:00, 10.84it/s, val_loss=0.69348306]\n",
      "Training Epoch [4/20]: 100%|██████████████████████████████████████████| 1718/1718 [06:08<00:00,  4.66it/s, train_loss=0.69344512, val_loss=0.69348306]\n",
      "Validation Epoch [4/20]: 100%|█████████████████████████████████████████████████████████████████| 248/248 [00:25<00:00,  9.65it/s, val_loss=0.69348402]\n",
      "Training Epoch [5/20]: 100%|██████████████████████████████████████████| 1718/1718 [06:12<00:00,  4.62it/s, train_loss=0.69344085, val_loss=0.69348402]\n",
      "Validation Epoch [5/20]: 100%|█████████████████████████████████████████████████████████████████| 248/248 [00:21<00:00, 11.40it/s, val_loss=0.69348242]\n",
      "Training Epoch [6/20]: 100%|██████████████████████████████████████████| 1718/1718 [06:08<00:00,  4.66it/s, train_loss=0.69344211, val_loss=0.69348242]\n",
      "Validation Epoch [6/20]: 100%|█████████████████████████████████████████████████████████████████| 248/248 [00:24<00:00, 10.02it/s, val_loss=0.69348133]\n",
      "Training Epoch [7/20]: 100%|██████████████████████████████████████████| 1718/1718 [06:25<00:00,  4.45it/s, train_loss=0.69344233, val_loss=0.69348133]\n",
      "Validation Epoch [7/20]: 100%|█████████████████████████████████████████████████████████████████| 248/248 [00:20<00:00, 11.85it/s, val_loss=0.69348123]\n",
      "Training Epoch [8/20]: 100%|██████████████████████████████████████████| 1718/1718 [06:17<00:00,  4.55it/s, train_loss=0.69343988, val_loss=0.69348123]\n",
      "Validation Epoch [8/20]: 100%|█████████████████████████████████████████████████████████████████| 248/248 [00:25<00:00,  9.72it/s, val_loss=0.69348422]\n",
      "Training Epoch [9/20]: 100%|██████████████████████████████████████████| 1718/1718 [06:19<00:00,  4.53it/s, train_loss=0.69344364, val_loss=0.69348422]\n",
      "Validation Epoch [9/20]: 100%|█████████████████████████████████████████████████████████████████| 248/248 [00:21<00:00, 11.65it/s, val_loss=0.69347747]\n",
      "Training Epoch [10/20]: 100%|█████████████████████████████████████████| 1718/1718 [06:20<00:00,  4.51it/s, train_loss=0.69344491, val_loss=0.69347747]\n",
      "Validation Epoch [10/20]: 100%|████████████████████████████████████████████████████████████████| 248/248 [00:24<00:00, 10.14it/s, val_loss=0.69348023]\n",
      "Training Epoch [11/20]: 100%|█████████████████████████████████████████| 1718/1718 [06:15<00:00,  4.58it/s, train_loss=0.69344254, val_loss=0.69348023]\n",
      "Validation Epoch [11/20]: 100%|████████████████████████████████████████████████████████████████| 248/248 [00:24<00:00, 10.23it/s, val_loss=0.69347678]\n",
      "Training Epoch [12/20]: 100%|█████████████████████████████████████████| 1718/1718 [06:15<00:00,  4.58it/s, train_loss=0.69344180, val_loss=0.69347678]\n",
      "Validation Epoch [12/20]: 100%|████████████████████████████████████████████████████████████████| 248/248 [00:25<00:00,  9.61it/s, val_loss=0.69347879]\n",
      "Training Epoch [13/20]: 100%|█████████████████████████████████████████| 1718/1718 [06:19<00:00,  4.53it/s, train_loss=0.69344396, val_loss=0.69347879]\n",
      "Validation Epoch [13/20]: 100%|████████████████████████████████████████████████████████████████| 248/248 [00:23<00:00, 10.67it/s, val_loss=0.69348024]\n",
      "/vol/storage/shared/miniforge3/envs/ssb/lib/python3.12/site-packages/plotnine/ggplot.py:615: PlotnineWarning: Saving 6.4 x 4.8 in image.\n",
      "/vol/storage/shared/miniforge3/envs/ssb/lib/python3.12/site-packages/plotnine/ggplot.py:616: PlotnineWarning: Filename: out/plots/cnn_training/PromoterCNN_batch1_noDNA_run0_avg_loss.png\n"
     ]
    },
    {
     "name": "stdout",
     "output_type": "stream",
     "text": [
      "Early stopping after epoch 12\n"
     ]
    },
    {
     "data": {
      "image/png": "[encoded data removed]"
     },
     "metadata": {
      "image/png": {
       "height": 480,
       "width": 640
      }
     },
     "output_type": "display_data"
    }
   ],
   "source": [
    "avg_val_loss, best_model = train_model(\n",
    "    model=cnn_model, hparams=hparams, train_loader=train_loader,\n",
    "    val_loader=val_loader, tb_logger=tb_logger, device=device,\n",
    "    model_path=model_dir, model_name=model_name, plot_path=plot_path\n",
    ")"
   ]
  }
 ],
 "metadata": {
  "kernelspec": {
   "display_name": "ssb",
   "language": "python",
   "name": "python3"
  },
  "language_info": {
   "codemirror_mode": {
    "name": "ipython",
    "version": 3
   },
   "file_extension": ".py",
   "mimetype": "text/x-python",
   "name": "python",
   "nbconvert_exporter": "python",
   "pygments_lexer": "ipython3",
   "version": "3.12.9"
  }
 },
 "nbformat": 4,
 "nbformat_minor": 2
}
