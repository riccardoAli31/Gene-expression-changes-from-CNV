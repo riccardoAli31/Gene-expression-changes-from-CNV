{
 "cells": [
  {
   "cell_type": "code",
   "execution_count": 75,
   "metadata": {},
   "outputs": [],
   "source": [
    "import tarfile"
   ]
  },
  {
   "cell_type": "code",
   "execution_count": 76,
   "metadata": {},
   "outputs": [],
   "source": [
    "file_path1 = \"/Users/gajaj/Downloads/GRCh38.d1.vd1.fa.tar.gz\"\n",
    "output_dir1 = \"/Users/gajaj/OneDrive/Documents/TUM/computational_single_cell/Gene-expression-changes-from-CNV/preprocessing/Multiome\""
   ]
  },
  {
   "cell_type": "code",
   "execution_count": 77,
   "metadata": {},
   "outputs": [
    {
     "name": "stdout",
     "output_type": "stream",
     "text": [
      "Files extracted successfully\n"
     ]
    }
   ],
   "source": [
    "with tarfile.open(file_path1, \"r\") as tar:\n",
    "    tar.extractall(path=output_dir1)\n",
    "    print(\"Files extracted successfully\")"
   ]
  },
  {
   "cell_type": "markdown",
   "metadata": {},
   "source": [
    "# Linear regression"
   ]
  },
  {
   "cell_type": "code",
   "execution_count": 1,
   "metadata": {},
   "outputs": [],
   "source": [
    "import numpy as np\n",
    "import pandas as pd\n",
    "from collections import Counter"
   ]
  },
  {
   "cell_type": "code",
   "execution_count": 4,
   "metadata": {},
   "outputs": [],
   "source": [
    "from src.dataloader import embed"
   ]
  },
  {
   "cell_type": "markdown",
   "metadata": {},
   "source": [
    "## Functions for matrix aggregation"
   ]
  },
  {
   "cell_type": "markdown",
   "metadata": {},
   "source": [
    "### Test embedding matrices (skip)"
   ]
  },
  {
   "cell_type": "code",
   "execution_count": 3,
   "metadata": {},
   "outputs": [],
   "source": [
    "# Example setup: Generate a mock input matrix\n",
    "# Rows: [one-hot encoding (4 rows for A, T, G, C), CNV loss, CNV gain, open chromatin]\n",
    "# Columns: Nucleotide positions (e.g., 6000 columns for 6k bp)\n",
    "np.random.seed(42)  # For reproducibility\n",
    "n_positions = 6000\n",
    "mock_matrix = np.random.randint(0, 2, size=(7, n_positions))"
   ]
  },
  {
   "cell_type": "code",
   "execution_count": 31,
   "metadata": {},
   "outputs": [
    {
     "name": "stdout",
     "output_type": "stream",
     "text": [
      "(7, 6000)\n",
      "[[0 1 0 ... 1 1 1]\n",
      " [0 0 0 ... 0 0 0]\n",
      " [0 0 0 ... 1 1 1]\n",
      " ...\n",
      " [1 1 0 ... 1 1 0]\n",
      " [1 1 0 ... 1 1 1]\n",
      " [1 1 0 ... 0 1 0]]\n"
     ]
    }
   ],
   "source": [
    "print(mock_matrix.shape) # a random matrix of 0 and 1\n",
    "print(mock_matrix)"
   ]
  },
  {
   "cell_type": "code",
   "execution_count": 63,
   "metadata": {},
   "outputs": [
    {
     "data": {
      "text/plain": [
       "array([[0., 0., 0., ..., 0., 0., 0.],\n",
       "       [1., 1., 1., ..., 1., 1., 1.],\n",
       "       [0., 0., 0., ..., 0., 0., 0.],\n",
       "       ...,\n",
       "       [0., 0., 0., ..., 0., 0., 0.],\n",
       "       [0., 0., 0., ..., 0., 0., 0.],\n",
       "       [0., 0., 0., ..., 0., 0., 0.]])"
      ]
     },
     "execution_count": 63,
     "metadata": {},
     "output_type": "execute_result"
    }
   ],
   "source": [
    "mock_matrix1 = np.zeros((7, 6000))\n",
    "mock_matrix1[1, :] = np.ones(6000)\n",
    "mock_matrix1"
   ]
  },
  {
   "cell_type": "markdown",
   "metadata": {},
   "source": [
    "### Agregation function"
   ]
  },
  {
   "cell_type": "code",
   "execution_count": 5,
   "metadata": {},
   "outputs": [],
   "source": [
    "def aggregate_matrix(matrix, tss_position=2000):\n",
    "    \"\"\"\n",
    "    Create a dataset that combines codon frequencies and aggregated CNV/open chromatin metrics.\n",
    "\n",
    "    Args:\n",
    "        matrix (numpy.ndarray): The embedding matrix.\n",
    "        tss_position (int): The starting position for codon counting (default is 1).\n",
    "\n",
    "    Returns:\n",
    "        numpy.ndarray: A 1-row dataset with 64 columns for codon counts and 3 columns for CNV/open chromatin metrics.\n",
    "    \"\"\"\n",
    "    # Extract one-hot DNA rows (first 4 rows: A, T, G, C)\n",
    "    nucleotides = ['A', 'T', 'G', 'C']\n",
    "    one_hot_dna = matrix[:4, :]\n",
    "\n",
    "    # Decode one-hot to nucleotide sequence\n",
    "    sequence = ''.join(\n",
    "        nucleotides[np.argmax(one_hot_dna[:, i])]\n",
    "        for i in range(one_hot_dna.shape[1])\n",
    "    )\n",
    "\n",
    "    # Start codon counting from the TSS\n",
    "    start = tss_position - 1\n",
    "    codons = [\n",
    "        sequence[i:i + 3]\n",
    "        for i in range(start, len(sequence), 3)\n",
    "        if i + 3 <= len(sequence)\n",
    "    ]\n",
    "\n",
    "    # Generate all 64 possible codons\n",
    "    possible_codons = [a + b + c for a in nucleotides for b in nucleotides for c in nucleotides]\n",
    "\n",
    "    # Count codon frequencies\n",
    "    codon_counts = Counter(codons)\n",
    "\n",
    "    # Ensure all 64 codons are represented in the output (with count 0 if absent)\n",
    "    codon_counts_array = np.array([codon_counts.get(codon, 0) for codon in possible_codons])\n",
    "\n",
    "    # Extract CNV and open chromatin rows (last 3 rows)\n",
    "    cnv_loss = matrix[4, :] #TODO do we take the average across all embedding or also from TSS??\n",
    "    cnv_gain = matrix[5, :]\n",
    "    open_chromatin = matrix[6, :]\n",
    "\n",
    "    # Compute averages\n",
    "    cnv_loss_avg = np.mean(cnv_loss)\n",
    "    cnv_gain_avg = np.mean(cnv_gain)\n",
    "    open_chromatin_avg = np.mean(open_chromatin)\n",
    "\n",
    "    # Combine codon frequencies and aggregated metrics into one dataset\n",
    "    aggregated_values = np.array([cnv_loss_avg, cnv_gain_avg, open_chromatin_avg])\n",
    "    final_dataset = np.concatenate([codon_counts_array, aggregated_values])\n",
    "\n",
    "    # Create column headings\n",
    "    codon_headings = possible_codons\n",
    "    aggregated_headings = ['cnv_loss_avg', 'cnv_gain_avg', 'open_chromatin_avg']\n",
    "    column_headings = codon_headings + aggregated_headings\n",
    "\n",
    "    return final_dataset, column_headings\n"
   ]
  },
  {
   "cell_type": "markdown",
   "metadata": {},
   "source": [
    "### Tests for aggregate matrix (skip)"
   ]
  },
  {
   "cell_type": "code",
   "execution_count": null,
   "metadata": {},
   "outputs": [
    {
     "name": "stdout",
     "output_type": "stream",
     "text": [
      "[361.         186.          65.          24.         134.\n",
      "  64.          46.          23.          80.          29.\n",
      "  17.           7.          35.          25.          15.\n",
      "   3.         158.          66.          42.          14.\n",
      "  67.          27.          15.          10.          39.\n",
      "   9.           8.           2.          15.          10.\n",
      "   7.           2.          73.          31.          20.\n",
      "  11.          42.          22.          12.           4.\n",
      "  12.           7.           1.           2.          13.\n",
      "   3.           4.           0.          45.          22.\n",
      "  12.           7.          17.           8.           1.\n",
      "   0.           5.           3.           4.           2.\n",
      "   4.           3.           5.           0.           0.5015\n",
      "   0.50916667   0.49933333]\n",
      "['AAA', 'AAT', 'AAG', 'AAC', 'ATA', 'ATT', 'ATG', 'ATC', 'AGA', 'AGT', 'AGG', 'AGC', 'ACA', 'ACT', 'ACG', 'ACC', 'TAA', 'TAT', 'TAG', 'TAC', 'TTA', 'TTT', 'TTG', 'TTC', 'TGA', 'TGT', 'TGG', 'TGC', 'TCA', 'TCT', 'TCG', 'TCC', 'GAA', 'GAT', 'GAG', 'GAC', 'GTA', 'GTT', 'GTG', 'GTC', 'GGA', 'GGT', 'GGG', 'GGC', 'GCA', 'GCT', 'GCG', 'GCC', 'CAA', 'CAT', 'CAG', 'CAC', 'CTA', 'CTT', 'CTG', 'CTC', 'CGA', 'CGT', 'CGG', 'CGC', 'CCA', 'CCT', 'CCG', 'CCC', 'cnv_loss_avg', 'cnv_gain_avg', 'open_chromatin_avg']\n"
     ]
    }
   ],
   "source": [
    "final_dataset, column_headings = aggregate_matrix(mock_matrix)\n",
    "print(final_dataset)\n",
    "print(column_headings)"
   ]
  },
  {
   "cell_type": "code",
   "execution_count": 65,
   "metadata": {},
   "outputs": [
    {
     "name": "stdout",
     "output_type": "stream",
     "text": [
      "[   0.    0.    0.    0.    0.    0.    0.    0.    0.    0.    0.    0.\n",
      "    0.    0.    0.    0.    0.    0.    0.    0.    0. 2000.    0.    0.\n",
      "    0.    0.    0.    0.    0.    0.    0.    0.    0.    0.    0.    0.\n",
      "    0.    0.    0.    0.    0.    0.    0.    0.    0.    0.    0.    0.\n",
      "    0.    0.    0.    0.    0.    0.    0.    0.    0.    0.    0.    0.\n",
      "    0.    0.    0.    0.    0.    0.    0.]\n"
     ]
    }
   ],
   "source": [
    "final_dataset, column_headings = aggregate_matrix(mock_matrix1)\n",
    "print(final_dataset)"
   ]
  },
  {
   "cell_type": "markdown",
   "metadata": {},
   "source": [
    "## Load data: gene positions and classification"
   ]
  },
  {
   "cell_type": "markdown",
   "metadata": {},
   "source": [
    "Import dataset of gene positions (ignore)"
   ]
  },
  {
   "cell_type": "code",
   "execution_count": null,
   "metadata": {},
   "outputs": [],
   "source": [
    "#gene_df = pd.read_csv('/Users/gajaj/OneDrive/Documents/TUM/computational_single_cell/Gene-expression-changes-from-CNV/preprocessing/Multiome/gene_positions.csv')\n",
    "#gene_df = gene_df[['start', 'end', 'gene_id']] #We leave out the chromosome\n",
    "#gene_df"
   ]
  },
  {
   "cell_type": "markdown",
   "metadata": {},
   "source": [
    "Import classification dataset"
   ]
  },
  {
   "cell_type": "code",
   "execution_count": 6,
   "metadata": {},
   "outputs": [
    {
     "data": {
      "text/html": [
       "<div>\n",
       "<style scoped>\n",
       "    .dataframe tbody tr th:only-of-type {\n",
       "        vertical-align: middle;\n",
       "    }\n",
       "\n",
       "    .dataframe tbody tr th {\n",
       "        vertical-align: top;\n",
       "    }\n",
       "\n",
       "    .dataframe thead th {\n",
       "        text-align: right;\n",
       "    }\n",
       "</style>\n",
       "<table border=\"1\" class=\"dataframe\">\n",
       "  <thead>\n",
       "    <tr style=\"text-align: right;\">\n",
       "      <th></th>\n",
       "      <th>barcode</th>\n",
       "      <th>gene_id</th>\n",
       "      <th>expression_count</th>\n",
       "      <th>classification</th>\n",
       "    </tr>\n",
       "  </thead>\n",
       "  <tbody>\n",
       "    <tr>\n",
       "      <th>0</th>\n",
       "      <td>AAACAGCCAAACGCGA-2</td>\n",
       "      <td>ENSG00000235146</td>\n",
       "      <td>0.000000</td>\n",
       "      <td>zero</td>\n",
       "    </tr>\n",
       "    <tr>\n",
       "      <th>1</th>\n",
       "      <td>AAACAGCCAAACGCGA-2</td>\n",
       "      <td>ENSG00000187634</td>\n",
       "      <td>0.240150</td>\n",
       "      <td>low</td>\n",
       "    </tr>\n",
       "    <tr>\n",
       "      <th>2</th>\n",
       "      <td>AAACAGCCAAACGCGA-2</td>\n",
       "      <td>ENSG00000187583</td>\n",
       "      <td>0.000000</td>\n",
       "      <td>zero</td>\n",
       "    </tr>\n",
       "    <tr>\n",
       "      <th>3</th>\n",
       "      <td>AAACAGCCAAACGCGA-2</td>\n",
       "      <td>ENSG00000205231</td>\n",
       "      <td>0.000000</td>\n",
       "      <td>zero</td>\n",
       "    </tr>\n",
       "    <tr>\n",
       "      <th>4</th>\n",
       "      <td>AAACAGCCAAACGCGA-2</td>\n",
       "      <td>ENSG00000228750</td>\n",
       "      <td>0.000000</td>\n",
       "      <td>zero</td>\n",
       "    </tr>\n",
       "    <tr>\n",
       "      <th>...</th>\n",
       "      <td>...</td>\n",
       "      <td>...</td>\n",
       "      <td>...</td>\n",
       "      <td>...</td>\n",
       "    </tr>\n",
       "    <tr>\n",
       "      <th>27353995</th>\n",
       "      <td>TTTGTTGGTTGAGGTC-3</td>\n",
       "      <td>ENSG00000198886</td>\n",
       "      <td>1.907476</td>\n",
       "      <td>high</td>\n",
       "    </tr>\n",
       "    <tr>\n",
       "      <th>27353996</th>\n",
       "      <td>TTTGTTGGTTGAGGTC-3</td>\n",
       "      <td>ENSG00000198786</td>\n",
       "      <td>1.573612</td>\n",
       "      <td>high</td>\n",
       "    </tr>\n",
       "    <tr>\n",
       "      <th>27353997</th>\n",
       "      <td>TTTGTTGGTTGAGGTC-3</td>\n",
       "      <td>ENSG00000198727</td>\n",
       "      <td>3.001725</td>\n",
       "      <td>high</td>\n",
       "    </tr>\n",
       "    <tr>\n",
       "      <th>27353998</th>\n",
       "      <td>TTTGTTGGTTGAGGTC-3</td>\n",
       "      <td>ENSG00000277666</td>\n",
       "      <td>0.000000</td>\n",
       "      <td>zero</td>\n",
       "    </tr>\n",
       "    <tr>\n",
       "      <th>27353999</th>\n",
       "      <td>TTTGTTGGTTGAGGTC-3</td>\n",
       "      <td>ENSG00000273554</td>\n",
       "      <td>0.000000</td>\n",
       "      <td>zero</td>\n",
       "    </tr>\n",
       "  </tbody>\n",
       "</table>\n",
       "<p>27354000 rows × 4 columns</p>\n",
       "</div>"
      ],
      "text/plain": [
       "                     barcode          gene_id  expression_count classification\n",
       "0         AAACAGCCAAACGCGA-2  ENSG00000235146          0.000000           zero\n",
       "1         AAACAGCCAAACGCGA-2  ENSG00000187634          0.240150            low\n",
       "2         AAACAGCCAAACGCGA-2  ENSG00000187583          0.000000           zero\n",
       "3         AAACAGCCAAACGCGA-2  ENSG00000205231          0.000000           zero\n",
       "4         AAACAGCCAAACGCGA-2  ENSG00000228750          0.000000           zero\n",
       "...                      ...              ...               ...            ...\n",
       "27353995  TTTGTTGGTTGAGGTC-3  ENSG00000198886          1.907476           high\n",
       "27353996  TTTGTTGGTTGAGGTC-3  ENSG00000198786          1.573612           high\n",
       "27353997  TTTGTTGGTTGAGGTC-3  ENSG00000198727          3.001725           high\n",
       "27353998  TTTGTTGGTTGAGGTC-3  ENSG00000277666          0.000000           zero\n",
       "27353999  TTTGTTGGTTGAGGTC-3  ENSG00000273554          0.000000           zero\n",
       "\n",
       "[27354000 rows x 4 columns]"
      ]
     },
     "execution_count": 6,
     "metadata": {},
     "output_type": "execute_result"
    }
   ],
   "source": [
    "classification_df = pd.read_csv('/Users/gajaj/OneDrive/Documents/TUM/computational_single_cell/Gene-expression-changes-from-CNV/preprocessing/Multiome/classification_median.tsv', sep=\"\\t\")\n",
    "classification_df"
   ]
  },
  {
   "cell_type": "markdown",
   "metadata": {},
   "source": [
    "Sets of genes and cells that were preprocessed"
   ]
  },
  {
   "cell_type": "code",
   "execution_count": 7,
   "metadata": {},
   "outputs": [],
   "source": [
    "barcode_set = set(classification_df['barcode'])\n",
    "gene_set = set(classification_df['gene_id'])"
   ]
  },
  {
   "cell_type": "code",
   "execution_count": 39,
   "metadata": {},
   "outputs": [
    {
     "data": {
      "text/plain": [
       "13677"
      ]
     },
     "execution_count": 39,
     "metadata": {},
     "output_type": "execute_result"
    }
   ],
   "source": [
    "len(barcode_set)"
   ]
  },
  {
   "cell_type": "markdown",
   "metadata": {},
   "source": [
    "We have to make sure that the barcodes are also in the epiAneufinder file"
   ]
  },
  {
   "cell_type": "code",
   "execution_count": 8,
   "metadata": {},
   "outputs": [],
   "source": [
    "cnv_path = 'preprocessing/Multiome/epiAneufinder.tsv'\n",
    "epiAneu_df = pd.read_csv(cnv_path, sep='\\t')"
   ]
  },
  {
   "cell_type": "code",
   "execution_count": 9,
   "metadata": {},
   "outputs": [],
   "source": [
    "column_names_str = str(epiAneu_df.columns.to_list()[0])\n",
    "column_names_list = column_names_str.split(' ')\n",
    "column_names_list = column_names_list[4:]"
   ]
  },
  {
   "cell_type": "code",
   "execution_count": 11,
   "metadata": {},
   "outputs": [
    {
     "name": "stdout",
     "output_type": "stream",
     "text": [
      "{'cell-TGCATCCTCCCTCAAC-4', 'cell-AGTCTTGCAGGAATCG-1', 'cell-GGCAGGATCCGGCTAA-1', 'cell-CTAGATTCAGCCTAAC-3', 'cell-CGTGTTACACACAATT-3', 'cell-TGTGTTAAGAGAAGGG-1', 'cell-CACTTTGTCTAACTGA-1', 'cell-TGCTTGTGTTGTTCAC-3', 'cell-TTGGATATCGCTAAGT-3', 'cell-GTCTAACAGCGGTTAT-1', 'cell-TGTTAGCAGGAAGCAC-4', 'cell-GCGGAACCAGCAACCT-3', 'cell-CCACAGGGTTTGGTTC-4', 'cell-TTTCGTCCACCATATG-4', 'cell-GCTCAACCACGTAATT-2', 'cell-TGATTCAAGCTTAGCG-2', 'cell-CATTGCGAGCCAGTAT-3', 'cell-AAGGTATAGGAGTCTT-3', 'cell-CCATCACTCACGCGGT-4', 'cell-ACTATCCGTTTAACGG-1', 'cell-CTAGGACGTTAACGGC-2', 'cell-ACACTAATCCTTGCAC-2', 'cell-ACAGGTAAGCATTATG-2', 'cell-GGTCAAGCAATACTGT-1', 'cell-ATGCAAACAACTAACT-4', 'cell-CCTTGCGTCCAATTAG-4', 'cell-ACACTAATCCGTGACA-2', 'cell-GTTCCCAGTACCTTAC-4', 'cell-AGTAATCGTGATGAGG-3', 'cell-CTTCATCCACGGTACT-3', 'cell-ATCCGTGAGCGAGCGA-4', 'cell-AATCCGTAGGCGGGTA-4', 'cell-TACGTTAAGCCTTAAA-4', 'cell-TCCCTGGTCTTTAAGG-4', 'cell-TTGCTCTCAGGACACA-4', 'cell-AAGCAAGTCCAGCACA-4', 'cell-CGTGTGTCAGTTATCG-4', 'cell-TTGGATTCAAACGGGC-1', 'cell-GCTAAGTTCGATTTGA-1', 'cell-GCTCTGGCAATACTGT-2', 'cell-CCTCAGTTCCCAGTAG-3', 'cell-ACTCAGTAGCTAAGTC-3', 'cell-CTATGAGGTTGTTGCT-2', 'cell-AGGACTAAGCTCGCTT-3', 'cell-CAAACGCGTAAACAAG-2', 'cell-TTACGTTTCTATCGCC-3', 'cell-GACTTAGGTGATGAAA-1', 'cell-GGCCGTTAGTGAGCAA-2', 'cell-ACCTTCCAGTAGAGGC-4', 'cell-CGGTTTGAGTTAGGCT-4', 'cell-GCAAACTTCTAATCCT-4', 'cell-AGCTATATCGATAACC-4', 'cell-AGCTAAACAAGGGTTG-3', 'cell-ATCGCCCGTTTGCAGA-3', 'cell-TCAGGAGCACATTGCA-3', 'cell-CTCCGGACATACTCCT-4', 'cell-CCTCCTGAGGACAACA-3', 'cell-TAGTAGGAGCGCAATT-4', 'cell-ATATGCTCAAGGCCAA-3', 'cell-CCATTGTGTTGTCATC-1', 'cell-GTTAACCAGTAGCGCC-4', 'cell-CAGCTAAGTATTCGTC-3', 'cell-CATCCCAGTCGTTACT-4', 'cell-ATAACGACACCGGTAT-4', 'cell-ACAAAGGTCGTTAACA-3', 'cell-TTTAGGATCTAGCTTT-4', 'cell-GGTTGCATCATGTTTC-1', 'cell-CAAACCGTCCGCACAA-4', 'cell-ATTCAACCAAGGATTA-4', 'cell-CCAAATCAGAGAGCCG-2', 'cell-TCTGGCTTCATAATCG-1', 'cell-GGTTGCATCCTGGTGA-3', 'cell-AGTAAGTAGAGAAGGG-2', 'cell-GTAAAGCCAGGCTTGT-4', 'cell-GGACTAAAGTAACGGA-1', 'cell-ACTTACAAGCATGCAT-2', 'cell-CGCTAATAGCCTGACA-2', 'cell-CATGAGGCAGGAACCA-3', 'cell-GGTCTTGAGAAGCTAG-4', 'cell-TTACCGTGTGCATTTC-2', 'cell-GGTAACTTCGTTCACC-3', 'cell-GTACCGGGTATTGCAG-3', 'cell-AATTGCTCACGAATTT-1', 'cell-ATGCTTAAGGGACTAA-2', 'cell-GAAGGCCCAGTTTACG-3', 'cell-GATGCTTAGGCTCATG-4', 'cell-CGGTGAGAGCATTAGC-1', 'cell-GCTGCAATCCCGTTAC-4', 'cell-ATTACCCGTAAGGTTT-4', 'cell-TAAGGACCAAGCTACC-4', 'cell-AATTGGACAATTAGGA-3', 'cell-TTTAAGCCAGCTACGT-4', 'cell-GGATACTTCGCATTAA-1', 'cell-GCGATTTAGACAGGTA-4', 'cell-ATTGCACAGACTAAGG-3', 'cell-AGCACTTAGTTATCTC-3', 'cell-GCTGACATCATGCTCC-4', 'cell-CTGTACCTCTCAATTC-4', 'cell-AGCTGCTCAGAGGGAG-2', 'cell-ACCCAGGGTAACAGGG-4', 'cell-TGGTCATAGACAACAG-3', 'cell-GCACGGTTCTAGCTTT-4', 'cell-GTAGGCGAGCATGTCG-1', 'cell-TTGGGTTAGGAAGTAT-3', 'cell-CAGATTCAGGGCCACT-1', 'cell-TTTATGGAGCGGTTAT-2', 'cell-AGCGGACCACTAAATC-2', 'cell-TTTAGCTTCCAAGTTA-1', 'cell-AACAGATAGGTGTTAC-1', 'cell-CACAGGGAGCCACAAT-4', 'cell-AACTACTCAAATGCCC-4', 'cell-ATGTAACGTACCGAAC-2', 'cell-ACGAACAAGACACTTA-1', 'cell-AAGAACAGTGTGCACG-2', 'cell-CTATTGAAGTTAGTTG-3', 'cell-CAGCCTAAGTTAACCA-1', 'cell-TGGTCCTTCATTAGGC-4', 'cell-GTACTAGGTTCCTGTG-1', 'cell-CCCGTAAAGGCTGTGC-4', 'cell-CTCAATAAGTTGTCAA-3', 'cell-CTAGTGAGTTGAGGTC-1', 'cell-TGTGCGCAGTTATCTC-3', 'cell-ATGGCTGTCACAGCCA-4', 'cell-GGTTCTTGTTGCAATG-2', 'cell-TATGGATGTTGTTGTC-3', 'cell-AGAATCTGTGAGACTC-4', 'cell-AAGGATTAGCCTGAGC-1', 'cell-GTACACCCATCCATCT-2', 'cell-TGAAACTGTATGGTGC-2', 'cell-TGATTCAAGCAAGATG-2', 'cell-CTTCTCAAGCATCCAG-3', 'cell-AATTGCTCACAGGGAC-3', 'cell-TGAGTGAAGCACTAAC-2', 'cell-GACCTAGTCGTCAAGT-2', 'cell-TGGTCAGTCTCTAGCC-4', 'cell-GCCTTTATCCGCACAA-4', 'cell-AGAATCGAGCTTCCCG-2', 'cell-TATTAGCCACCTGCTC-1', 'cell-GCAAGTCGTTAGCCAA-4', 'cell-GGTTGCATCCGGAACC-3', 'cell-AAAGGCTCAAACGCGA-3', 'cell-CTATGGCCATTGGGAG-4', 'cell-AGTGCACGTTTGAGGC-1', 'cell-TACTGCACAAGCTAAA-4', 'cell-CCTCAATGTTCCAGGG-3', 'cell-GGCTGGTTCTCGCCTG-3', 'cell-CTAAGGTTCAAGCGCC-4', 'cell-TATCACGCATTGTGAT-3', 'cell-GGAACCACATAGCGAG-3', 'cell-GTTTCTAGTTGTAAAC-3', 'cell-AGGTCTTAGAATCGCT-4', 'cell-TCAAGGTTCCATCAGG-2', 'cell-AGGAACGGTTAAGCCA-2', 'cell-AGGTCATTCATCACTT-4', 'cell-CAGGCTATCTCGACCT-1', 'cell-GATTCAATCCCGTTTA-4', 'cell-AAAGGTTAGCCTGACA-4', 'cell-GGCTATTAGCACTTGG-3', 'cell-GTTGGCGGTAAAGCGG-3', 'cell-GCCCAAATCGGTCATG-4', 'cell-CTTCAGGAGGCCAATT-4', 'cell-GCGCAATGTTATGTGG-2', 'cell-TCTGGCTTCAGCCAAT-1', 'cell-AAGCGCTGTAACCTAG-3', 'cell-GGATAACCAAGGACCA-2', 'cell-GGTAACCGTATTACCC-3', 'cell-ACTTGAATCCGTGACA-4', 'cell-CTAGGACGTGAACAAA-3', 'cell-GTCCGTAAGTCACTAA-3', 'cell-CGTAGCGGTAGGTTGC-1', 'cell-GATTAGCTCCCATAAA-4', 'cell-ACCTTCCAGTAGAGGC-3', 'cell-CACTTTGTCCCGCATT-4', 'cell-TTGGCGGGTGTTGCTT-4', 'cell-AGGTTGCGTGGAAACG-3', 'cell-ACGACTTAGAAGCTAG-3', 'cell-GCCTCGACAGGCATCT-3', 'cell-AGACACGCACCTGCCT-3', 'cell-GATTATGTCAATCATG-1', 'cell-CTTGAATCACTATGGC-2', 'cell-GGGCCTAGTAGGATCC-4', 'cell-AGGTCAAAGTACCGCA-4', 'cell-CTGATCACAGCTAACC-4', 'cell-ACCCTGTTCCTTGAGG-4', 'cell-ATGTCATCAAACTGTT-4', 'cell-AGAACCAAGCGCCTTT-2', 'cell-TGAGCACGTCTCAGCC-3', 'cell-TGGTCATAGGTCGATT-4', 'cell-CCACTTGGTAATCGCA-1', 'cell-CGAATCTAGGCATTGT-2', 'cell-TGGTCAAGTCATCATC-3', 'cell-TACCTTAGTTCGCTTG-4', 'cell-GTCCTAGAGTTTAACG-1', 'cell-GATCAGGCATGCAACC-4', 'cell-TACCAAATCGAGCTAT-1', 'cell-AGACTATGTAGCTGGT-4', 'cell-GCCACAATCCTAAATG-4', 'cell-CAAGGCTGTAATGGCC-3', 'cell-ATTGTCCGTAAGGTTT-4', 'cell-GTTACCTGTTGCTTCG-2', 'cell-GTCCTCCCAGTTAAAG-3', 'cell-ATGTTCAAGGGTGAAC-2', 'cell-AACTCACAGTACTGGT-2', 'cell-GTACGTAGTACTTAGG-3', 'cell-ACGCTTGAGACTATTG-3', 'cell-TGGTTAATCCCGAAGC-1', 'cell-TACCTTAGTTGGTGAC-3', 'cell-ACTTTGTTCTCAATTC-2', 'cell-GGTGCTGGTGAGCACT-3', 'cell-GCGATATTCACAGCGC-1', 'cell-CAATCTAAGAGAGGAG-3', 'cell-CGTGAGGAGCCTAACG-1', 'cell-GCGCAAACAGTCTATG-1', 'cell-TTGTTGTTCCCGTTAC-4', 'cell-GTAAGCTTCGATATTG-4', 'cell-TAGCTAATCGATTTGA-1', 'cell-ACTCCTCAGTTACCGG-4', 'cell-TCGTTATTCACATTGA-4', 'cell-GCTTAGTAGCTCAAAC-3', 'cell-CCTGAATAGTAAGTGG-3', 'cell-GCGAGTGAGACAAGTG-1', 'cell-ACTATCCGTCTAACCT-1', 'cell-GTTTCTAGTGCCGCAA-3', 'cell-AAACCAACAGCCAGTT-4', 'cell-GCATTAGGTTGCAATG-2', 'cell-TCATAACCATCTAGCA-3', 'cell-GAACTTATCTTGCTAT-3', 'cell-ACGTACCCAAACCTTG-4', 'cell-TACTGACAGCATTATG-3', 'cell-GGACGAAGTGTCCAAA-4', 'cell-TCAACAATCTTAGGAC-2', 'cell-TGCTGGATCGGCTATG-3', 'cell-CTTATGTTCAGGCTAT-2', 'cell-GCGCTTAAGAGGGACT-2', 'cell-CCCGCAACACCTAAGC-3', 'cell-GTGCGGTTCATTAGTG-1', 'cell-TATCGCGAGTGAACGA-4', 'cell-ACCTACCTCCTAGTTT-1', 'cell-TGGACCGGTATTACCC-4', 'cell-AGCGTGCTCTAACCAA-4', 'cell-GGGTCAACAGTTATCG-1', 'cell-TGTGATCAGGTAGCTT-2', 'cell-AATCCGTAGCTGGAAA-3', 'cell-TCATGCCTCTAAATCG-2', 'cell-CAAGGTAAGGTCCAAT-1', 'cell-CGAGGTGAGGCTGGCT-3', 'cell-AAAGGAGCAGTGAACG-4', 'cell-TCAGCCTTCCCAGTAG-3', 'cell-AATCATGTCAAACTCA-4', 'cell-CACATTAAGGGACTAA-3', 'cell-GGCATTAGTCCTTCTC-4', 'cell-GTGCACGGTTTCAGGA-3', 'cell-GCGCTAGGTTAAGCCA-1', 'cell-TCGCTAACAGCACCAT-4', 'cell-GAAGGAACAGGTTCAC-1', 'cell-CTCGCTAGTTCGGTAA-3', 'cell-CTCATTTAGATGGAGC-1', 'cell-CGAAGAATCTTAGCCC-4', 'cell-GCTATCCTCTTGCTAT-4', 'cell-CCTACTGGTATTGCAG-2', 'cell-ACGCCTAAGTTACCGG-4', 'cell-CTAGTGAGTGTGTGGT-2', 'cell-TGTCAGTAGGCGCTAC-4', 'cell-TATGACATCCCGTTTA-4', 'cell-GCGGGTTTCAAACCTA-2', 'cell-ATTACTGAGCGTGCGT-1', 'cell-TATAGCCAGTGAGCAA-3', 'cell-GGAACCTGTTTGGGTA-3', 'cell-GTTGCCCGTTCGCTCA-2', 'cell-GACAATACATCCCGCT-3', 'cell-CTTCACTCACCTAAGC-3', 'cell-TACTTCGTCGCACAAT-3', 'cell-CAGGTGGAGTTGGGCC-1', 'cell-TTGTTTGGTGGACCTG-3', 'cell-AGCGCTCAGCATGGTT-4', 'cell-ACCCGGTAGCCGCAAC-1', 'cell-CGCTTGCGTATACTGG-4', 'cell-TTGTTTGGTCCGCTGT-2', 'cell-ACGTCAAGTGGACCTG-4', 'cell-AGTGGACAGTGCACGC-4', 'cell-ATAGATGCAGTAAGTA-1', 'cell-TAGGAACCACCTATAG-2', 'cell-AATGCATGTTCACCCA-1', 'cell-TAAGTAGCACAGGATG-1', 'cell-CGTGTTACAATGCCCG-4', 'cell-TCTCAAGCAATATAGG-1', 'cell-GAGGTGAGTTAACGAT-2', 'cell-TATGTGATCATAGCCG-1', 'cell-GGTGAGTAGTATTGCA-2', 'cell-TGGACGGAGACTTACA-3', 'cell-CGGAATCGTAACGGGA-3', 'cell-ATCAGGTTCCCTCACG-1', 'cell-GTATTGCAGCAAACCT-4', 'cell-AAAGCTTGTGTCCTGC-3', 'cell-TAGCGCGGTGATGAAA-4', 'cell-TCCAGGATCACTTTAC-4', 'cell-CCTGGATCACAGAACG-4', 'cell-CGGATTAGTGCTGTAA-3', 'cell-TGCGATTAGGACTTAC-3', 'cell-GTCTTGCTCCTGTTCA-4', 'cell-TATTGACCATTAGGCC-3', 'cell-CGCATTTGTTATAGCG-2', 'cell-CAATAAGCAGGCCATT-1', 'cell-GCTTTCATCTAAATCG-3', 'cell-TGAGGGAGTTCGCGCT-4', 'cell-ATTGTGATCACTAAGC-3', 'cell-TATAACCCAGTAATAG-4', 'cell-GCGGTTGGTTGTTCAC-3', 'cell-CGAACAAAGTAAGTCC-4', 'cell-AACTAGCTCACTAATG-3', 'cell-GTTGGCCAGCGGGCAA-1', 'cell-GAGCTGCTCTGTAATG-1', 'cell-GGATGTAAGCATGTTA-1', 'cell-TAGGAGGGTAGACAAA-2', 'cell-CTGTAACAGTGAGAGC-4', 'cell-GTTAGACTCCTAAGTA-1', 'cell-TTCATCCCAAGCTTAT-4', 'cell-TATGGGCGTTCACCCA-3', 'cell-TATTAGCCAGGCCATT-2', 'cell-GCTCGATCATGTTTGG-1', 'cell-GTGAGCGAGTCTTGAA-3', 'cell-CTCTTGATCGTACCGA-1', 'cell-GGGATTAAGCAAGGTA-4', 'cell-AGCAACAAGTCATTTC-3', 'cell-ACGAATCTCCTTTACG-4', 'cell-GGATGAATCCTGATTT-1', 'cell-ACCCGGTAGTAGAGGC-3', 'cell-TTCAACCGTTGGTTCT-4', 'cell-GTGTAACTCCCTCACG-4', 'cell-CTACGAAGTCGAAGTC-4', 'cell-TCCTTCAAGTAAAGGT-3', 'cell-ACAACACTCAGCACGC-4', 'cell-GAGGCTTGTTGGGTTA-1', 'cell-GCCCATAAGCCTTAAA-3', 'cell-CTTGAACAGTTCCTCA-4', 'cell-AACCTTGCAGCATTAT-4', 'cell-GGTAACTTCACCGGTA-4', 'cell-AAGTAGCCAGCTAATT-1', 'cell-TTAAGCCAGTTAGTGC-3', 'cell-CGTAACTAGGCCATCA-4', 'cell-CAATAGCTCAAACCGT-4', 'cell-TTTAACCTCCTGGTGA-2', 'cell-CGAACCGGTATTGTCC-1', 'cell-GGTCTTGAGTTATCCT-4', 'cell-TGATGAACAAGATTCT-3', 'cell-TAAGCCAGTTGAAGCC-4', 'cell-TTACACCGTGAGGTGA-3', 'cell-TTGATGTCATAATCAC-1', 'cell-GGCCTCTGTGGTGAGA-2', 'cell-CTGTTCATCATAGCCG-2', 'cell-AGTAATCGTGCTCACC-3', 'cell-GTGAACAAGCTTCTCA-2', 'cell-GTTTCAGCAGTTTGGC-4', 'cell-ATTGAAGCAAATGCCC-1', 'cell-ATAGATGCACCTCACC-1', 'cell-AAACCAACATTGCGGT-2', 'cell-CTAGCTGAGCCTGGTA-4', 'cell-CTTTAGGCAGCACGAA-1', 'cell-AAGTTTGTCGAAGTGA-3', 'cell-AATTACCCAGGCTGTT-1', 'cell-GCGTGCTAGTGAACGA-3', 'cell-GATCACTAGTAAAGGT-3', 'cell-CTAATAGTCTGTAATG-1', 'cell-CTGGACCAGTTGGGCC-1', 'cell-TAGCGGACACGTAATT-4', 'cell-ATCACTAAGCTCCTAC-3', 'cell-TAGTAACGTTTAACGG-1', 'cell-TGCTCAACAGGCATCT-4', 'cell-TAAGGACCAAGCGAGC-4', 'cell-TGTTATGAGCCACATG-2', 'cell-CCAGGATGTGTTGTGA-1', 'cell-CTACGAAGTTGTTGGA-2', 'cell-GACTAATGTCCGTGAG-1', 'cell-GTGCTTCTCCGCCTAT-4', 'cell-AGCTAAACAAACTAAG-2', 'cell-CCTTCGTAGAAGGTGC-3', 'cell-GCAAGCCTCATGGTTA-3', 'cell-TACTCGCTCATAGACC-3', 'cell-AGTTGCGTCGGTTTCC-3', 'cell-TTAGGCTAGCGGATTT-4', 'cell-GTTCGCGCACAAAGGT-1', 'cell-GGACCGAAGGACCTGC-3', 'cell-AAAGCACCAATTATGC-2', 'cell-GCTATAGGTTGTTCAC-4', 'cell-CAAGTTATCTTTAGGA-4', 'cell-GACACCGGTACAAAGA-4', 'cell-TCAAGAACACTCGCTC-2', 'cell-TTCGTTAGTCCTCCAA-4', 'cell-AACTGTTCAAGCCACT-4', 'cell-TGAAACTGTGGTTAGC-3', 'cell-CCACACAAGCCGCAGT-3', 'cell-TTGGCGGGTCTTACTA-3', 'cell-CCGTTATGTTAGCCAA-2', 'cell-GTCAGGCTCACTAGGT-2', 'cell-ACATAGCTCGCTCACT-2', 'cell-AAGACCAAGGAACGGT-4', 'cell-GATGACTTCCATAATG-1', 'cell-TTCAACCGTATTGCAG-4', 'cell-GTCATGCCAAGGTCGA-1', 'cell-GACGTAAAGCATGTTA-1', 'cell-CAGGGCTTCATGTTTC-4', 'cell-TTACCTGTCAAGTGAG-3', 'cell-AGGGTTGCACCAACCG-4', 'cell-GGTTTGTAGTTATTCC-2', 'cell-TGCTTCATCTGTGAGT-2', 'cell-CTCCAAACAAGGCCAA-1', 'cell-CAAAGTGAGTTCCTGC-4', 'cell-GGTCCGTAGCTATTAG-4', 'cell-TGACTCCTCATTAGTG-4', 'cell-GTTGTGAGTCCTAACT-4', 'cell-AAGGCCCTCGTTACAA-1', 'cell-GCATTAGGTTATCCGT-1', 'cell-CAACAGGCATCCAGGT-4', 'cell-ACTCCTCAGTGGCGGA-3', 'cell-TCCTGTTCAGTTAGCC-1', 'cell-CAGCATGTCCAATTAG-3', 'cell-AGTAAACAGAGGAGGA-3', 'cell-CAGGTGGAGCGCATTG-2', 'cell-CGTTGCAAGCCATCAG-3', 'cell-GAGGTTAAGTATTGTG-4', 'cell-ATGACCAGTACAAAGA-4', 'cell-ACCTGGTCAGAGGCTA-2', 'cell-GCGCTAGGTCCTTTAA-2', 'cell-ATCAGGTTCGCTAGAT-4', 'cell-GCTGACCAGGTCGAGG-3', 'cell-GCGGGTTTCCCGTTGT-1', 'cell-AGGACTAAGACTCGCA-1', 'cell-GTTCCTGGTTCCGGCT-4', 'cell-TTGGGCGGTAGGTTGC-4', 'cell-AGTAACCTCAGGAAGC-1', 'cell-GTTAATGTCCCTCTAA-2', 'cell-GCTAATATCCCAGTAG-2', 'cell-GCCTTTATCATGCAAC-3', 'cell-AACCGCTCACAAGCCT-4', 'cell-CAAGTAACACGTTACA-4', 'cell-ATTGGCTAGTAAAGGT-3', 'cell-ATGAAGCCATAAGGAC-1', 'cell-CTCTAGCTCTTGTCTG-4', 'cell-TAGGTGCGTTTCGCGC-2', 'cell-CTTAAGGGTTAGAGCC-3', 'cell-ATCCACCTCAACAAGG-1', 'cell-TGAGGAGGTAAGCTCA-3', 'cell-GGCCTCTGTTGGATAT-4', 'cell-CTCACTCAGTAATCCA-4', 'cell-TTACACCGTGGAGCAA-4', 'cell-GAGCGGTCATAGTCAT-4', 'cell-ACCTTCCAGGAAGCAC-3', 'cell-AGCGCCTAGTAACCCG-4', 'cell-GGATTATGTGATGGCT-4', 'cell-GATTGTTCATGCTTAG-3', 'cell-CAATGTCAGACAAGTG-4', 'cell-GAAGTATAGGCAAGTA-1', 'cell-AACCGGCTCAATACGC-4', 'cell-GACTAATGTAAGCTCA-4', 'cell-TAGCAGGCACAAAGCG-4', 'cell-CGCATTACATCAATCG-4', 'cell-CTTGAATCATTGTCAG-2', 'cell-GTCTAACAGAGAGCCG-2', 'cell-GTGAGCGAGCGAAGTA-4', 'cell-CAACAATGTCATGCAA-1', 'cell-GACGCAACACGGTTTA-4', 'cell-ACATAGCTCGCACAAT-2', 'cell-CGCAATGTCTTAGTCT-4', 'cell-TACCTCATCGTCAAGT-2', 'cell-CCTGAATAGTGAGGTA-4', 'cell-GCTAAGTTCGGGCCAT-1', 'cell-CGCTTGCGTTGAGCCG-4', 'cell-AACTAGCTCGAAGTGA-3', 'cell-ACTATGTCAGGCCTTG-4', 'cell-GGTTATATCCCGTTTA-1', 'cell-AGCATCCCAAATTCGT-3', 'cell-ATCAAGACATTGTGTG-2', 'cell-TACCTTTAGCTTACTT-4', 'cell-TATCGCACACACTAAT-2', 'cell-CCTATTTAGAATCGCT-4', 'cell-TTGAGCTAGCGCTCAA-3', 'cell-GTCGGTTCAGGACCAA-3', 'cell-TTTCCTGAGCCATCAG-4', 'cell-CCATAAATCCGGAACC-4', 'cell-TGGCCTGCAGGGAGCT-4', 'cell-CAGGACACAAACCTTG-4', 'cell-GTACGTAGTTCACTGT-4', 'cell-GCGGAACCAGTCTAGC-2', 'cell-GAGGCAAGTGGAAACG-3', 'cell-GAGTTACTCCGCAAGC-3', 'cell-ATCCTTAGTTGTTCAC-2', 'cell-GCCTGACAGGAGCACG-4', 'cell-AGGCAATCACCAAAGG-4', 'cell-GAGGAGGCAGGTATTT-3', 'cell-AGGCCCAGTCCTAACT-4', 'cell-CTCGACAAGATTGAGG-2', 'cell-CTTCACTCAATTTGGT-3', 'cell-TCAGTAATCCTCAGTC-4', 'cell-AGCCTAGTCAACAAGG-1', 'cell-TGTCATAAGTTAGTTG-1', 'cell-GGTAGGAGTGTTTGTC-1', 'cell-GTTAAGCTCGAAGTAG-4', 'cell-TGGACCGGTGTGCAAC-1', 'cell-TATGCATCATCCTAGA-4', 'cell-GCCACTAAGCATGACT-4', 'cell-AGTAAGTAGGCCATCA-2', 'cell-ATACCGGTCGATTCTT-3', 'cell-CGTGAGGAGTTCCTCA-3', 'cell-TGGACGGAGCGCCTTT-4', 'cell-AGCCGGTTCCCGCAAA-4', 'cell-AGACCCGGTTTGAGGC-3', 'cell-CTCCTGAGTGAGGTAG-3', 'cell-GCAACAGCAGTTAAAG-4', 'cell-CGGACAACAGAAACGT-2', 'cell-GTCATGCCAGCCGCTA-4', 'cell-CCGCTAAAGTGAGCGG-3', 'cell-TCAGCGATCCAGGGAG-3', 'cell-TCCGCCATCTTTGAGA-3', 'cell-GCAAGCCTCATGGTGT-2', 'cell-CGAGGTGAGCTATGAC-1', 'cell-AAGAACAGTGATTACG-4', 'cell-CGTAACTAGCCTAACG-3', 'cell-CCTGAGTCAAACTGTT-2', 'cell-GGCTAGTGTCAGGCAT-3', 'cell-TGGCCATCAACCGCCA-4', 'cell-CTGGCTAAGCAAACCT-1', 'cell-CCTGCTCCACCATATG-4', 'cell-CGTTAGTAGCATTAGC-1', 'cell-TTAAGCCAGCTTAGCG-4', 'cell-CCAATATCAAACTCAT-3', 'cell-TGCTGGATCACTTTAC-4', 'cell-GAAAGCCAGGCACAGG-4', 'cell-CGAGCTGGTGGTGAGA-1', 'cell-CTGTTTAGTCCCGAAG-3', 'cell-CGTTATCGTGTTTGCT-4', 'cell-GTGAGCGAGGAGTCTT-4', 'cell-GCCTACTTCGATAACC-4', 'cell-AGGGTTGCAGTTAAAG-4', 'cell-TCGTTAAAGTGTTGCG-4', 'cell-GGCCTTAAGCAGGTTT-4', 'cell-GAGAAACGTTGTTGGA-4', 'cell-GGGAATATCTAACCTT-4', 'cell-TGTTGCACACGAATTT-3', 'cell-GTTACCTGTCAAAGGG-4', 'cell-GTCATGCCAATACTGT-4', 'cell-TTGTCCATCCCTCAGT-4', 'cell-ACTATGTCATCGTTCT-2', 'cell-CCGCTAAAGGGTTATC-3', 'cell-TCTTAGTTCTCAATTC-4', 'cell-ACTTGCACATCCCTCA-3', 'cell-ATGTTCAAGCTCAATA-4', 'cell-AAGCGAGGTCAAGTAT-4', 'cell-GGATTTATCGAAGCGG-4', 'cell-AGTAAGTAGTCAATTG-4', 'cell-TTTAGCAAGGGATGAC-4', 'cell-GCAAGCCTCTTCAATC-4', 'cell-GGACTAAAGGTTTGCG-4', 'cell-AGCCGCTAGTAAGGGC-4', 'cell-TCTGTGACAATAGCCC-4', 'cell-TGGACGGAGCTGGACC-4', 'cell-CGGTAACGTCGACTAA-4', 'cell-TTTAAGGTCGCTAAAC-4', 'cell-CCACAGGGTACTGATG-4', 'cell-GTATTGTCAAGCTAAA-2', 'cell-CAGCATGTCAGCATTA-3', 'cell-GTAGTTTCAACAGGTG-4', 'cell-GCTAGCCAGACTTACA-2', 'cell-TGGTGCATCACCAATA-1', 'cell-TGGTTCTGTTAGAGGG-4', 'cell-CTTACTAGTGCACGCA-3', 'cell-CTCCTAATCCGCCAAA-4', 'cell-CTCATTTAGCTTCTCA-2', 'cell-CGTTAGGTCAAGCTTA-4', 'cell-ACCAGCTCACTGGCCA-4', 'cell-TCAAGAACACTTAACG-4', 'cell-AAACGTACACCTAAGC-1', 'cell-CAATGTCAGCCGCAGT-3', 'cell-TTGACATCAGCATTAT-4', 'cell-CGTGCACAGGCTCATG-3', 'cell-AGCACTTAGCACTAAC-3', 'cell-TGTCCTTCAGCCAGAA-4', 'cell-ATTTGCAAGCTAATCA-4', 'cell-ATCCGTGAGGCGGGTA-4', 'cell-CCTTTAGTCTTAGGGT-4', 'cell-CAAACACTCTAATTGG-3', 'cell-GCCACAATCTTGCAAA-2', 'cell-CCTAAGGTCACTAGGT-2', 'cell-GACCTTTGTGGGTACT-1', 'cell-CAAAGCGCATCCAGGT-2', 'cell-CTAAGTCAGCGGTTAT-3', 'cell-CTAATTGAGGGCTTTG-1', 'cell-CACGCAATCTGTGAGT-3', 'cell-TTGCTTTAGTAAACCC-1', 'cell-GGTAATTGTTTCCGGC-4', 'cell-AGTTTGATCGGTAACT-2', 'cell-TACGCTTGTTTACTTG-4', 'cell-ATCGAGGCAGAAACGT-2', 'cell-GTCTTGCTCGATTATG-2', 'cell-ACTAACTCATCGCTTT-4', 'cell-AATAGAGGTACGCGCA-4', 'cell-ACCTGGTCAGCAGGTA-4', 'cell-ACGTCCAAGACTTACA-2', 'cell-TATGAAGCACAAAGGT-4', 'cell-GGGTTTCCATTGTGAT-3', 'cell-CGCTCCATCGTTAAGC-4', 'cell-GCGTTTCTCTGCAACG-2', 'cell-ACTAAAGCAGGTCCTG-3', 'cell-CTTCTCAAGCTCCTTA-3', 'cell-TTTATGGAGCATCCAG-3', 'cell-TTCAACCGTCACGAAC-2', 'cell-GTCATTAAGAACCTGT-4', 'cell-GTTGTGAGTACCAGGT-4', 'cell-GAAGCTAAGGAACCAA-4', 'cell-TTATGACCACATAACT-1', 'cell-GGCCTTCGTCCTTCAG-4', 'cell-GCGAAGCCATGCAACC-4', 'cell-AAACGGATCAGGCTAT-4', 'cell-CATGCGGGTGTTTGCT-4', 'cell-GTTGCCCGTGATGAGG-3', 'cell-AGCTTAATCGTTATCT-4', 'cell-GGCAAATCAAGACTCC-4', 'cell-GATAGACCATGAATAG-3', 'cell-GGTTGGTGTTGCGCGA-4', 'cell-GTATTGATCGCAGGCT-1', 'cell-CACATACAGCATTTCT-4', 'cell-TTGGCGGGTACTTAGG-1', 'cell-ATCGAGGCACAAAGCG-4', 'cell-CCAAATCAGTTTAACG-3', 'cell-CTGGTTACAGAACCGA-4', 'cell-TACTCAAAGCATGACT-4', 'cell-ATGGCTAGTGGATTAT-1', 'cell-AACCCGCAGCCTGTGA-2', 'cell-GTGATGAAGCTATTAG-4', 'cell-GCTGCATCAACTCGCG-4', 'cell-ACTTACTTCTTTAAGG-4', 'cell-AAACCGAAGGCGCATC-1', 'cell-CATCCTGGTAGGATTT-3', 'cell-AGGATCCGTAGGTTAT-2', 'cell-TTCATTCAGCTAATTG-4', 'cell-TTCTTAGGTCACACCC-1', 'cell-TGAACAACAGTTTGTG-4', 'cell-GTTCGCGCACTAAGAA-3', 'cell-TATGACATCTCGACCT-2', 'cell-TGAGAACCAGAGAGCC-4', 'cell-GTACTAGGTGTAACCA-4', 'cell-CTGACATAGCACAGGG-4', 'cell-CCCAGTTTCGCTAAGT-1', 'cell-GGTTGCATCACGCCAA-1', 'cell-CAAACACTCTGTAAGC-2', 'cell-TTAGGCCCATAAGCAA-2', 'cell-GTTCGCGCACGGTTTA-4', 'cell-GACGTAAAGTAACGAG-4', 'cell-GCTGTACCAGGATGGC-3', 'cell-CTGTACCTCTAATCAG-4', 'cell-AGGTCTTAGGTGAAGC-4', 'cell-CCCAAACCAGGAAGCC-3', 'cell-TTCGGTACATTTAAGC-3', 'cell-CGAAGTAAGTCGCTAG-3', 'cell-GCCTGAGGTCAAGTAT-1', 'cell-ATCGAGGCAGATAGAC-4', 'cell-GCATATATCCATCAGG-3', 'cell-AGTAACCTCCCAGTAG-3', 'cell-AATTGGGAGTGAAGTG-4', 'cell-TAGCCTCTCATTAGCA-4', 'cell-CTACCGGCAACAACAA-4', 'cell-TACCGCAAGTCATGCG-2', 'cell-GAAGTAAGTTTGAGCA-2', 'cell-TTTACGAAGGTGTCCA-3', 'cell-TTGTTCCCAGTTAAAG-1', 'cell-CGTACGGGTGGCTTCC-2', 'cell-GCTAACAGTAATGGCC-4', 'cell-TCCTTTACACAACCTA-1', 'cell-TTGGATATCCGCACAA-4', 'cell-ACGTCCAAGGTCCTGA-3', 'cell-GTGGATGCATGCAACC-4', 'cell-CTTGCGCGTTAGAGCC-4', 'cell-TGGATTGGTACAATGT-4', 'cell-TTGGTGAGTAAGCTCA-2', 'cell-GTGATCAGTTAATGCG-4', 'cell-TAAGCTATCATTTGCT-2', 'cell-ACACTAATCACCGGTA-3', 'cell-GGTTAATGTCGAAGTC-4', 'cell-ACCCAACCATTTAAGC-3', 'cell-TGGTAAACAGGCTTCG-3', 'cell-AAGGATCCAAACCTTG-3', 'cell-ATCACACAGGTTACAC-3', 'cell-AGACACGCAGTCTAAT-1', 'cell-ATGCGATTCGCTCCAT-4', 'cell-AGTAATCGTGACATGC-4', 'cell-CGCTCCATCCCATAAA-4', 'cell-GTCATCCTCAATTACG-4', 'cell-GGAACTAAGCACCACA-1', 'cell-AGCTGCTCAATCTCTC-4', 'cell-CTCTTGATCGAGCTAT-3', 'cell-GATCGAGCATAGACTT-3', 'cell-GATTGTTCACGAATTT-4', 'cell-CGTTGCAAGTCACTCC-3', 'cell-TCACGGATCTTAGCCC-1', 'cell-GCTAAGAAGTGAACAG-3', 'cell-GCACCTAAGACTTATG-4', 'cell-GGGTATTTCATCCTAT-4', 'cell-GCAATAGAGCACGTTG-2', 'cell-CGCAAATTCGAGCAAA-4', 'cell-GCTAATATCAAGCCTG-2', 'cell-ACCTGGTCAAATACCT-4', 'cell-GTCCTCCCACCCTCAC-1', 'cell-ATGTTGTCACTGGCCA-3', 'cell-ATGCCTGAGACTTACA-4', 'cell-TGACTCCTCCAGGTCA-2', 'cell-GTTGTGAGTTACTTGC-3', 'cell-AGGATGCAGTTATGTG-3', 'cell-GACGCAACAGGAACCA-4', 'cell-TACAGGTTCCTCAGCT-4', 'cell-ATCATCAAGTTAGAGG-2', 'cell-CGCTCCATCTTGAGGT-3', 'cell-TCAGGTCCAGTTATCG-4', 'cell-GGTTAGCGTCGCGCAA-2', 'cell-AGTAACGAGCCTAATA-1', 'cell-AGCACTTAGGTGAAAT-4', 'cell-GGCAAATCATGCAACC-4', 'cell-AATAGCTGTCCTTCAG-4', 'cell-TGTTGTAAGTAAGGGC-4', 'cell-CATGCGGGTTGGCCGA-4', 'cell-ATAAGTCGTCGCAAAC-2', 'cell-AGTAGGATCACATTGA-3', 'cell-AACTCACAGAGGAAGG-1', 'cell-GAGCCTTCAGGTTACC-4', 'cell-TCAACAATCACGTTAA-4', 'cell-GTGCCTTTCCGTAAAC-4', 'cell-CTTGTTCCATAGGCGA-3', 'cell-CGCTGTGCAGGACCAA-2', 'cell-TAGCTTAAGTTGGGCC-4', 'cell-CCACATTGTTAAGGTT-1', 'cell-GTAGTTATCCCGCCTA-2', 'cell-CTGTATTTCGATTTGA-4', 'cell-CTTCTAAGTTTACGTC-2', 'cell-ATCCACCTCCAGGAAA-2', 'cell-TACGTAATCACTTTAC-1', 'cell-CGTGAGGAGGTGAAAT-1', 'cell-GCACATTAGCATCCAG-3', 'cell-GGTACAAAGTTTCCTG-4', 'cell-CATGCATAGGGCCATC-1', 'cell-GTACTTCGTGTGTCCC-2', 'cell-AGTAAACAGCACAGCC-3', 'cell-TGGCTTTGTGCATTTC-4', 'cell-TGATGAACAAGGCCAA-1', 'cell-TGCTCTCAGCTTAGCG-4', 'cell-CCTTGTTCACTCAACA-2', 'cell-CATTATCTCGCGACAC-1', 'cell-ACTCGCGCAAGTGTTT-3', 'cell-AAGGCCCTCGATCAGT-3', 'cell-ATGATGGAGCTGCACA-4', 'cell-TAGCCTGAGGCTGTCA-3', 'cell-AGTCAATGTCAGGCAT-1', 'cell-GTCAATATCGTGCCTT-1', 'cell-GAGGTACAGTTTGAGC-2', 'cell-CCTACTTCAGAATGAC-2', 'cell-GCACGAACAGTCTAAT-4', 'cell-CTAGCTTGTAAAGCAA-2', 'cell-CTGGCTAAGTTATCTC-3', 'cell-CCTTGCGTCCTCATCA-2', 'cell-TTATAGCCATCTAGCA-2', 'cell-CAACCCTTCGTTAAGC-4', 'cell-CCTGTTGGTATTGCAG-4', 'cell-TCAATCGCAGGCTAGA-4', 'cell-CCTGAATAGGGACGCA-4', 'cell-AAGTTAGCAATCATGT-1', 'cell-GACCTCAAGCTGGCTA-1', 'cell-ACATCATCAATATACC-3', 'cell-GTCATCACAGCAAGAT-4', 'cell-GAGTAACCATTATGCG-4', 'cell-GTCAGGCTCCTACCTA-3', 'cell-CAATGAACAGCATGAG-2', 'cell-TGATGACTCGTTTCGC-1', 'cell-GTGGTTAGTGCAACTA-4', 'cell-AGGATGTCAGCACCAT-3', 'cell-CATTATCTCCTTGCAC-4', 'cell-CATTCCTCATAAACCT-4', 'cell-GGTTCCCGTTGCGCGA-2', 'cell-TGTGCTGAGCAAACCT-1', 'cell-GATTGCAGTAAGCACC-3', 'cell-TAGTGTGGTGAGCAAG-3', 'cell-AGCACAGCAACTGGCT-4', 'cell-AGTGAACCAAAGCGGC-3', 'cell-CCGCTAGCACAATACT-3', 'cell-TTCCTTCTCGGGACTC-3', 'cell-TATGTGATCTTAGTGA-4', 'cell-CGAGGTGAGGCATTAC-3', 'cell-TGGTGATTCGGTTAGT-4', 'cell-GGCCAACTCATCACTT-4', 'cell-GATAATCGTATTTGGG-3', 'cell-GTATGTTCAATTGACT-4', 'cell-TGCGGTTCACAGGATG-4', 'cell-TCAAGAACATCCTGAA-1', 'cell-GTCTAGCCATAGGCGA-4', 'cell-CCGCTAGCAGTCTATG-4', 'cell-GATAAGCCAGAAACGT-3', 'cell-TCGTTATTCCTTCTAG-3', 'cell-CTAAAGCTCTCAATGA-4', 'cell-ACTTGAATCCAAGTTA-1', 'cell-GATTGTTCATAAGCAA-4', 'cell-GGCGATACAGCAGGTA-2', 'cell-ATGTCAATCGATCAGT-1', 'cell-CGGAGTCTCCTCATCA-2', 'cell-GTTGTGAGTTTGGGCG-4', 'cell-CGCATTACATTTGCTC-3', 'cell-ACGCTTGAGAAAGCAT-4', 'cell-GGAACCACAGAAATTG-4', 'cell-AAAGGTTAGCCACATG-4', 'cell-TAGTTTGAGTCATTGA-3', 'cell-TTTGACTTCCTTGCGT-4', 'cell-TAGGTTGGTTAATGCG-3', 'cell-CTCCAAACAGAAATGC-4', 'cell-AGGGTTGCACAGCCTG-2', 'cell-CAACCCGCAGGTCCTG-2', 'cell-GATTGTTCAGGATTAA-1', 'cell-ACCACACCAAGGCCAA-4', 'cell-AATATCCCAACCTGGT-3', 'cell-CCCTGGACAACTAACT-4', 'cell-TGAGGAGGTTTAACCC-4', 'cell-GGGCATTGTCATTACC-4', 'cell-TTGCATTTCGCCTAAG-4', 'cell-TATCGCACATTGTCAG-4', 'cell-CAAGAACCAGGCTGTT-4', 'cell-ATCATCAAGCCTCTGT-1', 'cell-ATTGTCCGTTTAACCC-4', 'cell-CAAGGTAAGTATTGGC-4', 'cell-AGTTACTCATCAGTAT-4', 'cell-CAGGGCTTCGTTTCCA-1', 'cell-CCTGATGAGCTATGAC-3', 'cell-TGGACCGGTTCCGGCT-4', 'cell-GTCCTCCCATAGCTGC-2', 'cell-GATTAAGCATAATGTC-3', 'cell-CACTAGCCAGCCAGTT-3', 'cell-AAGTGCAAGGCAGGTG-1', 'cell-GAAGTGATCGCTTCTA-1', 'cell-CCCAGTTTCGTTTCCA-4', 'cell-ATTTGCGCACAGCCAT-4', 'cell-CTTTATGGTTAATGAC-2', 'cell-GCATCCTTCGGTTACG-4', 'cell-CAAGGCTGTGAGCAAG-1', 'cell-GCATTGCCAGTGAACG-2', 'cell-CGGACAACATGCTTAG-3', 'cell-CCGCTTAGTGGGAACA-1', 'cell-GGGAATATCTAAATCG-2', 'cell-CGTTTGGAGCCTCTGT-4', 'cell-GCTAGTGTCCCGCATT-1', 'cell-AATTGACGTTAAATGC-4', 'cell-GGTACTAGTACAATGT-3', 'cell-CTTCTCAAGTAAGGGC-4', 'cell-AGCGTGCTCATTAGGC-2', 'cell-CTGGACCAGCTAATTG-1', 'cell-TTACAGCAGGAGCATA-3', 'cell-CCATAGCCAACCCTCC-4', 'cell-GTGCTCCGTTGCGGAT-1', 'cell-AGGCAATCAGTTATCG-4', 'cell-TTAGCAGGTAGGTTGC-4', 'cell-AGTATAGCACTAAGTT-1', 'cell-GCCTTAACATTGACAT-1', 'cell-CTACTTAGTAAATTGC-1', 'cell-GATCAAGAGGTGTCCA-4', 'cell-TAGTAAGCACTAAGTT-4', 'cell-CAAGTAACATGATTGT-4', 'cell-CAAGGGAGTGTGCACG-1', 'cell-TCCAGCAAGGGCCACT-4', 'cell-TCAGCCTTCAAGCCTG-1', 'cell-AGAGAGGAGAGAAGGG-3', 'cell-GTGCTCCGTCGCGCAA-1', 'cell-TCCTAGTGTCTAACCT-3', 'cell-AAGTTTGTCATTACAG-4', 'cell-CTCTATGTCAGCATTA-4', 'cell-TAGTTTGAGCACGTTG-4', 'cell-CGGTTTGAGTTATCCT-1', 'cell-TTATGCGCACACAATT-3', 'cell-GGCTTAAGTTAAATGC-4', 'cell-TCTAACCGTTCATCTA-3', 'cell-CTCCTGAGTGATGATT-1', 'cell-AGTAACCTCGGCTATG-1', 'cell-ATGCAAACATAAGGAC-4', 'cell-TGGTTCCTCCACCTGT-2', 'cell-GACCTTTGTACCGTTT-2', 'cell-CCCGTTGTCCTCCATA-2', 'cell-TGATTAGTCTGTAAGC-4', 'cell-ACTTATCTCCGTCCAT-4', 'cell-GAAGCCTGTTAGCGTA-4', 'cell-GGCGGTTTCAGGCCTA-3', 'cell-CAGCTATAGTTGGCCA-4', 'cell-CCTTCAATCAGGCTAT-4', 'cell-CAGGATGCAGGATGGC-4', 'cell-TACGCACCAAGGTGCA-3', 'cell-TATGACTCACGAATCC-4', 'cell-CTTGTCCAGGTTAGAG-4', 'cell-CCTTTAGTCCTAAGGT-3', 'cell-CGGTTATAGACAACGA-3', 'cell-TCATGTTTCGAGGAAC-4', 'cell-AGGGCCTTCGCCTAAG-3', 'cell-CCAGTTTGTTGGATAT-3', 'cell-GCACGAACAATTAGGA-1', 'cell-GAGCAAATCCTCCATA-3', 'cell-ACAGGTAAGGACCGCT-1', 'cell-GTGAACAAGCCTGACA-4', 'cell-CCGTGCTGTAACGGGA-4', 'cell-CAGGTTAGTAAGGTCC-3', 'cell-ATGGCCCAGGTAAGCA-4', 'cell-TTAAGTGTCCTCACTA-4', 'cell-CTCGTTATCGGCCAGT-3', 'cell-CGGGCTTAGCGGATAA-3', 'cell-ATCAATCCAGGCGATA-4', 'cell-CATTATCTCTCTAGCC-4', 'cell-GTAGGAGGTAACCTAG-2', 'cell-GTTTGTTTCACGCATG-3', 'cell-TTGCAATCAGGTTCAC-3', 'cell-TCTCAAGCAAAGCGCA-4', 'cell-CGCAAATTCTAACCTT-1', 'cell-GGGTCAACAGGTCCTG-3', 'cell-TCTACTAGTGCTGTAA-3', 'cell-CTGAATATCTCAATAG-1', 'cell-AGGTTGCGTGATGAAA-2', 'cell-ACTTCGCTCCCTCTAA-4', 'cell-ATATGCTCATAAAGCA-4', 'cell-AGGTACGCAGCCAGAA-4', 'cell-GATGAGGGTCATTGTC-3', 'cell-GTCAGGCTCACTTTAC-2', 'cell-GCAGCAACACTAAGTT-2', 'cell-GGCGCTAGTGATTTGG-4', 'cell-TCTAAGGGTGTTTGCT-3', 'cell-GGACCTCAGCGATAGA-4', 'cell-GCCTGTGCATTAGCCA-3', 'cell-TTTGGTGCACTCAACA-4', 'cell-AAAGGCTCAGAAATTG-1', 'cell-TAAGTAGCATATAACC-4', 'cell-CATCACACAGCATGTC-1', 'cell-ACAACAGAGTGCTGTG-4', 'cell-CTGTTCATCATAGACC-4', 'cell-TTGTCCGGTCCGTGAG-3', 'cell-CCCTTAATCCCATAGG-4', 'cell-TCCTCAATCTTGCAGG-4', 'cell-TAGCGGCTCAATGTGC-1', 'cell-AACCTTGCAGTAAAGC-3', 'cell-GCTTTGTGTGTGAGAG-4', 'cell-GCGCTAGGTTGCGGAT-1', 'cell-ATGAAGCCATTGGGAG-4', 'cell-TATGACATCGAAGTGA-2', 'cell-TCCAGCAAGTGCTGTG-3', 'cell-ACATTAGTCTTGTCCA-1', 'cell-TCGTTAAAGCTCCTAC-4', 'cell-CAAGTATGTTGAAGCC-4', 'cell-ATCAGGTTCATTTGTC-2', 'cell-CTTTGAGCAATGCCCG-4', 'cell-GCGCTTGCAATTAGCT-4', 'cell-GACCTTTGTTTACGTC-2', 'cell-TTTGTGAAGTCGCTAG-4', 'cell-CACTAGCCAACTGGCT-4', 'cell-AGTTGGCGTACCGAAC-4', 'cell-TTATGACCACAAAGAC-3', 'cell-GTGCATTAGACAACGA-4', 'cell-GTGTGTTAGGTAGCTT-2', 'cell-TTGCACACACATACTG-4', 'cell-ATCTATGAGCGATAAG-3', 'cell-CCTAGTTGTTGTAACG-4', 'cell-ACCAGGGAGGAACCGG-3', 'cell-ATCACAATCATTCATC-3', 'cell-TCCCTCACAAATGCCC-4', 'cell-GGCCATCAGCCTGAGC-4', 'cell-AAAGGCTCAAACGGGC-4', 'cell-CATCGCTTCTAGCTTT-3', 'cell-TTGGCTGAGGCCTTAG-1', 'cell-TGCGGTTCACTTCACT-3', 'cell-TCGTTTCCAGCACCAT-4', 'cell-TGTGCGCAGGACCTGC-4', 'cell-CATGCGGGTAGTTAAC-3', 'cell-GGCTAGTGTCAGGCCA-3', 'cell-GCCTTAGAGTTATGTG-2', 'cell-TCATGAGGTTACATCC-3', 'cell-CGCGGATTCATAACCA-4', 'cell-AATGCATGTTAAATGC-2', 'cell-GTAATAGCAATTTAGC-3', 'cell-TAGTAGGAGGGCCACT-2', 'cell-GCTGACCAGTGATTCA-4', 'cell-CAGGGTGAGCAGGTGG-3', 'cell-GCTCTGGCAGTAGCCT-1', 'cell-ACTCCTCAGGAACCGG-2', 'cell-ATTACGTCACGAACAG-2', 'cell-TCTCACCAGCTAATCA-4', 'cell-GATTGCAGTTAGGCGT-4', 'cell-ACGTCAAGTCCTAATC-3', 'cell-GTCCATTGTTCTTTAG-4', 'cell-ACACTAGGTTCAAGAT-1', 'cell-TTACACCGTAGGATTT-4', 'cell-AATAACCGTACTTCAC-2', 'cell-AGTCCTTGTTGTTGCT-4', 'cell-CGCATATAGTGAAGTG-3', 'cell-GAGAAACGTTCGCTCA-1', 'cell-CACCTGTTCAGAAACG-4', 'cell-CCTAAGCCAATTTGGT-4', 'cell-TATCCGGAGGATGATG-2', 'cell-CCTGATGAGCCTGTGA-4', 'cell-GCCTGTGCAACCCTCC-4', 'cell-AATTAGCGTTACTTGC-4', 'cell-AATTTGCCAGGTTAAA-1', 'cell-AGATGAAGTACTTAGG-3', 'cell-AGGACTAAGGTAGCTT-1', 'cell-GCCTGTGCAACAGCCT-4', 'cell-GTTCGCTTCCGTTAAA-4', 'cell-TCATACTTCTTGGATA-3', 'cell-CCTAAGGTCGACAAAG-2', 'cell-ATACCTGCAGAGAGCC-2', 'cell-GTCTTTGTCATGCTTT-3', 'cell-AGCGCCTAGGGACTAA-2', 'cell-TCGTTATTCTAACCAA-1', 'cell-GACCTGCAGGAGTCGG-4', 'cell-ATATGGTGTGCGCAAT-1', 'cell-GACGCAACATCACAGC-1', 'cell-GTAAGCAAGTGCACGC-4', 'cell-CCATTGTGTGCTGTAA-4', 'cell-CATATCGCATTGTGGC-2', 'cell-ATGTCAATCGATCAGT-3', 'cell-AGTCCTGAGAGGAGGA-2', 'cell-TCGCTAACAAGTTATC-3', 'cell-GCTCTGGCAAGGTCCT-4', 'cell-TTACACCGTGCCGCAA-4', 'cell-GCCTGAGGTATTGTCC-4', 'cell-CATCCTCAGGGTCCAC-4', 'cell-CTCTAAGCACACAATT-4', 'cell-GTGAGCGAGTCACTCC-4', 'cell-CCCGTAAAGTAGCGCC-4', 'cell-TGTGCTGAGCTAATTG-1', 'cell-CTCCCTGAGCACGATT-4', 'cell-GGTGTCCAGAACCTAC-3', 'cell-ATATGGTGTTAAGCCA-1', 'cell-GCTAAGTTCGCACAAT-3', 'cell-GGAAACTCATGAGTTT-3', 'cell-GGACTAAAGCCGCAAC-4', 'cell-TCCTTCAAGGTTTGAC-1', 'cell-AATGCATGTGAGACTC-4', 'cell-TAGGTTGGTTACTTGC-1', 'cell-TTAGTCAAGCAAGGAC-1', 'cell-TTAGTCAAGCATCCAG-4', 'cell-AATTTGGTCTTGATGA-4', 'cell-ACTTAGGGTGTGTGGT-4', 'cell-TTTAAGCCAAACATAG-4', 'cell-ACGTTGTAGGTAGCTT-3', 'cell-GGTAAGGGTGTCCTGC-1', 'cell-TGCAATATCACGTTAA-2', 'cell-CCTAAGTAGGTCTTGG-2', 'cell-ATTGCAGGTACCGTTT-1', 'cell-GAGGCAAGTAATGGCC-4', 'cell-CAGCTATAGCTATTAG-3', 'cell-GAAAGGCTCTCACATT-4', 'cell-CGATCCTTCTGCAACG-4', 'cell-CCTCCTGAGCTTCTCA-4', 'cell-TACAGGTTCATGGCCA-4', 'cell-TTTCATCAGGGCCACT-4', 'cell-CTCTCACAGTTTGAGC-3', 'cell-TGTCCTTCAGCATGTC-2', 'cell-CCATAATCAGTAGGAT-3', 'cell-GGTCTTGAGCTTCTCA-3', 'cell-AACGGTAAGGTGAAAT-3', 'cell-AGCTTTAAGGCTAGAA-4', 'cell-AGCAGGTAGCATTTCT-4', 'cell-ATGCTTAAGCGTGCGT-3', 'cell-ATGCCTGAGTGCACGC-4', 'cell-AGCTAACTCCTTAAGA-4', 'cell-TCGATTAAGGTCTTGG-3', 'cell-CGGTTATAGATAACCC-1', 'cell-TTGCAAGGTCATGCAA-4', 'cell-GTACGTAGTTTCAGGA-4', 'cell-GCTAGTGTCTCAATGA-2', 'cell-CAATCCCTCCTAGTAA-4', 'cell-CGAAGCCTCCGTTAAA-3', 'cell-TCAATCGCAGGCGAGT-1', 'cell-CAACTAATCCACCTGT-4', 'cell-CTTGAATCAGGAATCG-2', 'cell-AAATCCGGTCCTAATC-3', 'cell-GGATGAATCAAAGGCA-3', 'cell-GAGCTAGCATGTTGTG-4', 'cell-TTCCCGCCAAGGGTTG-4', 'cell-CTTTGGGAGCTTTGGG-4', 'cell-GAAGTATAGGAACCGG-4', 'cell-CAGGGTGAGACACCGC-4', 'cell-ATTGAAGCATAAGTCT-1', 'cell-TAGGCTTAGCTGTCAG-3', 'cell-TCATTTGGTCCAAGAC-2', 'cell-TCTAGCACAGTAAAGC-4', 'cell-CCCTCACCACAATTAC-4', 'cell-GGTTAATGTGTTAAAC-3', 'cell-GTTCTCATCTAATCCT-2', 'cell-CAACCCTTCGAAGTGA-3', 'cell-GTCTTTGTCACAGACT-3', 'cell-AAGACATAGTGAGAGC-4', 'cell-CTTACCTCATCCATCT-3', 'cell-GGTACTAGTGAGCAAG-4', 'cell-AAGCAAGTCCGGCTAA-4', 'cell-CCTGGATCAGCAAGGC-4', 'cell-TAGGCTTAGCCTGTTC-1', 'cell-ATCACACAGTTTCCGC-1', 'cell-GGTGCTGGTCCAAGAC-3', 'cell-AGTCAGGCAAGGACCA-3', 'cell-ATACCGGTCTGCAAGT-3', 'cell-CTCCCTGAGAGCCGCT-4', 'cell-GCTTACCTCAAGGACA-3', 'cell-CTACAACAGATGCCTG-4', 'cell-GCACGGTTCATAGCCG-3', 'cell-TGCTTAAAGGTCGATT-4', 'cell-AGTAACACAATTGAAG-3', 'cell-ACACTAATCATCACTT-2', 'cell-GGGTTTCCATGGCCCA-4', 'cell-AGAACCGCAAACGCGA-3', 'cell-AATGCGCGTTGGCGTG-4', 'cell-ATTAGCGGTACTGAAT-4', 'cell-AATTGTGTCATGCAAC-4', 'cell-ATGCGATTCACACAGT-2', 'cell-GAGGTTAAGGCCGGAA-4', 'cell-CGAGCTGGTCTAACAG-4', 'cell-CTTAATGAGCGAGGTG-4', 'cell-ACACCTTGTTAACGGC-3', 'cell-TTATGCGCATAATGTC-4', 'cell-CAAACGCGTGACATGC-2', 'cell-ATAATGGCAATTAGGA-2', 'cell-AACCGGCTCGTTTCCA-1', 'cell-ATGGCCCAGTTGTCCC-4', 'cell-GCCATTACAACTAGGG-4', 'cell-TATGTGATCGCTAAGT-1', 'cell-CGGAATCGTGTAACCA-4', 'cell-TTCCCACAGCAGGTTT-1', 'cell-GCAGCAACACGTAAGG-1', 'cell-GATTGTTCATATAACC-4', 'cell-GTTGCATAGGAGCACG-4', 'cell-GCCTCGACATGGAGGC-4', 'cell-GCGATTTAGTGCTGTG-4', 'cell-AGTGAGTCACTGACCG-4', 'cell-CTCTATGTCCGCCAAA-4', 'cell-GAGCTGCTCTTAAGTG-4', 'cell-TCAAGTATCCTAAGTA-4', 'cell-GGCCTTAAGTGTTGCG-4', 'cell-GCCTGACAGGCCGGAA-4', 'cell-GTCTTTGTCTAGCTTT-1', 'cell-CATAGTCAGGTTAGCT-4', 'cell-CGGAGTCTCGTTATAG-1', 'cell-GTGCAAGCAACCCTAA-4', 'cell-GGGTTTCCAGCATGTC-1', 'cell-TGGCTTTGTTGTAACG-4', 'cell-ACACTAATCCGTTAAA-1', 'cell-GCGATATTCTCCTCAA-3', 'cell-CGGATTAGTCATCAAG-3', 'cell-CCGCTAGCACAGAAAC-2', 'cell-CAGCCTAAGCTTAGCG-4', 'cell-CGGGCTTAGTAGCTTA-4', 'cell-TATCGCGAGATGGACA-4', 'cell-AAATGCCTCATTTGTC-4', 'cell-TTATTGCTCACGCCAA-2', 'cell-AACATTGTCATCCTCA-3', 'cell-CGCTTGCGTTACTTCA-4', 'cell-AGTAACACAAGGACCA-2', 'cell-ACAGTATGTCAAGTAT-1', 'cell-ACGTCCTTCCCTTGCG-1', 'cell-GGATACTTCCGCCTCA-1', 'cell-GGAAGTATCAAATCGC-4', 'cell-TACGCTTGTTAAATGC-2', 'cell-CGTTATCGTACGTTTC-4', 'cell-GTGTGCGGTGTTGCTT-3', 'cell-ATGACGAAGCGATACT-4', 'cell-GACCTCAAGTCACCTC-1', 'cell-AAACCGAAGTAAACCC-1', 'cell-ATAACGACACAACAAA-2', 'cell-GAGCCACTCCGTGACA-3', 'cell-TTAGTCAAGTTGTCTT-2', 'cell-TTGTCAAAGTTGGCCA-4', 'cell-TTGCACACAGCTTAGC-1', 'cell-TTGGCTACATCAGTAT-4', 'cell-GGACAGCCAGGCGATA-3', 'cell-AATCCCTGTTTAAAGC-4', 'cell-AGGTCAAAGCTCAAAC-3', 'cell-TGTATCCGTAATCACG-4', 'cell-TAATCACCAACAGCCT-3', 'cell-AGCGGACCAGGAATCG-2', 'cell-TGCTAACAGTGATTCA-4', 'cell-GTACTAATCTTGTTCG-2', 'cell-CTTGAATCATATTGAC-4', 'cell-TTTGCGACACTAGGTC-4', 'cell-ATGCATTCATTGTCAG-3', 'cell-CGGATAAAGGTTACGT-2', 'cell-CGCTAATAGTAGAGGC-1', 'cell-AATTGTGTCTTAGCCC-4', 'cell-GGACATAAGTCATGCG-1', 'cell-ACCGGTTCAGGTATTT-3', 'cell-ATGCTTAAGGATCACT-4', 'cell-TGGACGGAGTATTGGC-1', 'cell-AACCGCTCATATAACC-4', 'cell-CATTATGAGCCTAATA-4', 'cell-TTAACCAAGCTATGAC-4', 'cell-CGCCAAATCGGTTTGG-3', 'cell-AGCACAGCAGTAATAG-3', 'cell-CAGGACACAGGGAGGA-3', 'cell-ATGAAGCCATTAGCCA-4', 'cell-AGTCGCATCATGCATA-4', 'cell-GTCCGTAAGTCTTGAA-4', 'cell-GGCTATTAGACTTATG-2', 'cell-CTCACACTCAATGTCA-3', 'cell-TCCATCATCTCGCCTG-1', 'cell-AGTGCGGAGCTATGAC-4', 'cell-CGCAAATTCATGCGTG-4', 'cell-GGTGTTGTCGCTATAA-4', 'cell-TCTTCAAGTTACTTCA-4', 'cell-ACGTTGTAGGACGTAA-3', 'cell-GGCATTGTCTCCATAT-2', 'cell-TGAGGGAGTAATGGCC-3', 'cell-AGTTATGTCATTGTTC-4', 'cell-GTGCTTCTCAAAGGCA-4', 'cell-AGGTCATTCGTAACGT-3', 'cell-ACCTAAATCTTGCAGG-1', 'cell-CACGCAATCGTTAGTA-3', 'cell-AAGCGTTTCCTAAGAC-4', 'cell-GAAGTATAGTCATGCG-4', 'cell-GATAATCGTAACGAGG-1', 'cell-TTGCTTTAGTACTGGT-3', 'cell-ATGCTTAAGAACAAGT-4', 'cell-TAGGCTAGTCATCATC-3', 'cell-GCATTGCCACCCACCT-2', 'cell-ATGACTCAGCTCATAA-4', 'cell-ATTCATGAGCTGTAAC-1', 'cell-TGTTCATTCCATAATG-3', 'cell-ATGCGATTCAGGCTAT-4', 'cell-GTAAGCTTCCTTCGTA-3', 'cell-ACGAGTAAGCTATGAC-1', 'cell-TTGATGTCACCTAATG-3', 'cell-AGCTACGTCCTTGTTG-3', 'cell-TCTTCAAGTTTACTTG-4', 'cell-TCACTGACATCCTGAA-1', 'cell-CACCGGTAGCATCCAG-3', 'cell-GGAAGCTAGGCACAGG-1', 'cell-ACTATGTCAATAAGCA-2', 'cell-AATTGGACAGCCAGAA-2', 'cell-GTCAAACTCAGCCAAT-1', 'cell-ATGTTGTCAAGCTTTG-4', 'cell-TCTCAAGCATTCCTCG-1', 'cell-GCATCCTTCGATTTAG-4', 'cell-AAGCATGAGTAAGTGG-4', 'cell-GTAAGGTCAAGGGTTG-3', 'cell-AGCTAACTCATGCATA-3', 'cell-CCTAATAAGTAGCGGG-3', 'cell-GGTCATTAGATGCCTG-4', 'cell-AGAGAAGCAGGATAAC-4', 'cell-ACACTTAAGCTTCCCG-4', 'cell-GACAATACAGAAATTG-1', 'cell-CATAGCTAGGTCAAAG-4', 'cell-CCCGCAACAACTGGGA-1', 'cell-GACTTAGGTCATGCCC-4', 'cell-CTCCGGACATTGCGGT-3', 'cell-CCAAACCCATGGCCTG-2', 'cell-GTCGAGGAGTAGGCGG-2', 'cell-CGCATATAGTCACCAG-3', 'cell-TTGTCCGGTCATCAAG-1', 'cell-TATCCGGAGTGAACGA-4', 'cell-ACTTGTAAGTAGAGGC-2', 'cell-AGGATGTCAAGTTATC-3', 'cell-CAAAGCGCATATTGAC-4', 'cell-CGAGGTGAGTAGCGGG-2', 'cell-GTGTCCAAGTTATCCT-2', 'cell-GAGGTGAGTAACAGGG-2', 'cell-ATCAATCCATTTGCTC-1', 'cell-TTGATGTCATAGCGAG-4', 'cell-AAGTTACGTGTTTGTC-4', 'cell-GATCAGTTCATAGACC-1', 'cell-TGGTTCTGTAATGACT-3', 'cell-TCGACAAGTCCCGAAG-3', 'cell-GCTTAAATCGTGCCTT-2', 'cell-GGAACAATCCTAAGTA-3', 'cell-ATCAGGTTCCGCTAGA-2', 'cell-CGCTCCATCTCACACC-1', 'cell-TGGCCTGCACCTAAGC-4', 'cell-AAGCGCTGTGTTTCAC-4', 'cell-GCAAGTCGTTAGGACC-1', 'cell-CGTGACATCTTCAATC-3', 'cell-GATCGCTCAATCCTGA-4', 'cell-GGATTGCGTAGGATTT-4', 'cell-CCTAAGCCAATGCCTA-3', 'cell-TTAGGCCCAGCAACAG-3', 'cell-GGTTAATGTTTAGCTC-4', 'cell-CTCTCACAGGTGAAAT-4', 'cell-AATGCGCGTCGTAAAT-2', 'cell-TCCATAAAGTTAACCA-4', 'cell-GCAAGCCTCGCCTAAG-4', 'cell-TCCAGGTCAGCAATAA-4', 'cell-CAAGACAAGCTCGCTT-4', 'cell-ATGGTGCGTTTCCTCC-3', 'cell-CCGCAAATCCTTAAGA-3', 'cell-CGCTAACCAGGCTTCG-1', 'cell-GCAGGTTGTGACCTGG-4', 'cell-AGTCTTGCATAAGGAC-3', 'cell-GCTAGCTCATCCCGCT-2', 'cell-GCTCTGTTCGGCCAGT-4', 'cell-CTAAGGTTCAAGTGTC-4', 'cell-TCAAGAACAGCAAGAT-2', 'cell-CAGGTGGAGATAACCC-2', 'cell-TTGCAACAGGGTGAAC-3', 'cell-AAGAATCAGCATTATG-4', 'cell-ACAGTATGTCCCGGAA-3', 'cell-TATCACAAGCGGTTAT-1', 'cell-TGGCCATCAGGCTGTT-3', 'cell-AAGTAGCCAGACAAAC-3', 'cell-TTGGGTTAGACCATAC-1', 'cell-AGGCTAAAGGGCCATC-3', 'cell-GCTCACAAGATTGAGG-4', 'cell-TTGTCCGGTGTCCAGG-2', 'cell-TCATAACCATCAATCG-3', 'cell-GTCATGCCATAAGTCT-2', 'cell-CATTCCTCACCTGGTG-1', 'cell-GAGCCTTCAAGCGAGC-1', 'cell-TACCAAATCCCTCGCA-3', 'cell-TTCATTCAGTGCTGTG-4', 'cell-CTTGCGCGTCACCAAA-4', 'cell-TAATGCATCAGGATGA-1', 'cell-AGTCCTTGTCCGTGAG-3', 'cell-ATTCATGAGGACCGCT-1', 'cell-AAGCTCCCAATGAGGT-4', 'cell-TTTGTCTAGTGAGCAA-1', 'cell-AATGAAGGTAACGAGG-3', 'cell-TAAGGACCATTGTTGG-4', 'cell-TGCAGGCTCATTAGGC-4', 'cell-CTTGTAAAGGTTAGCT-4', 'cell-TACTTCGTCCTAGTAA-4', 'cell-TTGGATTCAGCAGGTA-1', 'cell-TCGTTTCCACACTAAT-4', 'cell-GGCTCACAGAGAAGGG-3', 'cell-TTAAGGTGTGCTTTAC-3', 'cell-AATTTGGTCGTCAAGT-4', 'cell-AGAAACCCACTTCACT-1', 'cell-TAGCAGGCAAAGCTCC-3', 'cell-GTTGGCGGTGATGATT-3', 'cell-ATCCTTAGTGATGATT-4', 'cell-CAGCCAATCTGGTCCT-3', 'cell-GCTCAACCACGAATTT-3', 'cell-CAAGGTTTCGCTTCTA-4', 'cell-TATGGCCCAACACCTA-4', 'cell-GTCCTCAGTTCACCCA-2', 'cell-GGTGAGCCAGATTCAT-4', 'cell-TCTTCAAGTATTGGAT-4', 'cell-CGGGACAAGAGGATAT-2', 'cell-AGTAATCGTCTTTGAC-1', 'cell-TACCCGGCAACTAGAA-4', 'cell-AGACACGCATTAGGCC-2', 'cell-GCTCAACCACTAAGCC-4', 'cell-AGTGAACCAGGGAGGA-3', 'cell-GTTTCAGCAGTATGTT-2', 'cell-TCAAGACTCAATGACC-1', 'cell-TGCTTAAAGTATCGCG-4', 'cell-GCGCTAGGTAACGTGC-3', 'cell-GGTATTGGTTCGCTCA-2', 'cell-CTCCCTGAGTATTGGC-2', 'cell-AATTGCTCACTAAATC-4', 'cell-ATCATCAAGGAGCACG-3', 'cell-GGACAGCCAATGCCTA-4', 'cell-CTGGCTAAGGAAGTAT-2', 'cell-TCTTGTCCATAAGCAA-4', 'cell-ATCCATAAGGCCTAAT-1', 'cell-GTAGCGCTCAAGCGCC-4', 'cell-CGATTGAGTGTCCTGC-4', 'cell-ATGGCTTAGCTTTGTT-2', 'cell-TTTAACGAGCTCAATA-2', 'cell-GCATTGCCAAACCTTG-4', 'cell-AGAACAAGTCATAACG-1', 'cell-ACATCAATCATTGCGG-4', 'cell-CCACTTGGTATTCGCT-4', 'cell-ATAACGACACTAAGAA-4', 'cell-CATCACACATAAGTCT-3', 'cell-CGTTAGTAGGCCATCA-1', 'cell-GCTGTGCAGGTCCTGA-4', 'cell-CCCGTTGTCTTAATGG-4', 'cell-ATCCACCTCCTCGATC-2', 'cell-GAGCTTAGTCTAACAG-4', 'cell-ACCTGGTCAGAAATGC-4', 'cell-TATTTGCTCATTTGCT-2', 'cell-AGGTTGCGTTACATCC-4', 'cell-TTCAGCACAGGAACTG-4', 'cell-GGTGTGACATTGTGGC-3', 'cell-CAAACCGTCGTGCCTT-3', 'cell-CTGGTTACAGAAACGT-4', 'cell-CATAAGCTCCTCAGCT-4', 'cell-TCTAGCACACCTGTAA-4', 'cell-CAAACTGGTGTCCTGC-2', 'cell-TAACCGGTCCTTTACG-3', 'cell-CCGGTAGGTTCATCTA-4', 'cell-GCTGTACCATTAAACC-4', 'cell-GGTTGCTCACAAGCCT-3', 'cell-CTAAAGCTCACAGCGC-1', 'cell-ACTGAAACATAAACCT-2', 'cell-ATGTTCAAGGCGGATG-2', 'cell-AGGTTAACAGTGAACG-4', 'cell-GACTCACCAGGAATCG-2', 'cell-TACGCACCAAGTTATC-3', 'cell-TGAAACTGTCATTACC-4', 'cell-AAGCCTCCACGAACAG-1', 'cell-AATTGACGTCACCAAA-1', 'cell-TTAACTGAGTTTGGTA-1', 'cell-TTCCTTGAGTTAGGCT-2', 'cell-GCTCACAAGTTGGCCA-4', 'cell-GATTAGTGTGATGAGG-2', 'cell-GTCTTTGTCCGGAACC-1', 'cell-TCCTTAGTCTAATTGG-1', 'cell-AGTCAGGCAGTTTACG-3', 'cell-CCACACAAGTTTAACG-3', 'cell-ACCTTCCAGTTAGTTG-2', 'cell-GATCAGTTCTCACTCA-2', 'cell-CTCTATGTCTGTGCAG-4', 'cell-TTATGACCAGTTAAAG-4', 'cell-TTCATTCAGCCTGTTC-1', 'cell-AGGTCAAAGCCTGAGC-3', 'cell-TCAAGCTAGGTGAAAT-4', 'cell-TGCACTTGTTGTTCAC-4', 'cell-CATTCATTCATGGCTG-4', 'cell-TAGCAGGCAAGGTAAC-2', 'cell-TCAGCGATCAGGGCCT-4', 'cell-TGTGTTAAGCCACAAT-4', 'cell-AGTTACATCACAGGAA-4', 'cell-GTTCCCAGTGTTTGAG-3', 'cell-GCAGGATAGACAAGTG-4', 'cell-ATGAAGTAGAAGCTAG-2', 'cell-ACATCATCAATGAAGC-1', 'cell-AATTGGACACACTAAT-2', 'cell-GGTCATTAGTTTCCGC-3', 'cell-CTGTACCTCATTGCGG-2', 'cell-CTATAACCATGGTTAT-4', 'cell-GAGGTTAAGGAGGGTT-3', 'cell-CAGGTCCAGCAACATC-2', 'cell-GAAGCCTGTTATAGCG-4', 'cell-ACGAAGTCAATACTGT-2', 'cell-CCGTTACTCTGTTCAT-4', 'cell-GTAGCTGTCCGGCTAA-3', 'cell-AGCTTCCTCATAATCG-2', 'cell-ACTCGCGCATATAACC-2', 'cell-AGCAAATAGCCGCAAC-2', 'cell-CTTGCATGTAACGTGC-3', 'cell-CGGTTATAGCTGTAAC-2', 'cell-CTTCACTCAAGATTCT-4', 'cell-CTTACCGGTGAAGCCT-2', 'cell-CTTACCGGTAGCAGCT-3', 'cell-CCAAACTAGCCGCAAC-4', 'cell-TCTCAATTCCTTGTTG-2', 'cell-AGGCAATCAATAACCT-3', 'cell-GCCAGGTTCCGGTATG-2', 'cell-GATTGTTCAGCAACAG-3', 'cell-GGGTGAAGTATACTGG-4', 'cell-GATGGCTGTTTCCTCC-3', 'cell-TTATGCGCAGGCTAAG-4', 'cell-GTGATGAAGACTAAGG-4', 'cell-ATGTTGTCAATATGGA-4', 'cell-GTGCAAGCACCATATG-4', 'cell-CTTCAAGCATGTCAGC-2', 'cell-GCCATGATCTAAGGAG-4', 'cell-ACGTCCTTCCTAAGAC-4', 'cell-CCGCTTAGTTAACACG-3', 'cell-ACTAACGGTCATTACC-4', 'cell-ACATTGCAGCATGACT-2', 'cell-CTATGGCCATAAGGAC-3', 'cell-TGTATCGCACATAACT-4', 'cell-AATGAAGGTGACCTGG-4', 'cell-GCAGGCAAGCGAAGTA-4', 'cell-TTAGACTCAGCTAATT-4', 'cell-TCAATCGCAAGTTATC-4', 'cell-AACGCTAGTTGTCCAT-3', 'cell-ATGGCTTAGGATGATG-4', 'cell-TCTGTGACATATAACC-3', 'cell-TATAACCCAATTAGGA-1', 'cell-CCCAATTGTTTATCGC-2', 'cell-CAGCATTAGACAACGA-3', 'cell-AAGCTAGAGCCACATG-4', 'cell-TTACGTTTCTATTGTC-4', 'cell-TGCGATTAGCCGCAAC-4', 'cell-TAGGCTGTCTAATTGG-3', 'cell-ATCCAACAGATTGAGG-3', 'cell-ACATCATCATTAAGTC-3', 'cell-TCTGTGACAATTAGGA-3', 'cell-TGCTGGATCCTTGTTG-1', 'cell-AAGACAAGTCCCGGAA-4', 'cell-GTGCACGGTCACAAAT-3', 'cell-CCTTCAGGTCATCCTG-3', 'cell-GCGCAATGTTGCGGAT-3', 'cell-TTTGTTGGTGTAACCA-3', 'cell-CTGACATAGCTCAAAC-3', 'cell-AGCCTCCGTGCGCATG-4', 'cell-CCGTTATGTTATCGAG-4', 'cell-GTTACTCGTCACCAAA-3', 'cell-TGTAATGTCGCTAAGT-2', 'cell-CCAACCAAGTCGCTAG-4', 'cell-CTAACCTGTCAACAAT-4', 'cell-TAAGCCAGTTAACAGT-4', 'cell-TATAACCCAGCAACAG-4', 'cell-AACATCATCGTTAAGC-3', 'cell-GAGCTTGTCACGCCAA-1', 'cell-CGAGTCGGTTCCGGCT-4', 'cell-AATACCGGTGGGAACA-3', 'cell-GAGGTGAGTGTGAGAG-4', 'cell-TTTAAGGTCTTAGCCC-4', 'cell-ATCCAACAGGTGCTGC-4', 'cell-TCGTTATTCCTTGCAC-1', 'cell-TCATGTTTCCTCAGCT-3', 'cell-TGGACTAGTTCCGGCT-4', 'cell-GCCCATAAGACAGGCG-4', 'cell-GTTTCTAGTTAGCCAA-2', 'cell-TAGCGGCTCTAATCTC-2', 'cell-CTGGTCAAGCAACATC-4', 'cell-CTCATTTAGGTCGATT-3', 'cell-TTGTGCGAGCTGTACG-2', 'cell-TAATGCATCAGGCTAT-4', 'cell-ATGGACAAGAGAGCCG-3', 'cell-CCTAATCGTCACAGCG-2', 'cell-ACAGGATCACTGACCG-4', 'cell-CTTAAGATCGCCTGTT-3', 'cell-AAGTAGCCACAACAAA-3', 'cell-CATGGATTCTGTGCAG-4', 'cell-CTGCAATAGGCATTAC-3', 'cell-TGGCCTGCAAACTCAT-3', 'cell-TTCCCGCCACCCTCAC-2', 'cell-TTTAGCAAGTTTGTCT-2', 'cell-GCGCCTTGTAACAGGG-1', 'cell-GGCTATTAGGCATTGT-1', 'cell-TACATCAAGGCTAATC-4', 'cell-GAAGGCTAGCCAAATC-4', 'cell-CCGTGCTGTCCTTTAA-4', 'cell-CTATGTTTCAAGGACA-2', 'cell-CAACCCGCATCCATCT-4', 'cell-CGCTGTGCACCTGCTC-4', 'cell-ACGCTTGAGAGCCGCT-4', 'cell-TCATGCCTCATGGTGT-4', 'cell-TTATGCGCATCCAGGT-3', 'cell-TCATCCATCATTAGGC-2', 'cell-GTAGCGCTCGCAGGCT-2', 'cell-CCAGCCTGTAGGTGTC-2', 'cell-TGTGGCCAGTCATGCG-4', 'cell-GAGCTGCTCCCTGTTA-3', 'cell-GTTTAGCAGTTTGCGG-4', 'cell-GTCGAGGAGTTTAACG-4', 'cell-CCGTTACTCACTCGCT-4', 'cell-CAGCTCAAGCATCCAG-3', 'cell-TCCTCACAGGAGCACG-3', 'cell-CGATCCTTCTCAATGA-4', 'cell-AGTAACCTCCCGAACA-3', 'cell-GGCCATCAGGACTTAC-3', 'cell-CATAGGTTCTAAATCG-4', 'cell-ACGTACCCAGTGAACG-4', 'cell-CCATCACTCTCACAAA-3', 'cell-CGGATAAAGGGTCTAT-4', 'cell-TATATCCTCCGGCTAA-4', 'cell-CGGCTCACACAATACT-1', 'cell-CTATAACCAGGCCATT-4', 'cell-ACCCGCTGTCACACCC-4', 'cell-ATCGGCCAGGTGAAGC-3', 'cell-CTGAAACTCATTTGCT-2', 'cell-ACAGGATCAAAGCGGC-3', 'cell-CTAGGCGGTTCAAGAT-4', 'cell-AATGCGCGTTAGCAGC-4', 'cell-ACAGGATCAGTTTCTC-4', 'cell-TGGGCATGTTGTTCAC-1', 'cell-AGCCAGTGTGCTTAGA-1', 'cell-CATTGTGCAGGAACCA-1', 'cell-GATCGCTCATTAGGTT-1', 'cell-GGATACTTCCCGCAAA-2', 'cell-ACCTTCATCATTATGG-4', 'cell-AGGTCATTCCTGGTCT-2', 'cell-GGAACGGTCGATTTGA-4', 'cell-CGCATGATCCTTGCAC-4', 'cell-CTACCTCAGGCGTAAA-4', 'cell-GGATACTTCCCAGTAG-4', 'cell-GTACTAGGTTCCATTA-4', 'cell-GCAGGTTGTCAACAAT-4', 'cell-GCCTCGACACTAAATC-4', 'cell-TACCAGGTCAAGCGCC-4', 'cell-TAGCGGCTCGTAACGT-2', 'cell-GTAGGTGCAGCCTAAC-1', 'cell-CGTCATTGTTCAAGCA-1', 'cell-TATTTGCTCTAAGTGC-2', 'cell-GGAGTGAGTCATCCTG-4', 'cell-TCCTCAATCTTCAATC-1', 'cell-GCCTGAGGTTTGCGAA-1', 'cell-GGTAAGGGTGAAGCCT-1', 'cell-ACCAAGTTCTAAGTCA-2', 'cell-TCTAATCTCCTTGCAC-3', 'cell-TATTCGTTCTTGTCTG-2', 'cell-CATAATCCATGTTTGG-4', 'cell-GTGGCTTCAGGTTTGC-4', 'cell-CGTGTGTCAAGGACCA-1', 'cell-CATTGTAAGTAGCGGG-3', 'cell-CCATAAGGTGGTTATG-4', 'cell-CGATTTGCACTATGGC-1', 'cell-GATCGCTCAGATAGAC-1', 'cell-ACCCAACCACTAAGAA-4', 'cell-GGTTGCATCCGCCAAA-3', 'cell-CCTAAAGGTTCTTTAG-1', 'cell-TGGTCATAGTCACCAG-2', 'cell-AATGTCCAGTAAGAAC-4', 'cell-TAATGGTGTTGGCCGA-2', 'cell-GGCAATCGTGTCCAAA-4', 'cell-GGACTAAAGGCTGTGC-3', 'cell-TTAAGTGTCATTAGTG-2', 'cell-ACACTTGCACCTAATG-3', 'cell-ACTCAGTAGTTATCCT-3', 'cell-CGTCCTAGTTGCACAA-4', 'cell-AATCCTAAGTACCGCA-4', 'cell-AATCCATCAATTAAGG-4', 'cell-GAAGTGATCCAATAGC-1', 'cell-AGGTACGCAGTCTATG-1', 'cell-TGAAACTGTTGAGCCG-3', 'cell-TGAGGGAGTGTTGTAG-2', 'cell-CAAAGCGCACAGGAAT-4', 'cell-AGGCAATCAATATAGG-4', 'cell-GCGCTAGGTAGGATTT-3', 'cell-GGTTCTTGTTTGCGCC-4', 'cell-ACACTAGGTGCTTAGA-4', 'cell-TTTAAGGTCAATGTGC-2', 'cell-GTTCTCATCCCGTTTA-4', 'cell-AAGGCCCTCAAGCTTA-2', 'cell-TGTCCTGGTAAGGTCC-3', 'cell-GTTGCGGGTCATGCCC-4', 'cell-AATTAGCGTCTTGCAT-1', 'cell-GCGCAAACAGGCGATA-4', 'cell-GTACTGGTCTGTTCAT-4', 'cell-CGTTGCAAGCTCCTTA-1', 'cell-GAGGCAAGTTTAAAGC-3', 'cell-TTCAACCGTGCATCGG-2', 'cell-GGCTAGTGTTCACCCA-1', 'cell-GCCCAAATCAATTGGC-3', 'cell-ATGCTTAAGATAACCC-4', 'cell-CTAGATTCACAATTAC-4', 'cell-CACTTAAAGAACAAGT-4', 'cell-GATTGTTCACGTAAGG-4', 'cell-TGTGGAGCAGGCTTCG-4', 'cell-CGGCTCACAATTAGGA-3', 'cell-AGAGGAACAGGTCCTG-4', 'cell-TATTCGTTCAGTGAAG-4', 'cell-CGCTTCTAGGTCCGTA-4', 'cell-CGTTATCGTCATGCCC-3', 'cell-TTGTCCATCAGCATTA-2', 'cell-CTAATCCGTTGCGCGA-2', 'cell-TAGCATATCTTGAGCG-3', 'cell-GACTTACAGTCAATTG-1', 'cell-GTTTCCTCATAACGGG-3', 'cell-CTGCTACTCCCTCGCA-3', 'cell-GGCCTAATCCTCACTA-3', 'cell-AATAGCTGTTGGTTAG-2', 'cell-ACGTTGTAGTACCGCA-4', 'cell-CGTGCACAGCATTTCT-2', 'cell-TCTAGCGAGGCTGGCT-4', 'cell-TTATCCTAGAGGAGGA-4', 'cell-ACTTTGTTCCTGGTGA-4', 'cell-CAAACCGTCCTTGCAC-3', 'cell-TTTGACTTCTAGCGAT-4', 'cell-CTTTGGTGTACTTCAC-4', 'cell-GTAAAGCCACTCAACA-3', 'cell-CAGGCTATCCGTAAAC-3', 'cell-TGATCGAGTAGGATCC-2', 'cell-CAGGCTATCCTCATCA-4', 'cell-TAACCTAAGTCACTAA-4', 'cell-ACGCTTGAGTTATCCT-2', 'cell-TGAGGTGCATCGTTCT-2', 'cell-CTACTAAAGTTGTCCC-1', 'cell-ACGCCTAAGCAAACCT-3', 'cell-ACCTTCATCGTTTCCA-2', 'cell-CGTCAATAGGACTTAC-2', 'cell-GATCGATTCTGTGAGT-2', 'cell-TTCAGGTAGGATCACT-4', 'cell-GGCAAGCCAGTGAACG-3', 'cell-CATCATAAGGGTGAAC-4', 'cell-TGGTCCTTCAGGCCTA-3', 'cell-ATTACGTCACTGGCCA-4', 'cell-GTAAGGTCAATTTGGT-2', 'cell-TGCTCAACAGGCTTCG-4', 'cell-ATGACAACAGCCTAAC-3', 'cell-GCTAGCGGTTAACGAT-2', 'cell-TCGGTTCTCCGCCTCA-4', 'cell-CCCAGTTTCGGTTTGG-2', 'cell-TTTGGCTGTGCTGTAA-3', 'cell-ATGACTCAGAATGACG-4', 'cell-GATCGAGCAGCAAGGC-2', 'cell-GGCTGTCAGGAACCGG-3', 'cell-CCAGTTTGTTGTTCAC-2', 'cell-CATAACGGTTAATGCG-4', 'cell-CAATGAACAGCTTAGC-2', 'cell-TCGTTAAAGGCCATCA-4', 'cell-ATTGACTCACATTAAC-4', 'cell-TGACCTTGTTGCGCGA-3', 'cell-GATTGTTCAGCTTAAT-3', 'cell-CACTTTGTCATGGTTA-3', 'cell-GTAGTTTCAGGCGAGT-1', 'cell-AAGCATGAGCTGTACG-1', 'cell-AGGACGTAGTCATCCC-3', 'cell-GTTACAGGTAAGCTTG-4', 'cell-GTGCACGGTAAAGCGG-4', 'cell-TCCTTAGTCTTGATGA-4', 'cell-ACTTATCTCACAGGAA-1', 'cell-CCCAAATAGGAGGGTT-3', 'cell-CGGTTTCTCCCTGACT-4', 'cell-TAAGCCAGTAATAGCT-4', 'cell-GTTCCTTCAGGTCCTG-2', 'cell-AGAGAGGAGTAAACCC-4', 'cell-AAGTAGCCATTGTGTG-3', 'cell-TATGACATCTTGTCCA-1', 'cell-CACCGGTAGGCTGTCA-1', 'cell-GTTCTTGTCCCGCATT-3', 'cell-TTAACCAAGCCTTAAA-4', 'cell-GCATGAGCATCAGCAC-4', 'cell-ACCTTGTGTTCCGCAC-4', 'cell-CTGTTCATCCTAATTC-3', 'cell-AAGTTTGTCGGCCAGT-4', 'cell-CTTCTAAGTAGCTGGT-3', 'cell-ACGCAAGCATAACGGG-3', 'cell-GCTTTATTCCTCATGC-1', 'cell-ACGCAAGCAAGATTCT-4', 'cell-GTTACTAAGCCTCTCG-3', 'cell-GCAATAGAGAGGAGGA-4', 'cell-AGCAAGGGTTAGCGTA-2', 'cell-CTTCAAGCAGGAACCA-1', 'cell-CATTATCTCCTTGCGT-4', 'cell-CTAGTAATCGCACAAT-4', 'cell-AGCAAATAGGCCAATT-4', 'cell-CTGATCACAATACTGT-4', 'cell-GGAACCTGTTAAATGC-2', 'cell-CATCCTGGTCACTCGC-4', 'cell-GGTTTAATCGCTTGCT-3', 'cell-CTTTAGTTCACTAGGT-2', 'cell-GCATGAGCAGCCTGCA-3', 'cell-GTGGCTTCAATCCCTT-2', 'cell-CCTAAGCCAAACCTTG-1', 'cell-TCCAGGTCAACCGCCA-3', 'cell-AACTCACAGCATGAAG-1', 'cell-CTAATGTCAATTTGGT-4', 'cell-CCTGCTCCACGTAAGG-4', 'cell-ATTTAGGTCCCATAGG-3', 'cell-AGAACCGCACAGAACG-4', 'cell-GAAGGATGTTGTAACG-2', 'cell-GGATTGCGTCAAGTGC-2', 'cell-CTACGAAGTGTCCTGC-3', 'cell-ACGGTTAGTTGGCCGA-3', 'cell-CATCGCTTCATTATGG-4', 'cell-TACGGTTAGTCAATTG-4', 'cell-TTTCTCACATAAGCAA-4', 'cell-CCTATTGTCTAATTGG-4', 'cell-GTTGCGGGTGATGAAA-2', 'cell-GAACCAAAGGACCTCA-1', 'cell-GAGCTGCTCAATCTCT-3', 'cell-AGTCCTTGTCGTAAAT-3', 'cell-AGTAGCTTCGGGATTT-4', 'cell-CTGTGTGAGACAAAGT-4', 'cell-CAATATGTCACTTCAT-3', 'cell-ATACCGGTCTTTGACT-2', 'cell-CATAAGCTCGCAGGCT-1', 'cell-GGTCATTAGCCAGTAT-3', 'cell-CGTTAACAGTTGTCAA-4', 'cell-CGCCACACACAGAAAC-4', 'cell-ATGGACAAGTTAGTTG-3', 'cell-GCCTGAGGTAGACAAA-3', 'cell-TCCTCACAGTCATTAG-3', 'cell-GTTGGCCAGCTGCACA-3', 'cell-CTATGAGGTAACCTAG-4', 'cell-AACGGTAAGGCTATGT-1', 'cell-CCAGGATGTAATGACT-2', 'cell-CGAAGTAAGTTATCTC-3', 'cell-TTCGCAACAAGGCCAA-3', 'cell-CTCACAACAGTTTCTC-4', 'cell-GCAGGCAAGCTGTACG-4', 'cell-CCTTATGTCTTAGTCT-2', 'cell-CAGGCTATCCTCAGCT-4', 'cell-AGGTGAGGTACCGAAC-4', 'cell-GATCGCTCAAGCCACT-3', 'cell-CCTGAATAGTAAGTGG-4', 'cell-GGTAACTTCCGCACAA-4', 'cell-TTGGCGGGTTGGCGTG-3', 'cell-AGTAATCGTTTAACCC-3', 'cell-GCAAACCGTTGGTTAG-4', 'cell-AGTAAACAGAGCCGCT-3', 'cell-GTGAATCTCCTTTACG-3', 'cell-ATGAGCCGTTACTTGC-4', 'cell-CGAGGAAGTTGGCCGA-4', 'cell-CCGATGCAGTAACTCA-2', 'cell-GCTGCAATCGCTATGG-3', 'cell-CTTCATCCATCATGGC-1', 'cell-CTTGTAAAGTTTGTCT-2', 'cell-AGTAATCGTGAGCAAG-3', 'cell-GAGAGGCGTATTTGGG-1', 'cell-AGGTCTTAGACTTATG-3', 'cell-ATGTCCACAGTCTAAT-4', 'cell-TATGGGCGTCCTCCAA-3', 'cell-TCAGGTTAGTGTGATC-2', 'cell-AGGTTTGGTAATTAGC-1', 'cell-CCTGGATCACTAAGAA-4', 'cell-TACGCTTGTGCGCGTA-3', 'cell-GCCCGTTGTGGAGCAA-4', 'cell-TTCCCGCCAATGCCTA-4', 'cell-GCGCTTGCATAAGCAA-3', 'cell-AAGCGCTGTCATGCCC-3', 'cell-GGAACCACACATTGCA-4', 'cell-TTAGTCAAGAACCTAC-3', 'cell-ACCAGGGAGTAATCCA-4', 'cell-GCGTGCTAGGTCTTGG-3', 'cell-TTGGTGAGTCAGGCAT-1', 'cell-TAGCTAATCGCCTAAG-2', 'cell-GTATTGCAGCGCATTG-3', 'cell-GTCATCACAGGCTACT-4', 'cell-CAAGTTATCATTATGG-2', 'cell-CGAAGCCTCATTGTCT-3', 'cell-AAGCATGAGTAAGTCC-1', 'cell-CCTTCAATCTTGAGCG-4', 'cell-TCTTCAAGTGACCTGG-2', 'cell-CCAGGATGTATTCGCT-3', 'cell-ACCGGCTAGGGTTATC-3', 'cell-ACGAAGTCAGACAAAC-1', 'cell-TGGTGCATCATGACCG-3', 'cell-GCCAGGTTCCCGCCTA-1', 'cell-CAGCTAAGTAGCCATA-3', 'cell-TCGTCAACACCTAAGC-1', 'cell-TTGCTTTAGTAACTCA-4', 'cell-TGGAACAAGCCGCAAC-1', 'cell-TTAGCGGTCATTTGTC-3', 'cell-TTGTGAGGTGGATGTC-4', 'cell-AGTCGCATCGCTATAA-3', 'cell-GTCTTGCTCGCATTAA-1', 'cell-ACCTTCCAGTAGCTTA-1', 'cell-CGCTTCTAGGCAACAA-1', 'cell-CACCGGTAGGGTGGAT-3', 'cell-GCGCTTAAGTAGCTTA-3', 'cell-TCGGTAAGTAACGAGG-4', 'cell-GTGCTTACAATCCCTT-3', 'cell-ATTACTGAGCAGGTGG-4', 'cell-TGTTGGCCAAACTCAT-4', 'cell-GGACATAAGCAATAGG-4', 'cell-ACTTGCACATTAGCCA-1', 'cell-TGTTATGAGGTAACGA-3', 'cell-GGATGTAAGGGATGAC-3', 'cell-GGTCCTGCAAACCTAT-4', 'cell-TGCTTGCTCGCTAAGT-1', 'cell-TTGCAATCAATAGCCC-1', 'cell-GTCAAACTCCTAACGG-4', 'cell-ATGTTGTCACAGAACG-1', 'cell-AGCACAGCAAGGCCAA-4', 'cell-ACTCGCGCATCACAGC-3', 'cell-GTTACGTAGTAACGAG-3', 'cell-GACCTAAGTGTTGCTT-3', 'cell-TTTGTTGGTACCTTAC-1', 'cell-CTATAACCAGCAGGTA-2', 'cell-TCCCTGGTCCTCATGC-2', 'cell-TTGCAAGGTCTCACTG-4', 'cell-GTGCAAGCACCTATAG-3', 'cell-GGCCTTAAGTCACCAG-4', 'cell-GGTCCTGCATCAGTAT-4', 'cell-AACAGATAGGCCAATT-3', 'cell-TTCGTGCTCGAGGTGG-3', 'cell-ATTCCTCCAAAGGCCA-3', 'cell-GGCCAACTCAAAGGCA-3', 'cell-GTTCTCATCATTTGTC-3', 'cell-GCCTTAACAGAAATGC-3', 'cell-TCAAGGAAGAAGCTAG-2', 'cell-ACAGTATGTGAGCGAA-4', 'cell-TGAGGAGGTAAATTGC-2', 'cell-TAGCTTAAGACTCGCA-4', 'cell-GTCCAGGGTAATCGTG-4', 'cell-TGAGCTTAGGCATGAA-3', 'cell-CTTATTGGTGATTACG-4', 'cell-TAGCAGGCAGCGCTTG-4', 'cell-AGCCGGTTCATCCTCA-1', 'cell-GATCAGGCAGATAGAC-4', 'cell-GCCTGAGGTCGCAATA-4', 'cell-GTGTCCAAGCTAATCA-4', 'cell-AGAGGATGTTTGCAGA-4', 'cell-ATGGCCCAGGAGCAAC-4', 'cell-ATTGACTCAGACAAAC-4', 'cell-ACCTGGATCCTTGCAC-4', 'cell-GCTAGCCAGGCATTGT-3', 'cell-ACTCCTCAGCTACTGG-4', 'cell-ACATCATCAAGGCCAA-4', 'cell-AAGTGAAGTTACTTCA-4', 'cell-AGGCAATCATAAGCAA-2', 'cell-CACTTTGTCAATAGCC-4', 'cell-ACTAACCAGTTGGGCC-1', 'cell-TAGTAAGCAAGGTCCT-1', 'cell-GACCTGATCTAATCAG-3', 'cell-AATTTGGTCATTGTTC-3', 'cell-GGGTTTGTCCCTGATC-4', 'cell-AGCGGATAGGCGCACT-4', 'cell-AGAAACTAGAACCTGT-4', 'cell-AGCCGGTTCTGGTCCT-2', 'cell-CGTATTGCACTGGCCA-2', 'cell-GACCGTTCAGAGAGCC-2', 'cell-GAGCAAATCTAACCTT-4', 'cell-CCCTGGACAATACTGT-4', 'cell-TGTTCCTCATTCCTCG-4', 'cell-AAGTCTATCGTGCTTC-3', 'cell-ACTCACTGTGATGAAA-2', 'cell-TTTCTTGCATAATCGT-3', 'cell-AGAAGGTGTTCGGTAA-4', 'cell-CTGTACCTCATGCTTT-1', 'cell-CTTCACTCATCTTGAG-1', 'cell-TCTATGTTCCTCGATC-3', 'cell-CAGCTATAGACAACAG-4', 'cell-GATCGATTCGTGCTTC-4', 'cell-TACTTCGTCTCAATTC-4', 'cell-GCTTTCATCGTTTCGC-3', 'cell-CTGGTCAAGGACCTGC-2', 'cell-CATGCGCAGTTTGCGG-3', 'cell-TGAAGGATCTGGTCCT-1', 'cell-TAAGGACCAACCGCCA-3', 'cell-TATGAAGCAAGGTAAC-3', 'cell-ACACTTGCATGCATAT-3', 'cell-GTTGGCCAGGAGTCGG-4', 'cell-TACTCGCTCATCCTCA-1', 'cell-GCCTCGACAGGTTAAA-4', 'cell-CCTTGCGTCGCTAAGT-4', 'cell-GTATGTTCAGTCTATG-3', 'cell-CCGACAGGTAACTACG-2', 'cell-GGTCAAGCACATTGCA-4', 'cell-GTTACAGGTAGCAGCT-2', 'cell-AGTTTGCAGCACTAGT-3', 'cell-GGAATCTTCGTTACTT-3', 'cell-TCAGGTTAGGATCACT-4', 'cell-TTCACTGTCCCTCAAC-4', 'cell-GCTCTGGCACCTGGTG-3', 'cell-TTAAGTGTCATCCTCA-4', 'cell-ATCAGGTTCCTTGCAC-3', 'cell-CGTGCACAGAACAAGT-3', 'cell-CTTTAGTTCGCTCACT-3', 'cell-ATCAAGACAGAAATTG-2', 'cell-ATGAATGCAGCATGTC-1', 'cell-TCCAGCAAGTTCCTGC-4', 'cell-TATAGCTCAAAGGCCA-4', 'cell-CAACAATGTCAACAAT-1', 'cell-CGCTTGCGTTTCCGGC-4', 'cell-CTACTAAAGGAAGCTA-3', 'cell-GGTACTTAGGAACCGG-3', 'cell-GAAGGATGTATTGCAG-4', 'cell-GCTGTGCAGTAAGTCC-3', 'cell-TTTAGGATCGAGCTAT-4', 'cell-CGGGTATGTTTGGGTA-4', 'cell-TCGTTTCCAGCACCAT-2', 'cell-GTTACTAAGAGAGCCG-4', 'cell-CGGTTTCTCTGGCATG-4', 'cell-ACAACATGTATCTGGA-4', 'cell-CCTGATGAGCAAGATG-3', 'cell-ATGAATGCACAGCCAT-3', 'cell-TAAGGCTTCGAAGTGA-4', 'cell-GGAGCAAGTGATCAGC-2', 'cell-TTTAGGATCCGCAAAT-3', 'cell-GATGGCTGTGTTTGAG-1', 'cell-CCTGAGTCAGTAATAG-4', 'cell-CTGATCACAAACATAG-4', 'cell-CGTGGTTCACCAGGTT-3', 'cell-ACCTCACTCCTCACAC-1', 'cell-ACTTACAAGGGTTAGA-2', 'cell-TGAGGAGGTACCGAAC-1', 'cell-GACTATTCACCTGCCT-2', 'cell-AAGCTAGAGGCCTAAT-4', 'cell-GGTAGGAGTGTAACCA-4', 'cell-TCATGAGGTAGCCATA-1', 'cell-GCGAAGCCAGCCGCTA-1', 'cell-GGAGTCTGTACTTAGG-3', 'cell-GCTTTACGTGCTGTAA-1', 'cell-TTGGGCCAGTGCTGTG-4', 'cell-GCATCCTTCCCTCAGT-3', 'cell-CTCCCTGAGTTAACCA-4', 'cell-ACAGCCGGTTGGCCGA-3', 'cell-CCTTAGTGTGGACCTG-2', 'cell-CGTCAATAGCATGACT-1', 'cell-CCGCAAATCGTTAGTA-1', 'cell-TTTCCTGAGGGACTAA-4', 'cell-CTTAAGATCAAACCTA-2', 'cell-GTTCACCTCGGCTATG-4', 'cell-GCAAGCCTCATTGTCT-4', 'cell-GCTTAGTAGGAACCAA-4', 'cell-GCGCTTGCAGTCTAGC-1', 'cell-TCCATCATCAGAAACG-4', 'cell-CGTGTTACAGGAAGCC-3', 'cell-TTGGATTCACCCTCAC-2', 'cell-CGCAAATTCGTTTCGC-3', 'cell-CGGTTTGAGTCATGCG-4', 'cell-ATTATCCTCGATTCTT-2', 'cell-GCAAGTCGTGATTACG-2', 'cell-GCAGCCAGTTCACTGT-3', 'cell-GCTTACCTCGAGGAAC-3', 'cell-ACGAATCTCCTCACAC-3', 'cell-AATTGCTCAGAGAGCC-3', 'cell-GCCTACTTCCCTGGTT-2', 'cell-GGTTGACGTATCTGGA-4', 'cell-TGTGCAAGTGGTTAGC-1', 'cell-GAGGTTAAGACAAGTG-1', 'cell-TCTAGCGAGTAAGTCC-4', 'cell-GTCCAAGTCGGTTCCT-3', 'cell-GCTTAACAGCACAGAA-4', 'cell-ATAACGACAGTAATAG-1', 'cell-AGTTGCAGTGGGAACA-3', 'cell-GTTTGTAAGGAACACA-3', 'cell-GTGCTCCGTCATTGAG-4', 'cell-ATCACCCTCATGACCG-4', 'cell-TACTTGTTCATGTTTC-4', 'cell-AGCTACGTCACCATTT-4', 'cell-AACATAGCAGAGGCTA-3', 'cell-CTGTTAAAGGTTACGT-1', 'cell-CGCGATTCATGAGCAG-3', 'cell-GGTCTTTGTTGCACGG-4', 'cell-GTACTTAAGGTAGCTT-4', 'cell-GAACACAAGCTGTAAC-2', 'cell-TAACAAGCATCGCTTT-1', 'cell-GGCTCACAGATAACCC-4', 'cell-CGCATGATCTGGCAAT-4', 'cell-CGATATTCACAGGATG-3', 'cell-CGTTTCTCAATTTAGC-4', 'cell-TCCGCCATCACTTTAC-4', 'cell-CCCTCACCAATCATGT-4', 'cell-AATTTGCCACAAAGAC-4', 'cell-TGAACAGAGCACTTGG-1', 'cell-GGTTGCTCAGTATGTT-4', 'cell-GCACCTAAGCGATAGA-4', 'cell-CTGCTATGTTGGCCGA-4', 'cell-CATGCGGGTCCGCTGT-3', 'cell-ACCAAACTCGTGCTTC-2', 'cell-GCAGGATAGCAACATC-2', 'cell-AGCGGACCAATTTGGT-2', 'cell-TTCATTCAGGAGGTTA-3', 'cell-TGAAACTGTTGGTGAC-2', 'cell-TCAGCCTTCCAACTGG-1', 'cell-CGACCTGCAGAGGGAG-1', 'cell-TTGGCTTGTTAGACCA-4', 'cell-ACCCAGGGTGTTTGTC-4', 'cell-GAGGGAGCAGGAATCG-1', 'cell-TAATCCGCAGAAATGC-3', 'cell-GTGCTCCGTAAGCTCA-2', 'cell-GCGGTTGGTAGTAAGA-1', 'cell-TACGGATTCGGTCAGC-2', 'cell-CGTGACATCTTGTTCG-4', 'cell-ATCCGTGAGGCGCTTA-4', 'cell-GGTCGGTTCCCAGTAG-3', 'cell-CACTTAAAGCGGTTAT-4', 'cell-TTCCTCAAGGTTACGT-4', 'cell-TCCATGCTCAGCATTA-3', 'cell-GAAGCTAAGCTGTACG-4', 'cell-CAAAGCGCAAGGTCCT-3', 'cell-GTTTGTAAGCTAAAGG-4', 'cell-TGAGCCGGTTCGCTTG-4', 'cell-CCGTGCTGTGCGCATG-4', 'cell-GCATCCTTCTTGCAAA-3', 'cell-AAGGATGTCACTCAAA-3', 'cell-TCGATTAAGTAGCGCC-4', 'cell-ATGAATGCACCAAAGG-3', 'cell-ATGACGAAGCCTCTCG-4', 'cell-AGAACCGCATATTGAC-1', 'cell-TGAGGAGGTTATCGAG-4', 'cell-TTCCTTGAGTATTGGC-2', 'cell-GTGCAAGCAAACCTTG-2', 'cell-GCCTACTTCGATTCTT-4', 'cell-CCTTATGTCCGCACAA-4', 'cell-GGTTATGGTGTTGCAA-3', 'cell-CCGCCAACACCTGTAA-4', 'cell-CTCATCATCCTTAGGG-4', 'cell-GTGCTTCTCGCTAGCA-3', 'cell-TACTGACAGATGGACA-4', 'cell-TGTGGAGCAATAGCCC-2', 'cell-AGGACGTAGCCTGGTA-4', 'cell-ACCTTCATCGTTATAG-1', 'cell-GGGTTTGTCCGCATGA-3', 'cell-GGTTATATCCTACCTA-3', 'cell-AGAGGATGTGTTTGCT-2', 'cell-GCGATTTAGTTATTCC-4', 'cell-AGCTATATCTTGCTAT-3', 'cell-GGTTATATCTTGAGGT-1', 'cell-GATCGAGCATTGCAGC-3', 'cell-CACATACAGTATTGCA-4', 'cell-CGCACCACAAGCCAGA-4', 'cell-GTAAGGTCAGGCGATA-3', 'cell-GAAGTATAGCTTAGTA-4', 'cell-CAATCCCTCATGCTAA-4', 'cell-TCTAAGGGTGCTGTAA-3', 'cell-GTTCTTGTCACTAATG-4', 'cell-GTCGGTTCAAGGGTTG-4', 'cell-ATGGCTGTCGCGCTAA-2', 'cell-CTCTGTTCAGCACCAT-4', 'cell-CCAGGAACAACAGGTG-3', 'cell-GAGTGAGGTCCGCTGT-3', 'cell-CAACAGGCACAGCCTG-3', 'cell-CATCGCTTCGAGCAAA-4', 'cell-CTAACCTGTAACGGGA-4', 'cell-CCCGCAACACGTAAGG-4', 'cell-GTCATCCTCGCTAGCA-4', 'cell-TACTTGTTCCTTGCAC-4', 'cell-ATAGGTACATTGTGAT-4', 'cell-TAGCCTCTCAAATCGC-1', 'cell-GAGCGGTCATTATGCG-4', 'cell-GGTACTTAGGTTACGT-2', 'cell-TAGTGAGAGGTTTGAC-4', 'cell-TCGTTTCCATCTTGAG-4', 'cell-ACCACATAGCACTAAC-4', 'cell-CGGCAATGTGCATTAG-1', 'cell-CCTAAAGGTTACAACG-3', 'cell-GCCCGTTGTCCCGAAG-2', 'cell-TTTGCGGAGCCTGATG-4', 'cell-AACTACTCACCTGGTG-1', 'cell-GCGGATACAACAGGAT-2', 'cell-GATAAAGGTAACAGGG-3', 'cell-ATCAGGTTCGGCTATG-4', 'cell-CGTTAACAGTTCCCAC-3', 'cell-ACTTGCACAGATAGAC-3', 'cell-ACGCCTAAGTCTCACC-2', 'cell-AAGGCCCTCTAATCTC-1', 'cell-TGATTGCAGCTCCTTA-3', 'cell-GCGCGATTCACAAGCT-3', 'cell-AGTTGCGTCGATATTG-1', 'cell-ACCAAGTTCCACCCTG-3', 'cell-CTCCCTGAGGAGGACT-3', 'cell-CGCACCACAATACTGT-3', 'cell-ACGTCCAAGGAACGGT-2', 'cell-TTAGCGGTCACTAAGC-3', 'cell-GCTGGATGTGATGGCT-1', 'cell-TAGTCAATCACAGCCA-3', 'cell-TCTCAAGCAAGGTCGA-4', 'cell-TTGGATATCGTCAAGT-3', 'cell-CTGCTACTCATTGACA-4', 'cell-TGGACGGAGGTTAGCT-3', 'cell-GAGGAGGCAAACTAAG-3', 'cell-ACCTACCTCACGCCAA-3', 'cell-CCTGTTGGTTTATGGG-1', 'cell-ATCCGTGAGGTTACGT-1', 'cell-TAGCCTGAGCAGGTGG-1', 'cell-TTTCTTGCAGTTATCG-2', 'cell-GCGTGCTAGCGGGCAA-1', 'cell-TTAGACTCATGAGCAG-1', 'cell-ATAGATGCATTGTCCT-4', 'cell-ATTAGGTGTTTACTTG-4', 'cell-TGACTTAAGAATGACG-1', 'cell-GATCGAGCAACTAGAA-4', 'cell-GCCAGGTTCTAAATCG-3', 'cell-ATCTTTGGTTAGCTGA-1', 'cell-ATCCGTGAGTATCGCG-1', 'cell-TGTTATGAGGGACCTC-4', 'cell-TGCGCAGGTTAGGCTA-3', 'cell-CTGGTCAAGAATCTCA-4', 'cell-GATTAAGCAGTTATCG-2', 'cell-TGATCGAGTCTAACAG-2', 'cell-CTTACCTCATTGTCAG-4', 'cell-CAACTAGGTTTACGTC-4', 'cell-GATAATCGTCAAAGAA-2', 'cell-GTTAAGTGTGATTACG-3', 'cell-GGCCTCTGTGAGAAAC-1', 'cell-TCCTTAGTCTTCAATC-1', 'cell-ATAGATGCACACTAAT-3', 'cell-TTTCTCACAGGTTCAC-4', 'cell-CCTAAGCCATCAGTAT-4', 'cell-TGCTAGCCACTAAGAA-2', 'cell-GACCTAGTCCGGTTGA-3', 'cell-TTGTCCATCAGGAAGC-4', 'cell-CAGGACACATTTGCTC-4', 'cell-ACGAGTAAGGAACACA-4', 'cell-CGTAGCGGTGAAACAA-2', 'cell-AGGTTACTCCTCAGTC-1', 'cell-TTTGGCTGTTCCGGGA-4', 'cell-GGATGAATCATGGTTA-3', 'cell-AACAGCAAGTTTGTCT-4', 'cell-AGCCGCTAGGTCGATT-4', 'cell-CCAGACTCACCCTCAC-3', 'cell-CGAAGCGAGGCTAGAA-1', 'cell-CCGGTAGGTCACACCC-3', 'cell-GTCCAGGGTATACTGG-3', 'cell-TGTTGTTTCACGAATC-3', 'cell-TTGACGTAGGATAAAC-4', 'cell-TGCTTGCTCGGTTTCC-1', 'cell-AACTAGTGTACTGATG-2', 'cell-AAGACAAGTAAATTGC-2', 'cell-TTGAGCTAGGAGTCGG-3', 'cell-ACCTGGTCAGAAATTG-2', 'cell-CTGGATGTCCAGGTTG-3', 'cell-CAGCATTAGGTCAAAG-4', 'cell-ACTATCCGTTACAACG-4', 'cell-TCGACAAGTATTGGAT-4', 'cell-AAGTTTGTCAGTTCCC-3', 'cell-ATCGGCCAGCTATTGA-4', 'cell-GTAGTTATCGCACAAT-2', 'cell-TGGGCATGTTCGGTAA-3', 'cell-TGGCTATAGGTCGAGG-1', 'cell-CAAGGTTTCATCCACC-4', 'cell-TGTATCGCATCTTGAG-4', 'cell-TGCTTTAGTCTAACCT-4', 'cell-AGGTTTGGTGTTAAAC-1', 'cell-GGGCCTAGTACCTTAC-3', 'cell-TCCTCAATCTTGGACG-2', 'cell-ATCGAGGCAACATAAG-1', 'cell-GTACAATGTTTACCGT-3', 'cell-TGTCATAAGAGGCTAA-1', 'cell-TGCTATGCATTATGAC-3', 'cell-TGACTTAAGCACCACA-1', 'cell-GTCATGAGTCCGCTGT-4', 'cell-CAAACTGGTCACAAAT-4', 'cell-TCCGGTTTCAGAAACG-4', 'cell-TTGACTAAGGCTGTCA-4', 'cell-AGTGAACCAACCGCCA-4', 'cell-TGTGCGCAGCCTCTCG-4', 'cell-GCTAGCCAGTCATTAG-3', 'cell-AGTGAGTCAGGCTTCG-1', 'cell-CAGCCTAAGTCACCAG-4', 'cell-GTGTTACAGCTGTACG-3', 'cell-GCAAGTCGTAATCGCA-4', 'cell-GTTCACCTCGTTAGTA-1', 'cell-GGTTATATCCGCACAA-4', 'cell-TATGGATGTTGTCATC-4', 'cell-CTCTCACAGTAACGGA-3', 'cell-TATGTGATCATGGCCA-2', 'cell-TTGGCTGAGGCTGTCA-4', 'cell-TCGACAAGTTAATCGG-3', 'cell-CTGGATGTCTTTGAGA-4', 'cell-CGCAATCCACCTAATG-4', 'cell-AGCCTAAGTGTTGCTT-1', 'cell-GCGGTTATCTCCATGC-4', 'cell-AAGCTAGAGCTCATAA-4', 'cell-TTATCCTAGCATGACT-1', 'cell-AATTTCCTCCGGGACT-3', 'cell-TATATCCTCCCTGATC-4', 'cell-GGAACGGTCTAGCTAA-3', 'cell-GGTCCTGCAACATAAG-4', 'cell-AGGCAGGTCATGGCTG-4', 'cell-TAGTAAGCATGTTGCA-1', 'cell-CACAAGCGTGATCATG-3', 'cell-ATGGACAAGCTACTGG-4', 'cell-CTTGACGAGTGACCTG-1', 'cell-GACACCGGTCATGAGC-4', 'cell-ACTCAGTAGACCATAC-3', 'cell-TATAGCCAGTTTGTCT-4', 'cell-TAACCAGGTTTAAAGC-4', 'cell-ATTAGCGGTCCAAGAC-3', 'cell-CCTTGTTCACCCACCT-4', 'cell-AGTGTTTCATGAGTTT-1', 'cell-TTGAGCTAGTGGCGGA-3', 'cell-CAGCATGTCAATTACG-3', 'cell-CCAGGATGTATGGTGC-4', 'cell-TTATGACCAGCCTAAC-4', 'cell-TTAGCAGGTAACGGGA-2', 'cell-TCCTCAATCCCTCAGT-3', 'cell-GGTACCGGTGAGGTGA-3', 'cell-TATTTGCTCAGCACCA-2', 'cell-TAGCGCGGTTAACAGT-4', 'cell-TGGACAAAGGTTAGAG-4', 'cell-ACCACACCAGTTATCG-4', 'cell-CCTGAGTCACGAATCC-1', 'cell-TGACCAAGTCTCAGCC-4', 'cell-TTTAAGGTCTTGTTCG-4', 'cell-ACACTAATCTTGCAGG-3', 'cell-AGGCGGATCATGAAGG-2', 'cell-CATTATCTCCGCCTAT-4', 'cell-ATTTGTGAGGAAACTG-4', 'cell-ATTGCACAGGACAATG-4', 'cell-GTGCTTCTCGCTAAAC-4', 'cell-ATGTGAGAGTAGCCAT-4', 'cell-CATAAGCTCCCTGGTT-4', 'cell-CCGTTACTCAAACCTA-4', 'cell-GAAGGCCCATAGGCGA-2', 'cell-TGGTTAATCAAGTGTC-1', 'cell-TCTCGCCCAACTAACT-3', 'cell-TCAAGGTTCATGAGCT-3', 'cell-GCCTAATAGGATTGCT-2', 'cell-ATTCCGGAGCGCCTAA-4', 'cell-GGAGTCTGTCCTAACT-3', 'cell-TTGCCCGTCTTGTCCA-4', 'cell-TTGTTTGGTGCGCGTA-2', 'cell-TTGTCCCAGTCACCTC-4', 'cell-GCTAATATCCTCCTAA-1', 'cell-GCAATCTAGCAAGATG-4', 'cell-CCAACATAGGTCGATT-4', 'cell-TACGTACAGGTTTGCG-2', 'cell-GCAGGTTGTCATGCCC-1', 'cell-AACAGATAGGTGTTAC-4', 'cell-TTTCCGGGTGTGCACG-3', 'cell-ATGTGAGAGTCTTGAA-4', 'cell-GGATAACCATCACAGC-2', 'cell-GTCATGAGTCTTTGAC-4', 'cell-TATAGCCAGGCTAATC-3', 'cell-GATTGCAGTTGCGTAA-4', 'cell-TGAGTGAAGAATCGCT-4', 'cell-GACCTCAAGCCTAACG-4', 'cell-TCCATGCTCAACCAAC-1', 'cell-ATATGTCCAATTAGGA-4', 'cell-AAGCTATGTTCCTGAT-3', 'cell-GGTAATTGTCACACCC-1', 'cell-TAATGGACAGCACGAA-4', 'cell-ACCCTGTTCATAGCCG-1', 'cell-AATTCGTCATCAGCAC-4', 'cell-CTTAACAAGGTTACGT-1', 'cell-TTTGTTGGTGCCGCAA-1', 'cell-AGCGCCTAGTTAGCTA-4', 'cell-TCCCGGACAGGCGAGT-3', 'cell-TTTAGCAAGGTTTGAC-4', 'cell-AGGCTAGCATAAGTCT-4', 'cell-CGTGCTTTCTAGCGTG-4', 'cell-TTACGTTTCGATTATG-4', 'cell-TTTAGGATCGTTATCT-1', 'cell-CGTTTGGAGCTTCTCA-2', 'cell-CTCTGTTCATAAACCT-3', 'cell-TACAATGTCCTCCATA-1', 'cell-GGAATCTTCCGGTTGA-4', 'cell-AAGCGTTTCGATTATG-2', 'cell-GACAATACAGTTTGGC-4', 'cell-TCCATATTCATTGCGG-3', 'cell-CTCGACAAGGAGGTTA-4', 'cell-AATTGTGTCAATCATG-3', 'cell-ACGCACGGTCACAGCG-3', 'cell-GAGGTACAGGCGAAAC-4', 'cell-CATCATAAGCCGCAAC-4', 'cell-CCCTGGACAGTTATGT-3', 'cell-ACCAGGCTCACGAATC-1', 'cell-GGACTAAAGTGCACGC-4', 'cell-TTCCACGGTTCCGCAC-4', 'cell-GAGTTGCGTGTGCACG-4', 'cell-CCTGATGAGCTAATTG-4', 'cell-TTGATGTCACAATGCC-4', 'cell-CAACAGGCATTGTTGG-4', 'cell-TACATCAAGGACCTGC-1', 'cell-TATAACCCAATTAGGA-4', 'cell-GCACGGTTCCTGAATA-4', 'cell-CTCCTGAGTGCTCCGT-3', 'cell-GATCGATTCCATAATG-4', 'cell-GCCTGTGCATTAGGTT-1', 'cell-GATTAGTGTTAGAGGG-3', 'cell-AAGCAAGTCAGTTCCC-1', 'cell-TAGTGTGGTTTGCAGA-3', 'cell-GTTAACCAGCTGGAAA-4', 'cell-CCTCAAACAGAACCGA-4', 'cell-AGAAACCCAGGCTAAG-3', 'cell-TTGCATTTCCGTGACA-3', 'cell-GTGCTGGGTGAGCGAA-2', 'cell-GAACACAAGTGAACCT-4', 'cell-CGGACCTAGCGCCTAA-3', 'cell-TCCTTCAAGTCAATTG-4', 'cell-AGCGCTCAGGTCGATT-4', 'cell-GGTAAACCATACTCCT-4', 'cell-TCAAACCAGCGGATAA-3', 'cell-CGACTAAGTCGAAGTC-3', 'cell-TCTTAGCGTAGGATTT-1', 'cell-AGTAATGCACGAACAG-4', 'cell-GGTTCCCGTGGCTTCC-3', 'cell-TTGCTTAGTCATAGAT-4', 'cell-CAAACACTCTCACATT-1', 'cell-TACCTCATCGAAGTAG-2', 'cell-TGGACAAAGTCAGTAC-4', 'cell-GCTGTGCAGCGAGGTG-3', 'cell-GGGATTAAGCTGGAAA-4', 'cell-TATGCATCACCTGGTG-3', 'cell-TTGCAATCAGGACCTT-3', 'cell-TGGACTAGTCACCTAT-3', 'cell-ACCTAAGGTTAAGGTT-4', 'cell-CTTAACAAGGCTAATC-4', 'cell-ATGTCCACAACAGCCT-2', 'cell-GCTAATATCCTGATTT-4', 'cell-TAGGCTAGTTCGCTTG-2', 'cell-CCATAAATCCACCCTG-3', 'cell-ACCAGGGAGCTGTACG-2', 'cell-CGTAACTAGCCACAAT-4', 'cell-CTAACCCTCATGCAAC-2', 'cell-TACAGGTTCCTAGTCC-4', 'cell-GACGCCTAGCGGCTGT-2', 'cell-TGGCGGTTCGCATTAA-2', 'cell-GGTAAACCATTTAAGC-4', 'cell-TTGCAAGGTAATCGTG-3', 'cell-GAGGTTAAGCCTAACG-3', 'cell-TTAGGCGTCTTGTCCA-2', 'cell-CCAGGATGTGCCTCAC-2', 'cell-TCTCAATTCATCCTGC-2', 'cell-GGTACTTAGTCACCAG-2', 'cell-GCTGCAATCCACCTTA-2', 'cell-GCAGGTTGTCGTAAAT-4', 'cell-AGTAACCTCCAAACAC-3', 'cell-GAGTTGCGTGTTGCTT-1', 'cell-CAGCATTAGCCGGTAC-1', 'cell-GCCTTTGGTAACCTAG-1', 'cell-CGATGTCCAGCACGAA-4', 'cell-GTGTTACAGCTTACTT-4', 'cell-TGAACAGAGCGAGTAA-2', 'cell-AATTTGGTCCTAGTAA-2', 'cell-GGAGTGAGTAGTTAAC-4', 'cell-TTGGGTTAGGAGGGTT-4', 'cell-GTCAATATCATGAAGG-3', 'cell-CTATGGCCAGACAAAC-1', 'cell-TTAAGCCAGCCTGTTC-3', 'cell-CCATAAGGTGGTTATG-1', 'cell-GCTAGCCAGATGGACA-4', 'cell-CATGAGGCACGGTTTA-1', 'cell-CTCCCTGAGTAAGTCC-1', 'cell-ATGTAACGTGAAACAA-2', 'cell-TCGTTAAAGCCGCAGT-1', 'cell-GTAAGCGCATCATGTG-3', 'cell-GGTGAGGTCATGGTTA-4', 'cell-CGCATATAGTGCACGC-4', 'cell-AGGATCCGTTACGCAA-4', 'cell-GGTTATATCTTGCAGG-3', 'cell-TTGTCCCAGTAGCGGG-3', 'cell-TCAGTAATCAAGGACA-4', 'cell-TAGCCGGGTGGCTTCC-4', 'cell-ATGACTCAGCGCCTTT-3', 'cell-TTGGGCGGTTTAACGG-4', 'cell-AAAGCGGGTTGCACAA-1', 'cell-AATAGAGGTATTGTCC-3', 'cell-GCGATTTAGTCATTTC-1', 'cell-CATTATGAGTAACAGG-2', 'cell-TCCTTAGTCGGGACTC-4', 'cell-GCTTTGTGTGTCACGG-4', 'cell-CTTCATCCACAACAGG-2', 'cell-CGGTGAGAGGACTTAC-4', 'cell-CTAGCTTGTGTTTGCT-4', 'cell-GTACACCCACAAAGCG-4', 'cell-GTTGGAGCAAGGTCGA-1', 'cell-CGCAATGTCGTTACAA-3', 'cell-GCCAGGTTCATAAGCC-3', 'cell-CTCGCTCCAGTTTCTC-3', 'cell-CTCATCATCATGACCG-3', 'cell-TCTCACCAGACAAAGT-3', 'cell-GAACCTGTCTAATCCT-2', 'cell-GCTAGCCAGTTGGCCA-3', 'cell-ACCTCACTCCGTCCAT-4', 'cell-CGATATTCATCAGTAT-4', 'cell-TTAGGAACACAGGATG-3', 'cell-CAATGACTCCGTCCAT-2', 'cell-TTAAAGGCAAGGACCA-3', 'cell-ACACTAATCTGTAAGC-4', 'cell-TTTAAGCCAGTAGGAT-2', 'cell-GGTTTAATCTGCAAGT-1', 'cell-CGGTTTCTCCTTTACG-4', 'cell-AGTGATGAGTTCCTCA-2', 'cell-GCCTTTATCAATGTGC-4', 'cell-TTACCTGTCTAATTGG-4', 'cell-GATCACTAGCTTAGTA-1', 'cell-TGTTATGAGGGTCCAC-3', 'cell-CGTGTTACAGTTATCG-3', 'cell-GATTCGCCAACATAAG-3', 'cell-ACACAATGTTAGTGAT-4', 'cell-AGTGAACCAGGCTTCG-2', 'cell-GTAATAGCAACTAGGG-1', 'cell-CGATCCTTCGCTCCAT-2', 'cell-GTTTACCGTTGACTTC-1', 'cell-CGTGCACAGACTTATG-4', 'cell-TCAACAATCCTGATTT-3', 'cell-GATGCGACAGGACCAA-2', 'cell-GGTGTTGTCAGAAACG-2', 'cell-TTGTCCGGTCATCCTG-3', 'cell-AAGCGTTTCTAGCGTG-3', 'cell-TTTGCGACAATCATGT-1', 'cell-GAAGGAACATTAAACC-2', 'cell-TCAGCAAGTTACTTCA-3', 'cell-GCCTATTGTGCGCATG-2', 'cell-CACTAGCCACCTGCCT-2', 'cell-TTGGTGAGTTGTTCAC-3', 'cell-CCAAACTAGGCATTGT-4', 'cell-AAGCTATGTGCTCCGT-3', 'cell-AAACAGCCATGATTGT-3', 'cell-TTGCGAGTCTCGCCTG-1', 'cell-TCCCTCACAGAATGAC-4', 'cell-TAAAGCCTCCAGGTCA-4', 'cell-AAAGCCGCAGTAAGTA-1', 'cell-GCACGCTAGCTAAGTC-3', 'cell-AGACCCGGTTGGCGTG-3', 'cell-AGCGGATAGGCTATGT-3', 'cell-GCCAGGAAGGCTAATC-4', 'cell-AATCGCCCAGGAACTG-3', 'cell-CCTTAACGTCACCTAT-4', 'cell-ATCCTCATCAAACTCA-2', 'cell-TACCGTTGTGGACCTG-3', 'cell-GGACGGATCAATAGCC-4', 'cell-CAACTAATCGACAAAG-1', 'cell-ATCCGTGAGAATCTCA-3', 'cell-CTGACATAGCATGCAT-4', 'cell-AGTCGCATCGATTTAG-4', 'cell-CAATCTAAGTCACTAA-4', 'cell-GATGAGGGTGAATCGC-3', 'cell-GAAGTAAGTCCCGGAA-2', 'cell-GATGCGACAAGACTCC-3', 'cell-TTGTGTGCAACAACAA-3', 'cell-ACCCGCTGTTGCTGGG-3', 'cell-AGCATTTCAAGGAATC-3', 'cell-GCCATTACACCTCGCT-4', 'cell-AGTGATGAGTCATCCC-3', 'cell-TTACAGCAGAGGGACT-2', 'cell-AAAGGACGTCATCCTG-4', 'cell-GCTCATTGTTAGTACG-4', 'cell-TTACGTTTCTTGCAGG-2', 'cell-GTAAAGCCACGTTACA-4', 'cell-CATCCTGGTCCGTAGG-3', 'cell-CCAAGGCTCCGCCTAT-2', 'cell-CAAGGTAAGGGCTTTG-1', 'cell-TCCAGCAAGTAACTCA-2', 'cell-CCGTTGCGTGCGCATG-4', 'cell-CTCCAACTCCTTTACG-2', 'cell-CTGTATTTCACCATTT-4', 'cell-CCTGGATCAGCCGCTA-3', 'cell-CTGTTCATCTTGTTCG-4', 'cell-CCAGCTAAGGGCTTTG-2', 'cell-TGCGGTTCAACAACAA-3', 'cell-TAGCTTAAGCCATCAG-4', 'cell-GCGATTTAGCGCAATT-3', 'cell-TAAGTAGCAAGCGATG-3', 'cell-CCACAATAGCTTAGCG-4', 'cell-CGAAGGCCAAACGGGC-1', 'cell-AAACGGATCAGGAACA-1', 'cell-CTGGTTACATTTAAGC-1', 'cell-AAGCGTTTCCATCAGG-3', 'cell-CGGGTCTAGCGGCTGT-3', 'cell-TCGCATTGTTTGAGGC-4', 'cell-GTCATCCTCTTTGTAC-4', 'cell-CGGATTAGTTATCGAG-3', 'cell-ATTGCGCCAGTTTGTG-4', 'cell-ACCCTGTTCCCGTTAC-2', 'cell-TACTAAGTCAGCAAAG-1', 'cell-GATTCATCAATGCGCT-2', 'cell-GCTTGACCATAATGTC-4', 'cell-TCGGTTTGTACCGAAC-4', 'cell-TATGACTCATAGCAGG-1', 'cell-TCACGGATCGCACACA-3', 'cell-GATCGCTCACGCAACT-4', 'cell-TACCGTTGTCGTTACT-4', 'cell-GAGCTGCTCACGCCAA-2', 'cell-TAATTGCCAGAAATGC-3', 'cell-GGTTAATGTTGGTTAG-2', 'cell-ACAAAGGTCGCACAAT-4', 'cell-CTCCGTCCAATGCCCG-4', 'cell-AGTCCTTGTTACCTGT-4', 'cell-GTTAAGTGTCCGGTTC-3', 'cell-GGTGAGTAGGCCCAGT-2', 'cell-ACCCAGGGTGATGGCT-4', 'cell-GGACATAAGCGAAGTA-4', 'cell-ACTAACTCAAGGAATC-3', 'cell-TTCAGTTTCCCATAGG-4', 'cell-AGTGTGGCAATTATGC-1', 'cell-TCGCGCACACAATGTT-4', 'cell-TCTCAAGCAGGAAGCC-2', 'cell-TGGTCAAGTTTAAAGC-4', 'cell-ATGCAGGCAAGTTATC-4', 'cell-GGCAAATCACCGGTAT-3', 'cell-AGCGGACCAAGGACCA-4', 'cell-TCCATCATCCTAAATG-4', 'cell-GATTGTTCACTAAGAA-1', 'cell-GGAACAATCGCGACAC-2', 'cell-GGCTCAATCCTTGTTG-3', 'cell-TGGTTGAGTACAATGT-4', 'cell-GAGGACTAGCGATACT-4', 'cell-CTATGATCAGGAACAT-1', 'cell-GTCATCCTCACATTGA-4', 'cell-CTCAATAAGCTAATCA-2', 'cell-ATCACAATCGCCTGTT-2', 'cell-GAACGAATCTTGATGA-4', 'cell-TGCTCCGTCTTAATGG-2', 'cell-TGGACTAGTTCACTGT-2', 'cell-CGGACAACACTGACCG-1', 'cell-CTTGTCCAGACTATTG-2', 'cell-TTAGTCAAGTGTTGCG-3', 'cell-GGTTTGTAGCTTAGCG-4', 'cell-TAGTGTGGTTTATCTG-1', 'cell-ACGCCACAGATAGACG-4', 'cell-GGTTATATCACGTTAA-2', 'cell-GAAGTGATCATGTGGT-4', 'cell-TCCGGTTTCTAAGGAG-2', 'cell-ATCGAGGCATTTGCTC-1', 'cell-AGCTAGTTCGCTAGTG-3', 'cell-CTGTATTTCCAGGTCA-2', 'cell-CTCAATAAGCTTATGA-3', 'cell-TTATTGCTCATAGCCG-1', 'cell-ACACTTGCAGGCTTCG-1', 'cell-TGTCCTGGTTGGATCA-4', 'cell-TAGTGTGGTACAAAGA-3', 'cell-GTAAGCGCATGCTATG-4', 'cell-AAGCTAGAGGATGATG-2', 'cell-TGTTACTTCCTTCTAG-4', 'cell-CATTATCTCCTACCTA-4', 'cell-AATTGCTCAACCTGGT-3', 'cell-ATACCTGCAGTTTCTC-3', 'cell-TGGCTATAGTTGTCAA-2', 'cell-CGATTCCTCATTACTC-4', 'cell-TGTAAAGCAGCTTAGC-1', 'cell-TTTAACCTCTAGCGAT-2', 'cell-GTCTATGCATAATTGC-3', 'cell-TTCCTTCTCAAATCGC-4', 'cell-ATGAGCCGTGTAACCA-4', 'cell-GTTACGCCATGTCGCG-4', 'cell-AACGCTAGTATACTGG-2', 'cell-ATTGAAGCATTTAAGC-4', 'cell-CATTCATTCCGTCCAT-4', 'cell-CAAACATGTAGGATTT-4', 'cell-ACGTCCAAGCGGCTGT-4', 'cell-GAGCTGCTCGAAGTGA-3', 'cell-ATTTGTGAGGACACTT-4', 'cell-AGTGATGAGGTGAAAT-3', 'cell-ACGTCCAAGGGTGGAT-4', 'cell-TGGATTGGTGACCTGG-1', 'cell-GACTCACCAAACCTTG-3', 'cell-ATTACGTCAGGTTATT-4', 'cell-AGCCTGGGTCGAAGTC-4', 'cell-GAGTGAGGTTTAGCGA-4', 'cell-CCCTCATAGAAGCTAG-3', 'cell-CTACTTAGTAGCCATA-4', 'cell-TTTGCATTCCTACCTA-4', 'cell-TAGTTGTCACAAGCCT-4', 'cell-GGACGGATCGAGGAAC-4', 'cell-GATTAGTGTTAGGTTG-4', 'cell-CCGTTGCGTTGACTTC-3', 'cell-GCGCAAACAGCACGAA-4', 'cell-TTACGTTTCCTCATCA-1', 'cell-TCGCGCACAGGGAGGA-1', 'cell-AACTAGTGTTGTAACG-4', 'cell-ATGCAAACAAACTCAT-1', 'cell-GAGTTTGGTATTGCAG-1', 'cell-AGGAACCAGCAGGCCT-4', 'cell-GCTTAAATCTAAGGTC-3', 'cell-TTGGGCGGTCCTAATC-3', 'cell-TCCATAAAGCACAGAA-1', 'cell-ATGTTGTCAACTGGGA-4', 'cell-ATTGTGATCGTGCTTC-3', 'cell-TGACTCCTCCCTCGCA-2', 'cell-ACATCATCACTAGCGT-3', 'cell-TCTTCAAGTAAAGCGG-3', 'cell-GTAAGCGCAGCAGGTA-4', 'cell-AGCACTTAGTAAACCC-3', 'cell-TTATCCGTCCGGTTGA-3', 'cell-GCCCATAAGGAGGTTA-4', 'cell-GGTGTCCAGGCGAAAC-4', 'cell-TACCTCATCATTGACA-4', 'cell-GCGCGATTCCGTTAAA-4', 'cell-CATGGATTCAAAGGCA-2', 'cell-AGGGTTGCATAGCGAG-4', 'cell-CTAACCCTCATTCATC-3', 'cell-TTTATGGAGTTCCCGT-3', 'cell-CGCGGATTCCGTCCAT-4', 'cell-GCATATATCGGTTAGT-2', 'cell-GACATTATCATCACTT-4', 'cell-CGTTGCGCACCTGGTG-3', 'cell-TTTATGGAGCAGGTGG-3', 'cell-TGTGGCGGTCCCGAAG-4', 'cell-GGATATTGTGATGATT-3', 'cell-ACCACATAGCTCAATA-2', 'cell-TATCCGGAGTTTGAGC-3', 'cell-TTTCTCACAACCCTAA-3', 'cell-CTGCAATAGGAACACA-4', 'cell-GCCAGGTTCGAAGTAG-3', 'cell-ACGCCACAGGGTTATC-4', 'cell-GAGTAATAGGGTTATC-3', 'cell-TCTCCTCGTACGGTAC-4', 'cell-GCTTAGTAGGGACCTC-1', 'cell-GAGGTACAGCTGCACA-3', 'cell-GGCCATCAGTAATCCA-1', 'cell-GGTGTTGTCTCCATGC-3', 'cell-AATAGAGGTTTATCTG-3', 'cell-CCAACATAGACAACGA-2', 'cell-AATTACCCAAAGCGCA-4', 'cell-AATTAGCGTAACCTAG-4', 'cell-GTTCCCAGTCACAGAC-2', 'cell-GTTGTGAGTTAACGAT-4', 'cell-ACAACACTCCGCCTCA-4', 'cell-ACCTTGCTCCTACCTA-4', 'cell-TTCCACGGTAAGGTCC-4', 'cell-CCTGACTTCTACTAAG-3', 'cell-ACGTCCAAGTTAGTTG-2', 'cell-AATCAGGAGGGTGAAC-2', 'cell-AAAGGAGCATTCCTGT-2', 'cell-AAATGCCTCGCGACAC-3', 'cell-CTAGATTCACGGTTTA-1', 'cell-TGATGAACAGCAACAG-2', 'cell-GTTCCCAGTGCACGCA-2', 'cell-GATTCGCCAGAAATTG-4', 'cell-GACTCACCAATCCCTT-2', 'cell-GCTATCCTCCCTCGCA-1', 'cell-TGAAGCAAGCAAGGAC-2', 'cell-GCCTAATAGGAGCACG-4', 'cell-AGTCGCATCGTAACGT-3', 'cell-TAGGCTTAGCCTGACA-1', 'cell-CTAGTCGAGGACCTGC-4', 'cell-CTTGACGAGAGAGGAG-3', 'cell-ATCGCCCGTGCGCGTA-4', 'cell-AATGTCCAGACAAACG-4', 'cell-GGAACCACAATTGAGA-4', 'cell-CCCTCATAGCTATGAC-2', 'cell-TGCTCTCAGCGCCTAA-1', 'cell-TAGTAGGAGCACAGAA-3', 'cell-CGTTAACAGGAACACA-3', 'cell-GTTTGTCGTCCGCTGT-2', 'cell-AGCCTAAGTATTCGTC-1', 'cell-ACACTAATCATAGCCG-1', 'cell-CCCGCAACAGTAGGTG-2', 'cell-ACCAAACTCGACAAAG-3', 'cell-CTGCAATAGTCATGCG-2', 'cell-TATAGGTGTCACGAAC-4', 'cell-AAGTTACGTTAGACCA-1', 'cell-GGATGTAAGGATAAAC-4', 'cell-GGCTAGACAGATTCAT-3', 'cell-TGCAGGCTCTTTGAGA-2', 'cell-CATAGTCAGTGCTGTG-2', 'cell-TTGACGTAGACACCGC-3', 'cell-AGCATCCCAAGTTATC-1', 'cell-AACCGCTCAGTTTACG-1', 'cell-GGTTGAGCATCAGTAT-2', 'cell-GAAGTAAGTTGGATAT-1', 'cell-TGTCATAAGCATGTCG-2', 'cell-CGTAACTAGCCGGTAC-3', 'cell-AGCAACAAGTGAGCAA-4', 'cell-CGTATTGCACCTGCTC-3', 'cell-TCGTAATCAATAGCCC-4', 'cell-CGTGTTACAACTCGCG-3', 'cell-TTAGACTCATTGTCCT-4', 'cell-GATCGCTCAGTTTACG-4', 'cell-CGAGCGAAGTGAGCGG-2', 'cell-TGATGACTCCAACTGG-2', 'cell-CGTTGCAAGCTCATAA-3', 'cell-AACCTCCTCCACAATA-4', 'cell-CGGTTTGAGAAAGGAA-1', 'cell-TGGTGCATCTAGCGAT-1', 'cell-GTCATCCTCCGCCTCA-4', 'cell-TATTAGCCAATAATGG-4', 'cell-AGTGCACGTTCCGGGA-3', 'cell-GAGCGATAGGCTACAT-4', 'cell-CTCCTCACAGTAAAGC-1', 'cell-CTCATGACAAACCTAT-4', 'cell-GGACGAAGTTAATGCG-3', 'cell-CATTATCTCGTGCCTT-1', 'cell-GGTGCTGGTGGATTCA-4', 'cell-AGTAATCGTGAACAAA-4', 'cell-GACACCGGTTGTAAAC-3', 'cell-TAGGGTTTCATAGACC-1', 'cell-CGTACGGGTGCCGCAA-3', 'cell-GAGTTTGGTGTTTGCT-1', 'cell-ATCACTAAGCGTGCGT-3', 'cell-TAATCACCAGCTAACC-2', 'cell-CCTAAAGGTAAAGCGG-2', 'cell-GTCTTTGTCATTGTTC-4', 'cell-AACCGGCTCCGGTTGA-3', 'cell-GGTGATTTCTCAATAG-2', 'cell-TCGTTATTCAATTACG-2', 'cell-CTTAGTTTCGCAATCG-2', 'cell-CAAGGCCTCCACCTTA-1', 'cell-CACGCTAAGCTAATCA-2', 'cell-ACCTGTTGTTAATGAC-4', 'cell-ATGCAGGCATCTAGCA-4', 'cell-CCAACATAGTGAGGGT-4', 'cell-CGGACCTAGATAACCC-4', 'cell-GGATAACCATGAATCT-1', 'cell-CGTGCTGCAAGGAATC-4', 'cell-AACCGCTCAGGCCATT-3', 'cell-ATGGACAAGTTAGACC-3', 'cell-TGTGTTAAGGTCCAAT-1', 'cell-CGATATTCAATGAGGT-2', 'cell-CATTGTAAGGAACGCG-3', 'cell-CGCATATAGTTCCCAC-4', 'cell-ATTGTGATCGGCTATG-2', 'cell-TTGACATCAAAGGCCA-3', 'cell-GGTGTCCAGATAACCC-2', 'cell-ACAACACTCACTTCAT-2', 'cell-AGGTGAATCAATCATG-3', 'cell-ACCATAATCAGGAACA-3', 'cell-TTGTTTGGTTAATGCG-1', 'cell-GCCACTAAGTAGAGGC-4', 'cell-GTTCGCTTCATGCTAA-4', 'cell-GGCAATCGTGTAACCA-4', 'cell-AATGTCCAGCTCCCTG-3', 'cell-TTGCGAGTCCTCATCA-3', 'cell-CAAGGCCTCCACCTTA-2', 'cell-TCAGTAGGTTAGACCA-3', 'cell-ACACTTAAGCATGTTA-1', 'cell-AGGCAATCAGCTAATT-1', 'cell-CAAAGCGCAACGTGCT-4', 'cell-GTGTTACAGGCGCATC-2', 'cell-ACCTACCTCGATTATG-3', 'cell-ACGTACCCATTGCGAC-2', 'cell-CATCACACAAGGTACG-3', 'cell-GCGCTTAAGAGGAAGG-4', 'cell-TTGCCCGTCGACAAAG-3', 'cell-CGCATGATCGATTTAG-1', 'cell-ACCTAAATCGAGCAAA-4', 'cell-CTTGTCCAGGATAAAC-4', 'cell-GCTGTACCAATGAAGC-4', 'cell-GGAGCAAGTGCTGTAA-2', 'cell-CATCCTGGTAATCGTG-2', 'cell-CTACCTCAGTAACCAC-4', 'cell-ACCTTGCTCAAGCCTG-3', 'cell-TTACCGTGTCACCAAA-3', 'cell-GTAAGCAAGCAACATC-3', 'cell-GAAAGGCTCTGGCATG-4', 'cell-CTGCTATGTTGCGCGA-3', 'cell-GAGTTGCGTCAATACG-3', 'cell-CACAGGCTCCGGAACC-4', 'cell-AGCGCTCAGCGGATTT-3', 'cell-CAAACCGTCATTGCGG-3', 'cell-AATTGCCAGGAGTCGG-3', 'cell-TCAGGTCCAAACGCGA-4', 'cell-TAGGAACCAACTAGGG-1', 'cell-TACCTCATCATTACAG-4', 'cell-CCCAAACCATCCCGCT-3', 'cell-ACGCCTAAGGGCTAAA-4', 'cell-CTAGCGGGTAATGACT-4', 'cell-CATTGTAAGCCGGTAC-1', 'cell-GAGCTTAGTTGGCGTG-3', 'cell-AAAGGTTAGGGTGGAT-1', 'cell-GGCTTAAGTCTAACAG-2', 'cell-GCTTAGTAGCACTAGT-4', 'cell-AGAGATTAGCTGGAAA-4', 'cell-ACGACTTAGCAATAGG-3', 'cell-CGCACACAGGCGTAAA-2', 'cell-ATTAACCCACCTATAG-4', 'cell-GATCAGTTCTAAGTCA-2', 'cell-GCTGTGCAGTAAAGGT-4', 'cell-CGAACAAAGGTGTTAC-2', 'cell-AGACCCGGTGTTTGAG-1', 'cell-GCACGGTTCGCCTAAG-4', 'cell-CCTACTTCACCTGTAA-1', 'cell-AGACAATAGGACAATG-4', 'cell-ATGTTCAAGGCATTGT-1', 'cell-AAGACATAGCATGCAT-3', 'cell-GCACTTACAAGGTCGA-3', 'cell-CCAATATCATAGACCC-3', 'cell-TCACGGATCAGCCAAT-4', 'cell-AACTCACAGTTATCTC-3', 'cell-TGCTAGCCAATTAACC-1', 'cell-CCTTACTCAAGGTGCA-3', 'cell-TTTGTGGCATGTTGGC-3', 'cell-CTAGGACGTCACAGCG-2', 'cell-TTTCAGTTCCGCCAAA-2', 'cell-AGGGCCTTCAGTATTG-4', 'cell-GTTAAGCTCGGTCAGC-2', 'cell-GTATTGATCCTCAGCT-4', 'cell-GTGCACGGTTAGACCA-3', 'cell-ATTGCGCCACCTAAGC-3', 'cell-GTCCTCCCATCGCTCC-3', 'cell-TTGGCTGAGCTTAACA-3', 'cell-CTTGAACAGGCATTGT-3', 'cell-CTTAAGATCACTCGCT-3', 'cell-TGGTGATTCGTTAGTA-4', 'cell-TCGATTAAGGTCCTGA-1', 'cell-TCCGCCATCGTTATCT-2', 'cell-CGGTGAACACTAGCGT-3', 'cell-CTATTCAGTGTTGTAG-1', 'cell-TCGGTTACATCCTAGA-4', 'cell-CTAAGGTTCATGCGTG-4', 'cell-GATAAGCCACCTGCCT-3', 'cell-TGCGCGAGTAGGTGTC-4', 'cell-CGATTGAGTACAATGT-1', 'cell-TGTTGTGCACTGACCG-3', 'cell-GGCTAGACATAGCTTG-3', 'cell-CGGCTCACAAAGCTAA-2', 'cell-CGACCTGCAGAAATTG-4', 'cell-ATTCGTTTCATCCACC-4', 'cell-TCAAGAACAATTTAGC-4', 'cell-AGGAAACGTTCACTGT-4', 'cell-ACAGCCGGTGAGGTAG-4', 'cell-TACTTCGTCCAGGTTG-3', 'cell-TTTAACGAGGTGCTGC-3', 'cell-CGTGTGTCAGGACCTT-4', 'cell-CTCAATAAGCTGTACG-3', 'cell-TCAAGACTCTTAGCGG-4', 'cell-TGAAACTGTTGTTCAC-4', 'cell-TTGACATCAACACTTG-4', 'cell-CGCACAATCGCCTAAG-2', 'cell-TGGTTCCTCCGGGACT-4', 'cell-CACTTTGTCTGTTCAT-4', 'cell-GGATTATGTTTAACGG-3', 'cell-AGCCGCTAGAATGACG-1', 'cell-GAAGCTAAGGAAACTG-3', 'cell-AGGAGCTAGCATTAGC-4', 'cell-CCCAAACCACTGGCTG-3', 'cell-CACTTAAAGGGACTAA-1', 'cell-AGAATCGAGCTAAGTC-1', 'cell-GCAAGTGCACAGCCTG-2', 'cell-GGAACTAAGCGATAGA-4', 'cell-GTCTTGCTCAAGGACA-4', 'cell-ACTGAATGTGAATCGC-3', 'cell-CTTATGTTCACAGCCA-3', 'cell-AGGATATAGGATCCGC-4', 'cell-CTACAACAGCACTAGT-4', 'cell-CATAGGTTCAAATCGC-4', 'cell-GCCTTAACAGGAAGCC-3', 'cell-AAGCCACGTTAGCCAA-3', 'cell-CGGCTAATCTGCAACG-1', 'cell-AGGATCCGTTTCGCGC-3', 'cell-CGCTCCATCCTCCATA-4', 'cell-CTTCACTCATCCTAGA-4', 'cell-AGGATGCAGCCTTAAA-2', 'cell-GAGTGAGGTCATTGTC-2', 'cell-AGAATCGAGTATTGCA-3', 'cell-TCCATAAAGTGTTGTA-4', 'cell-GTTTGTTTCTGTGAGT-3', 'cell-AGGATGTCAACTGGCT-3', 'cell-GAGCAAATCACTAATG-3', 'cell-GGCCAACTCATTTGTC-4', 'cell-ATCACCCTCATTTGTC-4', 'cell-GCAATAGAGTTTGCGG-3', 'cell-CCGCACACACTAAGCC-3', 'cell-GGTACCGGTAGCTAAT-1', 'cell-TCAAGCTAGCTTATGA-4', 'cell-GTTCGCGCAATGCCTA-2', 'cell-ATTATGGTCTTAAGTG-3', 'cell-CCTGGTAAGCTCAAAC-4', 'cell-TACTTCGTCAAGCCTG-3', 'cell-TGAAGGATCTCATCAT-3', 'cell-GATTTGCAGTCAGTAC-4', 'cell-AGGGCTACAGTCTATG-3', 'cell-TACTTCGTCCCATAAA-2', 'cell-GCTGTGCAGTTGTCCC-4', 'cell-CTTGCAACATAGCTTG-2', 'cell-TGCATCCTCATGACCG-4', 'cell-AGCGATTTCTCACTAT-3', 'cell-TTCCCGCCAAGGAATC-1', 'cell-ACTTAGTCACAGACTC-4', 'cell-AAGTTACGTTACTTCA-4', 'cell-TGAGGAGGTACGTTTC-4', 'cell-TTGTCCGGTTAGCAGC-4', 'cell-CCAGCCTGTCAGGCAT-4', 'cell-GCTAAGAAGACTAAGG-1', 'cell-CTTCAATTCGGGCCAT-4', 'cell-CTCCAACTCATCCTAT-3', 'cell-TTTGACTTCTCATCAT-3', 'cell-ATTCATGAGGCTACAT-3', 'cell-GCTTGACCATCAGCAC-3', 'cell-CTGTAACAGCTCAATA-4', 'cell-ACCCTGTTCATGTTTC-1', 'cell-ACCATAATCATGCTTT-4', 'cell-TATCACGCAGCCAGTT-4', 'cell-AGGTTACTCCAGCACA-3', 'cell-GGCCATCAGGTGAAGC-3', 'cell-CAAGTGAAGGCGAATA-1', 'cell-CTTGCAACAGCCAGTT-4', 'cell-AGTAACCTCAAGTGAG-1', 'cell-CCATAAATCTCACATT-3', 'cell-CCTTCAATCGTTATCT-1', 'cell-TTTGTGTTCACCGGTA-3', 'cell-GTTAGACTCTTGAGCG-4', 'cell-ACTAACCAGACTAAGG-2', 'cell-CGACCTGCAAGTTATC-4', 'cell-GCAATCTAGGGACTAA-4', 'cell-GACTTAGGTATTGTCC-2', 'cell-AGCCTGGGTTTAACGG-4', 'cell-GTTTAGCAGTCCTTCA-3', 'cell-AGGATGTCACAGAACG-3', 'cell-AATCCGTAGGTCGAGG-3', 'cell-TATCCGGAGTTTCCTG-4', 'cell-GTTCCTTCATTTGCTC-3', 'cell-ACTTAGGGTGCATTAG-4', 'cell-GTAGGATCACCTAAGC-3', 'cell-TATAACCCAACCGCCA-4', 'cell-CACCGGTAGTCCTTCA-1', 'cell-CATAGACTCCAAGTTA-2', 'cell-AAGTGAAGTAATCGCA-3', 'cell-CCCGTTGTCAATGAGG-2', 'cell-CCAAACTAGTCACTCC-4', 'cell-ACGCTTGAGGAGTCTT-4', 'cell-GAAGGATGTGCATTTC-1', 'cell-AGTTTGCAGCTCATAA-4', 'cell-ACGTCCTTCACGAATC-2', 'cell-TACTGACAGCAGGCCT-1', 'cell-ATTACTGAGCCTCTCG-3', 'cell-GTAGGATCAGTAGGTG-3', 'cell-AGAGGAACACTTACAG-3', 'cell-GACCTTTGTACCTTAC-3', 'cell-GCTGCAATCGTTTCCA-2', 'cell-CTAAGTCAGTTGGCCA-3', 'cell-GCACGAACAGCTTAGC-1', 'cell-GCTTTGTGTCGTAAAT-3', 'cell-TCAGGTCCAATTTAGC-2', 'cell-GCCTTTATCGCTAGCA-4', 'cell-CGTTGCGCACAAGCCT-1', 'cell-GACTAATGTCATGCCC-1', 'cell-CTAGCTGAGGCACAGG-2', 'cell-TGTAATGTCGTAATCA-4', 'cell-GAGGTTAAGCCTCTCG-3', 'cell-TGACTTAAGGCTAATC-3', 'cell-GCCTTAGAGGCTGTGC-4', 'cell-AATCTTGAGACTTATG-3', 'cell-TAATGGACATAGGCGA-4', 'cell-ACCTGGATCCTAATGA-4', 'cell-CAGCCAATCCTTAGTT-4', 'cell-CTTTCTTGTGTAATAC-2', 'cell-TGGATTGGTAATGACT-2', 'cell-TGGGCCTAGTTTCCGC-4', 'cell-CAATGCCCATCTAGCA-4', 'cell-CTTGACGAGCCTGAGC-3', 'cell-GAAGTGATCCGCAAGC-2', 'cell-CGTGCACAGCCGCTAA-1', 'cell-TTGGCTGAGACTTACA-2', 'cell-CTCTAAGCACCTGTAA-3', 'cell-ATGGTGCGTGTTTGCT-2', 'cell-CCCGCAACAGGTCCTG-1', 'cell-AATACCGGTTTGCTGT-4', 'cell-CCTACTTCAACCTGGT-2', 'cell-GAACCAAAGTAAGTGG-4', 'cell-TAGCTAGGTAATCCCT-4', 'cell-ACGCAAGCATCTAGCA-4', 'cell-TGTAATGTCGTTATAG-3', 'cell-TGGACGGAGGTGCGGA-3', 'cell-GAGGAGGCAACAGCCT-1', 'cell-TGTTGTTTCGACAAAG-4', 'cell-AACTAGTGTTTGCTGT-3', 'cell-ATGTCATCAATAGCCC-4', 'cell-GGTCTTGAGGAGCACG-1', 'cell-GGACGAAGTCTAACCT-4', 'cell-TTGCAGCCAGAACCGA-3', 'cell-CGGGTATGTATTCGCT-3', 'cell-ATCACAATCTCGCCTG-4', 'cell-GAGTTACTCCTAGTTT-3', 'cell-CATCACACACATGCTA-2', 'cell-AGTTACTCAGGACCTT-4', 'cell-AATCAGGAGGAAGTAT-4', 'cell-GGGCGAATCTATTGTC-1', 'cell-TCCGGTTTCTCGCCTG-2', 'cell-CATAGCTAGGCATTGT-3', 'cell-CAAAGGATCCTTGCGT-2', 'cell-CGGATTAGTGAAGCCT-2', 'cell-GGAGTGAGTGGATGTC-4', 'cell-CTAGTCGAGGCGGATG-4', 'cell-GATCCGTCATAATTGC-3', 'cell-GGTTGGTGTGATTTGG-3', 'cell-GGTCCTGCACTAGGTC-1', 'cell-TTTAGCTTCATAACCA-2', 'cell-AGTCGCATCTTGCAGG-4', 'cell-GTTCCCAGTTAGCGTA-2', 'cell-GCCTTTATCTATGACA-4', 'cell-AACCGGCTCATCCTAT-3', 'cell-GGATGGCCACCTGGTG-3', 'cell-ATTGCAGGTAATCGGC-4', 'cell-CGTGCACAGCACCACA-2', 'cell-CTGTTTAGTCACCAAA-4', 'cell-ATCAATCCATGTTTGG-2', 'cell-TTACGTTTCTTGAGGT-4', 'cell-AGGATGTCACAGCCTG-1', 'cell-AGCATCCCAATTTAGC-3', 'cell-GGCGGTTTCCCTCAGT-3', 'cell-AACATAGCAATAACCT-3', 'cell-GATAGACCAACCCTAA-4', 'cell-CATAGTCAGGTAACGA-4', 'cell-CCTAAAGGTCATAACG-3', 'cell-CTAGTGAGTTATCGAG-4', 'cell-ATGCTTAAGTAGGATG-3', 'cell-CTTGCTCAGGAAACTG-3', 'cell-CGATTCCTCGGTCAAT-4', 'cell-GGTCAGGAGTTAGACC-4', 'cell-TTGGGCGGTCGTTACT-4', 'cell-GAAGTATAGGAACGCG-4', 'cell-ATATGCATCGCCTGTT-4', 'cell-TTGTAAGTCCAGGTCA-1', 'cell-CCCTCAGTCACCTGTC-4', 'cell-ACTAGGCGTTCACCCA-1', 'cell-AAGTTAGCAAATGCCC-3', 'cell-AAGACATAGCGATACT-1', 'cell-GTGAGGAGTGTTTGTC-3', 'cell-TACGTACAGCTTAGCG-3', 'cell-TTTCATCAGTTTCCTG-4', 'cell-GCAGCTATCTTGTTCG-4', 'cell-GGTGTGACAGGGAGCT-1', 'cell-AATCCCTGTAGGATTT-3', 'cell-TCAAGACTCATGTGGT-4', 'cell-ATGCGATTCACAGACT-4', 'cell-GGCATTGTCGTTTCTG-4', 'cell-GTTTGTTTCTAAGTGC-4', 'cell-CGTGCTTTCGTAATCA-2', 'cell-CATAGGCGTTGGTTCT-3', 'cell-ACACTTGCATAGCAGG-3', 'cell-ATCAGGTTCTGTAAGC-3', 'cell-TATTACCTCCCATAAA-4', 'cell-CTCAATAAGTATTGCA-3', 'cell-ACTGAATGTGCATCGG-4', 'cell-CTCCAAACATAGACCC-3', 'cell-AAGCCTCCAACCGCCA-4', 'cell-CGCTCCATCTTAGCGG-1', 'cell-AATTGGACAGGCTAAG-2', 'cell-CCCATAACAGTTGCGT-4', 'cell-TAACAAGCATATAACC-4', 'cell-AAAGCACCATAATGTC-4', 'cell-AGGTTAGAGTGAACGA-3', 'cell-AATTACCCACTGGCCA-4', 'cell-CTTAGGAGTCAAGTAT-4', 'cell-CCTCCTCTCGCATTAA-4', 'cell-AGGGCCTTCTTGGACG-4', 'cell-TTTCGTCCAAGTAAGC-2', 'cell-GACCTAGTCTGGCTTC-4', 'cell-TCCCTGGTCATTTGCT-4', 'cell-AATCTTGAGTTAGACC-4', 'cell-TGTGTGAGTCATTGTC-1', 'cell-TGGACTAGTGTGCACG-3', 'cell-TCGTTTCCATTAAGCT-4', 'cell-TTCATCCCATTGTCCT-4', 'cell-AGTGCACGTTGGTTCT-4', 'cell-AACGACAAGGTAAGGC-4', 'cell-GTTCGCTTCAGGAACA-4', 'cell-CAATGTCAGGCGAAAC-3', 'cell-TCCTAGTGTGATGAGG-3', 'cell-CATGAGGCAATATGGA-4', 'cell-GTTAGGCGTTAACAGT-4', 'cell-ATTTGTGAGCTAATCA-1', 'cell-GAAAGCCAGTCAATTG-4', 'cell-TACGTAATCGTTTCGC-3', 'cell-AACAGATAGGTCAAAG-1', 'cell-TAGTGGCGTTGTCATC-4', 'cell-GAGAAACGTTCCATTA-1', 'cell-TGTAAAGCACGTAATT-2', 'cell-GATAAAGGTATTGCAG-4', 'cell-ATTAGCGGTTTAACCC-1', 'cell-GCTGCATCAGTGAACG-4', 'cell-AATCATGTCCTTGCAC-4', 'cell-ATCACAATCCTTCGTA-2', 'cell-CGATATTCACGAATCC-4', 'cell-CAGCATGTCCCTCGCA-4', 'cell-TGTGCTGAGTCGCTAG-4', 'cell-AATGCATGTACTGAAT-3', 'cell-AGAACCGCATGCATAT-4', 'cell-GAAGCCTGTGATCAGC-1', 'cell-CCCTCACCAATCTCTC-2', 'cell-GTGCAAGCATGAATAG-3', 'cell-GAGAAACGTTAGCTGA-3', 'cell-CAATAAGCAAGGTCCT-1', 'cell-AAGCGCTGTAATCGTG-4', 'cell-AATGAAGGTTAGAGCC-3', 'cell-GCAGCAACAATTAAGG-4', 'cell-TCAGGAGCAAATGCCC-4', 'cell-TCATACTTCTGGCAAT-3', 'cell-GTGCTTACAAGGACCA-4', 'cell-GTATCGCCATAAGCAA-3', 'cell-CCTCAGTTCCTAAGGT-3', 'cell-TATAACCCAGGCTAGA-3', 'cell-GACCTAAGTCTAACAG-4', 'cell-CTGTTAAAGCTGGAAA-4', 'cell-TGAAGGATCGGCCAGT-3', 'cell-AGTTACTCAATTGAAG-3', 'cell-GGTTAGCGTTTATCTG-4', 'cell-TCATTGCGTCCGTGAG-3', 'cell-ACTTGAATCCAGGGAG-3', 'cell-GTATCGCCACATGCTA-3', 'cell-CCCGTTGTCGGGACTC-2', 'cell-CAATCCCTCCGTTATT-4', 'cell-GGTGTTGTCAGCTAAC-3', 'cell-TTGCAATCACAATTAC-4', 'cell-AGAAACCCAAGCTAAA-3', 'cell-CTGCAATAGGAAGCTA-3', 'cell-CTTAACAAGACTCGCA-3', 'cell-GTGTGCGGTGATTTGG-3', 'cell-GGGTTTGTCAAGCCTG-2', 'cell-GGTTAATGTTAAATGC-4', 'cell-ATAATGGCAGCAACCT-3', 'cell-CAAGTAACACCTAAGC-4', 'cell-GGAGCAAGTCAGGCAT-3', 'cell-TCGTTTCCATGCTTAG-4', 'cell-CTAGTAGGTATTCGCT-1', 'cell-CCTAATAAGTCATTAG-4', 'cell-AGCCAGTGTGTTTGTC-4', 'cell-TGTGATCAGCCGCAAC-4', 'cell-GTTGCATAGCTATTAG-4', 'cell-TTAGCGGTCCGTCCAT-3', 'cell-CTCTAGCTCACATTGA-4', 'cell-TACGCACCATTAAACC-3', 'cell-GGATATTGTGCTGTAA-3', 'cell-GTAAGCTTCGTCCTTA-4', 'cell-TCCAGCAAGATGGACA-2', 'cell-GTTCTTGTCTGGCATG-4', 'cell-AATTACCCACTATGGC-4', 'cell-TCGTGCTTCAGTGAAG-3', 'cell-CGAGCTGGTGAGACTC-4', 'cell-ATGTCCACACAAAGGT-4', 'cell-TAGCATATCCTTAGTT-2', 'cell-GTGCGGTTCATTAGTG-4', 'cell-TCTGTGACAAGGTAAC-4', 'cell-GTGCTCCGTCGACTAA-3', 'cell-GGTCTTGAGACAGGTA-3', 'cell-GTCCTCCCAAACTGCC-1', 'cell-CGCAATCCAAGGTCCT-4', 'cell-AATTGCTCAATGCCTA-1', 'cell-TATGGCCCAATTGAGA-3', 'cell-TTGACGTAGCTGTACG-1', 'cell-ATTGCGCCACCAAAGG-3', 'cell-AATTAGGCAAGCGAGC-4', 'cell-AGTTGGCGTAAAGCGG-4', 'cell-GCTGGTTCAGCCTGCA-4', 'cell-TCATGTTTCAAGGACA-3', 'cell-TTAGTCAAGTGCTGTG-3', 'cell-AGAATCGAGCTGAGGG-4', 'cell-TTGGGCCAGTCAGGCC-1', 'cell-GCTGGATGTAGTTAAC-2', 'cell-GCAGCCAGTGCCGCAA-2', 'cell-TTTGTCCCATCATGTG-4', 'cell-CCTTGCGTCCGTGACA-3', 'cell-TCTCACCAGGACCTCA-3', 'cell-GTTTGTTTCGTTAGTA-4', 'cell-GACCTAGTCAAACTCA-4', 'cell-AAGCGGGTCATGCTTT-2', 'cell-TCATAACCAATATAGG-1', 'cell-GTTCGCTTCGTTAAGC-1', 'cell-AAGTCTATCCAATTAG-4', 'cell-GTCTATGCAACCTAAT-2', 'cell-ACCTGTTGTTTGAGGC-3', 'cell-GATCACTAGCCGCTAA-3', 'cell-TTTGGTGCAATTTAGC-3', 'cell-GAAGGAACAAGGTCGA-3', 'cell-AGAATCGAGCAATAGG-4', 'cell-GAGGCCTTCGATATTG-3', 'cell-AATGCATGTTAGTGAT-4', 'cell-ACGAATCTCTCGACCT-1', 'cell-TACGTAATCAGGTCCA-2', 'cell-CCTGGTAAGGACAACA-2', 'cell-GATCGCTCAGGCGATA-4', 'cell-CCTGTTGGTGGTTCTT-1', 'cell-AATTTCCTCCATAATG-2', 'cell-AGGTAACCAGCTCAAC-3', 'cell-CCAAACCCATGCTATG-4', 'cell-AGTGCGGAGGCACAGG-1', 'cell-GGCCTTAAGCGCCTTT-4', 'cell-ACAACAACAGTGAACG-4', 'cell-AGGATCCGTAATGGCC-4', 'cell-AAGGTCAAGACAAACG-4', 'cell-AACTCACAGCAGGTGG-1', 'cell-CGCCTCATCTTGTCTG-2', 'cell-TACTTCGTCATCGTTT-1', 'cell-TAATGGTGTAAATTGC-3', 'cell-ATCGAGGCACGTTACA-4', 'cell-AGTGTGGCACGAATCC-1', 'cell-TGTATCGCACCTACGG-1', 'cell-CTAAAGCTCTCCTCTT-2', 'cell-ACCGGTTCAGCCGCTA-4', 'cell-GTGTAACTCAATCTCT-4', 'cell-CTTTGGTGTTGTTGGA-4', 'cell-ACAACACTCCGCATGA-4', 'cell-CATAGTCAGGCTTAAC-4', 'cell-GACACCGGTTCACCCA-4', 'cell-TATTAGCCAGCTTAAT-2', 'cell-CATGGCGGTGCACGCA-4', 'cell-ACGTACCCACAGGAAT-2', 'cell-ATTTGCAAGCCTGACA-2', 'cell-AGTGCACGTGATTTGG-4', 'cell-GTAGGAGGTGAATCGC-4', 'cell-GTGCAAGCACTGACTA-2', 'cell-CACGCAATCTCCTCTT-4', 'cell-TCATGCCTCACGTTAA-3', 'cell-GCAAACCGTCCAAGAC-2', 'cell-CTCTATGTCTAAGGTC-1', 'cell-AAGTTTGTCACAGCGC-4', 'cell-CCCTCATAGGGTTATC-3', 'cell-GAGGACTAGAGAGGAG-2', 'cell-TCCATTGTCCCTCACG-2', 'cell-ACAGGAATCGCCTGTT-1', 'cell-ACGAGTAAGCGAGTAA-4', 'cell-AAGCGCTGTGTTGCTT-4', 'cell-AAGGATCCAAAGGTAC-2', 'cell-TGGTCCTTCATCCTCA-4', 'cell-AGGCGGATCCTGATTT-1', 'cell-GCAGGAAGTTTAACGG-1', 'cell-GCATCCTTCCGCAAAT-4', 'cell-ACCACATAGGTCCTAG-2', 'cell-TGAGCACGTGTTTCAC-4', 'cell-TGCTCCGTCGGGATTT-1', 'cell-TACTGACAGGTCCACA-2', 'cell-TCACCGGCATTAGGCC-4', 'cell-AGCACAGCATCATGGC-1', 'cell-CGAACAAAGACACTTA-4', 'cell-ACAGGAATCATTACGA-3', 'cell-ACCCAACCATGAATCT-3', 'cell-GCATGAGCACAGGGAC-4', 'cell-CGAAATGAGCTCCTAC-3', 'cell-GGCAAATCAAAGCGGC-4', 'cell-CCTTGTTCAGTGAACG-4', 'cell-CTTTGGGAGTTGCGTG-4', 'cell-AGGAAACGTAATGACT-4', 'cell-TCATGAGGTTAAGCGC-4', 'cell-GTGGACACAGGCTAAG-1', 'cell-GGAACCACAGTGAACG-4', 'cell-TAGTAACGTTGGATCA-3', 'cell-GCCTACTTCGAAGCGG-3', 'cell-GACGTAAAGCGCATTG-3', 'cell-GCTAACCCAAGCCACT-3', 'cell-CCAGGATGTGAGGTAG-4', 'cell-CTTTCTTGTCACCAAA-3', 'cell-GATCAAGAGTATCGCG-3', 'cell-AGTAAACAGTTGGCCA-4', 'cell-GATCAAGAGCCTGTTC-1', 'cell-AGCTACGTCCTTAAGA-3', 'cell-CCACAGGGTGTGTGGT-3', 'cell-CAATCCCTCTTAGGAC-4', 'cell-TTCGCAACAGGCATGA-3', 'cell-ATAGGTACAAACAACA-4', 'cell-ATTCACTTCAAGCTTA-4', 'cell-TCAGTAATCATTAGTG-3', 'cell-ATCTATGAGGTTTGCG-4', 'cell-CGTATTGCACCTATAG-4', 'cell-GCTCTGTTCAATCATG-4', 'cell-ACCAGGCTCCTCCATA-3', 'cell-TCCTTGCAGCGAGCGA-4', 'cell-AAACCAACACAGCCTG-4', 'cell-CTAAGTCAGCCTGTTC-3', 'cell-TCCTTCAAGCAAGATG-4', 'cell-GGTGAGTAGGAGGTTA-4', 'cell-CTAGTGAGTGCAACTA-4', 'cell-CGCTTAACAACTAGCC-1', 'cell-AGAGATTAGCACTTGG-4', 'cell-GAAGCCTGTTCCTGTG-3', 'cell-GCACGAACATCCTGAA-2', 'cell-CTTGACGAGGGTCCAC-1', 'cell-GGATGTAAGCGGCTGT-3', 'cell-TCCTCTAAGGCATGAA-1', 'cell-TTTGACTTCAGCAAAG-4', 'cell-GCCTTGCGTGATTACG-3', 'cell-AGCCTGGGTGTCCTGC-4', 'cell-TGAACAACAGGCTAGA-1', 'cell-GAGTGAGGTAAGGTCC-3', 'cell-AGCGGATAGCAAGGAC-3', 'cell-CTTGCAACACTCGCTC-1', 'cell-GTAGTTATCACGCATG-4', 'cell-GTGCTGGGTTCGGTAA-2', 'cell-TGGTGATTCAATGTCA-2', 'cell-AGCAAATAGCCTGGTA-4', 'cell-GGTTGCTCAAACGGGC-1', 'cell-AATCCCTGTACCGAAC-4', 'cell-GGGCATGAGGGTGAAC-4', 'cell-AAGGTGCAGCTCCTTA-3', 'cell-GGATTATGTACTTAGG-2', 'cell-CTAGCTGAGTAAACCC-3', 'cell-CTAATCGCACCCTCAC-3', 'cell-GTCCAAGTCCTGATTT-3', 'cell-AGGTTAACACGGTTTA-3', 'cell-CCGTTAACAAATGCCC-4', 'cell-ACCCGTAAGGGACCTC-1', 'cell-GAACCAGCACTGACCG-4', 'cell-CTATGGCCATAAGGAC-4', 'cell-GGTGCTTCAGCACCAT-4', 'cell-GAATTTGTCATCAGTA-2', 'cell-TAGGTTATCCGGGACT-3', 'cell-GATAATCGTCCTTAGT-4', 'cell-GAGGTTAAGCCATCAG-1', 'cell-CAATCGCCAAGGTGGC-4', 'cell-TACTTGTTCTATTGTC-4', 'cell-CGAAGGCCACATACTG-1', 'cell-TGTTAGCAGAGAGCCG-3', 'cell-AATTTGGTCATCCTAT-3', 'cell-AAGCCTTAGTAACAGG-4', 'cell-GCAGGCTTCAACCAAC-1', 'cell-CTAGATTCACGTAATT-2', 'cell-AAGTTTGTCATGCCTC-4', 'cell-CTACAACAGTTCCCGT-1', 'cell-CGTAGCGGTCTAACCT-3', 'cell-GGTGTGACATGTTGCA-2', 'cell-CTTCATCCACAACAAA-4', 'cell-ATACCTGCAACTAGGG-2', 'cell-CGGATAAAGTCACTAA-3', 'cell-CAGGACCTCCTGGTGA-3', 'cell-TCGTTAAAGGTTAGCT-1', 'cell-ATTTGCGCAAGTTATC-3', 'cell-CTTAACAAGGAGTCTT-4', 'cell-TAGTAACGTGAAACAA-1', 'cell-TCAGGAGCAGCCTAAC-2', 'cell-CAATGTCAGGACACTT-2', 'cell-TGATGACTCGGTAACT-4', 'cell-CTTGTAAAGGAAGCTA-1', 'cell-GGAAGTATCCCGCCTA-4', 'cell-CTCCCTGAGAGCCGCT-1', 'cell-CATTGCGAGGTTAGCT-4', 'cell-GCAGGCTTCTACTAAG-3', 'cell-AGCCTGGGTGTTGTAG-4', 'cell-GATTGGCGTTGGATAT-3', 'cell-CTACAACAGCGGATTT-3', 'cell-GCAATCTAGTGAGGGT-2', 'cell-GAGGTGAGTGGATTAT-1', 'cell-GCGATTAGTTGAAGCC-4', 'cell-TTAGGCTAGCTAAAGG-4', 'cell-TAGTAACGTTACAAAC-2', 'cell-ATTTGTGAGTAAGGGC-3', 'cell-TGGCTATAGCTAATTG-1', 'cell-TCTAGCGAGCCTGATG-3', 'cell-AACCGCTCACCACAAC-3', 'cell-TGCATGAGTGTTTGTC-4', 'cell-TCAGCAAGTGAATCGC-3', 'cell-TGCATGAGTCACCTAT-1', 'cell-CGTGGTTCAGGAAGCC-2', 'cell-CAAAGGATCATTAGCA-4', 'cell-AGGTCCGGTGGATGTC-2', 'cell-CACAAGCGTTTGAGGC-4', 'cell-ACACTAGGTCGTAAAT-2', 'cell-TAGTGGCGTCCCGAAG-3', 'cell-AACCGGCTCAGCTAAC-4', 'cell-TGCCGGTAGGAACCAA-1', 'cell-ACTAACCAGTTATCCT-4', 'cell-ACGTTGTAGACAACAG-4', 'cell-TGTAACTCATAATTGC-1', 'cell-GGGTCACTCCGGCTAA-1', 'cell-GTAGGCGAGGCTAATC-3', 'cell-TTGCAGCCAATATACC-4', 'cell-TTAAGGACATCGCTTT-3', 'cell-AAGCCTTAGAACAAGT-4', 'cell-TGAGCTTAGCTTGCTC-3', 'cell-GTTTGTTTCTCCATGC-3', 'cell-TAGGGTTTCAGGCCTA-2', 'cell-GGGTTACGTTCCGGGA-4', 'cell-TCCTTGCAGGAAGCTA-3', 'cell-TCAGCAAGTATTCGCT-3', 'cell-GCGGAACCATTGTGAT-4', 'cell-GATTAGCTCCGCCAAA-4', 'cell-GAGCTGCTCAGGATGA-4', 'cell-CTTCTCAAGCAGCTCA-4', 'cell-TGCCGGTAGGCCGGAA-3', 'cell-TGAGGAGGTAAACAAG-3', 'cell-ATCGGCCAGGTTTGAC-4', 'cell-CCAGACTCACAATGTT-4', 'cell-CAGCCTTTCCCTGGAA-2', 'cell-ATAGGTACAGGATTAA-2', 'cell-CGTAATGGTGATTACG-4', 'cell-TTGCTTTAGGGTTATC-1', 'cell-AAGTGAAGTCCTCCAA-4', 'cell-GAAACTGAGGCATTAC-3', 'cell-ACTCACTGTGAAACAA-3', 'cell-CCGATGCAGGACCTCA-4', 'cell-TGCTCAACATGAGCAG-3', 'cell-GTGCACGGTATGGTGC-4', 'cell-CAATCCCTCCTGGTGA-4', 'cell-TAGGAGGGTTAACGGC-3', 'cell-ACCGGCTAGGAGCACG-4', 'cell-CGATATTCAAGGTGCA-4', 'cell-ATGTAACGTGCTGTAA-2', 'cell-GGCTAGACAAGGTCCT-1', 'cell-CAACAGGCATGCTTAG-4', 'cell-TATCCGGAGCTTAGCG-4', 'cell-ATGGCCGGTAGCTAAT-4', 'cell-ACACTAATCTCCATGC-1', 'cell-ACCAAGTTCCCTCAAC-3', 'cell-TCTGGCTTCCGTTAAA-1', 'cell-GTCATCCTCGCTCACT-4', 'cell-GAACCAAAGTAAGTCC-4', 'cell-CCAGGAACAATAGCAA-3', 'cell-CCTAGTTGTATTCGTC-3', 'cell-ACGCTTGAGGCTGTCA-1', 'cell-CAAACTGGTTGCACGG-2', 'cell-GTTCGCGCATAGCTTG-1', 'cell-GTTTGTAAGCTCGCTT-3', 'cell-CTTTAGGCAGTTAGCC-4', 'cell-TTGGAGGCAAGGACCA-4', 'cell-TACTGACAGTCAATCA-1', 'cell-AGTGTGGCAGCTCAAC-1', 'cell-AAGACCAAGCGCTCAA-4', 'cell-TGAGCAAAGCTGTCAG-4', 'cell-GTTTCAGCATCGTTCT-4', 'cell-ACTTACTTCACTAGGT-1', 'cell-TCATGAGGTGTAATAC-4', 'cell-TTGTCAAAGGGTCTAT-4', 'cell-AATCAGGAGCTATGAC-3', 'cell-CGTGACATCAAGCGCC-3', 'cell-TTCAGCACAAACTAAG-1', 'cell-TGTGTTAAGCAGCTCA-4', 'cell-ACTTATGAGGACCTGC-3', 'cell-AACCGGCTCAATGAGG-4', 'cell-CTAACCTGTTGGCCGA-2', 'cell-CTAACCCTCGTAATCA-3', 'cell-AGTTATGTCCCATAGG-1', 'cell-TTAAGTGTCTCACACC-4', 'cell-GCGGTTGGTTGAAGCC-4', 'cell-TACTGCACACAAGCCT-4', 'cell-CTCATGACAGTCTATG-4', 'cell-ATAGGTACAAGCCAGA-3', 'cell-CCTTATGTCTTGAGGT-4', 'cell-AAGCGCTGTAGTAAGA-3', 'cell-TAGAGCCGTGGGTACT-1', 'cell-CTTCTAAGTCAGGCAT-1', 'cell-TGTTGGCCAGGTCCTG-1', 'cell-CGCACACAGGCGTAAA-3', 'cell-ACAGCGCTCGCATTAA-3', 'cell-TACCTTAGTGGTTAGC-4', 'cell-GGGTCACTCATTCATC-1', 'cell-CGTACGGGTACAATGT-3', 'cell-CTATTCAGTGGTGAGA-1', 'cell-CTAGTGAGTGCATTAG-4', 'cell-TTGTGTGCATAATTGC-4', 'cell-AAGACAAGTGATTACG-3', 'cell-AAGGATCCAAGCTTAT-1', 'cell-GTATTGATCTCCATAT-4', 'cell-CTAATAGTCGATTCTT-4', 'cell-GGTTATATCTGTGCAG-4', 'cell-GACTTAGGTTTACTTG-4', 'cell-ACTTGTCGTTAGGATT-1', 'cell-CCCAAATAGGTTTGCG-2', 'cell-ACTAATCCACCAAAGG-4', 'cell-GGCGGTTTCCTTCGTA-4', 'cell-CAGGACCTCGAGGAGT-2', 'cell-CCAGGATGTTGCGGAT-3', 'cell-TCGATTAAGGCATTAC-1', 'cell-ACTAACCAGCGCAATT-2', 'cell-GAGCTTAGTTTAGCGA-2', 'cell-TCCGCCATCGCCTGTT-3', 'cell-ACCATTAAGTGGCGGA-4', 'cell-GAGGCAAGTTGGTTGA-4', 'cell-ACCAGGGAGTCATTTC-4', 'cell-GGTCAAGCAAACGGGC-2', 'cell-ACCAGGACAATCATGT-4', 'cell-GCTATCCTCTTTGAGA-2', 'cell-CTGCAATAGCAAACCT-3', 'cell-GAAGTGATCCGGAACC-1', 'cell-TCCAGGTCATAGCAGG-3', 'cell-CCTGGTAAGCTTATGA-4', 'cell-TCATAACCATAAGTTC-3', 'cell-GGAACCACATGCATAT-3', 'cell-TCCTGTTCATGAATCT-2', 'cell-ACCAGGACACGTAAGG-4', 'cell-AACCGCTCAATTTGGT-4', 'cell-GAGTCAAAGCTTCCCG-1', 'cell-GTTCACCTCTCTAGCC-2', 'cell-TGTGGAGCAGGCAAGC-4', 'cell-GGCGATACATGACTAT-4', 'cell-AGCGTGCTCGATTTAG-3', 'cell-AGAACAAGTCCTTCTC-4', 'cell-GTATTGTCATTGTGGC-1', 'cell-TGTCATAAGATAAAGC-4', 'cell-ACGTTGTAGCATGGTT-4', 'cell-GGAACCACACACAATT-4', 'cell-CCTTAACGTCGTAAAT-1', 'cell-AGTAACGAGTTTGGTA-1', 'cell-CTGAATATCGCACAAT-2', 'cell-CGTTATCGTCTAACAG-4', 'cell-GACTTAGGTCAGGAAG-4', 'cell-TCTAGCACACGGTACT-4', 'cell-AGGATCCGTGACATGC-4', 'cell-GCGGATACACCGGTAT-4', 'cell-ATCCTCATCAAGGACA-4', 'cell-AGTGAACCATGGCCTG-1', 'cell-CCAGCCTGTCCGGTTC-4', 'cell-AATCCTAAGTGTGATC-4', 'cell-GAGGTACAGGTTTGAC-3', 'cell-GATTACTCACATAGCC-3', 'cell-GCTTTGTGTTTATTCG-3', 'cell-CGTTAGTAGCATGTCG-4', 'cell-CTACAACAGTTATCCT-3', 'cell-GGCTAGTGTTAGACCA-2', 'cell-GATCCGTCATTTAAGC-3', 'cell-GTGTAACTCGCATTAA-4', 'cell-CTTCTAAGTTTCCTCC-1', 'cell-CATCGCTTCACCGGTA-1', 'cell-AACGCCCAGGAGCATA-1', 'cell-GCGCCTTGTCGCGCAA-4', 'cell-GGTGTTGTCCTAAGGT-4', 'cell-GGGCCTAGTTCCTGTG-3', 'cell-AAAGCTTGTTTGGTTC-1', 'cell-TCTTGACGTCAGTAAT-3', 'cell-CCGTTAACACAATGCC-4', 'cell-GCCTTACTCACAGCCA-4', 'cell-AAGCGAGGTTGGTTCT-3', 'cell-TTGTTGTTCGAAGTGA-1', 'cell-GCTGTACCAAGCCAGA-2', 'cell-ACGCACGGTTAGTGAT-3', 'cell-TGCTGGATCCCGTTGT-2', 'cell-ACAGGATCACTCAACA-3', 'cell-GTACTTAAGACACCGC-1', 'cell-GACCTCAAGACTCGCA-4', 'cell-CCTTAACGTCAAGTGC-4', 'cell-TTCGGTACAGGATGGC-1', 'cell-AGTCAAGAGGGACTAA-3', 'cell-CTTGAACAGGCATGTT-4', 'cell-AGCAATTGTGGGAACA-4', 'cell-TTTGTCTAGATGGACA-4', 'cell-GTAATAGCAGTTATGT-3', 'cell-TCCATGCTCTAATTGG-1', 'cell-CGTCCTAGTGCATTTC-4', 'cell-TTGGCTGAGTTATCTC-2', 'cell-ACTCACCTCTGTGCAG-3', 'cell-CAATGTGGTCCGTAGG-3', 'cell-TAGTACGGTTCCAGGG-1', 'cell-AGTATAGCACACAATT-4', 'cell-CGGCAATGTTCGCGCT-3', 'cell-GATTTGCAGTTTGGTA-4', 'cell-TTCAACCGTGAATCGC-1', 'cell-TTTCTCACAACTGGGA-3', 'cell-AAACGTACAGGATGGC-3', 'cell-GTCGAGGAGGAGTCGG-4', 'cell-CTCCTGAGTGAAGCCT-1', 'cell-TGGTCATAGTTGTCTT-4', 'cell-GGACCGAAGCATTATG-1', 'cell-ACGTTGTAGTAGGCGG-2', 'cell-TCCTCACAGTAAGAAC-4', 'cell-GCAGGACCATTAGGCC-3', 'cell-AGACCCGGTGTTGTGA-3', 'cell-GTGCTTCTCATTGTTC-3', 'cell-GCGATTTAGTATTGTG-4', 'cell-CCACACAAGCCTAACG-3', 'cell-CATGGCGGTTAGGACC-4', 'cell-CCCTCATAGGCTACTG-4', 'cell-CGCTTAACATAAGGAC-1', 'cell-TACCTGCTCGTCAAGT-2', 'cell-CTCTAGCTCCCATAAA-4', 'cell-GTCCTCCCATATTGAC-2', 'cell-ACCCAACCAGTTATGT-3', 'cell-GAGTATCTCCCATAGG-2', 'cell-TTTGCGGAGTAACGGA-2', 'cell-CTCTAGCTCAAATCGC-4', 'cell-GCGCTTAAGAAGGTGC-4', 'cell-CTAAGTCAGGTAACGA-4', 'cell-AGCTTAATCGTTATAG-4', 'cell-GCACATTAGTTATCCT-3', 'cell-TTTGCGACATTGTCCT-3', 'cell-AATCTCAAGACTATTG-4', 'cell-ATTCCTCCACGAATCC-3', 'cell-AGGGTTGCAACCTGGT-4', 'cell-CTGTTAAAGCTATATG-4', 'cell-GCGAAGTAGCCTCTCG-3', 'cell-GTTGTGAGTTTCGCGC-4', 'cell-AGGAACGGTAGGTGTC-2', 'cell-GGGCCTAGTGAGCACT-4', 'cell-TGATGACTCTTGCATT-4', 'cell-TCGATTAAGGGACCTC-3', 'cell-TGACTTAAGCGATACT-4', 'cell-TATCCAGCATCATGGC-3', 'cell-GTTGCATAGTTCCTCA-2', 'cell-ACATTGCAGCATTAGC-4', 'cell-GGTTTAATCTGGCATG-2', 'cell-TGTGGAGCAACTAGGG-4', 'cell-GTTTACCGTAGACAAA-4', 'cell-CCCAAATAGTTTGGTA-3', 'cell-GGTAAACCAGGTATTT-1', 'cell-TCGCTAACAAGGACCA-1', 'cell-TTCAGCACAGGATTAA-3', 'cell-GTCCTCCCAATCCTGA-4', 'cell-AATTGGGAGGGATGCG-2', 'cell-GGTAACCGTTTGAGGC-4', 'cell-TACTGAGGTTTGAGGC-2', 'cell-CGGCTCACAACAGCCT-1', 'cell-CACATTAAGGGCCACT-4', 'cell-TGGCCATCACAGCCAT-2', 'cell-GTTCTTAGTGAACAAA-3', 'cell-AGCTACTAGGTCCACA-2', 'cell-GGCAGGATCGGTTCCT-2', 'cell-GTGTCCAAGGTCCGTA-4', 'cell-AATCTCAAGCTTTGGG-4', 'cell-AGCAGGTAGGTCTTGG-4', 'cell-AGAGGAACAGCAAGTG-2', 'cell-GCTTTCATCCGTTATT-4', 'cell-TCGCTAACATCATGGC-2', 'cell-GTGATGAAGTTGTCTT-2', 'cell-CTACTAAAGTAACGGA-4', 'cell-AGCCTAAGTTTAAAGC-3', 'cell-GCAAGTCGTTAGAGCC-4', 'cell-ATTGCACAGGAGCAAC-4', 'cell-TTGTGCGAGGGCTAAA-1', 'cell-CCAAGGCTCGTTAAGC-4', 'cell-ACAGGCTGTCCTAACT-3', 'cell-AAGTCTATCACTAAGC-4', 'cell-CCCTGGACACCTATAG-1', 'cell-ACGTTGTAGTTGGGCC-3', 'cell-GGATGTAAGTAAACCC-3', 'cell-AGCTGCTCATTGCGTA-4', 'cell-TATATCCTCGTTACTT-2', 'cell-GCAATAGAGTAAAGGT-4', 'cell-TCAAGAACAGGACCTT-4', 'cell-CATGAGGCATGAGTTT-1', 'cell-GTGTGTTAGGAGTCGG-3', 'cell-TGCATGAGTCAATAGT-4', 'cell-TTGTCCCAGCTAAGTC-4', 'cell-CCTAAAGGTTTAAAGC-1', 'cell-ATCCCGCGTGGGAACA-4', 'cell-CAACCCGCAAGCGAGC-3', 'cell-TGTTGCACATCGCTTT-4', 'cell-GTAGGATCATGCAACC-4', 'cell-ATGAAGCCAGTTAGCC-4', 'cell-ATTAGTCCAAGTGTTT-4', 'cell-CAGCTAAGTCCTTCAG-3', 'cell-TGGTCCTTCAGCACGC-3', 'cell-CGTATTGCAGGCTTCG-3', 'cell-GTCGCAATCCAAATCA-2', 'cell-TGAGCACGTTAACGGC-1', 'cell-TTAGGCTAGTAAGTGG-3', 'cell-GCTCAACCAATTAAGG-3', 'cell-ACTGAAACAGCTCATA-2', 'cell-GGCAATCGTTTAGTCC-1', 'cell-AAGCCTGTCTAATCCT-3', 'cell-TGGGCCTAGGCTGTGC-1', 'cell-CACAATATCCTGAGTG-4', 'cell-TGCGCAGGTTACTTGC-3', 'cell-ACCTCACTCGGTCAGC-3', 'cell-TCATAACCACTGGCTG-3', 'cell-TTAACTGAGCGAGGTG-3', 'cell-GGACATAAGGACTTAC-4', 'cell-TTTGGTAAGCCAGGTC-1', 'cell-CACCAACCAAACGCGA-2', 'cell-GAACCAAAGGACTTAC-4', 'cell-ACTTGTCGTGTTGTAG-1', 'cell-CTAGGCGGTTCTTTAG-4', 'cell-GTCATGAGTTTGACCT-4', 'cell-AGGATGTCATGATTGT-4', 'cell-GTCATCACAGCAGGTA-3', 'cell-TTAGCAATCTATTGTC-3', 'cell-CAGGTCCAGGAACCAA-4', 'cell-CAATGTCAGCACTTGG-4', 'cell-TGCTTTAGTGGATGTC-3', 'cell-ATACCTGCAACTAACT-3', 'cell-GAGCGAAGTGTTGTGA-4', 'cell-CATGCAAGTTTACCGT-3', 'cell-AGGGCTACAGTTAGCC-4', 'cell-CTTGCAACAATGAGGT-4', 'cell-GTCATCACAAGACTCC-1', 'cell-AGACACGCACAGAAAC-2', 'cell-TTCGGTACACTAAGTT-1', 'cell-CTGCAATAGGACACTT-2', 'cell-CGTGTTACATATAACC-3', 'cell-GAAGTGATCACACAGT-2', 'cell-CTCTTGATCTTGAGCG-4', 'cell-ACCCAACCAGCAAGAT-1', 'cell-TCCGGAATCCTCCATA-4', 'cell-CGTTAGGTCGAGGAGT-1', 'cell-GGATTATGTCCGTAGG-4', 'cell-GAGCTTGTCAGTGAAG-1', 'cell-TGTCAATCACAACAGG-2', 'cell-AAGGTGCAGCCTGACA-3', 'cell-TTAGCAATCCGGCTAA-2', 'cell-GGCAGGATCTGTGCAG-4', 'cell-CTGACATAGTAACGGA-4', 'cell-AAGGATCCAAGTGTTT-4', 'cell-CCAAGTTAGAAAGGAA-1', 'cell-ACAGGTAAGCCTCTCG-1', 'cell-GAGCTAGCAGGCTACT-3', 'cell-TGTTCCTCAAGGAATC-2', 'cell-CCTATTGTCCTAATTC-4', 'cell-GGTAAACCAATAGCCC-3', 'cell-CAAGTAACACCTCACC-3', 'cell-CCTTACTCAACTAGAA-4', 'cell-GCAGGTTGTATTGAGT-4', 'cell-GTGCTTACAATAGCAA-1', 'cell-GATGAGGGTTCGCTTG-3', 'cell-GTATTGCAGCTTTGTT-1', 'cell-AGCAATTGTGGGTGAA-4', 'cell-CGCTATGAGGAGGCAT-3', 'cell-TTGGCTGAGTTAGTTG-2', 'cell-CAAGTTATCCTAAATG-4', 'cell-GACCTCAAGTGAACGA-1', 'cell-GCCAGGAAGGGTCTAT-4', 'cell-GGAAGTATCACTAAGC-4', 'cell-GGCCTTAAGACTTATG-4', 'cell-TCAACAATCAAGCTTA-4', 'cell-AAGCCTTAGGTGTTAC-4', 'cell-CTAATGTCATCAGTAT-4', 'cell-CAATGTGGTTGGCGTG-4', 'cell-CGATTTGCAGAATGAC-3', 'cell-GACCTCAAGCGCATTG-4', 'cell-TTCATCCCAGAATGAC-4', 'cell-CACAGGGAGGCGCTTA-4', 'cell-CGGCTCACATGACTAT-4', 'cell-CGCAATTAGTTGTCCC-4', 'cell-GGCTGGTTCCGGTTAG-3', 'cell-CTGACCAAGCTTCCCG-3', 'cell-CTGCTCCCATAATGTC-3', 'cell-GTGAACAAGGAATAAC-4', 'cell-GATCCGTCATAATGTC-2', 'cell-GTGTGAGCAATGAGGT-3', 'cell-AACTAGTGTCAACAAT-1', 'cell-GGTACTTAGGACCGCT-2', 'cell-TCACCTGGTATTCGTC-4', 'cell-TAAAGCCTCGCTTCTA-1', 'cell-ATGTTCAAGCTTAACA-4', 'cell-TTCAACCGTCACAGAC-4', 'cell-TGGACCGGTTCATCTA-4', 'cell-TCTAGCCTCTCAATTC-4', 'cell-AGGATGCAGCCTTAAA-1', 'cell-AACGACAAGAGAAGGG-3', 'cell-AGTCTTGCAACCTGGT-4', 'cell-GTTTAGCAGCCTGACA-3', 'cell-GCTGCACAGCATCCAG-4', 'cell-ACCGGCTAGTGAGCAA-4', 'cell-ATTGTGATCTTGAGGT-2', 'cell-CCCTAATGTACAAAGA-3', 'cell-CGAGGAAGTTTAGTCC-4', 'cell-GTGCTTACAACAGGAT-4', 'cell-GCCTACTTCAATGTGC-4', 'cell-CGCGGATTCATTGCGG-3', 'cell-CACCTCAGTTGTGACA-4', 'cell-GCCACAATCGACAAAG-4', 'cell-GAGCGAAGTAACGGGA-4', 'cell-AACAAGCCACATACTG-1', 'cell-CTCATCATCAAACACC-3', 'cell-GCTAGTGTCCGGTTAG-3', 'cell-TGGATTCAGCTATGAC-3', 'cell-GCTGGATGTTCGGTAA-3', 'cell-TTCGCAACAGCAAGTG-4', 'cell-TAGCGGACAGTCTATG-2', 'cell-CACTGACCAGGAACTG-3', 'cell-CCGCAAATCGTCATTT-2', 'cell-AATTGACGTGAGGTGA-2', 'cell-GCTTAAATCGGTTACG-3', 'cell-ATCGGCCAGTAACCCG-4', 'cell-ACCGGTTCATAATCCG-3', 'cell-GATTACGGTACTTAGG-4', 'cell-CGCTCCATCTTTAAGG-3', 'cell-TTAAGGTGTTCACTGT-1', 'cell-GCTTAACAGGTGAAGC-1', 'cell-GCGATTTAGTTAGCTA-4', 'cell-CAATGTGGTCTATCGT-4', 'cell-TAATCCGCAAGTTATC-2', 'cell-CAAGTAACAGGTTACC-2', 'cell-TTCAACCGTCAATACG-2', 'cell-GATGACTTCTGGCATG-3', 'cell-GGTGTCCAGTAAGTCC-4', 'cell-TTGTTTGGTACAATGT-1', 'cell-TCCATGCTCGATTTAG-3', 'cell-TTGCAGCCAGCAGGTA-4', 'cell-GCTGTGCAGGTGTTAC-3', 'cell-CGGTTTGAGGGTTAGA-4', 'cell-ACTTCGCTCACGAATC-1', 'cell-CTATGTTTCGCCTAAG-4', 'cell-TATTACCTCAATGTGC-3', 'cell-AAGAACAGTCGAAGTC-3', 'cell-TCAGCCTTCCTGTTCA-3', 'cell-CTTCACTCAATTGAAG-4', 'cell-TGGTGCATCCAGGAAA-4', 'cell-CTTAGGAGTTTCAGGA-4', 'cell-GCGATATTCATGGCTG-3', 'cell-TGGATTCAGGCGTAAA-3', 'cell-ACCTCACTCAAATCGC-3', 'cell-ATTGACTCATCGTTCT-2', 'cell-GGGCCTAGTCATAACG-1', 'cell-GAGTCAAAGGACCGCT-3', 'cell-ACCGCAATCAAATCGC-4', 'cell-GGCCATCAGAATCTCA-2', 'cell-GGTCCTGCATTAGCCA-1', 'cell-CACCTCAGTAATTAGC-3', 'cell-ATTTGTGAGTCAATCA-4', 'cell-ATTGCACAGGACTTAC-4', 'cell-AGTAACACACTAAATC-3', 'cell-AATCGCCCATGTCGCG-4', 'cell-GGATGAATCTAATCTC-3', 'cell-GTTACTAAGCTGAGGG-1', 'cell-TGGATTCAGGTGCGGA-1', 'cell-AGTGGACAGAGGCTAA-3', 'cell-ATGTTCAAGAGGAGGA-4', 'cell-GCAAGTCGTAGTTAAC-1', 'cell-AGACAATAGTGCTGTG-4', 'cell-GATCGAGCAGTTTGGC-3', 'cell-ACTATGTCACGTTACA-3', 'cell-CTTTAGTTCTTCAATC-2', 'cell-GCCTGAGGTTGCACGG-1', 'cell-ACAACAGAGTGAAGTG-4', 'cell-CAGCATGTCGCATTAA-4', 'cell-CCGCTAGCAACAGCCT-4', 'cell-TTCCTCAAGGGTCTAT-3', 'cell-ATTACGTCAGATTCAT-4', 'cell-GTCATCACAAGGGTTG-2', 'cell-TGCTATGCACAACAGG-1', 'cell-ACCTTGTGTCAAGTGC-4', 'cell-GTAATAGCACGTGCTG-4', 'cell-TCTAACTTCCCTGATC-4', 'cell-GCTTTCATCGTGCTTC-4', 'cell-CACATACAGTGTGATC-1', 'cell-CTTTGGGAGCGTGCGT-4', 'cell-ATGTTGTCACCAGGTT-4', 'cell-GCTGCATCAGCCGCTA-3', 'cell-CAACCCTTCCCGCCTA-3', 'cell-TACCTCATCAGGTCCA-4', 'cell-ACCTGGATCAAACACC-2', 'cell-GTGTGCGGTGCTCCGT-1', 'cell-AAAGGACGTTTCCTCC-4', 'cell-TACGCTTGTCTAACAG-3', 'cell-TTGGATTCAGGCTAAG-4', 'cell-GGCGCTAGTGCTCCGT-3', 'cell-CAAGGCCTCTGTAAGC-2', 'cell-TTGACGTAGACAGGCG-4', 'cell-GATTGCGTCGGCTAGC-3', 'cell-AATTACCCAGCAACCT-4', 'cell-TTAAGCCAGAGGAAGG-3', 'cell-ACTAATCCAATTTAGC-3', 'cell-AGCACTTAGCTGTACG-1', 'cell-CTGGTAAGTCCTTCAG-2', 'cell-TAGTGTGGTTGAGGTC-4', 'cell-GCAGGTGAGCGAGCGA-3', 'cell-TCACCTGGTTAGACCA-1', 'cell-TCTCAATTCAACCAAC-2', 'cell-AGCTTAATCCGGAACC-4', 'cell-GCCTGAGGTGATCAGC-4', 'cell-CGCATATAGCTCCTAC-4', 'cell-ATGCAAACAAGACTCC-4', 'cell-AATCATGTCGATCAGT-1', 'cell-TCTTGACGTCCAAGAC-4', 'cell-AGTAATGCACATAGCC-3', 'cell-GTCATGCCAGCAAGGC-4', 'cell-CCAGGATGTTTACTTG-3', 'cell-ACACTTGCAAACCTAT-3', 'cell-CTTTGGTGTTGACTTC-2', 'cell-GGTTTGTAGCTGCACA-4', 'cell-CATGCAAGTCTAACAG-4', 'cell-GGTTATATCGCTCACT-4', 'cell-CGGTTATAGGAGTCGG-3', 'cell-AAGTTAGCAAGCTAAA-3', 'cell-TCGTTATTCATCCTCA-3', 'cell-TCGGTAAGTTCAAGAT-1', 'cell-GCGATTTAGGCAATAG-4', 'cell-GGTAACTTCATGGTTA-2', 'cell-TGCTGGATCCGGAACC-1', 'cell-GGTTAATGTTATAGCG-4', 'cell-ATTAGTCCAAGGTACG-4', 'cell-TGAGTGAAGCTGGCTA-4', 'cell-GAGAACCAGTTCCTCA-3', 'cell-AGAAGGTGTGCTAGAC-4', 'cell-CATCAATCACAGGGAC-4', 'cell-TTGCAATCAAACGCGA-2', 'cell-GTTTGTAAGACAGGTA-1', 'cell-TCTTCAAGTCATCATC-4', 'cell-TCAATCGCATGTCAGC-3', 'cell-ACCACATAGCTCCTAC-4', 'cell-GGTGTTGTCTCAATTC-4', 'cell-TTGTCCCAGCGCAATT-4', 'cell-CATAGGTTCCGCAAAT-2', 'cell-CACCGGTAGTCACTAA-4', 'cell-AGTAGGATCATGCGTG-4', 'cell-GCTAGTGTCCACCTGT-4', 'cell-ACCTTGCTCCCTGATC-1', 'cell-ACGCCTAAGCCTGGTA-2', 'cell-ATAGCATGTTGGATAT-1', 'cell-GAGTGATCAGCCAGTT-4', 'cell-GCGGAACCAACCCTAA-4', 'cell-GCTTAACAGTAGCGGG-2', 'cell-CGCAAATTCTCCATGC-3', 'cell-GCGATTTAGGGATGAC-2', 'cell-CCGGTAGGTTGCGGAT-3', 'cell-CTGTTGGAGGGACTAA-1', 'cell-GGTATGTTCTAAGTGC-2', 'cell-CGATTATCAAGGTGCA-3', 'cell-ATGCTTAAGTGATTCA-1', 'cell-GATGCAGCAGATTCAT-4', 'cell-GCAACAGCATGGCCTG-4', 'cell-GAACACAAGTTCCCGT-3', 'cell-TGTAAGCTCTTGTTCG-4', 'cell-GCAAGCCTCACGAATC-4', 'cell-TTTCTTGCAAACCTTG-2', 'cell-GCTAACAGTTATGTGG-3', 'cell-CCTGATGAGCACTTGG-3', 'cell-ATAGGTACAGGTTAAA-1', 'cell-CCTTCAATCTCACACC-2', 'cell-TGAGGGAGTTAACAGT-3', 'cell-GTCGCAATCGATTATG-3', 'cell-AGCCAGTGTACTTCAC-3', 'cell-ATACCGGTCTCGACCT-1', 'cell-CTTCACTCAAACCTTG-3', 'cell-GAAAGCCAGCACGTTG-1', 'cell-GCTCCTTAGGGCTTAT-1', 'cell-GCTAACCCATTGTGGC-4', 'cell-AGGATATAGCTCCCTG-1', 'cell-GGCCTCTGTTTAACCC-1', 'cell-CGGCTAATCGCTAGCA-1', 'cell-CAACTAATCAAGCGCC-4', 'cell-GGTCATTAGAGCCGCT-4', 'cell-GCATATATCAGAAACG-4', 'cell-CCATATTTCGTTTCTG-4', 'cell-GTTACTCGTCTATCGT-3', 'cell-TACATCAAGTTGGCCA-3', 'cell-GGACCGAAGCGATAAG-1', 'cell-AGCAAGGGTTGGCCGA-4', 'cell-CGCATTTGTTAGCGTA-4', 'cell-GGGATTAAGGCCTAAT-3', 'cell-GGGCATGAGTGTGATC-3', 'cell-ACGCCTTTCCCATAGG-4', 'cell-TCACCTGGTAATGACT-1', 'cell-CTTCTAAGTCTATCGT-3', 'cell-ACCAAGTTCCCATAGG-1', 'cell-CGGAGTCTCGATTTGA-3', 'cell-TGACTTAAGTAGCGGG-4', 'cell-AATTGCTCAGGAATCG-2', 'cell-ACGTACCCACTAAGTT-3', 'cell-CGTGAGGAGCAAGGTA-4', 'cell-CTAGGCGGTGTTTGAG-2', 'cell-CAATATGTCCGGTTAG-4', 'cell-TCGACAAGTCGAAGTC-3', 'cell-AAGACAAGTAACCTAG-4', 'cell-GTAAGCGCATGGCCTG-1', 'cell-GCAATGTTCGCAATCG-1', 'cell-CGGAGCAAGGTACCGC-1', 'cell-TCGCCCATCGCCTGTT-2', 'cell-ATTTAGGTCGCTAGCA-2', 'cell-CAGGTTTAGCATGGTT-3', 'cell-TACTAAGTCCCTGTTA-2', 'cell-GAAGGAACACCCACAG-1', 'cell-CGTCCTAGTGCCTCAC-3', 'cell-TGCTTCCAGGCGCATC-4', 'cell-TGACCAAGTCCACAAA-3', 'cell-GTGCACGGTCATCAAG-4', 'cell-CATCAATCAGCTACGT-2', 'cell-CCCAATTGTCCGGTTC-4', 'cell-GGTTGCATCAGGTTTA-4', 'cell-GTTAAGCTCTGGCAAT-4', 'cell-ACAGCGCTCTAATTGG-4', 'cell-TTCATCCCATTAAAGG-3', 'cell-CATCATGCAATACTGT-4', 'cell-GCAGGCTTCGCTAGAT-3', 'cell-TATGTGATCATTACTC-4', 'cell-GAGCGGTCATGCTATG-2', 'cell-AGTCAAGAGTGTTGCG-2', 'cell-CGGGACAAGCAAGGGT-1', 'cell-ACGTACCCAAACCCTA-2', 'cell-TCATGCCTCTACTAAG-3', 'cell-AAGTTTGTCCTAGTCC-4', 'cell-TCACTGACATTGCGAC-4', 'cell-TTGAGGCGTTAATGAC-3', 'cell-TTTGTGGCATGAATAG-2', 'cell-TACCGTTGTTAGACCA-4', 'cell-CGCATATAGCCACATG-1', 'cell-GTCCTAGAGGGACCTC-3', 'cell-AATTTGGTCATGTCAA-3', 'cell-CAGCTATAGCCATCAG-3', 'cell-TTGTTTGGTTCACCCA-4', 'cell-GCTGACCAGCTGGACC-4', 'cell-CCAGGAACATTAAGTC-3', 'cell-CCATTGTGTGGCTTCC-4', 'cell-TGCTCCGTCCGCTAGA-1', 'cell-TCTAATCTCCATTACT-4', 'cell-AGTAACACATAAGTCT-2', 'cell-AGCATCCCATTAGGTT-4', 'cell-AACAGGATCAGGCTAT-3', 'cell-CTACTAAAGCACTAGT-3', 'cell-ACCAAGTTCGTCAAGT-3', 'cell-GTAATAGCAGTAGGAT-2', 'cell-CCTAAAGGTGGAGCAA-1', 'cell-GGACTAAAGCGAGTAA-2', 'cell-GTCCAAGTCATTATGG-3', 'cell-GTCTTTGTCAAATCGC-3', 'cell-ATGTTCAAGGACACTT-4', 'cell-TTAGTCAAGGGTGAAC-2', 'cell-TTAGGCCCAGACAAAC-2', 'cell-TCTTGTCCATCAGCAC-3', 'cell-TGAACAGAGGTGTTAC-3', 'cell-GACTATTCAACTAACT-4', 'cell-GTCTAACAGGAAGCAC-2', 'cell-TATTCGTTCGAGGAAC-4', 'cell-ATCCACCTCATAGCCG-4', 'cell-CTTCAATTCACGCATG-4', 'cell-ATGCGATTCTCAATTC-4', 'cell-GCCTAATAGCTGTAAC-4', 'cell-CCGTTATGTTGACTTC-4', 'cell-CATTCCTCAGCAGGTA-3', 'cell-ATTCCTCCAGCATGAG-3', 'cell-AAAGGACGTGGATGTC-3', 'cell-GACCGAACATTGTTGG-4', 'cell-TACCGTTGTTACCGGG-4', 'cell-GTAAGCGCAGGCTAGA-1', 'cell-GACCTCAAGGCGGGTA-3', 'cell-CTCCTAATCCGGTTAG-4', 'cell-TCATGCCTCATTCATC-1', 'cell-GCACCTAAGGTTACAC-3', 'cell-AAGCTCCCAATGAGGT-1', 'cell-TCCTTAGTCCTTTACG-2', 'cell-CCTTACTCACGGTTTA-4', 'cell-GGTAAACCAAGGGTTG-4', 'cell-TTGTGAGGTGACATGC-4', 'cell-CGGTGAGAGTCCTTTG-3', 'cell-AGCTATATCCAGGTTG-2', 'cell-GGACGAAGTTTGGGTA-2', 'cell-TTAATCGAGCTCAATA-3', 'cell-AATTTGGTCCTAGTAA-1', 'cell-AGAAGGTGTCATGAGC-4', 'cell-TAATCCGCATCCATCT-3', 'cell-GGTGAGGTCGCATTAA-4', 'cell-TCCTCACAGCCGCAGT-4', 'cell-CATCATAAGACTTATG-4', 'cell-TTCGGTACATAGTCAT-2', 'cell-GCTATTGCAGGACCAA-1', 'cell-GCTTTCATCCTGTTCA-1', 'cell-CTTAAGGGTTGGTTAG-1', 'cell-CGGACCTAGCCGCTTT-1', 'cell-TTAGCAATCAAACCGT-4', 'cell-AGCCGCTAGGAGGCAT-3', 'cell-GAGCGGTCAAGGCCAA-3', 'cell-TGTAAAGCAATGCGCT-4', 'cell-CGTTAGTAGACTTACA-4', 'cell-GTTGCATAGCACCACA-2', 'cell-TGGTCCTTCCCTCGCA-3', 'cell-ATATGGTGTATTCGTC-3', 'cell-ATTACCGCATGCTTAG-4', 'cell-GGAACAATCTTGTCCA-2', 'cell-CTTGCATGTGCCGCAA-4', 'cell-CAAGACAAGCTATGAC-3', 'cell-CAATGTGGTCCTTTAA-4', 'cell-AGTCCTTGTTAACACG-4', 'cell-CGCATGATCGAAGTGA-4', 'cell-GGATGTAAGAACAAGT-1', 'cell-CACATAATCTCCATAT-4', 'cell-CAAGTAACAATTGAGA-2', 'cell-CATGCATAGGCCCAGT-1', 'cell-GTTCATTTCTTGCATT-3', 'cell-GGTCCTGCATTAGGTT-1', 'cell-CGAGCGAAGTTTCCGC-4', 'cell-ACGTTGTAGTAATCCA-2', 'cell-TAGCTAGGTTGGTGAC-3', 'cell-GTTCCTGGTTGAAGCC-1', 'cell-TGTTGTGCAACAGGTG-3', 'cell-AGGACGTAGGAGTCGG-3', 'cell-AGTTTGATCGCCTAAG-3', 'cell-CTTTGGGAGTCAGTAC-1', 'cell-TGCGGTTCATGTCGCG-3', 'cell-GTTGCTGAGCCTTAAA-4', 'cell-TCCTTCAAGGAGCATA-2', 'cell-CCCTCATAGAGGATAT-2', 'cell-TACCTGCTCGGGATTT-4', 'cell-GAGCCTTCAGGTTCAC-4', 'cell-TTTACGCGTCCCGAAG-2', 'cell-CATCATGCAGCAAGGC-4', 'cell-CCTCAGTTCTTTGAGA-4', 'cell-TCCTTCAAGCACAGCC-4', 'cell-GTGTGCGGTCATCAAG-1', 'cell-GTTCGCTTCCCATAGG-4', 'cell-ATTACCGCACAAAGAC-3', 'cell-TATATCCTCCTGAATA-1', 'cell-AGGATTGAGCATTTCT-4', 'cell-TTGTGCGAGGCACAGG-3', 'cell-ATGGTCTAGCCGCTAA-3', 'cell-GCAAGCCTCGAGGTGG-4', 'cell-GGGTGTTGTCATGCAA-3', 'cell-ATTAGGTGTGGGTACT-1', 'cell-GGAATCTTCTTTGAGA-1', 'cell-TCCGGTTTCGGCCAGT-2', 'cell-ATCATGTCATCGCTTT-3', 'cell-ATCGAGGCAGCATGGA-1', 'cell-CGGTGAGAGGGCTTAT-4', 'cell-TCAAACCAGCGAGTAA-4', 'cell-CAACAATGTAGCTAAT-4', 'cell-TATGTGATCATGCTTT-4', 'cell-GTGATCAGTAGACAAA-1', 'cell-CTTCGCGTCATAGACC-3', 'cell-TCCATAAAGGGCTTTG-3', 'cell-GATTTGCAGCCTGTTC-1', 'cell-TCCAGGTCACATAACT-3', 'cell-GATGACTTCTGGCATG-1', 'cell-CATAGACTCTTAATGG-1', 'cell-ATGTCAATCGGTACGC-4', 'cell-TTCGGTACAGGTTCAC-2', 'cell-CACAAGCGTAAATTGC-1', 'cell-GGAAGTATCTTGCATT-2', 'cell-GTATGTTCATGTCAGC-1', 'cell-AAAGGTTAGGCGCTTA-2', 'cell-CGGGACAAGAATCGCT-3', 'cell-GCTTAACAGAGGAAGG-4', 'cell-CTTCAAGCATGCTATG-4', 'cell-CAACAATGTAACGGGA-4', 'cell-CGTTTGGAGCCTGATG-4', 'cell-CTAGTGAGTCCAAGAC-3', 'cell-TTAGCGGTCGTAACGT-4', 'cell-CCGCTAAAGGAAGCTA-3', 'cell-TAGCCTTGTTCCTGTG-3', 'cell-CTGACATAGGATCACT-4', 'cell-TGAAGTGAGTGAGGGT-1', 'cell-GCTAAGAAGGACCTTG-4', 'cell-GGTCATTAGCACGTTG-2', 'cell-AATTGCTCACCAGGTT-2', 'cell-TTCTTAGGTAATTAGC-4', 'cell-GCATCCTTCTTGCAGG-4', 'cell-GCGGGTTTCCCGAACA-3', 'cell-ATATGGTGTCCGCTGT-4', 'cell-GGTTGGTGTACCAGGT-3', 'cell-GAGCATGCAATTTGGT-4', 'cell-CATTGCGAGGAGTCGG-4', 'cell-GTTCATTTCGATCAGT-4', 'cell-TCTAACTTCCGCACAA-3', 'cell-GTACTAATCCTGGTCT-1', 'cell-TATGACATCCTGATTT-4', 'cell-GGCAGGATCCGGCTAA-4', 'cell-TCAATCGCACCCACCT-4', 'cell-TTGATGTCATTGCGGT-3', 'cell-ACTGAAACATAATCGT-3', 'cell-CCAGGAACACTGGCTG-4', 'cell-CTTAACAAGGCACAGG-3', 'cell-ATAGATGCACAGCCAT-4', 'cell-ATTGCGCCATTAAGTC-2', 'cell-TGGCGGTTCGAAGTAG-3', 'cell-ATAACGACAGGCCATT-3', 'cell-TGTTATGAGGGACGCA-3', 'cell-CGCATTTGTGCACGCA-4', 'cell-TCATTACTCACACAGT-3', 'cell-GGCTAGACAGCCAGTT-4', 'cell-TGCTTCCAGTACTGGT-4', 'cell-CTCCTAATCAGGATGA-1', 'cell-CTTGAATCAGGCCAAA-4', 'cell-CTTGCAACATAATTGC-4', 'cell-CCTAAATCATCATGTG-1', 'cell-TCCAGCAAGCAGCTCA-4', 'cell-GTCTAACAGCCGCAAC-3', 'cell-TTCAACCGTCTATCGT-2', 'cell-GAGTATCTCGCTAAGT-3', 'cell-GCTGTAAGTGGGTGAA-3', 'cell-TATGAAGCAACTAGAA-2', 'cell-ACAACACTCCCGCCTA-2', 'cell-ATTGAAGCAGGAAGCC-4', 'cell-ATAGGTACAGGATAAC-3', 'cell-CCTTAGTGTTTATCGC-2', 'cell-CTAAATGTCAACCAAC-4', 'cell-GCAATAGAGGCCCAGT-4', 'cell-TACCGCAAGCGAGTAA-1', 'cell-TAGTAACGTGTTTGCT-2', 'cell-AATTACCCAGCAAGTG-1', 'cell-GTTACTCGTCATGCAA-2', 'cell-CCAGTTTGTTCCGGCT-2', 'cell-CGTGACATCCAAATCA-3', 'cell-AGTAAGTAGACTATTG-2', 'cell-CAAGTAACAGCAGGTA-4', 'cell-TGCCATTGTTGAATCG-4', 'cell-TGTTACTTCACAGGAA-4', 'cell-TTGTCCGGTACGCGCA-3', 'cell-TAGCGGACATGTCAAT-4', 'cell-CCTTCAGGTAACAGGG-2', 'cell-CATAGACTCTTGCTAT-1', 'cell-TGCCATTGTGAAGCCT-4', 'cell-GTATTCAAGACAAACG-2', 'cell-CATGCATAGCTGCACA-4', 'cell-ACTAACTCATAAGTTC-2', 'cell-CAAGGTAAGGGACTAA-4', 'cell-AATACCGGTTATAGCG-3', 'cell-AGGAGCTAGTGAACCT-4', 'cell-GCTCTGTTCGCTCCAT-4', 'cell-GTACTTAAGACAGGTA-2', 'cell-ACGTACCCAACCTAAT-2', 'cell-TCAAACCAGGCCGGAA-3', 'cell-GCTCTGTTCGCTAAAC-3', 'cell-CATTTGTTCCCTCAGT-3', 'cell-TTGCTCTCAGCCTAAC-1', 'cell-TGTGTTAAGGCGCATC-2', 'cell-TAGGAACCAATGAAGC-4', 'cell-TCCTTAGTCTTCAATC-3', 'cell-GGCTAGTGTATTGAGT-4', 'cell-GTATGTTCATGGAGGC-2', 'cell-GCGTAACGTAGCTGGT-3', 'cell-GAACCAAAGCTAAAGG-3', 'cell-ACGTCCAAGCGCTCAA-4', 'cell-ATGTTCAAGGTAGCTT-4', 'cell-CAATATGTCAATAGCC-4', 'cell-GAAGTGATCCCTGGTT-4', 'cell-ATTCCGGAGGGACTAA-4', 'cell-TATCGAGGTTGAGCCG-2', 'cell-GAAGCTAAGCTCCCTG-3', 'cell-GGTTATGGTGTAACCA-3', 'cell-TTTAGGATCCGTAAAC-3', 'cell-CTAATGTCATTGTGGC-3', 'cell-AAGGTCAAGTCTTGAA-4', 'cell-CCCGTTGTCTCACTAT-1', 'cell-CCACAATAGACAGGTA-3', 'cell-CACAAGCGTGGAGCAA-4', 'cell-CCAAGTTAGTATTGGC-4', 'cell-CAAGGCCTCCCTGACT-2', 'cell-GAGGCCTTCCTCATCA-2', 'cell-GAGGTTAAGCCTGGTA-3', 'cell-ACCACATAGTTAGGCT-2', 'cell-GAACCAAAGTTATGTG-4', 'cell-TGTTATGAGGCCCAGT-1', 'cell-ACGCAAGCATTGTGGC-3', 'cell-GTGAGCGAGCAGCTCA-2', 'cell-GTAATAGCACACAATT-2', 'cell-AGTAGGATCGCAAACT-3', 'cell-CTCAATAAGAGAGCCG-2', 'cell-GTACTTAAGCATGCAT-2', 'cell-GATAAGCCAAGGCCAA-4', 'cell-CGTTAACAGGTCGAGG-2', 'cell-GTTAAGCTCACTAAGC-4', 'cell-CGATTTGCAATAATCC-2', 'cell-AGGATGTCAAATGCCC-4', 'cell-GCCTAATAGTAGCGCC-2', 'cell-AGTGCGGAGGCATTAC-4', 'cell-TCCATCATCACATTGA-4', 'cell-GAGGTACAGGCTAATC-4', 'cell-TACCGCAAGCTGGCTA-4', 'cell-CAAACACTCCCTGGTT-4', 'cell-CCGTTACTCGTAACGT-1', 'cell-GCATCCTTCGTTTCCA-3', 'cell-AGCTAACTCTTAGCCC-4', 'cell-CAATCCCTCATTTGTC-4', 'cell-ACCATAATCCTTCTAG-2', 'cell-GTGCTGATCTCAATTC-4', 'cell-GCCAATTAGCCAGTAT-4', 'cell-ATTCCTCCACAAAGAC-1', 'cell-CCTAAGTAGCCTCTCG-4', 'cell-TTAGCTGCACCATATG-3', 'cell-GGCTGTCAGCAGGTGG-3', 'cell-CGAATCTAGGTCGAGG-4', 'cell-TACCTTAGTCATCATC-3', 'cell-TTATGACCATAATCGT-3', 'cell-CGCTTCTAGGCTGTGC-4', 'cell-TTAGGAACACATTGCA-3', 'cell-CTCTCACAGCTATTGA-3', 'cell-GCAAGTGCATTGCGAC-4', 'cell-AGGCAGGTCGATTCTT-4', 'cell-CGGCAATGTGGTTCTT-2', 'cell-ACCTGGATCTCACTAT-1', 'cell-ACACTTAAGACTATTG-4', 'cell-CTTCTAAGTTGGCGTG-4', 'cell-GTGAATCTCAATGAGG-3', 'cell-CGCCACACATCCATCT-4', 'cell-CCGTTGCGTAACAGGG-1', 'cell-GGCGCTAGTAACTACG-3', 'cell-TTTGGTGCATAAGCAA-3', 'cell-CTATGGCCAAGTGTTT-2', 'cell-GGTTGCGGTTTCAGGA-3', 'cell-TAAGCCTAGTAAAGGT-2', 'cell-TGGTGCATCACATTGA-4', 'cell-AGTAATGCATTAGCCA-2', 'cell-TGCCGGTAGCGAGTAA-2', 'cell-CCTGAGTCAAGCTAAA-3', 'cell-TCAGTAATCCAGGAAA-1', 'cell-CGAAGTAAGCTTTGTT-2', 'cell-ACAGCGCTCTATTGTC-1', 'cell-GCGGATACATGAATAG-1', 'cell-TCAGGTCCAATTGAGA-1', 'cell-GCAGGCAAGACAGGTA-4', 'cell-AAGCGTTTCCTAGTTT-3', 'cell-TAATCACCACAACAAA-4', 'cell-CCTTAGTGTGTTGCTT-4', 'cell-CAAACAACACTCGCTC-4', 'cell-ACATTGCAGCGGCTGT-4', 'cell-AAGTTTGTCCATTACT-4', 'cell-GAGAAACGTTAGTTGG-3', 'cell-TAGCGGCTCGTTTCCA-4', 'cell-GCTAAGTTCAATACGC-4', 'cell-CTTGACGAGGCGGGTA-4', 'cell-TTTACGCGTTAATGAC-3', 'cell-CCTTTAGTCTAACTGA-3', 'cell-TTTAGGATCTAACCAA-2', 'cell-GTAAGCAAGGGACCTC-4', 'cell-AGGGTTGCACTGACCG-4', 'cell-TACAACATCGTTAGCG-2', 'cell-CACAGGGAGGCTAATC-4', 'cell-ACGTCCAAGGCATGAA-4', 'cell-CTAGTCGAGTTAACCA-4', 'cell-GGCTGAGAGCACGATT-4', 'cell-CGGTTGGGTTAGCGTA-4', 'cell-TCTAACCGTTACTTCA-3', 'cell-AATGAAGGTGGGTACT-2', 'cell-CTCATTGTCAGGATGA-3', 'cell-AGGTTTATCAGGGCCT-3', 'cell-CCTGTATGTATACTGG-3', 'cell-ATTACGTCACAGGAAT-4', 'cell-GTAAGGTCATTGTGGC-2', 'cell-ATTCATGAGGGCTTTG-4', 'cell-ACCAGGCTCGTTAGTA-4', 'cell-AATGAAGGTGACATAT-2', 'cell-TAGTGGCGTCAATAGT-3', 'cell-AGCCTGGGTAAGCACC-1', 'cell-GTTAAGTGTGACATAT-2', 'cell-GAGTTTGGTGTGTCCC-2', 'cell-GTAGTTTCATCAGCAC-2', 'cell-AATAACCGTCCGCTGT-4', 'cell-TCTTGTCCACAATACT-4', 'cell-CGTTGCAAGGCCATCA-3', 'cell-GTCCTCCCAGCTAATT-4', 'cell-GTATTGATCTGCAACG-4', 'cell-ACAACAGAGCTCATAA-3', 'cell-CATCCCAGTAGGTGTC-4', 'cell-TCCGGTAAGCTCCCTG-2', 'cell-CCACACAAGTTATGTG-1', 'cell-CGATTGAGTTCCAGGG-1', 'cell-CGAACAAAGCTAAAGG-3', 'cell-CGGGTATGTTAACGAT-2', 'cell-GATTGCAGTTAAGCGC-4', 'cell-GGACCGAAGTTATGGC-4', 'cell-CTCCGTCCAACACCTA-4', 'cell-GTAGGTGCATCATGGC-3', 'cell-TAGTGGCGTAACAGGG-1', 'cell-AGCGGATAGATTGAGG-4', 'cell-TGAGCACGTCTTGCAT-1', 'cell-ACACCTTGTCCGTGAG-1', 'cell-ATGGTGCGTGTTTGCT-3', 'cell-GATTAGTGTTTAGCGA-2', 'cell-ACATTAGTCTCCTCTT-4', 'cell-CGGAGTCTCCTGGTGA-3', 'cell-CCGGTTAAGGTTTGCG-4', 'cell-GCAGGCTTCGATTTGA-1', 'cell-CGCAATTAGGATTGAG-1', 'cell-CCTATTTAGCTTACTT-2', 'cell-ACCTGGATCCGTGACA-3', 'cell-ATGTTGTCAACAACAA-3', 'cell-TGCTAGCCACATACTG-2', 'cell-TATAACCCATCACAGC-4', 'cell-GACGCAACATTAGGTT-2', 'cell-AAAGCTTGTCAGTAAT-1', 'cell-TCAATCGCAGCACGAA-4', 'cell-TGTGCGGGTGTGTCCC-4', 'cell-ACGATTCAGAATGACG-1', 'cell-CTTGAATCAAGATTCT-4', 'cell-CCAACCCGTCCTCCAA-2', 'cell-GTTGTTGCAGGCTACT-4', 'cell-AATACCGGTAACCTAG-3', 'cell-CTCCGTCCAGTCTATG-2', 'cell-CGGGACAAGATAAAGC-3', 'cell-GTTAAGTGTTAGCTGA-1', 'cell-TACTGGCCAGGTTACC-3', 'cell-CTATGTTTCGATATTG-4', 'cell-ATGGTCTAGCAGGTTT-3', 'cell-AACCGGCTCCTAAATG-4', 'cell-AAGTGCAAGAGAAGGG-2', 'cell-CTAATTGAGTCATTTC-3', 'cell-GACTCACCAAACGGGC-3', 'cell-CTGTGTGAGTTTGTCT-2', 'cell-TGTAACTCAAGGTGGC-4', 'cell-TCGTTATTCAAACCTA-2', 'cell-AGCATCCCACTCAACA-3', 'cell-AAGTCTATCCCTGACT-3', 'cell-CGCATGATCATGCTCC-4', 'cell-GCGATTAGTTAGTGAT-2', 'cell-TTCAGGTAGTTTCCGC-3', 'cell-AAGACATAGGACCTTG-4', 'cell-ACACTTGCAGTCTAGC-1', 'cell-GTTCCTTCAAGCGATG-2', 'cell-GAGGTACAGTTTGTCT-4', 'cell-TGCTCTCAGGAACCAA-4', 'cell-ACATCAATCTTTGACT-4', 'cell-GATTAGTGTGTCACGG-4', 'cell-CCGACAGGTCCACAAA-3', 'cell-CTTTAGGCACAATGCC-2', 'cell-ACTAATCCAGGAATCG-3', 'cell-TGGATTCAGGCGTAAA-4', 'cell-GCTGCACAGTAAGTGG-2', 'cell-AATCAGGAGGATAAAC-4', 'cell-AGGTGAATCGCCTGTT-4', 'cell-CCAGCTAAGTCGCTAG-4', 'cell-TTCGTGCTCATGCAAC-4', 'cell-CGTTAACAGCTTCTCA-3', 'cell-GGCTATTAGGTGCGGA-4', 'cell-TTTGTGTTCTCAATTC-4', 'cell-AGAAACTAGCAAACCT-4', 'cell-AAAGGACGTTTATCTG-4', 'cell-CTCCGGACAAGGATTA-2', 'cell-GCCTCGACAGAGAGCC-1', 'cell-AGTGAACCATAGCGGA-2', 'cell-CCTTAACGTCGTTACT-3', 'cell-AACTAGTGTTAGGTTG-1', 'cell-ATCATCAAGCCTTAAA-4', 'cell-TCGCTAACAGCCAGAA-4', 'cell-TTTATGGAGACTTACA-4', 'cell-GTGTTACAGATAACCC-1', 'cell-CCTATAGCAGATAGAC-4', 'cell-TTAGCAGGTGTTGTAG-3', 'cell-CGATATTCACACTAAT-4', 'cell-AACCGCTCAGCACGAA-4', 'cell-CTTAAGATCAGGCTAT-4', 'cell-ACCTGTTGTCTAACCT-1', 'cell-CAATGAACAGCTAATT-1', 'cell-GCCATTACAATTGAAG-2', 'cell-TCAATCGCACAGCCAT-2', 'cell-GTCCAAGTCACAGCCA-4', 'cell-CTGCTACTCCACCCTG-4', 'cell-CGCACCACACCTATAG-4', 'cell-TAGCTAGGTCATCAAG-3', 'cell-GTTAGGCGTTCGCTCA-1', 'cell-GATCCGTCAATGCGCT-4', 'cell-AGGCTAAAGACTTACA-3', 'cell-TCATGTTTCAAGCTTA-3', 'cell-ATTGGCTAGTAGCGGG-1', 'cell-GTCAGGCTCAAGTGTC-2', 'cell-CCTCCTCTCCTCATGC-2', 'cell-AAGCTAGAGTGACCTG-2', 'cell-AAGACCAAGTAACGGA-1', 'cell-AGGCTAGCACTGACCG-3', 'cell-GCTAACCCATCAGTAT-3', 'cell-TTGCAACAGGCGCTTA-4', 'cell-CTATTCAGTTCCGGCT-2', 'cell-CGTACGGGTTTCCTCC-4', 'cell-CCAGCCTGTATTGTCC-2', 'cell-GGTTGCATCCATCAGG-3', 'cell-TTATCCTAGCTGTACG-4', 'cell-GGTCAGGAGTTCCCGT-2', 'cell-CCCTGGACAAAGCGCA-4', 'cell-CATCAATCAAGGTGGC-4', 'cell-GAGGGAGCAGGAACTG-4', 'cell-ATTCACTTCAGCAAAG-4', 'cell-TGGACAAAGGGACTAA-1', 'cell-GTAGGTGCAATCCCTT-3', 'cell-CGGATTAGTTACATCC-2', 'cell-AGCACTTAGCTGTCAG-3', 'cell-GCTTTACGTGTCACGG-2', 'cell-CTTGCGCGTCCTTTAA-2', 'cell-ATGGTTATCGGTAACT-1', 'cell-CTCCATCAGGCGAAAC-2', 'cell-GCAGGCAAGCTTAACA-1', 'cell-ACGTCCTTCCCGCATT-4', 'cell-TCAATCGCAGTTTCTC-3', 'cell-AAGCTAGAGCGCAATT-1', 'cell-AGGTATTGTCCAAGAC-3', 'cell-TTCCTCAAGATAGACG-4', 'cell-GTCATTAAGACAGGCG-1', 'cell-GCTCATTGTTGTGATG-4', 'cell-CAAGGCCTCATCAGTA-4', 'cell-GGTAAGGGTCATGAGC-4', 'cell-TGGGCCTAGTAAGGGC-4', 'cell-GGTGAGTAGCCGCAAC-2', 'cell-TTGACATCAACATAAG-4', 'cell-TGATTCAAGTTCCTGC-1', 'cell-AGTAATGCACGTGCTG-3', 'cell-GTCAATATCAAACCTA-4', 'cell-ACCTGGTCAGCAACCT-2', 'cell-GTACGTAGTTTGCGCC-4', 'cell-TTGTCCATCATTGCAA-2', 'cell-CAACCCTTCATTATGG-4', 'cell-CCAACCCGTCACCAAA-4', 'cell-GGTACTTAGTGAGGGT-4', 'cell-TGATTAGTCCATTACT-1', 'cell-CTATGATCATTGGGAG-3', 'cell-CGGTTTGAGTGAACCT-3', 'cell-GGCTAGTGTGCACGCA-3', 'cell-CTTGCAACACAGAACG-4', 'cell-CCTTGTTCATAGGCGA-1', 'cell-GGTTATATCGATTATG-2', 'cell-AAGCTATGTCAGGCAT-4', 'cell-CTTGTTCCACAATGTT-3', 'cell-TAGCTAGGTCATAGAT-1', 'cell-GGCTAGTGTCATCATC-2', 'cell-CTACTTAGTACCTTAC-3', 'cell-ATGACCAGTCCGTAGG-4', 'cell-GATAAAGGTTAGTACG-4', 'cell-TGTGGCCAGGAGGACT-1', 'cell-CAGCTAAGTAATCCCT-2', 'cell-CGGCAATGTTTGGGTA-4', 'cell-GATTACTCATTCCTCG-4', 'cell-GCATTGCCATCCATCT-2', 'cell-TTTAGCTTCCAAATCA-3', 'cell-CCTATTTAGTCACCAG-2', 'cell-CATGAGGCAGCATGTC-1', 'cell-CAGCTAAGTCATGCCC-4', 'cell-CCAACATAGGGTGAAC-3', 'cell-AACAGCAAGCAGGTGG-1', 'cell-GATGCAGCAAAGCTAA-3', 'cell-AGTTGCGTCTTAGTCT-4', 'cell-TTGTAAGTCATTGACA-4', 'cell-CATTGCGAGATAGACG-4', 'cell-TCAGGAGCAAGGTATA-3', 'cell-GCCTGTGCAGCTCATA-1', 'cell-AGGCAGGTCCTGATTT-3', 'cell-CTTGCATGTTCAAGAT-4', 'cell-GGCATGGAGGGTGAAC-3', 'cell-GAAGCTAAGGGACGCA-1', 'cell-CAATGACTCGTCCTTA-3', 'cell-GATCGCTCAGTGAACG-4', 'cell-AATCCTAAGCTATATG-4', 'cell-CTTTGGTGTTAGGCGT-3', 'cell-AGTCGCATCCGTTAAA-3', 'cell-GTAAGGTCAATAACCT-1', 'cell-TGCAGGCTCCTTAGGG-4', 'cell-AGCACTTAGAAGGTGC-2', 'cell-GCTAGCTCAATTAGCT-4', 'cell-TGCTCAACAATGAATG-4', 'cell-TCTCGCCCAGGCGATA-1', 'cell-CATTCATTCAACCAAC-3', 'cell-GTTTCAGCATCCGTAA-1', 'cell-ACATTGCAGGTAGCTT-1', 'cell-CCTATTGTCGCATTAA-4', 'cell-AATCTTGAGCGGATAA-2', 'cell-GCAGGAAGTTCAAGCA-3', 'cell-GGTCGGTTCATGAGCT-3', 'cell-TGCACCTTCAATCTCT-4', 'cell-TATAGCTCAGGCTAGA-4', 'cell-CCTAAAGGTGTCACGG-2', 'cell-GAACCAGCAGCAGGTA-2', 'cell-CAGGGCTTCACCAATA-1', 'cell-GTGCGGTTCTCGACCT-1', 'cell-TAGCTTAAGAGGAGGA-2', 'cell-AATCCATCACAACAGG-2', 'cell-CGCTTCTAGACTAAGG-2', 'cell-GAGCCTTCATGGAGGC-4', 'cell-GAGTGTTTCAAGTGTC-1', 'cell-CCTACTGGTCCTTAGT-3', 'cell-GGCTGAGAGCAGGTTT-2', 'cell-GCTTTGTGTAAATTGC-3', 'cell-CCTGACTTCAATGTGC-4', 'cell-ACTAACCAGTCGCTAG-4', 'cell-ATGAAGCCAGGACCAA-4', 'cell-CGAATCTAGCTCATAA-4', 'cell-GTCATCACACCCACAG-3', 'cell-ATGAAGCCATTGCAGC-3', 'cell-AAGTGTTGTTAACACG-3', 'cell-CTAGTGAGTCACCTAT-3', 'cell-TCGTTAGCATCGTTCT-3', 'cell-AGTACGCGTGGACCTG-3', 'cell-CTGTTAAAGCTTAACA-4', 'cell-TAGGTGCGTATTGGAT-3', 'cell-TTTCTCACACAATTAC-3', 'cell-TATTAGGTCATAGCCG-4', 'cell-TCAGGTCCAGCCTAAC-1', 'cell-TAGCGCGGTAATCGCA-4', 'cell-ATCCGTGAGCCGGTAC-4', 'cell-ACACTAGGTGCTAGCG-1', 'cell-CCCTCAGTCATGGTTA-4', 'cell-TAAACAGCAGGTATTT-3', 'cell-CTAATCCGTAGACAAA-1', 'cell-CTTCATCCACTCAACA-2', 'cell-GCCACACAGCATCCAG-1', 'cell-TTAGGCTAGCGCCTTT-1', 'cell-TTGGCTACATAAGTTC-1', 'cell-TTGACTAAGTAACGAG-1', 'cell-ATTGGCTAGTGATTCA-3', 'cell-CCATAAGGTTGAAGCC-3', 'cell-GTCCTCCCACGCAACT-3', 'cell-GAAACCCGTCCTTTAA-4', 'cell-GACCGTTCATAATCAC-1', 'cell-GCAATCTAGCTAAAGG-3', 'cell-ACCTTGTGTATACTGG-4', 'cell-GAAAGGCTCGTTTCCA-3', 'cell-ACCCAGGGTGAAGCCT-2', 'cell-TGGCTTTGTTACTTGC-4', 'cell-TCAACAATCATGCTTT-3', 'cell-GCTATCCTCCAGGTTG-4', 'cell-CCAACCCGTGTGTGGT-3', 'cell-AAATGGCCAAGTTATC-4', 'cell-TTGCATTTCCACCTGT-4', 'cell-TTTAGCAAGCTTAGTA-4', 'cell-AAGCGCTGTAGTTGGC-4', 'cell-GGTCATTAGACTTACA-4', 'cell-ATGACAACAATTTAGC-4', 'cell-GATCAGGCAGCATTAT-1', 'cell-TGATCACAGAGAGGAG-4', 'cell-GCTCACAAGCCTAACG-4', 'cell-GGTCTTTGTTTACGTC-4', 'cell-TTAGGCCCATTGCAGC-4', 'cell-GTTCATTTCCCATAAA-3', 'cell-TGGGCCTAGCGCCTTT-3', 'cell-CGTTTGGAGGCGAATA-4', 'cell-TTGGTGAGTTCGCTCA-2', 'cell-AGCAACAAGGTTTGCG-2', 'cell-TATGGTCAGGTTAGAG-4', 'cell-GTATCGCCAGGCCATT-3', 'cell-AGCCTGGGTGAGGTGA-2', 'cell-TCATAACCATATTGAC-4', 'cell-ACTATCCGTGTTTCAC-1', 'cell-TCTCCTCGTTTAGTCC-1', 'cell-AAACGTACACTTAACG-4', 'cell-GAGTGAGGTTAACAGT-4', 'cell-CCGTTACTCCCATAGG-3', 'cell-CTGCTCCCAAGATTCT-3', 'cell-TGCTTCATCACTTCAT-3', 'cell-GGATTTATCGATTTGA-4', 'cell-GCCTAATAGTAACGGA-1', 'cell-GCTATCCTCCCTGTTA-1', 'cell-AAAGCACCAATAACCT-4', 'cell-GACTTGGTCTTGACCC-4', 'cell-TGGTAAACAGCAAGGC-4', 'cell-TCCATAAAGAACCTAC-4', 'cell-TTGGGCCAGGTTACGT-4', 'cell-CCGCAAATCAATGTGC-3', 'cell-CTATTGAAGGTCCAAT-3', 'cell-AAGCTAGAGAACCTGT-4', 'cell-ATGGCTGTCCAAGTGT-4', 'cell-GGTCTTTGTTTAGCGA-4', 'cell-ATCTATGAGTTCCTCA-2', 'cell-CCCAGTTTCTTAGTCT-2', 'cell-TCAGCCTTCACCATTT-3', 'cell-ACGAAGTCATCATGTG-4', 'cell-CTAAATGTCACTTTAC-4', 'cell-CTTGCATGTTAGGTTG-3', 'cell-AATTGACGTTAATGCG-3', 'cell-GCCACAATCCACCTTA-2', 'cell-CGGTTATAGCTAAAGG-4', 'cell-AGTGAACCACAAACTT-3', 'cell-GGAACCTGTAGGTTTG-4', 'cell-TTGCTTTAGTTATGTG-2', 'cell-CTAGCTTGTTAGGCTA-2', 'cell-TCATGCCTCCGCCTCA-3', 'cell-TTTACGAAGACTATTG-3', 'cell-AGTCCTGAGGTGCTGC-3', 'cell-GAGCCACTCGATTTGA-1', 'cell-GAAGCTAAGCGGGCAA-3', 'cell-GCCAGGAAGTCTCACC-4', 'cell-ACGAATCTCGCGACAC-1', 'cell-CATCCCAGTAGACAAA-3', 'cell-ATTGGCTAGCGGGCAA-1', 'cell-GCGTAACGTTGGATAT-2', 'cell-GGTGTTGTCGGTTACG-4', 'cell-CGTTAAATCTGGCAAT-4', 'cell-CTGACCAAGCCTGTGA-2', 'cell-TGGTCCTTCAATGTGC-4', 'cell-GGTCTTTGTCAGGAAG-4', 'cell-TCAAGAACAAACTAAG-4', 'cell-GGCCATCAGTCTCACC-4', 'cell-GCTGTACCACCTATAG-3', 'cell-GGTTAGCGTTGCTGGG-2', 'cell-GTTTGTTTCCGCACAA-3', 'cell-CCTATATTCTTGCAGG-2', 'cell-TACGTAATCCTCAGCT-3', 'cell-TTAGACTCATGGCCCA-3', 'cell-TCAACAATCGTTAAGC-4', 'cell-CTCCCTGAGCCTGACA-4', 'cell-CACATTAAGGGTTAGA-4', 'cell-TCAGGTTAGCATGTTA-4', 'cell-CAAGAACCAATACTGT-4', 'cell-GCTTTACGTGAGAAAC-2', 'cell-AAGCCTCCATCCCTCA-1', 'cell-TATCACGCAGTTTACG-4', 'cell-GCCCGTTGTTGACTTC-4', 'cell-GCGTAACGTACGCGCA-1', 'cell-GTAGTTATCATGTGGT-4', 'cell-CTGGTTACAGTAATAG-1', 'cell-TTACGTTTCTCATCAT-2', 'cell-CAACTAATCCGGCTAA-4', 'cell-GCATCCTTCAGAAACG-3', 'cell-GGCCATCAGGAACCAA-4', 'cell-TTAAGGTGTGATGAGG-4', 'cell-AAATCCGGTTGGATCA-4', 'cell-GCAGCCAGTGTGCACG-3', 'cell-CGGAATCGTCACACCC-4', 'cell-CTTCAATTCTTTGTAC-1', 'cell-ATGGTGCGTGTTTGAG-4', 'cell-TATGACATCAAACACC-2', 'cell-AGGATTGAGCTCAATA-3', 'cell-GTTAATGTCAGGGCCT-4', 'cell-TATCCGGAGCCATCAG-2', 'cell-TTGAGGCGTCCTTCAG-4', 'cell-TCTGGCTTCATAACGC-3', 'cell-AGCACTAGTGAATCGC-4', 'cell-ACGTCAAGTGAGCAAG-2', 'cell-AGCTAGTTCCCTTGCG-3', 'cell-GCAGGATAGTTCCCAC-2', 'cell-TCGTAATCATTGTGAT-4', 'cell-GAGGTACAGGCGCTAC-1', 'cell-GTGTTCCTCAAGCTTA-3', 'cell-TAGCGGACAAGCTAAA-4', 'cell-GCTTTGTGTGATGGCT-1', 'cell-CTCTTGATCTAACTGA-4', 'cell-TTACCTGTCGCTCACT-4', 'cell-GCACATTAGCGCTCAA-2', 'cell-CAAACCGTCTTGGACG-3', 'cell-TGGCTAAGTTAGGCGT-4', 'cell-CTGGATGTCCTAATTC-1', 'cell-CAACAGGCAATGAAGC-2', 'cell-CTTCGCGTCATGGCCA-2', 'cell-TCTAACCGTCACAGAC-4', 'cell-ATTCCTCCAATTTGGT-4', 'cell-CAGGATGCATGTCAGC-4', 'cell-TTGTGAGGTTACGCAA-4', 'cell-CAGGTGGAGGTAAGGC-4', 'cell-ATCACACAGCTGGACC-4', 'cell-CGCTAATAGAATCGCT-3', 'cell-GTGAACAAGGCCTTAG-2', 'cell-GATTCGCCACCTAAGC-4', 'cell-TCAGCGATCGAAGTAG-4', 'cell-CAACCCTTCACGCGGT-2', 'cell-CATTGTAAGGCATTGT-4', 'cell-GCTGCACAGGCACAGG-4', 'cell-GCGCGATTCGGTTCCT-2', 'cell-CATGCGCAGGCTAGAA-1', 'cell-CCTCAGTTCTAAATCG-3', 'cell-CGTATTGCATCCCTCA-2', 'cell-CACAATATCACCAATA-3', 'cell-CGCAATTAGGGCCATC-4', 'cell-AGAGAGGAGCAGGCCT-2', 'cell-TCATAACCAGGCCTTG-2', 'cell-AAGTAGCCACTAAGCC-2', 'cell-TTTCAGTTCGCTAGCA-3', 'cell-ACCAAGCGTTGGTGAC-4', 'cell-CGTACGGGTCAAGTGC-3', 'cell-GTCTATGCATTGCGGT-4', 'cell-CGAGCGAAGCAAGATG-3', 'cell-ACAGGCTGTCCGCTGT-4', 'cell-CGATTATCAGCAAGGC-4', 'cell-GATCGAGCAGGCCATT-1', 'cell-CGCAATGTCCTTGCAC-1', 'cell-CGTAACCCACATACTG-3', 'cell-GGTCATTAGCTTCTCA-4', 'cell-GAACTTATCCCTCATA-4', 'cell-GCATATATCGTTTCTG-1', 'cell-CGATTTGCACGAATCC-1', 'cell-GGTTCTTGTCCTTCTC-4', 'cell-TATCGAGGTAGCCTCC-4', 'cell-CCGACAGGTTGTTCAC-3', 'cell-GATCAGTTCATGCATA-4', 'cell-CTCCTAATCTGCAAGT-4', 'cell-AAAGCCGCAGCCAGAA-3', 'cell-TATGGGCGTAACTACG-3', 'cell-ACGCCTTTCATTAGTG-2', 'cell-CGATGTCCAAGGTACG-2', 'cell-GTGGCTTCATCTTGAG-4', 'cell-GCCTTAGAGTAACTCA-1', 'cell-GTAGTTTCAAGTTATC-3', 'cell-AATCTCAAGGAACGCG-3', 'cell-CCAGCTGCACAAGCCT-4', 'cell-ACCCGGTAGTGCACGC-3', 'cell-GGTTGCATCGTTAACA-1', 'cell-GGTTAATGTGGAGCAA-1', 'cell-CCGTTGCGTGAAACAA-4', 'cell-ACATAGCTCCGTAAAC-1', 'cell-ACAGCGCTCATTATGG-4', 'cell-CTATGAGGTAACGTGC-3', 'cell-TCTCACCAGATGGAGC-3', 'cell-TCACCGGCAGCATTAT-3', 'cell-CTAACCCTCATTGCGG-4', 'cell-GTTTCCTCAGCAAGTG-1', 'cell-CCTGGATCAATTATGC-2', 'cell-AAACGTACAAGGAATC-4', 'cell-CGGAGTCTCTTTGACT-3', 'cell-TATGCATCATGCTATG-3', 'cell-CCTATAGCAGGCGAGT-2', 'cell-ATTGTGATCACAGACT-4', 'cell-TTCATCCCAGTTTGGC-4', 'cell-ACCAGGACACCTAAGC-4', 'cell-CATAGTCAGGTGCTGC-2', 'cell-CTGTTCATCCTCCATA-3', 'cell-AAGCGGGTCCAGGGAG-4', 'cell-AAGCCACGTCCTAATC-3', 'cell-AAGCCTCCATTAAGCT-2', 'cell-TGCATGAGTTAGGATT-4', 'cell-GAGGACTAGTATCGCG-2', 'cell-AATCATGTCATAACTG-4', 'cell-GGTTATGGTACCGAAC-3', 'cell-AGCTTCCTCAATTACG-4', 'cell-GGTTAGCGTAATCGGC-1', 'cell-TGAGGGCCAGGCTTCG-2', 'cell-CGGTTATAGTAGCCAT-4', 'cell-GTTTGCTGTTCACCCA-3', 'cell-CACTAAGGTGCTTTAC-4', 'cell-GTACTAATCGGTTACG-3', 'cell-TCATTGCGTGAGGTAG-4', 'cell-ATTAGGTGTCATCATC-3', 'cell-ATGTCATCATCGTTCT-3', 'cell-CGCATTTGTCGCAAAC-4', 'cell-GGTGAGGTCACTAGGT-2', 'cell-CTGGACCAGATGCCTG-3', 'cell-GATTGATGTTAGGTTG-3', 'cell-CATCCTCAGGAGCAAC-1', 'cell-TTTGCGACACCTGTAA-3', 'cell-GCTGATCCAGGGAGCT-4', 'cell-TTACCTGTCAATGACC-4', 'cell-CCGCCAACAGCTACGT-3', 'cell-TTGCACACATAGCTGC-1', 'cell-AAAGCACCAGGAATCG-3', 'cell-TATCACGCAATGAGGT-4', 'cell-TGTTCCTCATGACTAT-1', 'cell-CGCTGTGCAGCAAGAT-3', 'cell-CCGTTATGTTACGCGG-1', 'cell-CGCTTAACATCACAGC-1', 'cell-GGTTTGTAGGTTTGAC-4', 'cell-TCTCGCCCAGAAACGT-2', 'cell-GCAGCAACAGTTTACG-4', 'cell-GTGCGGTTCCCGAACA-4', 'cell-AGCCGGTTCCAATTAG-4', 'cell-TCTACCTCAGACAAAC-3', 'cell-CGCTAATAGTTTGGTA-3', 'cell-TGGCGGTTCCCGTTAC-3', 'cell-GCTGTAAGTTAGCAGC-4', 'cell-TCTAACTTCTTGGATA-1', 'cell-GTTAAGTGTAACCACA-1', 'cell-CACGCTAAGACAAGTG-3', 'cell-CTTTAGGCAATTAGCT-2', 'cell-GGCGCTAGTTCAAGAT-1', 'cell-GAGTATCTCCTGGTGA-3', 'cell-GGAATCTTCAGGTCCA-1', 'cell-TGCTATGCAAGGACCA-1', 'cell-TAGGTTGGTACGTTTC-4', 'cell-TGTGGCTCACATAGCC-4', 'cell-GCGCTTAAGGACCTTG-4', 'cell-GTCCATTGTCATGCAA-2', 'cell-AGCCTAAGTAACTACG-3', 'cell-GAAGTATAGGGACTAA-3', 'cell-AATCATGTCAAACTCA-1', 'cell-GAGCTAGCATCGCTTT-1', 'cell-GTTGCATAGACAACGA-4', 'cell-GAGTTACTCTGTTGCC-3', 'cell-AGTGGACAGGGACCTC-4', 'cell-CCGTGCTGTAATCGCA-4', 'cell-CGCAAATTCGCTAAGT-4', 'cell-CCAGCTAAGGTTACGT-4', 'cell-TACTTCGTCTGTAATG-1', 'cell-AAAGCACCAACAGCCT-2', 'cell-TCTAATCTCAGCCAAT-3', 'cell-TAAGCTATCCCGTTAC-3', 'cell-GGTACTAGTCTAACAG-3', 'cell-CTGTATTTCTTTAAGG-3', 'cell-GTCAATATCAATGACC-4', 'cell-ACAGTATGTGTCCAAA-4', 'cell-GTTGTTGCAGTAAGTA-3', 'cell-CCTAAAGGTAGGTTAT-4', 'cell-CGAACAAAGCTCATAA-4', 'cell-TGCTTCATCAGGCTAT-4', 'cell-CTGCTCCCAACTGGCT-4', 'cell-GGGCAATAGTCACTCC-4', 'cell-CCTGTATGTGGTTCTT-2', 'cell-GGTTGAGCAAGCCAGA-1', 'cell-TTGAGCTAGTTTAACG-1', 'cell-GATTACTCAACTAGAA-4', 'cell-CAGGGCTTCCAAGTGT-2', 'cell-ATTGCGCCAGAGGGAG-3', 'cell-AGTAACGAGCTGGAAA-4', 'cell-CACAAGCGTACCTTAC-3', 'cell-TTAAGGACATGTTTGG-3', 'cell-CTTTGGTGTTTACCGT-4', 'cell-ACACTTAAGTTATGGC-4', 'cell-TTCCCGCCATGTCGCG-3', 'cell-CATGAGGCAGAACCGA-4', 'cell-TCTTGACGTTATAGCG-3', 'cell-TCAAGAACAATATACC-3', 'cell-GAGGTTAAGGCCCAGT-1', 'cell-AACCTCACAAGGTCCT-2', 'cell-TCGGTAAGTGTCACGG-3', 'cell-GAGTATCTCTGTAAGC-4', 'cell-TGAGGCACATCGCTTT-4', 'cell-ATTCGTTTCCTTCTAG-4', 'cell-ACAGCCGGTCGTAAAT-2', 'cell-GACCTTTGTACAAAGA-3', 'cell-CAAGAACCAGGCTTCG-2', 'cell-CCACATTGTCACAGAC-4', 'cell-TTGGGCGGTAACGGGA-4', 'cell-TTCGTTAGTCATCAAG-3', 'cell-ACTTATCTCTAACTGA-2', 'cell-CGCCTCATCGATTCTT-3', 'cell-CGCGGATTCACAGCGC-2', 'cell-GGGCAATAGACAAGTG-2', 'cell-TTCATTCAGTTTGGGT-2', 'cell-AGTACGCGTAGGTTTG-2', 'cell-GACCTAAGTTAGGACC-4', 'cell-CGTTAGTAGTTCCCGT-1', 'cell-AATCTCAAGGCCTTAG-3', 'cell-TCAAGAACAAATATCC-2', 'cell-GTCGAGGAGCTTTGTT-4', 'cell-ATGCCTGAGGTTACGT-4', 'cell-TTGATGTCAAGGTATA-3', 'cell-CTCTCACAGCACGTTG-3', 'cell-TCTAACCGTGATTTGG-4', 'cell-CTGGTAAGTAATGGCC-1', 'cell-GACCTGCAGAACAAGT-3', 'cell-TCTCAAGCAACCCTCC-1', 'cell-CTGTACCTCGATAACC-4', 'cell-GAAAGCCAGTTAGACC-3', 'cell-TTTGCATTCTCACTAT-3', 'cell-TCGGTAAGTTAACGAT-4', 'cell-CGCTTACTCCTTCGTA-3', 'cell-GAACCTGTCACAGACT-4', 'cell-CCTGTATGTACCTTAC-1', 'cell-CCCGTTGTCGATAACC-3', 'cell-CAGCAAGCATGACTAT-3', 'cell-GGTCAATTCCCTTGCG-3', 'cell-CCTGGTAAGTCACCTC-4', 'cell-AATTGACGTCAACAAT-4', 'cell-TTACAGCAGACAACAG-3', 'cell-TAGGCTGTCGGGCCAT-3', 'cell-AGCCTGGGTTTAACCC-3', 'cell-ACGACTTAGCACAGAA-4', 'cell-ACTAGGCGTAATGACT-4', 'cell-GTCGAAGCAGTAAAGC-4', 'cell-GTTTAGCAGTAGGATG-4', 'cell-ACAGGAATCATCGTTT-4', 'cell-ATTCCTCCATCATGGC-2', 'cell-AAAGGCTCAACACCTA-2', 'cell-AGTGAACCATCATGTG-1', 'cell-TTAAGTGTCCTAGTTT-3', 'cell-GTCTAATCAGGCGAGT-3', 'cell-CAAGGTTTCGATCAGT-4', 'cell-GCCAGGTTCTGCAAGT-3', 'cell-GACCTGCAGATAACCC-2', 'cell-ATGTAAGCATAGACCC-3', 'cell-GGCAGGATCATTGTTC-4', 'cell-TAGACCAGTGTTTGCT-2', 'cell-CAAGCTAGTTGTCATC-3', 'cell-CTGGTAAGTGATTACG-3', 'cell-GTAGGATCAGCCAGTT-4', 'cell-GGTTACCCAGTTATCG-3', 'cell-ACAACAACAGGTTAAA-3', 'cell-AGGAGCTAGCGCCTTT-4', 'cell-CCATCATGTCCGTAGG-4', 'cell-GCCATGATCGGTCAGC-1', 'cell-ACTAACCAGCCACAAT-1', 'cell-TAGGTGCGTGAAGCCT-1', 'cell-TATAGCTCAGAAATTG-1', 'cell-CGTATTGCACGTTACA-3', 'cell-CGGTTATAGGCATGAA-4', 'cell-ACCTTGCTCATTACTC-4', 'cell-CGTTTGGAGGACCTTG-3', 'cell-GTTACCTGTTAGGCTA-1', 'cell-TGTGCGCAGTTTAACG-1', 'cell-TCCCGTTAGCACCACA-3', 'cell-AGCAACAAGGTGAAGC-4', 'cell-CAGGTGGAGCCTCTCG-4', 'cell-TTGTGCGAGTTAGAGG-3', 'cell-ACAGCGCTCTTCAATC-3', 'cell-GCATCCTTCCTAAATG-3', 'cell-CTCGCTCCAATTAGGA-3', 'cell-TGCACTTGTTGCTTCG-3', 'cell-CCTTCAATCACGCCAA-3', 'cell-TGCTTAAAGCTTAGCG-3', 'cell-TTGGGTTAGCATTAGC-2', 'cell-ATAAGTCGTAATCGTG-4', 'cell-ACCAAACTCATAACCA-4', 'cell-ATGGCCGGTGGATTAT-2', 'cell-GGCCTAATCCGCCTAT-4', 'cell-CGTAGTTAGGCGAATA-3', 'cell-GGCAAATCAAGATTCT-2', 'cell-CGCATATAGGTAACGA-4', 'cell-AGTTGCGTCATGCTAA-4', 'cell-CCGCAAATCCGCAAGC-1', 'cell-TGCTTAAAGGGACGCA-1', 'cell-TTTGACCGTCATTACC-4', 'cell-CTCACACTCTACCTGC-3', 'cell-AGCATTTCATCGTTCT-3', 'cell-AGGCTAGCAAACCCTA-2', 'cell-CTTTCTTGTCGACTAA-4', 'cell-TACAGCTAGCGATAAG-4', 'cell-GGTGAGTAGCTTAGTA-1', 'cell-ATGACCAGTGTTAAAC-2', 'cell-GGTAAGGGTAGCTAAT-4', 'cell-AAGTTAGCAGAAATGC-3', 'cell-GACCGTTCAGAGGGAG-4', 'cell-AGGATTGAGCATTATG-1', 'cell-GGTCCGTAGACTAAGG-2', 'cell-CGCCTGTGTACTGAAT-3', 'cell-TATGGTCAGTGATTCA-2', 'cell-GAGTAATAGCCATCAG-4', 'cell-TGACCAAGTCGCGCAA-4', 'cell-ACTCCTCAGGAACCGG-1', 'cell-CATCATAAGGCCCAGT-1', 'cell-ATTGGTTCACATTGCA-1', 'cell-ACCCGGTAGGTAAGGC-4', 'cell-CTGCAATAGTTAGTTG-4', 'cell-CTTACTAGTAACGTGC-4', 'cell-GACACCGGTGCATTAG-4', 'cell-AGAAACTAGCCACAAT-4', 'cell-GAGCTAGCAGAGAGCC-4', 'cell-GCAGGAAGTTTGGCTT-4', 'cell-ATAGGTACAGCACGAA-4', 'cell-ATGCAAACAGTAGGTG-4', 'cell-CTAAATGTCCTAAGGT-3', 'cell-ATGTAAGCACTGGCCA-1', 'cell-AGGTTTGGTGCGCGTA-3', 'cell-CGCAATGTCATTCATC-4', 'cell-CCGCCAACACCTGGTG-1', 'cell-CAAACACTCCGGTTGA-2', 'cell-TTAACCAAGGCTTAAC-2', 'cell-CTATTACTCGAGGTGG-4', 'cell-GTTCTTGTCAATTACG-2', 'cell-TTTGACCGTACCCACC-3', 'cell-CAAGTATGTCGCGCAA-3', 'cell-AGCTAGTTCATGGCCA-3', 'cell-AGGTATTGTTGCGCGA-4', 'cell-CGCTTCTAGGCTGTCA-3', 'cell-GACTATTCATGTTTGG-4', 'cell-CGTATTGCAATTAACC-2', 'cell-CCCTGGACATCAGTAT-1', 'cell-CGTAATGGTCAATACG-1', 'cell-CCGCTTAGTTGTAAAC-2', 'cell-TCGCTAACATTTGCTC-4', 'cell-TCGTTATTCGGCTAGC-4', 'cell-GGTTAATGTAGCTAGC-2', 'cell-AATGTCCAGCTTTGTT-2', 'cell-TAGGCTTAGTGCACGC-3', 'cell-AGTCCTGAGCCTAACG-2', 'cell-CCTGTATGTTGTCATC-1', 'cell-GGATGGCCAGGTTAAA-3', 'cell-ACGTTACAGTAGGATG-4', 'cell-TAAACAGCATTGTGCA-1', 'cell-CGGTGAACAACTGGCT-1', 'cell-TTGCCCGTCGCAAACT-4', 'cell-TGGACCGGTAGCTAGC-4', 'cell-TTTCAGTTCAGTTCCC-3', 'cell-GACGCAACAAGTTATC-4', 'cell-CAAACTGGTTTGCAGA-4', 'cell-TAGGTTGGTCCTTCAG-4', 'cell-ATTGGTTCAAACCTTG-3', 'cell-CGAAGCCTCCCGAAGC-2', 'cell-TTTAAGGTCATTATGG-3', 'cell-GGTATTTCAACTCGCG-4', 'cell-CCTAATAAGAAGCTAG-2', 'cell-AAGACCAAGTTAGGCT-4', 'cell-TTGTCAAAGGAGCACG-4', 'cell-TACCAAATCACTCGCT-3', 'cell-AGTCAGGCATAAGCAA-3', 'cell-ATCAAGACAGAACCGA-3', 'cell-ACCTACCTCGGCTAGC-1', 'cell-TCTGTGACATCCTAGA-4', 'cell-CCCTCAGTCGGTTAGT-4', 'cell-GCAAACAAGCCAGTAT-3', 'cell-GCTGCATCAGTAAAGC-1', 'cell-AGAAACCCAATTAACC-4', 'cell-CGGTTATAGTTGTCCC-3', 'cell-AACGACAAGGATCCGC-3', 'cell-ACTCACTGTAAGCTTG-4', 'cell-CCTGTATGTCCAAGAC-1', 'cell-AAGCTCCCAATGCCTA-4', 'cell-ACACTAGGTAGCTGGT-1', 'cell-CTTACCTCATAAGGAC-2', 'cell-TAGGTTGGTCCCGAAG-3', 'cell-TATCCAGCAGAAATTG-4', 'cell-ACGGTTAGTTAACGGC-4', 'cell-TGCATTAAGGTCGATT-4', 'cell-TAAGTAGCATTGCGGT-1', 'cell-GAGGTACAGGTAGCTT-2', 'cell-CTTAACAAGCGATACT-4', 'cell-CTACTTAGTGGACCTG-4', 'cell-AATTGCCAGGGCTTAT-1', 'cell-GTCATGCCACAATTAC-1', 'cell-ATTACTGAGCAGGTTT-2', 'cell-ATAACGACAGCAAGGC-4', 'cell-GATTGTTCACCAGCAT-3', 'cell-GACCTTTGTGGAAGGC-2', 'cell-CGCTAATAGCGCATTG-3', 'cell-AACAAAGGTGTAACCA-2', 'cell-TTGCTCTCACAAGCCT-4', 'cell-CAGCTATAGCACAGAA-2', 'cell-GTTTGTTTCGTTAGCG-4', 'cell-TGAGGCACATCATGTG-3', 'cell-AGAACCGCACAGAACG-1', 'cell-GACTTGGTCGCTAGTG-1', 'cell-CGGCAATGTCTAACCT-4', 'cell-GGTAAGGGTACCAGGT-2', 'cell-AAGCCACGTTGTGACA-4', 'cell-ACCATAATCGAGCAAA-4', 'cell-AGCGGACCATTGGGAG-4', 'cell-TGGACTAGTGATGAAA-4', 'cell-ACCAGGCTCGGGACCT-1', 'cell-CGCATGATCCAAACAC-3', 'cell-CTGGTTACACTAAGTT-4', 'cell-GTTAGACTCGGTTAGT-2', 'cell-CTAAGGTTCAGGGCCT-3', 'cell-GGACGAAGTCATGAGC-4', 'cell-TTGGGTTAGGCATTGT-4', 'cell-GCGAAGTAGTAAGTGG-4', 'cell-GAGTCAAAGTAGCGCC-2', 'cell-ATTACTGAGGACCTCA-4', 'cell-ACGTCAAGTCCTTCAG-4', 'cell-TCTGGCTTCATGAAGG-4', 'cell-CAGGGCTTCAATCTCT-2', 'cell-AATTGCTCAATTAACC-4', 'cell-TTGTTTGGTTTGGTTC-2', 'cell-ACGCAAGCAAGATTCT-1', 'cell-TGTTATGAGCACGATT-4', 'cell-TACAGCTAGGATGATG-1', 'cell-GTGCTGATCACACAGT-1', 'cell-GCGGATACAGGAAGCC-4', 'cell-GTAGTTATCAATAGCC-4', 'cell-TTAAGTGTCCCTCTAA-1', 'cell-TAAACAGCACTTCATC-3', 'cell-ACTATGTCACTTCACT-4', 'cell-TGTGCGCAGGTCTTGG-4', 'cell-GGCCTTAAGCGATAGA-4', 'cell-GGTTAATGTGGTGAGA-4', 'cell-TCCGGTTTCAATACGC-4', 'cell-ACAACAGAGTCACTAA-4', 'cell-GATAATCGTCATTACC-4', 'cell-CTTAGGAGTTCAAGCA-4', 'cell-TGGCCTTTCTTAATGG-1', 'cell-CTCTAAGCAACTAACT-3', 'cell-AATAGCTGTTATTGCC-4', 'cell-AATACCGGTAAGGTTT-4', 'cell-AGAACCAAGTGAAGTG-4', 'cell-CATAGTCAGAAAGCAT-4', 'cell-ACGTCAAGTATTGTCC-3', 'cell-ATTTGCAAGTCATCCC-3', 'cell-GACACCGGTGTTGCTT-4', 'cell-GCTGGATGTGAGCAAG-4', 'cell-ACGTACCCATCGTTCT-4', 'cell-ACGAATCTCCTAATTC-2', 'cell-TCTGGCTTCCCTGTTA-3', 'cell-GTTGCGGGTCACCAAA-3', 'cell-TCAAGTATCTGGCATG-4', 'cell-ACGCAAGCAATTAGCT-3', 'cell-CTGTTCATCACTTTAC-4', 'cell-CATTATCTCACATTGA-2', 'cell-AATTCGTCAAGCTACC-4', 'cell-TGAGTGAAGCGAGGTG-4', 'cell-GTTAAGCTCCCTCATA-1', 'cell-TTGGATATCAAGTGAG-2', 'cell-GCTAGCGGTTGCGCGA-4', 'cell-TTGTAAGTCCAACTGG-4', 'cell-CAGGTTTAGCAAGATG-3', 'cell-TGAGGTGCAAACATAG-3', 'cell-AAACCAACATGTCAGC-1', 'cell-GGTCATTAGCTATGAC-3', 'cell-TACGGTTAGTGAGCGG-1', 'cell-GAGGCTACACCGGTAT-1', 'cell-GGGCAATAGCTAATCA-3', 'cell-GGGAATATCGATTTAG-3', 'cell-CATTATCTCCGCATGA-3', 'cell-CCTGAATAGACAAAGT-3', 'cell-TCTTCAAGTTAGTACG-4', 'cell-AATTGCTCAGCTACGT-1', 'cell-TATCCGGAGTTAGCCG-4', 'cell-GCAGCAACAAGCTACC-3', 'cell-GGCGGTTTCATTAGCA-4', 'cell-AGGTCAAAGGTCGAGG-3', 'cell-TTCCACGGTTTACTTG-1', 'cell-AAGTTAGCATGTTGCA-3', 'cell-TTTAAGCCACGGTTTA-3', 'cell-GATGCAGCATAGCTTG-2', 'cell-GGCATTGTCACGCCAA-2', 'cell-AGTTACATCTTGCTAT-1', 'cell-CGTGTTACATAATGTC-2', 'cell-CCGCCAACAGAGGCTA-4', 'cell-CGCCTCATCCACCTGT-4', 'cell-TTTCGTCCACCAGGTT-4', 'cell-AATTAGGCAAATGCCC-3', 'cell-CTACTTAGTTTGTGGA-3', 'cell-TCGTTTCCATCTAGCA-4', 'cell-CACCGGTAGTGAGCAA-4', 'cell-GCTGACCAGTAATCCA-3', 'cell-GCGTGCTAGCGGATTT-2', 'cell-TACTCAAAGAATCGCT-1', 'cell-ACGCCACAGGTCCTGA-3', 'cell-CCTAAAGGTTGGTGAC-4', 'cell-GGGCATTGTAAATTGC-4', 'cell-GAAGGATGTTAGGTGC-3', 'cell-CCTAAGCCACCTGTAA-4', 'cell-TGCTTCCAGCCTGTTC-4', 'cell-GGCAGGATCAGCCAAT-4', 'cell-GTCTATCGTTGGTTCT-3', 'cell-ATTATCCTCGTTCACC-1', 'cell-AGTTACATCTCGCCTG-4', 'cell-GAGGCCTTCGAGGTGG-3', 'cell-AATAACCGTGCTTTAC-2', 'cell-CACTTTGTCTAATCAG-2', 'cell-CCCTGTTAGCACGTTG-1', 'cell-GCTATAGGTCAACAAT-4', 'cell-GTTGCATAGTGCTGTG-3', 'cell-TTGTCCCAGCCGCAAC-4', 'cell-TTTGACCGTTCGGTAA-4', 'cell-GTCTATGCATAGACTT-3', 'cell-GGTTCTTGTACCGAAC-3', 'cell-CTGCTATGTTGTAAAC-4', 'cell-ACTAACCAGTTAGCCG-3', 'cell-TTCCTTGAGGAAGTAT-3', 'cell-TGTAACTCAGGCCATT-3', 'cell-ATTAGTCCAACCTAAT-3', 'cell-GTCCTCAGTGGATGTC-1', 'cell-AGTTGGCGTACCCACC-4', 'cell-TTAGAAGCAACTCGCG-4', 'cell-CTAGCGGGTGTTTGCT-3', 'cell-ATTACCGCAGGCCAAA-3', 'cell-GCAGGAAGTTTGGCGG-1', 'cell-AGCGCCTAGACACTTA-1', 'cell-GATCACTAGTCAGGCC-3', 'cell-CCCTCACCAGTTTACG-1', 'cell-CCGGTTAAGCATGTCG-3', 'cell-GGCATTAGTAGGTTAT-4', 'cell-TCAACAATCCTCGATC-1', 'cell-ATTACGTCACCTCAGG-3', 'cell-TGTTATGAGGGACGCA-4', 'cell-CATAGACTCAACCAAC-1', 'cell-CATCAATCACTTACAG-4', 'cell-GCGCTAGGTGGACCTG-3', 'cell-ATGCAGGCACTTGTTC-3', 'cell-GAGCCACTCCGCAAAT-4', 'cell-AAAGCTTGTTTAGTCC-3', 'cell-ATGTTGTCATGAATAG-4', 'cell-ACGCTTGAGCAATAGG-4', 'cell-CATGAGGCACTCGCTC-2', 'cell-GAGCTTAGTTATAGCG-2', 'cell-ATGTAACGTTTAGCTC-2', 'cell-GCTTCGCGTCTTGCAT-3', 'cell-CTATTCAGTAGGTTAT-4', 'cell-ATGCATTCAATTAGCT-3', 'cell-ACGCACGGTCTCAGCC-3', 'cell-ATCTATGAGGGACCTC-3', 'cell-CTGTTAAAGGACTTAC-4', 'cell-TATCCAGCATGGAGGC-2', 'cell-CCTTTAGTCCTTGCAC-3', 'cell-CTTCTCAAGGATCACT-1', 'cell-GACCGAACAACCTAAT-4', 'cell-CGTAATGGTATTGAGT-3', 'cell-GCACGAACAACCTAAT-2', 'cell-TTAATCGAGCTATTGA-4', 'cell-GGACGAAGTTAGGCGT-2', 'cell-CGGAGTCTCAATGACC-3', 'cell-ATTCACTTCACTAAGC-3', 'cell-CGAAGCCTCCAGGAAA-2', 'cell-AAGTAGCCAGGAACCA-3', 'cell-GATTTGCAGGAAGCTA-2', 'cell-CAGTACCCATGTTTGG-4', 'cell-CAGCTCAAGTTGGGCC-3', 'cell-TATAACCCATCTTGAG-2', 'cell-AATTGTGTCGGCTAGC-1', 'cell-ACTTGCACAGTTAGCC-3', 'cell-GGTCCGTAGCTGCACA-3', 'cell-TAATGCATCCTCACTA-4', 'cell-TTGTCCATCTCTAGCC-1', 'cell-CTTTGAGCAGCACCAT-4', 'cell-ATCTATGAGTATTGCA-2', 'cell-GTACACCCATCCTGAA-4', 'cell-AAACAGCCATCATGGC-3', 'cell-ACTTGTAAGACTATTG-2', 'cell-GAGCTTGTCATTGCGG-3', 'cell-AACATTGTCTTACTCG-4', 'cell-ATATAGGCAGATTCAT-3', 'cell-GACCTGATCAGGGCCT-4', 'cell-CCTTACTCACATACTG-3', 'cell-TCTTTGTAGGAGGTTA-3', 'cell-GGCCTCTGTAGCAGCT-4', 'cell-ACTAAAGCAATCTCTC-4', 'cell-CAATAGCTCTTGTTCG-3', 'cell-GGAACCACAAGACTCC-4', 'cell-TCAAGGTTCACGCATG-4', 'cell-CTCCAAACATTTAAGC-4', 'cell-ATTCATGAGTAGGCGG-4', 'cell-CTCTAAGCAGATAGAC-1', 'cell-CCTTCAGGTTCCGGCT-1', 'cell-CAGGCTGGTGTAACCA-1', 'cell-TGCATGAGTCTAACAG-2', 'cell-CTCATCATCCTACCTA-4', 'cell-ACAGGTAAGCGGCTGT-4', 'cell-TCCATTGTCTATGACA-1', 'cell-GTGTTACAGGCTATGT-3', 'cell-AATCATGTCGTTTCTG-4', 'cell-ATCCAACAGCTTCTCA-4', 'cell-GTCTTGCTCCCTGATC-2', 'cell-GCATTAGGTGATTACG-1', 'cell-CGCTGTGCAGTTAGCC-1', 'cell-ACGAAGTCAGCCAGTT-4', 'cell-CTCTTGATCCTTGAGG-4', 'cell-GTTGTTGCATCGCTTT-1', 'cell-TCGGTTACACGTAAGG-1', 'cell-TGTGAAACATGCTTAG-2', 'cell-GCCTTTATCCCGCAAA-3', 'cell-GCGTAACGTCCACAAA-2', 'cell-CTCTAAGCAGCATTAT-3', 'cell-CCTTCAGGTGGTTCTT-3', 'cell-TACGTACAGGCTGTGC-4', 'cell-TTGTCCCAGTTAGGCT-2', 'cell-ACGTCAAGTGCACGCA-4', 'cell-CCGTTTGGTGAAGCCT-4', 'cell-AGATGCTTCCTGTTCA-3', 'cell-AGTTGGCGTGACATGC-3', 'cell-GGTGAGCCAATAGCCC-2', 'cell-AGGGTTGCAGGCATCT-4', 'cell-TTCAGTTTCGTGCTTC-4', 'cell-CTCTAAGCAAACCCTA-1', 'cell-ATAGATGCAGCAAGGC-4', 'cell-TGATGACTCCCTTGCG-3', 'cell-CAGCCTAAGCTCCTTA-3', 'cell-GCGATATTCTAAATCG-3', 'cell-ATTTGCGCAGAGGGAG-1', 'cell-CGACTAAGTTGTGATG-3', 'cell-ATGTCATCATGGAGGC-1', 'cell-TACCTGCTCCTCCTAA-1', 'cell-CAAACACTCACATTGA-2', 'cell-AACCTTGCAACTGGCT-4', 'cell-TCTCAATTCCCTCGCA-4', 'cell-GATTCAATCTTAGCGG-4', 'cell-GGTAGGAGTAAGGTTT-3', 'cell-CTTGTCCAGAAGCTAG-2', 'cell-CTAAGGTTCAATGAGG-3', 'cell-CTAATCGCAGGCGATA-1', 'cell-ATCACCCTCCTAGTCC-4', 'cell-GGAATCTTCCATCAGG-3', 'cell-TACAAGCTCCCGAAGC-4', 'cell-GCGATTTAGGCTGTGC-1', 'cell-TCAGCCTTCATTCATC-4', 'cell-CTGCAATAGACAACAG-2', 'cell-GACTCACCAGTACCGT-4', 'cell-GTAGGCGAGTGAGAGC-1', 'cell-CGGTAACGTGATCAGC-1', 'cell-GCGGTTATCATCAGTA-4', 'cell-GTGTTCCTCCAGGGAG-3', 'cell-TCTACCTCAGCACGAA-1', 'cell-TTGTCAAAGCCTGTTC-4', 'cell-ACGAATCTCCAAGTGT-3', 'cell-TCAGTGAGTTAGTGAT-4', 'cell-TGTTATGAGGAGTCGG-3', 'cell-GATCAAGAGTCAATCA-3', 'cell-GACTAATGTATTGGAT-3', 'cell-TCATGCCTCTTGTCTG-1', 'cell-TACCCGGCACTTCATC-1', 'cell-GTAGGTGCAGATTCAT-4', 'cell-ACAACACTCGGTCAGC-3', 'cell-CGCGGATTCATTGACA-3', 'cell-TTTAAGGTCTTTAGGA-2', 'cell-TTGGGCGGTTACTAGG-4', 'cell-CTGTGTGAGCCTGGTA-3', 'cell-GCCTTACTCGGTTTCC-3', 'cell-AAAGCCCGTGGTTATG-4', 'cell-GATGACTTCATCCTCA-4', 'cell-CGTGACATCCTAAGGT-3', 'cell-CGCCACACAGTTTCTC-4', 'cell-AATCTCAAGCCTGGTA-3', 'cell-TGCATCCTCCGTTAAA-3', 'cell-CAGTACCCAAGTTATC-3', 'cell-TTGCAACAGCACAGAA-4', 'cell-TGCCATTGTGGATGTC-4', 'cell-GATCGCTCATTAGGCC-3', 'cell-CGAAGGCCAGGCTAAG-4', 'cell-GATGCTTAGGTAGCTT-3', 'cell-GTTCTTGTCAATGACC-4', 'cell-CATAGTCAGGCACAGG-4', 'cell-CTTCAGGAGGAATAAC-4', 'cell-TATATCCTCACTAGGT-1', 'cell-CAGGAAGGTTTAGTCC-2', 'cell-GTCCTCAGTCGCAAAC-2', 'cell-GCCCAAATCTAATCTC-4', 'cell-TGGTTCTGTACCAGGT-3', 'cell-GATTCAATCTGTGAGT-3', 'cell-GTACGTAGTGCATCGG-3', 'cell-TTTATGGAGTCACGAT-4', 'cell-GGTTGCGGTTTACCGT-3', 'cell-ACGGGAAGTTCCATTA-4', 'cell-GATAACGAGCTCCTAC-3', 'cell-TAGGCTGTCGTTCACC-4', 'cell-CAATAAGCATATAACC-4', 'cell-CTTTCTTGTTGTAAAC-1', 'cell-ATGCTTAAGCTTACTT-2', 'cell-TCTAGCGAGAGAGGAG-4', 'cell-TATCCGGAGCTAAGTC-4', 'cell-AACCGCTCACTGGCCA-4', 'cell-ACACTAGGTAAACAAG-2', 'cell-CTGAATATCGATTTGA-4', 'cell-GACCGAACATAATGAG-4', 'cell-GAGGGAGCAGGTTACC-4', 'cell-CCTTAACGTCAATACG-3', 'cell-AAGACATAGGAAGCAC-4', 'cell-AATGCATGTATTGTGG-3', 'cell-GTTACGTAGCCTGTGA-4', 'cell-GTAGTTTCACCAGGTT-2', 'cell-CATCACACATAAAGCA-4', 'cell-GAGAACCAGCTGGACC-2', 'cell-GTTACAGGTACTGAAT-3', 'cell-ATGGTCTAGATAAAGC-2', 'cell-TGGCTATAGAGAAGGG-4', 'cell-ACAGGATCACAAGCCT-1', 'cell-GGTACTTAGCCGGTAC-4', 'cell-CTGGATGTCATAATCG-3', 'cell-ACACAATGTAACGTGC-3', 'cell-AGGAACCAGGACCTTG-4', 'cell-GGAGTCTGTCGCGCAA-4', 'cell-TGGCCTGCATAGACTT-3', 'cell-TGGCTTTGTACGCGCA-1', 'cell-CAGCAAGCATAATTGC-1', 'cell-TATCACGCACATGCTA-3', 'cell-GCTTTATTCGAAGTAG-4', 'cell-GCTAATATCAGGCTAT-1', 'cell-CTACGAAGTGATGGCT-4', 'cell-AGTCGCATCGGGCCAT-1', 'cell-ACCACACCACTAAGTT-4', 'cell-CGCAATCCAGGCGAGT-4', 'cell-GTGTCCAAGGCCTAAT-1', 'cell-ACGTTACAGGAGTCTT-1', 'cell-CCAAACCCACCATATG-2', 'cell-CGGACCTAGTATGTGC-1', 'cell-TTGGATATCCGCCTCA-3', 'cell-CCATCACTCATGGCTG-4', 'cell-GGAGCATAGCATGCAT-2', 'cell-GGTCCTGCAACTAACT-1', 'cell-GAAGCTAAGGATCACT-1', 'cell-GGTCGGTTCCTGGTGA-1', 'cell-TCCATATTCCCTGTTA-2', 'cell-ACGAATCTCCGTCCAT-4', 'cell-AATCAGGAGCCGCAGT-3', 'cell-CAATGTCAGCTGTAAC-4', 'cell-CATTTGTTCAATCTAG-4', 'cell-GGTATTTCATAATCGT-2', 'cell-GAACGAATCATCCACC-3', 'cell-GTTCTCATCCCTCGCA-4', 'cell-TCACGGATCAAATCGC-1', 'cell-GAAGCTAAGGATCCGC-3', 'cell-ACTTACTTCTTAGCCC-4', 'cell-GTTACGTAGTAATCCA-3', 'cell-GACTTGGTCATCGTTT-2', 'cell-GCCTAATAGCAAGACA-4', 'cell-GGCAAATCACAAAGGT-4', 'cell-CGGAATCGTCTTACTA-4', 'cell-GCCTTTATCTAATTGG-1', 'cell-CATCCTCAGACTCGCA-4', 'cell-TCTAATCTCCTAAGTA-3', 'cell-CTTGTTCCACAATTAC-4', 'cell-GTGCACGGTGTCCAAA-1', 'cell-TTGCGAGTCGCTCCAT-4', 'cell-CTAGATTCATTGCGAC-4', 'cell-CGTATTGCACCTGTAA-1', 'cell-ACCCGGTAGTCATTTC-3', 'cell-TGCTTGTGTCTAACCT-4', 'cell-AGTTTGCAGGCACAGG-4', 'cell-CTATGACAGAGGGACT-3', 'cell-ATCCGTGAGAGAAGGG-3', 'cell-TTGTCCATCACCGGTA-4', 'cell-TTATCCGTCTCACTAT-2', 'cell-ATGAAGCCACCCACCT-1', 'cell-TAGCTTAAGCGGGCAA-1', 'cell-CAACCCTTCTTGCTAT-1', 'cell-CAGGTGGAGCTGTACG-4', 'cell-TTCCCGCCAACCCTAA-4', 'cell-ATTCACTTCTCACACC-4', 'cell-CTGTTCATCGAGCTAT-4', 'cell-GGACCTCAGACACTTA-4', 'cell-GATTACTCAATTGAGA-1', 'cell-TTACACCGTTAAGCGC-4', 'cell-GCTGATCCACCCACCT-3', 'cell-AATCTCAAGCCGCAAC-3', 'cell-GTTACAGGTTTATTCG-1', 'cell-AGTAGGATCGCAATCG-4', 'cell-ATTTAGCCAGAACCGA-4', 'cell-CGATTATCAGGTTAAA-3', 'cell-GGATTGCGTTATCGAG-3', 'cell-TTTAACGAGGACTTAC-3', 'cell-GGTGTTGTCGCCTAAG-3', 'cell-TACCGAAGTATGGTGC-1', 'cell-TGAGCTTAGCCTGAGC-2', 'cell-TCAATCGCACCTGCCT-3', 'cell-CTACTAAAGGATGATG-4', 'cell-ATTGTCCGTTCCTCCT-3', 'cell-GGTGATTTCTGCAAGT-4', 'cell-ATTCCGGAGCATGTCG-3', 'cell-CGCACCACAGTTAAAG-4', 'cell-GGGTGTTGTGCACGCA-3', 'cell-TATCGCACATGTTGTG-2', 'cell-TATGTGATCCTTCTAG-4', 'cell-ATGAATGCATTGTCCT-3', 'cell-ACCTTCCAGGAACCGG-1', 'cell-GACACCGGTTATCCTA-3', 'cell-TTGGGTTAGAAAGGAA-4', 'cell-GCTTTATTCGTTACAA-3', 'cell-ACTTACAAGGAACCAA-4', 'cell-GGTATGTTCAGAAACG-4', 'cell-TAGCGGACAGCATGGA-1', 'cell-TGGCTATAGCGAGCGA-1', 'cell-TTACAGCAGCACGATT-2', 'cell-TCCTTGCAGGCTTAGT-3', 'cell-CCGCCAACAGGTTCAC-4', 'cell-AAGGATGTCCTTGCGT-1', 'cell-GCTCAACCAAGGTACG-1', 'cell-AGTAACGAGGAGTCTT-4', 'cell-TCCAGGTCATATTGAC-4', 'cell-GATCAGGCAATTAAGG-2', 'cell-CCACAGGGTAGCTGCG-2', 'cell-GCCTTAACAGCATTAT-2', 'cell-TTGTCCGGTCCGTGAG-2', 'cell-GAAGTATAGCAAACCT-4', 'cell-CTCGCTCCAATGCCTA-4', 'cell-CAAACCGTCAAACTCA-1', 'cell-CCCAGCACATTAGGCC-3', 'cell-GCCTGAGGTTGCGCGA-1', 'cell-TGAGAACCAGCAACCT-4', 'cell-GTATGTTCATAAAGCA-1', 'cell-CGTTTCTCATAATCGT-3', 'cell-ATTATCCTCGCCTGTT-3', 'cell-GCTTCGCGTTGCTGGG-3', 'cell-AGGGTTGCACGAATCC-2', 'cell-CAAAGGATCCAAGTTA-4', 'cell-AAGCCACGTAATCGCA-3', 'cell-CACAGGGAGCTCCTTA-4', 'cell-GCTTTACGTAGGTTTG-4', 'cell-TGAGGTGCATGCTATG-3', 'cell-CAGGCTGGTGTGAGAG-2', 'cell-CTAGTCGAGCACTTGG-4', 'cell-TGGACGGAGGTCGAGG-4', 'cell-GATTCCTGTATTGAGT-3', 'cell-ATCCAACAGGTTACAC-3', 'cell-TGAGGGAGTTGGCCGA-1', 'cell-TAGTGTGGTCACCTAT-4', 'cell-ACTTTGTTCAATGTCA-1', 'cell-TAGCTAGGTGGTGAGA-1', 'cell-ACACTTGCAGGCTAGA-3', 'cell-AGCTACTAGTAATCCA-3', 'cell-CGGACCTAGGCAGGTG-4', 'cell-TGGTTCTGTAAGCTCA-2', 'cell-TGGACAAAGCAAGGGT-3', 'cell-GCCCATAAGCGATAAG-3', 'cell-GTGCTCAAGGTTACAC-3', 'cell-GCTTTATTCATTAGTG-4', 'cell-GGACCGAAGGAAGCTA-3', 'cell-TGAGGTGCAATCCTAG-4', 'cell-CTTTGGTGTCAAGTGC-1', 'cell-GATTCATCACAGGATG-4', 'cell-GACCTAGTCCTAGTCC-4', 'cell-TAGTGTGGTCGACTAA-2', 'cell-AGCTACTAGTCATTAG-4', 'cell-ACGAGTAAGGTCCTGA-2', 'cell-GGTATGTTCCATTACT-4', 'cell-TCGCTAACACCTGCTC-3', 'cell-CTAATCTTCTTAGCGG-4', 'cell-GGCAATCGTTCAAGCA-3', 'cell-AGCGGACCAACAGCCT-3', 'cell-ATTCCGGAGGGTTAGA-4', 'cell-GTGGTTAGTTAGCGTA-4', 'cell-GCTCTGGCAGGCTTCG-2', 'cell-ATGCAAACAGCAAGGC-3', 'cell-GGACAGCCATCCATCT-2', 'cell-CCTTTAGTCATAATCG-3', 'cell-GGATGGCCACCATATG-4', 'cell-CATGCGCAGCTTATGA-1', 'cell-AGGCTAGCAAACTAAG-4', 'cell-GGCTCAATCCTGGCTT-2', 'cell-GGCTCACAGTTATCCT-1', 'cell-CCAGACTCAGGAATCG-3', 'cell-TTAGACTCAAACGGGC-3', 'cell-AGCCTGGGTGTTGCAA-3', 'cell-GTCCTAGAGGCCGGAA-4', 'cell-ACCTACCTCGTAATCA-4', 'cell-CTTTCTTGTAAGCTTG-3', 'cell-CGTTAACAGTTAGTTG-1', 'cell-ACGAAGTCAGTAAAGC-3', 'cell-ACCTGGTCAATTAGCT-4', 'cell-GTGAATCTCGGTCAAT-4', 'cell-TATTCGTTCCTCGATC-2', 'cell-AGTAATGCATTATGGT-3', 'cell-ACCGAAGCATGGTTAT-4', 'cell-GTTTATCTCACGTTAA-4', 'cell-AACAGGATCCAAGTGT-1', 'cell-GGAGCATAGCAAGATG-4', 'cell-CTCTAGCTCACGCATG-1', 'cell-GCAGGTTGTCATCAAG-2', 'cell-CCCAATTGTGCTTTAC-3', 'cell-CATCCTGGTGTTGCAA-4', 'cell-TGCAGGCTCGGGACTC-4', 'cell-GTGCTCCGTCCTCCAA-4', 'cell-CTGAAACTCCACCTTA-1', 'cell-GCTGAGGAGCCATCAG-4', 'cell-AACCTAATCTCGACCT-1', 'cell-GGGTCAACAAGCGATG-4', 'cell-CTAATCCGTCCTAATC-4', 'cell-GAGATAAGTAAGGTCC-4', 'cell-AGGAGCTAGGGACTAA-3', 'cell-GGAAGTATCAGCAAAG-1', 'cell-TTGTCAAAGGCGAAAC-4', 'cell-TGATCACAGCTCAATA-3', 'cell-AACCTTGCAGTAATAG-3', 'cell-ATCCTGACAAGTGAAC-3', 'cell-AAGTTTGTCGTCAAGT-1', 'cell-GTCCTCCCACATGCTA-3', 'cell-CCAGGATGTTGCAATG-4', 'cell-GCCTATTGTTGGATAT-3', 'cell-CATTCCTCACAGGAAT-4', 'cell-TTAGGCGTCTAATCTC-4', 'cell-ACCGGTTCATTCCTCG-4', 'cell-GACTCACCAATCCCTT-1', 'cell-AATCCTAAGATAGACG-4', 'cell-TCAAACCAGGAAGCAC-1', 'cell-ACGTCAAGTGACCTGG-1', 'cell-AATCAGGAGCTTAGTA-4', 'cell-TTTAAGCCAATTAAGG-3', 'cell-TCAAGCTAGGTCCACA-4', 'cell-GGTCAATTCTAATTGG-1', 'cell-ACTATCCGTTTGAGCA-4', 'cell-AAGCTTGGTTTACCGT-4', 'cell-TACGGTTAGCACAGCC-1', 'cell-GATCAGTTCAAGCTTA-4', 'cell-GTACTAATCGCATTAA-3', 'cell-CATCGCTTCGGTTTCC-3', 'cell-GATCCGTCATCGCTTT-4', 'cell-GGATGGCCATAAGGAC-2', 'cell-AAGTAGCCAGGGAGCT-4', 'cell-TACTGACAGAATCTCA-1', 'cell-GTTTGCTGTTTGGCTT-4', 'cell-AGTCAGGCAAATTCGT-3', 'cell-ACAGCGCTCTTTGTAC-4', 'cell-GAGGCCTTCTAAGTGC-4', 'cell-CTAATGTCACAGAAAC-4', 'cell-TCAGCGATCCCTGATC-4', 'cell-GTTAGACTCACTAAGC-3', 'cell-ATGCAGGCAAGGTGCA-3', 'cell-ACCCTCCCACTTCATC-3', 'cell-TTTGGCTGTATACTGG-4', 'cell-CTTGGACCAGGCTTGT-2', 'cell-AACCTCACACTAGGTC-3', 'cell-CGGACCTAGGTCCTGA-4', 'cell-TCCAGGATCCAAGTGT-1', 'cell-CTCGCTAGTACTTAGG-3', 'cell-CTTTATGGTAACGTGC-3', 'cell-CGTGACATCCCTGTTA-1', 'cell-TATGTGATCATCCTAT-4', 'cell-CACAATATCGTGCCTT-3', 'cell-AGCGGACCACATTGCA-3', 'cell-GAAGGCTAGTTATCCT-4', 'cell-CATAGGTTCTTGGACG-3', 'cell-CGAAGCCTCCTCAGCT-4', 'cell-GTCTTTGTCATTAGGC-4', 'cell-AACCTAATCACGCCAA-4', 'cell-TAGGCTGTCTTGCAGG-3', 'cell-TCACCGGCAGCAACAG-3', 'cell-TACTTCGTCGTTACAA-4', 'cell-GTGGTTAGTTACGCGG-4', 'cell-AGAAGGTGTTGTGACA-3', 'cell-GCTTTATTCGCTAGAT-4', 'cell-ACTAACTCATTAAGCT-4', 'cell-GGTTTCCTCCGCATGA-1', 'cell-TTTCCACCAGTAGGTG-3', 'cell-TCTAGCGAGTCGCTAG-1', 'cell-TCAATCGCACCAGCAT-3', 'cell-TTTGTGGCATTTGCTC-4', 'cell-ATATGCTCACTGACCG-4', 'cell-GGACGGATCATCCTCA-4', 'cell-CGTGTTACAAGGTACG-3', 'cell-GTACTTAAGGGTCCAC-4', 'cell-TATCGCACATCCTGAA-3', 'cell-CGATTCCTCTGTAAGC-3', 'cell-GAACTTATCCGGGACT-1', 'cell-TCAGTGAGTACGGTAC-3', 'cell-GATCGCTCACAAAGCG-1', 'cell-AAAGCTTGTAAAGCAA-4', 'cell-ATTAACCCAGGTTAAA-4', 'cell-ATTTGCGCAAGGTGGC-4', 'cell-CCGCTAGCAACTAGGG-4', 'cell-CAGGGTGAGGTTACGT-2', 'cell-GGGTTTGTCTTGCTAT-4', 'cell-GTACACCCAAGCCACT-2', 'cell-GATTGGCGTGGTTAGC-3', 'cell-AGGAACCAGCAACATC-2', 'cell-CTTTGTCCAAGTAAGC-4', 'cell-TGGCTAAGTGCTGTAA-4', 'cell-TGTAAGCTCCCTCGCA-2', 'cell-TTGCGAGTCAGCATTA-1', 'cell-TTTGTGAAGCACTTGG-3', 'cell-AATCTTGAGTAGCGCC-4', 'cell-GCCAGGAAGACAACGA-1', 'cell-CTGTATTTCGCCTAAG-2', 'cell-CTGTATTTCTTGACCC-4', 'cell-ACTTAGTCAATATGGA-4', 'cell-CCAAGTTAGTTTGGTA-4', 'cell-TCCTCAATCAACCAAC-4', 'cell-CTTCACTCACCTGGTG-4', 'cell-CGGTGAACAACACCTA-4', 'cell-GTTCGCGCATGAATCT-3', 'cell-TATCGCACATATTGAC-4', 'cell-TGGATTCAGTTATTCC-2', 'cell-ATAGATGCATATAACC-4', 'cell-CATATCGCATAATCGT-1', 'cell-AACCCGCAGGCATGAA-4', 'cell-CACCAACCAACGTGCT-3', 'cell-TGCATGAGTTGTTGGA-4', 'cell-AGGTCAAAGTCACCAG-3', 'cell-GCGATATTCTTGCAGG-4', 'cell-GCTAAGTTCACTAGGT-2', 'cell-AGCATCCCAGGCGAGT-2', 'cell-GCGCAATGTGATGGCT-3', 'cell-TACTCAAAGACTTATG-2', 'cell-TTAGACTCAGCACCAT-3', 'cell-CGTTATTTCTGCAAAC-2', 'cell-GTATTGCAGAGGAGGA-4', 'cell-ACAGGAATCAACAAGG-2', 'cell-CCCTCACCAGCCAGTT-1', 'cell-TCGGTTTGTCCTTCTC-4', 'cell-CTAATCGCAGGTTCAC-3', 'cell-CCTTAACGTTTGGGCG-2', 'cell-CATGCATAGCTGAGGG-3', 'cell-CGCTTACTCCTTGAGG-1', 'cell-TCGCGCACATGTTGCA-3', 'cell-ACGGGAAGTAAGCTCA-4', 'cell-ACCAGCTCATCCGTAA-4', 'cell-CGATGTCCAGCATTAT-4', 'cell-TGAACAGAGTGAAGTG-4', 'cell-GCATATATCCACAATA-4', 'cell-CTTGCTCAGGGATGCG-4', 'cell-CTATGATCACTGGCCA-4', 'cell-TGTGGCCAGTCTTGAA-1', 'cell-GATTCATCAATACTGT-3', 'cell-GGAACAATCCTTCGTA-1', 'cell-TGTAACTCAACACCTA-3', 'cell-CAGGTCCAGACTCGCA-4', 'cell-GCAATAGAGAGGCTAA-2', 'cell-GGGCATGAGGCGTAAA-4', 'cell-ACGTCCTTCTGCAAAC-3', 'cell-CGAAGAATCTCGCCTG-4', 'cell-GGTTGAGCATCAGTAT-4', 'cell-AGTAATCGTGGATGTC-3', 'cell-GTTGTTGCAGGCTAAG-2', 'cell-CATTTGTTCTTGTCCA-4', 'cell-CTTAATGAGCCTCTGT-1', 'cell-GAGCAAATCTTACTCG-4', 'cell-GTAAGCGCAGGCTTCG-4', 'cell-CAGCATGTCTATTGTC-4', 'cell-CGATTATCATGCTTAG-1', 'cell-TGCAGGCTCATGCTCC-4', 'cell-CAGCCTAAGTGAAGTG-1', 'cell-ACTAGGCGTCCGTAGG-4', 'cell-AAAGGCTCAAGTGTCC-4', 'cell-AGGTCTTAGTTATCTC-1', 'cell-TGAGCACGTCACAGAC-4', 'cell-GAACCAAAGAGAGGAG-4', 'cell-AGCATCCCAGTCTAAT-2', 'cell-TTTACGCGTGGCTTCC-3', 'cell-GAGGACTAGAGAGGAG-3', 'cell-TAGTCAATCACCGGTA-2', 'cell-TTTGTTGGTTGAGGTC-3', 'cell-GTTCCTGGTTAATGCG-4', 'cell-TATTAGGTCGTTAACA-3', 'cell-ACTTAGTCATCATGTG-3', 'cell-GGCCATCAGCGAGGTG-4', 'cell-GATAATCGTTTAACGG-4', 'cell-ACCACATAGCGATAAG-4', 'cell-GGTTGAGCATAGGCGA-1', 'cell-TTATTGCTCGAGCTAT-4', 'cell-CAGCTCAAGGAGCAAC-4', 'cell-TATGGATGTGTTTGTC-3', 'cell-GGTAACTTCGGGACCT-2', 'cell-GGATGAATCACACAGT-4', 'cell-CGAGGCAAGCACCACA-4', 'cell-ACAGCCGGTGCATTAG-4', 'cell-TAGGTTGGTGATCAGC-4', 'cell-TAGGTTGGTGGATTAT-3', 'cell-GGTATTTCAGCCAGAA-3', 'cell-TTGTGAGGTCACAAAT-2', 'cell-AAGCCTCCAGGCATCT-3', 'cell-AATTACCCACTTACAG-4', 'cell-TCCATAAAGGAAGCTA-1', 'cell-ATGAGCCGTCGTAAAT-1', 'cell-TCGATTAAGGACTTAC-2', 'cell-GGTACAAAGTTGCGTG-4', 'cell-GTTAAGTGTTGCACAA-3', 'cell-TATAGGTGTTTACTTG-4', 'cell-GACCGTTCATCTAGCA-4', 'cell-GACATTATCCTGGTCT-3', 'cell-AAGTAGCCAGGTATTT-1', 'cell-AGCAAATAGGGCCACT-2', 'cell-GGGCTAACAGCATGTC-1', 'cell-ACCCAGGGTTGGCGTG-4', 'cell-CTCGTTATCATGACCG-2', 'cell-GCCTCAAAGGTGCGGA-1', 'cell-GAGGTACAGTGTGATC-3', 'cell-GACCTAGTCAAAGGCA-1', 'cell-AGTGGACAGAAAGCAT-1', 'cell-GAGGGAGCAGCCGCTA-4', 'cell-GGCCTTAAGGAGCAAC-2', 'cell-ACCGAAGCAATATGGA-4', 'cell-TGCATGAGTTCGGTAA-1', 'cell-TCAAGACTCCACCCTG-2', 'cell-ATGTCAATCCTCAGCT-4', 'cell-AGTAAACAGGGACGCA-3', 'cell-TTATTGCTCACCAATA-2', 'cell-TGTGATCAGTTATCTC-2', 'cell-TCAAGTATCTAATCCT-4', 'cell-GAAACTGAGGAAGCTA-2'}\n"
     ]
    }
   ],
   "source": [
    "column_names_set = set(column_names_list)\n",
    "print(column_names_set)"
   ]
  },
  {
   "cell_type": "code",
   "execution_count": 40,
   "metadata": {},
   "outputs": [
    {
     "data": {
      "text/plain": [
       "0"
      ]
     },
     "execution_count": 40,
     "metadata": {},
     "output_type": "execute_result"
    }
   ],
   "source": [
    "# Filter the set to keep only elements also in the list\n",
    "barcode_set_filtered = barcode_set.intersection(column_names_list)\n",
    "len(barcode_set_filtered)"
   ]
  },
  {
   "cell_type": "code",
   "execution_count": 41,
   "metadata": {},
   "outputs": [
    {
     "data": {
      "text/plain": [
       "0"
      ]
     },
     "execution_count": 41,
     "metadata": {},
     "output_type": "execute_result"
    }
   ],
   "source": [
    "# Filter the list to keep only elements also in the set\n",
    "filtered_list = [item for item in column_names_list if item in barcode_set]\n",
    "len(filtered_list)"
   ]
  },
  {
   "cell_type": "markdown",
   "metadata": {},
   "source": [
    "### Test data (skip)"
   ]
  },
  {
   "cell_type": "code",
   "execution_count": 35,
   "metadata": {},
   "outputs": [
    {
     "name": "stdout",
     "output_type": "stream",
     "text": [
      "{'TTTGTTGGTTGAGGTC-3'}\n",
      "{'ENSG00000241743', 'ENSG00000198712', 'ENSG00000226679', 'ENSG00000011201', 'ENSG00000102271', 'ENSG00000278847', 'ENSG00000068366', 'ENSG00000236091', 'ENSG00000078596', 'ENSG00000101846', 'ENSG00000156298', 'ENSG00000100311', 'ENSG00000165583', 'ENSG00000283697', 'ENSG00000234688', 'ENSG00000286326', 'ENSG00000230668', 'ENSG00000147113', 'ENSG00000160219', 'ENSG00000077279', 'ENSG00000225689', 'ENSG00000182162', 'ENSG00000280870', 'ENSG00000012817', 'ENSG00000212907', 'ENSG00000188511', 'ENSG00000260683', 'ENSG00000169306', 'ENSG00000286050', 'ENSG00000198763', 'ENSG00000227042', 'ENSG00000198804', 'ENSG00000013619', 'ENSG00000227610', 'ENSG00000233103', 'ENSG00000100362', 'ENSG00000183878', 'ENSG00000198888', 'ENSG00000147010', 'ENSG00000100336', 'ENSG00000198947', 'ENSG00000089472', 'ENSG00000235111', 'ENSG00000189108', 'ENSG00000099725', 'ENSG00000286381', 'ENSG00000129824', 'ENSG00000176728', 'ENSG00000228253', 'ENSG00000228343', 'ENSG00000231535', 'ENSG00000233699', 'ENSG00000283638', 'ENSG00000165259', 'ENSG00000186675', 'ENSG00000158813', 'ENSG00000101871', 'ENSG00000198840', 'ENSG00000286072', 'ENSG00000122824', 'ENSG00000198899', 'ENSG00000233535', 'ENSG00000224294', 'ENSG00000102287', 'ENSG00000205542', 'ENSG00000146938', 'ENSG00000100344', 'ENSG00000233067', 'ENSG00000099985', 'ENSG00000234129', 'ENSG00000268738', 'ENSG00000227060', 'ENSG00000130066', 'ENSG00000231772', 'ENSG00000100316', 'ENSG00000229308', 'ENSG00000235385', 'ENSG00000100234', 'ENSG00000165246', 'ENSG00000122122', 'ENSG00000128313', 'ENSG00000067048', 'ENSG00000198223', 'ENSG00000285679', 'ENSG00000282815', 'ENSG00000198938', 'ENSG00000277215', 'ENSG00000147403', 'ENSG00000198034', 'ENSG00000232081', 'ENSG00000129682', 'ENSG00000232160', 'ENSG00000235154', 'ENSG00000003096', 'ENSG00000213468', 'ENSG00000114374', 'ENSG00000229236', 'ENSG00000165168', 'ENSG00000171388', 'ENSG00000224192'}\n"
     ]
    }
   ],
   "source": [
    "#Last 100 elements of the dataset\n",
    "class_df_test = classification_df.iloc[27353895:27353995]\n",
    "barcode_set_testing = set(class_df_test['barcode'])\n",
    "genes_set_testing = set(class_df_test['gene_id'])\n",
    "print(barcode_set_testing)\n",
    "print(genes_set_testing)"
   ]
  },
  {
   "cell_type": "markdown",
   "metadata": {},
   "source": [
    "### Create a merged dataset (skip)"
   ]
  },
  {
   "cell_type": "markdown",
   "metadata": {},
   "source": [
    "Match the datasets by the gene_ids"
   ]
  },
  {
   "cell_type": "code",
   "execution_count": 9,
   "metadata": {},
   "outputs": [
    {
     "name": "stdout",
     "output_type": "stream",
     "text": [
      "                     barcode          gene_id  expression_count  \\\n",
      "0         AAACAGCCAAACGCGA-2  ENSG00000235146          0.000000   \n",
      "1         AAACAGCCAAACGCGA-2  ENSG00000187634          0.240150   \n",
      "2         AAACAGCCAAACGCGA-2  ENSG00000187583          0.000000   \n",
      "3         AAACAGCCAAACGCGA-2  ENSG00000205231          0.000000   \n",
      "4         AAACAGCCAAACGCGA-2  ENSG00000228750          0.000000   \n",
      "...                      ...              ...               ...   \n",
      "26697499  TTTGTTGGTTGAGGTC-3  ENSG00000212907          1.068847   \n",
      "26697500  TTTGTTGGTTGAGGTC-3  ENSG00000198886          1.907476   \n",
      "26697501  TTTGTTGGTTGAGGTC-3  ENSG00000198786          1.573612   \n",
      "26697502  TTTGTTGGTTGAGGTC-3  ENSG00000198727          3.001725   \n",
      "26697503  TTTGTTGGTTGAGGTC-3  ENSG00000273554          0.000000   \n",
      "\n",
      "         classification    start      end  \n",
      "0                  zero   587577   595116  \n",
      "1                   low   923923   944575  \n",
      "2                  zero   966482   975865  \n",
      "3                  zero  1173056  1179555  \n",
      "4                  zero  6724626  6730012  \n",
      "...                 ...      ...      ...  \n",
      "26697499           high    10470    10766  \n",
      "26697500           high    10760    12137  \n",
      "26697501           high    12337    14148  \n",
      "26697502           high    14747    15887  \n",
      "26697503           zero  1139577  1147868  \n",
      "\n",
      "[26697504 rows x 6 columns]\n"
     ]
    }
   ],
   "source": [
    "# Merge the datasets based on the gene_id column\n",
    "merged_df = pd.merge(\n",
    "    classification_df, gene_df,\n",
    "    on=\"gene_id\",  # Match rows based on this column\n",
    "    how=\"inner\"    # Keep only rows with matches in both datasets\n",
    ")\n",
    "\n",
    "# Display the result\n",
    "print(merged_df)"
   ]
  },
  {
   "cell_type": "markdown",
   "metadata": {},
   "source": [
    "For testing we use first 1000 rows"
   ]
  },
  {
   "cell_type": "code",
   "execution_count": 10,
   "metadata": {},
   "outputs": [
    {
     "name": "stdout",
     "output_type": "stream",
     "text": [
      "{'AAACAGCCAAACGCGA-2'}\n"
     ]
    }
   ],
   "source": [
    "merged_df_testing = merged_df.head(0)\n",
    "barcode_set_testing = set(merged_df_testing['barcode'])\n",
    "genes_set_testing = set(merged_df_testing['gene_id'])\n",
    "print(barcode_set_testing)"
   ]
  },
  {
   "cell_type": "markdown",
   "metadata": {},
   "source": [
    "## Import the embedding"
   ]
  },
  {
   "cell_type": "markdown",
   "metadata": {},
   "source": [
    "We get the embedding matrix as an input with following rows:\n",
    "- 4 rows for one-hot-encoding\n",
    "- CNV loss\n",
    "- CNV gain\n",
    "-open chromatin"
   ]
  },
  {
   "cell_type": "code",
   "execution_count": 19,
   "metadata": {},
   "outputs": [],
   "source": [
    "def adjust_barcode_names_for_embedding(barcode_set):\n",
    "    output_set = set()\n",
    "    barcode_list = list(barcode_set)\n",
    "    for b in barcode_list:\n",
    "        b_string = str(b)\n",
    "        output_set.add('cell-' + b_string)\n",
    "\n",
    "    return output_set\n"
   ]
  },
  {
   "cell_type": "code",
   "execution_count": 20,
   "metadata": {},
   "outputs": [
    {
     "data": {
      "text/plain": [
       "{'cell-AAACAGCCAGTAAGTA-2'}"
      ]
     },
     "execution_count": 20,
     "metadata": {},
     "output_type": "execute_result"
    }
   ],
   "source": [
    "adjust_barcode_names_for_embedding(barcode_set_testing)"
   ]
  },
  {
   "cell_type": "code",
   "execution_count": 12,
   "metadata": {},
   "outputs": [],
   "source": [
    "#gtf_path = '/Users/gajaj/OneDrive/Documents/TUM/computational_single_cell/Gene-expression-changes-from-CNV/preprocessing/Multiome/Homo_sapiens.GRCh38.113.gtf'\n",
    "fasta_path = '/Users/gajaj/OneDrive/Documents/TUM/computational_single_cell/Gene-expression-changes-from-CNV/preprocessing/Multiome/GRCh38.d1.vd1.fa'\n",
    "atac_path = '/Users/gajaj/OneDrive/Documents/TUM/computational_single_cell/Gene-expression-changes-from-CNV/preprocessing/Multiome/overlap_genes_peaks.tsv' \n",
    "cnv_path = '/Users/gajaj/OneDrive/Documents/TUM/computational_single_cell/Gene-expression-changes-from-CNV/preprocessing/Multiome/epiAneufinder.tsv'"
   ]
  },
  {
   "cell_type": "code",
   "execution_count": 13,
   "metadata": {},
   "outputs": [],
   "source": [
    "embedder = embed(\n",
    "\tfasta_path,\n",
    "\tatac_path,\n",
    "\tcnv_path,\n",
    "\tgene_set=gene_set,\n",
    "\tbarcode_set=column_names_set, # chnage name of barcodes!\n",
    "\tmode='single_gene_barcode'\n",
    ")"
   ]
  },
  {
   "cell_type": "code",
   "execution_count": 14,
   "metadata": {},
   "outputs": [],
   "source": [
    "barcode_id, gene_id, embedding = next(embedder)"
   ]
  },
  {
   "cell_type": "code",
   "execution_count": 15,
   "metadata": {},
   "outputs": [
    {
     "name": "stdout",
     "output_type": "stream",
     "text": [
      "cell-GCGCAATGTTGCGGAT-3\n",
      "ENSG00000187634\n",
      "[[0. 0. 0. ... 0. 0. 0.]\n",
      " [0. 0. 0. ... 1. 0. 1.]\n",
      " [0. 0. 1. ... 0. 0. 0.]\n",
      " ...\n",
      " [0. 0. 0. ... 0. 0. 0.]\n",
      " [0. 0. 0. ... 0. 0. 0.]\n",
      " [0. 0. 0. ... 0. 0. 0.]]\n"
     ]
    }
   ],
   "source": [
    "print(barcode_id)\n",
    "print(gene_id)\n",
    "print(embedding)"
   ]
  },
  {
   "cell_type": "code",
   "execution_count": 16,
   "metadata": {},
   "outputs": [
    {
     "data": {
      "text/plain": [
       "array([ 21.,  25.,  28.,  14.,  29.,  37.,  19.,  23.,  42.,  50.,  77.,\n",
       "        24.,   4.,  16.,  21.,   6.,  26.,  62.,  95.,  18.,  68.,  95.,\n",
       "        55.,  91.,  24.,  55.,  58.,  17.,  14.,  54.,  97.,  28.,  35.,\n",
       "        44.,  78.,  14.,  57., 108.,  77.,  65.,  60., 115., 134.,  46.,\n",
       "         9.,  31.,  77.,  20.,   5.,   2.,  15.,   4.,  28.,  59.,  20.,\n",
       "        31.,  23.,  39.,  69.,  42.,  11.,  22.,  20.,  14.,   0.,   0.,\n",
       "         0.])"
      ]
     },
     "execution_count": 16,
     "metadata": {},
     "output_type": "execute_result"
    }
   ],
   "source": [
    "rowE, _ = aggregate_matrix(embedding)\n",
    "rowE"
   ]
  },
  {
   "cell_type": "markdown",
   "metadata": {},
   "source": [
    "## Create the covariate matrix and the response vector"
   ]
  },
  {
   "cell_type": "markdown",
   "metadata": {},
   "source": [
    "We will have a **matrix X** that has per pair (cell_barcode, gene_id) a row of 67 inputs: 64 are the counts of the triplets and 3 are the averages of open cromatine, cnv gain, cnv loss over the nucleotides"
   ]
  },
  {
   "cell_type": "markdown",
   "metadata": {},
   "source": [
    "There will be 2 **response vectors**:\n",
    "- y1: has expression counts per pair (cell_barcode, gene_id)\n",
    "- y2: classification of expression per pair (cell_barcode, gene_id)"
   ]
  },
  {
   "cell_type": "markdown",
   "metadata": {},
   "source": [
    "Slow function: for 1 barcode and 100 genes it neads 5min"
   ]
  },
  {
   "cell_type": "code",
   "execution_count": 19,
   "metadata": {},
   "outputs": [
    {
     "name": "stdout",
     "output_type": "stream",
     "text": [
      "cell-TCCTTAGTCGGGACTC-4 ENSG00000187634\n",
      "[ 21.  25.  28.  14.  29.  37.  19.  23.  42.  50.  77.  24.   4.  16.\n",
      "  21.   6.  26.  62.  95.  18.  68.  95.  55.  91.  24.  55.  58.  17.\n",
      "  14.  54.  97.  28.  35.  44.  78.  14.  57. 108.  77.  65.  60. 115.\n",
      " 134.  46.   9.  31.  77.  20.   5.   2.  15.   4.  28.  59.  20.  31.\n",
      "  23.  39.  69.  42.  11.  22.  20.  14.   0.   0.   0.]\n",
      "cell-ACTATCCGTCTAACCT-1 ENSG00000187634\n",
      "[ 21.  25.  28.  14.  29.  37.  19.  23.  42.  50.  77.  24.   4.  16.\n",
      "  21.   6.  26.  62.  95.  18.  68.  95.  55.  91.  24.  55.  58.  17.\n",
      "  14.  54.  97.  28.  35.  44.  78.  14.  57. 108.  77.  65.  60. 115.\n",
      " 134.  46.   9.  31.  77.  20.   5.   2.  15.   4.  28.  59.  20.  31.\n",
      "  23.  39.  69.  42.  11.  22.  20.  14.   0.   0.   0.]\n",
      "cell-GTGCACGGTCACAAAT-3 ENSG00000187634\n",
      "[ 21.  25.  28.  14.  29.  37.  19.  23.  42.  50.  77.  24.   4.  16.\n",
      "  21.   6.  26.  62.  95.  18.  68.  95.  55.  91.  24.  55.  58.  17.\n",
      "  14.  54.  97.  28.  35.  44.  78.  14.  57. 108.  77.  65.  60. 115.\n",
      " 134.  46.   9.  31.  77.  20.   5.   2.  15.   4.  28.  59.  20.  31.\n",
      "  23.  39.  69.  42.  11.  22.  20.  14.   0.   0.   0.]\n",
      "cell-TACGTAATCGTTTCGC-3 ENSG00000187634\n",
      "[ 21.  25.  28.  14.  29.  37.  19.  23.  42.  50.  77.  24.   4.  16.\n",
      "  21.   6.  26.  62.  95.  18.  68.  95.  55.  91.  24.  55.  58.  17.\n",
      "  14.  54.  97.  28.  35.  44.  78.  14.  57. 108.  77.  65.  60. 115.\n",
      " 134.  46.   9.  31.  77.  20.   5.   2.  15.   4.  28.  59.  20.  31.\n",
      "  23.  39.  69.  42.  11.  22.  20.  14.   0.   0.   0.]\n",
      "cell-ATTGGTTCACATTGCA-1 ENSG00000187634\n",
      "[ 21.  25.  28.  14.  29.  37.  19.  23.  42.  50.  77.  24.   4.  16.\n",
      "  21.   6.  26.  62.  95.  18.  68.  95.  55.  91.  24.  55.  58.  17.\n",
      "  14.  54.  97.  28.  35.  44.  78.  14.  57. 108.  77.  65.  60. 115.\n",
      " 134.  46.   9.  31.  77.  20.   5.   2.  15.   4.  28.  59.  20.  31.\n",
      "  23.  39.  69.  42.  11.  22.  20.  14.   0.   0.   0.]\n",
      "cell-TACCTCATCGAAGTAG-2 ENSG00000187634\n",
      "[ 21.  25.  28.  14.  29.  37.  19.  23.  42.  50.  77.  24.   4.  16.\n",
      "  21.   6.  26.  62.  95.  18.  68.  95.  55.  91.  24.  55.  58.  17.\n",
      "  14.  54.  97.  28.  35.  44.  78.  14.  57. 108.  77.  65.  60. 115.\n",
      " 134.  46.   9.  31.  77.  20.   5.   2.  15.   4.  28.  59.  20.  31.\n",
      "  23.  39.  69.  42.  11.  22.  20.  14.   0.   0.   0.]\n",
      "cell-GTCTTGCTCCTGTTCA-4 ENSG00000187634\n",
      "[ 21.  25.  28.  14.  29.  37.  19.  23.  42.  50.  77.  24.   4.  16.\n",
      "  21.   6.  26.  62.  95.  18.  68.  95.  55.  91.  24.  55.  58.  17.\n",
      "  14.  54.  97.  28.  35.  44.  78.  14.  57. 108.  77.  65.  60. 115.\n",
      " 134.  46.   9.  31.  77.  20.   5.   2.  15.   4.  28.  59.  20.  31.\n",
      "  23.  39.  69.  42.  11.  22.  20.  14.   0.   0.   0.]\n",
      "cell-TAGCGGCTCAATGTGC-1 ENSG00000187634\n",
      "[ 21.  25.  28.  14.  29.  37.  19.  23.  42.  50.  77.  24.   4.  16.\n",
      "  21.   6.  26.  62.  95.  18.  68.  95.  55.  91.  24.  55.  58.  17.\n",
      "  14.  54.  97.  28.  35.  44.  78.  14.  57. 108.  77.  65.  60. 115.\n",
      " 134.  46.   9.  31.  77.  20.   5.   2.  15.   4.  28.  59.  20.  31.\n",
      "  23.  39.  69.  42.  11.  22.  20.  14.   0.   0.   0.]\n",
      "cell-CCGTTATGTTAGCCAA-2 ENSG00000187634\n",
      "[ 21.  25.  28.  14.  29.  37.  19.  23.  42.  50.  77.  24.   4.  16.\n",
      "  21.   6.  26.  62.  95.  18.  68.  95.  55.  91.  24.  55.  58.  17.\n",
      "  14.  54.  97.  28.  35.  44.  78.  14.  57. 108.  77.  65.  60. 115.\n",
      " 134.  46.   9.  31.  77.  20.   5.   2.  15.   4.  28.  59.  20.  31.\n",
      "  23.  39.  69.  42.  11.  22.  20.  14.   0.   0.   0.]\n",
      "cell-GTGCTCAAGGTTACAC-3 ENSG00000187634\n",
      "[ 21.  25.  28.  14.  29.  37.  19.  23.  42.  50.  77.  24.   4.  16.\n",
      "  21.   6.  26.  62.  95.  18.  68.  95.  55.  91.  24.  55.  58.  17.\n",
      "  14.  54.  97.  28.  35.  44.  78.  14.  57. 108.  77.  65.  60. 115.\n",
      " 134.  46.   9.  31.  77.  20.   5.   2.  15.   4.  28.  59.  20.  31.\n",
      "  23.  39.  69.  42.  11.  22.  20.  14.   0.   0.   0.]\n",
      "cell-TTAAGGACATCGCTTT-3 ENSG00000187634\n",
      "[ 21.  25.  28.  14.  29.  37.  19.  23.  42.  50.  77.  24.   4.  16.\n",
      "  21.   6.  26.  62.  95.  18.  68.  95.  55.  91.  24.  55.  58.  17.\n",
      "  14.  54.  97.  28.  35.  44.  78.  14.  57. 108.  77.  65.  60. 115.\n",
      " 134.  46.   9.  31.  77.  20.   5.   2.  15.   4.  28.  59.  20.  31.\n",
      "  23.  39.  69.  42.  11.  22.  20.  14.   0.   0.   0.]\n",
      "cell-CTAAGTCAGTTGGCCA-3 ENSG00000187634\n",
      "[ 21.  25.  28.  14.  29.  37.  19.  23.  42.  50.  77.  24.   4.  16.\n",
      "  21.   6.  26.  62.  95.  18.  68.  95.  55.  91.  24.  55.  58.  17.\n",
      "  14.  54.  97.  28.  35.  44.  78.  14.  57. 108.  77.  65.  60. 115.\n",
      " 134.  46.   9.  31.  77.  20.   5.   2.  15.   4.  28.  59.  20.  31.\n",
      "  23.  39.  69.  42.  11.  22.  20.  14.   0.   0.   0.]\n",
      "cell-GCAGGTGAGCGAGCGA-3 ENSG00000187634\n",
      "[ 21.  25.  28.  14.  29.  37.  19.  23.  42.  50.  77.  24.   4.  16.\n",
      "  21.   6.  26.  62.  95.  18.  68.  95.  55.  91.  24.  55.  58.  17.\n",
      "  14.  54.  97.  28.  35.  44.  78.  14.  57. 108.  77.  65.  60. 115.\n",
      " 134.  46.   9.  31.  77.  20.   5.   2.  15.   4.  28.  59.  20.  31.\n",
      "  23.  39.  69.  42.  11.  22.  20.  14.   0.   0.   0.]\n",
      "cell-ATCACAATCGCCTGTT-2 ENSG00000187634\n",
      "[ 21.  25.  28.  14.  29.  37.  19.  23.  42.  50.  77.  24.   4.  16.\n",
      "  21.   6.  26.  62.  95.  18.  68.  95.  55.  91.  24.  55.  58.  17.\n",
      "  14.  54.  97.  28.  35.  44.  78.  14.  57. 108.  77.  65.  60. 115.\n",
      " 134.  46.   9.  31.  77.  20.   5.   2.  15.   4.  28.  59.  20.  31.\n",
      "  23.  39.  69.  42.  11.  22.  20.  14.   0.   0.   0.]\n",
      "cell-TGAGGAGGTAAACAAG-3 ENSG00000187634\n",
      "[ 21.  25.  28.  14.  29.  37.  19.  23.  42.  50.  77.  24.   4.  16.\n",
      "  21.   6.  26.  62.  95.  18.  68.  95.  55.  91.  24.  55.  58.  17.\n",
      "  14.  54.  97.  28.  35.  44.  78.  14.  57. 108.  77.  65.  60. 115.\n",
      " 134.  46.   9.  31.  77.  20.   5.   2.  15.   4.  28.  59.  20.  31.\n",
      "  23.  39.  69.  42.  11.  22.  20.  14.   0.   0.   0.]\n",
      "cell-AATCCCTGTACCGAAC-4 ENSG00000187634\n",
      "[ 21.  25.  28.  14.  29.  37.  19.  23.  42.  50.  77.  24.   4.  16.\n",
      "  21.   6.  26.  62.  95.  18.  68.  95.  55.  91.  24.  55.  58.  17.\n",
      "  14.  54.  97.  28.  35.  44.  78.  14.  57. 108.  77.  65.  60. 115.\n",
      " 134.  46.   9.  31.  77.  20.   5.   2.  15.   4.  28.  59.  20.  31.\n",
      "  23.  39.  69.  42.  11.  22.  20.  14.   0.   0.   0.]\n",
      "cell-GAGTTGCGTCAATACG-3 ENSG00000187634\n",
      "[ 21.  25.  28.  14.  29.  37.  19.  23.  42.  50.  77.  24.   4.  16.\n",
      "  21.   6.  26.  62.  95.  18.  68.  95.  55.  91.  24.  55.  58.  17.\n",
      "  14.  54.  97.  28.  35.  44.  78.  14.  57. 108.  77.  65.  60. 115.\n",
      " 134.  46.   9.  31.  77.  20.   5.   2.  15.   4.  28.  59.  20.  31.\n",
      "  23.  39.  69.  42.  11.  22.  20.  14.   0.   0.   0.]\n",
      "cell-CTTGTTCCACAATTAC-4 ENSG00000187634\n",
      "[ 21.  25.  28.  14.  29.  37.  19.  23.  42.  50.  77.  24.   4.  16.\n",
      "  21.   6.  26.  62.  95.  18.  68.  95.  55.  91.  24.  55.  58.  17.\n",
      "  14.  54.  97.  28.  35.  44.  78.  14.  57. 108.  77.  65.  60. 115.\n",
      " 134.  46.   9.  31.  77.  20.   5.   2.  15.   4.  28.  59.  20.  31.\n",
      "  23.  39.  69.  42.  11.  22.  20.  14.   0.   0.   0.]\n",
      "cell-ATCGAGGCAGAAACGT-2 ENSG00000187634\n",
      "[ 21.  25.  28.  14.  29.  37.  19.  23.  42.  50.  77.  24.   4.  16.\n",
      "  21.   6.  26.  62.  95.  18.  68.  95.  55.  91.  24.  55.  58.  17.\n",
      "  14.  54.  97.  28.  35.  44.  78.  14.  57. 108.  77.  65.  60. 115.\n",
      " 134.  46.   9.  31.  77.  20.   5.   2.  15.   4.  28.  59.  20.  31.\n",
      "  23.  39.  69.  42.  11.  22.  20.  14.   0.   0.   0.]\n",
      "cell-TCGTTAAAGCCGCAGT-1 ENSG00000187634\n",
      "[ 21.  25.  28.  14.  29.  37.  19.  23.  42.  50.  77.  24.   4.  16.\n",
      "  21.   6.  26.  62.  95.  18.  68.  95.  55.  91.  24.  55.  58.  17.\n",
      "  14.  54.  97.  28.  35.  44.  78.  14.  57. 108.  77.  65.  60. 115.\n",
      " 134.  46.   9.  31.  77.  20.   5.   2.  15.   4.  28.  59.  20.  31.\n",
      "  23.  39.  69.  42.  11.  22.  20.  14.   0.   0.   0.]\n",
      "cell-CGGTGAGAGCATTAGC-1 ENSG00000187634\n",
      "[ 21.  25.  28.  14.  29.  37.  19.  23.  42.  50.  77.  24.   4.  16.\n",
      "  21.   6.  26.  62.  95.  18.  68.  95.  55.  91.  24.  55.  58.  17.\n",
      "  14.  54.  97.  28.  35.  44.  78.  14.  57. 108.  77.  65.  60. 115.\n",
      " 134.  46.   9.  31.  77.  20.   5.   2.  15.   4.  28.  59.  20.  31.\n",
      "  23.  39.  69.  42.  11.  22.  20.  14.   0.   0.   0.]\n",
      "cell-AAGCAAGTCCAGCACA-4 ENSG00000187634\n",
      "[ 21.  25.  28.  14.  29.  37.  19.  23.  42.  50.  77.  24.   4.  16.\n",
      "  21.   6.  26.  62.  95.  18.  68.  95.  55.  91.  24.  55.  58.  17.\n",
      "  14.  54.  97.  28.  35.  44.  78.  14.  57. 108.  77.  65.  60. 115.\n",
      " 134.  46.   9.  31.  77.  20.   5.   2.  15.   4.  28.  59.  20.  31.\n",
      "  23.  39.  69.  42.  11.  22.  20.  14.   0.   0.   0.]\n",
      "cell-CTGCAATAGACAACAG-2 ENSG00000187634\n",
      "[ 21.  25.  28.  14.  29.  37.  19.  23.  42.  50.  77.  24.   4.  16.\n",
      "  21.   6.  26.  62.  95.  18.  68.  95.  55.  91.  24.  55.  58.  17.\n",
      "  14.  54.  97.  28.  35.  44.  78.  14.  57. 108.  77.  65.  60. 115.\n",
      " 134.  46.   9.  31.  77.  20.   5.   2.  15.   4.  28.  59.  20.  31.\n",
      "  23.  39.  69.  42.  11.  22.  20.  14.   0.   0.   0.]\n",
      "cell-GGATGTAAGGGATGAC-3 ENSG00000187634\n",
      "[ 21.  25.  28.  14.  29.  37.  19.  23.  42.  50.  77.  24.   4.  16.\n",
      "  21.   6.  26.  62.  95.  18.  68.  95.  55.  91.  24.  55.  58.  17.\n",
      "  14.  54.  97.  28.  35.  44.  78.  14.  57. 108.  77.  65.  60. 115.\n",
      " 134.  46.   9.  31.  77.  20.   5.   2.  15.   4.  28.  59.  20.  31.\n",
      "  23.  39.  69.  42.  11.  22.  20.  14.   0.   0.   0.]\n",
      "cell-GTCCAGGGTATACTGG-3 ENSG00000187634\n",
      "[ 21.  25.  28.  14.  29.  37.  19.  23.  42.  50.  77.  24.   4.  16.\n",
      "  21.   6.  26.  62.  95.  18.  68.  95.  55.  91.  24.  55.  58.  17.\n",
      "  14.  54.  97.  28.  35.  44.  78.  14.  57. 108.  77.  65.  60. 115.\n",
      " 134.  46.   9.  31.  77.  20.   5.   2.  15.   4.  28.  59.  20.  31.\n",
      "  23.  39.  69.  42.  11.  22.  20.  14.   0.   0.   0.]\n",
      "cell-CTTTGGGAGTTGCGTG-4 ENSG00000187634\n",
      "[ 21.  25.  28.  14.  29.  37.  19.  23.  42.  50.  77.  24.   4.  16.\n",
      "  21.   6.  26.  62.  95.  18.  68.  95.  55.  91.  24.  55.  58.  17.\n",
      "  14.  54.  97.  28.  35.  44.  78.  14.  57. 108.  77.  65.  60. 115.\n",
      " 134.  46.   9.  31.  77.  20.   5.   2.  15.   4.  28.  59.  20.  31.\n",
      "  23.  39.  69.  42.  11.  22.  20.  14.   0.   0.   0.]\n",
      "cell-TTAGACTCAGCTAATT-4 ENSG00000187634\n",
      "[ 21.  25.  28.  14.  29.  37.  19.  23.  42.  50.  77.  24.   4.  16.\n",
      "  21.   6.  26.  62.  95.  18.  68.  95.  55.  91.  24.  55.  58.  17.\n",
      "  14.  54.  97.  28.  35.  44.  78.  14.  57. 108.  77.  65.  60. 115.\n",
      " 134.  46.   9.  31.  77.  20.   5.   2.  15.   4.  28.  59.  20.  31.\n",
      "  23.  39.  69.  42.  11.  22.  20.  14.   0.   0.   0.]\n",
      "cell-GGAGTCTGTCGCGCAA-4 ENSG00000187634\n",
      "[ 21.  25.  28.  14.  29.  37.  19.  23.  42.  50.  77.  24.   4.  16.\n",
      "  21.   6.  26.  62.  95.  18.  68.  95.  55.  91.  24.  55.  58.  17.\n",
      "  14.  54.  97.  28.  35.  44.  78.  14.  57. 108.  77.  65.  60. 115.\n",
      " 134.  46.   9.  31.  77.  20.   5.   2.  15.   4.  28.  59.  20.  31.\n",
      "  23.  39.  69.  42.  11.  22.  20.  14.   0.   0.   0.]\n",
      "cell-TAGCAGGCAAGGTAAC-2 ENSG00000187634\n",
      "[ 21.  25.  28.  14.  29.  37.  19.  23.  42.  50.  77.  24.   4.  16.\n",
      "  21.   6.  26.  62.  95.  18.  68.  95.  55.  91.  24.  55.  58.  17.\n",
      "  14.  54.  97.  28.  35.  44.  78.  14.  57. 108.  77.  65.  60. 115.\n",
      " 134.  46.   9.  31.  77.  20.   5.   2.  15.   4.  28.  59.  20.  31.\n",
      "  23.  39.  69.  42.  11.  22.  20.  14.   0.   0.   0.]\n",
      "cell-CTAATGTCAATTTGGT-4 ENSG00000187634\n",
      "[ 21.  25.  28.  14.  29.  37.  19.  23.  42.  50.  77.  24.   4.  16.\n",
      "  21.   6.  26.  62.  95.  18.  68.  95.  55.  91.  24.  55.  58.  17.\n",
      "  14.  54.  97.  28.  35.  44.  78.  14.  57. 108.  77.  65.  60. 115.\n",
      " 134.  46.   9.  31.  77.  20.   5.   2.  15.   4.  28.  59.  20.  31.\n",
      "  23.  39.  69.  42.  11.  22.  20.  14.   0.   0.   0.]\n",
      "cell-ACGAAGTCAGACAAAC-1 ENSG00000187634\n",
      "[ 21.  25.  28.  14.  29.  37.  19.  23.  42.  50.  77.  24.   4.  16.\n",
      "  21.   6.  26.  62.  95.  18.  68.  95.  55.  91.  24.  55.  58.  17.\n",
      "  14.  54.  97.  28.  35.  44.  78.  14.  57. 108.  77.  65.  60. 115.\n",
      " 134.  46.   9.  31.  77.  20.   5.   2.  15.   4.  28.  59.  20.  31.\n",
      "  23.  39.  69.  42.  11.  22.  20.  14.   0.   0.   0.]\n",
      "cell-TTCATTCAGTGCTGTG-4 ENSG00000187634\n",
      "[ 21.  25.  28.  14.  29.  37.  19.  23.  42.  50.  77.  24.   4.  16.\n",
      "  21.   6.  26.  62.  95.  18.  68.  95.  55.  91.  24.  55.  58.  17.\n",
      "  14.  54.  97.  28.  35.  44.  78.  14.  57. 108.  77.  65.  60. 115.\n",
      " 134.  46.   9.  31.  77.  20.   5.   2.  15.   4.  28.  59.  20.  31.\n",
      "  23.  39.  69.  42.  11.  22.  20.  14.   0.   0.   0.]\n",
      "cell-AAGGTGCAGCCTGACA-3 ENSG00000187634\n",
      "[ 21.  25.  28.  14.  29.  37.  19.  23.  42.  50.  77.  24.   4.  16.\n",
      "  21.   6.  26.  62.  95.  18.  68.  95.  55.  91.  24.  55.  58.  17.\n",
      "  14.  54.  97.  28.  35.  44.  78.  14.  57. 108.  77.  65.  60. 115.\n",
      " 134.  46.   9.  31.  77.  20.   5.   2.  15.   4.  28.  59.  20.  31.\n",
      "  23.  39.  69.  42.  11.  22.  20.  14.   0.   0.   0.]\n",
      "cell-TCCTCACAGTCATTAG-3 ENSG00000187634\n",
      "[ 21.  25.  28.  14.  29.  37.  19.  23.  42.  50.  77.  24.   4.  16.\n",
      "  21.   6.  26.  62.  95.  18.  68.  95.  55.  91.  24.  55.  58.  17.\n",
      "  14.  54.  97.  28.  35.  44.  78.  14.  57. 108.  77.  65.  60. 115.\n",
      " 134.  46.   9.  31.  77.  20.   5.   2.  15.   4.  28.  59.  20.  31.\n",
      "  23.  39.  69.  42.  11.  22.  20.  14.   0.   0.   0.]\n",
      "cell-TCCTTGCAGGAAGCTA-3 ENSG00000187634\n",
      "[ 21.  25.  28.  14.  29.  37.  19.  23.  42.  50.  77.  24.   4.  16.\n",
      "  21.   6.  26.  62.  95.  18.  68.  95.  55.  91.  24.  55.  58.  17.\n",
      "  14.  54.  97.  28.  35.  44.  78.  14.  57. 108.  77.  65.  60. 115.\n",
      " 134.  46.   9.  31.  77.  20.   5.   2.  15.   4.  28.  59.  20.  31.\n",
      "  23.  39.  69.  42.  11.  22.  20.  14.   0.   0.   0.]\n",
      "cell-TTGCAAGGTAATCGTG-3 ENSG00000187634\n",
      "[ 21.  25.  28.  14.  29.  37.  19.  23.  42.  50.  77.  24.   4.  16.\n",
      "  21.   6.  26.  62.  95.  18.  68.  95.  55.  91.  24.  55.  58.  17.\n",
      "  14.  54.  97.  28.  35.  44.  78.  14.  57. 108.  77.  65.  60. 115.\n",
      " 134.  46.   9.  31.  77.  20.   5.   2.  15.   4.  28.  59.  20.  31.\n",
      "  23.  39.  69.  42.  11.  22.  20.  14.   0.   0.   0.]\n",
      "cell-ATCAGGTTCATTTGTC-2 ENSG00000187634\n",
      "[ 21.  25.  28.  14.  29.  37.  19.  23.  42.  50.  77.  24.   4.  16.\n",
      "  21.   6.  26.  62.  95.  18.  68.  95.  55.  91.  24.  55.  58.  17.\n",
      "  14.  54.  97.  28.  35.  44.  78.  14.  57. 108.  77.  65.  60. 115.\n",
      " 134.  46.   9.  31.  77.  20.   5.   2.  15.   4.  28.  59.  20.  31.\n",
      "  23.  39.  69.  42.  11.  22.  20.  14.   0.   0.   0.]\n",
      "cell-CTCTTGATCCTTGAGG-4 ENSG00000187634\n",
      "[ 21.  25.  28.  14.  29.  37.  19.  23.  42.  50.  77.  24.   4.  16.\n",
      "  21.   6.  26.  62.  95.  18.  68.  95.  55.  91.  24.  55.  58.  17.\n",
      "  14.  54.  97.  28.  35.  44.  78.  14.  57. 108.  77.  65.  60. 115.\n",
      " 134.  46.   9.  31.  77.  20.   5.   2.  15.   4.  28.  59.  20.  31.\n",
      "  23.  39.  69.  42.  11.  22.  20.  14.   0.   0.   0.]\n",
      "cell-AGTCAAGAGTGTTGCG-2 ENSG00000187634\n",
      "[ 21.  25.  28.  14.  29.  37.  19.  23.  42.  50.  77.  24.   4.  16.\n",
      "  21.   6.  26.  62.  95.  18.  68.  95.  55.  91.  24.  55.  58.  17.\n",
      "  14.  54.  97.  28.  35.  44.  78.  14.  57. 108.  77.  65.  60. 115.\n",
      " 134.  46.   9.  31.  77.  20.   5.   2.  15.   4.  28.  59.  20.  31.\n",
      "  23.  39.  69.  42.  11.  22.  20.  14.   0.   0.   0.]\n",
      "cell-CTTACCTCATCCATCT-3 ENSG00000187634\n",
      "[ 21.  25.  28.  14.  29.  37.  19.  23.  42.  50.  77.  24.   4.  16.\n",
      "  21.   6.  26.  62.  95.  18.  68.  95.  55.  91.  24.  55.  58.  17.\n",
      "  14.  54.  97.  28.  35.  44.  78.  14.  57. 108.  77.  65.  60. 115.\n",
      " 134.  46.   9.  31.  77.  20.   5.   2.  15.   4.  28.  59.  20.  31.\n",
      "  23.  39.  69.  42.  11.  22.  20.  14.   0.   0.   0.]\n",
      "cell-AGCAAATAGCCTGGTA-4 ENSG00000187634\n",
      "[ 21.  25.  28.  14.  29.  37.  19.  23.  42.  50.  77.  24.   4.  16.\n",
      "  21.   6.  26.  62.  95.  18.  68.  95.  55.  91.  24.  55.  58.  17.\n",
      "  14.  54.  97.  28.  35.  44.  78.  14.  57. 108.  77.  65.  60. 115.\n",
      " 134.  46.   9.  31.  77.  20.   5.   2.  15.   4.  28.  59.  20.  31.\n",
      "  23.  39.  69.  42.  11.  22.  20.  14.   0.   0.   0.]\n",
      "cell-CACCTCAGTAATTAGC-3 ENSG00000187634\n",
      "[ 21.  25.  28.  14.  29.  37.  19.  23.  42.  50.  77.  24.   4.  16.\n",
      "  21.   6.  26.  62.  95.  18.  68.  95.  55.  91.  24.  55.  58.  17.\n",
      "  14.  54.  97.  28.  35.  44.  78.  14.  57. 108.  77.  65.  60. 115.\n",
      " 134.  46.   9.  31.  77.  20.   5.   2.  15.   4.  28.  59.  20.  31.\n",
      "  23.  39.  69.  42.  11.  22.  20.  14.   0.   0.   0.]\n",
      "cell-CGGCTAATCGCTAGCA-1 ENSG00000187634\n",
      "[ 21.  25.  28.  14.  29.  37.  19.  23.  42.  50.  77.  24.   4.  16.\n",
      "  21.   6.  26.  62.  95.  18.  68.  95.  55.  91.  24.  55.  58.  17.\n",
      "  14.  54.  97.  28.  35.  44.  78.  14.  57. 108.  77.  65.  60. 115.\n",
      " 134.  46.   9.  31.  77.  20.   5.   2.  15.   4.  28.  59.  20.  31.\n",
      "  23.  39.  69.  42.  11.  22.  20.  14.   0.   0.   0.]\n",
      "cell-GGAACTAAGCACCACA-1 ENSG00000187634\n",
      "[ 21.  25.  28.  14.  29.  37.  19.  23.  42.  50.  77.  24.   4.  16.\n",
      "  21.   6.  26.  62.  95.  18.  68.  95.  55.  91.  24.  55.  58.  17.\n",
      "  14.  54.  97.  28.  35.  44.  78.  14.  57. 108.  77.  65.  60. 115.\n",
      " 134.  46.   9.  31.  77.  20.   5.   2.  15.   4.  28.  59.  20.  31.\n",
      "  23.  39.  69.  42.  11.  22.  20.  14.   0.   0.   0.]\n",
      "cell-GAGGTACAGGCGAAAC-4 ENSG00000187634\n",
      "[ 21.  25.  28.  14.  29.  37.  19.  23.  42.  50.  77.  24.   4.  16.\n",
      "  21.   6.  26.  62.  95.  18.  68.  95.  55.  91.  24.  55.  58.  17.\n",
      "  14.  54.  97.  28.  35.  44.  78.  14.  57. 108.  77.  65.  60. 115.\n",
      " 134.  46.   9.  31.  77.  20.   5.   2.  15.   4.  28.  59.  20.  31.\n",
      "  23.  39.  69.  42.  11.  22.  20.  14.   0.   0.   0.]\n",
      "cell-CTTTCTTGTTGTAAAC-1 ENSG00000187634\n",
      "[ 21.  25.  28.  14.  29.  37.  19.  23.  42.  50.  77.  24.   4.  16.\n",
      "  21.   6.  26.  62.  95.  18.  68.  95.  55.  91.  24.  55.  58.  17.\n",
      "  14.  54.  97.  28.  35.  44.  78.  14.  57. 108.  77.  65.  60. 115.\n",
      " 134.  46.   9.  31.  77.  20.   5.   2.  15.   4.  28.  59.  20.  31.\n",
      "  23.  39.  69.  42.  11.  22.  20.  14.   0.   0.   0.]\n",
      "cell-CCTTACTCAAGGTGCA-3 ENSG00000187634\n",
      "[ 21.  25.  28.  14.  29.  37.  19.  23.  42.  50.  77.  24.   4.  16.\n",
      "  21.   6.  26.  62.  95.  18.  68.  95.  55.  91.  24.  55.  58.  17.\n",
      "  14.  54.  97.  28.  35.  44.  78.  14.  57. 108.  77.  65.  60. 115.\n",
      " 134.  46.   9.  31.  77.  20.   5.   2.  15.   4.  28.  59.  20.  31.\n",
      "  23.  39.  69.  42.  11.  22.  20.  14.   0.   0.   0.]\n",
      "cell-TTCCTCAAGATAGACG-4 ENSG00000187634\n",
      "[ 21.  25.  28.  14.  29.  37.  19.  23.  42.  50.  77.  24.   4.  16.\n",
      "  21.   6.  26.  62.  95.  18.  68.  95.  55.  91.  24.  55.  58.  17.\n",
      "  14.  54.  97.  28.  35.  44.  78.  14.  57. 108.  77.  65.  60. 115.\n",
      " 134.  46.   9.  31.  77.  20.   5.   2.  15.   4.  28.  59.  20.  31.\n",
      "  23.  39.  69.  42.  11.  22.  20.  14.   0.   0.   0.]\n",
      "cell-ACAGGTAAGCGGCTGT-4 ENSG00000187634\n",
      "[ 21.  25.  28.  14.  29.  37.  19.  23.  42.  50.  77.  24.   4.  16.\n",
      "  21.   6.  26.  62.  95.  18.  68.  95.  55.  91.  24.  55.  58.  17.\n",
      "  14.  54.  97.  28.  35.  44.  78.  14.  57. 108.  77.  65.  60. 115.\n",
      " 134.  46.   9.  31.  77.  20.   5.   2.  15.   4.  28.  59.  20.  31.\n",
      "  23.  39.  69.  42.  11.  22.  20.  14.   0.   0.   0.]\n",
      "cell-CGGGACAAGATAAAGC-3 ENSG00000187634\n",
      "[ 21.  25.  28.  14.  29.  37.  19.  23.  42.  50.  77.  24.   4.  16.\n",
      "  21.   6.  26.  62.  95.  18.  68.  95.  55.  91.  24.  55.  58.  17.\n",
      "  14.  54.  97.  28.  35.  44.  78.  14.  57. 108.  77.  65.  60. 115.\n",
      " 134.  46.   9.  31.  77.  20.   5.   2.  15.   4.  28.  59.  20.  31.\n",
      "  23.  39.  69.  42.  11.  22.  20.  14.   0.   0.   0.]\n",
      "cell-ACACTTGCATAGCAGG-3 ENSG00000187634\n",
      "[ 21.  25.  28.  14.  29.  37.  19.  23.  42.  50.  77.  24.   4.  16.\n",
      "  21.   6.  26.  62.  95.  18.  68.  95.  55.  91.  24.  55.  58.  17.\n",
      "  14.  54.  97.  28.  35.  44.  78.  14.  57. 108.  77.  65.  60. 115.\n",
      " 134.  46.   9.  31.  77.  20.   5.   2.  15.   4.  28.  59.  20.  31.\n",
      "  23.  39.  69.  42.  11.  22.  20.  14.   0.   0.   0.]\n",
      "cell-CCTACTTCAACCTGGT-2 ENSG00000187634\n",
      "[ 21.  25.  28.  14.  29.  37.  19.  23.  42.  50.  77.  24.   4.  16.\n",
      "  21.   6.  26.  62.  95.  18.  68.  95.  55.  91.  24.  55.  58.  17.\n",
      "  14.  54.  97.  28.  35.  44.  78.  14.  57. 108.  77.  65.  60. 115.\n",
      " 134.  46.   9.  31.  77.  20.   5.   2.  15.   4.  28.  59.  20.  31.\n",
      "  23.  39.  69.  42.  11.  22.  20.  14.   0.   0.   0.]\n",
      "cell-TCCATAAAGGGCTTTG-3 ENSG00000187634\n",
      "[ 21.  25.  28.  14.  29.  37.  19.  23.  42.  50.  77.  24.   4.  16.\n",
      "  21.   6.  26.  62.  95.  18.  68.  95.  55.  91.  24.  55.  58.  17.\n",
      "  14.  54.  97.  28.  35.  44.  78.  14.  57. 108.  77.  65.  60. 115.\n",
      " 134.  46.   9.  31.  77.  20.   5.   2.  15.   4.  28.  59.  20.  31.\n",
      "  23.  39.  69.  42.  11.  22.  20.  14.   0.   0.   0.]\n",
      "cell-AATGCATGTACTGAAT-3 ENSG00000187634\n",
      "[ 21.  25.  28.  14.  29.  37.  19.  23.  42.  50.  77.  24.   4.  16.\n",
      "  21.   6.  26.  62.  95.  18.  68.  95.  55.  91.  24.  55.  58.  17.\n",
      "  14.  54.  97.  28.  35.  44.  78.  14.  57. 108.  77.  65.  60. 115.\n",
      " 134.  46.   9.  31.  77.  20.   5.   2.  15.   4.  28.  59.  20.  31.\n",
      "  23.  39.  69.  42.  11.  22.  20.  14.   0.   0.   0.]\n",
      "cell-GATCGATTCTGTGAGT-2 ENSG00000187634\n",
      "[ 21.  25.  28.  14.  29.  37.  19.  23.  42.  50.  77.  24.   4.  16.\n",
      "  21.   6.  26.  62.  95.  18.  68.  95.  55.  91.  24.  55.  58.  17.\n",
      "  14.  54.  97.  28.  35.  44.  78.  14.  57. 108.  77.  65.  60. 115.\n",
      " 134.  46.   9.  31.  77.  20.   5.   2.  15.   4.  28.  59.  20.  31.\n",
      "  23.  39.  69.  42.  11.  22.  20.  14.   0.   0.   0.]\n",
      "cell-GGGAATATCTAAATCG-2 ENSG00000187634\n",
      "[ 21.  25.  28.  14.  29.  37.  19.  23.  42.  50.  77.  24.   4.  16.\n",
      "  21.   6.  26.  62.  95.  18.  68.  95.  55.  91.  24.  55.  58.  17.\n",
      "  14.  54.  97.  28.  35.  44.  78.  14.  57. 108.  77.  65.  60. 115.\n",
      " 134.  46.   9.  31.  77.  20.   5.   2.  15.   4.  28.  59.  20.  31.\n",
      "  23.  39.  69.  42.  11.  22.  20.  14.   0.   0.   0.]\n",
      "cell-CCTATTGTCTAATTGG-4 ENSG00000187634\n",
      "[ 21.  25.  28.  14.  29.  37.  19.  23.  42.  50.  77.  24.   4.  16.\n",
      "  21.   6.  26.  62.  95.  18.  68.  95.  55.  91.  24.  55.  58.  17.\n",
      "  14.  54.  97.  28.  35.  44.  78.  14.  57. 108.  77.  65.  60. 115.\n",
      " 134.  46.   9.  31.  77.  20.   5.   2.  15.   4.  28.  59.  20.  31.\n",
      "  23.  39.  69.  42.  11.  22.  20.  14.   0.   0.   0.]\n",
      "cell-CGCAAATTCTAACCTT-1 ENSG00000187634\n",
      "[ 21.  25.  28.  14.  29.  37.  19.  23.  42.  50.  77.  24.   4.  16.\n",
      "  21.   6.  26.  62.  95.  18.  68.  95.  55.  91.  24.  55.  58.  17.\n",
      "  14.  54.  97.  28.  35.  44.  78.  14.  57. 108.  77.  65.  60. 115.\n",
      " 134.  46.   9.  31.  77.  20.   5.   2.  15.   4.  28.  59.  20.  31.\n",
      "  23.  39.  69.  42.  11.  22.  20.  14.   0.   0.   0.]\n",
      "cell-TCAGCGATCCCTGATC-4 ENSG00000187634\n",
      "[ 21.  25.  28.  14.  29.  37.  19.  23.  42.  50.  77.  24.   4.  16.\n",
      "  21.   6.  26.  62.  95.  18.  68.  95.  55.  91.  24.  55.  58.  17.\n",
      "  14.  54.  97.  28.  35.  44.  78.  14.  57. 108.  77.  65.  60. 115.\n",
      " 134.  46.   9.  31.  77.  20.   5.   2.  15.   4.  28.  59.  20.  31.\n",
      "  23.  39.  69.  42.  11.  22.  20.  14.   0.   0.   0.]\n",
      "cell-GGCTCAATCCTGGCTT-2 ENSG00000187634\n",
      "[ 21.  25.  28.  14.  29.  37.  19.  23.  42.  50.  77.  24.   4.  16.\n",
      "  21.   6.  26.  62.  95.  18.  68.  95.  55.  91.  24.  55.  58.  17.\n",
      "  14.  54.  97.  28.  35.  44.  78.  14.  57. 108.  77.  65.  60. 115.\n",
      " 134.  46.   9.  31.  77.  20.   5.   2.  15.   4.  28.  59.  20.  31.\n",
      "  23.  39.  69.  42.  11.  22.  20.  14.   0.   0.   0.]\n",
      "cell-GCATATATCAGAAACG-4 ENSG00000187634\n",
      "[ 21.  25.  28.  14.  29.  37.  19.  23.  42.  50.  77.  24.   4.  16.\n",
      "  21.   6.  26.  62.  95.  18.  68.  95.  55.  91.  24.  55.  58.  17.\n",
      "  14.  54.  97.  28.  35.  44.  78.  14.  57. 108.  77.  65.  60. 115.\n",
      " 134.  46.   9.  31.  77.  20.   5.   2.  15.   4.  28.  59.  20.  31.\n",
      "  23.  39.  69.  42.  11.  22.  20.  14.   0.   0.   0.]\n",
      "cell-TGAAACTGTGGTTAGC-3 ENSG00000187634\n",
      "[ 21.  25.  28.  14.  29.  37.  19.  23.  42.  50.  77.  24.   4.  16.\n",
      "  21.   6.  26.  62.  95.  18.  68.  95.  55.  91.  24.  55.  58.  17.\n",
      "  14.  54.  97.  28.  35.  44.  78.  14.  57. 108.  77.  65.  60. 115.\n",
      " 134.  46.   9.  31.  77.  20.   5.   2.  15.   4.  28.  59.  20.  31.\n",
      "  23.  39.  69.  42.  11.  22.  20.  14.   0.   0.   0.]\n",
      "cell-ACTTCGCTCACGAATC-1 ENSG00000187634\n",
      "[ 21.  25.  28.  14.  29.  37.  19.  23.  42.  50.  77.  24.   4.  16.\n",
      "  21.   6.  26.  62.  95.  18.  68.  95.  55.  91.  24.  55.  58.  17.\n",
      "  14.  54.  97.  28.  35.  44.  78.  14.  57. 108.  77.  65.  60. 115.\n",
      " 134.  46.   9.  31.  77.  20.   5.   2.  15.   4.  28.  59.  20.  31.\n",
      "  23.  39.  69.  42.  11.  22.  20.  14.   0.   0.   0.]\n",
      "cell-TATGCATCATCCTAGA-4 ENSG00000187634\n",
      "[ 21.  25.  28.  14.  29.  37.  19.  23.  42.  50.  77.  24.   4.  16.\n",
      "  21.   6.  26.  62.  95.  18.  68.  95.  55.  91.  24.  55.  58.  17.\n",
      "  14.  54.  97.  28.  35.  44.  78.  14.  57. 108.  77.  65.  60. 115.\n",
      " 134.  46.   9.  31.  77.  20.   5.   2.  15.   4.  28.  59.  20.  31.\n",
      "  23.  39.  69.  42.  11.  22.  20.  14.   0.   0.   0.]\n",
      "cell-AGTTGGCGTACCCACC-4 ENSG00000187634\n",
      "[ 21.  25.  28.  14.  29.  37.  19.  23.  42.  50.  77.  24.   4.  16.\n",
      "  21.   6.  26.  62.  95.  18.  68.  95.  55.  91.  24.  55.  58.  17.\n",
      "  14.  54.  97.  28.  35.  44.  78.  14.  57. 108.  77.  65.  60. 115.\n",
      " 134.  46.   9.  31.  77.  20.   5.   2.  15.   4.  28.  59.  20.  31.\n",
      "  23.  39.  69.  42.  11.  22.  20.  14.   0.   0.   0.]\n",
      "cell-ATCTATGAGTTCCTCA-2 ENSG00000187634\n",
      "[ 21.  25.  28.  14.  29.  37.  19.  23.  42.  50.  77.  24.   4.  16.\n",
      "  21.   6.  26.  62.  95.  18.  68.  95.  55.  91.  24.  55.  58.  17.\n",
      "  14.  54.  97.  28.  35.  44.  78.  14.  57. 108.  77.  65.  60. 115.\n",
      " 134.  46.   9.  31.  77.  20.   5.   2.  15.   4.  28.  59.  20.  31.\n",
      "  23.  39.  69.  42.  11.  22.  20.  14.   0.   0.   0.]\n",
      "cell-AACGACAAGGTAAGGC-4 ENSG00000187634\n",
      "[ 21.  25.  28.  14.  29.  37.  19.  23.  42.  50.  77.  24.   4.  16.\n",
      "  21.   6.  26.  62.  95.  18.  68.  95.  55.  91.  24.  55.  58.  17.\n",
      "  14.  54.  97.  28.  35.  44.  78.  14.  57. 108.  77.  65.  60. 115.\n",
      " 134.  46.   9.  31.  77.  20.   5.   2.  15.   4.  28.  59.  20.  31.\n",
      "  23.  39.  69.  42.  11.  22.  20.  14.   0.   0.   0.]\n",
      "cell-CAATGTCAGACAAGTG-4 ENSG00000187634\n",
      "[ 21.  25.  28.  14.  29.  37.  19.  23.  42.  50.  77.  24.   4.  16.\n",
      "  21.   6.  26.  62.  95.  18.  68.  95.  55.  91.  24.  55.  58.  17.\n",
      "  14.  54.  97.  28.  35.  44.  78.  14.  57. 108.  77.  65.  60. 115.\n",
      " 134.  46.   9.  31.  77.  20.   5.   2.  15.   4.  28.  59.  20.  31.\n",
      "  23.  39.  69.  42.  11.  22.  20.  14.   0.   0.   0.]\n",
      "cell-CGGTGAGAGGACTTAC-4 ENSG00000187634\n",
      "[ 21.  25.  28.  14.  29.  37.  19.  23.  42.  50.  77.  24.   4.  16.\n",
      "  21.   6.  26.  62.  95.  18.  68.  95.  55.  91.  24.  55.  58.  17.\n",
      "  14.  54.  97.  28.  35.  44.  78.  14.  57. 108.  77.  65.  60. 115.\n",
      " 134.  46.   9.  31.  77.  20.   5.   2.  15.   4.  28.  59.  20.  31.\n",
      "  23.  39.  69.  42.  11.  22.  20.  14.   0.   0.   1.]\n",
      "cell-AATGTCCAGTAAGAAC-4 ENSG00000187634\n",
      "[ 21.  25.  28.  14.  29.  37.  19.  23.  42.  50.  77.  24.   4.  16.\n",
      "  21.   6.  26.  62.  95.  18.  68.  95.  55.  91.  24.  55.  58.  17.\n",
      "  14.  54.  97.  28.  35.  44.  78.  14.  57. 108.  77.  65.  60. 115.\n",
      " 134.  46.   9.  31.  77.  20.   5.   2.  15.   4.  28.  59.  20.  31.\n",
      "  23.  39.  69.  42.  11.  22.  20.  14.   0.   0.   0.]\n",
      "cell-TCAGCAAGTATTCGCT-3 ENSG00000187634\n",
      "[ 21.  25.  28.  14.  29.  37.  19.  23.  42.  50.  77.  24.   4.  16.\n",
      "  21.   6.  26.  62.  95.  18.  68.  95.  55.  91.  24.  55.  58.  17.\n",
      "  14.  54.  97.  28.  35.  44.  78.  14.  57. 108.  77.  65.  60. 115.\n",
      " 134.  46.   9.  31.  77.  20.   5.   2.  15.   4.  28.  59.  20.  31.\n",
      "  23.  39.  69.  42.  11.  22.  20.  14.   0.   0.   0.]\n",
      "cell-CATGAGGCACGGTTTA-1 ENSG00000187634\n"
     ]
    },
    {
     "ename": "KeyboardInterrupt",
     "evalue": "",
     "output_type": "error",
     "traceback": [
      "\u001b[1;31m---------------------------------------------------------------------------\u001b[0m",
      "\u001b[1;31mKeyboardInterrupt\u001b[0m                         Traceback (most recent call last)",
      "Cell \u001b[1;32mIn[19], line 11\u001b[0m\n\u001b[0;32m      8\u001b[0m barcode_strip \u001b[38;5;241m=\u001b[39m barcode\u001b[38;5;241m.\u001b[39mstrip(\u001b[38;5;124m'\u001b[39m\u001b[38;5;124mcell-\u001b[39m\u001b[38;5;124m'\u001b[39m)\n\u001b[0;32m     10\u001b[0m \u001b[38;5;66;03m# Access the row corresponding to (gene_id, barcodes)\u001b[39;00m\n\u001b[1;32m---> 11\u001b[0m row_class \u001b[38;5;241m=\u001b[39m classification_df\u001b[38;5;241m.\u001b[39mloc[(classification_df[\u001b[38;5;124m\"\u001b[39m\u001b[38;5;124mgene_id\u001b[39m\u001b[38;5;124m\"\u001b[39m] \u001b[38;5;241m==\u001b[39m gene_id) \u001b[38;5;241m&\u001b[39m (\u001b[43mclassification_df\u001b[49m\u001b[43m[\u001b[49m\u001b[38;5;124;43m\"\u001b[39;49m\u001b[38;5;124;43mbarcode\u001b[39;49m\u001b[38;5;124;43m\"\u001b[39;49m\u001b[43m]\u001b[49m\u001b[43m \u001b[49m\u001b[38;5;241;43m==\u001b[39;49m\u001b[43m \u001b[49m\u001b[43mbarcode_strip\u001b[49m)]\n\u001b[0;32m     13\u001b[0m \u001b[38;5;66;03m#expression = row_class['expression_count'].iloc[0]\u001b[39;00m\n\u001b[0;32m     14\u001b[0m \u001b[38;5;66;03m#print(f'Expression: {expression}')\u001b[39;00m\n\u001b[0;32m     15\u001b[0m \u001b[38;5;66;03m#classification = row_class['classification'].iloc[0]\u001b[39;00m\n\u001b[0;32m     16\u001b[0m \u001b[38;5;66;03m#print(f'Class: {classification}')\u001b[39;00m\n\u001b[0;32m     18\u001b[0m X_row, _ \u001b[38;5;241m=\u001b[39m aggregate_matrix(embed_matrix)\n",
      "File \u001b[1;32mc:\\Users\\gajaj\\anaconda3\\envs\\preprocessing\\lib\\site-packages\\pandas\\core\\ops\\common.py:76\u001b[0m, in \u001b[0;36m_unpack_zerodim_and_defer.<locals>.new_method\u001b[1;34m(self, other)\u001b[0m\n\u001b[0;32m     72\u001b[0m             \u001b[38;5;28;01mreturn\u001b[39;00m \u001b[38;5;28mNotImplemented\u001b[39m\n\u001b[0;32m     74\u001b[0m other \u001b[38;5;241m=\u001b[39m item_from_zerodim(other)\n\u001b[1;32m---> 76\u001b[0m \u001b[38;5;28;01mreturn\u001b[39;00m \u001b[43mmethod\u001b[49m\u001b[43m(\u001b[49m\u001b[38;5;28;43mself\u001b[39;49m\u001b[43m,\u001b[49m\u001b[43m \u001b[49m\u001b[43mother\u001b[49m\u001b[43m)\u001b[49m\n",
      "File \u001b[1;32mc:\\Users\\gajaj\\anaconda3\\envs\\preprocessing\\lib\\site-packages\\pandas\\core\\arraylike.py:40\u001b[0m, in \u001b[0;36mOpsMixin.__eq__\u001b[1;34m(self, other)\u001b[0m\n\u001b[0;32m     38\u001b[0m \u001b[38;5;129m@unpack_zerodim_and_defer\u001b[39m(\u001b[38;5;124m\"\u001b[39m\u001b[38;5;124m__eq__\u001b[39m\u001b[38;5;124m\"\u001b[39m)\n\u001b[0;32m     39\u001b[0m \u001b[38;5;28;01mdef\u001b[39;00m \u001b[38;5;21m__eq__\u001b[39m(\u001b[38;5;28mself\u001b[39m, other):\n\u001b[1;32m---> 40\u001b[0m     \u001b[38;5;28;01mreturn\u001b[39;00m \u001b[38;5;28;43mself\u001b[39;49m\u001b[38;5;241;43m.\u001b[39;49m\u001b[43m_cmp_method\u001b[49m\u001b[43m(\u001b[49m\u001b[43mother\u001b[49m\u001b[43m,\u001b[49m\u001b[43m \u001b[49m\u001b[43moperator\u001b[49m\u001b[38;5;241;43m.\u001b[39;49m\u001b[43meq\u001b[49m\u001b[43m)\u001b[49m\n",
      "File \u001b[1;32mc:\\Users\\gajaj\\anaconda3\\envs\\preprocessing\\lib\\site-packages\\pandas\\core\\series.py:6119\u001b[0m, in \u001b[0;36mSeries._cmp_method\u001b[1;34m(self, other, op)\u001b[0m\n\u001b[0;32m   6116\u001b[0m lvalues \u001b[38;5;241m=\u001b[39m \u001b[38;5;28mself\u001b[39m\u001b[38;5;241m.\u001b[39m_values\n\u001b[0;32m   6117\u001b[0m rvalues \u001b[38;5;241m=\u001b[39m extract_array(other, extract_numpy\u001b[38;5;241m=\u001b[39m\u001b[38;5;28;01mTrue\u001b[39;00m, extract_range\u001b[38;5;241m=\u001b[39m\u001b[38;5;28;01mTrue\u001b[39;00m)\n\u001b[1;32m-> 6119\u001b[0m res_values \u001b[38;5;241m=\u001b[39m \u001b[43mops\u001b[49m\u001b[38;5;241;43m.\u001b[39;49m\u001b[43mcomparison_op\u001b[49m\u001b[43m(\u001b[49m\u001b[43mlvalues\u001b[49m\u001b[43m,\u001b[49m\u001b[43m \u001b[49m\u001b[43mrvalues\u001b[49m\u001b[43m,\u001b[49m\u001b[43m \u001b[49m\u001b[43mop\u001b[49m\u001b[43m)\u001b[49m\n\u001b[0;32m   6121\u001b[0m \u001b[38;5;28;01mreturn\u001b[39;00m \u001b[38;5;28mself\u001b[39m\u001b[38;5;241m.\u001b[39m_construct_result(res_values, name\u001b[38;5;241m=\u001b[39mres_name)\n",
      "File \u001b[1;32mc:\\Users\\gajaj\\anaconda3\\envs\\preprocessing\\lib\\site-packages\\pandas\\core\\ops\\array_ops.py:344\u001b[0m, in \u001b[0;36mcomparison_op\u001b[1;34m(left, right, op)\u001b[0m\n\u001b[0;32m    341\u001b[0m     \u001b[38;5;28;01mreturn\u001b[39;00m invalid_comparison(lvalues, rvalues, op)\n\u001b[0;32m    343\u001b[0m \u001b[38;5;28;01melif\u001b[39;00m lvalues\u001b[38;5;241m.\u001b[39mdtype \u001b[38;5;241m==\u001b[39m \u001b[38;5;28mobject\u001b[39m \u001b[38;5;129;01mor\u001b[39;00m \u001b[38;5;28misinstance\u001b[39m(rvalues, \u001b[38;5;28mstr\u001b[39m):\n\u001b[1;32m--> 344\u001b[0m     res_values \u001b[38;5;241m=\u001b[39m \u001b[43mcomp_method_OBJECT_ARRAY\u001b[49m\u001b[43m(\u001b[49m\u001b[43mop\u001b[49m\u001b[43m,\u001b[49m\u001b[43m \u001b[49m\u001b[43mlvalues\u001b[49m\u001b[43m,\u001b[49m\u001b[43m \u001b[49m\u001b[43mrvalues\u001b[49m\u001b[43m)\u001b[49m\n\u001b[0;32m    346\u001b[0m \u001b[38;5;28;01melse\u001b[39;00m:\n\u001b[0;32m    347\u001b[0m     res_values \u001b[38;5;241m=\u001b[39m _na_arithmetic_op(lvalues, rvalues, op, is_cmp\u001b[38;5;241m=\u001b[39m\u001b[38;5;28;01mTrue\u001b[39;00m)\n",
      "File \u001b[1;32mc:\\Users\\gajaj\\anaconda3\\envs\\preprocessing\\lib\\site-packages\\pandas\\core\\ops\\array_ops.py:130\u001b[0m, in \u001b[0;36mcomp_method_OBJECT_ARRAY\u001b[1;34m(op, x, y)\u001b[0m\n\u001b[0;32m    128\u001b[0m \u001b[38;5;28;01melse\u001b[39;00m:\n\u001b[0;32m    129\u001b[0m     result \u001b[38;5;241m=\u001b[39m libops\u001b[38;5;241m.\u001b[39mscalar_compare(x\u001b[38;5;241m.\u001b[39mravel(), y, op)\n\u001b[1;32m--> 130\u001b[0m \u001b[38;5;28;01mreturn\u001b[39;00m \u001b[43mresult\u001b[49m\u001b[38;5;241;43m.\u001b[39;49m\u001b[43mreshape\u001b[49m\u001b[43m(\u001b[49m\u001b[43mx\u001b[49m\u001b[38;5;241;43m.\u001b[39;49m\u001b[43mshape\u001b[49m\u001b[43m)\u001b[49m\n",
      "\u001b[1;31mKeyboardInterrupt\u001b[0m: "
     ]
    }
   ],
   "source": [
    "X_output = []\n",
    "y1 = []\n",
    "y2 = []\n",
    "\n",
    "for barcode, gene_id, embed_matrix in embedder:\n",
    "    print(barcode, gene_id)\n",
    "\n",
    "    barcode_strip = barcode.strip('cell-')\n",
    "    \n",
    "    # Access the row corresponding to (gene_id, barcodes)\n",
    "    row_class = classification_df.loc[(classification_df[\"gene_id\"] == gene_id) & (classification_df[\"barcode\"] == barcode_strip)]\n",
    "\n",
    "    #expression = row_class['expression_count'].iloc[0]\n",
    "    #print(f'Expression: {expression}')\n",
    "    #classification = row_class['classification'].iloc[0]\n",
    "    #print(f'Class: {classification}')\n",
    "\n",
    "    X_row, _ = aggregate_matrix(embed_matrix)\n",
    "    print(X_row)\n",
    "\n",
    "    X_output.append(X_row)\n",
    "    #y1.append(expression)\n",
    "    #y2.append(classification)\n"
   ]
  },
  {
   "cell_type": "code",
   "execution_count": 21,
   "metadata": {},
   "outputs": [
    {
     "data": {
      "text/plain": [
       "array([[21., 25., 28., ...,  0.,  0.,  0.],\n",
       "       [21., 25., 28., ...,  0.,  0.,  0.],\n",
       "       [21., 25., 28., ...,  0.,  0.,  0.],\n",
       "       ...,\n",
       "       [21., 25., 28., ...,  0.,  0.,  1.],\n",
       "       [21., 25., 28., ...,  0.,  0.,  0.],\n",
       "       [21., 25., 28., ...,  0.,  0.,  0.]])"
      ]
     },
     "execution_count": 21,
     "metadata": {},
     "output_type": "execute_result"
    }
   ],
   "source": [
    "np.array(X_output)"
   ]
  },
  {
   "cell_type": "code",
   "execution_count": 48,
   "metadata": {},
   "outputs": [],
   "source": [
    "def create_matrix_X_from_embedding(embedder):\n",
    "    X_output = []\n",
    "    y1 = []\n",
    "    y2 = []\n",
    "\n",
    "    for barcode, gene_id, embed_matrix in embedder:\n",
    "        print(barcode, gene_id)\n",
    "\n",
    "        barcode_strip = barcode.strip('cell-')\n",
    "        \n",
    "        # Access the row corresponding to (gene_id, barcodes)\n",
    "        row_gene = gene_df.loc[(gene_df[\"gene_id\"] == gene_id)]\n",
    "        row_class = class_df_test.loc[(class_df_test[\"gene_id\"] == gene_id) & (class_df_test[\"barcode\"] == barcode_strip)]\n",
    "\n",
    "        start = int(row_gene['start'].iloc[0]) \n",
    "        expression = row_class['expression_count'].iloc[0]\n",
    "        classification = row_class['classification'].iloc[0]\n",
    "\n",
    "        X_row, _ = aggregate_matrix(embed_matrix, start)\n",
    "        print(X_row)\n",
    "\n",
    "        X_output.append(X_row)\n",
    "        y1.append(expression)\n",
    "        y2.append(classification)\n",
    "\n",
    "    return np.array(X_output), np.array(y1), np.array(y2)\n",
    "\n",
    "\n",
    "    "
   ]
  },
  {
   "cell_type": "code",
   "execution_count": 49,
   "metadata": {},
   "outputs": [
    {
     "name": "stdout",
     "output_type": "stream",
     "text": [
      "cell-TTTGTTGGTTGAGGTC-3 ENSG00000182162\n",
      "[0. 0. 0. 0. 0. 0. 0. 0. 0. 0. 0. 0. 0. 0. 0. 0. 0. 0. 0. 0. 0. 0. 0. 0.\n",
      " 0. 0. 0. 0. 0. 0. 0. 0. 0. 0. 0. 0. 0. 0. 0. 0. 0. 0. 0. 0. 0. 0. 0. 0.\n",
      " 0. 0. 0. 0. 0. 0. 0. 0. 0. 0. 0. 0. 0. 0. 0. 0. 0. 0. 0.]\n",
      "cell-TTTGTTGGTTGAGGTC-3 ENSG00000182162\n",
      "[0. 0. 0. 0. 0. 0. 0. 0. 0. 0. 0. 0. 0. 0. 0. 0. 0. 0. 0. 0. 0. 0. 0. 0.\n",
      " 0. 0. 0. 0. 0. 0. 0. 0. 0. 0. 0. 0. 0. 0. 0. 0. 0. 0. 0. 0. 0. 0. 0. 0.\n",
      " 0. 0. 0. 0. 0. 0. 0. 0. 0. 0. 0. 0. 0. 0. 0. 0. 0. 0. 0.]\n",
      "cell-TTTGTTGGTTGAGGTC-3 ENSG00000182162\n",
      "[0. 0. 0. 0. 0. 0. 0. 0. 0. 0. 0. 0. 0. 0. 0. 0. 0. 0. 0. 0. 0. 0. 0. 0.\n",
      " 0. 0. 0. 0. 0. 0. 0. 0. 0. 0. 0. 0. 0. 0. 0. 0. 0. 0. 0. 0. 0. 0. 0. 0.\n",
      " 0. 0. 0. 0. 0. 0. 0. 0. 0. 0. 0. 0. 0. 0. 0. 0. 0. 0. 0.]\n",
      "cell-TTTGTTGGTTGAGGTC-3 ENSG00000182162\n",
      "[0. 0. 0. 0. 0. 0. 0. 0. 0. 0. 0. 0. 0. 0. 0. 0. 0. 0. 0. 0. 0. 0. 0. 0.\n",
      " 0. 0. 0. 0. 0. 0. 0. 0. 0. 0. 0. 0. 0. 0. 0. 0. 0. 0. 0. 0. 0. 0. 0. 0.\n",
      " 0. 0. 0. 0. 0. 0. 0. 0. 0. 0. 0. 0. 0. 0. 0. 0. 0. 0. 0.]\n",
      "cell-TTTGTTGGTTGAGGTC-3 ENSG00000182162\n",
      "[0. 0. 0. 0. 0. 0. 0. 0. 0. 0. 0. 0. 0. 0. 0. 0. 0. 0. 0. 0. 0. 0. 0. 0.\n",
      " 0. 0. 0. 0. 0. 0. 0. 0. 0. 0. 0. 0. 0. 0. 0. 0. 0. 0. 0. 0. 0. 0. 0. 0.\n",
      " 0. 0. 0. 0. 0. 0. 0. 0. 0. 0. 0. 0. 0. 0. 0. 0. 0. 0. 0.]\n",
      "cell-TTTGTTGGTTGAGGTC-3 ENSG00000182162\n",
      "[0. 0. 0. 0. 0. 0. 0. 0. 0. 0. 0. 0. 0. 0. 0. 0. 0. 0. 0. 0. 0. 0. 0. 0.\n",
      " 0. 0. 0. 0. 0. 0. 0. 0. 0. 0. 0. 0. 0. 0. 0. 0. 0. 0. 0. 0. 0. 0. 0. 0.\n",
      " 0. 0. 0. 0. 0. 0. 0. 0. 0. 0. 0. 0. 0. 0. 0. 0. 0. 0. 0.]\n",
      "cell-TTTGTTGGTTGAGGTC-3 ENSG00000182162\n",
      "[0. 0. 0. 0. 0. 0. 0. 0. 0. 0. 0. 0. 0. 0. 0. 0. 0. 0. 0. 0. 0. 0. 0. 0.\n",
      " 0. 0. 0. 0. 0. 0. 0. 0. 0. 0. 0. 0. 0. 0. 0. 0. 0. 0. 0. 0. 0. 0. 0. 0.\n",
      " 0. 0. 0. 0. 0. 0. 0. 0. 0. 0. 0. 0. 0. 0. 0. 0. 0. 0. 0.]\n",
      "cell-TTTGTTGGTTGAGGTC-3 ENSG00000182162\n",
      "[0. 0. 0. 0. 0. 0. 0. 0. 0. 0. 0. 0. 0. 0. 0. 0. 0. 0. 0. 0. 0. 0. 0. 0.\n",
      " 0. 0. 0. 0. 0. 0. 0. 0. 0. 0. 0. 0. 0. 0. 0. 0. 0. 0. 0. 0. 0. 0. 0. 0.\n",
      " 0. 0. 0. 0. 0. 0. 0. 0. 0. 0. 0. 0. 0. 0. 0. 0. 0. 0. 0.]\n",
      "cell-TTTGTTGGTTGAGGTC-3 ENSG00000182162\n",
      "[0. 0. 0. 0. 0. 0. 0. 0. 0. 0. 0. 0. 0. 0. 0. 0. 0. 0. 0. 0. 0. 0. 0. 0.\n",
      " 0. 0. 0. 0. 0. 0. 0. 0. 0. 0. 0. 0. 0. 0. 0. 0. 0. 0. 0. 0. 0. 0. 0. 0.\n",
      " 0. 0. 0. 0. 0. 0. 0. 0. 0. 0. 0. 0. 0. 0. 0. 0. 0. 0. 0.]\n",
      "cell-TTTGTTGGTTGAGGTC-3 ENSG00000182162\n",
      "[0. 0. 0. 0. 0. 0. 0. 0. 0. 0. 0. 0. 0. 0. 0. 0. 0. 0. 0. 0. 0. 0. 0. 0.\n",
      " 0. 0. 0. 0. 0. 0. 0. 0. 0. 0. 0. 0. 0. 0. 0. 0. 0. 0. 0. 0. 0. 0. 0. 0.\n",
      " 0. 0. 0. 0. 0. 0. 0. 0. 0. 0. 0. 0. 0. 0. 0. 0. 0. 0. 0.]\n",
      "cell-TTTGTTGGTTGAGGTC-3 ENSG00000182162\n",
      "[0. 0. 0. 0. 0. 0. 0. 0. 0. 0. 0. 0. 0. 0. 0. 0. 0. 0. 0. 0. 0. 0. 0. 0.\n",
      " 0. 0. 0. 0. 0. 0. 0. 0. 0. 0. 0. 0. 0. 0. 0. 0. 0. 0. 0. 0. 0. 0. 0. 0.\n",
      " 0. 0. 0. 0. 0. 0. 0. 0. 0. 0. 0. 0. 0. 0. 0. 0. 0. 0. 0.]\n",
      "cell-TTTGTTGGTTGAGGTC-3 ENSG00000182162\n",
      "[0. 0. 0. 0. 0. 0. 0. 0. 0. 0. 0. 0. 0. 0. 0. 0. 0. 0. 0. 0. 0. 0. 0. 0.\n",
      " 0. 0. 0. 0. 0. 0. 0. 0. 0. 0. 0. 0. 0. 0. 0. 0. 0. 0. 0. 0. 0. 0. 0. 0.\n",
      " 0. 0. 0. 0. 0. 0. 0. 0. 0. 0. 0. 0. 0. 0. 0. 0. 0. 0. 0.]\n",
      "cell-TTTGTTGGTTGAGGTC-3 ENSG00000182162\n",
      "[0. 0. 0. 0. 0. 0. 0. 0. 0. 0. 0. 0. 0. 0. 0. 0. 0. 0. 0. 0. 0. 0. 0. 0.\n",
      " 0. 0. 0. 0. 0. 0. 0. 0. 0. 0. 0. 0. 0. 0. 0. 0. 0. 0. 0. 0. 0. 0. 0. 0.\n",
      " 0. 0. 0. 0. 0. 0. 0. 0. 0. 0. 0. 0. 0. 0. 0. 0. 0. 0. 0.]\n",
      "cell-TTTGTTGGTTGAGGTC-3 ENSG00000182162\n",
      "[0. 0. 0. 0. 0. 0. 0. 0. 0. 0. 0. 0. 0. 0. 0. 0. 0. 0. 0. 0. 0. 0. 0. 0.\n",
      " 0. 0. 0. 0. 0. 0. 0. 0. 0. 0. 0. 0. 0. 0. 0. 0. 0. 0. 0. 0. 0. 0. 0. 0.\n",
      " 0. 0. 0. 0. 0. 0. 0. 0. 0. 0. 0. 0. 0. 0. 0. 0. 0. 0. 0.]\n",
      "cell-TTTGTTGGTTGAGGTC-3 ENSG00000182162\n",
      "[0. 0. 0. 0. 0. 0. 0. 0. 0. 0. 0. 0. 0. 0. 0. 0. 0. 0. 0. 0. 0. 0. 0. 0.\n",
      " 0. 0. 0. 0. 0. 0. 0. 0. 0. 0. 0. 0. 0. 0. 0. 0. 0. 0. 0. 0. 0. 0. 0. 0.\n",
      " 0. 0. 0. 0. 0. 0. 0. 0. 0. 0. 0. 0. 0. 0. 0. 0. 0. 0. 0.]\n",
      "cell-TTTGTTGGTTGAGGTC-3 ENSG00000182162\n",
      "[0. 0. 0. 0. 0. 0. 0. 0. 0. 0. 0. 0. 0. 0. 0. 0. 0. 0. 0. 0. 0. 0. 0. 0.\n",
      " 0. 0. 0. 0. 0. 0. 0. 0. 0. 0. 0. 0. 0. 0. 0. 0. 0. 0. 0. 0. 0. 0. 0. 0.\n",
      " 0. 0. 0. 0. 0. 0. 0. 0. 0. 0. 0. 0. 0. 0. 0. 0. 0. 0. 0.]\n",
      "cell-TTTGTTGGTTGAGGTC-3 ENSG00000182162\n",
      "[0. 0. 0. 0. 0. 0. 0. 0. 0. 0. 0. 0. 0. 0. 0. 0. 0. 0. 0. 0. 0. 0. 0. 0.\n",
      " 0. 0. 0. 0. 0. 0. 0. 0. 0. 0. 0. 0. 0. 0. 0. 0. 0. 0. 0. 0. 0. 0. 0. 0.\n",
      " 0. 0. 0. 0. 0. 0. 0. 0. 0. 0. 0. 0. 0. 0. 0. 0. 0. 0. 0.]\n",
      "cell-TTTGTTGGTTGAGGTC-3 ENSG00000182162\n",
      "[0. 0. 0. 0. 0. 0. 0. 0. 0. 0. 0. 0. 0. 0. 0. 0. 0. 0. 0. 0. 0. 0. 0. 0.\n",
      " 0. 0. 0. 0. 0. 0. 0. 0. 0. 0. 0. 0. 0. 0. 0. 0. 0. 0. 0. 0. 0. 0. 0. 0.\n",
      " 0. 0. 0. 0. 0. 0. 0. 0. 0. 0. 0. 0. 0. 0. 0. 0. 0. 0. 0.]\n",
      "cell-TTTGTTGGTTGAGGTC-3 ENSG00000182162\n",
      "[0. 0. 0. 0. 0. 0. 0. 0. 0. 0. 0. 0. 0. 0. 0. 0. 0. 0. 0. 0. 0. 0. 0. 0.\n",
      " 0. 0. 0. 0. 0. 0. 0. 0. 0. 0. 0. 0. 0. 0. 0. 0. 0. 0. 0. 0. 0. 0. 0. 0.\n",
      " 0. 0. 0. 0. 0. 0. 0. 0. 0. 0. 0. 0. 0. 0. 0. 0. 0. 0. 0.]\n",
      "cell-TTTGTTGGTTGAGGTC-3 ENSG00000182162\n",
      "[0. 0. 0. 0. 0. 0. 0. 0. 0. 0. 0. 0. 0. 0. 0. 0. 0. 0. 0. 0. 0. 0. 0. 0.\n",
      " 0. 0. 0. 0. 0. 0. 0. 0. 0. 0. 0. 0. 0. 0. 0. 0. 0. 0. 0. 0. 0. 0. 0. 0.\n",
      " 0. 0. 0. 0. 0. 0. 0. 0. 0. 0. 0. 0. 0. 0. 0. 0. 0. 0. 0.]\n",
      "cell-TTTGTTGGTTGAGGTC-3 ENSG00000182162\n",
      "[0. 0. 0. 0. 0. 0. 0. 0. 0. 0. 0. 0. 0. 0. 0. 0. 0. 0. 0. 0. 0. 0. 0. 0.\n",
      " 0. 0. 0. 0. 0. 0. 0. 0. 0. 0. 0. 0. 0. 0. 0. 0. 0. 0. 0. 0. 0. 0. 0. 0.\n",
      " 0. 0. 0. 0. 0. 0. 0. 0. 0. 0. 0. 0. 0. 0. 0. 0. 0. 0. 0.]\n",
      "cell-TTTGTTGGTTGAGGTC-3 ENSG00000182162\n",
      "[0. 0. 0. 0. 0. 0. 0. 0. 0. 0. 0. 0. 0. 0. 0. 0. 0. 0. 0. 0. 0. 0. 0. 0.\n",
      " 0. 0. 0. 0. 0. 0. 0. 0. 0. 0. 0. 0. 0. 0. 0. 0. 0. 0. 0. 0. 0. 0. 0. 0.\n",
      " 0. 0. 0. 0. 0. 0. 0. 0. 0. 0. 0. 0. 0. 0. 0. 0. 0. 0. 0.]\n",
      "cell-TTTGTTGGTTGAGGTC-3 ENSG00000182162\n",
      "[0. 0. 0. 0. 0. 0. 0. 0. 0. 0. 0. 0. 0. 0. 0. 0. 0. 0. 0. 0. 0. 0. 0. 0.\n",
      " 0. 0. 0. 0. 0. 0. 0. 0. 0. 0. 0. 0. 0. 0. 0. 0. 0. 0. 0. 0. 0. 0. 0. 0.\n",
      " 0. 0. 0. 0. 0. 0. 0. 0. 0. 0. 0. 0. 0. 0. 0. 0. 0. 0. 0.]\n",
      "cell-TTTGTTGGTTGAGGTC-3 ENSG00000182162\n",
      "[0. 0. 0. 0. 0. 0. 0. 0. 0. 0. 0. 0. 0. 0. 0. 0. 0. 0. 0. 0. 0. 0. 0. 0.\n",
      " 0. 0. 0. 0. 0. 0. 0. 0. 0. 0. 0. 0. 0. 0. 0. 0. 0. 0. 0. 0. 0. 0. 0. 0.\n",
      " 0. 0. 0. 0. 0. 0. 0. 0. 0. 0. 0. 0. 0. 0. 0. 0. 0. 0. 0.]\n",
      "cell-TTTGTTGGTTGAGGTC-3 ENSG00000182162\n",
      "[0. 0. 0. 0. 0. 0. 0. 0. 0. 0. 0. 0. 0. 0. 0. 0. 0. 0. 0. 0. 0. 0. 0. 0.\n",
      " 0. 0. 0. 0. 0. 0. 0. 0. 0. 0. 0. 0. 0. 0. 0. 0. 0. 0. 0. 0. 0. 0. 0. 0.\n",
      " 0. 0. 0. 0. 0. 0. 0. 0. 0. 0. 0. 0. 0. 0. 0. 0. 0. 0. 0.]\n"
     ]
    },
    {
     "ename": "RuntimeError",
     "evalue": "generator raised StopIteration",
     "output_type": "error",
     "traceback": [
      "\u001b[1;31m---------------------------------------------------------------------------\u001b[0m",
      "\u001b[1;31mStopIteration\u001b[0m                             Traceback (most recent call last)",
      "File \u001b[1;32mc:\\Users/gajaj/OneDrive/Documents/TUM/computational_single_cell/Gene-expression-changes-from-CNV/src/dataloader\\embedding.py:398\u001b[0m, in \u001b[0;36membed\u001b[1;34m(fasta_path, atac_path, cnv_path, gene_set, barcode_set, mode, pad_dna, n_upstream, n_downstream, gtf_path)\u001b[0m\n\u001b[0;32m    396\u001b[0m genomic_embeddings\u001b[38;5;241m.\u001b[39mappend(genomic_embedding)\n\u001b[1;32m--> 398\u001b[0m barcode, cnv_gene_id, cnv_embedding \u001b[38;5;241m=\u001b[39m \u001b[38;5;28;43mnext\u001b[39;49m\u001b[43m(\u001b[49m\u001b[43mcnv_embedder\u001b[49m\u001b[43m)\u001b[49m\n\u001b[0;32m    399\u001b[0m \u001b[38;5;28;01massert\u001b[39;00m gene_id \u001b[38;5;241m==\u001b[39m cnv_gene_id\n",
      "\u001b[1;31mStopIteration\u001b[0m: ",
      "\nThe above exception was the direct cause of the following exception:\n",
      "\u001b[1;31mRuntimeError\u001b[0m                              Traceback (most recent call last)",
      "Cell \u001b[1;32mIn[49], line 1\u001b[0m\n\u001b[1;32m----> 1\u001b[0m X_out, y1, y2 \u001b[38;5;241m=\u001b[39m \u001b[43mcreate_matrix_X_from_embedding\u001b[49m\u001b[43m(\u001b[49m\u001b[43membedder\u001b[49m\u001b[43m)\u001b[49m\n",
      "Cell \u001b[1;32mIn[48], line 6\u001b[0m, in \u001b[0;36mcreate_matrix_X_from_embedding\u001b[1;34m(embedder)\u001b[0m\n\u001b[0;32m      3\u001b[0m y1 \u001b[38;5;241m=\u001b[39m []\n\u001b[0;32m      4\u001b[0m y2 \u001b[38;5;241m=\u001b[39m []\n\u001b[1;32m----> 6\u001b[0m \u001b[38;5;28;01mfor\u001b[39;00m barcode, gene_id, embed_matrix \u001b[38;5;129;01min\u001b[39;00m embedder:\n\u001b[0;32m      7\u001b[0m     \u001b[38;5;28mprint\u001b[39m(barcode, gene_id)\n\u001b[0;32m      9\u001b[0m     barcode_strip \u001b[38;5;241m=\u001b[39m barcode\u001b[38;5;241m.\u001b[39mstrip(\u001b[38;5;124m'\u001b[39m\u001b[38;5;124mcell-\u001b[39m\u001b[38;5;124m'\u001b[39m)\n",
      "\u001b[1;31mRuntimeError\u001b[0m: generator raised StopIteration"
     ]
    }
   ],
   "source": [
    "X_out, y1, y2 = create_matrix_X_from_embedding(embedder)"
   ]
  },
  {
   "cell_type": "markdown",
   "metadata": {},
   "source": [
    "## Linear regression 1"
   ]
  },
  {
   "cell_type": "markdown",
   "metadata": {},
   "source": [
    "Fit a linear regression model with covariate matrix X and response vector y1"
   ]
  },
  {
   "cell_type": "code",
   "execution_count": 73,
   "metadata": {},
   "outputs": [],
   "source": [
    "from sklearn.model_selection import train_test_split\n",
    "from sklearn.linear_model import Ridge\n",
    "from sklearn.metrics import mean_squared_error"
   ]
  },
  {
   "cell_type": "code",
   "execution_count": 85,
   "metadata": {},
   "outputs": [],
   "source": [
    "# Step 1: Split the data into train and test sets\n",
    "X_train, X_test, y_train, y_test = train_test_split(X_final, y1_final, test_size=0.2, random_state=42)"
   ]
  },
  {
   "cell_type": "code",
   "execution_count": 86,
   "metadata": {},
   "outputs": [
    {
     "data": {
      "text/html": [
       "<style>#sk-container-id-1 {\n",
       "  /* Definition of color scheme common for light and dark mode */\n",
       "  --sklearn-color-text: #000;\n",
       "  --sklearn-color-text-muted: #666;\n",
       "  --sklearn-color-line: gray;\n",
       "  /* Definition of color scheme for unfitted estimators */\n",
       "  --sklearn-color-unfitted-level-0: #fff5e6;\n",
       "  --sklearn-color-unfitted-level-1: #f6e4d2;\n",
       "  --sklearn-color-unfitted-level-2: #ffe0b3;\n",
       "  --sklearn-color-unfitted-level-3: chocolate;\n",
       "  /* Definition of color scheme for fitted estimators */\n",
       "  --sklearn-color-fitted-level-0: #f0f8ff;\n",
       "  --sklearn-color-fitted-level-1: #d4ebff;\n",
       "  --sklearn-color-fitted-level-2: #b3dbfd;\n",
       "  --sklearn-color-fitted-level-3: cornflowerblue;\n",
       "\n",
       "  /* Specific color for light theme */\n",
       "  --sklearn-color-text-on-default-background: var(--sg-text-color, var(--theme-code-foreground, var(--jp-content-font-color1, black)));\n",
       "  --sklearn-color-background: var(--sg-background-color, var(--theme-background, var(--jp-layout-color0, white)));\n",
       "  --sklearn-color-border-box: var(--sg-text-color, var(--theme-code-foreground, var(--jp-content-font-color1, black)));\n",
       "  --sklearn-color-icon: #696969;\n",
       "\n",
       "  @media (prefers-color-scheme: dark) {\n",
       "    /* Redefinition of color scheme for dark theme */\n",
       "    --sklearn-color-text-on-default-background: var(--sg-text-color, var(--theme-code-foreground, var(--jp-content-font-color1, white)));\n",
       "    --sklearn-color-background: var(--sg-background-color, var(--theme-background, var(--jp-layout-color0, #111)));\n",
       "    --sklearn-color-border-box: var(--sg-text-color, var(--theme-code-foreground, var(--jp-content-font-color1, white)));\n",
       "    --sklearn-color-icon: #878787;\n",
       "  }\n",
       "}\n",
       "\n",
       "#sk-container-id-1 {\n",
       "  color: var(--sklearn-color-text);\n",
       "}\n",
       "\n",
       "#sk-container-id-1 pre {\n",
       "  padding: 0;\n",
       "}\n",
       "\n",
       "#sk-container-id-1 input.sk-hidden--visually {\n",
       "  border: 0;\n",
       "  clip: rect(1px 1px 1px 1px);\n",
       "  clip: rect(1px, 1px, 1px, 1px);\n",
       "  height: 1px;\n",
       "  margin: -1px;\n",
       "  overflow: hidden;\n",
       "  padding: 0;\n",
       "  position: absolute;\n",
       "  width: 1px;\n",
       "}\n",
       "\n",
       "#sk-container-id-1 div.sk-dashed-wrapped {\n",
       "  border: 1px dashed var(--sklearn-color-line);\n",
       "  margin: 0 0.4em 0.5em 0.4em;\n",
       "  box-sizing: border-box;\n",
       "  padding-bottom: 0.4em;\n",
       "  background-color: var(--sklearn-color-background);\n",
       "}\n",
       "\n",
       "#sk-container-id-1 div.sk-container {\n",
       "  /* jupyter's `normalize.less` sets `[hidden] { display: none; }`\n",
       "     but bootstrap.min.css set `[hidden] { display: none !important; }`\n",
       "     so we also need the `!important` here to be able to override the\n",
       "     default hidden behavior on the sphinx rendered scikit-learn.org.\n",
       "     See: https://github.com/scikit-learn/scikit-learn/issues/21755 */\n",
       "  display: inline-block !important;\n",
       "  position: relative;\n",
       "}\n",
       "\n",
       "#sk-container-id-1 div.sk-text-repr-fallback {\n",
       "  display: none;\n",
       "}\n",
       "\n",
       "div.sk-parallel-item,\n",
       "div.sk-serial,\n",
       "div.sk-item {\n",
       "  /* draw centered vertical line to link estimators */\n",
       "  background-image: linear-gradient(var(--sklearn-color-text-on-default-background), var(--sklearn-color-text-on-default-background));\n",
       "  background-size: 2px 100%;\n",
       "  background-repeat: no-repeat;\n",
       "  background-position: center center;\n",
       "}\n",
       "\n",
       "/* Parallel-specific style estimator block */\n",
       "\n",
       "#sk-container-id-1 div.sk-parallel-item::after {\n",
       "  content: \"\";\n",
       "  width: 100%;\n",
       "  border-bottom: 2px solid var(--sklearn-color-text-on-default-background);\n",
       "  flex-grow: 1;\n",
       "}\n",
       "\n",
       "#sk-container-id-1 div.sk-parallel {\n",
       "  display: flex;\n",
       "  align-items: stretch;\n",
       "  justify-content: center;\n",
       "  background-color: var(--sklearn-color-background);\n",
       "  position: relative;\n",
       "}\n",
       "\n",
       "#sk-container-id-1 div.sk-parallel-item {\n",
       "  display: flex;\n",
       "  flex-direction: column;\n",
       "}\n",
       "\n",
       "#sk-container-id-1 div.sk-parallel-item:first-child::after {\n",
       "  align-self: flex-end;\n",
       "  width: 50%;\n",
       "}\n",
       "\n",
       "#sk-container-id-1 div.sk-parallel-item:last-child::after {\n",
       "  align-self: flex-start;\n",
       "  width: 50%;\n",
       "}\n",
       "\n",
       "#sk-container-id-1 div.sk-parallel-item:only-child::after {\n",
       "  width: 0;\n",
       "}\n",
       "\n",
       "/* Serial-specific style estimator block */\n",
       "\n",
       "#sk-container-id-1 div.sk-serial {\n",
       "  display: flex;\n",
       "  flex-direction: column;\n",
       "  align-items: center;\n",
       "  background-color: var(--sklearn-color-background);\n",
       "  padding-right: 1em;\n",
       "  padding-left: 1em;\n",
       "}\n",
       "\n",
       "\n",
       "/* Toggleable style: style used for estimator/Pipeline/ColumnTransformer box that is\n",
       "clickable and can be expanded/collapsed.\n",
       "- Pipeline and ColumnTransformer use this feature and define the default style\n",
       "- Estimators will overwrite some part of the style using the `sk-estimator` class\n",
       "*/\n",
       "\n",
       "/* Pipeline and ColumnTransformer style (default) */\n",
       "\n",
       "#sk-container-id-1 div.sk-toggleable {\n",
       "  /* Default theme specific background. It is overwritten whether we have a\n",
       "  specific estimator or a Pipeline/ColumnTransformer */\n",
       "  background-color: var(--sklearn-color-background);\n",
       "}\n",
       "\n",
       "/* Toggleable label */\n",
       "#sk-container-id-1 label.sk-toggleable__label {\n",
       "  cursor: pointer;\n",
       "  display: flex;\n",
       "  width: 100%;\n",
       "  margin-bottom: 0;\n",
       "  padding: 0.5em;\n",
       "  box-sizing: border-box;\n",
       "  text-align: center;\n",
       "  align-items: start;\n",
       "  justify-content: space-between;\n",
       "  gap: 0.5em;\n",
       "}\n",
       "\n",
       "#sk-container-id-1 label.sk-toggleable__label .caption {\n",
       "  font-size: 0.6rem;\n",
       "  font-weight: lighter;\n",
       "  color: var(--sklearn-color-text-muted);\n",
       "}\n",
       "\n",
       "#sk-container-id-1 label.sk-toggleable__label-arrow:before {\n",
       "  /* Arrow on the left of the label */\n",
       "  content: \"▸\";\n",
       "  float: left;\n",
       "  margin-right: 0.25em;\n",
       "  color: var(--sklearn-color-icon);\n",
       "}\n",
       "\n",
       "#sk-container-id-1 label.sk-toggleable__label-arrow:hover:before {\n",
       "  color: var(--sklearn-color-text);\n",
       "}\n",
       "\n",
       "/* Toggleable content - dropdown */\n",
       "\n",
       "#sk-container-id-1 div.sk-toggleable__content {\n",
       "  max-height: 0;\n",
       "  max-width: 0;\n",
       "  overflow: hidden;\n",
       "  text-align: left;\n",
       "  /* unfitted */\n",
       "  background-color: var(--sklearn-color-unfitted-level-0);\n",
       "}\n",
       "\n",
       "#sk-container-id-1 div.sk-toggleable__content.fitted {\n",
       "  /* fitted */\n",
       "  background-color: var(--sklearn-color-fitted-level-0);\n",
       "}\n",
       "\n",
       "#sk-container-id-1 div.sk-toggleable__content pre {\n",
       "  margin: 0.2em;\n",
       "  border-radius: 0.25em;\n",
       "  color: var(--sklearn-color-text);\n",
       "  /* unfitted */\n",
       "  background-color: var(--sklearn-color-unfitted-level-0);\n",
       "}\n",
       "\n",
       "#sk-container-id-1 div.sk-toggleable__content.fitted pre {\n",
       "  /* unfitted */\n",
       "  background-color: var(--sklearn-color-fitted-level-0);\n",
       "}\n",
       "\n",
       "#sk-container-id-1 input.sk-toggleable__control:checked~div.sk-toggleable__content {\n",
       "  /* Expand drop-down */\n",
       "  max-height: 200px;\n",
       "  max-width: 100%;\n",
       "  overflow: auto;\n",
       "}\n",
       "\n",
       "#sk-container-id-1 input.sk-toggleable__control:checked~label.sk-toggleable__label-arrow:before {\n",
       "  content: \"▾\";\n",
       "}\n",
       "\n",
       "/* Pipeline/ColumnTransformer-specific style */\n",
       "\n",
       "#sk-container-id-1 div.sk-label input.sk-toggleable__control:checked~label.sk-toggleable__label {\n",
       "  color: var(--sklearn-color-text);\n",
       "  background-color: var(--sklearn-color-unfitted-level-2);\n",
       "}\n",
       "\n",
       "#sk-container-id-1 div.sk-label.fitted input.sk-toggleable__control:checked~label.sk-toggleable__label {\n",
       "  background-color: var(--sklearn-color-fitted-level-2);\n",
       "}\n",
       "\n",
       "/* Estimator-specific style */\n",
       "\n",
       "/* Colorize estimator box */\n",
       "#sk-container-id-1 div.sk-estimator input.sk-toggleable__control:checked~label.sk-toggleable__label {\n",
       "  /* unfitted */\n",
       "  background-color: var(--sklearn-color-unfitted-level-2);\n",
       "}\n",
       "\n",
       "#sk-container-id-1 div.sk-estimator.fitted input.sk-toggleable__control:checked~label.sk-toggleable__label {\n",
       "  /* fitted */\n",
       "  background-color: var(--sklearn-color-fitted-level-2);\n",
       "}\n",
       "\n",
       "#sk-container-id-1 div.sk-label label.sk-toggleable__label,\n",
       "#sk-container-id-1 div.sk-label label {\n",
       "  /* The background is the default theme color */\n",
       "  color: var(--sklearn-color-text-on-default-background);\n",
       "}\n",
       "\n",
       "/* On hover, darken the color of the background */\n",
       "#sk-container-id-1 div.sk-label:hover label.sk-toggleable__label {\n",
       "  color: var(--sklearn-color-text);\n",
       "  background-color: var(--sklearn-color-unfitted-level-2);\n",
       "}\n",
       "\n",
       "/* Label box, darken color on hover, fitted */\n",
       "#sk-container-id-1 div.sk-label.fitted:hover label.sk-toggleable__label.fitted {\n",
       "  color: var(--sklearn-color-text);\n",
       "  background-color: var(--sklearn-color-fitted-level-2);\n",
       "}\n",
       "\n",
       "/* Estimator label */\n",
       "\n",
       "#sk-container-id-1 div.sk-label label {\n",
       "  font-family: monospace;\n",
       "  font-weight: bold;\n",
       "  display: inline-block;\n",
       "  line-height: 1.2em;\n",
       "}\n",
       "\n",
       "#sk-container-id-1 div.sk-label-container {\n",
       "  text-align: center;\n",
       "}\n",
       "\n",
       "/* Estimator-specific */\n",
       "#sk-container-id-1 div.sk-estimator {\n",
       "  font-family: monospace;\n",
       "  border: 1px dotted var(--sklearn-color-border-box);\n",
       "  border-radius: 0.25em;\n",
       "  box-sizing: border-box;\n",
       "  margin-bottom: 0.5em;\n",
       "  /* unfitted */\n",
       "  background-color: var(--sklearn-color-unfitted-level-0);\n",
       "}\n",
       "\n",
       "#sk-container-id-1 div.sk-estimator.fitted {\n",
       "  /* fitted */\n",
       "  background-color: var(--sklearn-color-fitted-level-0);\n",
       "}\n",
       "\n",
       "/* on hover */\n",
       "#sk-container-id-1 div.sk-estimator:hover {\n",
       "  /* unfitted */\n",
       "  background-color: var(--sklearn-color-unfitted-level-2);\n",
       "}\n",
       "\n",
       "#sk-container-id-1 div.sk-estimator.fitted:hover {\n",
       "  /* fitted */\n",
       "  background-color: var(--sklearn-color-fitted-level-2);\n",
       "}\n",
       "\n",
       "/* Specification for estimator info (e.g. \"i\" and \"?\") */\n",
       "\n",
       "/* Common style for \"i\" and \"?\" */\n",
       "\n",
       ".sk-estimator-doc-link,\n",
       "a:link.sk-estimator-doc-link,\n",
       "a:visited.sk-estimator-doc-link {\n",
       "  float: right;\n",
       "  font-size: smaller;\n",
       "  line-height: 1em;\n",
       "  font-family: monospace;\n",
       "  background-color: var(--sklearn-color-background);\n",
       "  border-radius: 1em;\n",
       "  height: 1em;\n",
       "  width: 1em;\n",
       "  text-decoration: none !important;\n",
       "  margin-left: 0.5em;\n",
       "  text-align: center;\n",
       "  /* unfitted */\n",
       "  border: var(--sklearn-color-unfitted-level-1) 1pt solid;\n",
       "  color: var(--sklearn-color-unfitted-level-1);\n",
       "}\n",
       "\n",
       ".sk-estimator-doc-link.fitted,\n",
       "a:link.sk-estimator-doc-link.fitted,\n",
       "a:visited.sk-estimator-doc-link.fitted {\n",
       "  /* fitted */\n",
       "  border: var(--sklearn-color-fitted-level-1) 1pt solid;\n",
       "  color: var(--sklearn-color-fitted-level-1);\n",
       "}\n",
       "\n",
       "/* On hover */\n",
       "div.sk-estimator:hover .sk-estimator-doc-link:hover,\n",
       ".sk-estimator-doc-link:hover,\n",
       "div.sk-label-container:hover .sk-estimator-doc-link:hover,\n",
       ".sk-estimator-doc-link:hover {\n",
       "  /* unfitted */\n",
       "  background-color: var(--sklearn-color-unfitted-level-3);\n",
       "  color: var(--sklearn-color-background);\n",
       "  text-decoration: none;\n",
       "}\n",
       "\n",
       "div.sk-estimator.fitted:hover .sk-estimator-doc-link.fitted:hover,\n",
       ".sk-estimator-doc-link.fitted:hover,\n",
       "div.sk-label-container:hover .sk-estimator-doc-link.fitted:hover,\n",
       ".sk-estimator-doc-link.fitted:hover {\n",
       "  /* fitted */\n",
       "  background-color: var(--sklearn-color-fitted-level-3);\n",
       "  color: var(--sklearn-color-background);\n",
       "  text-decoration: none;\n",
       "}\n",
       "\n",
       "/* Span, style for the box shown on hovering the info icon */\n",
       ".sk-estimator-doc-link span {\n",
       "  display: none;\n",
       "  z-index: 9999;\n",
       "  position: relative;\n",
       "  font-weight: normal;\n",
       "  right: .2ex;\n",
       "  padding: .5ex;\n",
       "  margin: .5ex;\n",
       "  width: min-content;\n",
       "  min-width: 20ex;\n",
       "  max-width: 50ex;\n",
       "  color: var(--sklearn-color-text);\n",
       "  box-shadow: 2pt 2pt 4pt #999;\n",
       "  /* unfitted */\n",
       "  background: var(--sklearn-color-unfitted-level-0);\n",
       "  border: .5pt solid var(--sklearn-color-unfitted-level-3);\n",
       "}\n",
       "\n",
       ".sk-estimator-doc-link.fitted span {\n",
       "  /* fitted */\n",
       "  background: var(--sklearn-color-fitted-level-0);\n",
       "  border: var(--sklearn-color-fitted-level-3);\n",
       "}\n",
       "\n",
       ".sk-estimator-doc-link:hover span {\n",
       "  display: block;\n",
       "}\n",
       "\n",
       "/* \"?\"-specific style due to the `<a>` HTML tag */\n",
       "\n",
       "#sk-container-id-1 a.estimator_doc_link {\n",
       "  float: right;\n",
       "  font-size: 1rem;\n",
       "  line-height: 1em;\n",
       "  font-family: monospace;\n",
       "  background-color: var(--sklearn-color-background);\n",
       "  border-radius: 1rem;\n",
       "  height: 1rem;\n",
       "  width: 1rem;\n",
       "  text-decoration: none;\n",
       "  /* unfitted */\n",
       "  color: var(--sklearn-color-unfitted-level-1);\n",
       "  border: var(--sklearn-color-unfitted-level-1) 1pt solid;\n",
       "}\n",
       "\n",
       "#sk-container-id-1 a.estimator_doc_link.fitted {\n",
       "  /* fitted */\n",
       "  border: var(--sklearn-color-fitted-level-1) 1pt solid;\n",
       "  color: var(--sklearn-color-fitted-level-1);\n",
       "}\n",
       "\n",
       "/* On hover */\n",
       "#sk-container-id-1 a.estimator_doc_link:hover {\n",
       "  /* unfitted */\n",
       "  background-color: var(--sklearn-color-unfitted-level-3);\n",
       "  color: var(--sklearn-color-background);\n",
       "  text-decoration: none;\n",
       "}\n",
       "\n",
       "#sk-container-id-1 a.estimator_doc_link.fitted:hover {\n",
       "  /* fitted */\n",
       "  background-color: var(--sklearn-color-fitted-level-3);\n",
       "}\n",
       "</style><div id=\"sk-container-id-1\" class=\"sk-top-container\"><div class=\"sk-text-repr-fallback\"><pre>Ridge()</pre><b>In a Jupyter environment, please rerun this cell to show the HTML representation or trust the notebook. <br />On GitHub, the HTML representation is unable to render, please try loading this page with nbviewer.org.</b></div><div class=\"sk-container\" hidden><div class=\"sk-item\"><div class=\"sk-estimator fitted sk-toggleable\"><input class=\"sk-toggleable__control sk-hidden--visually\" id=\"sk-estimator-id-1\" type=\"checkbox\" checked><label for=\"sk-estimator-id-1\" class=\"sk-toggleable__label fitted sk-toggleable__label-arrow\"><div><div>Ridge</div></div><div><a class=\"sk-estimator-doc-link fitted\" rel=\"noreferrer\" target=\"_blank\" href=\"https://scikit-learn.org/1.6/modules/generated/sklearn.linear_model.Ridge.html\">?<span>Documentation for Ridge</span></a><span class=\"sk-estimator-doc-link fitted\">i<span>Fitted</span></span></div></label><div class=\"sk-toggleable__content fitted\"><pre>Ridge()</pre></div> </div></div></div></div>"
      ],
      "text/plain": [
       "Ridge()"
      ]
     },
     "execution_count": 86,
     "metadata": {},
     "output_type": "execute_result"
    }
   ],
   "source": [
    "# Step 2: Initialize and fit a Ridge regression model\n",
    "ridge_model = Ridge(alpha=1.0)  # Regularization strength (alpha=0 means no regularization)\n",
    "ridge_model.fit(X_train, y_train)"
   ]
  },
  {
   "cell_type": "code",
   "execution_count": 87,
   "metadata": {},
   "outputs": [],
   "source": [
    "# Step 3: Make predictions\n",
    "y_train_pred = ridge_model.predict(X_train)\n",
    "y_test_pred = ridge_model.predict(X_test)"
   ]
  },
  {
   "cell_type": "code",
   "execution_count": 88,
   "metadata": {},
   "outputs": [],
   "source": [
    "# Step 4: Evaluate the model\n",
    "train_mse = mean_squared_error(y_train, y_train_pred)\n",
    "test_mse = mean_squared_error(y_test, y_test_pred)"
   ]
  },
  {
   "cell_type": "code",
   "execution_count": 89,
   "metadata": {},
   "outputs": [
    {
     "name": "stdout",
     "output_type": "stream",
     "text": [
      "0.020568306251147205\n",
      "0.018756714970882847\n"
     ]
    },
    {
     "ename": "",
     "evalue": "",
     "output_type": "error",
     "traceback": [
      "\u001b[1;31mThe Kernel crashed while executing code in the current cell or a previous cell. \n",
      "\u001b[1;31mPlease review the code in the cell(s) to identify a possible cause of the failure. \n",
      "\u001b[1;31mClick <a href='https://aka.ms/vscodeJupyterKernelCrash'>here</a> for more info. \n",
      "\u001b[1;31mView Jupyter <a href='command:jupyter.viewOutput'>log</a> for further details."
     ]
    }
   ],
   "source": [
    "print(train_mse)\n",
    "print(test_mse)"
   ]
  },
  {
   "cell_type": "markdown",
   "metadata": {},
   "source": [
    "**QUESTIONS**:\n",
    "- The gene expression can be different for same gene in different cells? It does not just refer to a gene_id?\n",
    "- How do we know what is the end site for the embedding count, is it the gene_end?\n",
    "- Is in the embedding the chromosome also important?"
   ]
  },
  {
   "cell_type": "markdown",
   "metadata": {},
   "source": []
  }
 ],
 "metadata": {
  "kernelspec": {
   "display_name": "preprocessing",
   "language": "python",
   "name": "python3"
  },
  "language_info": {
   "codemirror_mode": {
    "name": "ipython",
    "version": 3
   },
   "file_extension": ".py",
   "mimetype": "text/x-python",
   "name": "python",
   "nbconvert_exporter": "python",
   "pygments_lexer": "ipython3",
   "version": "3.10.16"
  }
 },
 "nbformat": 4,
 "nbformat_minor": 2
}
