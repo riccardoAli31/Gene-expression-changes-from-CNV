{
 "cells": [
  {
   "cell_type": "code",
   "execution_count": 75,
   "metadata": {},
   "outputs": [],
   "source": [
    "import tarfile"
   ]
  },
  {
   "cell_type": "code",
   "execution_count": 76,
   "metadata": {},
   "outputs": [],
   "source": [
    "file_path1 = \"/Users/gajaj/Downloads/GRCh38.d1.vd1.fa.tar.gz\"\n",
    "output_dir1 = \"/Users/gajaj/OneDrive/Documents/TUM/computational_single_cell/Gene-expression-changes-from-CNV/preprocessing/Multiome\""
   ]
  },
  {
   "cell_type": "code",
   "execution_count": 77,
   "metadata": {},
   "outputs": [
    {
     "name": "stdout",
     "output_type": "stream",
     "text": [
      "Files extracted successfully\n"
     ]
    }
   ],
   "source": [
    "with tarfile.open(file_path1, \"r\") as tar:\n",
    "    tar.extractall(path=output_dir1)\n",
    "    print(\"Files extracted successfully\")"
   ]
  },
  {
   "cell_type": "markdown",
   "metadata": {},
   "source": [
    "# Linear regression"
   ]
  },
  {
   "cell_type": "code",
   "execution_count": 2,
   "metadata": {},
   "outputs": [],
   "source": [
    "import numpy as np\n",
    "from collections import Counter\n",
    "import pandas as pd\n",
    "import sys\n",
    "sys.path.append('/Users/gajaj/OneDrive/Documents/TUM/computational_single_cell/Gene-expression-changes-from-CNV/src/dataloader')\n",
    "from embedding import embed"
   ]
  },
  {
   "cell_type": "markdown",
   "metadata": {},
   "source": [
    "We get the embedding matrix as an input with following rows:\n",
    "- 4 rows for one-hot-encoding\n",
    "- CNV loss\n",
    "- CNV gain\n",
    "-open chromatin"
   ]
  },
  {
   "cell_type": "markdown",
   "metadata": {},
   "source": [
    "## Functions for matrix aggregation"
   ]
  },
  {
   "cell_type": "code",
   "execution_count": 3,
   "metadata": {},
   "outputs": [],
   "source": [
    "# Example setup: Generate a mock input matrix\n",
    "# Rows: [one-hot encoding (4 rows for A, T, G, C), CNV loss, CNV gain, open chromatin]\n",
    "# Columns: Nucleotide positions (e.g., 6000 columns for 6k bp)\n",
    "np.random.seed(42)  # For reproducibility\n",
    "n_positions = 6000\n",
    "mock_matrix = np.random.randint(0, 2, size=(7, n_positions))"
   ]
  },
  {
   "cell_type": "code",
   "execution_count": 31,
   "metadata": {},
   "outputs": [
    {
     "name": "stdout",
     "output_type": "stream",
     "text": [
      "(7, 6000)\n",
      "[[0 1 0 ... 1 1 1]\n",
      " [0 0 0 ... 0 0 0]\n",
      " [0 0 0 ... 1 1 1]\n",
      " ...\n",
      " [1 1 0 ... 1 1 0]\n",
      " [1 1 0 ... 1 1 1]\n",
      " [1 1 0 ... 0 1 0]]\n"
     ]
    }
   ],
   "source": [
    "print(mock_matrix.shape) # a random matrix of 0 and 1\n",
    "print(mock_matrix)"
   ]
  },
  {
   "cell_type": "code",
   "execution_count": 63,
   "metadata": {},
   "outputs": [
    {
     "data": {
      "text/plain": [
       "array([[0., 0., 0., ..., 0., 0., 0.],\n",
       "       [1., 1., 1., ..., 1., 1., 1.],\n",
       "       [0., 0., 0., ..., 0., 0., 0.],\n",
       "       ...,\n",
       "       [0., 0., 0., ..., 0., 0., 0.],\n",
       "       [0., 0., 0., ..., 0., 0., 0.],\n",
       "       [0., 0., 0., ..., 0., 0., 0.]])"
      ]
     },
     "execution_count": 63,
     "metadata": {},
     "output_type": "execute_result"
    }
   ],
   "source": [
    "mock_matrix1 = np.zeros((7, 6000))\n",
    "mock_matrix1[1, :] = np.ones(6000)\n",
    "mock_matrix1"
   ]
  },
  {
   "cell_type": "code",
   "execution_count": 37,
   "metadata": {},
   "outputs": [],
   "source": [
    "def create_embedding_dataset(matrix, tss_position=1):\n",
    "    \"\"\"\n",
    "    Create a dataset that combines codon frequencies and aggregated CNV/open chromatin metrics.\n",
    "\n",
    "    Args:\n",
    "        matrix (numpy.ndarray): The embedding matrix.\n",
    "        tss_position (int): The starting position for codon counting (default is 1).\n",
    "\n",
    "    Returns:\n",
    "        numpy.ndarray: A 1-row dataset with 64 columns for codon counts and 3 columns for CNV/open chromatin metrics.\n",
    "    \"\"\"\n",
    "    # Extract one-hot DNA rows (first 4 rows: A, T, G, C)\n",
    "    nucleotides = ['A', 'T', 'G', 'C']\n",
    "    one_hot_dna = matrix[:4, :]\n",
    "\n",
    "    # Decode one-hot to nucleotide sequence\n",
    "    sequence = ''.join(\n",
    "        nucleotides[np.argmax(one_hot_dna[:, i])]\n",
    "        for i in range(one_hot_dna.shape[1])\n",
    "    )\n",
    "\n",
    "    # Start codon counting from the TSS\n",
    "    start = tss_position - 1\n",
    "    codons = [\n",
    "        sequence[i:i + 3]\n",
    "        for i in range(start, len(sequence), 3)\n",
    "        if i + 3 <= len(sequence)\n",
    "    ]\n",
    "\n",
    "    # Generate all 64 possible codons\n",
    "    possible_codons = [a + b + c for a in nucleotides for b in nucleotides for c in nucleotides]\n",
    "\n",
    "    # Count codon frequencies\n",
    "    codon_counts = Counter(codons)\n",
    "\n",
    "    # Ensure all 64 codons are represented in the output (with count 0 if absent)\n",
    "    codon_counts_array = np.array([codon_counts.get(codon, 0) for codon in possible_codons])\n",
    "\n",
    "    # Extract CNV and open chromatin rows (last 3 rows)\n",
    "    cnv_loss = matrix[4, :] #TODO do we take the average across all embedding or also from TSS??\n",
    "    cnv_gain = matrix[5, :]\n",
    "    open_chromatin = matrix[6, :]\n",
    "\n",
    "    # Compute averages\n",
    "    cnv_loss_avg = np.mean(cnv_loss)\n",
    "    cnv_gain_avg = np.mean(cnv_gain)\n",
    "    open_chromatin_avg = np.mean(open_chromatin)\n",
    "\n",
    "    # Combine codon frequencies and aggregated metrics into one dataset\n",
    "    aggregated_values = np.array([cnv_loss_avg, cnv_gain_avg, open_chromatin_avg])\n",
    "    final_dataset = np.concatenate([codon_counts_array, aggregated_values])\n",
    "\n",
    "    # Create column headings\n",
    "    codon_headings = possible_codons\n",
    "    aggregated_headings = ['cnv_loss_avg', 'cnv_gain_avg', 'open_chromatin_avg']\n",
    "    column_headings = codon_headings + aggregated_headings\n",
    "\n",
    "    return final_dataset, column_headings\n"
   ]
  },
  {
   "cell_type": "code",
   "execution_count": null,
   "metadata": {},
   "outputs": [
    {
     "name": "stdout",
     "output_type": "stream",
     "text": [
      "[361.         186.          65.          24.         134.\n",
      "  64.          46.          23.          80.          29.\n",
      "  17.           7.          35.          25.          15.\n",
      "   3.         158.          66.          42.          14.\n",
      "  67.          27.          15.          10.          39.\n",
      "   9.           8.           2.          15.          10.\n",
      "   7.           2.          73.          31.          20.\n",
      "  11.          42.          22.          12.           4.\n",
      "  12.           7.           1.           2.          13.\n",
      "   3.           4.           0.          45.          22.\n",
      "  12.           7.          17.           8.           1.\n",
      "   0.           5.           3.           4.           2.\n",
      "   4.           3.           5.           0.           0.5015\n",
      "   0.50916667   0.49933333]\n",
      "['AAA', 'AAT', 'AAG', 'AAC', 'ATA', 'ATT', 'ATG', 'ATC', 'AGA', 'AGT', 'AGG', 'AGC', 'ACA', 'ACT', 'ACG', 'ACC', 'TAA', 'TAT', 'TAG', 'TAC', 'TTA', 'TTT', 'TTG', 'TTC', 'TGA', 'TGT', 'TGG', 'TGC', 'TCA', 'TCT', 'TCG', 'TCC', 'GAA', 'GAT', 'GAG', 'GAC', 'GTA', 'GTT', 'GTG', 'GTC', 'GGA', 'GGT', 'GGG', 'GGC', 'GCA', 'GCT', 'GCG', 'GCC', 'CAA', 'CAT', 'CAG', 'CAC', 'CTA', 'CTT', 'CTG', 'CTC', 'CGA', 'CGT', 'CGG', 'CGC', 'CCA', 'CCT', 'CCG', 'CCC', 'cnv_loss_avg', 'cnv_gain_avg', 'open_chromatin_avg']\n"
     ]
    }
   ],
   "source": [
    "final_dataset, column_headings = create_embedding_dataset(mock_matrix)\n",
    "print(final_dataset)\n",
    "print(column_headings)"
   ]
  },
  {
   "cell_type": "code",
   "execution_count": 65,
   "metadata": {},
   "outputs": [
    {
     "name": "stdout",
     "output_type": "stream",
     "text": [
      "[   0.    0.    0.    0.    0.    0.    0.    0.    0.    0.    0.    0.\n",
      "    0.    0.    0.    0.    0.    0.    0.    0.    0. 2000.    0.    0.\n",
      "    0.    0.    0.    0.    0.    0.    0.    0.    0.    0.    0.    0.\n",
      "    0.    0.    0.    0.    0.    0.    0.    0.    0.    0.    0.    0.\n",
      "    0.    0.    0.    0.    0.    0.    0.    0.    0.    0.    0.    0.\n",
      "    0.    0.    0.    0.    0.    0.    0.]\n"
     ]
    }
   ],
   "source": [
    "final_dataset, column_headings = create_embedding_dataset(mock_matrix1)\n",
    "print(final_dataset)"
   ]
  },
  {
   "cell_type": "markdown",
   "metadata": {},
   "source": [
    "## Load data"
   ]
  },
  {
   "cell_type": "markdown",
   "metadata": {},
   "source": [
    "Import dataset of gene positions"
   ]
  },
  {
   "cell_type": "code",
   "execution_count": 8,
   "metadata": {},
   "outputs": [
    {
     "data": {
      "text/html": [
       "<div>\n",
       "<style scoped>\n",
       "    .dataframe tbody tr th:only-of-type {\n",
       "        vertical-align: middle;\n",
       "    }\n",
       "\n",
       "    .dataframe tbody tr th {\n",
       "        vertical-align: top;\n",
       "    }\n",
       "\n",
       "    .dataframe thead th {\n",
       "        text-align: right;\n",
       "    }\n",
       "</style>\n",
       "<table border=\"1\" class=\"dataframe\">\n",
       "  <thead>\n",
       "    <tr style=\"text-align: right;\">\n",
       "      <th></th>\n",
       "      <th>start</th>\n",
       "      <th>end</th>\n",
       "      <th>gene_id</th>\n",
       "    </tr>\n",
       "  </thead>\n",
       "  <tbody>\n",
       "    <tr>\n",
       "      <th>0</th>\n",
       "      <td>3069168</td>\n",
       "      <td>3438621</td>\n",
       "      <td>ENSG00000142611</td>\n",
       "    </tr>\n",
       "    <tr>\n",
       "      <th>1</th>\n",
       "      <td>5301928</td>\n",
       "      <td>5307394</td>\n",
       "      <td>ENSG00000284616</td>\n",
       "    </tr>\n",
       "    <tr>\n",
       "      <th>2</th>\n",
       "      <td>2403964</td>\n",
       "      <td>2413797</td>\n",
       "      <td>ENSG00000157911</td>\n",
       "    </tr>\n",
       "    <tr>\n",
       "      <th>3</th>\n",
       "      <td>5492978</td>\n",
       "      <td>5494674</td>\n",
       "      <td>ENSG00000260972</td>\n",
       "    </tr>\n",
       "    <tr>\n",
       "      <th>4</th>\n",
       "      <td>10054445</td>\n",
       "      <td>10054781</td>\n",
       "      <td>ENSG00000224340</td>\n",
       "    </tr>\n",
       "    <tr>\n",
       "      <th>...</th>\n",
       "      <td>...</td>\n",
       "      <td>...</td>\n",
       "      <td>...</td>\n",
       "    </tr>\n",
       "    <tr>\n",
       "      <th>78927</th>\n",
       "      <td>15119</td>\n",
       "      <td>17798</td>\n",
       "      <td>ENSG00000307722</td>\n",
       "    </tr>\n",
       "    <tr>\n",
       "      <th>78928</th>\n",
       "      <td>24947</td>\n",
       "      <td>37269</td>\n",
       "      <td>ENSG00000310401</td>\n",
       "    </tr>\n",
       "    <tr>\n",
       "      <th>78929</th>\n",
       "      <td>3633</td>\n",
       "      <td>31375</td>\n",
       "      <td>ENSG00000302039</td>\n",
       "    </tr>\n",
       "    <tr>\n",
       "      <th>78930</th>\n",
       "      <td>6913</td>\n",
       "      <td>19848</td>\n",
       "      <td>ENSG00000309831</td>\n",
       "    </tr>\n",
       "    <tr>\n",
       "      <th>78931</th>\n",
       "      <td>26350</td>\n",
       "      <td>27723</td>\n",
       "      <td>ENSG00000309258</td>\n",
       "    </tr>\n",
       "  </tbody>\n",
       "</table>\n",
       "<p>78932 rows × 3 columns</p>\n",
       "</div>"
      ],
      "text/plain": [
       "          start       end          gene_id\n",
       "0       3069168   3438621  ENSG00000142611\n",
       "1       5301928   5307394  ENSG00000284616\n",
       "2       2403964   2413797  ENSG00000157911\n",
       "3       5492978   5494674  ENSG00000260972\n",
       "4      10054445  10054781  ENSG00000224340\n",
       "...         ...       ...              ...\n",
       "78927     15119     17798  ENSG00000307722\n",
       "78928     24947     37269  ENSG00000310401\n",
       "78929      3633     31375  ENSG00000302039\n",
       "78930      6913     19848  ENSG00000309831\n",
       "78931     26350     27723  ENSG00000309258\n",
       "\n",
       "[78932 rows x 3 columns]"
      ]
     },
     "execution_count": 8,
     "metadata": {},
     "output_type": "execute_result"
    }
   ],
   "source": [
    "gene_df = pd.read_csv('/Users/gajaj/OneDrive/Documents/TUM/computational_single_cell/Gene-expression-changes-from-CNV/preprocessing/Multiome/gene_positions.csv')\n",
    "gene_df = gene_df[['start', 'end', 'gene_id']] #We leave out the chromosome\n",
    "gene_df"
   ]
  },
  {
   "cell_type": "markdown",
   "metadata": {},
   "source": [
    "Import classification dataset"
   ]
  },
  {
   "cell_type": "code",
   "execution_count": 9,
   "metadata": {},
   "outputs": [
    {
     "data": {
      "text/html": [
       "<div>\n",
       "<style scoped>\n",
       "    .dataframe tbody tr th:only-of-type {\n",
       "        vertical-align: middle;\n",
       "    }\n",
       "\n",
       "    .dataframe tbody tr th {\n",
       "        vertical-align: top;\n",
       "    }\n",
       "\n",
       "    .dataframe thead th {\n",
       "        text-align: right;\n",
       "    }\n",
       "</style>\n",
       "<table border=\"1\" class=\"dataframe\">\n",
       "  <thead>\n",
       "    <tr style=\"text-align: right;\">\n",
       "      <th></th>\n",
       "      <th>barcode</th>\n",
       "      <th>gene_id</th>\n",
       "      <th>expression_count</th>\n",
       "      <th>classification</th>\n",
       "    </tr>\n",
       "  </thead>\n",
       "  <tbody>\n",
       "    <tr>\n",
       "      <th>0</th>\n",
       "      <td>AAACAGCCAAACGCGA-2</td>\n",
       "      <td>ENSG00000235146</td>\n",
       "      <td>0.000000</td>\n",
       "      <td>zero</td>\n",
       "    </tr>\n",
       "    <tr>\n",
       "      <th>1</th>\n",
       "      <td>AAACAGCCAAACGCGA-2</td>\n",
       "      <td>ENSG00000187634</td>\n",
       "      <td>0.240150</td>\n",
       "      <td>low</td>\n",
       "    </tr>\n",
       "    <tr>\n",
       "      <th>2</th>\n",
       "      <td>AAACAGCCAAACGCGA-2</td>\n",
       "      <td>ENSG00000187583</td>\n",
       "      <td>0.000000</td>\n",
       "      <td>zero</td>\n",
       "    </tr>\n",
       "    <tr>\n",
       "      <th>3</th>\n",
       "      <td>AAACAGCCAAACGCGA-2</td>\n",
       "      <td>ENSG00000205231</td>\n",
       "      <td>0.000000</td>\n",
       "      <td>zero</td>\n",
       "    </tr>\n",
       "    <tr>\n",
       "      <th>4</th>\n",
       "      <td>AAACAGCCAAACGCGA-2</td>\n",
       "      <td>ENSG00000228750</td>\n",
       "      <td>0.000000</td>\n",
       "      <td>zero</td>\n",
       "    </tr>\n",
       "    <tr>\n",
       "      <th>...</th>\n",
       "      <td>...</td>\n",
       "      <td>...</td>\n",
       "      <td>...</td>\n",
       "      <td>...</td>\n",
       "    </tr>\n",
       "    <tr>\n",
       "      <th>27353995</th>\n",
       "      <td>TTTGTTGGTTGAGGTC-3</td>\n",
       "      <td>ENSG00000198886</td>\n",
       "      <td>1.907476</td>\n",
       "      <td>high</td>\n",
       "    </tr>\n",
       "    <tr>\n",
       "      <th>27353996</th>\n",
       "      <td>TTTGTTGGTTGAGGTC-3</td>\n",
       "      <td>ENSG00000198786</td>\n",
       "      <td>1.573612</td>\n",
       "      <td>high</td>\n",
       "    </tr>\n",
       "    <tr>\n",
       "      <th>27353997</th>\n",
       "      <td>TTTGTTGGTTGAGGTC-3</td>\n",
       "      <td>ENSG00000198727</td>\n",
       "      <td>3.001725</td>\n",
       "      <td>high</td>\n",
       "    </tr>\n",
       "    <tr>\n",
       "      <th>27353998</th>\n",
       "      <td>TTTGTTGGTTGAGGTC-3</td>\n",
       "      <td>ENSG00000277666</td>\n",
       "      <td>0.000000</td>\n",
       "      <td>zero</td>\n",
       "    </tr>\n",
       "    <tr>\n",
       "      <th>27353999</th>\n",
       "      <td>TTTGTTGGTTGAGGTC-3</td>\n",
       "      <td>ENSG00000273554</td>\n",
       "      <td>0.000000</td>\n",
       "      <td>zero</td>\n",
       "    </tr>\n",
       "  </tbody>\n",
       "</table>\n",
       "<p>27354000 rows × 4 columns</p>\n",
       "</div>"
      ],
      "text/plain": [
       "                     barcode          gene_id  expression_count classification\n",
       "0         AAACAGCCAAACGCGA-2  ENSG00000235146          0.000000           zero\n",
       "1         AAACAGCCAAACGCGA-2  ENSG00000187634          0.240150            low\n",
       "2         AAACAGCCAAACGCGA-2  ENSG00000187583          0.000000           zero\n",
       "3         AAACAGCCAAACGCGA-2  ENSG00000205231          0.000000           zero\n",
       "4         AAACAGCCAAACGCGA-2  ENSG00000228750          0.000000           zero\n",
       "...                      ...              ...               ...            ...\n",
       "27353995  TTTGTTGGTTGAGGTC-3  ENSG00000198886          1.907476           high\n",
       "27353996  TTTGTTGGTTGAGGTC-3  ENSG00000198786          1.573612           high\n",
       "27353997  TTTGTTGGTTGAGGTC-3  ENSG00000198727          3.001725           high\n",
       "27353998  TTTGTTGGTTGAGGTC-3  ENSG00000277666          0.000000           zero\n",
       "27353999  TTTGTTGGTTGAGGTC-3  ENSG00000273554          0.000000           zero\n",
       "\n",
       "[27354000 rows x 4 columns]"
      ]
     },
     "execution_count": 9,
     "metadata": {},
     "output_type": "execute_result"
    }
   ],
   "source": [
    "classification_df = pd.read_csv('/Users/gajaj/OneDrive/Documents/TUM/computational_single_cell/Gene-expression-changes-from-CNV/preprocessing/Multiome/classification_median.tsv', sep=\"\\t\")\n",
    "#classification_df = classification_df.set_index('gene_id')\n",
    "classification_df"
   ]
  },
  {
   "cell_type": "markdown",
   "metadata": {},
   "source": [
    "Match the datasets by the gene_ids"
   ]
  },
  {
   "cell_type": "code",
   "execution_count": 10,
   "metadata": {},
   "outputs": [
    {
     "name": "stdout",
     "output_type": "stream",
     "text": [
      "                     barcode          gene_id  expression_count  \\\n",
      "0         AAACAGCCAAACGCGA-2  ENSG00000235146          0.000000   \n",
      "1         AAACAGCCAAACGCGA-2  ENSG00000187634          0.240150   \n",
      "2         AAACAGCCAAACGCGA-2  ENSG00000187583          0.000000   \n",
      "3         AAACAGCCAAACGCGA-2  ENSG00000205231          0.000000   \n",
      "4         AAACAGCCAAACGCGA-2  ENSG00000228750          0.000000   \n",
      "...                      ...              ...               ...   \n",
      "26697499  TTTGTTGGTTGAGGTC-3  ENSG00000212907          1.068847   \n",
      "26697500  TTTGTTGGTTGAGGTC-3  ENSG00000198886          1.907476   \n",
      "26697501  TTTGTTGGTTGAGGTC-3  ENSG00000198786          1.573612   \n",
      "26697502  TTTGTTGGTTGAGGTC-3  ENSG00000198727          3.001725   \n",
      "26697503  TTTGTTGGTTGAGGTC-3  ENSG00000273554          0.000000   \n",
      "\n",
      "         classification    start      end  \n",
      "0                  zero   587577   595116  \n",
      "1                   low   923923   944575  \n",
      "2                  zero   966482   975865  \n",
      "3                  zero  1173056  1179555  \n",
      "4                  zero  6724626  6730012  \n",
      "...                 ...      ...      ...  \n",
      "26697499           high    10470    10766  \n",
      "26697500           high    10760    12137  \n",
      "26697501           high    12337    14148  \n",
      "26697502           high    14747    15887  \n",
      "26697503           zero  1139577  1147868  \n",
      "\n",
      "[26697504 rows x 6 columns]\n"
     ]
    }
   ],
   "source": [
    "# Merge the datasets based on the gene_id column\n",
    "merged_df = pd.merge(\n",
    "    classification_df, gene_df,\n",
    "    on=\"gene_id\",  # Match rows based on this column\n",
    "    how=\"inner\"    # Keep only rows with matches in both datasets\n",
    ")\n",
    "\n",
    "# Display the result\n",
    "print(merged_df)"
   ]
  },
  {
   "cell_type": "markdown",
   "metadata": {},
   "source": [
    "## Create the covariate matrix and the response vector"
   ]
  },
  {
   "cell_type": "markdown",
   "metadata": {},
   "source": [
    "We will have a **matrix X** that has per pair (cell_barcode, gene_id) a row of 67 inputs: 64 are the counts of the triplets and 3 are the averages of open cromatine, cnv gain, cnv loss over the nucleotides"
   ]
  },
  {
   "cell_type": "markdown",
   "metadata": {},
   "source": [
    "There will be 2 **response vectors**:\n",
    "- y1: has expression counts per pair (cell_barcode, gene_id)\n",
    "- y2: classification of expression per pair (cell_barcode, gene_id)"
   ]
  },
  {
   "cell_type": "code",
   "execution_count": 11,
   "metadata": {},
   "outputs": [],
   "source": [
    "gtf_path = '/Users/gajaj/OneDrive/Documents/TUM/computational_single_cell/Gene-expression-changes-from-CNV/preprocessing/Multiome/Homo_sapiens.GRCh38.113.gtf'\n",
    "fasta_path = '/Users/gajaj/OneDrive/Documents/TUM/computational_single_cell/Gene-expression-changes-from-CNV/preprocessing/Multiome/GRCh38.d1.vd1.fa'\n",
    "atac_path = '/Users/gajaj/OneDrive/Documents/TUM/computational_single_cell/Gene-expression-changes-from-CNV/preprocessing/Multiome/overlap_genes_peaks.tsv' \n",
    "cnv_path = ''\n",
    "#list_of_embeded_matrices = embed()"
   ]
  },
  {
   "cell_type": "code",
   "execution_count": 12,
   "metadata": {},
   "outputs": [],
   "source": [
    "embedding_matrix = mock_matrix"
   ]
  },
  {
   "cell_type": "markdown",
   "metadata": {},
   "source": [
    "Per specific gene, we take its location start and end, then take the section of the embedding matrix for the sepcific gene"
   ]
  },
  {
   "cell_type": "markdown",
   "metadata": {},
   "source": [
    "Aggregate the matrix"
   ]
  },
  {
   "cell_type": "markdown",
   "metadata": {},
   "source": [
    "Stack this agergated matrix to the matrix X"
   ]
  },
  {
   "cell_type": "code",
   "execution_count": 81,
   "metadata": {},
   "outputs": [
    {
     "data": {
      "text/plain": [
       "(26697504, 67)"
      ]
     },
     "execution_count": 81,
     "metadata": {},
     "output_type": "execute_result"
    }
   ],
   "source": [
    "X = np.zeros((len(merged_df), 67))\n",
    "X.shape"
   ]
  },
  {
   "cell_type": "code",
   "execution_count": 19,
   "metadata": {},
   "outputs": [],
   "source": [
    "y1 = merged_df['expression_count'].to_list()\n",
    "y2 = merged_df['classification'].to_list()"
   ]
  },
  {
   "cell_type": "code",
   "execution_count": 21,
   "metadata": {},
   "outputs": [
    {
     "data": {
      "text/plain": [
       "26697504"
      ]
     },
     "execution_count": 21,
     "metadata": {},
     "output_type": "execute_result"
    }
   ],
   "source": [
    "len(merged_df)"
   ]
  },
  {
   "cell_type": "code",
   "execution_count": 56,
   "metadata": {},
   "outputs": [
    {
     "data": {
      "text/html": [
       "<div>\n",
       "<style scoped>\n",
       "    .dataframe tbody tr th:only-of-type {\n",
       "        vertical-align: middle;\n",
       "    }\n",
       "\n",
       "    .dataframe tbody tr th {\n",
       "        vertical-align: top;\n",
       "    }\n",
       "\n",
       "    .dataframe thead th {\n",
       "        text-align: right;\n",
       "    }\n",
       "</style>\n",
       "<table border=\"1\" class=\"dataframe\">\n",
       "  <thead>\n",
       "    <tr style=\"text-align: right;\">\n",
       "      <th></th>\n",
       "      <th>barcode</th>\n",
       "      <th>gene_id</th>\n",
       "      <th>expression_count</th>\n",
       "      <th>classification</th>\n",
       "      <th>start</th>\n",
       "      <th>end</th>\n",
       "    </tr>\n",
       "  </thead>\n",
       "  <tbody>\n",
       "    <tr>\n",
       "      <th>0</th>\n",
       "      <td>AAACAGCCAAACGCGA-2</td>\n",
       "      <td>ENSG00000235146</td>\n",
       "      <td>0.000000</td>\n",
       "      <td>zero</td>\n",
       "      <td>587577</td>\n",
       "      <td>595116</td>\n",
       "    </tr>\n",
       "    <tr>\n",
       "      <th>1</th>\n",
       "      <td>AAACAGCCAAACGCGA-2</td>\n",
       "      <td>ENSG00000187634</td>\n",
       "      <td>0.240150</td>\n",
       "      <td>low</td>\n",
       "      <td>923923</td>\n",
       "      <td>944575</td>\n",
       "    </tr>\n",
       "    <tr>\n",
       "      <th>2</th>\n",
       "      <td>AAACAGCCAAACGCGA-2</td>\n",
       "      <td>ENSG00000187583</td>\n",
       "      <td>0.000000</td>\n",
       "      <td>zero</td>\n",
       "      <td>966482</td>\n",
       "      <td>975865</td>\n",
       "    </tr>\n",
       "    <tr>\n",
       "      <th>3</th>\n",
       "      <td>AAACAGCCAAACGCGA-2</td>\n",
       "      <td>ENSG00000205231</td>\n",
       "      <td>0.000000</td>\n",
       "      <td>zero</td>\n",
       "      <td>1173056</td>\n",
       "      <td>1179555</td>\n",
       "    </tr>\n",
       "    <tr>\n",
       "      <th>4</th>\n",
       "      <td>AAACAGCCAAACGCGA-2</td>\n",
       "      <td>ENSG00000228750</td>\n",
       "      <td>0.000000</td>\n",
       "      <td>zero</td>\n",
       "      <td>6724626</td>\n",
       "      <td>6730012</td>\n",
       "    </tr>\n",
       "    <tr>\n",
       "      <th>5</th>\n",
       "      <td>AAACAGCCAAACGCGA-2</td>\n",
       "      <td>ENSG00000074800</td>\n",
       "      <td>0.433651</td>\n",
       "      <td>low</td>\n",
       "      <td>8861000</td>\n",
       "      <td>8879190</td>\n",
       "    </tr>\n",
       "    <tr>\n",
       "      <th>6</th>\n",
       "      <td>AAACAGCCAAACGCGA-2</td>\n",
       "      <td>ENSG00000171621</td>\n",
       "      <td>0.000000</td>\n",
       "      <td>zero</td>\n",
       "      <td>9292894</td>\n",
       "      <td>9369532</td>\n",
       "    </tr>\n",
       "    <tr>\n",
       "      <th>7</th>\n",
       "      <td>AAACAGCCAAACGCGA-2</td>\n",
       "      <td>ENSG00000235263</td>\n",
       "      <td>0.000000</td>\n",
       "      <td>zero</td>\n",
       "      <td>9500754</td>\n",
       "      <td>9503536</td>\n",
       "    </tr>\n",
       "    <tr>\n",
       "      <th>8</th>\n",
       "      <td>AAACAGCCAAACGCGA-2</td>\n",
       "      <td>ENSG00000162444</td>\n",
       "      <td>0.000000</td>\n",
       "      <td>zero</td>\n",
       "      <td>9997206</td>\n",
       "      <td>10016021</td>\n",
       "    </tr>\n",
       "    <tr>\n",
       "      <th>9</th>\n",
       "      <td>AAACAGCCAAACGCGA-2</td>\n",
       "      <td>ENSG00000028137</td>\n",
       "      <td>0.000000</td>\n",
       "      <td>zero</td>\n",
       "      <td>12166991</td>\n",
       "      <td>12209228</td>\n",
       "    </tr>\n",
       "  </tbody>\n",
       "</table>\n",
       "</div>"
      ],
      "text/plain": [
       "              barcode          gene_id  expression_count classification  \\\n",
       "0  AAACAGCCAAACGCGA-2  ENSG00000235146          0.000000           zero   \n",
       "1  AAACAGCCAAACGCGA-2  ENSG00000187634          0.240150            low   \n",
       "2  AAACAGCCAAACGCGA-2  ENSG00000187583          0.000000           zero   \n",
       "3  AAACAGCCAAACGCGA-2  ENSG00000205231          0.000000           zero   \n",
       "4  AAACAGCCAAACGCGA-2  ENSG00000228750          0.000000           zero   \n",
       "5  AAACAGCCAAACGCGA-2  ENSG00000074800          0.433651            low   \n",
       "6  AAACAGCCAAACGCGA-2  ENSG00000171621          0.000000           zero   \n",
       "7  AAACAGCCAAACGCGA-2  ENSG00000235263          0.000000           zero   \n",
       "8  AAACAGCCAAACGCGA-2  ENSG00000162444          0.000000           zero   \n",
       "9  AAACAGCCAAACGCGA-2  ENSG00000028137          0.000000           zero   \n",
       "\n",
       "      start       end  \n",
       "0    587577    595116  \n",
       "1    923923    944575  \n",
       "2    966482    975865  \n",
       "3   1173056   1179555  \n",
       "4   6724626   6730012  \n",
       "5   8861000   8879190  \n",
       "6   9292894   9369532  \n",
       "7   9500754   9503536  \n",
       "8   9997206  10016021  \n",
       "9  12166991  12209228  "
      ]
     },
     "execution_count": 56,
     "metadata": {},
     "output_type": "execute_result"
    }
   ],
   "source": [
    "merged_df_head = merged_df.head(10)\n",
    "merged_df_head"
   ]
  },
  {
   "cell_type": "code",
   "execution_count": null,
   "metadata": {},
   "outputs": [],
   "source": [
    "for index, row in merged_df_head.iterrows():\n",
    "    start = row['start']\n",
    "\n",
    "    embed_i = mock_matrix #TODO actual embedded matrix for specific cell, gene\n",
    "\n",
    "    # Aggregate the matrix, and create a row that will be added to the matrix X\n",
    "    X_row, _ = create_embedding_dataset(mock_matrix, start)\n",
    "    X[index, :] = X_row\n",
    "\n"
   ]
  },
  {
   "cell_type": "code",
   "execution_count": 71,
   "metadata": {},
   "outputs": [],
   "source": [
    "def create_matrix_X(merged_df):\n",
    "    X_final = np.zeros((len(merged_df), 67))\n",
    "    print(X)\n",
    "\n",
    "    for index, row in merged_df.iterrows():\n",
    "        start = row['start']\n",
    "\n",
    "        embed_i = mock_matrix #TODO actual embedded matrix for specific cell, gene\n",
    "\n",
    "        # Aggregate the matrix, and create a row that will be added to the matrix X\n",
    "        X_row, _ = create_embedding_dataset(embed_i, start)\n",
    "        X_final[index, :] = X_row\n",
    "\n",
    "    return X_final"
   ]
  },
  {
   "cell_type": "code",
   "execution_count": 82,
   "metadata": {},
   "outputs": [
    {
     "name": "stdout",
     "output_type": "stream",
     "text": [
      "(10, 67)\n"
     ]
    }
   ],
   "source": [
    "X_final = create_matrix_X(merged_df_head)\n",
    "print(X_final.shape)"
   ]
  },
  {
   "cell_type": "code",
   "execution_count": 84,
   "metadata": {},
   "outputs": [
    {
     "data": {
      "text/plain": [
       "[0.0, 0.24015017, 0.0, 0.0, 0.0, 0.43365088, 0.0, 0.0, 0.0, 0.0]"
      ]
     },
     "execution_count": 84,
     "metadata": {},
     "output_type": "execute_result"
    }
   ],
   "source": [
    "y1_final = y1[:10]\n",
    "y1_final"
   ]
  },
  {
   "cell_type": "markdown",
   "metadata": {},
   "source": [
    "## Linear regression 1"
   ]
  },
  {
   "cell_type": "markdown",
   "metadata": {},
   "source": [
    "Fit a linear regression model with covariate matrix X and response vector y1"
   ]
  },
  {
   "cell_type": "code",
   "execution_count": 73,
   "metadata": {},
   "outputs": [],
   "source": [
    "from sklearn.model_selection import train_test_split\n",
    "from sklearn.linear_model import Ridge\n",
    "from sklearn.metrics import mean_squared_error"
   ]
  },
  {
   "cell_type": "code",
   "execution_count": 85,
   "metadata": {},
   "outputs": [],
   "source": [
    "# Step 1: Split the data into train and test sets\n",
    "X_train, X_test, y_train, y_test = train_test_split(X_final, y1_final, test_size=0.2, random_state=42)"
   ]
  },
  {
   "cell_type": "code",
   "execution_count": 86,
   "metadata": {},
   "outputs": [
    {
     "data": {
      "text/html": [
       "<style>#sk-container-id-1 {\n",
       "  /* Definition of color scheme common for light and dark mode */\n",
       "  --sklearn-color-text: #000;\n",
       "  --sklearn-color-text-muted: #666;\n",
       "  --sklearn-color-line: gray;\n",
       "  /* Definition of color scheme for unfitted estimators */\n",
       "  --sklearn-color-unfitted-level-0: #fff5e6;\n",
       "  --sklearn-color-unfitted-level-1: #f6e4d2;\n",
       "  --sklearn-color-unfitted-level-2: #ffe0b3;\n",
       "  --sklearn-color-unfitted-level-3: chocolate;\n",
       "  /* Definition of color scheme for fitted estimators */\n",
       "  --sklearn-color-fitted-level-0: #f0f8ff;\n",
       "  --sklearn-color-fitted-level-1: #d4ebff;\n",
       "  --sklearn-color-fitted-level-2: #b3dbfd;\n",
       "  --sklearn-color-fitted-level-3: cornflowerblue;\n",
       "\n",
       "  /* Specific color for light theme */\n",
       "  --sklearn-color-text-on-default-background: var(--sg-text-color, var(--theme-code-foreground, var(--jp-content-font-color1, black)));\n",
       "  --sklearn-color-background: var(--sg-background-color, var(--theme-background, var(--jp-layout-color0, white)));\n",
       "  --sklearn-color-border-box: var(--sg-text-color, var(--theme-code-foreground, var(--jp-content-font-color1, black)));\n",
       "  --sklearn-color-icon: #696969;\n",
       "\n",
       "  @media (prefers-color-scheme: dark) {\n",
       "    /* Redefinition of color scheme for dark theme */\n",
       "    --sklearn-color-text-on-default-background: var(--sg-text-color, var(--theme-code-foreground, var(--jp-content-font-color1, white)));\n",
       "    --sklearn-color-background: var(--sg-background-color, var(--theme-background, var(--jp-layout-color0, #111)));\n",
       "    --sklearn-color-border-box: var(--sg-text-color, var(--theme-code-foreground, var(--jp-content-font-color1, white)));\n",
       "    --sklearn-color-icon: #878787;\n",
       "  }\n",
       "}\n",
       "\n",
       "#sk-container-id-1 {\n",
       "  color: var(--sklearn-color-text);\n",
       "}\n",
       "\n",
       "#sk-container-id-1 pre {\n",
       "  padding: 0;\n",
       "}\n",
       "\n",
       "#sk-container-id-1 input.sk-hidden--visually {\n",
       "  border: 0;\n",
       "  clip: rect(1px 1px 1px 1px);\n",
       "  clip: rect(1px, 1px, 1px, 1px);\n",
       "  height: 1px;\n",
       "  margin: -1px;\n",
       "  overflow: hidden;\n",
       "  padding: 0;\n",
       "  position: absolute;\n",
       "  width: 1px;\n",
       "}\n",
       "\n",
       "#sk-container-id-1 div.sk-dashed-wrapped {\n",
       "  border: 1px dashed var(--sklearn-color-line);\n",
       "  margin: 0 0.4em 0.5em 0.4em;\n",
       "  box-sizing: border-box;\n",
       "  padding-bottom: 0.4em;\n",
       "  background-color: var(--sklearn-color-background);\n",
       "}\n",
       "\n",
       "#sk-container-id-1 div.sk-container {\n",
       "  /* jupyter's `normalize.less` sets `[hidden] { display: none; }`\n",
       "     but bootstrap.min.css set `[hidden] { display: none !important; }`\n",
       "     so we also need the `!important` here to be able to override the\n",
       "     default hidden behavior on the sphinx rendered scikit-learn.org.\n",
       "     See: https://github.com/scikit-learn/scikit-learn/issues/21755 */\n",
       "  display: inline-block !important;\n",
       "  position: relative;\n",
       "}\n",
       "\n",
       "#sk-container-id-1 div.sk-text-repr-fallback {\n",
       "  display: none;\n",
       "}\n",
       "\n",
       "div.sk-parallel-item,\n",
       "div.sk-serial,\n",
       "div.sk-item {\n",
       "  /* draw centered vertical line to link estimators */\n",
       "  background-image: linear-gradient(var(--sklearn-color-text-on-default-background), var(--sklearn-color-text-on-default-background));\n",
       "  background-size: 2px 100%;\n",
       "  background-repeat: no-repeat;\n",
       "  background-position: center center;\n",
       "}\n",
       "\n",
       "/* Parallel-specific style estimator block */\n",
       "\n",
       "#sk-container-id-1 div.sk-parallel-item::after {\n",
       "  content: \"\";\n",
       "  width: 100%;\n",
       "  border-bottom: 2px solid var(--sklearn-color-text-on-default-background);\n",
       "  flex-grow: 1;\n",
       "}\n",
       "\n",
       "#sk-container-id-1 div.sk-parallel {\n",
       "  display: flex;\n",
       "  align-items: stretch;\n",
       "  justify-content: center;\n",
       "  background-color: var(--sklearn-color-background);\n",
       "  position: relative;\n",
       "}\n",
       "\n",
       "#sk-container-id-1 div.sk-parallel-item {\n",
       "  display: flex;\n",
       "  flex-direction: column;\n",
       "}\n",
       "\n",
       "#sk-container-id-1 div.sk-parallel-item:first-child::after {\n",
       "  align-self: flex-end;\n",
       "  width: 50%;\n",
       "}\n",
       "\n",
       "#sk-container-id-1 div.sk-parallel-item:last-child::after {\n",
       "  align-self: flex-start;\n",
       "  width: 50%;\n",
       "}\n",
       "\n",
       "#sk-container-id-1 div.sk-parallel-item:only-child::after {\n",
       "  width: 0;\n",
       "}\n",
       "\n",
       "/* Serial-specific style estimator block */\n",
       "\n",
       "#sk-container-id-1 div.sk-serial {\n",
       "  display: flex;\n",
       "  flex-direction: column;\n",
       "  align-items: center;\n",
       "  background-color: var(--sklearn-color-background);\n",
       "  padding-right: 1em;\n",
       "  padding-left: 1em;\n",
       "}\n",
       "\n",
       "\n",
       "/* Toggleable style: style used for estimator/Pipeline/ColumnTransformer box that is\n",
       "clickable and can be expanded/collapsed.\n",
       "- Pipeline and ColumnTransformer use this feature and define the default style\n",
       "- Estimators will overwrite some part of the style using the `sk-estimator` class\n",
       "*/\n",
       "\n",
       "/* Pipeline and ColumnTransformer style (default) */\n",
       "\n",
       "#sk-container-id-1 div.sk-toggleable {\n",
       "  /* Default theme specific background. It is overwritten whether we have a\n",
       "  specific estimator or a Pipeline/ColumnTransformer */\n",
       "  background-color: var(--sklearn-color-background);\n",
       "}\n",
       "\n",
       "/* Toggleable label */\n",
       "#sk-container-id-1 label.sk-toggleable__label {\n",
       "  cursor: pointer;\n",
       "  display: flex;\n",
       "  width: 100%;\n",
       "  margin-bottom: 0;\n",
       "  padding: 0.5em;\n",
       "  box-sizing: border-box;\n",
       "  text-align: center;\n",
       "  align-items: start;\n",
       "  justify-content: space-between;\n",
       "  gap: 0.5em;\n",
       "}\n",
       "\n",
       "#sk-container-id-1 label.sk-toggleable__label .caption {\n",
       "  font-size: 0.6rem;\n",
       "  font-weight: lighter;\n",
       "  color: var(--sklearn-color-text-muted);\n",
       "}\n",
       "\n",
       "#sk-container-id-1 label.sk-toggleable__label-arrow:before {\n",
       "  /* Arrow on the left of the label */\n",
       "  content: \"▸\";\n",
       "  float: left;\n",
       "  margin-right: 0.25em;\n",
       "  color: var(--sklearn-color-icon);\n",
       "}\n",
       "\n",
       "#sk-container-id-1 label.sk-toggleable__label-arrow:hover:before {\n",
       "  color: var(--sklearn-color-text);\n",
       "}\n",
       "\n",
       "/* Toggleable content - dropdown */\n",
       "\n",
       "#sk-container-id-1 div.sk-toggleable__content {\n",
       "  max-height: 0;\n",
       "  max-width: 0;\n",
       "  overflow: hidden;\n",
       "  text-align: left;\n",
       "  /* unfitted */\n",
       "  background-color: var(--sklearn-color-unfitted-level-0);\n",
       "}\n",
       "\n",
       "#sk-container-id-1 div.sk-toggleable__content.fitted {\n",
       "  /* fitted */\n",
       "  background-color: var(--sklearn-color-fitted-level-0);\n",
       "}\n",
       "\n",
       "#sk-container-id-1 div.sk-toggleable__content pre {\n",
       "  margin: 0.2em;\n",
       "  border-radius: 0.25em;\n",
       "  color: var(--sklearn-color-text);\n",
       "  /* unfitted */\n",
       "  background-color: var(--sklearn-color-unfitted-level-0);\n",
       "}\n",
       "\n",
       "#sk-container-id-1 div.sk-toggleable__content.fitted pre {\n",
       "  /* unfitted */\n",
       "  background-color: var(--sklearn-color-fitted-level-0);\n",
       "}\n",
       "\n",
       "#sk-container-id-1 input.sk-toggleable__control:checked~div.sk-toggleable__content {\n",
       "  /* Expand drop-down */\n",
       "  max-height: 200px;\n",
       "  max-width: 100%;\n",
       "  overflow: auto;\n",
       "}\n",
       "\n",
       "#sk-container-id-1 input.sk-toggleable__control:checked~label.sk-toggleable__label-arrow:before {\n",
       "  content: \"▾\";\n",
       "}\n",
       "\n",
       "/* Pipeline/ColumnTransformer-specific style */\n",
       "\n",
       "#sk-container-id-1 div.sk-label input.sk-toggleable__control:checked~label.sk-toggleable__label {\n",
       "  color: var(--sklearn-color-text);\n",
       "  background-color: var(--sklearn-color-unfitted-level-2);\n",
       "}\n",
       "\n",
       "#sk-container-id-1 div.sk-label.fitted input.sk-toggleable__control:checked~label.sk-toggleable__label {\n",
       "  background-color: var(--sklearn-color-fitted-level-2);\n",
       "}\n",
       "\n",
       "/* Estimator-specific style */\n",
       "\n",
       "/* Colorize estimator box */\n",
       "#sk-container-id-1 div.sk-estimator input.sk-toggleable__control:checked~label.sk-toggleable__label {\n",
       "  /* unfitted */\n",
       "  background-color: var(--sklearn-color-unfitted-level-2);\n",
       "}\n",
       "\n",
       "#sk-container-id-1 div.sk-estimator.fitted input.sk-toggleable__control:checked~label.sk-toggleable__label {\n",
       "  /* fitted */\n",
       "  background-color: var(--sklearn-color-fitted-level-2);\n",
       "}\n",
       "\n",
       "#sk-container-id-1 div.sk-label label.sk-toggleable__label,\n",
       "#sk-container-id-1 div.sk-label label {\n",
       "  /* The background is the default theme color */\n",
       "  color: var(--sklearn-color-text-on-default-background);\n",
       "}\n",
       "\n",
       "/* On hover, darken the color of the background */\n",
       "#sk-container-id-1 div.sk-label:hover label.sk-toggleable__label {\n",
       "  color: var(--sklearn-color-text);\n",
       "  background-color: var(--sklearn-color-unfitted-level-2);\n",
       "}\n",
       "\n",
       "/* Label box, darken color on hover, fitted */\n",
       "#sk-container-id-1 div.sk-label.fitted:hover label.sk-toggleable__label.fitted {\n",
       "  color: var(--sklearn-color-text);\n",
       "  background-color: var(--sklearn-color-fitted-level-2);\n",
       "}\n",
       "\n",
       "/* Estimator label */\n",
       "\n",
       "#sk-container-id-1 div.sk-label label {\n",
       "  font-family: monospace;\n",
       "  font-weight: bold;\n",
       "  display: inline-block;\n",
       "  line-height: 1.2em;\n",
       "}\n",
       "\n",
       "#sk-container-id-1 div.sk-label-container {\n",
       "  text-align: center;\n",
       "}\n",
       "\n",
       "/* Estimator-specific */\n",
       "#sk-container-id-1 div.sk-estimator {\n",
       "  font-family: monospace;\n",
       "  border: 1px dotted var(--sklearn-color-border-box);\n",
       "  border-radius: 0.25em;\n",
       "  box-sizing: border-box;\n",
       "  margin-bottom: 0.5em;\n",
       "  /* unfitted */\n",
       "  background-color: var(--sklearn-color-unfitted-level-0);\n",
       "}\n",
       "\n",
       "#sk-container-id-1 div.sk-estimator.fitted {\n",
       "  /* fitted */\n",
       "  background-color: var(--sklearn-color-fitted-level-0);\n",
       "}\n",
       "\n",
       "/* on hover */\n",
       "#sk-container-id-1 div.sk-estimator:hover {\n",
       "  /* unfitted */\n",
       "  background-color: var(--sklearn-color-unfitted-level-2);\n",
       "}\n",
       "\n",
       "#sk-container-id-1 div.sk-estimator.fitted:hover {\n",
       "  /* fitted */\n",
       "  background-color: var(--sklearn-color-fitted-level-2);\n",
       "}\n",
       "\n",
       "/* Specification for estimator info (e.g. \"i\" and \"?\") */\n",
       "\n",
       "/* Common style for \"i\" and \"?\" */\n",
       "\n",
       ".sk-estimator-doc-link,\n",
       "a:link.sk-estimator-doc-link,\n",
       "a:visited.sk-estimator-doc-link {\n",
       "  float: right;\n",
       "  font-size: smaller;\n",
       "  line-height: 1em;\n",
       "  font-family: monospace;\n",
       "  background-color: var(--sklearn-color-background);\n",
       "  border-radius: 1em;\n",
       "  height: 1em;\n",
       "  width: 1em;\n",
       "  text-decoration: none !important;\n",
       "  margin-left: 0.5em;\n",
       "  text-align: center;\n",
       "  /* unfitted */\n",
       "  border: var(--sklearn-color-unfitted-level-1) 1pt solid;\n",
       "  color: var(--sklearn-color-unfitted-level-1);\n",
       "}\n",
       "\n",
       ".sk-estimator-doc-link.fitted,\n",
       "a:link.sk-estimator-doc-link.fitted,\n",
       "a:visited.sk-estimator-doc-link.fitted {\n",
       "  /* fitted */\n",
       "  border: var(--sklearn-color-fitted-level-1) 1pt solid;\n",
       "  color: var(--sklearn-color-fitted-level-1);\n",
       "}\n",
       "\n",
       "/* On hover */\n",
       "div.sk-estimator:hover .sk-estimator-doc-link:hover,\n",
       ".sk-estimator-doc-link:hover,\n",
       "div.sk-label-container:hover .sk-estimator-doc-link:hover,\n",
       ".sk-estimator-doc-link:hover {\n",
       "  /* unfitted */\n",
       "  background-color: var(--sklearn-color-unfitted-level-3);\n",
       "  color: var(--sklearn-color-background);\n",
       "  text-decoration: none;\n",
       "}\n",
       "\n",
       "div.sk-estimator.fitted:hover .sk-estimator-doc-link.fitted:hover,\n",
       ".sk-estimator-doc-link.fitted:hover,\n",
       "div.sk-label-container:hover .sk-estimator-doc-link.fitted:hover,\n",
       ".sk-estimator-doc-link.fitted:hover {\n",
       "  /* fitted */\n",
       "  background-color: var(--sklearn-color-fitted-level-3);\n",
       "  color: var(--sklearn-color-background);\n",
       "  text-decoration: none;\n",
       "}\n",
       "\n",
       "/* Span, style for the box shown on hovering the info icon */\n",
       ".sk-estimator-doc-link span {\n",
       "  display: none;\n",
       "  z-index: 9999;\n",
       "  position: relative;\n",
       "  font-weight: normal;\n",
       "  right: .2ex;\n",
       "  padding: .5ex;\n",
       "  margin: .5ex;\n",
       "  width: min-content;\n",
       "  min-width: 20ex;\n",
       "  max-width: 50ex;\n",
       "  color: var(--sklearn-color-text);\n",
       "  box-shadow: 2pt 2pt 4pt #999;\n",
       "  /* unfitted */\n",
       "  background: var(--sklearn-color-unfitted-level-0);\n",
       "  border: .5pt solid var(--sklearn-color-unfitted-level-3);\n",
       "}\n",
       "\n",
       ".sk-estimator-doc-link.fitted span {\n",
       "  /* fitted */\n",
       "  background: var(--sklearn-color-fitted-level-0);\n",
       "  border: var(--sklearn-color-fitted-level-3);\n",
       "}\n",
       "\n",
       ".sk-estimator-doc-link:hover span {\n",
       "  display: block;\n",
       "}\n",
       "\n",
       "/* \"?\"-specific style due to the `<a>` HTML tag */\n",
       "\n",
       "#sk-container-id-1 a.estimator_doc_link {\n",
       "  float: right;\n",
       "  font-size: 1rem;\n",
       "  line-height: 1em;\n",
       "  font-family: monospace;\n",
       "  background-color: var(--sklearn-color-background);\n",
       "  border-radius: 1rem;\n",
       "  height: 1rem;\n",
       "  width: 1rem;\n",
       "  text-decoration: none;\n",
       "  /* unfitted */\n",
       "  color: var(--sklearn-color-unfitted-level-1);\n",
       "  border: var(--sklearn-color-unfitted-level-1) 1pt solid;\n",
       "}\n",
       "\n",
       "#sk-container-id-1 a.estimator_doc_link.fitted {\n",
       "  /* fitted */\n",
       "  border: var(--sklearn-color-fitted-level-1) 1pt solid;\n",
       "  color: var(--sklearn-color-fitted-level-1);\n",
       "}\n",
       "\n",
       "/* On hover */\n",
       "#sk-container-id-1 a.estimator_doc_link:hover {\n",
       "  /* unfitted */\n",
       "  background-color: var(--sklearn-color-unfitted-level-3);\n",
       "  color: var(--sklearn-color-background);\n",
       "  text-decoration: none;\n",
       "}\n",
       "\n",
       "#sk-container-id-1 a.estimator_doc_link.fitted:hover {\n",
       "  /* fitted */\n",
       "  background-color: var(--sklearn-color-fitted-level-3);\n",
       "}\n",
       "</style><div id=\"sk-container-id-1\" class=\"sk-top-container\"><div class=\"sk-text-repr-fallback\"><pre>Ridge()</pre><b>In a Jupyter environment, please rerun this cell to show the HTML representation or trust the notebook. <br />On GitHub, the HTML representation is unable to render, please try loading this page with nbviewer.org.</b></div><div class=\"sk-container\" hidden><div class=\"sk-item\"><div class=\"sk-estimator fitted sk-toggleable\"><input class=\"sk-toggleable__control sk-hidden--visually\" id=\"sk-estimator-id-1\" type=\"checkbox\" checked><label for=\"sk-estimator-id-1\" class=\"sk-toggleable__label fitted sk-toggleable__label-arrow\"><div><div>Ridge</div></div><div><a class=\"sk-estimator-doc-link fitted\" rel=\"noreferrer\" target=\"_blank\" href=\"https://scikit-learn.org/1.6/modules/generated/sklearn.linear_model.Ridge.html\">?<span>Documentation for Ridge</span></a><span class=\"sk-estimator-doc-link fitted\">i<span>Fitted</span></span></div></label><div class=\"sk-toggleable__content fitted\"><pre>Ridge()</pre></div> </div></div></div></div>"
      ],
      "text/plain": [
       "Ridge()"
      ]
     },
     "execution_count": 86,
     "metadata": {},
     "output_type": "execute_result"
    }
   ],
   "source": [
    "# Step 2: Initialize and fit a Ridge regression model\n",
    "ridge_model = Ridge(alpha=1.0)  # Regularization strength (alpha=0 means no regularization)\n",
    "ridge_model.fit(X_train, y_train)"
   ]
  },
  {
   "cell_type": "code",
   "execution_count": 87,
   "metadata": {},
   "outputs": [],
   "source": [
    "# Step 3: Make predictions\n",
    "y_train_pred = ridge_model.predict(X_train)\n",
    "y_test_pred = ridge_model.predict(X_test)"
   ]
  },
  {
   "cell_type": "code",
   "execution_count": 88,
   "metadata": {},
   "outputs": [],
   "source": [
    "# Step 4: Evaluate the model\n",
    "train_mse = mean_squared_error(y_train, y_train_pred)\n",
    "test_mse = mean_squared_error(y_test, y_test_pred)"
   ]
  },
  {
   "cell_type": "code",
   "execution_count": 89,
   "metadata": {},
   "outputs": [
    {
     "name": "stdout",
     "output_type": "stream",
     "text": [
      "0.020568306251147205\n",
      "0.018756714970882847\n"
     ]
    },
    {
     "ename": "",
     "evalue": "",
     "output_type": "error",
     "traceback": [
      "\u001b[1;31mThe Kernel crashed while executing code in the current cell or a previous cell. \n",
      "\u001b[1;31mPlease review the code in the cell(s) to identify a possible cause of the failure. \n",
      "\u001b[1;31mClick <a href='https://aka.ms/vscodeJupyterKernelCrash'>here</a> for more info. \n",
      "\u001b[1;31mView Jupyter <a href='command:jupyter.viewOutput'>log</a> for further details."
     ]
    }
   ],
   "source": [
    "print(train_mse)\n",
    "print(test_mse)"
   ]
  },
  {
   "cell_type": "markdown",
   "metadata": {},
   "source": [
    "**QUESTIONS**:\n",
    "- The gene expression can be different for same gene in different cells? It does not just refer to a gene_id?\n",
    "- How do we know what is the end site for the embedding count, is it the gene_end?\n",
    "- Is in the embedding the chromosome also important?"
   ]
  },
  {
   "cell_type": "markdown",
   "metadata": {},
   "source": []
  }
 ],
 "metadata": {
  "kernelspec": {
   "display_name": "preprocessing",
   "language": "python",
   "name": "python3"
  },
  "language_info": {
   "codemirror_mode": {
    "name": "ipython",
    "version": 3
   },
   "file_extension": ".py",
   "mimetype": "text/x-python",
   "name": "python",
   "nbconvert_exporter": "python",
   "pygments_lexer": "ipython3",
   "version": "3.9.20"
  }
 },
 "nbformat": 4,
 "nbformat_minor": 2
}
