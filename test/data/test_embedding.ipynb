{
 "cells": [
  {
   "cell_type": "markdown",
   "metadata": {},
   "source": [
    "# Testing Embedding"
   ]
  },
  {
   "cell_type": "code",
   "execution_count": 1,
   "metadata": {},
   "outputs": [],
   "source": [
    "from pathlib import Path\n",
    "import sys\n",
    "sys.path.append('../..')\n",
    "\n",
    "# add this to you notebook so it automatically reloads code you changed in a python file after importing this code\n",
    "%load_ext autoreload\n",
    "%autoreload 2"
   ]
  },
  {
   "cell_type": "code",
   "execution_count": 2,
   "metadata": {},
   "outputs": [],
   "source": [
    "from src.data.embedding import embed, Embedder"
   ]
  },
  {
   "cell_type": "code",
   "execution_count": 3,
   "metadata": {},
   "outputs": [],
   "source": [
    "git_root=Path('../..')\n",
    "gtf_path=git_root / 'data/gene_positions_and_overlaps/gene_positions.csv'\n",
    "fasta_path=git_root / 'data/reference/GRCh38.d1.vd1.fa'\n",
    "overlap_path=git_root / 'data/gene_positions_and_overlaps/overlaps_batch1.tsv'\n",
    "epianeu_path=git_root / 'out/epiAneufinder/epiAneuFinder_results.tsv'\n",
    "assert all(map(lambda p:p.exists(),\n",
    "            [gtf_path, fasta_path, overlap_path, epianeu_path]\n",
    "))"
   ]
  },
  {
   "cell_type": "code",
   "execution_count": 15,
   "metadata": {},
   "outputs": [],
   "source": [
    "test_genes = [\n",
    "    'ENSG00000269113',\n",
    "    'ENSG00000188158',\n",
    "    'ENSG00000154511',\n",
    "    'ENSG00000225555'\n",
    "]\n",
    "test_gene_set = set(test_genes)\n",
    "test_barcodes = [\n",
    "    'AAACCAACATGTCAGC-1',\n",
    "    'TTGTTTGGTTAATGCG-1',\n",
    "    'CCCTGTTAGCACGTTG-1'\n",
    "]\n",
    "test_barcode_set = set(test_barcodes)\n",
    "test_barcode_to_genes = {\n",
    "\t\t'AAACCAACATGTCAGC-1': ['ENSG00000154511'],\n",
    "\t\t'TTGTTTGGTTAATGCG-1': ['ENSG00000269113', 'ENSG00000154511'],\n",
    "        'CCCTGTTAGCACGTTG-1': ['ENSG00000269113', 'ENSG00000154511', 'ENSG00000225555']\n",
    "\t}"
   ]
  },
  {
   "cell_type": "code",
   "execution_count": 32,
   "metadata": {},
   "outputs": [
    {
     "name": "stdout",
     "output_type": "stream",
     "text": [
      "\n",
      "\n",
      "[embed]:\n",
      " +--------------+--------------+------------+-----------------+-------+\n",
      "|   Chromosome |   Gene_Start |   Gene_End | gene_id         | +3    |\n",
      "|   (category) |      (int64) |    (int64) | (object)        | ...   |\n",
      "|--------------+--------------+------------+-----------------+-------|\n",
      "|            1 |     92832737 |   92961522 | ENSG00000154511 | ...   |\n",
      "|            1 |     47760528 |   47997385 | ENSG00000269113 | ...   |\n",
      "|           21 |     34353099 |   34375809 | ENSG00000225555 | ...   |\n",
      "+--------------+--------------+------------+-----------------+-------+\n",
      "Unstranded PyRanges object has 3 rows and 7 columns from 2 chromosomes.\n",
      "For printing, the PyRanges was sorted on Chromosome.\n",
      "3 hidden columns: Start, End, Sequence\n",
      "[embed]:\n",
      " +--------------+--------------+------------+-----------------+-------+\n",
      "|   Chromosome |   Gene_Start |   Gene_End | gene_id         | +8    |\n",
      "|   (category) |      (int64) |    (int64) | (object)        | ...   |\n",
      "|--------------+--------------+------------+-----------------+-------|\n",
      "|            1 |     92832737 |   92961522 | ENSG00000154511 | ...   |\n",
      "|            1 |     47760528 |   47997385 | ENSG00000269113 | ...   |\n",
      "|           21 |     34353099 |   34375809 | ENSG00000225555 | ...   |\n",
      "+--------------+--------------+------------+-----------------+-------+\n",
      "Unstranded PyRanges object has 3 rows and 12 columns from 2 chromosomes.\n",
      "For printing, the PyRanges was sorted on Chromosome.\n",
      "8 hidden columns: Start, End, Sequence, Start_b, End_b, CCCTGTTAGCACGTTG-1, ... (+ 2 more.)\n",
      "[embed]: Iterating over custom barcode to genes mapping\n",
      "[embed]: Computing 6 Embeddings with mode: \"single_gene_barcode\"\n",
      "[embed]: Using 3 barcodes\n",
      "[embed]: AAACCAACATGTCAGC-1,CCCTGTTAGCACGTTG-1,TTGTTTGGTTAATGCG-1\n",
      "[embed]: Using 3 genes\n",
      "[embed]: ENSG00000154511,ENSG00000225555,ENSG00000269113\n"
     ]
    },
    {
     "name": "stderr",
     "output_type": "stream",
     "text": [
      "[embed]: Computing embeddings:   0%|            | 0/6 [00:00<?, ?it/s]"
     ]
    }
   ],
   "source": [
    "embedder = Embedder(\n",
    "    fasta_path=fasta_path,\n",
    "    gtf_path=gtf_path,\n",
    "    atac_path=overlap_path,\n",
    "    cnv_path=epianeu_path,\n",
    "    barcode_set=test_barcode_set,\n",
    "    gene_set=test_gene_set,\n",
    "    barcode_to_genes=test_barcode_to_genes,\n",
    "    verbose=True\n",
    ")"
   ]
  },
  {
   "cell_type": "code",
   "execution_count": 33,
   "metadata": {},
   "outputs": [
    {
     "name": "stderr",
     "output_type": "stream",
     "text": [
      "[embed]: Computing embeddings:  17%|▋   | 1/6 [00:04<00:20,  4.10s/it]"
     ]
    },
    {
     "name": "stderr",
     "output_type": "stream",
     "text": [
      "[embed]: Computing embeddings: 100%|████| 6/6 [00:04<00:00,  1.41it/s]"
     ]
    },
    {
     "name": "stdout",
     "output_type": "stream",
     "text": [
      "[embed]: get_dna_embedding() for ENSG00000154511\n",
      "AAACCAACATGTCAGC-1 ENSG00000154511\n",
      "uint8\n",
      "CCCTGTTAGCACGTTG-1 ENSG00000154511\n",
      "uint8\n",
      "TTGTTTGGTTAATGCG-1 ENSG00000154511\n",
      "uint8\n",
      "[embed]: get_dna_embedding() for ENSG00000269113\n",
      "CCCTGTTAGCACGTTG-1 ENSG00000269113\n",
      "uint8\n",
      "TTGTTTGGTTAATGCG-1 ENSG00000269113\n",
      "uint8\n",
      "[embed]: get_dna_embedding() for ENSG00000225555\n",
      "CCCTGTTAGCACGTTG-1 ENSG00000225555\n",
      "uint8\n"
     ]
    },
    {
     "name": "stderr",
     "output_type": "stream",
     "text": [
      "\n"
     ]
    }
   ],
   "source": [
    "for b, g, e in embedder:\n",
    "    print(b, g)\n",
    "    print(e.dtype)"
   ]
  },
  {
   "cell_type": "code",
   "execution_count": 31,
   "metadata": {},
   "outputs": [
    {
     "data": {
      "text/plain": [
       "'ENSG00000154511'"
      ]
     },
     "execution_count": 31,
     "metadata": {},
     "output_type": "execute_result"
    }
   ],
   "source": [
    "embedder.gene_pr.gene_id.iloc[0]"
   ]
  }
 ],
 "metadata": {
  "kernelspec": {
   "display_name": "ssb",
   "language": "python",
   "name": "python3"
  },
  "language_info": {
   "codemirror_mode": {
    "name": "ipython",
    "version": 3
   },
   "file_extension": ".py",
   "mimetype": "text/x-python",
   "name": "python",
   "nbconvert_exporter": "python",
   "pygments_lexer": "ipython3",
   "version": "3.12.9"
  }
 },
 "nbformat": 4,
 "nbformat_minor": 2
}
