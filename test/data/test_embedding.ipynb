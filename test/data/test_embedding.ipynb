{
 "cells": [
  {
   "cell_type": "markdown",
   "metadata": {},
   "source": [
    "# Testing Embedding"
   ]
  },
  {
   "cell_type": "code",
   "execution_count": 1,
   "metadata": {},
   "outputs": [],
   "source": [
    "from pathlib import Path\n",
    "import sys\n",
    "sys.path.append('../..')\n",
    "\n",
    "# add this to you notebook so it automatically reloads code you changed in a python file after importing this code\n",
    "%load_ext autoreload\n",
    "%autoreload 2"
   ]
  },
  {
   "cell_type": "code",
   "execution_count": 2,
   "metadata": {},
   "outputs": [],
   "source": [
    "from src.data.embedding import Embedder"
   ]
  },
  {
   "cell_type": "code",
   "execution_count": 3,
   "metadata": {},
   "outputs": [],
   "source": [
    "git_root=Path('../..')\n",
    "gtf_path=git_root / 'data/gene_positions_and_overlaps/gene_positions.csv'\n",
    "fasta_path=git_root / 'data/reference/GRCh38.d1.vd1.fa'\n",
    "overlap_path=git_root / 'data/gene_positions_and_overlaps/overlaps_batch1.tsv'\n",
    "epianeu_path=git_root / 'out/epiAneufinder/epiAneuFinder_results.tsv'\n",
    "assert all(map(lambda p:p.exists(),\n",
    "            [gtf_path, fasta_path, overlap_path, epianeu_path]\n",
    "))"
   ]
  },
  {
   "cell_type": "code",
   "execution_count": 4,
   "metadata": {},
   "outputs": [],
   "source": [
    "test_genes = [\n",
    "    'ENSG00000269113',\n",
    "    'ENSG00000188158',\n",
    "    'ENSG00000154511',\n",
    "    'ENSG00000225555'\n",
    "]\n",
    "test_gene_set = set(test_genes)\n",
    "test_barcodes = [\n",
    "    'AAACCAACATGTCAGC-1',\n",
    "    'TTGTTTGGTTAATGCG-1',\n",
    "    'CCCTGTTAGCACGTTG-1'\n",
    "]\n",
    "test_barcode_set = set(test_barcodes)\n",
    "test_barcode_to_genes = {\n",
    "\t\t'AAACCAACATGTCAGC-1': ['ENSG00000154511'],\n",
    "\t\t'TTGTTTGGTTAATGCG-1': ['ENSG00000269113', 'ENSG00000154511'],\n",
    "        'CCCTGTTAGCACGTTG-1': ['ENSG00000269113', 'ENSG00000154511', 'ENSG00000225555']\n",
    "\t}"
   ]
  },
  {
   "cell_type": "code",
   "execution_count": 32,
   "metadata": {},
   "outputs": [
    {
     "name": "stdout",
     "output_type": "stream",
     "text": [
      "\n",
      "\n",
      "[embed]:\n",
      " +--------------+--------------+------------+-----------------+-------+\n",
      "|   Chromosome |   Gene_Start |   Gene_End | gene_id         | +3    |\n",
      "|   (category) |      (int64) |    (int64) | (object)        | ...   |\n",
      "|--------------+--------------+------------+-----------------+-------|\n",
      "|            1 |     92832737 |   92961522 | ENSG00000154511 | ...   |\n",
      "|            1 |     47760528 |   47997385 | ENSG00000269113 | ...   |\n",
      "|           21 |     34353099 |   34375809 | ENSG00000225555 | ...   |\n",
      "+--------------+--------------+------------+-----------------+-------+\n",
      "Unstranded PyRanges object has 3 rows and 7 columns from 2 chromosomes.\n",
      "For printing, the PyRanges was sorted on Chromosome.\n",
      "3 hidden columns: Start, End, Sequence\n",
      "[embed]:\n",
      " +--------------+--------------+------------+-----------------+-------+\n",
      "|   Chromosome |   Gene_Start |   Gene_End | gene_id         | +8    |\n",
      "|   (category) |      (int64) |    (int64) | (object)        | ...   |\n",
      "|--------------+--------------+------------+-----------------+-------|\n",
      "|            1 |     92832737 |   92961522 | ENSG00000154511 | ...   |\n",
      "|            1 |     47760528 |   47997385 | ENSG00000269113 | ...   |\n",
      "|           21 |     34353099 |   34375809 | ENSG00000225555 | ...   |\n",
      "+--------------+--------------+------------+-----------------+-------+\n",
      "Unstranded PyRanges object has 3 rows and 12 columns from 2 chromosomes.\n",
      "For printing, the PyRanges was sorted on Chromosome.\n",
      "8 hidden columns: Start, End, Sequence, Start_b, End_b, CCCTGTTAGCACGTTG-1, ... (+ 2 more.)\n",
      "[embed]: Iterating over custom barcode to genes mapping\n",
      "[embed]: Computing 6 Embeddings with mode: \"single_gene_barcode\"\n",
      "[embed]: Using 3 barcodes\n",
      "[embed]: AAACCAACATGTCAGC-1,CCCTGTTAGCACGTTG-1,TTGTTTGGTTAATGCG-1\n",
      "[embed]: Using 3 genes\n",
      "[embed]: ENSG00000154511,ENSG00000225555,ENSG00000269113\n"
     ]
    },
    {
     "name": "stderr",
     "output_type": "stream",
     "text": [
      "[embed]: Computing embeddings:   0%|            | 0/6 [00:00<?, ?it/s]"
     ]
    }
   ],
   "source": [
    "embedder = Embedder(\n",
    "    fasta_path=fasta_path,\n",
    "    gtf_path=gtf_path,\n",
    "    atac_path=overlap_path,\n",
    "    cnv_path=epianeu_path,\n",
    "    barcode_set=test_barcode_set,\n",
    "    gene_set=test_gene_set,\n",
    "    barcode_to_genes=test_barcode_to_genes,\n",
    "    verbose=True\n",
    ")"
   ]
  },
  {
   "cell_type": "code",
   "execution_count": 33,
   "metadata": {},
   "outputs": [
    {
     "name": "stderr",
     "output_type": "stream",
     "text": [
      "[embed]: Computing embeddings:  17%|▋   | 1/6 [00:04<00:20,  4.10s/it]"
     ]
    },
    {
     "name": "stderr",
     "output_type": "stream",
     "text": [
      "[embed]: Computing embeddings: 100%|████| 6/6 [00:04<00:00,  1.41it/s]"
     ]
    },
    {
     "name": "stdout",
     "output_type": "stream",
     "text": [
      "[embed]: get_dna_embedding() for ENSG00000154511\n",
      "AAACCAACATGTCAGC-1 ENSG00000154511\n",
      "uint8\n",
      "CCCTGTTAGCACGTTG-1 ENSG00000154511\n",
      "uint8\n",
      "TTGTTTGGTTAATGCG-1 ENSG00000154511\n",
      "uint8\n",
      "[embed]: get_dna_embedding() for ENSG00000269113\n",
      "CCCTGTTAGCACGTTG-1 ENSG00000269113\n",
      "uint8\n",
      "TTGTTTGGTTAATGCG-1 ENSG00000269113\n",
      "uint8\n",
      "[embed]: get_dna_embedding() for ENSG00000225555\n",
      "CCCTGTTAGCACGTTG-1 ENSG00000225555\n",
      "uint8\n"
     ]
    },
    {
     "name": "stderr",
     "output_type": "stream",
     "text": [
      "\n"
     ]
    }
   ],
   "source": [
    "for b, g, e in embedder:\n",
    "    print(b, g)\n",
    "    print(e.dtype)"
   ]
  },
  {
   "cell_type": "code",
   "execution_count": 31,
   "metadata": {},
   "outputs": [
    {
     "data": {
      "text/plain": [
       "'ENSG00000154511'"
      ]
     },
     "execution_count": 31,
     "metadata": {},
     "output_type": "execute_result"
    }
   ],
   "source": [
    "embedder.gene_pr.gene_id.iloc[0]"
   ]
  },
  {
   "cell_type": "markdown",
   "metadata": {},
   "source": [
    "Manual test case for embedding which spans two ATAC-seq peaks in cell `AATGCATGTTCACCCA-1` and gene `ENSG00000090104`."
   ]
  },
  {
   "cell_type": "code",
   "execution_count": 21,
   "metadata": {},
   "outputs": [
    {
     "name": "stdout",
     "output_type": "stream",
     "text": [
      "\n",
      "[Embedder]:\n",
      " +--------------+--------------+------------+-----------------+-------+\n",
      "|   Chromosome |   Gene_Start |   Gene_End | gene_id         | +3    |\n",
      "|   (category) |      (int64) |    (int64) | (object)        | ...   |\n",
      "|--------------+--------------+------------+-----------------+-------|\n",
      "|            1 |    192575763 |  192580024 | ENSG00000090104 | ...   |\n",
      "+--------------+--------------+------------+-----------------+-------+\n",
      "Unstranded PyRanges object has 1 rows and 7 columns from 1 chromosomes.\n",
      "For printing, the PyRanges was sorted on Chromosome.\n",
      "3 hidden columns: Start, End, Sequence\n",
      "[Embedder]:\n",
      " +--------------+--------------+------------+-----------------+-------+\n",
      "|   Chromosome |   Gene_Start |   Gene_End | gene_id         | +6    |\n",
      "|   (category) |      (int64) |    (int64) | (object)        | ...   |\n",
      "|--------------+--------------+------------+-----------------+-------|\n",
      "|            1 |    192575763 |  192580024 | ENSG00000090104 | ...   |\n",
      "+--------------+--------------+------------+-----------------+-------+\n",
      "Unstranded PyRanges object has 1 rows and 10 columns from 1 chromosomes.\n",
      "For printing, the PyRanges was sorted on Chromosome.\n",
      "6 hidden columns: Start, End, Sequence, Start_b, End_b, AATGCATGTTCACCCA-1\n",
      "[Embedder]: Iterating over all possible barcode-gene combinations\n",
      "[Embedder]: Computing 1 Embeddings with mode: \"single_gene_barcode\"\n",
      "[Embedder]: Using 1 barcodes\n",
      "[Embedder]: AATGCATGTTCACCCA-1\n",
      "[Embedder]: Using 1 genes\n",
      "[Embedder]: ENSG00000090104\n"
     ]
    },
    {
     "name": "stderr",
     "output_type": "stream",
     "text": [
      "[Embedder]: Computing embeddings: 100%|██████████████████████████████████████████████████| 1/1 [10:35<00:00, 635.63s/it]\n"
     ]
    }
   ],
   "source": [
    "embedder = Embedder(\n",
    "    fasta_path=fasta_path,\n",
    "    gtf_path=gtf_path,\n",
    "    atac_path=overlap_path,\n",
    "    cnv_path=epianeu_path,\n",
    "    barcode_set={'AATGCATGTTCACCCA-1'},\n",
    "    gene_set={'ENSG00000090104'},\n",
    "    # barcode_to_genes=test_barcode_to_genes,\n",
    "    verbose=True\n",
    ")"
   ]
  },
  {
   "cell_type": "code",
   "execution_count": 22,
   "metadata": {},
   "outputs": [
    {
     "name": "stderr",
     "output_type": "stream",
     "text": [
      "[Embedder]: Computing embeddings: 100%|███████████████████████████████████████████████████| 1/1 [00:04<00:00,  4.29s/it]"
     ]
    }
   ],
   "source": [
    "b, g, e = next(embedder)"
   ]
  },
  {
   "cell_type": "code",
   "execution_count": 23,
   "metadata": {},
   "outputs": [
    {
     "data": {
      "text/plain": [
       "(7, 10000)"
      ]
     },
     "execution_count": 23,
     "metadata": {},
     "output_type": "execute_result"
    }
   ],
   "source": [
    "e.shape"
   ]
  },
  {
   "cell_type": "code",
   "execution_count": 24,
   "metadata": {},
   "outputs": [
    {
     "data": {
      "text/plain": [
       "array([5816, 4777, 4789, 5835, 1720,    0,    0], dtype=uint64)"
      ]
     },
     "execution_count": 24,
     "metadata": {},
     "output_type": "execute_result"
    }
   ],
   "source": [
    "e.sum(axis=1)"
   ]
  },
  {
   "cell_type": "code",
   "execution_count": null,
   "metadata": {},
   "outputs": [],
   "source": [
    "barcode = 'AATGCATGTTCACCCA-1'\n",
    "gene_id = 'ENSG00000090104'\n",
    "gene_pr = embedder.gene_pr\n",
    "atac_pr = embedder.atac_pr\n",
    "atac_pr_test = atac_pr[[barcode]].intersect(gene_pr[gene_pr.gene_id == gene_id])\n",
    "sum(atac_pr_test.End - atac_pr_test.Start)"
   ]
  },
  {
   "cell_type": "markdown",
   "metadata": {},
   "source": [
    "TODO: create an test case for CNV gain and CNV loss based on read data from the dataset.\n",
    "Use barcode `AATGCATGTTCACCCA-1` and gene ids `ENSG00000232450` or `ENSG00000127220` for CNV gain.\n",
    "For CNV loss use barcode `GTGCACGGTCACAAAT-3` and gene ids `ENSG00000230477` or `ENSG00000278902`."
   ]
  },
  {
   "cell_type": "code",
   "execution_count": 32,
   "metadata": {},
   "outputs": [
    {
     "name": "stdout",
     "output_type": "stream",
     "text": [
      "\n",
      "[Embedder]:\n",
      " +--------------+--------------+------------+-----------------+-------+\n",
      "|   Chromosome |   Gene_Start |   Gene_End | gene_id         | +3    |\n",
      "|   (category) |      (int64) |    (int64) | (object)        | ...   |\n",
      "|--------------+--------------+------------+-----------------+-------|\n",
      "|            1 |    113698884 |  113699631 | ENSG00000232450 | ...   |\n",
      "|            2 |     75598071 |   75598559 | ENSG00000230477 | ...   |\n",
      "|           18 |     73921939 |   73922631 | ENSG00000278902 | ...   |\n",
      "|           19 |     17292131 |   17310236 | ENSG00000127220 | ...   |\n",
      "+--------------+--------------+------------+-----------------+-------+\n",
      "Unstranded PyRanges object has 4 rows and 7 columns from 4 chromosomes.\n",
      "For printing, the PyRanges was sorted on Chromosome.\n",
      "3 hidden columns: Start, End, Sequence\n",
      "[Embedder]:\n",
      " +--------------+--------------+------------+-----------------+---------+\n",
      "|   Chromosome |   Gene_Start |   Gene_End | gene_id         | +5783   |\n",
      "|   (category) |      (int64) |    (int64) | (object)        | ...     |\n",
      "|--------------+--------------+------------+-----------------+---------|\n",
      "|            1 |    113698884 |  113699631 | ENSG00000232450 | ...     |\n",
      "|            1 |    113698884 |  113699631 | ENSG00000232450 | ...     |\n",
      "|            2 |     75598071 |   75598559 | ENSG00000230477 | ...     |\n",
      "|            2 |     75598071 |   75598559 | ENSG00000230477 | ...     |\n",
      "|           18 |     73921939 |   73922631 | ENSG00000278902 | ...     |\n",
      "|           19 |     17292131 |   17310236 | ENSG00000127220 | ...     |\n",
      "|           19 |     17292131 |   17310236 | ENSG00000127220 | ...     |\n",
      "+--------------+--------------+------------+-----------------+---------+\n",
      "Unstranded PyRanges object has 7 rows and 5,787 columns from 4 chromosomes.\n",
      "For printing, the PyRanges was sorted on Chromosome.\n",
      "5783 hidden columns: Start, End, Sequence, Start_b, End_b, GCGCAATGTTGCGGAT-3, ... (+ 5777 more.)\n",
      "[Embedder]: Iterating over custom barcode to genes mapping\n",
      "[Embedder]: Computing 4 Embeddings with mode: \"single_gene_barcode\"\n",
      "[Embedder]: Using 2 barcodes\n",
      "[Embedder]: AATGCATGTTCACCCA-1,GTGCACGGTCACAAAT-3\n",
      "[Embedder]: Using 4 genes\n",
      "[Embedder]: ENSG00000230477,ENSG00000232450,ENSG00000127220,ENSG00000278902\n"
     ]
    },
    {
     "name": "stderr",
     "output_type": "stream",
     "text": []
    }
   ],
   "source": [
    "embedder = Embedder(\n",
    "    fasta_path=fasta_path,\n",
    "    gtf_path=gtf_path,\n",
    "    atac_path=overlap_path,\n",
    "    cnv_path=epianeu_path,\n",
    "    barcodes_to_genes={\n",
    "        'AATGCATGTTCACCCA-1': ['ENSG00000232450', 'ENSG00000127220'],\n",
    "        'GTGCACGGTCACAAAT-3': ['ENSG00000230477', 'ENSG00000278902']\n",
    "        },\n",
    "    verbose=True\n",
    ")"
   ]
  },
  {
   "cell_type": "code",
   "execution_count": 33,
   "metadata": {},
   "outputs": [
    {
     "name": "stderr",
     "output_type": "stream",
     "text": []
    },
    {
     "name": "stdout",
     "output_type": "stream",
     "text": [
      "AATGCATGTTCACCCA-1 ENSG00000232450\n",
      "[ 8118  7844  7779  8018     0     0 10000]\n"
     ]
    },
    {
     "name": "stderr",
     "output_type": "stream",
     "text": []
    },
    {
     "name": "stdout",
     "output_type": "stream",
     "text": [
      "GTGCACGGTCACAAAT-3 ENSG00000230477\n",
      "[ 8152  8162  8128  8094     0 10000     0]\n"
     ]
    },
    {
     "name": "stderr",
     "output_type": "stream",
     "text": []
    },
    {
     "name": "stdout",
     "output_type": "stream",
     "text": [
      "GTGCACGGTCACAAAT-3 ENSG00000278902\n",
      "[ 8134  7850  7803  8137     0 10000     0]\n"
     ]
    },
    {
     "name": "stderr",
     "output_type": "stream",
     "text": [
      "[Embedder]: Computing embeddings: 100%|███████████████████████████████████████████████████| 4/4 [00:05<00:00,  1.29s/it]"
     ]
    },
    {
     "name": "stdout",
     "output_type": "stream",
     "text": [
      "AATGCATGTTCACCCA-1 ENSG00000127220\n",
      "[ 2187  2636  2575  2602     0     0 10000]\n"
     ]
    },
    {
     "name": "stderr",
     "output_type": "stream",
     "text": [
      "\n"
     ]
    }
   ],
   "source": [
    "for b, g, e in embedder:\n",
    "    print(b, g)\n",
    "    print(e.sum(axis=1))"
   ]
  },
  {
   "cell_type": "markdown",
   "metadata": {},
   "source": [
    "Gene IDs not included in our GTF annotation:\n",
    "\n",
    "* batch 1 training:\n",
    "```\n",
    "ENSG00000238042,ENSG00000286365,ENSG00000242753,ENSG00000100234,ENSG00000188511,ENSG00000258216,ENSG00000258473,ENSG00000198804,ENSG00000269028,ENSG00000280560,ENSG00000198763,ENSG00000100077,ENSG00000254138,ENSG00000100368,ENSG00000100311,ENSG00000198886,ENSG00000249988,ENSG00000231993,ENSG00000253988,ENSG00000237838,ENSG00000128284,ENSG00000285875,ENSG00000198712,ENSG00000100100,ENSG00000198786,ENSG00000176177,ENSG00000225465,ENSG00000255028,ENSG00000231128,ENSG00000260983,ENSG00000198840,ENSG00000256287,ENSG00000272755,ENSG00000253983,ENSG00000130487,ENSG00000265975,ENSG00000198888,ENSG00000237356,ENSG00000249335,ENSG00000286164,ENSG00000248461,ENSG00000236501,ENSG00000228113,ENSG00000259995,ENSG00000100351,ENSG00000248359,ENSG00000287523,ENSG00000287682,ENSG00000278107,ENSG00000198727,ENSG00000100336,ENSG00000233005,ENSG00000280007,ENSG00000198899,ENSG00000253766,ENSG00000272736,ENSG00000198938,ENSG00000138964,ENSG00000228135,ENSG00000227220,ENSG00000188130,ENSG00000272354,ENSG00000258081,ENSG00000099937\n",
    "```\n",
    "\n",
    "* batch 1 validation:\n",
    "```\n",
    "ENSG00000198804,ENSG00000100311,ENSG00000269028,ENSG00000272736,ENSG00000236501,ENSG00000258081,ENSG00000100351,ENSG00000249988,ENSG00000231128,ENSG00000198938,ENSG00000253988,ENSG00000100234,ENSG00000198712,ENSG00000198886,ENSG00000227220,ENSG00000198899,ENSG00000285875,ENSG00000100100,ENSG00000280560,ENSG00000198786,ENSG00000138964,ENSG00000198727,ENSG00000254138,ENSG00000228113,ENSG00000237356,ENSG00000198888,ENSG00000256287,ENSG00000176177,ENSG00000228334,ENSG00000258216,ENSG00000253766,ENSG00000198763,ENSG00000198840,ENSG00000188511,ENSG00000100077,ENSG00000258473,ENSG00000257277,ENSG00000287523\n",
    "```\n",
    "\n",
    "`ENSG00000198804|ENSG00000100311|ENSG00000269028|ENSG00000272736|ENSG00000236501|ENSG00000258081|ENSG00000100351|ENSG00000249988|ENSG00000231128|ENSG00000198938|ENSG00000253988|ENSG00000100234|ENSG00000198712|ENSG00000198886|ENSG00000227220|ENSG00000198899|ENSG00000285875|ENSG00000100100|ENSG00000280560|ENSG00000198786|ENSG00000138964|ENSG00000198727|ENSG00000254138|ENSG00000228113|ENSG00000237356|ENSG00000198888|ENSG00000256287|ENSG00000176177|ENSG00000228334|ENSG00000258216|ENSG00000253766|ENSG00000198763|ENSG00000198840|ENSG00000188511|ENSG00000100077|ENSG00000258473|ENSG00000257277|ENSG00000287523`\n",
    "\n",
    "* batch 1 test:\n",
    "```\n",
    "ENSG00000100234,ENSG00000188511,ENSG00000258216,ENSG00000198804,ENSG00000269028,ENSG00000280560,ENSG00000198763,ENSG00000100077,ENSG00000254138,ENSG00000100368,ENSG00000100311,ENSG00000198886,ENSG00000249988,ENSG00000253988,ENSG00000237838,ENSG00000128284,ENSG00000285875,ENSG00000198712,ENSG00000100100,ENSG00000198786,ENSG00000225465,ENSG00000255028,ENSG00000231128,ENSG00000198840,ENSG00000256287,ENSG00000253983,ENSG00000130487,ENSG00000198888,ENSG00000237356,ENSG00000100385,ENSG00000228113,ENSG00000100351,ENSG00000248359,ENSG00000287523,ENSG00000198727,ENSG00000280007,ENSG00000198899,ENSG00000253766,ENSG00000272736,ENSG00000128340,ENSG00000198938,ENSG00000138964,ENSG00000258081\n",
    "```\n",
    "* batch 2 train:\n",
    "```\n",
    "ENSG00000282111,ENSG00000054611,ENSG00000285875,ENSG00000237356,ENSG00000269900,ENSG00000239282,ENSG00000272650,ENSG00000198727,ENSG00000234688,ENSG00000198712,ENSG00000279345,ENSG00000273729,ENSG00000185386,ENSG00000100234,ENSG00000266908,ENSG00000236501,ENSG00000254028,ENSG00000100385,ENSG00000215067,ENSG00000198899,ENSG00000198786,ENSG00000188511,ENSG00000287440,ENSG00000100097,ENSG00000176177,ENSG00000260517,ENSG00000196576,ENSG00000255028,ENSG00000133475,ENSG00000015475,ENSG00000235295,ENSG00000198804,ENSG00000235568,ENSG00000258785,ENSG00000198938,ENSG00000138964,ENSG00000283504,ENSG00000269028,ENSG00000100351,ENSG00000280560,ENSG00000184058,ENSG00000267537,ENSG00000100345,ENSG00000198763,ENSG00000198840,ENSG00000273319,ENSG00000239498,ENSG00000253983,ENSG00000100368,ENSG00000100311,ENSG00000287523,ENSG00000198886,ENSG00000287682,ENSG00000249269,ENSG00000225676,ENSG00000212907,ENSG00000100350,ENSG00000231010,ENSG00000198888\n",
    "```\n",
    "* batch 2 val:\n",
    "```\n",
    "ENSG00000054611,ENSG00000285875,ENSG00000237356,ENSG00000269900,ENSG00000198727,ENSG00000198712,ENSG00000185386,ENSG00000215067,ENSG00000198899,ENSG00000198786,ENSG00000188511,ENSG00000287440,ENSG00000260517,ENSG00000196576,ENSG00000255028,ENSG00000015475,ENSG00000235271,ENSG00000198804,ENSG00000235568,ENSG00000198938,ENSG00000138964,ENSG00000269028,ENSG00000280560,ENSG00000100345,ENSG00000198763,ENSG00000198840,ENSG00000239498,ENSG00000100311,ENSG00000287523,ENSG00000198886,ENSG00000287682,ENSG00000212907,ENSG00000198888\n",
    "```\n",
    "* batch 2 test:\n",
    "```ENSG00000054611,ENSG00000285875,ENSG00000237356,ENSG00000269900,ENSG00000249335,ENSG00000231846,ENSG00000198727,ENSG00000198712,ENSG00000273729,ENSG00000185386,ENSG00000100234,ENSG00000215067,ENSG00000198899,ENSG00000198786,ENSG00000188511,ENSG00000100276,ENSG00000176177,ENSG00000260517,ENSG00000196576,ENSG00000255028,ENSG00000015475,ENSG00000198804,ENSG00000235568,ENSG00000198938,ENSG00000138964,ENSG00000269028,ENSG00000100351,ENSG00000280560,ENSG00000100345,ENSG00000198763,ENSG00000198840,ENSG00000239498,ENSG00000253983,ENSG00000100311,ENSG00000287523,ENSG00000198886,ENSG00000212907,ENSG00000100350,ENSG00000198888\n",
    "```"
   ]
  },
  {
   "cell_type": "code",
   "execution_count": 34,
   "metadata": {},
   "outputs": [],
   "source": [
    "import pyranges as pr"
   ]
  },
  {
   "cell_type": "code",
   "execution_count": 37,
   "metadata": {},
   "outputs": [],
   "source": [
    "b1_train_gid_missing = 'ENSG00000238042,ENSG00000286365,ENSG00000242753,ENSG00000100234,ENSG00000188511,ENSG00000258216,ENSG00000258473,ENSG00000198804,ENSG00000269028,ENSG00000280560,ENSG00000198763,ENSG00000100077,ENSG00000254138,ENSG00000100368,ENSG00000100311,ENSG00000198886,ENSG00000249988,ENSG00000231993,ENSG00000253988,ENSG00000237838,ENSG00000128284,ENSG00000285875,ENSG00000198712,ENSG00000100100,ENSG00000198786,ENSG00000176177,ENSG00000225465,ENSG00000255028,ENSG00000231128,ENSG00000260983,ENSG00000198840,ENSG00000256287,ENSG00000272755,ENSG00000253983,ENSG00000130487,ENSG00000265975,ENSG00000198888,ENSG00000237356,ENSG00000249335,ENSG00000286164,ENSG00000248461,ENSG00000236501,ENSG00000228113,ENSG00000259995,ENSG00000100351,ENSG00000248359,ENSG00000287523,ENSG00000287682,ENSG00000278107,ENSG00000198727,ENSG00000100336,ENSG00000233005,ENSG00000280007,ENSG00000198899,ENSG00000253766,ENSG00000272736,ENSG00000198938,ENSG00000138964,ENSG00000228135,ENSG00000227220,ENSG00000188130,ENSG00000272354,ENSG00000258081,ENSG00000099937'.split(',')"
   ]
  },
  {
   "cell_type": "code",
   "execution_count": 39,
   "metadata": {},
   "outputs": [],
   "source": [
    "b1_val_gid_missing = 'ENSG00000198804,ENSG00000100311,ENSG00000269028,ENSG00000272736,ENSG00000236501,ENSG00000258081,ENSG00000100351,ENSG00000249988,ENSG00000231128,ENSG00000198938,ENSG00000253988,ENSG00000100234,ENSG00000198712,ENSG00000198886,ENSG00000227220,ENSG00000198899,ENSG00000285875,ENSG00000100100,ENSG00000280560,ENSG00000198786,ENSG00000138964,ENSG00000198727,ENSG00000254138,ENSG00000228113,ENSG00000237356,ENSG00000198888,ENSG00000256287,ENSG00000176177,ENSG00000228334,ENSG00000258216,ENSG00000253766,ENSG00000198763,ENSG00000198840,ENSG00000188511,ENSG00000100077,ENSG00000258473,ENSG00000257277,ENSG00000287523'.split(',')"
   ]
  },
  {
   "cell_type": "code",
   "execution_count": 40,
   "metadata": {},
   "outputs": [],
   "source": [
    "b1_test_gid_missing = 'ENSG00000100234,ENSG00000188511,ENSG00000258216,ENSG00000198804,ENSG00000269028,ENSG00000280560,ENSG00000198763,ENSG00000100077,ENSG00000254138,ENSG00000100368,ENSG00000100311,ENSG00000198886,ENSG00000249988,ENSG00000253988,ENSG00000237838,ENSG00000128284,ENSG00000285875,ENSG00000198712,ENSG00000100100,ENSG00000198786,ENSG00000225465,ENSG00000255028,ENSG00000231128,ENSG00000198840,ENSG00000256287,ENSG00000253983,ENSG00000130487,ENSG00000198888,ENSG00000237356,ENSG00000100385,ENSG00000228113,ENSG00000100351,ENSG00000248359,ENSG00000287523,ENSG00000198727,ENSG00000280007,ENSG00000198899,ENSG00000253766,ENSG00000272736,ENSG00000128340,ENSG00000198938,ENSG00000138964,ENSG00000258081'.split(',')"
   ]
  },
  {
   "cell_type": "code",
   "execution_count": 38,
   "metadata": {},
   "outputs": [],
   "source": [
    "gene_pr = pr.read_gtf('../../data/reference/Homo_sapiens.GRCh38.113.gtf.gz')"
   ]
  },
  {
   "cell_type": "code",
   "execution_count": 43,
   "metadata": {},
   "outputs": [
    {
     "data": {
      "text/plain": [
       "145"
      ]
     },
     "execution_count": 43,
     "metadata": {},
     "output_type": "execute_result"
    }
   ],
   "source": [
    "sum(map(len, [b1_train_gid_missing, b1_val_gid_missing, b1_test_gid_missing]))"
   ]
  },
  {
   "cell_type": "code",
   "execution_count": 42,
   "metadata": {},
   "outputs": [],
   "source": [
    "b1_gid_notin_gtf = list()\n",
    "for gid_l in [b1_train_gid_missing, b1_val_gid_missing, b1_test_gid_missing]:\n",
    "    for gid in gid_l:\n",
    "        if gene_pr[gene_pr.gene_id == gid].empty:\n",
    "            b1_gid_notin_gtf.append(gid)"
   ]
  },
  {
   "cell_type": "code",
   "execution_count": 44,
   "metadata": {},
   "outputs": [
    {
     "data": {
      "text/plain": [
       "75"
      ]
     },
     "execution_count": 44,
     "metadata": {},
     "output_type": "execute_result"
    }
   ],
   "source": [
    "len(b1_gid_notin_gtf)"
   ]
  }
 ],
 "metadata": {
  "kernelspec": {
   "display_name": "ssb",
   "language": "python",
   "name": "python3"
  },
  "language_info": {
   "codemirror_mode": {
    "name": "ipython",
    "version": 3
   },
   "file_extension": ".py",
   "mimetype": "text/x-python",
   "name": "python",
   "nbconvert_exporter": "python",
   "pygments_lexer": "ipython3",
   "version": "3.12.9"
  }
 },
 "nbformat": 4,
 "nbformat_minor": 2
}
