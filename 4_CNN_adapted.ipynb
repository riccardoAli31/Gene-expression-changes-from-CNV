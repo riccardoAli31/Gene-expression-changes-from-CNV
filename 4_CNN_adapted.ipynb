{
 "cells": [
  {
   "cell_type": "markdown",
   "id": "59c7cf26",
   "metadata": {},
   "source": [
    "# CNN"
   ]
  },
  {
   "cell_type": "code",
   "execution_count": 1,
   "id": "2494f9d6",
   "metadata": {},
   "outputs": [],
   "source": [
    "from pathlib import Path\n",
    "import torch\n",
    "import pandas as pd\n",
    "import numpy as np\n",
    "import matplotlib.pyplot as plt\n",
    "from scipy.stats import spearmanr\n",
    "from sklearn.metrics import accuracy_score, precision_score, recall_score, f1_score, roc_auc_score\n",
    "from torch.utils.data import TensorDataset, DataLoader, random_split, Dataset\n",
    "from torch.amp import autocast\n",
    "from torch import nn, optim\n",
    "import copy\n",
    "from tqdm import tqdm\n",
    "\n",
    "%load_ext autoreload\n",
    "%autoreload 2"
   ]
  },
  {
   "cell_type": "code",
   "execution_count": 2,
   "id": "4f9db2f1-61ce-40c5-913b-c05157edfd4b",
   "metadata": {},
   "outputs": [],
   "source": [
    "from src.data.dataset import CnvDataset"
   ]
  },
  {
   "cell_type": "markdown",
   "id": "f703160d",
   "metadata": {},
   "source": [
    "Important paths:"
   ]
  },
  {
   "cell_type": "code",
   "execution_count": 3,
   "id": "f3e03ee3-668e-4efb-a12d-35caa925c42f",
   "metadata": {},
   "outputs": [],
   "source": [
    "git_root = Path('.')\n",
    "data_root = git_root / 'data'\n",
    "assert data_root.exists()"
   ]
  },
  {
   "cell_type": "markdown",
   "id": "a7f8b1df",
   "metadata": {},
   "source": [
    "Defining paths for batch 1."
   ]
  },
  {
   "cell_type": "code",
   "execution_count": 4,
   "id": "e8c18ef7-ead4-4c87-9e70-8fe209018cc5",
   "metadata": {},
   "outputs": [],
   "source": [
    "dataset_root_val = data_root / 'embeddings' / 'batch_1' / 'val'\n",
    "dataset_root_train = data_root / 'embeddings' / 'batch_1' / 'train'\n",
    "dataset_root_test = data_root / 'embeddings' / 'batch_1' / 'test'"
   ]
  },
  {
   "cell_type": "code",
   "execution_count": 5,
   "id": "09df35c1-f306-4340-afcf-fd7ed0f75c45",
   "metadata": {},
   "outputs": [
    {
     "data": {
      "text/html": [
       "<div>\n",
       "<style scoped>\n",
       "    .dataframe tbody tr th:only-of-type {\n",
       "        vertical-align: middle;\n",
       "    }\n",
       "\n",
       "    .dataframe tbody tr th {\n",
       "        vertical-align: top;\n",
       "    }\n",
       "\n",
       "    .dataframe thead th {\n",
       "        text-align: right;\n",
       "    }\n",
       "</style>\n",
       "<table border=\"1\" class=\"dataframe\">\n",
       "  <thead>\n",
       "    <tr style=\"text-align: right;\">\n",
       "      <th></th>\n",
       "      <th>barcode</th>\n",
       "      <th>gene_id</th>\n",
       "      <th>expression_count</th>\n",
       "      <th>classification</th>\n",
       "    </tr>\n",
       "  </thead>\n",
       "  <tbody>\n",
       "    <tr>\n",
       "      <th>0</th>\n",
       "      <td>AAACCAACATGTCAGC-1</td>\n",
       "      <td>ENSG00000269113</td>\n",
       "      <td>0.749940</td>\n",
       "      <td>low</td>\n",
       "    </tr>\n",
       "    <tr>\n",
       "      <th>1</th>\n",
       "      <td>AAACCAACATGTCAGC-1</td>\n",
       "      <td>ENSG00000229956</td>\n",
       "      <td>1.173642</td>\n",
       "      <td>high</td>\n",
       "    </tr>\n",
       "    <tr>\n",
       "      <th>2</th>\n",
       "      <td>AAACCAACATGTCAGC-1</td>\n",
       "      <td>ENSG00000237505</td>\n",
       "      <td>0.749940</td>\n",
       "      <td>low</td>\n",
       "    </tr>\n",
       "    <tr>\n",
       "      <th>3</th>\n",
       "      <td>AAACCAACATGTCAGC-1</td>\n",
       "      <td>ENSG00000188641</td>\n",
       "      <td>0.749940</td>\n",
       "      <td>low</td>\n",
       "    </tr>\n",
       "    <tr>\n",
       "      <th>4</th>\n",
       "      <td>AAACCAACATGTCAGC-1</td>\n",
       "      <td>ENSG00000162636</td>\n",
       "      <td>0.749940</td>\n",
       "      <td>low</td>\n",
       "    </tr>\n",
       "    <tr>\n",
       "      <th>...</th>\n",
       "      <td>...</td>\n",
       "      <td>...</td>\n",
       "      <td>...</td>\n",
       "      <td>...</td>\n",
       "    </tr>\n",
       "    <tr>\n",
       "      <th>59336</th>\n",
       "      <td>TTTGTTGGTGCCGCAA-1</td>\n",
       "      <td>ENSG00000198938</td>\n",
       "      <td>2.220852</td>\n",
       "      <td>high</td>\n",
       "    </tr>\n",
       "    <tr>\n",
       "      <th>59337</th>\n",
       "      <td>TTTGTTGGTGCCGCAA-1</td>\n",
       "      <td>ENSG00000198840</td>\n",
       "      <td>1.968703</td>\n",
       "      <td>high</td>\n",
       "    </tr>\n",
       "    <tr>\n",
       "      <th>59338</th>\n",
       "      <td>TTTGTTGGTGCCGCAA-1</td>\n",
       "      <td>ENSG00000198886</td>\n",
       "      <td>1.116385</td>\n",
       "      <td>high</td>\n",
       "    </tr>\n",
       "    <tr>\n",
       "      <th>59339</th>\n",
       "      <td>TTTGTTGGTGCCGCAA-1</td>\n",
       "      <td>ENSG00000198786</td>\n",
       "      <td>1.406267</td>\n",
       "      <td>high</td>\n",
       "    </tr>\n",
       "    <tr>\n",
       "      <th>59340</th>\n",
       "      <td>TTTGTTGGTGCCGCAA-1</td>\n",
       "      <td>ENSG00000198727</td>\n",
       "      <td>2.422053</td>\n",
       "      <td>high</td>\n",
       "    </tr>\n",
       "  </tbody>\n",
       "</table>\n",
       "<p>59341 rows × 4 columns</p>\n",
       "</div>"
      ],
      "text/plain": [
       "                  barcode          gene_id  expression_count classification\n",
       "0      AAACCAACATGTCAGC-1  ENSG00000269113          0.749940            low\n",
       "1      AAACCAACATGTCAGC-1  ENSG00000229956          1.173642           high\n",
       "2      AAACCAACATGTCAGC-1  ENSG00000237505          0.749940            low\n",
       "3      AAACCAACATGTCAGC-1  ENSG00000188641          0.749940            low\n",
       "4      AAACCAACATGTCAGC-1  ENSG00000162636          0.749940            low\n",
       "...                   ...              ...               ...            ...\n",
       "59336  TTTGTTGGTGCCGCAA-1  ENSG00000198938          2.220852           high\n",
       "59337  TTTGTTGGTGCCGCAA-1  ENSG00000198840          1.968703           high\n",
       "59338  TTTGTTGGTGCCGCAA-1  ENSG00000198886          1.116385           high\n",
       "59339  TTTGTTGGTGCCGCAA-1  ENSG00000198786          1.406267           high\n",
       "59340  TTTGTTGGTGCCGCAA-1  ENSG00000198727          2.422053           high\n",
       "\n",
       "[59341 rows x 4 columns]"
      ]
     },
     "execution_count": 5,
     "metadata": {},
     "output_type": "execute_result"
    }
   ],
   "source": [
    "b1_val_path = data_root / 'splits' / 'batch1_val_filtered.tsv'\n",
    "b1_val_df = pd.read_csv(b1_val_path, sep='\\t')\n",
    "b1_val_df\n",
    "\n",
    "b1_train_path = data_root / 'splits' / 'batch1_training_filtered.tsv'\n",
    "b1_train_df = pd.read_csv(b1_train_path, sep='\\t')\n",
    "b1_train_df\n",
    "\n",
    "# b1_test_path = data_root / 'splits' / 'batch1_test_filtered.tsv'\n",
    "# b1_test_df = pd.read_csv(b1_test_path, sep='\\t')\n",
    "# b1_test_df"
   ]
  },
  {
   "cell_type": "code",
   "execution_count": 6,
   "id": "74c0d08c-1938-44b4-928d-6861b35cd2bd",
   "metadata": {},
   "outputs": [
    {
     "name": "stdout",
     "output_type": "stream",
     "text": [
      "Using 51 barcodes\n",
      "Using 1093 genes\n",
      "No embedding files for 988 data points in data/embeddings/batch_1/val/single_gene_barcode!\n",
      "Using 356 barcodes\n",
      "Using 1595 genes\n",
      "No embedding files for 4335 data points in data/embeddings/batch_1/train/single_gene_barcode!\n"
     ]
    }
   ],
   "source": [
    "b1_val_dataset = CnvDataset(root=dataset_root_val, data_df=b1_val_df)\n",
    "\n",
    "b1_train_dataset = CnvDataset(root=dataset_root_train, data_df=b1_train_df)\n",
    "\n",
    "# b1_test_dataset = CnvDataset(root=dataset_root_test, data_df=b1_test_df)"
   ]
  },
  {
   "cell_type": "code",
   "execution_count": 8,
   "id": "3e5b391b",
   "metadata": {},
   "outputs": [
    {
     "name": "stdout",
     "output_type": "stream",
     "text": [
      "The tensorboard extension is already loaded. To reload it, use:\n",
      "  %reload_ext tensorboard\n"
     ]
    },
    {
     "data": {
      "text/plain": [
       "Reusing TensorBoard on port 6006 (pid 4151746), started 0:00:38 ago. (Use '!kill 4151746' to kill it.)"
      ]
     },
     "metadata": {},
     "output_type": "display_data"
    },
    {
     "data": {
      "text/html": [
       "\n",
       "      <iframe id=\"tensorboard-frame-395e3af3fce35add\" width=\"100%\" height=\"800\" frameborder=\"0\">\n",
       "      </iframe>\n",
       "      <script>\n",
       "        (function() {\n",
       "          const frame = document.getElementById(\"tensorboard-frame-395e3af3fce35add\");\n",
       "          const url = new URL(\"http://localhost\");\n",
       "          const port = 6006;\n",
       "          if (port) {\n",
       "            url.port = port;\n",
       "          }\n",
       "          frame.src = url;\n",
       "        })();\n",
       "      </script>\n",
       "    "
      ],
      "text/plain": [
       "<IPython.core.display.HTML object>"
      ]
     },
     "metadata": {},
     "output_type": "display_data"
    }
   ],
   "source": [
    "%load_ext tensorboard\n",
    "%tensorboard --logdir=./log/tensorboard --port 6006"
   ]
  },
  {
   "cell_type": "code",
   "execution_count": null,
   "id": "88fc157c",
   "metadata": {},
   "outputs": [],
   "source": [
    "# define hparams\n",
    "hparams = {\n",
    "    'batch_size': 32,\n",
    "    'epochs': 3, # 20\n",
    "    'lr': 1e-3\n",
    "}\n",
    "sequ_len = 10000 ##### add correct one\n",
    "\n",
    "epochs = 20"
   ]
  },
  {
   "cell_type": "code",
   "execution_count": null,
   "id": "6f8a3f53",
   "metadata": {},
   "outputs": [],
   "source": [
    "device = torch.device('cuda:0' if torch.cuda.is_available() else 'cpu')\n",
    "print('Using device:', device)"
   ]
  },
  {
   "cell_type": "code",
   "execution_count": null,
   "id": "93587a35",
   "metadata": {},
   "outputs": [],
   "source": [
    "def create_tqdm_bar(iterable, desc):\n",
    "    return tqdm(enumerate(iterable),total=len(iterable), ncols=150, desc=desc)\n",
    "\n",
    "def train_model(model, train_loader, val_loader, tb_logger, name='default'):\n",
    "    \"\"\"\n",
    "    Model training function.\n",
    "    \"\"\"\n",
    "    \n",
    "    optimizer = torch.optim.Adam(\n",
    "        model.parameters(),\n",
    "        lr=hparams.get('lr', 1e-3)\n",
    "    )\n",
    "    criterion = nn.BCEWithLogitsLoss()\n",
    "    # scheduler = optim.lr_scheduler.StepLR(optimizer, step_size=10, gamma=0.1)\n",
    "    epochs = hparams.get('epochs', 3)\n",
    "\n",
    "    model = model.to(device)\n",
    "\n",
    "    validation_loss = 0\n",
    "\n",
    "    # Riccardo\n",
    "    best_val_loss = float('inf')\n",
    "    \n",
    "    train_losses_avg = []\n",
    "    val_losses_avg = []\n",
    "    best_model = None\n",
    "\n",
    "    for epoch in range(epochs):\n",
    "\n",
    "        # training\n",
    "        model.train()\n",
    "\n",
    "        train_loss = 0\n",
    "        train_losses = []\n",
    "        \n",
    "        train_loop = create_tqdm_bar(\n",
    "            train_loader, desc=f'Training Epoch [{epoch + 1}/{epochs}]'\n",
    "            )\n",
    "        for train_i, (stacked_inputs_batch, y_batch) in train_loop:\n",
    "\n",
    "            stacked_inputs_batch = stacked_inputs_batch.to(device)\n",
    "            y_batch = y_batch.to(device) # , non_blocking=True\n",
    "            #stacked_inputs_batch = stacked_inputs_batch.unsqueeze(0)\n",
    "\n",
    "            optimizer.zero_grad()\n",
    "\n",
    "            # with autocast(device_type=device):   \n",
    "            outputs = model(stacked_inputs_batch)\n",
    "            loss = criterion(outputs, y_batch)\n",
    "            loss.backward()\n",
    "            optimizer.step()\n",
    "            # scheduler.step()\n",
    "\n",
    "            train_loss += loss.item()\n",
    "            train_losses.append(loss.item())\n",
    "            \n",
    "            # Update the progress bar.\n",
    "            train_loop.set_postfix(\n",
    "                curr_train_loss = \"{:.8f}\".format(train_loss / (train_i + 1)), \n",
    "                val_loss = \"{:.8f}\".format(validation_loss)\n",
    "                )\n",
    "\n",
    "            # Update the tensorboard logger.\n",
    "            tb_logger.add_scalar(\n",
    "                f'CNV_model_{name}/train_loss', loss.item(), \n",
    "                epoch * len(train_loader) + train_i\n",
    "                )\n",
    "            \n",
    "        avg_train_loss = sum(train_losses) / len(train_losses)\n",
    "        train_losses_avg.append(avg_train_loss)\n",
    "    \n",
    "        # print(f\"Epoch {epoch + 1}/{epochs}, Loss: {train_loss / len(train_loader):.4f}\")\n",
    "    \n",
    "        # validation\n",
    "        model.eval()\n",
    "        val_losses = []\n",
    "        val_loss = 0\n",
    "        val_loop = create_tqdm_bar(\n",
    "            val_loader, desc=f'Validation Epoch [{epoch + 1}/{epochs}]'\n",
    "            )\n",
    "        with torch.no_grad():\n",
    "            for val_i, (stacked_inputs_batch, y_batch) in val_loop:\n",
    "\n",
    "                stacked_inputs_batch = stacked_inputs_batch.to(device)\n",
    "                y_batch = y_batch.to(device) # , non_blocking=True\n",
    "                #stacked_inputs_batch = stacked_inputs_batch.unsqueeze(0)\n",
    "\n",
    "                # with torch.no_grad(), autocast():\n",
    "                y_pred = model(stacked_inputs_batch)\n",
    "                loss = criterion(y_pred, y_batch)\n",
    "                val_losses.append(loss.item())\n",
    "                val_loss += loss.item()\n",
    "\n",
    "                # Update the progress bar.\n",
    "                val_loop.set_postfix(\n",
    "                    val_loss = \"{:.8f}\".format(validation_loss / (val_i + 1))\n",
    "                    )\n",
    "\n",
    "                # Update the tensorboard logger.\n",
    "                tb_logger.add_scalar(\n",
    "                    f'CNV_model_{name}/val_loss', loss.item(), \n",
    "                    epoch * len(val_loader) + val_i\n",
    "                    )\n",
    "\n",
    "            avg_val_loss = sum(val_losses) / len(val_losses)\n",
    "            val_losses_avg.append(avg_val_loss)\n",
    "            # print(f'Epoch {epoch+1}, Val loss: {avg_val_loss}')\n",
    "            if avg_val_loss < best_val_loss:\n",
    "                best_val_loss = avg_val_loss\n",
    "                best_model = copy.deepcopy(model.state_dict())\n",
    "        \n",
    "        # This value is used for the progress bar of the training loop.\n",
    "        validation_loss /= len(val_loader)\n",
    "\n",
    "    plt.plot(train_losses_avg[1:], label='Train Loss')\n",
    "    plt.plot(val_losses_avg[1:], label='Val Loss')\n",
    "    plt.legend()\n",
    "    plt.show()\n",
    "            \n",
    "    return avg_val_loss, best_model"
   ]
  },
  {
   "cell_type": "code",
   "execution_count": null,
   "id": "8f8e2555",
   "metadata": {},
   "outputs": [],
   "source": [
    "def evaluate_model(model, dataset):\n",
    "    model.eval()\n",
    "    model.to(device)\n",
    "    criterion = torch.nn.BCEWithLogitsLoss()\n",
    "    dataloader = DataLoader(dataset, batch_size=1, shuffle=False)\n",
    "    loss = 0\n",
    "    for dna_embedding, target in dataloader:\n",
    "        dna_embedding, target = dna_embedding.to(device), target.to(device)\n",
    "        y_hat = model(dna_embedding)\n",
    "        loss += criterion(target, y_hat).item()\n",
    "    return 1.0 / (2 * (loss / len(dataloader)))"
   ]
  },
  {
   "cell_type": "markdown",
   "id": "31800506",
   "metadata": {},
   "source": [
    "Setup tensorboard logging for training."
   ]
  },
  {
   "cell_type": "code",
   "execution_count": null,
   "id": "10aeb8e9",
   "metadata": {},
   "outputs": [],
   "source": [
    "from torch.utils.tensorboard import SummaryWriter\n",
    "tb_log_path = Path('log') / 'tensorboard'\n",
    "run_number = len([\n",
    "    d for d in tb_log_path.iterdir() if d.is_dir() and d.name.startswith('run_')\n",
    "    ])\n",
    "tb_log_path = tb_log_path / 'run_' + run_number\n",
    "tb_logger = SummaryWriter(tb_log_path)"
   ]
  },
  {
   "cell_type": "markdown",
   "id": "3632a651",
   "metadata": {},
   "source": [
    "Setup data and hparams for training."
   ]
  },
  {
   "cell_type": "code",
   "execution_count": null,
   "id": "6b3b1034",
   "metadata": {},
   "outputs": [],
   "source": [
    "batch_size = hparams.get('batch_size', 32)\n",
    "train_loader = DataLoader(b1_train_dataset, batch_size=batch_size, shuffle=True)\n",
    "val_loader = DataLoader(b1_val_dataset, batch_size=batch_size, shuffle=True)\n",
    "# test_loader = DataLoader(b1_test_dataset, batch_size=BATCH_SIZE, shuffle=False)"
   ]
  },
  {
   "cell_type": "markdown",
   "id": "a6946339",
   "metadata": {},
   "source": [
    "Select model."
   ]
  },
  {
   "cell_type": "code",
   "execution_count": null,
   "id": "fd8136cb",
   "metadata": {},
   "outputs": [],
   "source": [
    "from src.network.chromosome_cnn import ChromosomeCNN"
   ]
  },
  {
   "cell_type": "code",
   "execution_count": null,
   "id": "aed2ed99",
   "metadata": {},
   "outputs": [],
   "source": [
    "cnn_model = ChromosomeCNN(input_dim=7, seq_len=10_000, output_dim=1)"
   ]
  },
  {
   "cell_type": "code",
   "execution_count": null,
   "id": "7f7a498f",
   "metadata": {},
   "outputs": [],
   "source": [
    "train_model(cnn_model, train_loader, val_loader, tb_logger, name='ChromosomeCNN')"
   ]
  },
  {
   "cell_type": "code",
   "execution_count": 13,
   "id": "7194e15c",
   "metadata": {},
   "outputs": [],
   "source": [
    "def ablation_study_evaluation(train_loader, val_loader, test_loader, channel_variable_counts, seq_len, num_epochs):\n",
    "\n",
    "    print(\"Training with all channels intact...\")\n",
    "    num_channels = 7\n",
    "    \n",
    "    full_train_loader = full_study(train_loader)\n",
    "    full_val_loader = full_study(val_loader)\n",
    "    full_test_loader = full_study(test_loader)\n",
    "    \n",
    "    model = ChromosomeCNN(input_dim = num_channels, seq_len = seq_len, output_dim = 1).to(device)\n",
    "    baseline_loss = train_(model, full_train_loader, full_val_loader, num_epochs)\n",
    "    \n",
    "    torch.save({\n",
    "        'model_state_dict': model.state_dict(),\n",
    "    }, 'baseline_model.pth')\n",
    "    \n",
    "    baseline_test = test_model(\"baseline_model.pth\", full_test_loader, num_channels, seq_len)\n",
    "\n",
    "    for channel_idx in range(3):\n",
    "        print(f\"\\nAblating channel {channel_idx}...\")\n",
    "        \n",
    "        remaining_channels = [i for i in range(3) if i != channel_idx]\n",
    "        remaining_variables = sum(channel_variable_counts[i] for i in remaining_channels)\n",
    "        print(\"remaing variables\", remaining_variables)\n",
    "        \n",
    "        model = ChromosomeCNN(input_dim = remaining_variables, seq_len = seq_len, output_dim = 1).to(device)\n",
    "        \n",
    "        ablated_train_loader = create_ablated_dataloader(train_loader, channel_idx, channel_variable_counts)\n",
    "        ablated_val_loader = create_ablated_dataloader(val_loader, channel_idx, channel_variable_counts)\n",
    "        ablated_test_loader = create_ablated_dataloader(test_loader, channel_idx, channel_variable_counts)\n",
    "\n",
    "        \n",
    "        model_ablated = ChromosomeCNN(input_dim=remaining_variables, seq_len=seq_len, output_dim=1).to(device)\n",
    "        ablated_model_name = f\"ablated_model_channel_{channel_idx}\"\n",
    "        \n",
    "        ablated_loss = train_(model_ablated, ablated_train_loader, ablated_val_loader, epochs)#, ablated_model_name)\n",
    "        \n",
    "        ablated_model_filename = f'ablated_model_channel_{channel_idx}.pth'\n",
    "        torch.save({\n",
    "            'model_state_dict': model_ablated.state_dict(),\n",
    "        }, ablated_model_filename)\n",
    "\n",
    "        results = {}\n",
    "        results[f\"Ablated Channel {channel_idx}\"] = test_model(\n",
    "            f\"{ablated_model_name}.pth\", ablated_test_loader, remaining_variables, seq_len\n",
    "        )\n",
    "        \n",
    "        \n",
    "        print(f\"Loss after ablating channel {channel_idx}: {ablated_loss:.4f}\")\n",
    "        print(f\"Performance drop: {baseline_loss - ablated_loss:.4f}\")"
   ]
  },
  {
   "cell_type": "code",
   "execution_count": 14,
   "id": "6ed25909",
   "metadata": {},
   "outputs": [],
   "source": [
    "def test_model(model_path, test_loader, total_variables, seq_len):\n",
    "\n",
    "    model = ChromosomeCNN(input_dim=total_variables, seq_len=seq_len, output_dim=1).to(device)\n",
    "    checkpoint = torch.load(model_path)\n",
    "    \n",
    "    input_tensor = torch.zeros(1, model.input_dim, model.seq_len).to(device)\n",
    "    model(input_tensor)\n",
    "    \n",
    "    model.load_state_dict(checkpoint['model_state_dict'])\n",
    "    \n",
    "    model.eval()\n",
    "\n",
    "    criterion = nn.BCEWithLogitsLoss()\n",
    "    test_losses = []\n",
    "    all_predictions = []\n",
    "    all_labels = []\n",
    "\n",
    "    with torch.no_grad():\n",
    "        for stacked_inputs_batch, y_batch in test_loader:\n",
    "            stacked_inputs_batch = stacked_inputs_batch.to(device)\n",
    "            y_batch = y_batch.to(device, non_blocking=True)\n",
    "            #stacked_inputs_batch = stacked_inputs_batch.unsqueeze(0)\n",
    "\n",
    "            with autocast():\n",
    "                outputs = model(stacked_inputs_batch)\n",
    "                loss = criterion(outputs, y_batch)\n",
    "                test_losses.append(loss.item())\n",
    "\n",
    "                all_predictions.append(outputs.cpu().numpy())\n",
    "                all_labels.append(y_batch.cpu().numpy())\n",
    "\n",
    "    avg_test_loss = sum(test_losses) / len(test_losses)\n",
    "    print(f\"Test MSE: {avg_test_loss:.4f}\")\n",
    "\n",
    "    all_predictions = np.concatenate(all_predictions, axis=0)\n",
    "    all_labels = np.concatenate(all_labels, axis=0)\n",
    "\n",
    "    probabilities = 1 / (1 + np.exp(-all_predictions))  # Sigmoid function\n",
    "    predicted_classes = (probabilities >= 0.5).astype(int)  # Convert to 0 or 1 based on threshold\n",
    "\n",
    "    # Compute accuracy and other metrics\n",
    "    accuracy = accuracy_score(all_labels, predicted_classes)\n",
    "    precision = precision_score(all_labels, predicted_classes)\n",
    "    recall = recall_score(all_labels, predicted_classes)\n",
    "    f1 = f1_score(all_labels, predicted_classes)\n",
    "    auc = roc_auc_score(all_labels, probabilities)\n",
    "\n",
    "    print(f'Accuracy: {accuracy:.4f}')\n",
    "    print(f'Precision: {precision:.4f}')\n",
    "    print(f'Recall: {recall:.4f}')\n",
    "    print(f'F1 Score: {f1:.4f}')\n",
    "    print(f'AUC: {auc:.4f}')\n",
    "    \n",
    "    return avg_test_loss"
   ]
  },
  {
   "cell_type": "code",
   "execution_count": null,
   "id": "ba4c3795",
   "metadata": {},
   "outputs": [
    {
     "name": "stdout",
     "output_type": "stream",
     "text": [
      "Training with all channels intact...\n"
     ]
    },
    {
     "name": "stderr",
     "output_type": "stream",
     "text": [
      "/tmp/ipykernel_4119696/1265460881.py:33: FutureWarning: `torch.cuda.amp.autocast(args...)` is deprecated. Please use `torch.amp.autocast('cuda', args...)` instead.\n",
      "  with autocast():\n",
      "/vol/storage/shared/miniforge3/envs/ssb/lib/python3.12/site-packages/torch/amp/autocast_mode.py:266: UserWarning: User provided device_type of 'cuda', but CUDA is not available. Disabling\n",
      "  warnings.warn(\n"
     ]
    }
   ],
   "source": [
    "embedding_dim = 4  \n",
    "cnv_dim = 2        \n",
    "chromatin_dim = 1  \n",
    "expression_dim = 1\n",
    "seq_len=10_000\n",
    "\n",
    "ablation_study_evaluation(train_loader, val_loader, test_loader, channel_variable_counts=[embedding_dim, cnv_dim, chromatin_dim], seq_len=seq_len, num_epochs=epochs)"
   ]
  },
  {
   "cell_type": "code",
   "execution_count": null,
   "id": "d6733641",
   "metadata": {},
   "outputs": [],
   "source": [
    "#model.eval()\n",
    "#correct = 0\n",
    "#total = 0\n",
    "#with torch.no_grad():\n",
    "#    for X_batch, y_batch in test_loader:\n",
    "#        X_batch, y_batch = X_batch.to(device).unsqueeze(1), y_batch.to(device).unsqueeze(1)\n",
    "#        outputs = model(X_batch)\n",
    "#        predictions = (outputs > 0.5).float()\n",
    "#        correct += (predictions == y_batch).sum().item()\n",
    "#        total += y_batch.size(0)\n",
    "\n",
    "#accuracy = correct / total\n",
    "#print(f\"Test Accuracy: {accuracy * 100:.2f}%\")"
   ]
  },
  {
   "cell_type": "code",
   "execution_count": null,
   "id": "26d2b822",
   "metadata": {},
   "outputs": [],
   "source": [
    "#model.load_state_dict(best_model)\n",
    "#model.eval()\n",
    "#test_losses = []\n",
    "#y_preds = []\n",
    "#y_actuals = []\n",
    "\n",
    "#scaler = GradScaler()\n",
    "\n",
    "#for X_batch, cnv_batch, y_batch in test_loader:\n",
    "\n",
    "#    X_batch = X_batch.unsqueeze(1).to(device, non_blocking=True)\n",
    "#    cnv_batch = cnv_batch.to(device)\n",
    "#    y_batch = y_batch.to(device, non_blocking=True)\n",
    "    \n",
    "#    with torch.no_grad(), autocast():\n",
    "#        y_pred = model(X_batch, cnv_batch)\n",
    "#        lossV = criterion(y_pred, y_batch)\n",
    "        \n",
    "#        y_preds.extend(y_pred.cpu().numpy())\n",
    "#        y_actuals.extend(y_batch.cpu().numpy())\n",
    "#        test_losses.append(lossV.item())\n",
    "\n",
    "#avg_test_loss = sum(test_losses) / len(test_losses)\n",
    "#print(f'Test MSE: {avg_test_loss}')"
   ]
  },
  {
   "cell_type": "code",
   "execution_count": null,
   "id": "4526be2f",
   "metadata": {},
   "outputs": [],
   "source": [
    "def model_summary(model):\n",
    "    print(\"Model Summary:\")\n",
    "    print(\"{:<50} {:<30} {:<15} {:<15}\".format(\"Layer Name\", \"Shape\", \"Parameters\", \"Trainable\"))\n",
    "    print(\"-\" * 110)\n",
    "    total_params = 0\n",
    "    total_trainable_params = 0\n",
    "    lm_params = 0\n",
    "    lm_trainable_params = 0\n",
    "    lm_layers = 0\n",
    "    for name, parameter in model.named_parameters():\n",
    "        param = parameter.numel()\n",
    "        total_params += param\n",
    "        # Check if the parameter is trainable\n",
    "        trainable = parameter.requires_grad\n",
    "        trainable_param = param if trainable else 0\n",
    "        total_trainable_params += trainable_param\n",
    "        print(\"{:<50} {:<30} {:<15} {:<15}\".format(name, str(parameter.size()), param, trainable_param))\n",
    "    print(\"-\" * 110)\n",
    "    print(f\"Total Parameters: {total_params}\")\n",
    "    print(f\"Trainable Parameters: {total_trainable_params}\")\n",
    "\n",
    "#model_summary(model)"
   ]
  },
  {
   "cell_type": "code",
   "execution_count": null,
   "id": "c1dc12ba",
   "metadata": {},
   "outputs": [],
   "source": []
  },
  {
   "cell_type": "code",
   "execution_count": null,
   "id": "b736c759",
   "metadata": {},
   "outputs": [],
   "source": []
  },
  {
   "cell_type": "code",
   "execution_count": null,
   "id": "21f4556a",
   "metadata": {},
   "outputs": [],
   "source": []
  }
 ],
 "metadata": {
  "kernelspec": {
   "display_name": "ssb",
   "language": "python",
   "name": "python3"
  },
  "language_info": {
   "codemirror_mode": {
    "name": "ipython",
    "version": 3
   },
   "file_extension": ".py",
   "mimetype": "text/x-python",
   "name": "python",
   "nbconvert_exporter": "python",
   "pygments_lexer": "ipython3",
   "version": "3.12.9"
  }
 },
 "nbformat": 4,
 "nbformat_minor": 5
}
